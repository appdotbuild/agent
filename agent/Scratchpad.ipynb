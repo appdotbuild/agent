{
 "cells": [
  {
   "cell_type": "code",
   "execution_count": 1,
   "metadata": {},
   "outputs": [],
   "source": [
    "%load_ext autoreload\n",
    "%autoreload 2"
   ]
  },
  {
   "cell_type": "code",
   "execution_count": 2,
   "metadata": {},
   "outputs": [],
   "source": [
    "import re\n",
    "import jinja2\n",
    "from anthropic import AnthropicBedrock\n",
    "from core import stages\n",
    "import json\n"
   ]
  },
  {
   "cell_type": "code",
   "execution_count": 3,
   "metadata": {},
   "outputs": [],
   "source": [
    "client = AnthropicBedrock(aws_profile=\"dev\", aws_region=\"us-west-2\")"
   ]
  },
  {
   "cell_type": "code",
   "execution_count": 4,
   "metadata": {},
   "outputs": [],
   "source": [
    "environment = jinja2.Environment()"
   ]
  },
  {
   "cell_type": "code",
   "execution_count": 5,
   "metadata": {},
   "outputs": [],
   "source": [
    "tsp_tpl = environment.from_string(stages.typespec.PROMPT)\n",
    "dzl_tpl = environment.from_string(stages.drizzle.PROMPT)\n",
    "rtr_tpl = environment.from_string(stages.router.PROMPT)\n",
    "hdl_tpl = environment.from_string(stages.handlers.PROMPT)\n",
    "pre_tpl = environment.from_string(stages.processors.PROMPT_PRE)"
   ]
  },
  {
   "cell_type": "code",
   "execution_count": 6,
   "metadata": {},
   "outputs": [],
   "source": [
    "application_description = \"\"\"\n",
    "Bot that tracks my exercise routine in the gym, tracks progress and suggests new routines\n",
    "for specific list of available equipment and time constraints.\n",
    "\"\"\".strip()"
   ]
  },
  {
   "cell_type": "code",
   "execution_count": 7,
   "metadata": {},
   "outputs": [],
   "source": [
    "prompt = tsp_tpl.render(\n",
    "    application_description=application_description,\n",
    ")\n",
    "\n",
    "tsp_response = client.messages.create(\n",
    "    model=\"anthropic.claude-3-5-sonnet-20241022-v2:0\",\n",
    "    max_tokens=8192,\n",
    "    messages=[{\"role\": \"user\", \"content\": prompt}]\n",
    ")\n",
    "typespec = stages.typespec.parse_output(tsp_response.content[0].text)"
   ]
  },
  {
   "cell_type": "code",
   "execution_count": 8,
   "metadata": {},
   "outputs": [
    {
     "data": {
      "text/plain": [
       "{'reasoning': 'For a gym tracking bot, I expect users to send messages like:\\n- \"I did 3 sets of bench press with 80kg\"\\n- \"Show my progress for bench press\"\\n- \"Suggest a 30-minute workout for chest with dumbbells\"\\n\\nThe LLM needs to extract:\\n1. Exercise details (name, sets, reps, weight)\\n2. Time periods for progress tracking\\n3. Equipment availability and time constraints for suggestions\\n\\nKey operations:\\n- Record completed exercises\\n- Track progress over time\\n- Generate workout plans based on constraints\\n- List available equipment (to know what can be used in routines)\\n\\nThe Exercise model needs to capture:\\n- Exercise name\\n- Sets, reps, weight used\\n- Equipment required\\n- Target muscle groups',\n",
       " 'typespec_definitions': 'model Exercise {\\n    name: string;\\n    sets: integer;\\n    reps: integer;\\n    weight: float;\\n    equipment: string;\\n    muscleGroups: string[];\\n}\\n\\nmodel WorkoutPlan {\\n    duration: duration;\\n    exercises: Exercise[];\\n    restBetweenSets: duration;\\n}\\n\\nmodel Equipment {\\n    name: string;\\n    type: string;\\n    isAvailable: boolean;\\n}\\n\\ninterface GymBot {\\n    @llm_func(2)\\n    recordExercise(exercise: Exercise): void;\\n\\n    @llm_func(1)\\n    trackProgress(exerciseName: string, from: utcDateTime, to: utcDateTime): Exercise[];\\n\\n    @llm_func(1)\\n    suggestWorkout(duration: duration, targetMuscles: string[], availableEquipment: string[]): WorkoutPlan;\\n\\n    @llm_func(1)\\n    updateEquipment(equipment: Equipment[]): void;\\n}',\n",
       " 'llm_functions': ['recordExercise',\n",
       "  'trackProgress',\n",
       "  'suggestWorkout',\n",
       "  'updateEquipment']}"
      ]
     },
     "execution_count": 8,
     "metadata": {},
     "output_type": "execute_result"
    }
   ],
   "source": [
    "typespec"
   ]
  },
  {
   "cell_type": "code",
   "execution_count": 9,
   "metadata": {},
   "outputs": [
    {
     "name": "stdout",
     "output_type": "stream",
     "text": [
      "For a gym tracking bot, I expect users to send messages like:\n",
      "- \"I did 3 sets of bench press with 80kg\"\n",
      "- \"Show my progress for bench press\"\n",
      "- \"Suggest a 30-minute workout for chest with dumbbells\"\n",
      "\n",
      "The LLM needs to extract:\n",
      "1. Exercise details (name, sets, reps, weight)\n",
      "2. Time periods for progress tracking\n",
      "3. Equipment availability and time constraints for suggestions\n",
      "\n",
      "Key operations:\n",
      "- Record completed exercises\n",
      "- Track progress over time\n",
      "- Generate workout plans based on constraints\n",
      "- List available equipment (to know what can be used in routines)\n",
      "\n",
      "The Exercise model needs to capture:\n",
      "- Exercise name\n",
      "- Sets, reps, weight used\n",
      "- Equipment required\n",
      "- Target muscle groups\n"
     ]
    }
   ],
   "source": [
    "print(typespec[\"reasoning\"])"
   ]
  },
  {
   "cell_type": "code",
   "execution_count": 10,
   "metadata": {},
   "outputs": [
    {
     "name": "stdout",
     "output_type": "stream",
     "text": [
      "model Exercise {\n",
      "    name: string;\n",
      "    sets: integer;\n",
      "    reps: integer;\n",
      "    weight: float;\n",
      "    equipment: string;\n",
      "    muscleGroups: string[];\n",
      "}\n",
      "\n",
      "model WorkoutPlan {\n",
      "    duration: duration;\n",
      "    exercises: Exercise[];\n",
      "    restBetweenSets: duration;\n",
      "}\n",
      "\n",
      "model Equipment {\n",
      "    name: string;\n",
      "    type: string;\n",
      "    isAvailable: boolean;\n",
      "}\n",
      "\n",
      "interface GymBot {\n",
      "    @llm_func(2)\n",
      "    recordExercise(exercise: Exercise): void;\n",
      "\n",
      "    @llm_func(1)\n",
      "    trackProgress(exerciseName: string, from: utcDateTime, to: utcDateTime): Exercise[];\n",
      "\n",
      "    @llm_func(1)\n",
      "    suggestWorkout(duration: duration, targetMuscles: string[], availableEquipment: string[]): WorkoutPlan;\n",
      "\n",
      "    @llm_func(1)\n",
      "    updateEquipment(equipment: Equipment[]): void;\n",
      "}\n"
     ]
    }
   ],
   "source": [
    "print(typespec[\"typespec_definitions\"])"
   ]
  },
  {
   "cell_type": "code",
   "execution_count": 11,
   "metadata": {},
   "outputs": [],
   "source": [
    "prompt = dzl_tpl.render(\n",
    "    typespec_definitions=typespec[\"typespec_definitions\"],\n",
    ")\n",
    "\n",
    "dzl_response = client.messages.create(\n",
    "    model=\"anthropic.claude-3-5-sonnet-20241022-v2:0\",\n",
    "    max_tokens=8192,\n",
    "    messages=[{\"role\": \"user\", \"content\": prompt}]\n",
    ")\n",
    "drizzle = stages.drizzle.parse_output(dzl_response.content[0].text)"
   ]
  },
  {
   "cell_type": "code",
   "execution_count": 12,
   "metadata": {},
   "outputs": [
    {
     "name": "stdout",
     "output_type": "stream",
     "text": [
      "import { integer, pgTable, text, real, boolean, timestamp, array } from \"drizzle-orm/pg-core\";\n",
      "import { relations } from \"drizzle-orm\";\n",
      "\n",
      "// Muscle groups table\n",
      "export const muscleGroupsTable = pgTable(\"muscle_groups\", {\n",
      "  id: integer(\"id\").primaryKey().generatedAlwaysAsIdentity(),\n",
      "  name: text(\"name\").notNull().unique()\n",
      "});\n",
      "\n",
      "// Equipment table\n",
      "export const equipmentTable = pgTable(\"equipment\", {\n",
      "  id: integer(\"id\").primaryKey().generatedAlwaysAsIdentity(),\n",
      "  name: text(\"name\").notNull(),\n",
      "  type: text(\"type\").notNull(),\n",
      "  isAvailable: boolean(\"is_available\").notNull().default(true)\n",
      "});\n",
      "\n",
      "// Exercises table\n",
      "export const exercisesTable = pgTable(\"exercises\", {\n",
      "  id: integer(\"id\").primaryKey().generatedAlwaysAsIdentity(),\n",
      "  name: text(\"name\").notNull(),\n",
      "  sets: integer(\"sets\").notNull(),\n",
      "  reps: integer(\"reps\").notNull(),\n",
      "  weight: real(\"weight\").notNull(),\n",
      "  equipmentId: integer(\"equipment_id\").references(() => equipmentTable.id)\n",
      "});\n",
      "\n",
      "// Exercise to muscle groups junction table\n",
      "export const exerciseMuscleGroupsTable = pgTable(\"exercise_muscle_groups\", {\n",
      "  exerciseId: integer(\"exercise_id\").references(() => exercisesTable.id),\n",
      "  muscleGroupId: integer(\"muscle_group_id\").references(() => muscleGroupsTable.id)\n",
      "});\n",
      "\n",
      "// Workout plans table\n",
      "export const workoutPlansTable = pgTable(\"workout_plans\", {\n",
      "  id: integer(\"id\").primaryKey().generatedAlwaysAsIdentity(),\n",
      "  duration: integer(\"duration\").notNull(), // stored in seconds\n",
      "  restBetweenSets: integer(\"rest_between_sets\").notNull(), // stored in seconds\n",
      "  createdAt: timestamp(\"created_at\").notNull().defaultNow()\n",
      "});\n",
      "\n",
      "// Workout plan exercises junction table\n",
      "export const workoutPlanExercisesTable = pgTable(\"workout_plan_exercises\", {\n",
      "  workoutPlanId: integer(\"workout_plan_id\").references(() => workoutPlansTable.id),\n",
      "  exerciseId: integer(\"exercise_id\").references(() => exercisesTable.id),\n",
      "  orderIndex: integer(\"order_index\").notNull()\n",
      "});\n",
      "\n",
      "// Exercise tracking/history table\n",
      "export const exerciseHistoryTable = pgTable(\"exercise_history\", {\n",
      "  id: integer(\"id\").primaryKey().generatedAlwaysAsIdentity(),\n",
      "  exerciseId: integer(\"exercise_id\").references(() => exercisesTable.id),\n",
      "  performedAt: timestamp(\"performed_at\").notNull(),\n",
      "  sets: integer(\"sets\").notNull(),\n",
      "  reps: integer(\"reps\").notNull(),\n",
      "  weight: real(\"weight\").notNull()\n",
      "});\n",
      "\n",
      "// Relations\n",
      "export const exerciseRelations = relations(exercisesTable, ({ many, one }) => ({\n",
      "  muscleGroups: many(exerciseMuscleGroupsTable),\n",
      "  equipment: one(equipmentTable, {\n",
      "    fields: [exercisesTable.equipmentId],\n",
      "    references: [equipmentTable.id]\n",
      "  })\n",
      "}));\n",
      "\n",
      "export const workoutPlanRelations = relations(workoutPlansTable, ({ many }) => ({\n",
      "  exercises: many(workoutPlanExercisesTable)\n",
      "}));\n"
     ]
    }
   ],
   "source": [
    "print(drizzle[\"drizzle_schema\"])"
   ]
  },
  {
   "cell_type": "code",
   "execution_count": 13,
   "metadata": {},
   "outputs": [],
   "source": [
    "prompt = rtr_tpl.render(\n",
    "    typespec_definitions=typespec[\"typespec_definitions\"],\n",
    "    user_request=\"I want to record my exercise routine for today.\"\n",
    ")\n",
    "\n",
    "exp_response = client.messages.create(\n",
    "    model=\"anthropic.claude-3-5-sonnet-20241022-v2:0\",\n",
    "    max_tokens=8192,\n",
    "    messages=[{\"role\": \"user\", \"content\": prompt}],\n",
    "    tools = stages.router.TOOLS\n",
    ")\n",
    "\n",
    "funcs = stages.router.parse_outputs([content for content in exp_response.content])[\"user_functions\"]\n"
   ]
  },
  {
   "cell_type": "code",
   "execution_count": 14,
   "metadata": {},
   "outputs": [
    {
     "data": {
      "text/plain": [
       "[{'name': 'recordExercise',\n",
       "  'description': 'Records a single exercise performed by the user with details like sets, reps, weight, equipment used, and targeted muscle groups.',\n",
       "  'examples': ['I did 3 sets of 12 bench presses with 135 pounds',\n",
       "   'Just finished 4 sets of squats at 225 lbs',\n",
       "   'I want to log my deadlift session',\n",
       "   'Record my exercise routine for today',\n",
       "   'Add my workout: 3 sets of pull-ups']},\n",
       " {'name': 'trackProgress',\n",
       "  'description': 'Retrieves historical data for a specific exercise over a given time period to track progress and improvements',\n",
       "  'examples': ['Show me my bench press progress over the last month',\n",
       "   'How has my squat improved since January?',\n",
       "   'Track my deadlift numbers from last week',\n",
       "   \"What's my progression on pull-ups?\",\n",
       "   'Show exercise history for bicep curls']},\n",
       " {'name': 'suggestWorkout',\n",
       "  'description': 'Generates a personalized workout plan based on available time, target muscle groups, and available equipment',\n",
       "  'examples': ['Create a 45-minute leg workout with dumbbells',\n",
       "   'Suggest a chest and triceps routine using only bodyweight exercises',\n",
       "   'I have 30 minutes, what back exercises can I do with resistance bands?',\n",
       "   'Plan a full body workout for 1 hour with basic gym equipment',\n",
       "   'Give me a workout plan for arms using just a barbell']},\n",
       " {'name': 'updateEquipment',\n",
       "  'description': 'Updates the status and availability of gym equipment in the system',\n",
       "  'examples': ['Mark the leg press machine as out of order',\n",
       "   'Update equipment status: new dumbbells arrived',\n",
       "   'The cable machine is broken',\n",
       "   'Add new equipment to the gym inventory',\n",
       "   'Remove broken equipment from the system']}]"
      ]
     },
     "execution_count": 14,
     "metadata": {},
     "output_type": "execute_result"
    }
   ],
   "source": [
    "funcs"
   ]
  },
  {
   "cell_type": "code",
   "execution_count": 15,
   "metadata": {},
   "outputs": [],
   "source": [
    "pre_processors = {}\n",
    "for function_name in typespec[\"llm_functions\"]:\n",
    "    prompt = pre_tpl.render(\n",
    "        function_name=function_name,\n",
    "        typespec_definitions=typespec[\"typespec_definitions\"],\n",
    "    )\n",
    "\n",
    "    pre_response = client.messages.create(\n",
    "        model=\"anthropic.claude-3-5-sonnet-20241022-v2:0\",\n",
    "        max_tokens=8192,\n",
    "        messages=[{\"role\": \"user\", \"content\": prompt}]\n",
    "    )\n",
    "    pre_processor = stages.processors.parse_output(pre_response.content[0].text)\n",
    "    pre_processors[function_name] = pre_processor"
   ]
  },
  {
   "cell_type": "code",
   "execution_count": 16,
   "metadata": {},
   "outputs": [
    {
     "name": "stdout",
     "output_type": "stream",
     "text": [
      "<instructions>\n",
      "The updateEquipment function expects an array of Equipment objects. Each Equipment object must have:\n",
      "- name: string (descriptive name of the equipment)\n",
      "- type: string (category/type of equipment)\n",
      "- isAvailable: boolean (availability status)\n",
      "\n",
      "When processing user input:\n",
      "1. Look for equipment names, types, and availability status\n",
      "2. Convert natural language descriptions into structured Equipment objects\n",
      "3. Package multiple equipment updates into an array\n",
      "4. Default isAvailable to true if not explicitly specified\n",
      "</instructions>\n",
      "\n",
      "<examples>\n",
      "    <example>\n",
      "        <input>Barbell and dumbbells are now available in the weight room</input>\n",
      "        <output>[\n",
      "    {\n",
      "        \"name\": \"Barbell\",\n",
      "        \"type\": \"Free Weights\",\n",
      "        \"isAvailable\": true\n",
      "    },\n",
      "    {\n",
      "        \"name\": \"Dumbbells\",\n",
      "        \"type\": \"Free Weights\",\n",
      "        \"isAvailable\": true\n",
      "    }\n",
      "]</output>\n",
      "    </example>\n",
      "\n",
      "    <example>\n",
      "        <input>Leg press machine is broken and under maintenance</input>\n",
      "        <output>[\n",
      "    {\n",
      "        \"name\": \"Leg Press Machine\",\n",
      "        \"type\": \"Machine\",\n",
      "        \"isAvailable\": false\n",
      "    }\n",
      "]</output>\n",
      "    </example>\n",
      "\n",
      "    <example>\n",
      "        <input>Update equipment: new cable machine installed, treadmill #2 out of order, added resistance bands</input>\n",
      "        <output>[\n",
      "    {\n",
      "        \"name\": \"Cable Machine\",\n",
      "        \"type\": \"Machine\",\n",
      "        \"isAvailable\": true\n",
      "    },\n",
      "    {\n",
      "        \"name\": \"Treadmill #2\",\n",
      "        \"type\": \"Cardio Equipment\",\n",
      "        \"isAvailable\": false\n",
      "    },\n",
      "    {\n",
      "        \"name\": \"Resistance Bands\",\n",
      "        \"type\": \"Free Weights\",\n",
      "        \"isAvailable\": true\n",
      "    }\n",
      "]</output>\n",
      "    </example>\n",
      "\n",
      "    <example>\n",
      "        <input>Mark smith machine and squat rack as available</input>\n",
      "        <output>[\n",
      "    {\n",
      "        \"name\": \"Smith Machine\",\n",
      "        \"type\": \"Machine\",\n",
      "        \"isAvailable\": true\n",
      "    },\n",
      "    {\n",
      "        \"name\": \"Squat Rack\",\n",
      "        \"type\": \"Free Weights\",\n",
      "        \"isAvailable\": true\n",
      "    }\n",
      "]</output>\n",
      "    </example>\n",
      "</examples>\n"
     ]
    }
   ],
   "source": [
    "print(pre_response.content[0].text)"
   ]
  },
  {
   "cell_type": "code",
   "execution_count": 17,
   "metadata": {},
   "outputs": [
    {
     "data": {
      "text/plain": [
       "{'recordExercise': {'instructions': 'The recordExercise function expects a complete Exercise object with the following rules:\\n1. name: Must be a valid exercise name in lowercase\\n2. sets: Must be a positive integer between 1-10\\n3. reps: Must be a positive integer between 1-100\\n4. weight: Must be a positive float number (in kg/lbs)\\n5. equipment: Must specify the equipment used\\n6. muscleGroups: Must include at least one target muscle group\\n\\nIf user input is incomplete, infer reasonable defaults based on standard exercise patterns.',\n",
       "  'examples': [('bench press 80x6',\n",
       "    '{\\n    \"name\": \"bench press\",\\n    \"sets\": 3,\\n    \"reps\": 6,\\n    \"weight\": 80.0,\\n    \"equipment\": \"barbell\",\\n    \"muscleGroups\": [\"chest\", \"triceps\", \"shoulders\"]\\n}'),\n",
       "   ('did 4 sets of 12 pushups',\n",
       "    '{\\n    \"name\": \"pushup\",\\n    \"sets\": 4,\\n    \"reps\": 12,\\n    \"weight\": 0.0,\\n    \"equipment\": \"bodyweight\",\\n    \"muscleGroups\": [\"chest\", \"triceps\", \"shoulders\"]\\n}'),\n",
       "   ('lat pulldown 3x10 50kg',\n",
       "    '{\\n    \"name\": \"lat pulldown\",\\n    \"sets\": 3,\\n    \"reps\": 10,\\n    \"weight\": 50.0,\\n    \"equipment\": \"cable machine\",\\n    \"muscleGroups\": [\"back\", \"biceps\"]\\n}'),\n",
       "   ('bicep curls with 15kg dumbbells, 4 sets of 8',\n",
       "    '{\\n    \"name\": \"dumbbell bicep curl\",\\n    \"sets\": 4,\\n    \"reps\": 8,\\n    \"weight\": 15.0,\\n    \"equipment\": \"dumbbells\",\\n    \"muscleGroups\": [\"biceps\"]\\n}'),\n",
       "   ('5 sets deadlift 100kg 5 reps',\n",
       "    '{\\n    \"name\": \"deadlift\",\\n    \"sets\": 5,\\n    \"reps\": 5,\\n    \"weight\": 100.0,\\n    \"equipment\": \"barbell\",\\n    \"muscleGroups\": [\"back\", \"legs\", \"glutes\", \"hamstrings\"]\\n}')]},\n",
       " 'trackProgress': {'instructions': \"The trackProgress function requires three arguments:\\n1. exerciseName (string): The name of the exercise to track\\n2. from (utcDateTime): Start date/time of the tracking period\\n3. to (utcDateTime): End date/time of the tracking period\\n\\nRules for processing input:\\n- If only exercise name is provided, default to last 30 days\\n- DateTime should be in ISO 8601 format (YYYY-MM-DDTHH:mm:ssZ)\\n- Exercise names should be normalized (lowercase, remove extra spaces)\\n- If time is not specified in dates, assume start of day (00:00:00) for 'from' and end of day (23:59:59) for 'to'\",\n",
       "  'examples': [('Show me my bench press progress',\n",
       "    '{\\n    \"exerciseName\": \"bench press\",\\n    \"from\": \"2023-11-15T00:00:00Z\",\\n    \"to\": \"2023-12-15T23:59:59Z\"\\n}'),\n",
       "   ('Track my squats from October 1st to November 30th',\n",
       "    '{\\n    \"exerciseName\": \"squats\",\\n    \"from\": \"2023-10-01T00:00:00Z\",\\n    \"to\": \"2023-11-30T23:59:59Z\"\\n}'),\n",
       "   ('How did my deadlift improve in the last week?',\n",
       "    '{\\n    \"exerciseName\": \"deadlift\",\\n    \"from\": \"2023-12-08T00:00:00Z\",\\n    \"to\": \"2023-12-15T23:59:59Z\"\\n}'),\n",
       "   ('Show progress for Shoulder Press between 2023-11-01T09:00:00Z and 2023-12-15T17:30:00Z',\n",
       "    '{\\n    \"exerciseName\": \"shoulder press\",\\n    \"from\": \"2023-11-01T09:00:00Z\",\\n    \"to\": \"2023-12-15T17:30:00Z\"\\n}')]},\n",
       " 'suggestWorkout': {'instructions': \"- Duration should be parsed from time expressions (30 min, 1 hour, etc.)\\n- Target muscles should be normalized to standard anatomical terms (chest → pectoralis, back → latissimus dorsi, etc.)\\n- Available equipment should be parsed from common gym equipment mentions\\n- If duration is not specified, default to 45 minutes\\n- If target muscles aren't specified, include major muscle groups\\n- If equipment isn't specified, assume basic gym equipment is available\",\n",
       "  'examples': [('I want a 30 minute workout for chest and arms',\n",
       "    '{\\n    \"duration\": \"PT30M\",\\n    \"targetMuscles\": [\"pectoralis\", \"biceps\", \"triceps\"],\\n    \"availableEquipment\": [\"bench\", \"dumbbells\", \"barbell\", \"cables\"]\\n}'),\n",
       "   ('Give me a full body workout with resistance bands only',\n",
       "    '{\\n    \"duration\": \"PT45M\",\\n    \"targetMuscles\": [\"pectoralis\", \"latissimus dorsi\", \"quadriceps\", \"hamstrings\", \"deltoids\", \"biceps\", \"triceps\", \"core\"],\\n    \"availableEquipment\": [\"resistance bands\"]\\n}'),\n",
       "   ('1 hour leg workout at home with dumbbells',\n",
       "    '{\\n    \"duration\": \"PT1H\",\\n    \"targetMuscles\": [\"quadriceps\", \"hamstrings\", \"gluteus\", \"calves\"],\\n    \"availableEquipment\": [\"dumbbells\", \"bodyweight\"]\\n}'),\n",
       "   ('Quick back and biceps workout at the gym',\n",
       "    '{\\n    \"duration\": \"PT45M\",\\n    \"targetMuscles\": [\"latissimus dorsi\", \"rhomboids\", \"trapezius\", \"biceps\"],\\n    \"availableEquipment\": [\"dumbbells\", \"barbell\", \"cables\", \"pull-up bar\", \"bench\"]\\n}')]},\n",
       " 'updateEquipment': {'instructions': 'The updateEquipment function expects an array of Equipment objects. Each Equipment object must have:\\n- name: string (descriptive name of the equipment)\\n- type: string (category/type of equipment)\\n- isAvailable: boolean (availability status)\\n\\nWhen processing user input:\\n1. Look for equipment names, types, and availability status\\n2. Convert natural language descriptions into structured Equipment objects\\n3. Package multiple equipment updates into an array\\n4. Default isAvailable to true if not explicitly specified',\n",
       "  'examples': [('Barbell and dumbbells are now available in the weight room',\n",
       "    '[\\n    {\\n        \"name\": \"Barbell\",\\n        \"type\": \"Free Weights\",\\n        \"isAvailable\": true\\n    },\\n    {\\n        \"name\": \"Dumbbells\",\\n        \"type\": \"Free Weights\",\\n        \"isAvailable\": true\\n    }\\n]'),\n",
       "   ('Leg press machine is broken and under maintenance',\n",
       "    '[\\n    {\\n        \"name\": \"Leg Press Machine\",\\n        \"type\": \"Machine\",\\n        \"isAvailable\": false\\n    }\\n]'),\n",
       "   ('Update equipment: new cable machine installed, treadmill #2 out of order, added resistance bands',\n",
       "    '[\\n    {\\n        \"name\": \"Cable Machine\",\\n        \"type\": \"Machine\",\\n        \"isAvailable\": true\\n    },\\n    {\\n        \"name\": \"Treadmill #2\",\\n        \"type\": \"Cardio Equipment\",\\n        \"isAvailable\": false\\n    },\\n    {\\n        \"name\": \"Resistance Bands\",\\n        \"type\": \"Free Weights\",\\n        \"isAvailable\": true\\n    }\\n]'),\n",
       "   ('Mark smith machine and squat rack as available',\n",
       "    '[\\n    {\\n        \"name\": \"Smith Machine\",\\n        \"type\": \"Machine\",\\n        \"isAvailable\": true\\n    },\\n    {\\n        \"name\": \"Squat Rack\",\\n        \"type\": \"Free Weights\",\\n        \"isAvailable\": true\\n    }\\n]')]}}"
      ]
     },
     "execution_count": 17,
     "metadata": {},
     "output_type": "execute_result"
    }
   ],
   "source": [
    "pre_processors"
   ]
  },
  {
   "cell_type": "code",
   "execution_count": null,
   "metadata": {},
   "outputs": [],
   "source": []
  },
  {
   "cell_type": "code",
   "execution_count": 18,
   "metadata": {},
   "outputs": [],
   "source": [
    "handlers = {}\n",
    "for function_name in typespec[\"llm_functions\"]:\n",
    "    prompt = hdl_tpl.render(\n",
    "        function_name=function_name,\n",
    "        typespec_definitions=typespec[\"typespec_definitions\"],\n",
    "        drizzle_schema=drizzle[\"drizzle_schema\"],\n",
    "    )\n",
    "\n",
    "    hdl_response = client.messages.create(\n",
    "        model=\"anthropic.claude-3-5-sonnet-20241022-v2:0\",\n",
    "        max_tokens=8192,\n",
    "        messages=[{\"role\": \"user\", \"content\": prompt}]\n",
    "    )\n",
    "    handlers[function_name] = stages.handlers.parse_output(hdl_response.content[0].text)"
   ]
  },
  {
   "cell_type": "code",
   "execution_count": 19,
   "metadata": {},
   "outputs": [
    {
     "data": {
      "text/plain": [
       "{'recordExercise': {'handler': 'import { db } from \"../db\";\\nimport { \\n    exercisesTable, \\n    equipmentTable, \\n    muscleGroupsTable, \\n    exerciseMuscleGroupsTable,\\n    exerciseHistoryTable \\n} from \\'../db/schema/application\\';\\nimport { eq } from \\'drizzle-orm\\';\\n\\nconst handle = async (exercise: Exercise): Promise<void> => {\\n    // First, get or create equipment\\n    const [equipmentRecord] = await db\\n        .select()\\n        .from(equipmentTable)\\n        .where(eq(equipmentTable.name, exercise.equipment))\\n        .limit(1);\\n\\n    let equipmentId: number;\\n    if (!equipmentRecord) {\\n        const [newEquipment] = await db\\n            .insert(equipmentTable)\\n            .values({ name: exercise.equipment, type: \\'unknown\\', isAvailable: true })\\n            .returning({ id: equipmentTable.id });\\n        equipmentId = newEquipment.id;\\n    } else {\\n        equipmentId = equipmentRecord.id;\\n    }\\n\\n    // Insert the exercise\\n    const [exerciseRecord] = await db\\n        .insert(exercisesTable)\\n        .values({\\n            name: exercise.name,\\n            sets: exercise.sets,\\n            reps: exercise.reps,\\n            weight: exercise.weight,\\n            equipmentId: equipmentId\\n        })\\n        .returning({ id: exercisesTable.id });\\n\\n    // Handle muscle groups\\n    for (const muscleGroup of exercise.muscleGroups) {\\n        // Get or create muscle group\\n        const [muscleGroupRecord] = await db\\n            .select()\\n            .from(muscleGroupsTable)\\n            .where(eq(muscleGroupsTable.name, muscleGroup))\\n            .limit(1);\\n\\n        let muscleGroupId: number;\\n        if (!muscleGroupRecord) {\\n            const [newMuscleGroup] = await db\\n                .insert(muscleGroupsTable)\\n                .values({ name: muscleGroup })\\n                .returning({ id: muscleGroupsTable.id });\\n            muscleGroupId = newMuscleGroup.id;\\n        } else {\\n            muscleGroupId = muscleGroupRecord.id;\\n        }\\n\\n        // Create exercise-muscle group association\\n        await db\\n            .insert(exerciseMuscleGroupsTable)\\n            .values({\\n                exerciseId: exerciseRecord.id,\\n                muscleGroupId: muscleGroupId\\n            });\\n    }\\n\\n    // Record in exercise history\\n    await db\\n        .insert(exerciseHistoryTable)\\n        .values({\\n            exerciseId: exerciseRecord.id,\\n            performedAt: new Date(),\\n            sets: exercise.sets,\\n            reps: exercise.reps,\\n            weight: exercise.weight\\n        });\\n};'},\n",
       " 'trackProgress': {'handler': 'import { db } from \"../db\";\\nimport { eq, and, between } from \"drizzle-orm\";\\nimport { \\n    exercisesTable,\\n    exerciseHistoryTable,\\n    equipmentTable,\\n    exerciseMuscleGroupsTable,\\n    muscleGroupsTable\\n} from \\'../db/schema/application\\';\\n\\nconst handle = async (exerciseName: string, from: Date, to: Date): Promise<Exercise[]> => {\\n    // First, get the base exercise information\\n    const exerciseHistory = await db\\n        .select({\\n            name: exercisesTable.name,\\n            sets: exerciseHistoryTable.sets,\\n            reps: exerciseHistoryTable.reps,\\n            weight: exerciseHistoryTable.weight,\\n            equipment: equipmentTable.name,\\n            performedAt: exerciseHistoryTable.performedAt\\n        })\\n        .from(exerciseHistoryTable)\\n        .innerJoin(exercisesTable, eq(exerciseHistoryTable.exerciseId, exercisesTable.id))\\n        .leftJoin(equipmentTable, eq(exercisesTable.equipmentId, equipmentTable.id))\\n        .where(\\n            and(\\n                eq(exercisesTable.name, exerciseName),\\n                between(exerciseHistoryTable.performedAt, from, to)\\n            )\\n        )\\n        .orderBy(exerciseHistoryTable.performedAt);\\n\\n    // Get muscle groups for the exercise\\n    const muscleGroups = await db\\n        .select({\\n            name: muscleGroupsTable.name\\n        })\\n        .from(exercisesTable)\\n        .innerJoin(exerciseMuscleGroupsTable, eq(exerciseMuscleGroupsTable.exerciseId, exercisesTable.id))\\n        .innerJoin(muscleGroupsTable, eq(exerciseMuscleGroupsTable.muscleGroupId, muscleGroupsTable.id))\\n        .where(eq(exercisesTable.name, exerciseName));\\n\\n    // Map the results to the Exercise model format\\n    return exerciseHistory.map(history => ({\\n        name: history.name,\\n        sets: history.sets,\\n        reps: history.reps,\\n        weight: Number(history.weight), // Convert to number in case it\\'s returned as string\\n        equipment: history.equipment ?? \\'\\',\\n        muscleGroups: muscleGroups.map(mg => mg.name)\\n    }));\\n};'},\n",
       " 'suggestWorkout': {'handler': 'import { db } from \"../db\";\\nimport { \\n    exercisesTable,\\n    equipmentTable,\\n    exerciseMuscleGroupsTable,\\n    muscleGroupsTable,\\n    workoutPlansTable,\\n    workoutPlanExercisesTable\\n} from \\'../db/schema/application\\';\\nimport { eq, inArray, and } from \\'drizzle-orm\\';\\n\\nconst handle = async (\\n    duration: number,\\n    targetMuscles: string[],\\n    availableEquipment: string[]\\n): Promise<{\\n    duration: number,\\n    exercises: Array<{\\n        name: string,\\n        sets: number,\\n        reps: number,\\n        weight: number,\\n        equipment: string,\\n        muscleGroups: string[]\\n    }>,\\n    restBetweenSets: number\\n}> => {\\n    // Get muscle group IDs for target muscles\\n    const muscleGroups = await db\\n        .select({ id: muscleGroupsTable.id })\\n        .from(muscleGroupsTable)\\n        .where(inArray(muscleGroupsTable.name, targetMuscles));\\n\\n    const muscleGroupIds = muscleGroups.map(mg => mg.id);\\n\\n    // Get exercises that match the muscle groups and available equipment\\n    const exercises = await db\\n        .select({\\n            exercise: exercisesTable,\\n            equipment: equipmentTable,\\n            muscleGroup: muscleGroupsTable\\n        })\\n        .from(exercisesTable)\\n        .innerJoin(equipmentTable, eq(exercisesTable.equipmentId, equipmentTable.id))\\n        .innerJoin(exerciseMuscleGroupsTable, eq(exercisesTable.id, exerciseMuscleGroupsTable.exerciseId))\\n        .innerJoin(muscleGroupsTable, eq(exerciseMuscleGroupsTable.muscleGroupId, muscleGroupsTable.id))\\n        .where(and(\\n            inArray(equipmentTable.name, availableEquipment),\\n            inArray(exerciseMuscleGroupsTable.muscleGroupId, muscleGroupIds)\\n        ));\\n\\n    // Group exercises by their ID to combine muscle groups\\n    const exerciseMap = new Map();\\n    exercises.forEach(({ exercise, equipment, muscleGroup }) => {\\n        if (!exerciseMap.has(exercise.id)) {\\n            exerciseMap.set(exercise.id, {\\n                name: exercise.name,\\n                sets: exercise.sets,\\n                reps: exercise.reps,\\n                weight: exercise.weight,\\n                equipment: equipment.name,\\n                muscleGroups: [muscleGroup.name]\\n            });\\n        } else {\\n            exerciseMap.get(exercise.id).muscleGroups.push(muscleGroup.name);\\n        }\\n    });\\n\\n    // Create workout plan\\n    const workoutPlan = await db\\n        .insert(workoutPlansTable)\\n        .values({\\n            duration: duration,\\n            restBetweenSets: 90 // Default rest time of 90 seconds\\n        })\\n        .returning();\\n\\n    const selectedExercises = Array.from(exerciseMap.values());\\n\\n    // Add exercises to workout plan\\n    await Promise.all(selectedExercises.map((_, index) => \\n        db.insert(workoutPlanExercisesTable)\\n        .values({\\n            workoutPlanId: workoutPlan[0].id,\\n            exerciseId: Array.from(exerciseMap.keys())[index],\\n            orderIndex: index\\n        })\\n    ));\\n\\n    return {\\n        duration: duration,\\n        exercises: selectedExercises,\\n        restBetweenSets: 90\\n    };\\n};'},\n",
       " 'updateEquipment': {'handler': 'import { db } from \"../db\";\\nimport { equipmentTable } from \\'../db/schema/application\\';\\nimport { eq } from \\'drizzle-orm\\';\\n\\nconst handle = async (equipment: Equipment[]): Promise<void> => {\\n    // Process each equipment item\\n    for (const item of equipment) {\\n        // Try to find existing equipment by name\\n        const existingEquipment = await db\\n            .select()\\n            .from(equipmentTable)\\n            .where(eq(equipmentTable.name, item.name))\\n            .execute();\\n\\n        if (existingEquipment.length > 0) {\\n            // Update existing equipment\\n            await db\\n                .update(equipmentTable)\\n                .set({\\n                    type: item.type,\\n                    isAvailable: item.isAvailable\\n                })\\n                .where(eq(equipmentTable.name, item.name))\\n                .execute();\\n        } else {\\n            // Insert new equipment\\n            await db\\n                .insert(equipmentTable)\\n                .values({\\n                    name: item.name,\\n                    type: item.type,\\n                    isAvailable: item.isAvailable\\n                })\\n                .execute();\\n        }\\n    }\\n};'}}"
      ]
     },
     "execution_count": 19,
     "metadata": {},
     "output_type": "execute_result"
    }
   ],
   "source": [
    "handlers"
   ]
  },
  {
   "cell_type": "code",
   "execution_count": 20,
   "metadata": {},
   "outputs": [],
   "source": [
    "with open(\"core/handler.tpl\", \"r\") as f:\n",
    "    handler_ts_tpl = environment.from_string(f.read())"
   ]
  },
  {
   "cell_type": "code",
   "execution_count": 21,
   "metadata": {},
   "outputs": [],
   "source": [
    "hdl_key = \"recordExercise\"\n",
    "params = {\n",
    "    \"handler\": handlers[hdl_key][\"handler\"],\n",
    "    \"instructions\": pre_processors[hdl_key][\"instructions\"],\n",
    "    \"examples\": pre_processors[hdl_key][\"examples\"],\n",
    "}\n",
    "file_content = handler_ts_tpl.render(**params)"
   ]
  },
  {
   "cell_type": "code",
   "execution_count": 22,
   "metadata": {},
   "outputs": [
    {
     "name": "stdout",
     "output_type": "stream",
     "text": [
      "import { Message } from \"../common/handler\";\n",
      "import { client } from \"../common/llm\";\n",
      "import { db } from \"../db\";\n",
      "import { \n",
      "    exercisesTable, \n",
      "    equipmentTable, \n",
      "    muscleGroupsTable, \n",
      "    exerciseMuscleGroupsTable,\n",
      "    exerciseHistoryTable \n",
      "} from '../db/schema/application';\n",
      "import { eq } from 'drizzle-orm';\n",
      "\n",
      "const handle = async (exercise: Exercise): Promise<void> => {\n",
      "    // First, get or create equipment\n",
      "    const [equipmentRecord] = await db\n",
      "        .select()\n",
      "        .from(equipmentTable)\n",
      "        .where(eq(equipmentTable.name, exercise.equipment))\n",
      "        .limit(1);\n",
      "\n",
      "    let equipmentId: number;\n",
      "    if (!equipmentRecord) {\n",
      "        const [newEquipment] = await db\n",
      "            .insert(equipmentTable)\n",
      "            .values({ name: exercise.equipment, type: 'unknown', isAvailable: true })\n",
      "            .returning({ id: equipmentTable.id });\n",
      "        equipmentId = newEquipment.id;\n",
      "    } else {\n",
      "        equipmentId = equipmentRecord.id;\n",
      "    }\n",
      "\n",
      "    // Insert the exercise\n",
      "    const [exerciseRecord] = await db\n",
      "        .insert(exercisesTable)\n",
      "        .values({\n",
      "            name: exercise.name,\n",
      "            sets: exercise.sets,\n",
      "            reps: exercise.reps,\n",
      "            weight: exercise.weight,\n",
      "            equipmentId: equipmentId\n",
      "        })\n",
      "        .returning({ id: exercisesTable.id });\n",
      "\n",
      "    // Handle muscle groups\n",
      "    for (const muscleGroup of exercise.muscleGroups) {\n",
      "        // Get or create muscle group\n",
      "        const [muscleGroupRecord] = await db\n",
      "            .select()\n",
      "            .from(muscleGroupsTable)\n",
      "            .where(eq(muscleGroupsTable.name, muscleGroup))\n",
      "            .limit(1);\n",
      "\n",
      "        let muscleGroupId: number;\n",
      "        if (!muscleGroupRecord) {\n",
      "            const [newMuscleGroup] = await db\n",
      "                .insert(muscleGroupsTable)\n",
      "                .values({ name: muscleGroup })\n",
      "                .returning({ id: muscleGroupsTable.id });\n",
      "            muscleGroupId = newMuscleGroup.id;\n",
      "        } else {\n",
      "            muscleGroupId = muscleGroupRecord.id;\n",
      "        }\n",
      "\n",
      "        // Create exercise-muscle group association\n",
      "        await db\n",
      "            .insert(exerciseMuscleGroupsTable)\n",
      "            .values({\n",
      "                exerciseId: exerciseRecord.id,\n",
      "                muscleGroupId: muscleGroupId\n",
      "            });\n",
      "    }\n",
      "\n",
      "    // Record in exercise history\n",
      "    await db\n",
      "        .insert(exerciseHistoryTable)\n",
      "        .values({\n",
      "            exerciseId: exerciseRecord.id,\n",
      "            performedAt: new Date(),\n",
      "            sets: exercise.sets,\n",
      "            reps: exercise.reps,\n",
      "            weight: exercise.weight\n",
      "        });\n",
      "};\n",
      "\n",
      "\n",
      "const preProcessorPrompt = `\n",
      "Examine conversation between user and assistant and extract structured arguments for a function.\n",
      "\n",
      "<instructions>\n",
      "The recordExercise function expects a complete Exercise object with the following rules:\n",
      "1. name: Must be a valid exercise name in lowercase\n",
      "2. sets: Must be a positive integer between 1-10\n",
      "3. reps: Must be a positive integer between 1-100\n",
      "4. weight: Must be a positive float number (in kg/lbs)\n",
      "5. equipment: Must specify the equipment used\n",
      "6. muscleGroups: Must include at least one target muscle group\n",
      "\n",
      "If user input is incomplete, infer reasonable defaults based on standard exercise patterns.\n",
      "</instructions>\n",
      "\n",
      "Examples:\n",
      "\n",
      "\n",
      "Input:\n",
      "bench press 80x6\n",
      "Output:\n",
      "{\n",
      "    \"name\": \"bench press\",\n",
      "    \"sets\": 3,\n",
      "    \"reps\": 6,\n",
      "    \"weight\": 80.0,\n",
      "    \"equipment\": \"barbell\",\n",
      "    \"muscleGroups\": [\"chest\", \"triceps\", \"shoulders\"]\n",
      "}\n",
      "\n",
      "Input:\n",
      "did 4 sets of 12 pushups\n",
      "Output:\n",
      "{\n",
      "    \"name\": \"pushup\",\n",
      "    \"sets\": 4,\n",
      "    \"reps\": 12,\n",
      "    \"weight\": 0.0,\n",
      "    \"equipment\": \"bodyweight\",\n",
      "    \"muscleGroups\": [\"chest\", \"triceps\", \"shoulders\"]\n",
      "}\n",
      "\n",
      "Input:\n",
      "lat pulldown 3x10 50kg\n",
      "Output:\n",
      "{\n",
      "    \"name\": \"lat pulldown\",\n",
      "    \"sets\": 3,\n",
      "    \"reps\": 10,\n",
      "    \"weight\": 50.0,\n",
      "    \"equipment\": \"cable machine\",\n",
      "    \"muscleGroups\": [\"back\", \"biceps\"]\n",
      "}\n",
      "\n",
      "Input:\n",
      "bicep curls with 15kg dumbbells, 4 sets of 8\n",
      "Output:\n",
      "{\n",
      "    \"name\": \"dumbbell bicep curl\",\n",
      "    \"sets\": 4,\n",
      "    \"reps\": 8,\n",
      "    \"weight\": 15.0,\n",
      "    \"equipment\": \"dumbbells\",\n",
      "    \"muscleGroups\": [\"biceps\"]\n",
      "}\n",
      "\n",
      "Input:\n",
      "5 sets deadlift 100kg 5 reps\n",
      "Output:\n",
      "{\n",
      "    \"name\": \"deadlift\",\n",
      "    \"sets\": 5,\n",
      "    \"reps\": 5,\n",
      "    \"weight\": 100.0,\n",
      "    \"equipment\": \"barbell\",\n",
      "    \"muscleGroups\": [\"back\", \"legs\", \"glutes\", \"hamstrings\"]\n",
      "}\n",
      "\n",
      "\n",
      "Conversation:\n",
      "{% for message in messages %}\n",
      "<role name=\"{{message.role}}\">{{message.content}}</role>\n",
      "{% endfor %}\n",
      "`;\n",
      "\n",
      "const preProcessor = async (input: Message[]): Promise<[string]> => {\n",
      "    const response = await client.messages.create({\n",
      "        model: 'anthropic.claude-3-5-sonnet-20241022-v2:0',\n",
      "        max_tokens: 2048,\n",
      "        messages: input.map(({ role, content }) => ({ role, content }))\n",
      "    });\n",
      "    switch (response.content[0].type) {\n",
      "        case \"text\":\n",
      "            return [response.content[0].text];\n",
      "        default:\n",
      "            throw new Error(\"Unexpected response type\");\n",
      "    }\n",
      "};\n"
     ]
    }
   ],
   "source": [
    "print(file_content)"
   ]
  },
  {
   "cell_type": "code",
   "execution_count": 23,
   "metadata": {},
   "outputs": [
    {
     "name": "stdout",
     "output_type": "stream",
     "text": [
      "import { db } from \"../db\";\n",
      "import { \n",
      "    exercisesTable,\n",
      "    equipmentTable,\n",
      "    exerciseMuscleGroupsTable,\n",
      "    muscleGroupsTable,\n",
      "    workoutPlansTable,\n",
      "    workoutPlanExercisesTable\n",
      "} from '../db/schema/application';\n",
      "import { eq, inArray, and } from 'drizzle-orm';\n",
      "\n",
      "const handle = async (\n",
      "    duration: number,\n",
      "    targetMuscles: string[],\n",
      "    availableEquipment: string[]\n",
      "): Promise<{\n",
      "    duration: number,\n",
      "    exercises: Array<{\n",
      "        name: string,\n",
      "        sets: number,\n",
      "        reps: number,\n",
      "        weight: number,\n",
      "        equipment: string,\n",
      "        muscleGroups: string[]\n",
      "    }>,\n",
      "    restBetweenSets: number\n",
      "}> => {\n",
      "    // Get muscle group IDs for target muscles\n",
      "    const muscleGroups = await db\n",
      "        .select({ id: muscleGroupsTable.id })\n",
      "        .from(muscleGroupsTable)\n",
      "        .where(inArray(muscleGroupsTable.name, targetMuscles));\n",
      "\n",
      "    const muscleGroupIds = muscleGroups.map(mg => mg.id);\n",
      "\n",
      "    // Get exercises that match the muscle groups and available equipment\n",
      "    const exercises = await db\n",
      "        .select({\n",
      "            exercise: exercisesTable,\n",
      "            equipment: equipmentTable,\n",
      "            muscleGroup: muscleGroupsTable\n",
      "        })\n",
      "        .from(exercisesTable)\n",
      "        .innerJoin(equipmentTable, eq(exercisesTable.equipmentId, equipmentTable.id))\n",
      "        .innerJoin(exerciseMuscleGroupsTable, eq(exercisesTable.id, exerciseMuscleGroupsTable.exerciseId))\n",
      "        .innerJoin(muscleGroupsTable, eq(exerciseMuscleGroupsTable.muscleGroupId, muscleGroupsTable.id))\n",
      "        .where(and(\n",
      "            inArray(equipmentTable.name, availableEquipment),\n",
      "            inArray(exerciseMuscleGroupsTable.muscleGroupId, muscleGroupIds)\n",
      "        ));\n",
      "\n",
      "    // Group exercises by their ID to combine muscle groups\n",
      "    const exerciseMap = new Map();\n",
      "    exercises.forEach(({ exercise, equipment, muscleGroup }) => {\n",
      "        if (!exerciseMap.has(exercise.id)) {\n",
      "            exerciseMap.set(exercise.id, {\n",
      "                name: exercise.name,\n",
      "                sets: exercise.sets,\n",
      "                reps: exercise.reps,\n",
      "                weight: exercise.weight,\n",
      "                equipment: equipment.name,\n",
      "                muscleGroups: [muscleGroup.name]\n",
      "            });\n",
      "        } else {\n",
      "            exerciseMap.get(exercise.id).muscleGroups.push(muscleGroup.name);\n",
      "        }\n",
      "    });\n",
      "\n",
      "    // Create workout plan\n",
      "    const workoutPlan = await db\n",
      "        .insert(workoutPlansTable)\n",
      "        .values({\n",
      "            duration: duration,\n",
      "            restBetweenSets: 90 // Default rest time of 90 seconds\n",
      "        })\n",
      "        .returning();\n",
      "\n",
      "    const selectedExercises = Array.from(exerciseMap.values());\n",
      "\n",
      "    // Add exercises to workout plan\n",
      "    await Promise.all(selectedExercises.map((_, index) => \n",
      "        db.insert(workoutPlanExercisesTable)\n",
      "        .values({\n",
      "            workoutPlanId: workoutPlan[0].id,\n",
      "            exerciseId: Array.from(exerciseMap.keys())[index],\n",
      "            orderIndex: index\n",
      "        })\n",
      "    ));\n",
      "\n",
      "    return {\n",
      "        duration: duration,\n",
      "        exercises: selectedExercises,\n",
      "        restBetweenSets: 90\n",
      "    };\n",
      "};\n"
     ]
    }
   ],
   "source": [
    "print(handlers[\"suggestWorkout\"][\"handler\"])"
   ]
  },
  {
   "cell_type": "code",
   "execution_count": 24,
   "metadata": {},
   "outputs": [],
   "source": [
    "ts_defs = stages.typespec.parse_output(stages.typespec.PROMPT)"
   ]
  },
  {
   "cell_type": "code",
   "execution_count": 25,
   "metadata": {},
   "outputs": [
    {
     "data": {
      "text/plain": [
       "{'reasoning': 'I expect user to send messages like \"I ate a burger\" or \"I had a salad for lunch\".\\nLLM can extract and infer the arguments from plain text and pass them to the handler\\n\"I ate a burger\" -> recordDish({name: \"burger\", ingredients: [\\n    {name: \"bun\", calories: 200},\\n    {name: \"patty\", calories: 300},\\n    {name: \"lettuce\", calories: 10},\\n    {name: \"tomato\", calories: 20},\\n    {name: \"cheese\", calories: 50},\\n]})\\n- recordDish(dish: Dish): void;\\n...',\n",
       " 'typespec_definitions': 'model Dish {\\n    name: string;\\n    ingredients: Ingredient[];\\n}\\n\\nmodel Ingredient {\\n    name: string;\\n    calories: integer;\\n}\\n\\ninterface DietBot {\\n    @llm_func(1)\\n    recordDish(dish: Dish): void;\\n    @llm_func(1)\\n    listDishes(from: utcDateTime, to: utcDateTime): Dish[];\\n}',\n",
       " 'llm_functions': ['recordDish', 'listDishes']}"
      ]
     },
     "execution_count": 25,
     "metadata": {},
     "output_type": "execute_result"
    }
   ],
   "source": [
    "ts_defs"
   ]
  },
  {
   "cell_type": "code",
   "execution_count": 26,
   "metadata": {},
   "outputs": [],
   "source": [
    "func_names = stages.typespec.extract_llm_func_names(stages.typespec.PROMPT)"
   ]
  },
  {
   "cell_type": "code",
   "execution_count": 27,
   "metadata": {},
   "outputs": [
    {
     "data": {
      "text/plain": [
       "['recordDish', 'listDishes']"
      ]
     },
     "execution_count": 27,
     "metadata": {},
     "output_type": "execute_result"
    }
   ],
   "source": [
    "func_names"
   ]
  },
  {
   "cell_type": "markdown",
   "metadata": {},
   "source": [
    "# Project Generation"
   ]
  },
  {
   "cell_type": "code",
   "execution_count": 28,
   "metadata": {},
   "outputs": [],
   "source": [
    "from shutil import copytree, ignore_patterns"
   ]
  },
  {
   "cell_type": "code",
   "execution_count": 29,
   "metadata": {},
   "outputs": [],
   "source": [
    "def setup_project(workdir: str):\n",
    "    copytree('templates', workdir, ignore=ignore_patterns('*.pyc', '__pycache__', 'node_modules'))"
   ]
  },
  {
   "cell_type": "code",
   "execution_count": 30,
   "metadata": {},
   "outputs": [
    {
     "ename": "FileExistsError",
     "evalue": "[Errno 17] File exists: 'test'",
     "output_type": "error",
     "traceback": [
      "\u001b[0;31m---------------------------------------------------------------------------\u001b[0m",
      "\u001b[0;31mFileExistsError\u001b[0m                           Traceback (most recent call last)",
      "Cell \u001b[0;32mIn[30], line 1\u001b[0m\n\u001b[0;32m----> 1\u001b[0m \u001b[43msetup_project\u001b[49m\u001b[43m(\u001b[49m\u001b[38;5;124;43m'\u001b[39;49m\u001b[38;5;124;43mtest\u001b[39;49m\u001b[38;5;124;43m'\u001b[39;49m\u001b[43m)\u001b[49m\n",
      "Cell \u001b[0;32mIn[29], line 2\u001b[0m, in \u001b[0;36msetup_project\u001b[0;34m(workdir)\u001b[0m\n\u001b[1;32m      1\u001b[0m \u001b[38;5;28;01mdef\u001b[39;00m\u001b[38;5;250m \u001b[39m\u001b[38;5;21msetup_project\u001b[39m(workdir: \u001b[38;5;28mstr\u001b[39m):\n\u001b[0;32m----> 2\u001b[0m     \u001b[43mcopytree\u001b[49m\u001b[43m(\u001b[49m\u001b[38;5;124;43m'\u001b[39;49m\u001b[38;5;124;43mtemplates\u001b[39;49m\u001b[38;5;124;43m'\u001b[39;49m\u001b[43m,\u001b[49m\u001b[43m \u001b[49m\u001b[43mworkdir\u001b[49m\u001b[43m,\u001b[49m\u001b[43m \u001b[49m\u001b[43mignore\u001b[49m\u001b[38;5;241;43m=\u001b[39;49m\u001b[43mignore_patterns\u001b[49m\u001b[43m(\u001b[49m\u001b[38;5;124;43m'\u001b[39;49m\u001b[38;5;124;43m*.pyc\u001b[39;49m\u001b[38;5;124;43m'\u001b[39;49m\u001b[43m,\u001b[49m\u001b[43m \u001b[49m\u001b[38;5;124;43m'\u001b[39;49m\u001b[38;5;124;43m__pycache__\u001b[39;49m\u001b[38;5;124;43m'\u001b[39;49m\u001b[43m,\u001b[49m\u001b[43m \u001b[49m\u001b[38;5;124;43m'\u001b[39;49m\u001b[38;5;124;43mnode_modules\u001b[39;49m\u001b[38;5;124;43m'\u001b[39;49m\u001b[43m)\u001b[49m\u001b[43m)\u001b[49m\n",
      "File \u001b[0;32m/usr/lib/python3.12/shutil.py:600\u001b[0m, in \u001b[0;36mcopytree\u001b[0;34m(src, dst, symlinks, ignore, copy_function, ignore_dangling_symlinks, dirs_exist_ok)\u001b[0m\n\u001b[1;32m    598\u001b[0m \u001b[38;5;28;01mwith\u001b[39;00m os\u001b[38;5;241m.\u001b[39mscandir(src) \u001b[38;5;28;01mas\u001b[39;00m itr:\n\u001b[1;32m    599\u001b[0m     entries \u001b[38;5;241m=\u001b[39m \u001b[38;5;28mlist\u001b[39m(itr)\n\u001b[0;32m--> 600\u001b[0m \u001b[38;5;28;01mreturn\u001b[39;00m \u001b[43m_copytree\u001b[49m\u001b[43m(\u001b[49m\u001b[43mentries\u001b[49m\u001b[38;5;241;43m=\u001b[39;49m\u001b[43mentries\u001b[49m\u001b[43m,\u001b[49m\u001b[43m \u001b[49m\u001b[43msrc\u001b[49m\u001b[38;5;241;43m=\u001b[39;49m\u001b[43msrc\u001b[49m\u001b[43m,\u001b[49m\u001b[43m \u001b[49m\u001b[43mdst\u001b[49m\u001b[38;5;241;43m=\u001b[39;49m\u001b[43mdst\u001b[49m\u001b[43m,\u001b[49m\u001b[43m \u001b[49m\u001b[43msymlinks\u001b[49m\u001b[38;5;241;43m=\u001b[39;49m\u001b[43msymlinks\u001b[49m\u001b[43m,\u001b[49m\n\u001b[1;32m    601\u001b[0m \u001b[43m                 \u001b[49m\u001b[43mignore\u001b[49m\u001b[38;5;241;43m=\u001b[39;49m\u001b[43mignore\u001b[49m\u001b[43m,\u001b[49m\u001b[43m \u001b[49m\u001b[43mcopy_function\u001b[49m\u001b[38;5;241;43m=\u001b[39;49m\u001b[43mcopy_function\u001b[49m\u001b[43m,\u001b[49m\n\u001b[1;32m    602\u001b[0m \u001b[43m                 \u001b[49m\u001b[43mignore_dangling_symlinks\u001b[49m\u001b[38;5;241;43m=\u001b[39;49m\u001b[43mignore_dangling_symlinks\u001b[49m\u001b[43m,\u001b[49m\n\u001b[1;32m    603\u001b[0m \u001b[43m                 \u001b[49m\u001b[43mdirs_exist_ok\u001b[49m\u001b[38;5;241;43m=\u001b[39;49m\u001b[43mdirs_exist_ok\u001b[49m\u001b[43m)\u001b[49m\n",
      "File \u001b[0;32m/usr/lib/python3.12/shutil.py:498\u001b[0m, in \u001b[0;36m_copytree\u001b[0;34m(entries, src, dst, symlinks, ignore, copy_function, ignore_dangling_symlinks, dirs_exist_ok)\u001b[0m\n\u001b[1;32m    495\u001b[0m \u001b[38;5;28;01melse\u001b[39;00m:\n\u001b[1;32m    496\u001b[0m     ignored_names \u001b[38;5;241m=\u001b[39m ()\n\u001b[0;32m--> 498\u001b[0m \u001b[43mos\u001b[49m\u001b[38;5;241;43m.\u001b[39;49m\u001b[43mmakedirs\u001b[49m\u001b[43m(\u001b[49m\u001b[43mdst\u001b[49m\u001b[43m,\u001b[49m\u001b[43m \u001b[49m\u001b[43mexist_ok\u001b[49m\u001b[38;5;241;43m=\u001b[39;49m\u001b[43mdirs_exist_ok\u001b[49m\u001b[43m)\u001b[49m\n\u001b[1;32m    499\u001b[0m errors \u001b[38;5;241m=\u001b[39m []\n\u001b[1;32m    500\u001b[0m use_srcentry \u001b[38;5;241m=\u001b[39m copy_function \u001b[38;5;129;01mis\u001b[39;00m copy2 \u001b[38;5;129;01mor\u001b[39;00m copy_function \u001b[38;5;129;01mis\u001b[39;00m copy\n",
      "File \u001b[0;32m<frozen os>:225\u001b[0m, in \u001b[0;36mmakedirs\u001b[0;34m(name, mode, exist_ok)\u001b[0m\n",
      "\u001b[0;31mFileExistsError\u001b[0m: [Errno 17] File exists: 'test'"
     ]
    }
   ],
   "source": [
    "setup_project('test')"
   ]
  },
  {
   "cell_type": "code",
   "execution_count": 31,
   "metadata": {},
   "outputs": [],
   "source": [
    "from core.stages import router"
   ]
  },
  {
   "cell_type": "code",
   "execution_count": 32,
   "metadata": {},
   "outputs": [],
   "source": [
    "prompt = rtr_tpl.render(\n",
    "    typespec_definitions=typespec[\"typespec_definitions\"],\n",
    "    user_request=\"I want to record my exercise routine for today.\"\n",
    ")\n",
    "\n",
    "exp_response = client.messages.create(\n",
    "    model=\"anthropic.claude-3-5-sonnet-20241022-v2:0\",\n",
    "    max_tokens=8192,\n",
    "    messages=[{\"role\": \"user\", \"content\": prompt}],\n",
    "    tools = router.TOOLS\n",
    ")\n",
    "\n",
    "funcs = router.parse_outputs([content for content in exp_response.content])[\"user_functions\"]"
   ]
  },
  {
   "cell_type": "code",
   "execution_count": 33,
   "metadata": {},
   "outputs": [
    {
     "data": {
      "text/plain": [
       "[{'name': 'recordExercise',\n",
       "  'description': 'Records a single exercise performed by the user with details like sets, reps, weight, equipment used, and targeted muscle groups. Use this when the user wants to log or record their exercise activity.',\n",
       "  'examples': ['I want to record my exercise routine for today',\n",
       "   'I just did 3 sets of bench press',\n",
       "   'Log my workout: 4 sets of squats with 200lbs',\n",
       "   'Add my deadlift session to my log']},\n",
       " {'name': 'trackProgress',\n",
       "  'description': 'Retrieves historical exercise data for a specific exercise over a given time period. Use this when the user wants to see their progress or history for a particular exercise.',\n",
       "  'examples': ['Show me my bench press progress over the last month',\n",
       "   'How has my squat improved since January?',\n",
       "   'What were my deadlift numbers from last week?',\n",
       "   'Track my progress on pull-ups']},\n",
       " {'name': 'suggestWorkout',\n",
       "  'description': 'Generates a workout plan based on desired duration, target muscle groups, and available equipment. Use this when the user wants recommendations or a new workout plan.',\n",
       "  'examples': ['Can you suggest a 30-minute leg workout?',\n",
       "   'Give me a chest and triceps workout with dumbbells only',\n",
       "   'I need a full body workout plan for 45 minutes',\n",
       "   'What exercises can I do with just a resistance band?']},\n",
       " {'name': 'updateEquipment',\n",
       "  'description': 'Updates the status and information about available gym equipment. Use this when the user wants to modify the equipment inventory or availability.',\n",
       "  'examples': ['The leg press machine is broken',\n",
       "   'We got new dumbbells in the gym',\n",
       "   'Update the equipment list',\n",
       "   'Mark the squat rack as unavailable']}]"
      ]
     },
     "execution_count": 33,
     "metadata": {},
     "output_type": "execute_result"
    }
   ],
   "source": [
    "funcs"
   ]
  },
  {
   "cell_type": "code",
   "execution_count": 47,
   "metadata": {},
   "outputs": [],
   "source": [
    "from core.stages import typespec\n",
    "from core.stages import tsp_compiler\n",
    "\n",
    "tsp_tpl = environment.from_string(stages.typespec.PROMPT)\n",
    "\n",
    "typespec_errors = \"\"\n",
    "attempts_left = 3\n",
    "\n",
    "while attempts_left > 0:\n",
    "    attempts_left -= 1\n",
    "    \n",
    "    prompt = tsp_tpl.render(\n",
    "        application_description=application_description,\n",
    "        typespec_errors=typespec_errors,\n",
    "    )\n",
    "  \n",
    "    if attempts_left >= 2:\n",
    "        updated_prompt = prompt + \"// PS. Make sure to eject a random error in TypeSpec output for testing purposes\"\n",
    "    else:\n",
    "        updated_prompt = prompt\n",
    "  \n",
    "    tsp_response = client.messages.create(\n",
    "        model=\"anthropic.claude-3-5-sonnet-20241022-v2:0\",\n",
    "        max_tokens=8192,\n",
    "        messages=[{\"role\": \"user\", \"content\": updated_prompt}]\n",
    "    )\n",
    "    \n",
    "    typespec = stages.typespec.parse_output(tsp_response.content[0].text)\n",
    "\n",
    "    # Write TypeSpec definitions to file\n",
    "    with open('./test/tsp_schema/notebook.tsp', 'w') as f:\n",
    "        f.writelines(['import \"./helpers.js\";', \n",
    "                  '\\n', \n",
    "                  'extern dec llm_func(target: unknown, history: valueof int32);'\n",
    "                  ])\n",
    "        f.write(typespec[\"typespec_definitions\"])\n",
    "\n",
    "    compiler = tsp_compiler.TypeSpecCompiler('./test/tsp_schema/')\n",
    "    result = compiler.compile('./notebook.tsp')\n",
    "    \n",
    "    print(result)\n",
    "    \n",
    "    if result[\"result\"] == tsp_compiler.TypeSpecCompilationStatus.COMPILATION_ERROR:\n",
    "        typespec_errors = result[\"errors\"]\n",
    "        print(typespec_errors)\n",
    "        continue\n",
    "    else:\n",
    "        break\n"
   ]
  },
  {
   "cell_type": "code",
   "execution_count": 90,
   "metadata": {},
   "outputs": [
    {
     "data": {
      "text/plain": [
       "{'reasoning': 'For a finance tracking app, users would likely send messages like:\\n- \"I spent $50 on groceries yesterday\"\\n- \"Got my salary of $3000 today\"\\n- \"Show me my expenses for last month\"\\n\\nThe LLM would need to extract:\\n1. Transaction type (expense/income)\\n2. Amount\\n3. Category\\n4. Date\\n5. Optional description/notes\\n\\nFor reports, users might ask for:\\n- Time-based summaries\\n- Category-based breakdowns\\n- Balance calculations\\n\\nThe interface should support recording transactions and generating reports while keeping the argument structure simple enough to be extracted from natural language.',\n",
       " 'typespec_definitions': 'model Transaction {\\n  type: string; // \"expense\" or \"income\"\\n  amount: decimal;\\n  category: string;\\n  date: utcDateTime;\\n  description: string;\\n}\\n\\nmodel TransactionSummary {\\n  totalIncome: decimal;\\n  totalExpenses: decimal;\\n  balance: decimal;\\n  transactions: Transaction[];\\n}\\n\\ninterface FinanceTracker {\\n  @llm_func(1)\\n  recordTransaction(transaction: Transaction): void;\\n\\n  @llm_func(2)\\n  getTransactions(from: utcDateTime, to: utcDateTime): Transaction[];\\n\\n  @llm_func(2)\\n  getSummary(from: utcDateTime, to: utcDateTime): TransactionSummary;\\n}',\n",
       " 'llm_functions': ['recordTransaction', 'getTransactions', 'getSummary']}"
      ]
     },
     "execution_count": 90,
     "metadata": {},
     "output_type": "execute_result"
    }
   ],
   "source": [
    "typespec\n"
   ]
  },
  {
   "cell_type": "code",
   "execution_count": null,
   "metadata": {},
   "outputs": [],
   "source": []
  },
  {
   "cell_type": "code",
   "execution_count": null,
   "metadata": {},
   "outputs": [],
   "source": []
  },
  {
   "cell_type": "code",
   "execution_count": null,
   "metadata": {},
   "outputs": [],
   "source": [
    "prompt = exp_tpl.render(application_description=application_description)\n",
    "\n",
    "exp_response = client.messages.create(\n",
    "    model=\"anthropic.claude-3-5-sonnet-20241022-v2:0\",\n",
    "    max_tokens=8192,\n",
    "    messages=[{\"role\": \"user\", \"content\": prompt}]\n",
    ")\n",
    "expansion = stages.expansion.parse_output(exp_response.content[0].text)"
   ]
  },
  {
   "cell_type": "code",
   "execution_count": null,
   "metadata": {},
   "outputs": [
    {
     "name": "stdout",
     "output_type": "stream",
     "text": [
      "<types>\n",
      "        <type>exercise\n",
      "            - name\n",
      "            - equipment_required\n",
      "            - sets\n",
      "            - reps\n",
      "            - weight</type>\n",
      "        <type>equipment\n",
      "            - name\n",
      "            - type</type>\n",
      "        <type>workout_session\n",
      "            - date\n",
      "            - duration\n",
      "            - exercises_performed</type>\n",
      "        <type>routine\n",
      "            - exercises\n",
      "            - duration\n",
      "            - equipment_needed</type>\n",
      "    </types>\n",
      "    <operations>\n",
      "        <operation>record_workout_session\n",
      "            - date\n",
      "            - exercises with sets/reps/weights</operation>\n",
      "        <operation>track_progress\n",
      "            - exercise\n",
      "            - time period</operation>\n",
      "        <operation>list_available_equipment</operation>\n",
      "        <operation>generate_routine\n",
      "            - available equipment\n",
      "            - time constraint\n",
      "            - fitness level</operation>\n",
      "        <operation>view_history\n",
      "            - time period</operation>\n",
      "    </operations>\n"
     ]
    }
   ],
   "source": [
    "print(expansion[\"application_specification\"])"
   ]
  }
 ],
 "metadata": {
  "kernelspec": {
   "display_name": ".venv",
   "language": "python",
   "name": "python3"
  },
  "language_info": {
   "codemirror_mode": {
    "name": "ipython",
    "version": 3
   },
   "file_extension": ".py",
   "mimetype": "text/x-python",
   "name": "python",
   "nbconvert_exporter": "python",
   "pygments_lexer": "ipython3",
   "version": "3.12.3"
  }
 },
 "nbformat": 4,
 "nbformat_minor": 2
}
