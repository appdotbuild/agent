{
 "cells": [
  {
   "cell_type": "code",
   "execution_count": 18,
   "metadata": {},
   "outputs": [
    {
     "name": "stdout",
     "output_type": "stream",
     "text": [
      "The autoreload extension is already loaded. To reload it, use:\n",
      "  %reload_ext autoreload\n"
     ]
    }
   ],
   "source": [
    "%load_ext autoreload\n",
    "%autoreload 2"
   ]
  },
  {
   "cell_type": "code",
   "execution_count": 19,
   "metadata": {},
   "outputs": [],
   "source": [
    "import re\n",
    "import jinja2\n",
    "from anthropic import AnthropicBedrock\n",
    "from core import stages\n",
    "import json\n"
   ]
  },
  {
   "cell_type": "code",
   "execution_count": 20,
   "metadata": {},
   "outputs": [],
   "source": [
    "client = AnthropicBedrock(aws_profile=\"dev\", aws_region=\"us-west-2\")"
   ]
  },
  {
   "cell_type": "code",
   "execution_count": 21,
   "metadata": {},
   "outputs": [],
   "source": [
    "environment = jinja2.Environment()"
   ]
  },
  {
   "cell_type": "code",
   "execution_count": 58,
   "metadata": {},
   "outputs": [],
   "source": [
    "tsp_tpl = environment.from_string(stages.typespec.PROMPT)\n",
    "dzl_tpl = environment.from_string(stages.drizzle.PROMPT)\n",
    "rtr_tpl = environment.from_string(stages.router.PROMPT)\n",
    "hdl_tpl = environment.from_string(stages.handlers.PROMPT)\n",
    "pre_tpl = environment.from_string(stages.processors.PROMPT_PRE)"
   ]
  },
  {
   "cell_type": "code",
   "execution_count": 23,
   "metadata": {},
   "outputs": [],
   "source": [
    "application_description = \"\"\"\n",
    "Bot that tracks my exercise routine in the gym, tracks progress and suggests new routines\n",
    "for specific list of available equipment and time constraints.\n",
    "\"\"\".strip()"
   ]
  },
  {
   "cell_type": "code",
   "execution_count": 59,
   "metadata": {},
   "outputs": [],
   "source": [
    "prompt = tsp_tpl.render(\n",
    "    application_description=application_description,\n",
    ")\n",
    "\n",
    "tsp_response = client.messages.create(\n",
    "    model=\"anthropic.claude-3-5-sonnet-20241022-v2:0\",\n",
    "    max_tokens=8192,\n",
    "    messages=[{\"role\": \"user\", \"content\": prompt}]\n",
    ")\n",
    "typespec = stages.typespec.parse_output(tsp_response.content[0].text)"
   ]
  },
  {
   "cell_type": "code",
   "execution_count": 60,
   "metadata": {},
   "outputs": [
    {
     "data": {
      "text/plain": [
       "{'reasoning': 'For a gym tracking bot, we need to handle several key aspects:\\n1. Recording exercises with details like sets, reps, weight\\n2. Equipment availability to suggest appropriate exercises\\n3. Time constraints for workout planning\\n4. Progress tracking over time\\n\\nExpected user messages:\\n\"I did 3 sets of bench press with 165lbs, 12 reps each\"\\n-> recordExercise({name: \"bench press\", sets: 3, reps: 12, weight: 165})\\n\\n\"Show me my chest progress for last month\"\\n-> getProgress({muscleGroup: \"chest\", from: [date], to: [date]})\\n\\n\"Create a 45-minute workout plan. I have access to dumbbells and a bench\"\\n-> planWorkout({duration: 45, equipment: [\"dumbbells\", \"bench\"]})',\n",
       " 'typespec_definitions': 'model Exercise {\\n  name: String\\n  sets: Int32\\n  reps: Int32\\n  weight: Float32\\n  date: DateTime\\n}\\n\\nmodel Equipment {\\n  name: String\\n  type: String\\n}\\n\\nmodel WorkoutPlan {\\n  duration: Int32\\n  exercises: PlannedExercise[]\\n}\\n\\nmodel PlannedExercise {\\n  name: String\\n  suggestedSets: Int32\\n  suggestedReps: Int32\\n  restPeriod: Int32\\n}\\n\\nmodel ProgressQuery {\\n  muscleGroup: String\\n  from: DateTime\\n  to: DateTime\\n}\\n\\ninterface GymBot {\\n  @llm_func(2)\\n  recordExercise(exercise: Exercise): void;\\n\\n  @llm_func(3)\\n  getProgress(query: ProgressQuery): Exercise[];\\n\\n  @llm_func(1)\\n  planWorkout(duration: Int32, equipment: Equipment[]): WorkoutPlan;\\n}',\n",
       " 'llm_functions': ['recordExercise', 'getProgress', 'planWorkout']}"
      ]
     },
     "execution_count": 60,
     "metadata": {},
     "output_type": "execute_result"
    }
   ],
   "source": [
    "typespec"
   ]
  },
  {
   "cell_type": "code",
   "execution_count": 26,
   "metadata": {},
   "outputs": [
    {
     "name": "stdout",
     "output_type": "stream",
     "text": [
      "For a gym tracking bot, users will likely send messages like:\n",
      "\"I did 3 sets of bench press with 80kg\" or \"Today I worked out for 45 minutes doing squats and deadlifts\"\n",
      "or \"Suggest a 30-minute workout for chest using dumbbells and bench\"\n",
      "\n",
      "Key functions needed:\n",
      "1. Record exercise with sets, reps, and weight\n",
      "2. Log workout session with duration and exercises\n",
      "3. Get workout suggestions based on:\n",
      "   - Available equipment\n",
      "   - Target muscle groups\n",
      "   - Time constraint\n",
      "4. Track progress over time\n",
      "\n",
      "The LLM can extract these details from natural language:\n",
      "\"I did 3 sets of bench press with 80kg\" -> \n",
      "recordExercise({\n",
      "    name: \"bench press\",\n",
      "    sets: 3,\n",
      "    weight: 80,\n",
      "    muscleGroup: \"chest\"\n",
      "})\n",
      "\n",
      "\"Suggest a 30-minute workout for chest using dumbbells and bench\" ->\n",
      "suggestWorkout({\n",
      "    duration: 30,\n",
      "    equipment: [\"dumbbells\", \"bench\"],\n",
      "    targetMuscle: \"chest\"\n",
      "})\n"
     ]
    }
   ],
   "source": [
    "print(typespec[\"reasoning\"])"
   ]
  },
  {
   "cell_type": "code",
   "execution_count": 27,
   "metadata": {},
   "outputs": [
    {
     "name": "stdout",
     "output_type": "stream",
     "text": [
      "model Exercise {\n",
      "    name: string;\n",
      "    sets: int32;\n",
      "    reps: int32;\n",
      "    weight?: float32;\n",
      "    muscleGroup: string;\n",
      "}\n",
      "\n",
      "model WorkoutSession {\n",
      "    date: Date;\n",
      "    duration: int32;\n",
      "    exercises: Exercise[];\n",
      "}\n",
      "\n",
      "model Equipment {\n",
      "    name: string;\n",
      "    type: string;\n",
      "}\n",
      "\n",
      "interface GymBot {\n",
      "    @llm_func(2)\n",
      "    recordExercise(exercise: Exercise): void;\n",
      "\n",
      "    @llm_func(2)\n",
      "    logWorkoutSession(session: WorkoutSession): void;\n",
      "\n",
      "    @llm_func(3)\n",
      "    suggestWorkout(duration: int32, equipment: Equipment[], targetMuscle: string): Exercise[];\n",
      "\n",
      "    @llm_func(1)\n",
      "    getProgress(exerciseName: string, from: Date, to: Date): Exercise[];\n",
      "}\n"
     ]
    }
   ],
   "source": [
    "print(typespec[\"typespec_definitions\"])"
   ]
  },
  {
   "cell_type": "code",
   "execution_count": 28,
   "metadata": {},
   "outputs": [],
   "source": [
    "prompt = dzl_tpl.render(\n",
    "    typespec_definitions=typespec[\"typespec_definitions\"],\n",
    ")\n",
    "\n",
    "dzl_response = client.messages.create(\n",
    "    model=\"anthropic.claude-3-5-sonnet-20241022-v2:0\",\n",
    "    max_tokens=8192,\n",
    "    messages=[{\"role\": \"user\", \"content\": prompt}]\n",
    ")\n",
    "drizzle = stages.drizzle.parse_output(dzl_response.content[0].text)"
   ]
  },
  {
   "cell_type": "code",
   "execution_count": 29,
   "metadata": {},
   "outputs": [
    {
     "name": "stdout",
     "output_type": "stream",
     "text": [
      "import { serial, text, integer, real, timestamp, pgTable } from \"drizzle-orm/pg-core\";\n",
      "\n",
      "export const exercisesTable = pgTable(\"exercises\", {\n",
      "  id: serial(\"id\").primaryKey(),\n",
      "  name: text(\"name\").notNull(),\n",
      "  sets: integer(\"sets\").notNull(),\n",
      "  reps: integer(\"reps\").notNull(),\n",
      "  weight: real(\"weight\"),\n",
      "  muscle_group: text(\"muscle_group\").notNull(),\n",
      "  created_at: timestamp(\"created_at\").defaultNow().notNull()\n",
      "});\n",
      "\n",
      "export const workoutSessionsTable = pgTable(\"workout_sessions\", {\n",
      "  id: serial(\"id\").primaryKey(),\n",
      "  date: timestamp(\"date\").notNull(),\n",
      "  duration: integer(\"duration\").notNull(),\n",
      "  created_at: timestamp(\"created_at\").defaultNow().notNull()\n",
      "});\n",
      "\n",
      "export const equipmentTable = pgTable(\"equipment\", {\n",
      "  id: serial(\"id\").primaryKey(),\n",
      "  name: text(\"name\").notNull(),\n",
      "  type: text(\"type\").notNull(),\n",
      "  created_at: timestamp(\"created_at\").defaultNow().notNull()\n",
      "});\n",
      "\n",
      "// Junction table for workout sessions and exercises\n",
      "export const workoutExercisesTable = pgTable(\"workout_exercises\", {\n",
      "  id: serial(\"id\").primaryKey(),\n",
      "  workout_session_id: integer(\"workout_session_id\")\n",
      "    .references(() => workoutSessionsTable.id)\n",
      "    .notNull(),\n",
      "  exercise_id: integer(\"exercise_id\")\n",
      "    .references(() => exercisesTable.id)\n",
      "    .notNull(),\n",
      "  sets: integer(\"sets\").notNull(),\n",
      "  reps: integer(\"reps\").notNull(),\n",
      "  weight: real(\"weight\"),\n",
      "  created_at: timestamp(\"created_at\").defaultNow().notNull()\n",
      "});\n",
      "\n",
      "// Table for tracking exercise history\n",
      "export const exerciseHistoryTable = pgTable(\"exercise_history\", {\n",
      "  id: serial(\"id\").primaryKey(),\n",
      "  exercise_id: integer(\"exercise_id\")\n",
      "    .references(() => exercisesTable.id)\n",
      "    .notNull(),\n",
      "  sets: integer(\"sets\").notNull(),\n",
      "  reps: integer(\"reps\").notNull(),\n",
      "  weight: real(\"weight\"),\n",
      "  date: timestamp(\"date\").notNull(),\n",
      "  created_at: timestamp(\"created_at\").defaultNow().notNull()\n",
      "});\n"
     ]
    }
   ],
   "source": [
    "print(drizzle[\"drizzle_schema\"])"
   ]
  },
  {
   "cell_type": "code",
   "execution_count": 30,
   "metadata": {},
   "outputs": [],
   "source": [
    "prompt = rtr_tpl.render(\n",
    "    typespec_definitions=typespec[\"typespec_definitions\"],\n",
    "    user_request=\"I want to record my exercise routine for today.\"\n",
    ")\n",
    "\n",
    "exp_response = client.messages.create(\n",
    "    model=\"anthropic.claude-3-5-sonnet-20241022-v2:0\",\n",
    "    max_tokens=8192,\n",
    "    messages=[{\"role\": \"user\", \"content\": prompt}],\n",
    "    tools = stages.router.TOOLS\n",
    ")\n",
    "\n",
    "funcs = stages.router.parse_outputs([content for content in exp_response.content])[\"user_functions\"]\n"
   ]
  },
  {
   "cell_type": "code",
   "execution_count": 31,
   "metadata": {},
   "outputs": [
    {
     "data": {
      "text/plain": [
       "[{'name': 'recordExercise',\n",
       "  'description': 'Records a single exercise with details like name, sets, reps, weight (optional), and muscle group targeted',\n",
       "  'examples': ['I did 3 sets of 12 bench presses with 135 pounds',\n",
       "   'Just completed 4 sets of pullups, 8 reps each',\n",
       "   'Recorded 3x10 squats targeting legs',\n",
       "   'Add my shoulder press exercise: 3 sets, 10 reps, 45 pounds']},\n",
       " {'name': 'logWorkoutSession',\n",
       "  'description': 'Records a complete workout session including multiple exercises, duration, and date',\n",
       "  'examples': ['I want to record my exercise routine for today',\n",
       "   'Log my workout session from this morning',\n",
       "   'Save my 45-minute workout with these exercises',\n",
       "   'Record my gym session with the following exercises']},\n",
       " {'name': 'suggestWorkout',\n",
       "  'description': 'Suggests exercises based on available equipment, desired duration, and target muscle group',\n",
       "  'examples': ['What exercises can I do for chest with dumbbells in 30 minutes?',\n",
       "   'Suggest a back workout using resistance bands',\n",
       "   'Create a leg workout plan with just a barbell',\n",
       "   'What should I do for arms in 45 minutes with gym equipment?']},\n",
       " {'name': 'getProgress',\n",
       "  'description': 'Retrieves exercise history and progress for a specific exercise over a time period',\n",
       "  'examples': ['Show my bench press progress over the last month',\n",
       "   'How have my squat numbers changed since January?',\n",
       "   'Track my deadlift improvements',\n",
       "   \"What's my progress on pullups from last week?\"]}]"
      ]
     },
     "execution_count": 31,
     "metadata": {},
     "output_type": "execute_result"
    }
   ],
   "source": [
    "funcs"
   ]
  },
  {
   "cell_type": "code",
   "execution_count": 32,
   "metadata": {},
   "outputs": [],
   "source": [
    "pre_processors = {}\n",
    "for function_name in typespec[\"llm_functions\"]:\n",
    "    prompt = pre_tpl.render(\n",
    "        function_name=function_name,\n",
    "        typespec_definitions=typespec[\"typespec_definitions\"],\n",
    "    )\n",
    "\n",
    "    pre_response = client.messages.create(\n",
    "        model=\"anthropic.claude-3-5-sonnet-20241022-v2:0\",\n",
    "        max_tokens=8192,\n",
    "        messages=[{\"role\": \"user\", \"content\": prompt}]\n",
    "    )\n",
    "    pre_processor = stages.processors.parse_output(pre_response.content[0].text)\n",
    "    pre_processors[function_name] = pre_processor"
   ]
  },
  {
   "cell_type": "code",
   "execution_count": 33,
   "metadata": {},
   "outputs": [
    {
     "name": "stdout",
     "output_type": "stream",
     "text": [
      "<instructions>\n",
      "For the getProgress function, parse user input to extract:\n",
      "1. Exercise name (required) - default to exact match from input\n",
      "2. From date (required) - if not specified, default to 30 days ago from current date\n",
      "3. To date (required) - if not specified, default to current date\n",
      "Dates should be in ISO 8601 format (YYYY-MM-DD)\n",
      "Exercise names should be normalized to lower case\n",
      "</instructions>\n",
      "\n",
      "<examples>\n",
      "    <example>\n",
      "        <input>Show me my bench press progress since January</input>\n",
      "        <output>{\n",
      "            \"exerciseName\": \"bench press\",\n",
      "            \"from\": \"2024-01-01\",\n",
      "            \"to\": \"2024-02-14\"\n",
      "        }</output>\n",
      "    </example>\n",
      "\n",
      "    <example>\n",
      "        <input>How am I doing with squats from last week?</input>\n",
      "        <output>{\n",
      "            \"exerciseName\": \"squats\",\n",
      "            \"from\": \"2024-02-07\",\n",
      "            \"to\": \"2024-02-14\"\n",
      "        }</output>\n",
      "    </example>\n",
      "\n",
      "    <example>\n",
      "        <input>deadlift progress between March 1 and April 15 2023</input>\n",
      "        <output>{\n",
      "            \"exerciseName\": \"deadlift\",\n",
      "            \"from\": \"2023-03-01\",\n",
      "            \"to\": \"2023-04-15\"\n",
      "        }</output>\n",
      "    </example>\n",
      "\n",
      "    <example>\n",
      "        <input>Show bicep curls</input>\n",
      "        <output>{\n",
      "            \"exerciseName\": \"bicep curls\",\n",
      "            \"from\": \"2024-01-15\",\n",
      "            \"to\": \"2024-02-14\"\n",
      "        }</output>\n",
      "    </example>\n",
      "\n",
      "    <example>\n",
      "        <input>lateral raises may 2023 to december 2023</input>\n",
      "        <output>{\n",
      "            \"exerciseName\": \"lateral raises\",\n",
      "            \"from\": \"2023-05-01\",\n",
      "            \"to\": \"2023-12-31\"\n",
      "        }</output>\n",
      "    </example>\n",
      "</examples>\n"
     ]
    }
   ],
   "source": [
    "print(pre_response.content[0].text)"
   ]
  },
  {
   "cell_type": "code",
   "execution_count": 34,
   "metadata": {},
   "outputs": [
    {
     "data": {
      "text/plain": [
       "{'recordExercise': {'instructions': 'For recordExercise function, parse user input to extract exercise details:\\n1. Name should be a recognizable exercise name\\n2. Sets and reps are required integers\\n3. Weight is optional float in kilograms/pounds\\n4. Muscle group should be inferred from exercise name if not specified\\n5. Handle variations of input format (text description, shorthand notation)',\n",
       "  'examples': [('I did bench press 3 sets of 8 reps with 80kg',\n",
       "    '{\\n    \"name\": \"bench press\",\\n    \"sets\": 3,\\n    \"reps\": 8,\\n    \"weight\": 80.0,\\n    \"muscleGroup\": \"chest\"\\n}'),\n",
       "   ('bench press 80x5x3',\n",
       "    '{\\n    \"name\": \"bench press\",\\n    \"sets\": 3,\\n    \"reps\": 5,\\n    \"weight\": 80.0,\\n    \"muscleGroup\": \"chest\"\\n}'),\n",
       "   ('did 3 sets of pull-ups, 12 reps each',\n",
       "    '{\\n    \"name\": \"pull-ups\",\\n    \"sets\": 3,\\n    \"reps\": 12,\\n    \"weight\": null,\\n    \"muscleGroup\": \"back\"\\n}'),\n",
       "   ('squats 100kg 5x5',\n",
       "    '{\\n    \"name\": \"squats\",\\n    \"sets\": 5,\\n    \"reps\": 5,\\n    \"weight\": 100.0,\\n    \"muscleGroup\": \"legs\"\\n}'),\n",
       "   ('20 pushups 3 sets',\n",
       "    '{\\n    \"name\": \"pushups\",\\n    \"sets\": 3,\\n    \"reps\": 20,\\n    \"weight\": null,\\n    \"muscleGroup\": \"chest\"\\n}')]},\n",
       " 'logWorkoutSession': {'instructions': 'The logWorkoutSession function expects a WorkoutSession object containing:\\n- date: Current date if not specified\\n- duration: In minutes, must be positive integer\\n- exercises: Array of Exercise objects, each requiring name, sets, reps, muscleGroup (weight optional)\\nParse natural language input to extract workout details.\\nDefault muscleGroup to best guess if not specified.',\n",
       "  'examples': [('Just finished my chest workout: did bench press 3x8 at 80kg, then incline press 3x10 at 60kg for 45 minutes',\n",
       "    '{\\n            \"date\": \"2024-01-20T12:00:00Z\",\\n            \"duration\": 45,\\n            \"exercises\": [\\n                {\\n                    \"name\": \"bench press\",\\n                    \"sets\": 3,\\n                    \"reps\": 8,\\n                    \"weight\": 80,\\n                    \"muscleGroup\": \"chest\"\\n                },\\n                {\\n                    \"name\": \"incline press\",\\n                    \"sets\": 3,\\n                    \"reps\": 10,\\n                    \"weight\": 60,\\n                    \"muscleGroup\": \"chest\"\\n                }\\n            ]\\n        }'),\n",
       "   (\"Today's leg session: squats 4x6 120kg, leg press 3x12 200kg, calf raises 3x15, took about an hour\",\n",
       "    '{\\n            \"date\": \"2024-01-20T12:00:00Z\",\\n            \"duration\": 60,\\n            \"exercises\": [\\n                {\\n                    \"name\": \"squats\",\\n                    \"sets\": 4,\\n                    \"reps\": 6,\\n                    \"weight\": 120,\\n                    \"muscleGroup\": \"legs\"\\n                },\\n                {\\n                    \"name\": \"leg press\",\\n                    \"sets\": 3,\\n                    \"reps\": 12,\\n                    \"weight\": 200,\\n                    \"muscleGroup\": \"legs\"\\n                },\\n                {\\n                    \"name\": \"calf raises\",\\n                    \"sets\": 3,\\n                    \"reps\": 15,\\n                    \"muscleGroup\": \"calves\"\\n                }\\n            ]\\n        }'),\n",
       "   ('Quick pull-ups session: did 3 sets of 10 reps',\n",
       "    '{\\n            \"date\": \"2024-01-20T12:00:00Z\",\\n            \"duration\": 15,\\n            \"exercises\": [\\n                {\\n                    \"name\": \"pull-ups\",\\n                    \"sets\": 3,\\n                    \"reps\": 10,\\n                    \"muscleGroup\": \"back\"\\n                }\\n            ]\\n        }')]},\n",
       " 'suggestWorkout': {'instructions': 'For suggestWorkout function:\\n1. Duration should be interpreted in minutes, default to 60 if not specified\\n2. Equipment list should identify available gym equipment from the user\\'s message\\n3. Target muscle should be normalized to basic muscle groups (legs, chest, back, shoulders, arms, core)\\n4. If target muscle is not specified, infer from context or default to \"full body\"',\n",
       "  'examples': [('I have 30 minutes to work out with dumbbells. Want to train chest.',\n",
       "    '{\\n    \"duration\": 30,\\n    \"equipment\": [\\n        {\\n            \"name\": \"dumbbells\",\\n            \"type\": \"free weights\"\\n        }\\n    ],\\n    \"targetMuscle\": \"chest\"\\n}'),\n",
       "   (\"Suggest exercises for leg day. I'm at a gym with basic machines.\",\n",
       "    '{\\n    \"duration\": 60,\\n    \"equipment\": [\\n        {\\n            \"name\": \"squat rack\",\\n            \"type\": \"machine\"\\n        },\\n        {\\n            \"name\": \"leg press\",\\n            \"type\": \"machine\"\\n        },\\n        {\\n            \"name\": \"leg extension\",\\n            \"type\": \"machine\"\\n        }\\n    ],\\n    \"targetMuscle\": \"legs\"\\n}'),\n",
       "   ('Quick home workout with resistance bands',\n",
       "    '{\\n    \"duration\": 30,\\n    \"equipment\": [\\n        {\\n            \"name\": \"resistance bands\",\\n            \"type\": \"bands\"\\n        }\\n    ],\\n    \"targetMuscle\": \"full body\"\\n}'),\n",
       "   ('I have access to a power rack and barbell, looking to build back strength',\n",
       "    '{\\n    \"duration\": 60,\\n    \"equipment\": [\\n        {\\n            \"name\": \"power rack\",\\n            \"type\": \"machine\"\\n        },\\n        {\\n            \"name\": \"barbell\",\\n            \"type\": \"free weights\"\\n        }\\n    ],\\n    \"targetMuscle\": \"back\"\\n}')]},\n",
       " 'getProgress': {'instructions': 'For the getProgress function, parse user input to extract:\\n1. Exercise name (required) - default to exact match from input\\n2. From date (required) - if not specified, default to 30 days ago from current date\\n3. To date (required) - if not specified, default to current date\\nDates should be in ISO 8601 format (YYYY-MM-DD)\\nExercise names should be normalized to lower case',\n",
       "  'examples': [('Show me my bench press progress since January',\n",
       "    '{\\n            \"exerciseName\": \"bench press\",\\n            \"from\": \"2024-01-01\",\\n            \"to\": \"2024-02-14\"\\n        }'),\n",
       "   ('How am I doing with squats from last week?',\n",
       "    '{\\n            \"exerciseName\": \"squats\",\\n            \"from\": \"2024-02-07\",\\n            \"to\": \"2024-02-14\"\\n        }'),\n",
       "   ('deadlift progress between March 1 and April 15 2023',\n",
       "    '{\\n            \"exerciseName\": \"deadlift\",\\n            \"from\": \"2023-03-01\",\\n            \"to\": \"2023-04-15\"\\n        }'),\n",
       "   ('Show bicep curls',\n",
       "    '{\\n            \"exerciseName\": \"bicep curls\",\\n            \"from\": \"2024-01-15\",\\n            \"to\": \"2024-02-14\"\\n        }'),\n",
       "   ('lateral raises may 2023 to december 2023',\n",
       "    '{\\n            \"exerciseName\": \"lateral raises\",\\n            \"from\": \"2023-05-01\",\\n            \"to\": \"2023-12-31\"\\n        }')]}}"
      ]
     },
     "execution_count": 34,
     "metadata": {},
     "output_type": "execute_result"
    }
   ],
   "source": [
    "pre_processors"
   ]
  },
  {
   "cell_type": "code",
   "execution_count": null,
   "metadata": {},
   "outputs": [],
   "source": []
  },
  {
   "cell_type": "code",
   "execution_count": 35,
   "metadata": {},
   "outputs": [],
   "source": [
    "handlers = {}\n",
    "for function_name in typespec[\"llm_functions\"]:\n",
    "    prompt = hdl_tpl.render(\n",
    "        function_name=function_name,\n",
    "        typespec_definitions=typespec[\"typespec_definitions\"],\n",
    "        drizzle_schema=drizzle[\"drizzle_schema\"],\n",
    "    )\n",
    "\n",
    "    hdl_response = client.messages.create(\n",
    "        model=\"anthropic.claude-3-5-sonnet-20241022-v2:0\",\n",
    "        max_tokens=8192,\n",
    "        messages=[{\"role\": \"user\", \"content\": prompt}]\n",
    "    )\n",
    "    handlers[function_name] = stages.handlers.parse_output(hdl_response.content[0].text)"
   ]
  },
  {
   "cell_type": "code",
   "execution_count": 36,
   "metadata": {},
   "outputs": [
    {
     "data": {
      "text/plain": [
       "{'recordExercise': {'handler': 'import { db } from \"../db\";\\nimport { exercisesTable, exerciseHistoryTable } from \\'../db/schema/application\\';\\n\\nconst handle = async (exercise: Exercise): Promise<void> => {\\n    // First, check if the exercise already exists\\n    const existingExercise = await db\\n        .select()\\n        .from(exercisesTable)\\n        .where(eq(exercisesTable.name, exercise.name))\\n        .limit(1);\\n\\n    let exerciseId: number;\\n\\n    if (existingExercise.length === 0) {\\n        // Insert new exercise if it doesn\\'t exist\\n        const result = await db.insert(exercisesTable).values({\\n            name: exercise.name,\\n            sets: exercise.sets,\\n            reps: exercise.reps,\\n            weight: exercise.weight ?? null,\\n            muscle_group: exercise.muscleGroup\\n        }).returning({ id: exercisesTable.id });\\n        \\n        exerciseId = result[0].id;\\n    } else {\\n        exerciseId = existingExercise[0].id;\\n    }\\n\\n    // Record the exercise in history\\n    await db.insert(exerciseHistoryTable).values({\\n        exercise_id: exerciseId,\\n        sets: exercise.sets,\\n        reps: exercise.reps,\\n        weight: exercise.weight ?? null,\\n        date: new Date()\\n    });\\n};'},\n",
       " 'logWorkoutSession': {'handler': 'import { db } from \"../db\";\\nimport { \\n    workoutSessionsTable, \\n    exercisesTable, \\n    workoutExercisesTable, \\n    exerciseHistoryTable \\n} from \\'../db/schema/application\\';\\nimport { eq } from \\'drizzle-orm\\';\\n\\nconst handle = async (session: WorkoutSession): Promise<void> => {\\n    // Insert workout session\\n    const [workoutSession] = await db.insert(workoutSessionsTable)\\n        .values({\\n            date: session.date,\\n            duration: session.duration\\n        })\\n        .returning();\\n\\n    // Process each exercise\\n    for (const exercise of session.exercises) {\\n        // Check if exercise exists or create new one\\n        let exerciseRecord = await db.select()\\n            .from(exercisesTable)\\n            .where(eq(exercisesTable.name, exercise.name))\\n            .limit(1);\\n\\n        let exerciseId;\\n        \\n        if (exerciseRecord.length === 0) {\\n            // Create new exercise\\n            const [newExercise] = await db.insert(exercisesTable)\\n                .values({\\n                    name: exercise.name,\\n                    sets: exercise.sets,\\n                    reps: exercise.reps,\\n                    weight: exercise.weight || null,\\n                    muscle_group: exercise.muscleGroup\\n                })\\n                .returning();\\n            exerciseId = newExercise.id;\\n        } else {\\n            exerciseId = exerciseRecord[0].id;\\n        }\\n\\n        // Link exercise to workout session\\n        await db.insert(workoutExercisesTable)\\n            .values({\\n                workout_session_id: workoutSession.id,\\n                exercise_id: exerciseId,\\n                sets: exercise.sets,\\n                reps: exercise.reps,\\n                weight: exercise.weight || null\\n            });\\n\\n        // Record in exercise history\\n        await db.insert(exerciseHistoryTable)\\n            .values({\\n                exercise_id: exerciseId,\\n                sets: exercise.sets,\\n                reps: exercise.reps,\\n                weight: exercise.weight || null,\\n                date: session.date\\n            });\\n    }\\n};'},\n",
       " 'suggestWorkout': {'handler': 'import { db } from \"../db\";\\nimport { \\n    exercisesTable, \\n    equipmentTable, \\n    exerciseHistoryTable \\n} from \\'../db/schema/application\\';\\nimport { eq, and, desc } from \\'drizzle-orm\\';\\n\\nconst handle = async (\\n    duration: number, \\n    equipment: { name: string, type: string }[], \\n    targetMuscle: string\\n): Promise<{ name: string, sets: number, reps: number, weight?: number, muscleGroup: string }[]> => {\\n    // Get available equipment IDs\\n    const equipmentIds = await db\\n        .select({ id: equipmentTable.id })\\n        .from(equipmentTable)\\n        .where(\\n            and(\\n                ...equipment.map(e => \\n                    and(\\n                        eq(equipmentTable.name, e.name),\\n                        eq(equipmentTable.type, e.type)\\n                    )\\n                )\\n            )\\n        );\\n\\n    // Get suitable exercises for the target muscle group with available equipment\\n    const exercises = await db\\n        .select({\\n            name: exercisesTable.name,\\n            sets: exercisesTable.sets,\\n            reps: exercisesTable.reps,\\n            weight: exercisesTable.weight,\\n            muscleGroup: exercisesTable.muscle_group\\n        })\\n        .from(exercisesTable)\\n        .where(eq(exercisesTable.muscle_group, targetMuscle))\\n        .limit(Math.ceil(duration / 10)); // Assuming each exercise takes roughly 10 minutes\\n\\n    // Get historical data for weight suggestions\\n    const exerciseHistory = await db\\n        .select({\\n            name: exercisesTable.name,\\n            weight: exerciseHistoryTable.weight\\n        })\\n        .from(exerciseHistoryTable)\\n        .innerJoin(exercisesTable, eq(exerciseHistoryTable.exercise_id, exercisesTable.id))\\n        .orderBy(desc(exerciseHistoryTable.date))\\n        .limit(exercises.length);\\n\\n    // Update weights based on historical data if available\\n    return exercises.map(exercise => {\\n        const history = exerciseHistory.find(h => h.name === exercise.name);\\n        if (history && history.weight) {\\n            exercise.weight = history.weight;\\n        }\\n        return exercise;\\n    });\\n};'},\n",
       " 'getProgress': {'handler': 'import { db } from \"../db\";\\nimport { and, between, eq } from \"drizzle-orm\";\\nimport { exerciseHistoryTable, exercisesTable } from \"../db/schema/application\";\\n\\nconst handle = async (exerciseName: string, from: Date, to: Date): Promise<Exercise[]> => {\\n    const exerciseHistory = await db\\n        .select({\\n            name: exercisesTable.name,\\n            sets: exerciseHistoryTable.sets,\\n            reps: exerciseHistoryTable.reps,\\n            weight: exerciseHistoryTable.weight,\\n            muscle_group: exercisesTable.muscle_group,\\n        })\\n        .from(exerciseHistoryTable)\\n        .innerJoin(\\n            exercisesTable,\\n            eq(exerciseHistoryTable.exercise_id, exercisesTable.id)\\n        )\\n        .where(\\n            and(\\n                eq(exercisesTable.name, exerciseName),\\n                between(exerciseHistoryTable.date, from, to)\\n            )\\n        )\\n        .execute();\\n\\n    return exerciseHistory.map(record => ({\\n        name: record.name,\\n        sets: record.sets,\\n        reps: record.reps,\\n        weight: record.weight ?? undefined,\\n        muscleGroup: record.muscle_group\\n    }));\\n};'}}"
      ]
     },
     "execution_count": 36,
     "metadata": {},
     "output_type": "execute_result"
    }
   ],
   "source": [
    "handlers"
   ]
  },
  {
   "cell_type": "code",
   "execution_count": 37,
   "metadata": {},
   "outputs": [],
   "source": [
    "with open(\"core/handler.tpl\", \"r\") as f:\n",
    "    handler_ts_tpl = environment.from_string(f.read())"
   ]
  },
  {
   "cell_type": "code",
   "execution_count": 38,
   "metadata": {},
   "outputs": [],
   "source": [
    "hdl_key = \"recordExercise\"\n",
    "params = {\n",
    "    \"handler\": handlers[hdl_key][\"handler\"],\n",
    "    \"instructions\": pre_processors[hdl_key][\"instructions\"],\n",
    "    \"examples\": pre_processors[hdl_key][\"examples\"],\n",
    "}\n",
    "file_content = handler_ts_tpl.render(**params)"
   ]
  },
  {
   "cell_type": "code",
   "execution_count": 39,
   "metadata": {},
   "outputs": [
    {
     "name": "stdout",
     "output_type": "stream",
     "text": [
      "import { Message } from \"../common/handler\";\n",
      "import { client } from \"../common/llm\";\n",
      "import { db } from \"../db\";\n",
      "import { exercisesTable, exerciseHistoryTable } from '../db/schema/application';\n",
      "\n",
      "const handle = async (exercise: Exercise): Promise<void> => {\n",
      "    // First, check if the exercise already exists\n",
      "    const existingExercise = await db\n",
      "        .select()\n",
      "        .from(exercisesTable)\n",
      "        .where(eq(exercisesTable.name, exercise.name))\n",
      "        .limit(1);\n",
      "\n",
      "    let exerciseId: number;\n",
      "\n",
      "    if (existingExercise.length === 0) {\n",
      "        // Insert new exercise if it doesn't exist\n",
      "        const result = await db.insert(exercisesTable).values({\n",
      "            name: exercise.name,\n",
      "            sets: exercise.sets,\n",
      "            reps: exercise.reps,\n",
      "            weight: exercise.weight ?? null,\n",
      "            muscle_group: exercise.muscleGroup\n",
      "        }).returning({ id: exercisesTable.id });\n",
      "        \n",
      "        exerciseId = result[0].id;\n",
      "    } else {\n",
      "        exerciseId = existingExercise[0].id;\n",
      "    }\n",
      "\n",
      "    // Record the exercise in history\n",
      "    await db.insert(exerciseHistoryTable).values({\n",
      "        exercise_id: exerciseId,\n",
      "        sets: exercise.sets,\n",
      "        reps: exercise.reps,\n",
      "        weight: exercise.weight ?? null,\n",
      "        date: new Date()\n",
      "    });\n",
      "};\n",
      "\n",
      "\n",
      "const preProcessorPrompt = `\n",
      "Examine conversation between user and assistant and extract structured arguments for a function.\n",
      "\n",
      "<instructions>\n",
      "For recordExercise function, parse user input to extract exercise details:\n",
      "1. Name should be a recognizable exercise name\n",
      "2. Sets and reps are required integers\n",
      "3. Weight is optional float in kilograms/pounds\n",
      "4. Muscle group should be inferred from exercise name if not specified\n",
      "5. Handle variations of input format (text description, shorthand notation)\n",
      "</instructions>\n",
      "\n",
      "Examples:\n",
      "\n",
      "\n",
      "Input:\n",
      "I did bench press 3 sets of 8 reps with 80kg\n",
      "Output:\n",
      "{\n",
      "    \"name\": \"bench press\",\n",
      "    \"sets\": 3,\n",
      "    \"reps\": 8,\n",
      "    \"weight\": 80.0,\n",
      "    \"muscleGroup\": \"chest\"\n",
      "}\n",
      "\n",
      "Input:\n",
      "bench press 80x5x3\n",
      "Output:\n",
      "{\n",
      "    \"name\": \"bench press\",\n",
      "    \"sets\": 3,\n",
      "    \"reps\": 5,\n",
      "    \"weight\": 80.0,\n",
      "    \"muscleGroup\": \"chest\"\n",
      "}\n",
      "\n",
      "Input:\n",
      "did 3 sets of pull-ups, 12 reps each\n",
      "Output:\n",
      "{\n",
      "    \"name\": \"pull-ups\",\n",
      "    \"sets\": 3,\n",
      "    \"reps\": 12,\n",
      "    \"weight\": null,\n",
      "    \"muscleGroup\": \"back\"\n",
      "}\n",
      "\n",
      "Input:\n",
      "squats 100kg 5x5\n",
      "Output:\n",
      "{\n",
      "    \"name\": \"squats\",\n",
      "    \"sets\": 5,\n",
      "    \"reps\": 5,\n",
      "    \"weight\": 100.0,\n",
      "    \"muscleGroup\": \"legs\"\n",
      "}\n",
      "\n",
      "Input:\n",
      "20 pushups 3 sets\n",
      "Output:\n",
      "{\n",
      "    \"name\": \"pushups\",\n",
      "    \"sets\": 3,\n",
      "    \"reps\": 20,\n",
      "    \"weight\": null,\n",
      "    \"muscleGroup\": \"chest\"\n",
      "}\n",
      "\n",
      "\n",
      "Conversation:\n",
      "{% for message in messages %}\n",
      "<role name=\"{{message.role}}\">{{message.content}}</role>\n",
      "{% endfor %}\n",
      "`;\n",
      "\n",
      "const preProcessor = async (input: Message[]): Promise<[string]> => {\n",
      "    const response = await client.messages.create({\n",
      "        model: 'anthropic.claude-3-5-sonnet-20241022-v2:0',\n",
      "        max_tokens: 2048,\n",
      "        messages: input.map(({ role, content }) => ({ role, content }))\n",
      "    });\n",
      "    switch (response.content[0].type) {\n",
      "        case \"text\":\n",
      "            return [response.content[0].text];\n",
      "        default:\n",
      "            throw new Error(\"Unexpected response type\");\n",
      "    }\n",
      "};\n"
     ]
    }
   ],
   "source": [
    "print(file_content)"
   ]
  },
  {
   "cell_type": "code",
   "execution_count": 40,
   "metadata": {},
   "outputs": [
    {
     "name": "stdout",
     "output_type": "stream",
     "text": [
      "import { db } from \"../db\";\n",
      "import { \n",
      "    exercisesTable, \n",
      "    equipmentTable, \n",
      "    exerciseHistoryTable \n",
      "} from '../db/schema/application';\n",
      "import { eq, and, desc } from 'drizzle-orm';\n",
      "\n",
      "const handle = async (\n",
      "    duration: number, \n",
      "    equipment: { name: string, type: string }[], \n",
      "    targetMuscle: string\n",
      "): Promise<{ name: string, sets: number, reps: number, weight?: number, muscleGroup: string }[]> => {\n",
      "    // Get available equipment IDs\n",
      "    const equipmentIds = await db\n",
      "        .select({ id: equipmentTable.id })\n",
      "        .from(equipmentTable)\n",
      "        .where(\n",
      "            and(\n",
      "                ...equipment.map(e => \n",
      "                    and(\n",
      "                        eq(equipmentTable.name, e.name),\n",
      "                        eq(equipmentTable.type, e.type)\n",
      "                    )\n",
      "                )\n",
      "            )\n",
      "        );\n",
      "\n",
      "    // Get suitable exercises for the target muscle group with available equipment\n",
      "    const exercises = await db\n",
      "        .select({\n",
      "            name: exercisesTable.name,\n",
      "            sets: exercisesTable.sets,\n",
      "            reps: exercisesTable.reps,\n",
      "            weight: exercisesTable.weight,\n",
      "            muscleGroup: exercisesTable.muscle_group\n",
      "        })\n",
      "        .from(exercisesTable)\n",
      "        .where(eq(exercisesTable.muscle_group, targetMuscle))\n",
      "        .limit(Math.ceil(duration / 10)); // Assuming each exercise takes roughly 10 minutes\n",
      "\n",
      "    // Get historical data for weight suggestions\n",
      "    const exerciseHistory = await db\n",
      "        .select({\n",
      "            name: exercisesTable.name,\n",
      "            weight: exerciseHistoryTable.weight\n",
      "        })\n",
      "        .from(exerciseHistoryTable)\n",
      "        .innerJoin(exercisesTable, eq(exerciseHistoryTable.exercise_id, exercisesTable.id))\n",
      "        .orderBy(desc(exerciseHistoryTable.date))\n",
      "        .limit(exercises.length);\n",
      "\n",
      "    // Update weights based on historical data if available\n",
      "    return exercises.map(exercise => {\n",
      "        const history = exerciseHistory.find(h => h.name === exercise.name);\n",
      "        if (history && history.weight) {\n",
      "            exercise.weight = history.weight;\n",
      "        }\n",
      "        return exercise;\n",
      "    });\n",
      "};\n"
     ]
    }
   ],
   "source": [
    "print(handlers[\"suggestWorkout\"][\"handler\"])"
   ]
  },
  {
   "cell_type": "code",
   "execution_count": 41,
   "metadata": {},
   "outputs": [],
   "source": [
    "ts_defs = stages.typespec.parse_output(stages.typespec.PROMPT)"
   ]
  },
  {
   "cell_type": "code",
   "execution_count": 42,
   "metadata": {},
   "outputs": [
    {
     "data": {
      "text/plain": [
       "{'reasoning': 'I expect user to send messages like \"I ate a burger\" or \"I had a salad for lunch\".\\nLLM can extract and infer the arguments from plain text and pass them to the handler\\n\"I ate a burger\" -> recordDish({name: \"burger\", ingredients: [\\n    {name: \"bun\", calories: 200},\\n    {name: \"patty\", calories: 300},\\n    {name: \"lettuce\", calories: 10},\\n    {name: \"tomato\", calories: 20},\\n    {name: \"cheese\", calories: 50},\\n]})\\n- recordDish(dish: Dish): void;\\n...',\n",
       " 'typespec_definitions': 'model Dish {\\n    name: String\\n    ingredients: Ingredient[]\\n}\\n\\nmodel Ingredient {\\n    name: String\\n    calories: Int\\n}\\n\\ninterface DietBot {\\n    @llm_func(1)\\n    recordDish(dish: Dish): void;\\n    @llm_func(1)\\n    listDishes(from: Date, to: Date): Dish[];\\n}',\n",
       " 'llm_functions': ['recordDish', 'listDishes']}"
      ]
     },
     "execution_count": 42,
     "metadata": {},
     "output_type": "execute_result"
    }
   ],
   "source": [
    "ts_defs"
   ]
  },
  {
   "cell_type": "code",
   "execution_count": 43,
   "metadata": {},
   "outputs": [],
   "source": [
    "func_names = stages.typespec.extract_llm_func_names(stages.typespec.PROMPT)"
   ]
  },
  {
   "cell_type": "code",
   "execution_count": 44,
   "metadata": {},
   "outputs": [
    {
     "data": {
      "text/plain": [
       "['recordDish', 'listDishes']"
      ]
     },
     "execution_count": 44,
     "metadata": {},
     "output_type": "execute_result"
    }
   ],
   "source": [
    "func_names"
   ]
  },
  {
   "cell_type": "markdown",
   "metadata": {},
   "source": [
    "# Project Generation"
   ]
  },
  {
   "cell_type": "code",
   "execution_count": 45,
   "metadata": {},
   "outputs": [],
   "source": [
    "from shutil import copytree, ignore_patterns"
   ]
  },
  {
   "cell_type": "code",
   "execution_count": 46,
   "metadata": {},
   "outputs": [],
   "source": [
    "def setup_project(workdir: str):\n",
    "    copytree('templates', workdir, ignore=ignore_patterns('*.pyc', '__pycache__', 'node_modules'))"
   ]
  },
  {
   "cell_type": "code",
   "execution_count": 47,
   "metadata": {},
   "outputs": [
    {
     "ename": "FileExistsError",
     "evalue": "[Errno 17] File exists: 'test'",
     "output_type": "error",
     "traceback": [
      "\u001b[0;31m---------------------------------------------------------------------------\u001b[0m",
      "\u001b[0;31mFileExistsError\u001b[0m                           Traceback (most recent call last)",
      "Cell \u001b[0;32mIn[47], line 1\u001b[0m\n\u001b[0;32m----> 1\u001b[0m \u001b[43msetup_project\u001b[49m\u001b[43m(\u001b[49m\u001b[38;5;124;43m'\u001b[39;49m\u001b[38;5;124;43mtest\u001b[39;49m\u001b[38;5;124;43m'\u001b[39;49m\u001b[43m)\u001b[49m\n",
      "Cell \u001b[0;32mIn[46], line 2\u001b[0m, in \u001b[0;36msetup_project\u001b[0;34m(workdir)\u001b[0m\n\u001b[1;32m      1\u001b[0m \u001b[38;5;28;01mdef\u001b[39;00m\u001b[38;5;250m \u001b[39m\u001b[38;5;21msetup_project\u001b[39m(workdir: \u001b[38;5;28mstr\u001b[39m):\n\u001b[0;32m----> 2\u001b[0m     \u001b[43mcopytree\u001b[49m\u001b[43m(\u001b[49m\u001b[38;5;124;43m'\u001b[39;49m\u001b[38;5;124;43mtemplates\u001b[39;49m\u001b[38;5;124;43m'\u001b[39;49m\u001b[43m,\u001b[49m\u001b[43m \u001b[49m\u001b[43mworkdir\u001b[49m\u001b[43m,\u001b[49m\u001b[43m \u001b[49m\u001b[43mignore\u001b[49m\u001b[38;5;241;43m=\u001b[39;49m\u001b[43mignore_patterns\u001b[49m\u001b[43m(\u001b[49m\u001b[38;5;124;43m'\u001b[39;49m\u001b[38;5;124;43m*.pyc\u001b[39;49m\u001b[38;5;124;43m'\u001b[39;49m\u001b[43m,\u001b[49m\u001b[43m \u001b[49m\u001b[38;5;124;43m'\u001b[39;49m\u001b[38;5;124;43m__pycache__\u001b[39;49m\u001b[38;5;124;43m'\u001b[39;49m\u001b[43m,\u001b[49m\u001b[43m \u001b[49m\u001b[38;5;124;43m'\u001b[39;49m\u001b[38;5;124;43mnode_modules\u001b[39;49m\u001b[38;5;124;43m'\u001b[39;49m\u001b[43m)\u001b[49m\u001b[43m)\u001b[49m\n",
      "File \u001b[0;32m/usr/lib/python3.12/shutil.py:600\u001b[0m, in \u001b[0;36mcopytree\u001b[0;34m(src, dst, symlinks, ignore, copy_function, ignore_dangling_symlinks, dirs_exist_ok)\u001b[0m\n\u001b[1;32m    598\u001b[0m \u001b[38;5;28;01mwith\u001b[39;00m os\u001b[38;5;241m.\u001b[39mscandir(src) \u001b[38;5;28;01mas\u001b[39;00m itr:\n\u001b[1;32m    599\u001b[0m     entries \u001b[38;5;241m=\u001b[39m \u001b[38;5;28mlist\u001b[39m(itr)\n\u001b[0;32m--> 600\u001b[0m \u001b[38;5;28;01mreturn\u001b[39;00m \u001b[43m_copytree\u001b[49m\u001b[43m(\u001b[49m\u001b[43mentries\u001b[49m\u001b[38;5;241;43m=\u001b[39;49m\u001b[43mentries\u001b[49m\u001b[43m,\u001b[49m\u001b[43m \u001b[49m\u001b[43msrc\u001b[49m\u001b[38;5;241;43m=\u001b[39;49m\u001b[43msrc\u001b[49m\u001b[43m,\u001b[49m\u001b[43m \u001b[49m\u001b[43mdst\u001b[49m\u001b[38;5;241;43m=\u001b[39;49m\u001b[43mdst\u001b[49m\u001b[43m,\u001b[49m\u001b[43m \u001b[49m\u001b[43msymlinks\u001b[49m\u001b[38;5;241;43m=\u001b[39;49m\u001b[43msymlinks\u001b[49m\u001b[43m,\u001b[49m\n\u001b[1;32m    601\u001b[0m \u001b[43m                 \u001b[49m\u001b[43mignore\u001b[49m\u001b[38;5;241;43m=\u001b[39;49m\u001b[43mignore\u001b[49m\u001b[43m,\u001b[49m\u001b[43m \u001b[49m\u001b[43mcopy_function\u001b[49m\u001b[38;5;241;43m=\u001b[39;49m\u001b[43mcopy_function\u001b[49m\u001b[43m,\u001b[49m\n\u001b[1;32m    602\u001b[0m \u001b[43m                 \u001b[49m\u001b[43mignore_dangling_symlinks\u001b[49m\u001b[38;5;241;43m=\u001b[39;49m\u001b[43mignore_dangling_symlinks\u001b[49m\u001b[43m,\u001b[49m\n\u001b[1;32m    603\u001b[0m \u001b[43m                 \u001b[49m\u001b[43mdirs_exist_ok\u001b[49m\u001b[38;5;241;43m=\u001b[39;49m\u001b[43mdirs_exist_ok\u001b[49m\u001b[43m)\u001b[49m\n",
      "File \u001b[0;32m/usr/lib/python3.12/shutil.py:498\u001b[0m, in \u001b[0;36m_copytree\u001b[0;34m(entries, src, dst, symlinks, ignore, copy_function, ignore_dangling_symlinks, dirs_exist_ok)\u001b[0m\n\u001b[1;32m    495\u001b[0m \u001b[38;5;28;01melse\u001b[39;00m:\n\u001b[1;32m    496\u001b[0m     ignored_names \u001b[38;5;241m=\u001b[39m ()\n\u001b[0;32m--> 498\u001b[0m \u001b[43mos\u001b[49m\u001b[38;5;241;43m.\u001b[39;49m\u001b[43mmakedirs\u001b[49m\u001b[43m(\u001b[49m\u001b[43mdst\u001b[49m\u001b[43m,\u001b[49m\u001b[43m \u001b[49m\u001b[43mexist_ok\u001b[49m\u001b[38;5;241;43m=\u001b[39;49m\u001b[43mdirs_exist_ok\u001b[49m\u001b[43m)\u001b[49m\n\u001b[1;32m    499\u001b[0m errors \u001b[38;5;241m=\u001b[39m []\n\u001b[1;32m    500\u001b[0m use_srcentry \u001b[38;5;241m=\u001b[39m copy_function \u001b[38;5;129;01mis\u001b[39;00m copy2 \u001b[38;5;129;01mor\u001b[39;00m copy_function \u001b[38;5;129;01mis\u001b[39;00m copy\n",
      "File \u001b[0;32m<frozen os>:225\u001b[0m, in \u001b[0;36mmakedirs\u001b[0;34m(name, mode, exist_ok)\u001b[0m\n",
      "\u001b[0;31mFileExistsError\u001b[0m: [Errno 17] File exists: 'test'"
     ]
    }
   ],
   "source": [
    "setup_project('test')"
   ]
  },
  {
   "cell_type": "code",
   "execution_count": 9,
   "metadata": {},
   "outputs": [],
   "source": [
    "from core.stages import router"
   ]
  },
  {
   "cell_type": "code",
   "execution_count": 79,
   "metadata": {},
   "outputs": [],
   "source": [
    "prompt = rtr_tpl.render(\n",
    "    typespec_definitions=typespec[\"typespec_definitions\"],\n",
    "    user_request=\"I want to record my exercise routine for today.\"\n",
    ")\n",
    "\n",
    "exp_response = client.messages.create(\n",
    "    model=\"anthropic.claude-3-5-sonnet-20241022-v2:0\",\n",
    "    max_tokens=8192,\n",
    "    messages=[{\"role\": \"user\", \"content\": prompt}],\n",
    "    tools = router.TOOLS\n",
    ")\n",
    "\n",
    "funcs = router.parse_outputs([content for content in exp_response.content])[\"user_functions\"]"
   ]
  },
  {
   "cell_type": "code",
   "execution_count": 49,
   "metadata": {},
   "outputs": [
    {
     "data": {
      "text/plain": [
       "[{'name': 'recordExercise',\n",
       "  'description': 'Records a single exercise with details like name, sets, reps, weight (optional), and muscle group targeted. Use this when a user wants to log one specific exercise.',\n",
       "  'examples': ['I did 3 sets of 12 bench presses with 135 pounds',\n",
       "   'Just finished 4 sets of pull-ups, 8 reps each',\n",
       "   'Completed leg press: 3 sets, 10 reps at 225 pounds']},\n",
       " {'name': 'logWorkoutSession',\n",
       "  'description': 'Records a complete workout session including multiple exercises, duration, and date. Use this when a user wants to log their entire workout routine or multiple exercises at once.',\n",
       "  'examples': ['I want to record my exercise routine for today',\n",
       "   'Let me log my 45-minute workout from this morning',\n",
       "   'Need to save my chest and triceps workout from yesterday']},\n",
       " {'name': 'suggestWorkout',\n",
       "  'description': 'Suggests exercises based on available equipment, desired workout duration, and target muscle group. Use this when a user asks for workout recommendations or exercise plans.',\n",
       "  'examples': ['What exercises can I do for legs with dumbbells in 30 minutes?',\n",
       "   'Suggest a back workout using resistance bands',\n",
       "   'Plan a 45-minute chest workout with basic gym equipment']},\n",
       " {'name': 'getProgress',\n",
       "  'description': 'Retrieves historical data for a specific exercise over a time period to track progress. Use this when a user wants to see their improvement or history for a particular exercise.',\n",
       "  'examples': ['Show me my bench press progress over the last month',\n",
       "   'How has my squat improved since January?',\n",
       "   'Track my deadlift numbers from last week until now']}]"
      ]
     },
     "execution_count": 49,
     "metadata": {},
     "output_type": "execute_result"
    }
   ],
   "source": [
    "funcs"
   ]
  },
  {
   "cell_type": "code",
   "execution_count": 83,
   "metadata": {},
   "outputs": [],
   "source": [
    "from core.stages import typespec\n",
    "\n",
    "tsp_tpl = environment.from_string(stages.typespec.PROMPT)\n",
    "\n",
    "prompt = tsp_tpl.render(\n",
    "    application_description=application_description,\n",
    ")\n",
    "\n",
    "tsp_response = client.messages.create(\n",
    "    model=\"anthropic.claude-3-5-sonnet-20241022-v2:0\",\n",
    "    max_tokens=8192,\n",
    "    messages=[{\"role\": \"user\", \"content\": prompt}]\n",
    ")\n",
    "typespec = stages.typespec.parse_output(tsp_response.content[0].text)"
   ]
  },
  {
   "cell_type": "code",
   "execution_count": 84,
   "metadata": {},
   "outputs": [
    {
     "data": {
      "text/plain": [
       "{'reasoning': 'For a gym tracking bot, I expect users to send messages like:\\n\"I did 3 sets of bench press with 80kg today\" -> recordExercise()\\n\"Show my progress for bench press\" -> getProgress()\\n\"Suggest a 30-minute workout for chest using dumbbells\" -> suggestRoutine()\\n\\nKey entities needed:\\n- Exercise (name, sets, reps, weight)\\n- Equipment (type of gear available)\\n- Workout (collection of exercises with duration)\\n- Progress tracking (exercise history with dates)\\n\\nThe interface needs to:\\n1. Record individual exercises\\n2. Track progress over time\\n3. Generate workout suggestions based on constraints\\n4. List available equipment',\n",
       " 'typespec_definitions': 'model Exercise {\\n    name: string;\\n    sets: integer;\\n    reps: integer;\\n    weight: float;\\n    date: utcDateTime;\\n}\\n\\nmodel Equipment {\\n    name: string;\\n    category: string;\\n}\\n\\nmodel WorkoutPlan {\\n    exercises: Exercise[];\\n    duration: duration;\\n    difficulty: string;\\n    equipment: Equipment[];\\n}\\n\\nmodel ProgressMetric {\\n    exercise: string;\\n    history: Exercise[];\\n    trend: string;\\n}\\n\\ninterface GymBot {\\n    @llm_func(2)\\n    recordExercise(exercise: Exercise): void;\\n\\n    @llm_func(1)\\n    getProgress(exerciseName: string, timeframe: duration): ProgressMetric;\\n\\n    @llm_func(3)\\n    suggestRoutine(\\n        availableTime: duration,\\n        equipment: Equipment[],\\n        targetMuscles: string[]\\n    ): WorkoutPlan;\\n\\n    @llm_func(1)\\n    updateEquipment(equipment: Equipment[]): void;\\n}',\n",
       " 'llm_functions': ['recordExercise',\n",
       "  'getProgress',\n",
       "  'suggestRoutine',\n",
       "  'updateEquipment']}"
      ]
     },
     "execution_count": 84,
     "metadata": {},
     "output_type": "execute_result"
    }
   ],
   "source": [
    "typespec"
   ]
  },
  {
   "cell_type": "code",
   "execution_count": 87,
   "metadata": {},
   "outputs": [
    {
     "name": "stdout",
     "output_type": "stream",
     "text": [
      "TypeSpec compiler v0.64.0\n",
      "\n",
      "Compilation completed successfully.\n",
      "\n",
      "No emitter was configured, no output was generated. Use `--emit <emitterName>` to pick emitter or specify it in the TypeSpec config.\n",
      "\n",
      "\n"
     ]
    }
   ],
   "source": [
    "import subprocess\n",
    "\n",
    "# Write TypeSpec definitions to file\n",
    "with open('./test/tsp_schema/notebook.tsp', 'w') as f:\n",
    "    f.writelines(['import \"./helpers.js\";', \n",
    "                  '\\n', \n",
    "                  'extern dec llm_func(target: unknown, history: valueof int32);'\n",
    "                  ])\n",
    "        \n",
    "    f.write(typespec[\"typespec_definitions\"])\n",
    "\n",
    "result_tsp = subprocess.run(['tsp', 'compile', 'notebook.tsp'], \n",
    "                            stdout=subprocess.PIPE,\n",
    "                            stderr=subprocess.PIPE,\n",
    "                            cwd='./test/tsp_schema/.')\n",
    "print(result_tsp.stdout.decode())\n",
    "print(result_tsp.stderr.decode())"
   ]
  },
  {
   "cell_type": "code",
   "execution_count": null,
   "metadata": {},
   "outputs": [],
   "source": []
  },
  {
   "cell_type": "code",
   "execution_count": null,
   "metadata": {},
   "outputs": [],
   "source": []
  },
  {
   "cell_type": "code",
   "execution_count": null,
   "metadata": {},
   "outputs": [],
   "source": [
    "prompt = exp_tpl.render(application_description=application_description)\n",
    "\n",
    "exp_response = client.messages.create(\n",
    "    model=\"anthropic.claude-3-5-sonnet-20241022-v2:0\",\n",
    "    max_tokens=8192,\n",
    "    messages=[{\"role\": \"user\", \"content\": prompt}]\n",
    ")\n",
    "expansion = stages.expansion.parse_output(exp_response.content[0].text)"
   ]
  },
  {
   "cell_type": "code",
   "execution_count": null,
   "metadata": {},
   "outputs": [
    {
     "name": "stdout",
     "output_type": "stream",
     "text": [
      "<types>\n",
      "        <type>exercise\n",
      "            - name\n",
      "            - equipment_required\n",
      "            - sets\n",
      "            - reps\n",
      "            - weight</type>\n",
      "        <type>equipment\n",
      "            - name\n",
      "            - type</type>\n",
      "        <type>workout_session\n",
      "            - date\n",
      "            - duration\n",
      "            - exercises_performed</type>\n",
      "        <type>routine\n",
      "            - exercises\n",
      "            - duration\n",
      "            - equipment_needed</type>\n",
      "    </types>\n",
      "    <operations>\n",
      "        <operation>record_workout_session\n",
      "            - date\n",
      "            - exercises with sets/reps/weights</operation>\n",
      "        <operation>track_progress\n",
      "            - exercise\n",
      "            - time period</operation>\n",
      "        <operation>list_available_equipment</operation>\n",
      "        <operation>generate_routine\n",
      "            - available equipment\n",
      "            - time constraint\n",
      "            - fitness level</operation>\n",
      "        <operation>view_history\n",
      "            - time period</operation>\n",
      "    </operations>\n"
     ]
    }
   ],
   "source": [
    "print(expansion[\"application_specification\"])"
   ]
  }
 ],
 "metadata": {
  "kernelspec": {
   "display_name": ".venv",
   "language": "python",
   "name": "python3"
  },
  "language_info": {
   "codemirror_mode": {
    "name": "ipython",
    "version": 3
   },
   "file_extension": ".py",
   "mimetype": "text/x-python",
   "name": "python",
   "nbconvert_exporter": "python",
   "pygments_lexer": "ipython3",
   "version": "3.12.3"
  }
 },
 "nbformat": 4,
 "nbformat_minor": 2
}
