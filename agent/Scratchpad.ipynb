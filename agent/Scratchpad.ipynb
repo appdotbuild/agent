{
 "cells": [
  {
   "cell_type": "code",
   "execution_count": 76,
   "metadata": {},
   "outputs": [
    {
     "name": "stdout",
     "output_type": "stream",
     "text": [
      "The autoreload extension is already loaded. To reload it, use:\n",
      "  %reload_ext autoreload\n"
     ]
    }
   ],
   "source": [
    "%load_ext autoreload\n",
    "%autoreload 2"
   ]
  },
  {
   "cell_type": "code",
   "execution_count": 77,
   "metadata": {},
   "outputs": [],
   "source": [
    "import re\n",
    "import jinja2\n",
    "from anthropic import AnthropicBedrock\n",
    "from core import stages\n",
    "import json\n"
   ]
  },
  {
   "cell_type": "code",
   "execution_count": 78,
   "metadata": {},
   "outputs": [],
   "source": [
    "client = AnthropicBedrock(aws_profile=\"dev\", aws_region=\"us-west-2\")"
   ]
  },
  {
   "cell_type": "code",
   "execution_count": 79,
   "metadata": {},
   "outputs": [],
   "source": [
    "environment = jinja2.Environment()"
   ]
  },
  {
   "cell_type": "code",
   "execution_count": 80,
   "metadata": {},
   "outputs": [],
   "source": [
    "tsp_tpl = environment.from_string(stages.typespec.PROMPT)\n",
    "dzl_tpl = environment.from_string(stages.drizzle.PROMPT)\n",
    "rtr_tpl = environment.from_string(stages.router.PROMPT)\n",
    "hdl_tpl = environment.from_string(stages.handlers.PROMPT)\n",
    "pre_tpl = environment.from_string(stages.processors.PROMPT_PRE)"
   ]
  },
  {
   "cell_type": "code",
   "execution_count": 81,
   "metadata": {},
   "outputs": [],
   "source": [
    "application_description = \"\"\"\n",
    "Bot that tracks my exercise routine in the gym, tracks progress and suggests new routines\n",
    "for specific list of available equipment and time constraints.\n",
    "\"\"\".strip()"
   ]
  },
  {
   "cell_type": "code",
   "execution_count": 82,
   "metadata": {},
   "outputs": [],
   "source": [
    "prompt = tsp_tpl.render(\n",
    "    application_description=application_description,\n",
    ")\n",
    "\n",
    "tsp_response = client.messages.create(\n",
    "    model=\"anthropic.claude-3-5-sonnet-20241022-v2:0\",\n",
    "    max_tokens=8192,\n",
    "    messages=[{\"role\": \"user\", \"content\": prompt}]\n",
    ")\n",
    "typespec = stages.typespec.parse_output(tsp_response.content[0].text)"
   ]
  },
  {
   "cell_type": "code",
   "execution_count": 83,
   "metadata": {},
   "outputs": [
    {
     "data": {
      "text/plain": [
       "{'reasoning': 'For a gym tracking bot, users would send messages like:\\n\"I did 3 sets of bench press with 135lbs\" or \"I completed my chest workout today\"\\nor \"Suggest a 30-minute workout for legs with dumbbells and squat rack\"\\n\\nKey entities needed:\\n- Exercise (name, sets, reps, weight)\\n- Workout (collection of exercises, duration, target muscle groups)\\n- Equipment (to track available gear for suggestions)\\n- WorkoutPlan (to suggest routines based on constraints)\\n\\nKey functions needed:\\n- Record completed exercises/workouts\\n- Track progress over time\\n- Generate workout suggestions based on constraints\\n- List available equipment\\n\\nThe LLM can extract from natural language:\\n\"I did 3 sets of bench press with 135lbs\" -> recordExercise({\\n    name: \"bench press\",\\n    sets: 3,\\n    weight: 135,\\n    unit: \"lbs\",\\n    muscleGroup: \"chest\"\\n})',\n",
       " 'typespec_definitions': 'model Exercise {\\n    name: string\\n    sets: int32\\n    reps: int32\\n    weight?: float32\\n    unit?: string\\n    muscleGroup: string\\n}\\n\\nmodel Equipment {\\n    name: string\\n    type: string\\n    available: boolean\\n}\\n\\nmodel WorkoutPlan {\\n    duration: int32\\n    targetMuscles: string[]\\n    exercises: Exercise[]\\n    requiredEquipment: Equipment[]\\n}\\n\\ninterface GymBot {\\n    @llm_func(2)\\n    recordExercise(exercise: Exercise): void;\\n\\n    @llm_func(1)\\n    getProgress(exerciseName: string, from: Date, to: Date): Exercise[];\\n\\n    @llm_func(2)\\n    suggestWorkout(duration: int32, targetMuscles: string[], availableEquipment: Equipment[]): WorkoutPlan;\\n\\n    @llm_func(1)\\n    updateEquipment(equipment: Equipment[]): void;\\n}',\n",
       " 'llm_functions': ['recordExercise',\n",
       "  'getProgress',\n",
       "  'suggestWorkout',\n",
       "  'updateEquipment']}"
      ]
     },
     "execution_count": 83,
     "metadata": {},
     "output_type": "execute_result"
    }
   ],
   "source": [
    "typespec"
   ]
  },
  {
   "cell_type": "code",
   "execution_count": 84,
   "metadata": {},
   "outputs": [
    {
     "name": "stdout",
     "output_type": "stream",
     "text": [
      "For a gym tracking bot, users would send messages like:\n",
      "\"I did 3 sets of bench press with 135lbs\" or \"I completed my chest workout today\"\n",
      "or \"Suggest a 30-minute workout for legs with dumbbells and squat rack\"\n",
      "\n",
      "Key entities needed:\n",
      "- Exercise (name, sets, reps, weight)\n",
      "- Workout (collection of exercises, duration, target muscle groups)\n",
      "- Equipment (to track available gear for suggestions)\n",
      "- WorkoutPlan (to suggest routines based on constraints)\n",
      "\n",
      "Key functions needed:\n",
      "- Record completed exercises/workouts\n",
      "- Track progress over time\n",
      "- Generate workout suggestions based on constraints\n",
      "- List available equipment\n",
      "\n",
      "The LLM can extract from natural language:\n",
      "\"I did 3 sets of bench press with 135lbs\" -> recordExercise({\n",
      "    name: \"bench press\",\n",
      "    sets: 3,\n",
      "    weight: 135,\n",
      "    unit: \"lbs\",\n",
      "    muscleGroup: \"chest\"\n",
      "})\n"
     ]
    }
   ],
   "source": [
    "print(typespec[\"reasoning\"])"
   ]
  },
  {
   "cell_type": "code",
   "execution_count": 85,
   "metadata": {},
   "outputs": [
    {
     "name": "stdout",
     "output_type": "stream",
     "text": [
      "model Exercise {\n",
      "    name: string\n",
      "    sets: int32\n",
      "    reps: int32\n",
      "    weight?: float32\n",
      "    unit?: string\n",
      "    muscleGroup: string\n",
      "}\n",
      "\n",
      "model Equipment {\n",
      "    name: string\n",
      "    type: string\n",
      "    available: boolean\n",
      "}\n",
      "\n",
      "model WorkoutPlan {\n",
      "    duration: int32\n",
      "    targetMuscles: string[]\n",
      "    exercises: Exercise[]\n",
      "    requiredEquipment: Equipment[]\n",
      "}\n",
      "\n",
      "interface GymBot {\n",
      "    @llm_func(2)\n",
      "    recordExercise(exercise: Exercise): void;\n",
      "\n",
      "    @llm_func(1)\n",
      "    getProgress(exerciseName: string, from: Date, to: Date): Exercise[];\n",
      "\n",
      "    @llm_func(2)\n",
      "    suggestWorkout(duration: int32, targetMuscles: string[], availableEquipment: Equipment[]): WorkoutPlan;\n",
      "\n",
      "    @llm_func(1)\n",
      "    updateEquipment(equipment: Equipment[]): void;\n",
      "}\n"
     ]
    }
   ],
   "source": [
    "print(typespec[\"typespec_definitions\"])"
   ]
  },
  {
   "cell_type": "code",
   "execution_count": 86,
   "metadata": {},
   "outputs": [],
   "source": [
    "prompt = dzl_tpl.render(\n",
    "    typespec_definitions=typespec[\"typespec_definitions\"],\n",
    ")\n",
    "\n",
    "dzl_response = client.messages.create(\n",
    "    model=\"anthropic.claude-3-5-sonnet-20241022-v2:0\",\n",
    "    max_tokens=8192,\n",
    "    messages=[{\"role\": \"user\", \"content\": prompt}]\n",
    ")\n",
    "drizzle = stages.drizzle.parse_output(dzl_response.content[0].text)"
   ]
  },
  {
   "cell_type": "code",
   "execution_count": 87,
   "metadata": {},
   "outputs": [
    {
     "name": "stdout",
     "output_type": "stream",
     "text": [
      "import { \n",
      "  pgTable, \n",
      "  text, \n",
      "  integer, \n",
      "  boolean, \n",
      "  real,\n",
      "  timestamp,\n",
      "  primaryKey\n",
      "} from \"drizzle-orm/pg-core\";\n",
      "\n",
      "export const exercisesTable = pgTable(\"exercises\", {\n",
      "  id: integer(\"id\").primaryKey().generatedAlwaysAsIdentity(),\n",
      "  name: text(\"name\").notNull(),\n",
      "  sets: integer(\"sets\").notNull(),\n",
      "  reps: integer(\"reps\").notNull(),\n",
      "  weight: real(\"weight\"),\n",
      "  unit: text(\"unit\"),\n",
      "  muscle_group: text(\"muscle_group\").notNull(),\n",
      "  created_at: timestamp(\"created_at\").defaultNow().notNull()\n",
      "});\n",
      "\n",
      "export const equipmentTable = pgTable(\"equipment\", {\n",
      "  id: integer(\"id\").primaryKey().generatedAlwaysAsIdentity(),\n",
      "  name: text(\"name\").notNull(),\n",
      "  type: text(\"type\").notNull(),\n",
      "  available: boolean(\"available\").notNull().default(true)\n",
      "});\n",
      "\n",
      "export const workoutPlansTable = pgTable(\"workout_plans\", {\n",
      "  id: integer(\"id\").primaryKey().generatedAlwaysAsIdentity(),\n",
      "  duration: integer(\"duration\").notNull(),\n",
      "  created_at: timestamp(\"created_at\").defaultNow().notNull()\n",
      "});\n",
      "\n",
      "export const targetMusclesTable = pgTable(\"target_muscles\", {\n",
      "  id: integer(\"id\").primaryKey().generatedAlwaysAsIdentity(),\n",
      "  workout_plan_id: integer(\"workout_plan_id\")\n",
      "    .references(() => workoutPlansTable.id)\n",
      "    .notNull(),\n",
      "  muscle: text(\"muscle\").notNull()\n",
      "});\n",
      "\n",
      "export const workoutPlanExercisesTable = pgTable(\"workout_plan_exercises\", {\n",
      "  workout_plan_id: integer(\"workout_plan_id\")\n",
      "    .references(() => workoutPlansTable.id)\n",
      "    .notNull(),\n",
      "  exercise_id: integer(\"exercise_id\")\n",
      "    .references(() => exercisesTable.id)\n",
      "    .notNull(),\n",
      "}, (table) => ({\n",
      "  pk: primaryKey({ columns: [table.workout_plan_id, table.exercise_id] })\n",
      "}));\n",
      "\n",
      "export const workoutPlanEquipmentTable = pgTable(\"workout_plan_equipment\", {\n",
      "  workout_plan_id: integer(\"workout_plan_id\")\n",
      "    .references(() => workoutPlansTable.id)\n",
      "    .notNull(),\n",
      "  equipment_id: integer(\"equipment_id\")\n",
      "    .references(() => equipmentTable.id)\n",
      "    .notNull(),\n",
      "}, (table) => ({\n",
      "  pk: primaryKey({ columns: [table.workout_plan_id, table.equipment_id] })\n",
      "}));\n"
     ]
    }
   ],
   "source": [
    "print(drizzle[\"drizzle_schema\"])"
   ]
  },
  {
   "cell_type": "code",
   "execution_count": 114,
   "metadata": {},
   "outputs": [],
   "source": [
    "prompt = rtr_tpl.render(\n",
    "    typespec_definitions=typespec[\"typespec_definitions\"],\n",
    "    user_request=\"I want to record my exercise routine for today.\"\n",
    ")\n",
    "\n",
    "exp_response = client.messages.create(\n",
    "    model=\"anthropic.claude-3-5-sonnet-20241022-v2:0\",\n",
    "    max_tokens=8192,\n",
    "    messages=[{\"role\": \"user\", \"content\": prompt}],\n",
    "    tools = stages.router.TOOLS\n",
    ")\n",
    "\n",
    "funcs = stages.router.parse_outputs([content for content in exp_response.content])[\"user_functions\"]\n"
   ]
  },
  {
   "cell_type": "code",
   "execution_count": 113,
   "metadata": {},
   "outputs": [
    {
     "data": {
      "text/plain": [
       "[{'name': 'recordExercise',\n",
       "  'description': 'Records a single exercise performed by the user, including details like sets, reps, weight, and muscle group. Use when user wants to log or record their exercise activity.',\n",
       "  'examples': ['I did 3 sets of bench press today with 150 lbs',\n",
       "   'Just finished 4 sets of squats, 12 reps each',\n",
       "   'Logged my deadlift session: 5 sets, 5 reps at 225 lbs',\n",
       "   'I want to record my exercise routine for today',\n",
       "   'Add my shoulder press workout to my log']},\n",
       " {'name': 'getProgress',\n",
       "  'description': 'Retrieves exercise history and progress for a specific exercise over a given time period. Use when user asks about their history, improvements, or past performance.',\n",
       "  'examples': ['Show me my bench press progress over the last month',\n",
       "   'How have my squat numbers improved since January?',\n",
       "   'What weights was I lifting for deadlifts last week?',\n",
       "   'Show my exercise history for bicep curls',\n",
       "   'Check my progress on pull-ups']},\n",
       " {'name': 'suggestWorkout',\n",
       "  'description': 'Generates a workout plan based on specified duration, target muscle groups, and available equipment. Use when user asks for workout recommendations or planning assistance.',\n",
       "  'examples': ['Give me a 45-minute back workout with dumbbells',\n",
       "   'Plan a chest and triceps workout for an hour',\n",
       "   'What exercises can I do with just a resistance band?',\n",
       "   'Suggest a leg day workout for 90 minutes',\n",
       "   'Create a workout plan for my home gym equipment']},\n",
       " {'name': 'updateEquipment',\n",
       "  'description': 'Updates the status or availability of gym equipment. Use when user reports equipment status changes or availability updates.',\n",
       "  'examples': ['The leg press machine is out of order',\n",
       "   'New dumbbells were added to the gym',\n",
       "   'Update the equipment list - treadmill 3 is broken',\n",
       "   'Mark the smith machine as available',\n",
       "   'Remove the broken rowing machine from equipment list']}]"
      ]
     },
     "execution_count": 113,
     "metadata": {},
     "output_type": "execute_result"
    }
   ],
   "source": [
    "funcs"
   ]
  },
  {
   "cell_type": "code",
   "execution_count": 89,
   "metadata": {},
   "outputs": [],
   "source": [
    "pre_processors = {}\n",
    "for function_name in typespec[\"llm_functions\"]:\n",
    "    prompt = pre_tpl.render(\n",
    "        function_name=function_name,\n",
    "        typespec_definitions=typespec[\"typespec_definitions\"],\n",
    "    )\n",
    "\n",
    "    pre_response = client.messages.create(\n",
    "        model=\"anthropic.claude-3-5-sonnet-20241022-v2:0\",\n",
    "        max_tokens=8192,\n",
    "        messages=[{\"role\": \"user\", \"content\": prompt}]\n",
    "    )\n",
    "    pre_processor = stages.processors.parse_output(pre_response.content[0].text)\n",
    "    pre_processors[function_name] = pre_processor"
   ]
  },
  {
   "cell_type": "code",
   "execution_count": 90,
   "metadata": {},
   "outputs": [
    {
     "name": "stdout",
     "output_type": "stream",
     "text": [
      "<instructions>\n",
      "The updateEquipment function expects an array of Equipment objects. Each Equipment object must have:\n",
      "- name: string (required) - name of the equipment\n",
      "- type: string (required) - category or type of equipment\n",
      "- available: boolean (required) - availability status\n",
      "\n",
      "When parsing user input:\n",
      "1. Look for equipment names and their status\n",
      "2. Infer equipment type if not explicitly stated\n",
      "3. Default to false for availability if not specified\n",
      "4. Convert natural language descriptions into structured equipment array\n",
      "</instructions>\n",
      "\n",
      "<examples>\n",
      "    <example>\n",
      "        <input>Mark treadmill 2 and rowing machine as out of order</input>\n",
      "        <output>[\n",
      "            {\n",
      "                \"name\": \"treadmill 2\",\n",
      "                \"type\": \"cardio\",\n",
      "                \"available\": false\n",
      "            },\n",
      "            {\n",
      "                \"name\": \"rowing machine\",\n",
      "                \"type\": \"cardio\",\n",
      "                \"available\": false\n",
      "            }\n",
      "        ]</output>\n",
      "    </example>\n",
      "\n",
      "    <example>\n",
      "        <input>New equipment arrived: 2 bench press stations and smith machine all available</input>\n",
      "        <output>[\n",
      "            {\n",
      "                \"name\": \"bench press station 1\",\n",
      "                \"type\": \"strength\",\n",
      "                \"available\": true\n",
      "            },\n",
      "            {\n",
      "                \"name\": \"bench press station 2\",\n",
      "                \"type\": \"strength\",\n",
      "                \"available\": true\n",
      "            },\n",
      "            {\n",
      "                \"name\": \"smith machine\",\n",
      "                \"type\": \"strength\",\n",
      "                \"available\": true\n",
      "            }\n",
      "        ]</output>\n",
      "    </example>\n",
      "\n",
      "    <example>\n",
      "        <input>Update equipment status: dumbbells 5-25kg available, leg press broken</input>\n",
      "        <output>[\n",
      "            {\n",
      "                \"name\": \"dumbbells 5-25kg\",\n",
      "                \"type\": \"free weights\",\n",
      "                \"available\": true\n",
      "            },\n",
      "            {\n",
      "                \"name\": \"leg press\",\n",
      "                \"type\": \"strength\",\n",
      "                \"available\": false\n",
      "            }\n",
      "        ]</output>\n",
      "    </example>\n",
      "\n",
      "    <example>\n",
      "        <input>All cardio machines are now working</input>\n",
      "        <output>[\n",
      "            {\n",
      "                \"name\": \"treadmill\",\n",
      "                \"type\": \"cardio\",\n",
      "                \"available\": true\n",
      "            },\n",
      "            {\n",
      "                \"name\": \"elliptical\",\n",
      "                \"type\": \"cardio\",\n",
      "                \"available\": true\n",
      "            },\n",
      "            {\n",
      "                \"name\": \"stationary bike\",\n",
      "                \"type\": \"cardio\",\n",
      "                \"available\": true\n",
      "            },\n",
      "            {\n",
      "                \"name\": \"rowing machine\",\n",
      "                \"type\": \"cardio\",\n",
      "                \"available\": true\n",
      "            }\n",
      "        ]</output>\n",
      "    </example>\n",
      "</examples>\n"
     ]
    }
   ],
   "source": [
    "print(pre_response.content[0].text)"
   ]
  },
  {
   "cell_type": "code",
   "execution_count": 91,
   "metadata": {},
   "outputs": [
    {
     "data": {
      "text/plain": [
       "{'recordExercise': {'instructions': 'The recordExercise function expects an Exercise object with mandatory fields: name, sets, reps, muscleGroup and optional fields: weight, unit.\\nRules for processing user input:\\n1. Exercise name should be extracted from common exercise terminology\\n2. If sets are not specified, default to 1 set\\n3. Weight unit defaults to \"kg\" if not specified\\n4. Muscle group should be inferred from the exercise name if not explicitly stated\\n5. Numbers in format like \"80x6\" should be interpreted as weight x reps',\n",
       "  'examples': [('I did bench press 80kg for 3 sets of 8 reps',\n",
       "    '{\\n    \"name\": \"bench press\",\\n    \"sets\": 3,\\n    \"reps\": 8,\\n    \"weight\": 80.0,\\n    \"unit\": \"kg\",\\n    \"muscleGroup\": \"chest\"\\n}'),\n",
       "   ('push-ups 3x15',\n",
       "    '{\\n    \"name\": \"push-ups\",\\n    \"sets\": 3,\\n    \"reps\": 15,\\n    \"muscleGroup\": \"chest\"\\n}'),\n",
       "   ('deadlift 225 lbs 5 reps 3 sets',\n",
       "    '{\\n    \"name\": \"deadlift\",\\n    \"sets\": 3,\\n    \"reps\": 5,\\n    \"weight\": 225.0,\\n    \"unit\": \"lbs\",\\n    \"muscleGroup\": \"back\"\\n}'),\n",
       "   ('just completed 12 pull-ups',\n",
       "    '{\\n    \"name\": \"pull-ups\",\\n    \"sets\": 1,\\n    \"reps\": 12,\\n    \"muscleGroup\": \"back\"\\n}'),\n",
       "   ('bicep curls with 15kg dumbbells 4x10',\n",
       "    '{\\n    \"name\": \"bicep curls\",\\n    \"sets\": 4,\\n    \"reps\": 10,\\n    \"weight\": 15.0,\\n    \"unit\": \"kg\",\\n    \"muscleGroup\": \"biceps\"\\n}')]},\n",
       " 'getProgress': {'instructions': \"The getProgress function requires three arguments:\\n1. exerciseName (string) - Name of the exercise to track progress for\\n2. from (Date) - Start date of the progress period\\n3. to (Date) - End date of the progress period\\n\\nRules for handling user input:\\n- If exercise name is mentioned without dates, use current date as 'to' and 30 days prior as 'from'\\n- Exercise names should be normalized (lowercase, remove special characters)\\n- Dates can be in various formats (ISO, natural language)\\n- If date range is unclear, assume most recent period\",\n",
       "  'examples': [('Show me my bench press progress for the last month',\n",
       "    '{\\n            \"exerciseName\": \"bench press\",\\n            \"from\": \"2023-11-15\",\\n            \"to\": \"2023-12-15\"\\n        }'),\n",
       "   ('How am I doing with squats from October 1st to now?',\n",
       "    '{\\n            \"exerciseName\": \"squats\",\\n            \"from\": \"2023-10-01\",\\n            \"to\": \"2023-12-15\"\\n        }'),\n",
       "   ('deadlift progress between March 15 and April 15',\n",
       "    '{\\n            \"exerciseName\": \"deadlift\",\\n            \"from\": \"2023-03-15\",\\n            \"to\": \"2023-04-15\"\\n        }'),\n",
       "   ('Check my shoulder press stats',\n",
       "    '{\\n            \"exerciseName\": \"shoulder press\",\\n            \"from\": \"2023-11-15\",\\n            \"to\": \"2023-12-15\"\\n        }'),\n",
       "   ('lat pulldown last week',\n",
       "    '{\\n            \"exerciseName\": \"lat pulldown\",\\n            \"from\": \"2023-12-08\",\\n            \"to\": \"2023-12-15\"\\n        }')]},\n",
       " 'suggestWorkout': {'instructions': 'For suggestWorkout function:\\n1. Duration should be interpreted in minutes, default to 60 if not specified\\n2. Target muscles should be standardized to: \"chest\", \"back\", \"legs\", \"shoulders\", \"arms\", \"core\"\\n3. Equipment status should be boolean (available/unavailable)\\n4. When specific equipment is mentioned without status, assume it\\'s available\\n5. Convert casual muscle group mentions to standard names (e.g., \"pecs\" → \"chest\")',\n",
       "  'examples': [('I want a 30-minute chest and triceps workout with dumbbells',\n",
       "    '{\\n            \"duration\": 30,\\n            \"targetMuscles\": [\"chest\", \"arms\"],\\n            \"availableEquipment\": [\\n                {\\n                    \"name\": \"dumbbells\",\\n                    \"type\": \"free weights\",\\n                    \"available\": true\\n                }\\n            ]\\n        }'),\n",
       "   ('Give me a full body workout, I have access to a power rack and barbell',\n",
       "    '{\\n            \"duration\": 60,\\n            \"targetMuscles\": [\"chest\", \"back\", \"legs\", \"shoulders\", \"arms\", \"core\"],\\n            \"availableEquipment\": [\\n                {\\n                    \"name\": \"power rack\",\\n                    \"type\": \"machine\",\\n                    \"available\": true\\n                },\\n                {\\n                    \"name\": \"barbell\",\\n                    \"type\": \"free weights\",\\n                    \"available\": true\\n                }\\n            ]\\n        }'),\n",
       "   ('45 min back workout, my gym has lat pulldown and cables but no rowing machine',\n",
       "    '{\\n            \"duration\": 45,\\n            \"targetMuscles\": [\"back\"],\\n            \"availableEquipment\": [\\n                {\\n                    \"name\": \"lat pulldown\",\\n                    \"type\": \"machine\",\\n                    \"available\": true\\n                },\\n                {\\n                    \"name\": \"cable machine\",\\n                    \"type\": \"machine\",\\n                    \"available\": true\\n                },\\n                {\\n                    \"name\": \"rowing machine\",\\n                    \"type\": \"machine\",\\n                    \"available\": false\\n                }\\n            ]\\n        }'),\n",
       "   ('Quick arm workout with resistance bands',\n",
       "    '{\\n            \"duration\": 60,\\n            \"targetMuscles\": [\"arms\"],\\n            \"availableEquipment\": [\\n                {\\n                    \"name\": \"resistance bands\",\\n                    \"type\": \"accessories\",\\n                    \"available\": true\\n                }\\n            ]\\n        }')]},\n",
       " 'updateEquipment': {'instructions': 'The updateEquipment function expects an array of Equipment objects. Each Equipment object must have:\\n- name: string (required) - name of the equipment\\n- type: string (required) - category or type of equipment\\n- available: boolean (required) - availability status\\n\\nWhen parsing user input:\\n1. Look for equipment names and their status\\n2. Infer equipment type if not explicitly stated\\n3. Default to false for availability if not specified\\n4. Convert natural language descriptions into structured equipment array',\n",
       "  'examples': [('Mark treadmill 2 and rowing machine as out of order',\n",
       "    '[\\n            {\\n                \"name\": \"treadmill 2\",\\n                \"type\": \"cardio\",\\n                \"available\": false\\n            },\\n            {\\n                \"name\": \"rowing machine\",\\n                \"type\": \"cardio\",\\n                \"available\": false\\n            }\\n        ]'),\n",
       "   ('New equipment arrived: 2 bench press stations and smith machine all available',\n",
       "    '[\\n            {\\n                \"name\": \"bench press station 1\",\\n                \"type\": \"strength\",\\n                \"available\": true\\n            },\\n            {\\n                \"name\": \"bench press station 2\",\\n                \"type\": \"strength\",\\n                \"available\": true\\n            },\\n            {\\n                \"name\": \"smith machine\",\\n                \"type\": \"strength\",\\n                \"available\": true\\n            }\\n        ]'),\n",
       "   ('Update equipment status: dumbbells 5-25kg available, leg press broken',\n",
       "    '[\\n            {\\n                \"name\": \"dumbbells 5-25kg\",\\n                \"type\": \"free weights\",\\n                \"available\": true\\n            },\\n            {\\n                \"name\": \"leg press\",\\n                \"type\": \"strength\",\\n                \"available\": false\\n            }\\n        ]'),\n",
       "   ('All cardio machines are now working',\n",
       "    '[\\n            {\\n                \"name\": \"treadmill\",\\n                \"type\": \"cardio\",\\n                \"available\": true\\n            },\\n            {\\n                \"name\": \"elliptical\",\\n                \"type\": \"cardio\",\\n                \"available\": true\\n            },\\n            {\\n                \"name\": \"stationary bike\",\\n                \"type\": \"cardio\",\\n                \"available\": true\\n            },\\n            {\\n                \"name\": \"rowing machine\",\\n                \"type\": \"cardio\",\\n                \"available\": true\\n            }\\n        ]')]}}"
      ]
     },
     "execution_count": 91,
     "metadata": {},
     "output_type": "execute_result"
    }
   ],
   "source": [
    "pre_processors"
   ]
  },
  {
   "cell_type": "code",
   "execution_count": null,
   "metadata": {},
   "outputs": [],
   "source": []
  },
  {
   "cell_type": "code",
   "execution_count": 92,
   "metadata": {},
   "outputs": [],
   "source": [
    "handlers = {}\n",
    "for function_name in typespec[\"llm_functions\"]:\n",
    "    prompt = hdl_tpl.render(\n",
    "        function_name=function_name,\n",
    "        typespec_definitions=typespec[\"typespec_definitions\"],\n",
    "        drizzle_schema=drizzle[\"drizzle_schema\"],\n",
    "    )\n",
    "\n",
    "    hdl_response = client.messages.create(\n",
    "        model=\"anthropic.claude-3-5-sonnet-20241022-v2:0\",\n",
    "        max_tokens=8192,\n",
    "        messages=[{\"role\": \"user\", \"content\": prompt}]\n",
    "    )\n",
    "    handlers[function_name] = stages.handlers.parse_output(hdl_response.content[0].text)"
   ]
  },
  {
   "cell_type": "code",
   "execution_count": 93,
   "metadata": {},
   "outputs": [
    {
     "data": {
      "text/plain": [
       "{'recordExercise': {'handler': 'import { db } from \"../db\";\\nimport { exercisesTable } from \\'../db/schema/application\\';\\n\\nconst handle = async (exercise: {\\n    name: string;\\n    sets: number;\\n    reps: number;\\n    weight?: number;\\n    unit?: string;\\n    muscleGroup: string;\\n}): Promise<void> => {\\n    await db.insert(exercisesTable).values({\\n        name: exercise.name,\\n        sets: exercise.sets,\\n        reps: exercise.reps,\\n        weight: exercise.weight || null,\\n        unit: exercise.unit || null,\\n        muscle_group: exercise.muscleGroup\\n    }).execute();\\n};'},\n",
       " 'getProgress': {'handler': 'import { db } from \"../db\";\\nimport { exercisesTable } from \\'../db/schema/application\\';\\nimport { and, between, eq } from \\'drizzle-orm\\';\\n\\nconst handle = async (exerciseName: string, from: Date, to: Date): Promise<Exercise[]> => {\\n    const exercises = await db\\n        .select()\\n        .from(exercisesTable)\\n        .where(\\n            and(\\n                eq(exercisesTable.name, exerciseName),\\n                between(exercisesTable.created_at, from, to)\\n            )\\n        )\\n        .orderBy(exercisesTable.created_at)\\n        .execute();\\n\\n    return exercises.map(exercise => ({\\n        name: exercise.name,\\n        sets: exercise.sets,\\n        reps: exercise.reps,\\n        weight: exercise.weight ?? undefined,\\n        unit: exercise.unit ?? undefined,\\n        muscleGroup: exercise.muscle_group\\n    }));\\n};'},\n",
       " 'suggestWorkout': {'handler': 'import { db } from \"../db\";\\nimport { \\n  workoutPlansTable, \\n  targetMusclesTable, \\n  workoutPlanExercisesTable, \\n  workoutPlanEquipmentTable,\\n  exercisesTable,\\n  equipmentTable\\n} from \\'../db/schema/application\\';\\nimport { eq, and, inArray } from \\'drizzle-orm\\';\\n\\nconst handle = async (\\n  duration: number,\\n  targetMuscles: string[],\\n  availableEquipment: Equipment[]\\n): Promise<WorkoutPlan> => {\\n  // Create the workout plan\\n  const [workoutPlan] = await db\\n    .insert(workoutPlansTable)\\n    .values({ duration })\\n    .returning();\\n\\n  // Insert target muscles\\n  await db.insert(targetMusclesTable)\\n    .values(\\n      targetMuscles.map(muscle => ({\\n        workout_plan_id: workoutPlan.id,\\n        muscle: muscle\\n      }))\\n    );\\n\\n  // Get equipment IDs for available equipment\\n  const equipmentRecords = await db\\n    .select()\\n    .from(equipmentTable)\\n    .where(inArray(equipmentTable.name, availableEquipment.map(e => e.name)));\\n\\n  // Link equipment to workout plan\\n  await db.insert(workoutPlanEquipmentTable)\\n    .values(\\n      equipmentRecords.map(equipment => ({\\n        workout_plan_id: workoutPlan.id,\\n        equipment_id: equipment.id\\n      }))\\n    );\\n\\n  // Get suitable exercises for target muscles\\n  const exercises = await db\\n    .select()\\n    .from(exercisesTable)\\n    .where(inArray(exercisesTable.muscle_group, targetMuscles));\\n\\n  // Link exercises to workout plan\\n  await db.insert(workoutPlanExercisesTable)\\n    .values(\\n      exercises.map(exercise => ({\\n        workout_plan_id: workoutPlan.id,\\n        exercise_id: exercise.id\\n      }))\\n    );\\n\\n  // Construct and return the WorkoutPlan object\\n  return {\\n    duration: workoutPlan.duration,\\n    targetMuscles: targetMuscles,\\n    exercises: exercises.map(e => ({\\n      name: e.name,\\n      sets: e.sets,\\n      reps: e.reps,\\n      weight: e.weight ?? undefined,\\n      unit: e.unit ?? undefined,\\n      muscleGroup: e.muscle_group\\n    })),\\n    requiredEquipment: equipmentRecords.map(e => ({\\n      name: e.name,\\n      type: e.type,\\n      available: e.available\\n    }))\\n  };\\n};'},\n",
       " 'updateEquipment': {'handler': 'import { db } from \"../db\";\\nimport { equipmentTable } from \\'../db/schema/application\\';\\nimport { eq } from \\'drizzle-orm\\';\\n\\nconst handle = async (equipment: Equipment[]): Promise<void> => {\\n    // Using a transaction to ensure all updates are atomic\\n    await db.transaction(async (tx) => {\\n        for (const item of equipment) {\\n            // Try to update existing equipment\\n            const result = await tx\\n                .update(equipmentTable)\\n                .set({\\n                    type: item.type,\\n                    available: item.available\\n                })\\n                .where(eq(equipmentTable.name, item.name))\\n                .execute();\\n\\n            // If no rows were updated, insert new equipment\\n            if (result.rowCount === 0) {\\n                await tx\\n                    .insert(equipmentTable)\\n                    .values({\\n                        name: item.name,\\n                        type: item.type,\\n                        available: item.available\\n                    })\\n                    .execute();\\n            }\\n        }\\n    });\\n};'}}"
      ]
     },
     "execution_count": 93,
     "metadata": {},
     "output_type": "execute_result"
    }
   ],
   "source": [
    "handlers"
   ]
  },
  {
   "cell_type": "code",
   "execution_count": 94,
   "metadata": {},
   "outputs": [],
   "source": [
    "with open(\"core/handler.tpl\", \"r\") as f:\n",
    "    handler_ts_tpl = environment.from_string(f.read())"
   ]
  },
  {
   "cell_type": "code",
   "execution_count": 95,
   "metadata": {},
   "outputs": [],
   "source": [
    "hdl_key = \"recordExercise\"\n",
    "params = {\n",
    "    \"handler\": handlers[hdl_key][\"handler\"],\n",
    "    \"instructions\": pre_processors[hdl_key][\"instructions\"],\n",
    "    \"examples\": pre_processors[hdl_key][\"examples\"],\n",
    "}\n",
    "file_content = handler_ts_tpl.render(**params)"
   ]
  },
  {
   "cell_type": "code",
   "execution_count": 96,
   "metadata": {},
   "outputs": [
    {
     "name": "stdout",
     "output_type": "stream",
     "text": [
      "import { Message } from \"../common/handler\";\n",
      "import { client } from \"../common/llm\";\n",
      "import { db } from \"../db\";\n",
      "import { exercisesTable } from '../db/schema/application';\n",
      "\n",
      "const handle = async (exercise: {\n",
      "    name: string;\n",
      "    sets: number;\n",
      "    reps: number;\n",
      "    weight?: number;\n",
      "    unit?: string;\n",
      "    muscleGroup: string;\n",
      "}): Promise<void> => {\n",
      "    await db.insert(exercisesTable).values({\n",
      "        name: exercise.name,\n",
      "        sets: exercise.sets,\n",
      "        reps: exercise.reps,\n",
      "        weight: exercise.weight || null,\n",
      "        unit: exercise.unit || null,\n",
      "        muscle_group: exercise.muscleGroup\n",
      "    }).execute();\n",
      "};\n",
      "\n",
      "\n",
      "const preProcessorPrompt = `\n",
      "Examine conversation between user and assistant and extract structured arguments for a function.\n",
      "\n",
      "<instructions>\n",
      "The recordExercise function expects an Exercise object with mandatory fields: name, sets, reps, muscleGroup and optional fields: weight, unit.\n",
      "Rules for processing user input:\n",
      "1. Exercise name should be extracted from common exercise terminology\n",
      "2. If sets are not specified, default to 1 set\n",
      "3. Weight unit defaults to \"kg\" if not specified\n",
      "4. Muscle group should be inferred from the exercise name if not explicitly stated\n",
      "5. Numbers in format like \"80x6\" should be interpreted as weight x reps\n",
      "</instructions>\n",
      "\n",
      "Examples:\n",
      "\n",
      "\n",
      "Input:\n",
      "I did bench press 80kg for 3 sets of 8 reps\n",
      "Output:\n",
      "{\n",
      "    \"name\": \"bench press\",\n",
      "    \"sets\": 3,\n",
      "    \"reps\": 8,\n",
      "    \"weight\": 80.0,\n",
      "    \"unit\": \"kg\",\n",
      "    \"muscleGroup\": \"chest\"\n",
      "}\n",
      "\n",
      "Input:\n",
      "push-ups 3x15\n",
      "Output:\n",
      "{\n",
      "    \"name\": \"push-ups\",\n",
      "    \"sets\": 3,\n",
      "    \"reps\": 15,\n",
      "    \"muscleGroup\": \"chest\"\n",
      "}\n",
      "\n",
      "Input:\n",
      "deadlift 225 lbs 5 reps 3 sets\n",
      "Output:\n",
      "{\n",
      "    \"name\": \"deadlift\",\n",
      "    \"sets\": 3,\n",
      "    \"reps\": 5,\n",
      "    \"weight\": 225.0,\n",
      "    \"unit\": \"lbs\",\n",
      "    \"muscleGroup\": \"back\"\n",
      "}\n",
      "\n",
      "Input:\n",
      "just completed 12 pull-ups\n",
      "Output:\n",
      "{\n",
      "    \"name\": \"pull-ups\",\n",
      "    \"sets\": 1,\n",
      "    \"reps\": 12,\n",
      "    \"muscleGroup\": \"back\"\n",
      "}\n",
      "\n",
      "Input:\n",
      "bicep curls with 15kg dumbbells 4x10\n",
      "Output:\n",
      "{\n",
      "    \"name\": \"bicep curls\",\n",
      "    \"sets\": 4,\n",
      "    \"reps\": 10,\n",
      "    \"weight\": 15.0,\n",
      "    \"unit\": \"kg\",\n",
      "    \"muscleGroup\": \"biceps\"\n",
      "}\n",
      "\n",
      "\n",
      "Conversation:\n",
      "{% for message in messages %}\n",
      "<role name=\"{{message.role}}\">{{message.content}}</role>\n",
      "{% endfor %}\n",
      "`;\n",
      "\n",
      "const preProcessor = async (input: Message[]): Promise<[string]> => {\n",
      "    const response = await client.messages.create({\n",
      "        model: 'anthropic.claude-3-5-sonnet-20241022-v2:0',\n",
      "        max_tokens: 2048,\n",
      "        messages: input.map(({ role, content }) => ({ role, content }))\n",
      "    });\n",
      "    switch (response.content[0].type) {\n",
      "        case \"text\":\n",
      "            return [response.content[0].text];\n",
      "        default:\n",
      "            throw new Error(\"Unexpected response type\");\n",
      "    }\n",
      "};\n"
     ]
    }
   ],
   "source": [
    "print(file_content)"
   ]
  },
  {
   "cell_type": "code",
   "execution_count": 97,
   "metadata": {},
   "outputs": [
    {
     "name": "stdout",
     "output_type": "stream",
     "text": [
      "import { db } from \"../db\";\n",
      "import { \n",
      "  workoutPlansTable, \n",
      "  targetMusclesTable, \n",
      "  workoutPlanExercisesTable, \n",
      "  workoutPlanEquipmentTable,\n",
      "  exercisesTable,\n",
      "  equipmentTable\n",
      "} from '../db/schema/application';\n",
      "import { eq, and, inArray } from 'drizzle-orm';\n",
      "\n",
      "const handle = async (\n",
      "  duration: number,\n",
      "  targetMuscles: string[],\n",
      "  availableEquipment: Equipment[]\n",
      "): Promise<WorkoutPlan> => {\n",
      "  // Create the workout plan\n",
      "  const [workoutPlan] = await db\n",
      "    .insert(workoutPlansTable)\n",
      "    .values({ duration })\n",
      "    .returning();\n",
      "\n",
      "  // Insert target muscles\n",
      "  await db.insert(targetMusclesTable)\n",
      "    .values(\n",
      "      targetMuscles.map(muscle => ({\n",
      "        workout_plan_id: workoutPlan.id,\n",
      "        muscle: muscle\n",
      "      }))\n",
      "    );\n",
      "\n",
      "  // Get equipment IDs for available equipment\n",
      "  const equipmentRecords = await db\n",
      "    .select()\n",
      "    .from(equipmentTable)\n",
      "    .where(inArray(equipmentTable.name, availableEquipment.map(e => e.name)));\n",
      "\n",
      "  // Link equipment to workout plan\n",
      "  await db.insert(workoutPlanEquipmentTable)\n",
      "    .values(\n",
      "      equipmentRecords.map(equipment => ({\n",
      "        workout_plan_id: workoutPlan.id,\n",
      "        equipment_id: equipment.id\n",
      "      }))\n",
      "    );\n",
      "\n",
      "  // Get suitable exercises for target muscles\n",
      "  const exercises = await db\n",
      "    .select()\n",
      "    .from(exercisesTable)\n",
      "    .where(inArray(exercisesTable.muscle_group, targetMuscles));\n",
      "\n",
      "  // Link exercises to workout plan\n",
      "  await db.insert(workoutPlanExercisesTable)\n",
      "    .values(\n",
      "      exercises.map(exercise => ({\n",
      "        workout_plan_id: workoutPlan.id,\n",
      "        exercise_id: exercise.id\n",
      "      }))\n",
      "    );\n",
      "\n",
      "  // Construct and return the WorkoutPlan object\n",
      "  return {\n",
      "    duration: workoutPlan.duration,\n",
      "    targetMuscles: targetMuscles,\n",
      "    exercises: exercises.map(e => ({\n",
      "      name: e.name,\n",
      "      sets: e.sets,\n",
      "      reps: e.reps,\n",
      "      weight: e.weight ?? undefined,\n",
      "      unit: e.unit ?? undefined,\n",
      "      muscleGroup: e.muscle_group\n",
      "    })),\n",
      "    requiredEquipment: equipmentRecords.map(e => ({\n",
      "      name: e.name,\n",
      "      type: e.type,\n",
      "      available: e.available\n",
      "    }))\n",
      "  };\n",
      "};\n"
     ]
    }
   ],
   "source": [
    "print(handlers[\"suggestWorkout\"][\"handler\"])"
   ]
  },
  {
   "cell_type": "code",
   "execution_count": 98,
   "metadata": {},
   "outputs": [],
   "source": [
    "ts_defs = stages.typespec.parse_output(stages.typespec.PROMPT)"
   ]
  },
  {
   "cell_type": "code",
   "execution_count": 99,
   "metadata": {},
   "outputs": [
    {
     "data": {
      "text/plain": [
       "{'reasoning': 'I expect user to send messages like \"I ate a burger\" or \"I had a salad for lunch\".\\nLLM can extract and infer the arguments from plain text and pass them to the handler\\n\"I ate a burger\" -> recordDish({name: \"burger\", ingredients: [\\n    {name: \"bun\", calories: 200},\\n    {name: \"patty\", calories: 300},\\n    {name: \"lettuce\", calories: 10},\\n    {name: \"tomato\", calories: 20},\\n    {name: \"cheese\", calories: 50},\\n]})\\n- recordDish(dish: Dish): void;\\n...',\n",
       " 'typespec_definitions': 'model Dish {\\n    name: String\\n    ingredients: Ingredient[]\\n}\\n\\nmodel Ingredient {\\n    name: String\\n    calories: Int\\n}\\n\\ninterface DietBot {\\n    @llm_func(1)\\n    recordDish(dish: Dish): void;\\n    @llm_func(1)\\n    listDishes(from: Date, to: Date): Dish[];\\n}',\n",
       " 'llm_functions': ['recordDish', 'listDishes']}"
      ]
     },
     "execution_count": 99,
     "metadata": {},
     "output_type": "execute_result"
    }
   ],
   "source": [
    "ts_defs"
   ]
  },
  {
   "cell_type": "code",
   "execution_count": 100,
   "metadata": {},
   "outputs": [],
   "source": [
    "func_names = stages.typespec.extract_llm_func_names(stages.typespec.PROMPT)"
   ]
  },
  {
   "cell_type": "code",
   "execution_count": 101,
   "metadata": {},
   "outputs": [
    {
     "data": {
      "text/plain": [
       "['recordDish', 'listDishes']"
      ]
     },
     "execution_count": 101,
     "metadata": {},
     "output_type": "execute_result"
    }
   ],
   "source": [
    "func_names"
   ]
  },
  {
   "cell_type": "markdown",
   "metadata": {},
   "source": [
    "# Project Generation"
   ]
  },
  {
   "cell_type": "code",
   "execution_count": 102,
   "metadata": {},
   "outputs": [],
   "source": [
    "from shutil import copytree, ignore_patterns"
   ]
  },
  {
   "cell_type": "code",
   "execution_count": 103,
   "metadata": {},
   "outputs": [],
   "source": [
    "def setup_project(workdir: str):\n",
    "    copytree('templates', workdir, ignore=ignore_patterns('*.pyc', '__pycache__', 'node_modules'))"
   ]
  },
  {
   "cell_type": "code",
   "execution_count": 104,
   "metadata": {},
   "outputs": [
    {
     "ename": "FileExistsError",
     "evalue": "[Errno 17] File exists: 'test'",
     "output_type": "error",
     "traceback": [
      "\u001b[0;31m---------------------------------------------------------------------------\u001b[0m",
      "\u001b[0;31mFileExistsError\u001b[0m                           Traceback (most recent call last)",
      "Cell \u001b[0;32mIn[104], line 1\u001b[0m\n\u001b[0;32m----> 1\u001b[0m \u001b[43msetup_project\u001b[49m\u001b[43m(\u001b[49m\u001b[38;5;124;43m'\u001b[39;49m\u001b[38;5;124;43mtest\u001b[39;49m\u001b[38;5;124;43m'\u001b[39;49m\u001b[43m)\u001b[49m\n",
      "Cell \u001b[0;32mIn[103], line 2\u001b[0m, in \u001b[0;36msetup_project\u001b[0;34m(workdir)\u001b[0m\n\u001b[1;32m      1\u001b[0m \u001b[38;5;28;01mdef\u001b[39;00m\u001b[38;5;250m \u001b[39m\u001b[38;5;21msetup_project\u001b[39m(workdir: \u001b[38;5;28mstr\u001b[39m):\n\u001b[0;32m----> 2\u001b[0m     \u001b[43mcopytree\u001b[49m\u001b[43m(\u001b[49m\u001b[38;5;124;43m'\u001b[39;49m\u001b[38;5;124;43mtemplates\u001b[39;49m\u001b[38;5;124;43m'\u001b[39;49m\u001b[43m,\u001b[49m\u001b[43m \u001b[49m\u001b[43mworkdir\u001b[49m\u001b[43m,\u001b[49m\u001b[43m \u001b[49m\u001b[43mignore\u001b[49m\u001b[38;5;241;43m=\u001b[39;49m\u001b[43mignore_patterns\u001b[49m\u001b[43m(\u001b[49m\u001b[38;5;124;43m'\u001b[39;49m\u001b[38;5;124;43m*.pyc\u001b[39;49m\u001b[38;5;124;43m'\u001b[39;49m\u001b[43m,\u001b[49m\u001b[43m \u001b[49m\u001b[38;5;124;43m'\u001b[39;49m\u001b[38;5;124;43m__pycache__\u001b[39;49m\u001b[38;5;124;43m'\u001b[39;49m\u001b[43m,\u001b[49m\u001b[43m \u001b[49m\u001b[38;5;124;43m'\u001b[39;49m\u001b[38;5;124;43mnode_modules\u001b[39;49m\u001b[38;5;124;43m'\u001b[39;49m\u001b[43m)\u001b[49m\u001b[43m)\u001b[49m\n",
      "File \u001b[0;32m/usr/lib/python3.12/shutil.py:600\u001b[0m, in \u001b[0;36mcopytree\u001b[0;34m(src, dst, symlinks, ignore, copy_function, ignore_dangling_symlinks, dirs_exist_ok)\u001b[0m\n\u001b[1;32m    598\u001b[0m \u001b[38;5;28;01mwith\u001b[39;00m os\u001b[38;5;241m.\u001b[39mscandir(src) \u001b[38;5;28;01mas\u001b[39;00m itr:\n\u001b[1;32m    599\u001b[0m     entries \u001b[38;5;241m=\u001b[39m \u001b[38;5;28mlist\u001b[39m(itr)\n\u001b[0;32m--> 600\u001b[0m \u001b[38;5;28;01mreturn\u001b[39;00m \u001b[43m_copytree\u001b[49m\u001b[43m(\u001b[49m\u001b[43mentries\u001b[49m\u001b[38;5;241;43m=\u001b[39;49m\u001b[43mentries\u001b[49m\u001b[43m,\u001b[49m\u001b[43m \u001b[49m\u001b[43msrc\u001b[49m\u001b[38;5;241;43m=\u001b[39;49m\u001b[43msrc\u001b[49m\u001b[43m,\u001b[49m\u001b[43m \u001b[49m\u001b[43mdst\u001b[49m\u001b[38;5;241;43m=\u001b[39;49m\u001b[43mdst\u001b[49m\u001b[43m,\u001b[49m\u001b[43m \u001b[49m\u001b[43msymlinks\u001b[49m\u001b[38;5;241;43m=\u001b[39;49m\u001b[43msymlinks\u001b[49m\u001b[43m,\u001b[49m\n\u001b[1;32m    601\u001b[0m \u001b[43m                 \u001b[49m\u001b[43mignore\u001b[49m\u001b[38;5;241;43m=\u001b[39;49m\u001b[43mignore\u001b[49m\u001b[43m,\u001b[49m\u001b[43m \u001b[49m\u001b[43mcopy_function\u001b[49m\u001b[38;5;241;43m=\u001b[39;49m\u001b[43mcopy_function\u001b[49m\u001b[43m,\u001b[49m\n\u001b[1;32m    602\u001b[0m \u001b[43m                 \u001b[49m\u001b[43mignore_dangling_symlinks\u001b[49m\u001b[38;5;241;43m=\u001b[39;49m\u001b[43mignore_dangling_symlinks\u001b[49m\u001b[43m,\u001b[49m\n\u001b[1;32m    603\u001b[0m \u001b[43m                 \u001b[49m\u001b[43mdirs_exist_ok\u001b[49m\u001b[38;5;241;43m=\u001b[39;49m\u001b[43mdirs_exist_ok\u001b[49m\u001b[43m)\u001b[49m\n",
      "File \u001b[0;32m/usr/lib/python3.12/shutil.py:498\u001b[0m, in \u001b[0;36m_copytree\u001b[0;34m(entries, src, dst, symlinks, ignore, copy_function, ignore_dangling_symlinks, dirs_exist_ok)\u001b[0m\n\u001b[1;32m    495\u001b[0m \u001b[38;5;28;01melse\u001b[39;00m:\n\u001b[1;32m    496\u001b[0m     ignored_names \u001b[38;5;241m=\u001b[39m ()\n\u001b[0;32m--> 498\u001b[0m \u001b[43mos\u001b[49m\u001b[38;5;241;43m.\u001b[39;49m\u001b[43mmakedirs\u001b[49m\u001b[43m(\u001b[49m\u001b[43mdst\u001b[49m\u001b[43m,\u001b[49m\u001b[43m \u001b[49m\u001b[43mexist_ok\u001b[49m\u001b[38;5;241;43m=\u001b[39;49m\u001b[43mdirs_exist_ok\u001b[49m\u001b[43m)\u001b[49m\n\u001b[1;32m    499\u001b[0m errors \u001b[38;5;241m=\u001b[39m []\n\u001b[1;32m    500\u001b[0m use_srcentry \u001b[38;5;241m=\u001b[39m copy_function \u001b[38;5;129;01mis\u001b[39;00m copy2 \u001b[38;5;129;01mor\u001b[39;00m copy_function \u001b[38;5;129;01mis\u001b[39;00m copy\n",
      "File \u001b[0;32m<frozen os>:225\u001b[0m, in \u001b[0;36mmakedirs\u001b[0;34m(name, mode, exist_ok)\u001b[0m\n",
      "\u001b[0;31mFileExistsError\u001b[0m: [Errno 17] File exists: 'test'"
     ]
    }
   ],
   "source": [
    "setup_project('test')"
   ]
  },
  {
   "cell_type": "code",
   "execution_count": 115,
   "metadata": {},
   "outputs": [],
   "source": [
    "from core.stages import router"
   ]
  },
  {
   "cell_type": "code",
   "execution_count": 106,
   "metadata": {},
   "outputs": [
    {
     "ename": "AttributeError",
     "evalue": "'TextBlock' object has no attribute 'content'",
     "output_type": "error",
     "traceback": [
      "\u001b[0;31m---------------------------------------------------------------------------\u001b[0m",
      "\u001b[0;31mAttributeError\u001b[0m                            Traceback (most recent call last)",
      "Cell \u001b[0;32mIn[106], line 8\u001b[0m\n\u001b[1;32m      1\u001b[0m exp_response \u001b[38;5;241m=\u001b[39m client\u001b[38;5;241m.\u001b[39mmessages\u001b[38;5;241m.\u001b[39mcreate(\n\u001b[1;32m      2\u001b[0m     model\u001b[38;5;241m=\u001b[39m\u001b[38;5;124m\"\u001b[39m\u001b[38;5;124manthropic.claude-3-5-sonnet-20241022-v2:0\u001b[39m\u001b[38;5;124m\"\u001b[39m,\n\u001b[1;32m      3\u001b[0m     max_tokens\u001b[38;5;241m=\u001b[39m\u001b[38;5;241m8192\u001b[39m,\n\u001b[1;32m      4\u001b[0m     messages\u001b[38;5;241m=\u001b[39m[{\u001b[38;5;124m\"\u001b[39m\u001b[38;5;124mrole\u001b[39m\u001b[38;5;124m\"\u001b[39m: \u001b[38;5;124m\"\u001b[39m\u001b[38;5;124muser\u001b[39m\u001b[38;5;124m\"\u001b[39m, \u001b[38;5;124m\"\u001b[39m\u001b[38;5;124mcontent\u001b[39m\u001b[38;5;124m\"\u001b[39m: prompt}],\n\u001b[1;32m      5\u001b[0m     tools \u001b[38;5;241m=\u001b[39m stages\u001b[38;5;241m.\u001b[39mrouter\u001b[38;5;241m.\u001b[39mTOOLS\n\u001b[1;32m      6\u001b[0m )\n\u001b[0;32m----> 8\u001b[0m funcs \u001b[38;5;241m=\u001b[39m exp_response\u001b[38;5;241m.\u001b[39mcontent[\u001b[38;5;241m0\u001b[39m]\u001b[38;5;241m.\u001b[39minput \u001b[38;5;28;01mif\u001b[39;00m \u001b[43mexp_response\u001b[49m\u001b[38;5;241;43m.\u001b[39;49m\u001b[43mcontent\u001b[49m\u001b[43m[\u001b[49m\u001b[38;5;241;43m0\u001b[39;49m\u001b[43m]\u001b[49m\u001b[38;5;241;43m.\u001b[39;49m\u001b[43mcontent\u001b[49m\u001b[38;5;241m.\u001b[39mtype \u001b[38;5;241m==\u001b[39m \u001b[38;5;124m\"\u001b[39m\u001b[38;5;124mtool_use\u001b[39m\u001b[38;5;124m\"\u001b[39m \u001b[38;5;129;01mand\u001b[39;00m exp_response\u001b[38;5;241m.\u001b[39mcontent[\u001b[38;5;241m0\u001b[39m]\u001b[38;5;241m.\u001b[39mcontent\u001b[38;5;241m.\u001b[39mname \u001b[38;5;241m==\u001b[39m \u001b[38;5;124m\"\u001b[39m\u001b[38;5;124minferred_functions\u001b[39m\u001b[38;5;124m\"\u001b[39m \u001b[38;5;28;01melse\u001b[39;00m \u001b[38;5;28;01mNone\u001b[39;00m\n",
      "File \u001b[0;32m~/neon/bot-new/.venv/lib/python3.12/site-packages/pydantic/main.py:891\u001b[0m, in \u001b[0;36mBaseModel.__getattr__\u001b[0;34m(self, item)\u001b[0m\n\u001b[1;32m    888\u001b[0m     \u001b[38;5;28;01mreturn\u001b[39;00m \u001b[38;5;28msuper\u001b[39m()\u001b[38;5;241m.\u001b[39m\u001b[38;5;21m__getattribute__\u001b[39m(item)  \u001b[38;5;66;03m# Raises AttributeError if appropriate\u001b[39;00m\n\u001b[1;32m    889\u001b[0m \u001b[38;5;28;01melse\u001b[39;00m:\n\u001b[1;32m    890\u001b[0m     \u001b[38;5;66;03m# this is the current error\u001b[39;00m\n\u001b[0;32m--> 891\u001b[0m     \u001b[38;5;28;01mraise\u001b[39;00m \u001b[38;5;167;01mAttributeError\u001b[39;00m(\u001b[38;5;124mf\u001b[39m\u001b[38;5;124m'\u001b[39m\u001b[38;5;132;01m{\u001b[39;00m\u001b[38;5;28mtype\u001b[39m(\u001b[38;5;28mself\u001b[39m)\u001b[38;5;241m.\u001b[39m\u001b[38;5;18m__name__\u001b[39m\u001b[38;5;132;01m!r}\u001b[39;00m\u001b[38;5;124m object has no attribute \u001b[39m\u001b[38;5;132;01m{\u001b[39;00mitem\u001b[38;5;132;01m!r}\u001b[39;00m\u001b[38;5;124m'\u001b[39m)\n",
      "\u001b[0;31mAttributeError\u001b[0m: 'TextBlock' object has no attribute 'content'"
     ]
    }
   ],
   "source": [
    "exp_response = client.messages.create(\n",
    "    model=\"anthropic.claude-3-5-sonnet-20241022-v2:0\",\n",
    "    max_tokens=8192,\n",
    "    messages=[{\"role\": \"user\", \"content\": prompt}],\n",
    "    tools = router.TOOLS\n",
    ")\n",
    "\n",
    "funcs = router.parse_outputs([content for content in exp_response.content])[\"user_functions\"]"
   ]
  },
  {
   "cell_type": "code",
   "execution_count": 8,
   "metadata": {},
   "outputs": [
    {
     "data": {
      "text/plain": [
       "{'functions': [{'name': 'recordDish',\n",
       "   'description': '\\nLog user\\'s dish. Examples:\\n- \"I ate a burger.\"\\n- \"I had a salad for lunch.\"\\n- \"Chili con carne\"\\n'},\n",
       "  {'name': 'listDishes',\n",
       "   'description': '\\nList user\\'s dishes. Examples:\\n- \"What did I eat yesterday?\"\\n- \"Show me my meals for last week.\"\\n'}]}"
      ]
     },
     "execution_count": 8,
     "metadata": {},
     "output_type": "execute_result"
    }
   ],
   "source": [
    "funcs"
   ]
  },
  {
   "cell_type": "code",
   "execution_count": null,
   "metadata": {},
   "outputs": [],
   "source": []
  },
  {
   "cell_type": "code",
   "execution_count": null,
   "metadata": {},
   "outputs": [],
   "source": []
  },
  {
   "cell_type": "code",
   "execution_count": null,
   "metadata": {},
   "outputs": [],
   "source": []
  },
  {
   "cell_type": "code",
   "execution_count": null,
   "metadata": {},
   "outputs": [],
   "source": [
    "prompt = exp_tpl.render(application_description=application_description)\n",
    "\n",
    "exp_response = client.messages.create(\n",
    "    model=\"anthropic.claude-3-5-sonnet-20241022-v2:0\",\n",
    "    max_tokens=8192,\n",
    "    messages=[{\"role\": \"user\", \"content\": prompt}]\n",
    ")\n",
    "expansion = stages.expansion.parse_output(exp_response.content[0].text)"
   ]
  },
  {
   "cell_type": "code",
   "execution_count": null,
   "metadata": {},
   "outputs": [
    {
     "name": "stdout",
     "output_type": "stream",
     "text": [
      "<types>\n",
      "        <type>exercise\n",
      "            - name\n",
      "            - equipment_required\n",
      "            - sets\n",
      "            - reps\n",
      "            - weight</type>\n",
      "        <type>equipment\n",
      "            - name\n",
      "            - type</type>\n",
      "        <type>workout_session\n",
      "            - date\n",
      "            - duration\n",
      "            - exercises_performed</type>\n",
      "        <type>routine\n",
      "            - exercises\n",
      "            - duration\n",
      "            - equipment_needed</type>\n",
      "    </types>\n",
      "    <operations>\n",
      "        <operation>record_workout_session\n",
      "            - date\n",
      "            - exercises with sets/reps/weights</operation>\n",
      "        <operation>track_progress\n",
      "            - exercise\n",
      "            - time period</operation>\n",
      "        <operation>list_available_equipment</operation>\n",
      "        <operation>generate_routine\n",
      "            - available equipment\n",
      "            - time constraint\n",
      "            - fitness level</operation>\n",
      "        <operation>view_history\n",
      "            - time period</operation>\n",
      "    </operations>\n"
     ]
    }
   ],
   "source": [
    "print(expansion[\"application_specification\"])"
   ]
  }
 ],
 "metadata": {
  "kernelspec": {
   "display_name": ".venv",
   "language": "python",
   "name": "python3"
  },
  "language_info": {
   "codemirror_mode": {
    "name": "ipython",
    "version": 3
   },
   "file_extension": ".py",
   "mimetype": "text/x-python",
   "name": "python",
   "nbconvert_exporter": "python",
   "pygments_lexer": "ipython3",
   "version": "3.12.3"
  }
 },
 "nbformat": 4,
 "nbformat_minor": 2
}
