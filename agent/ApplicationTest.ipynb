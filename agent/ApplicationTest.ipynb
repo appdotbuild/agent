{
 "cells": [
  {
   "cell_type": "code",
   "execution_count": null,
   "metadata": {},
   "outputs": [],
   "source": [
    "%load_ext autoreload\n",
    "%autoreload 2"
   ]
  },
  {
   "cell_type": "code",
   "execution_count": 1,
   "metadata": {},
   "outputs": [],
   "source": [
    "import os\n",
    "os.environ[\"LANGFUSE_PUBLIC_KEY\"] = \"pk-lf-8c74f297-f026-484d-93d3-c048f8e2b386\"\n",
    "os.environ[\"LANGFUSE_SECRET_KEY\"] = \"sk-lf-f5823dc5-753d-4db7-a052-0bf0cfe9c3cf\"\n",
    "os.environ[\"LANGFUSE_HOST\"] = \"https://cloud.langfuse.com\""
   ]
  },
  {
   "cell_type": "code",
   "execution_count": 2,
   "metadata": {},
   "outputs": [],
   "source": [
    "from anthropic import AnthropicBedrock\n",
    "from application import Application\n",
    "from compiler.core import Compiler\n",
    "from core.interpolator import Interpolator"
   ]
  },
  {
   "cell_type": "code",
   "execution_count": 3,
   "metadata": {},
   "outputs": [],
   "source": [
    "compiler = Compiler(\"botbuild/tsp_compiler\", \"botbuild/app_schema\")\n",
    "client = AnthropicBedrock(aws_profile=\"dev\", aws_region=\"us-west-2\")"
   ]
  },
  {
   "cell_type": "code",
   "execution_count": 4,
   "metadata": {},
   "outputs": [],
   "source": [
    "application = Application(client, compiler)\n",
    "interpolator = Interpolator(\".\")"
   ]
  },
  {
   "cell_type": "code",
   "execution_count": 5,
   "metadata": {},
   "outputs": [],
   "source": [
    "application_description = \"\"\"\n",
    "Bot that helps me planning my YouTube content and posting schedule.\n",
    "\"\"\".strip()"
   ]
  },
  {
   "cell_type": "code",
   "execution_count": 6,
   "metadata": {},
   "outputs": [],
   "source": [
    "application_description = \"Bot that greets user by name and returns personalized greeting.\""
   ]
  },
  {
   "cell_type": "code",
   "execution_count": 7,
   "metadata": {},
   "outputs": [
    {
     "name": "stdout",
     "output_type": "stream",
     "text": [
      "Skipping Initial Description Refinement\n",
      "Compiling TypeSpec...\n",
      "Compiling Typescript Schema Definitions...\n",
      "Compiling Drizzle...\n",
      "Compiling Handler Tests...\n",
      "Compiling Handlers...\n"
     ]
    }
   ],
   "source": [
    "my_bot = application.create_bot(application_description, bot_id=\"handler_tests\")"
   ]
  },
  {
   "cell_type": "code",
   "execution_count": 10,
   "metadata": {},
   "outputs": [],
   "source": [
    "interpolator.bake(my_bot, \"../../bot_result\") # next to repo root"
   ]
  },
  {
   "cell_type": "code",
   "execution_count": 9,
   "metadata": {},
   "outputs": [
    {
     "data": {
      "text/plain": [
       "{'refined_description': RefineOut(refined_description='Bot that greets user by name and returns personalized greeting.', error_output=None),\n",
       " 'typespec': TypespecOut(reasoning='I expect user to send messages like \"Hello, my name is John\" or \"Hi, I\\'m Alice\".\\nLLM can extract the name from the message and pass it to the handler:\\n\"Hello, my name is John\" -> greet({name: \"John\"})\\n- greet(options: GreetRequest): string;\\n\\nThe bot should also remember users and their preferences for greetings:\\n\"Remember to greet me formally\" -> setPreferences({name: \"John\", formal: true})\\n- setPreferences(options: UserPreferences): void;', typespec_definitions='model GreetRequest {\\n    name: string;\\n}\\n\\nmodel UserPreferences {\\n    name: string;\\n    formal: boolean;\\n    preferredTime: plainTime;\\n}\\n\\ninterface GreetingBot {\\n    @llm_func(\"Generate a personalized greeting for the user\")\\n    greet(options: GreetRequest): string;\\n\\n    @llm_func(\"Save user\\'s greeting preferences\")\\n    setPreferences(options: UserPreferences): void;\\n}', llm_functions=[LLMFunction(name='greet', description='Generate a personalized greeting for the user'), LLMFunction(name='setPreferences', description=\"Save user's greeting preferences\")], error_output=None),\n",
       " 'drizzle': DrizzleOut(reasoning='The errors need to be addressed as follows:\\n1. `defaultRandom()` is not a valid method - we should use `uuid` type for random IDs\\n2. Index creation syntax was incorrect - should use the proper drizzle index creation\\n3. We should properly import necessary types from drizzle\\n4. Time-related columns should use timestamp type for better precision and timezone handling', drizzle_schema='import { \\n  pgTable, \\n  text, \\n  boolean, \\n  timestamp, \\n  uuid,\\n  index\\n} from \"drizzle-orm/pg-core\";\\n\\nexport const greetRequestsTable = pgTable(\"greet_requests\", {\\n  id: uuid(\"id\").primaryKey().defaultRandom(),\\n  name: text(\"name\").notNull(),\\n  created_at: timestamp(\"created_at\").defaultNow(),\\n});\\n\\nexport const userPreferencesTable = pgTable(\"user_preferences\", {\\n  id: uuid(\"id\").primaryKey().defaultRandom(),\\n  name: text(\"name\").notNull(),\\n  formal: boolean(\"formal\").notNull().default(false),\\n  preferred_time: timestamp(\"preferred_time\").notNull(),\\n  updated_at: timestamp(\"updated_at\").defaultNow(),\\n}, (table) => ({\\n  nameIdx: index(\"user_preferences_name_idx\").on(table.name),\\n}));', error_output=None),\n",
       " 'handlers': {'greet': HandlerOut(name='greet', handler='import type { GreetRequest } from \"../common/schema\";\\nimport { greet } from \"../common/schema\";\\nimport { db } from \"../db\";\\nimport { greetRequestsTable } from \"../db/schema/application\";\\n\\nexport const handle: typeof greet = async (options: GreetRequest): Promise<string> => {\\n    // Insert the greeting request into the database\\n    await db.insert(greetRequestsTable)\\n        .values({\\n            name: options.name,\\n        })\\n        .execute();\\n\\n    // Return greeting message\\n    return `Hello, ${options.name}!`;\\n};', error_output=None),\n",
       "  'setPreferences': HandlerOut(name='setPreferences', handler='import { db } from \"../db\";\\nimport { type UserPreferences, setPreferences } from \"../common/schema\";\\nimport { userPreferencesTable } from \"../db/schema/application\";\\nimport { eq } from \"drizzle-orm\";\\n\\nexport const handle: typeof setPreferences = async (options: UserPreferences): Promise<void> => {\\n    // Parse the preferred time string to a Date object\\n    const preferredTime = new Date(`1970-01-01T${options.preferredTime}Z`);\\n\\n    // Check if user preferences already exist\\n    const existingPreferences = await db\\n        .select()\\n        .from(userPreferencesTable)\\n        .where(eq(userPreferencesTable.name, options.name));\\n\\n    if (existingPreferences.length > 0) {\\n        // Update existing preferences\\n        await db\\n            .update(userPreferencesTable)\\n            .set({\\n                formal: options.formal,\\n                preferred_time: preferredTime,\\n                updated_at: new Date(),\\n            })\\n            .where(eq(userPreferencesTable.name, options.name));\\n    } else {\\n        // Insert new preferences\\n        await db\\n            .insert(userPreferencesTable)\\n            .values({\\n                name: options.name,\\n                formal: options.formal,\\n                preferred_time: preferredTime,\\n            });\\n    }\\n};', error_output=None)},\n",
       " 'handler_tests': {'greet': HandlerTestsOut(name='greet', content='\\nimport { afterEach, beforeEach, describe } from \"bun:test\";\\nimport { resetDB, createDB } from \"../../helpers\";\\nimport { handle as greet } from \"../../handlers/greet.ts\";\\nimport { expect, it } from \"bun:test\";\\nimport { db } from \"../../db\";\\nimport { greetRequestsTable } from \"../../db/schema/application\";\\nimport { type GreetRequest } from \"../../common/schema\";\\n\\ndescribe(\"\", () => {\\n    beforeEach(async () => {\\n        await createDB();\\n    });\\n\\n    afterEach(async () => {\\n        await resetDB();\\n    });\\n    \\n    \\n    it(\"should return a simple greeting\", async () => {\\n      const input: GreetRequest = { name: \"Alice\" };\\n      const greeting = await greet(input);\\n      expect(greeting).toEqual(\"Hello, Alice!\");\\n    });\\n\\n    \\n    \\n    it(\"should store the greet request in database\", async () => {\\n      const input: GreetRequest = { name: \"Bob\" };\\n      await greet(input);\\n      \\n      const requests = await db\\n        .select()\\n        .from(greetRequestsTable)\\n        .execute();\\n      \\n      expect(requests).toHaveLength(1);\\n      expect(requests[0].name).toEqual(\"Bob\");\\n      expect(requests[0].id).toBeDefined();\\n      expect(requests[0].created_at).toBeDefined();\\n    });\\n\\n    \\n    \\n    it(\"should handle empty string name\", async () => {\\n      const input: GreetRequest = { name: \"\" };\\n      const greeting = await greet(input);\\n      expect(greeting).toEqual(\"Hello, !\");\\n    });\\n\\n    \\n    \\n    it(\"should handle special characters in name\", async () => {\\n      const input: GreetRequest = { name: \"O\\'Connor-Smith\" };\\n      const greeting = await greet(input);\\n      expect(greeting).toEqual(\"Hello, O\\'Connor-Smith!\");\\n    });\\n\\n    \\n});', error_output=None),\n",
       "  'setPreferences': HandlerTestsOut(name='setPreferences', content='\\nimport { afterEach, beforeEach, describe } from \"bun:test\";\\nimport { resetDB, createDB } from \"../../helpers\";\\nimport { handle as setPreferences } from \"../../handlers/setPreferences.ts\";\\nimport { expect, it } from \"bun:test\";\\nimport { db } from \"../../db\";\\nimport { userPreferencesTable } from \"../../db/schema/application\";\\nimport { type UserPreferences } from \"../../common/schema\";\\nimport { eq } from \"drizzle-orm\";\\n\\ndescribe(\"\", () => {\\n    beforeEach(async () => {\\n        await createDB();\\n    });\\n\\n    afterEach(async () => {\\n        await resetDB();\\n    });\\n    \\n    \\n    it(\"should store user preferences successfully\", async () => {\\n      const input: UserPreferences = {\\n        name: \"Alice\",\\n        formal: true,\\n        preferredTime: \"14:30:00\"\\n      };\\n      \\n      await setPreferences(input);\\n      \\n      const preferences = await db\\n        .select()\\n        .from(userPreferencesTable)\\n        .where(eq(userPreferencesTable.name, \"Alice\"))\\n        .execute();\\n\\n      expect(preferences).toHaveLength(1);\\n      expect(preferences[0].name).toBe(\"Alice\");\\n      expect(preferences[0].formal).toBe(true);\\n      expect(preferences[0].preferred_time).toBeDefined();\\n    });\\n\\n    \\n    \\n    it(\"should update existing user preferences\", async () => {\\n      const input: UserPreferences = {\\n        name: \"Bob\",\\n        formal: false,\\n        preferredTime: \"09:00:00\"\\n      };\\n      \\n      await setPreferences(input);\\n      \\n      const updatedInput: UserPreferences = {\\n        name: \"Bob\",\\n        formal: true,\\n        preferredTime: \"10:00:00\"\\n      };\\n      \\n      await setPreferences(updatedInput);\\n      \\n      const preferences = await db\\n        .select()\\n        .from(userPreferencesTable)\\n        .where(eq(userPreferencesTable.name, \"Bob\"))\\n        .execute();\\n\\n      expect(preferences).toHaveLength(1);\\n      expect(preferences[0].formal).toBe(true);\\n      expect(preferences[0].preferred_time).toBeDefined();\\n    });\\n\\n    \\n    \\n    it(\"should handle time format correctly\", async () => {\\n      const input: UserPreferences = {\\n        name: \"Charlie\",\\n        formal: false,\\n        preferredTime: \"23:59:59\"\\n      };\\n      \\n      await setPreferences(input);\\n      \\n      const preferences = await db\\n        .select()\\n        .from(userPreferencesTable)\\n        .where(eq(userPreferencesTable.name, \"Charlie\"))\\n        .execute();\\n\\n      expect(preferences).toHaveLength(1);\\n      expect(preferences[0].preferred_time).toBeDefined();\\n      const time = preferences[0].preferred_time?.toTimeString().split(\" \")[0];\\n      expect(time).toBe(\"23:59:59\");\\n    });\\n\\n    \\n});', error_output=None)},\n",
       " 'typescript_schema': TypescriptOut(reasoning=\"The error occurs because Zod doesn't have a direct `time()` method. We need to:\\n1. Use string coercion with a proper time format validation\\n2. For plain time, we can use a string pattern matching HH:mm:ss format\\n3. The validation should ensure the time string follows the correct format using regex\\n4. The coercion will ensure the input is converted to a string in the correct format\", typescript_schema=\"import { z } from 'zod';\\n\\nexport const greetRequestSchema = z.object({\\n    name: z.string(),\\n});\\n\\nexport type GreetRequest = z.infer<typeof greetRequestSchema>;\\n\\nexport const userPreferencesSchema = z.object({\\n    name: z.string(),\\n    formal: z.boolean(),\\n    preferredTime: z.coerce.string().regex(\\n        /^([0-1]?[0-9]|2[0-3]):[0-5][0-9]:[0-5][0-9]$/, \\n        'Time must be in HH:mm:ss format'\\n    ),\\n});\\n\\nexport type UserPreferences = z.infer<typeof userPreferencesSchema>;\\n\\nexport declare function greet(options: GreetRequest): Promise<string>;\\n\\nexport declare function setPreferences(options: UserPreferences): Promise<void>;\", functions=[TypescriptFunction(name='greet', argument_type='GreetRequest', argument_schema='greetRequestSchema', return_type='Promise<string>'), TypescriptFunction(name='setPreferences', argument_type='UserPreferences', argument_schema='userPreferencesSchema', return_type='Promise<void>')], error_output=None),\n",
       " 'gherkin': GherkinOut(reasoning=None, gherkin=None, error_output=None),\n",
       " 'trace_id': 'b47dcc25-261b-4a97-843e-972566e22043'}"
      ]
     },
     "execution_count": 9,
     "metadata": {},
     "output_type": "execute_result"
    }
   ],
   "source": [
    "my_bot.__dict__"
   ]
  },
  {
   "cell_type": "code",
   "execution_count": null,
   "metadata": {},
   "outputs": [],
   "source": []
  }
 ],
 "metadata": {
  "kernelspec": {
   "display_name": ".venv",
   "language": "python",
   "name": "python3"
  },
  "language_info": {
   "codemirror_mode": {
    "name": "ipython",
    "version": 3
   },
   "file_extension": ".py",
   "mimetype": "text/x-python",
   "name": "python",
   "nbconvert_exporter": "python",
   "pygments_lexer": "ipython3",
   "version": "3.12.8"
  }
 },
 "nbformat": 4,
 "nbformat_minor": 2
}
