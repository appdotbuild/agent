{
 "cells": [
  {
   "cell_type": "code",
   "execution_count": 1,
   "metadata": {},
   "outputs": [],
   "source": [
    "import os\n",
    "os.environ[\"LANGFUSE_PUBLIC_KEY\"] = \"pk-lf-8c74f297-f026-484d-93d3-c048f8e2b386\"\n",
    "os.environ[\"LANGFUSE_SECRET_KEY\"] = \"sk-lf-f5823dc5-753d-4db7-a052-0bf0cfe9c3cf\"\n",
    "os.environ[\"LANGFUSE_HOST\"] = \"https://cloud.langfuse.com\""
   ]
  },
  {
   "cell_type": "code",
   "execution_count": 2,
   "metadata": {},
   "outputs": [],
   "source": [
    "from anthropic import AnthropicBedrock\n",
    "from application import Application\n",
    "from compiler.core import Compiler\n",
    "import tempfile"
   ]
  },
  {
   "cell_type": "code",
   "execution_count": 3,
   "metadata": {},
   "outputs": [],
   "source": [
    "compiler = Compiler(\"botbuild/tsp_compiler\", \"botbuild/app_schema\")\n",
    "client = AnthropicBedrock(aws_profile=\"dev\", aws_region=\"us-west-2\")"
   ]
  },
  {
   "cell_type": "code",
   "execution_count": 4,
   "metadata": {},
   "outputs": [],
   "source": [
    "tempdir = tempfile.TemporaryDirectory()\n",
    "application = Application(client, compiler, \"templates\", tempdir.name)"
   ]
  },
  {
   "cell_type": "code",
   "execution_count": 5,
   "metadata": {},
   "outputs": [],
   "source": [
    "application_description = \"\"\"\n",
    "Bot that helps me planning my YouTube content and posting schedule.\n",
    "\"\"\".strip()"
   ]
  },
  {
   "cell_type": "code",
   "execution_count": 6,
   "metadata": {},
   "outputs": [],
   "source": [
    "application_description = \"Bot that greets user by name and returns personalized greeting.\""
   ]
  },
  {
   "cell_type": "code",
   "execution_count": 7,
   "metadata": {},
   "outputs": [
    {
     "name": "stdout",
     "output_type": "stream",
     "text": [
      "Compiling TypeSpec...\n",
      "Compiling Typescript Schema Definitions...\n",
      "Compiling Drizzle...\n",
      "Generating Router...\n",
      "Compiling Handlers...\n",
      "Generating Application...\n"
     ]
    }
   ],
   "source": [
    "my_bot = application.create_bot(application_description, bot_id=\"demo_bot_1302\")"
   ]
  },
  {
   "cell_type": "code",
   "execution_count": 8,
   "metadata": {},
   "outputs": [
    {
     "data": {
      "text/plain": [
       "{'typespec': TypespecOut(reasoning='I expect user to send messages like \"Hello, my name is John\" or \"Hi, I\\'m Mary\".\\nLLM can extract the name from the message and pass it to the handler.\\n\"Hello, my name is John\" -> greet({name: \"John\"})\\n\\nThe bot should also remember user\\'s name for future interactions, so we need a way to store and retrieve it.\\n\"What\\'s my name?\" -> getName({})\\n\\nFor personalization, we might want to set preferred greeting style and language.\\n\"Please use formal greetings\" -> setPreferences({formal: true, language: \"en\"})', typespec_definitions='model UserName {\\n    name: string;\\n}\\n\\nmodel UserPreferences {\\n    formal: boolean;\\n    language: string;\\n}\\n\\ninterface GreetingBot {\\n    @llm_func(1)\\n    greet(options: UserName): string;\\n\\n    @llm_func(1)\\n    getName(options: {}): string;\\n\\n    @llm_func(1)\\n    setPreferences(options: UserPreferences): void;\\n}', llm_functions=['greet', 'getName', 'setPreferences'], error_output=None),\n",
       " 'drizzle': DrizzleOut(reasoning=\"The error occurs because there's a type mismatch in the foreign key relationship. The 'id' column in the users table needs to be of the same type as the 'user_id' columns referencing it. Looking at the error, it seems the 'id' is being created as text while we're trying to reference it as uuid. We need to ensure consistent types across related columns.\", drizzle_schema='import { boolean, pgTable, text, uuid, timestamp } from \"drizzle-orm/pg-core\";\\n\\n// Users table to store basic user information\\nexport const usersTable = pgTable(\"users\", {\\n  id: text(\"id\").primaryKey().notNull(),  // Changed to text to match existing data\\n  name: text(\"name\").notNull(),\\n});\\n\\n// User preferences table\\nexport const userPreferencesTable = pgTable(\"user_preferences\", {\\n  id: text(\"id\").primaryKey().notNull(),  // Changed to text to be consistent\\n  user_id: text(\"user_id\")  // Changed to text to match users.id\\n    .notNull()\\n    .references(() => usersTable.id),\\n  formal: boolean(\"formal\").notNull().default(false),\\n  language: text(\"language\").notNull().default(\"en\"),\\n  created_at: timestamp(\"created_at\").notNull().defaultNow(),\\n  updated_at: timestamp(\"updated_at\").notNull().defaultNow(),\\n});\\n\\n// Interactions history table (optional, for logging bot interactions)\\nexport const interactionsTable = pgTable(\"interactions\", {\\n  id: text(\"id\").primaryKey().notNull(),  // Changed to text to be consistent\\n  user_id: text(\"user_id\")  // Changed to text to match users.id\\n    .notNull()\\n    .references(() => usersTable.id),\\n  function_name: text(\"function_name\").notNull(),\\n  input: text(\"input\"),\\n  output: text(\"output\"),\\n  timestamp: timestamp(\"timestamp\").notNull().defaultNow(),\\n});', error_output=None),\n",
       " 'router': RouterOut(functions=[{'name': 'greet', 'description': 'Generate a personalized greeting for a user based on their provided name. This function should be used when a user wants to be greeted or introduce themselves.', 'examples': [\"Hello, I'm John\", 'Hi, my name is Sarah', \"Please greet me, I'm Michael\", \"Could you say hello to me? I'm Emma\"]}, {'name': 'getName', 'description': \"Request or ask for the user's name when it's not provided. This function should be used when we need to obtain the user's name or when they ask about name-related queries.\", 'examples': [\"What's my name?\", 'Could you tell me my name?', 'Do you know who I am?', 'What name do you have for me?']}, {'name': 'setPreferences', 'description': 'Configure user preferences for interaction, including formality level and preferred language. This function should be used when users want to customize their interaction settings.', 'examples': ['I prefer formal communication', 'Please use informal language', 'Set my language to Spanish', 'Change my preferences to informal and English', 'I want to communicate in French formally']}], error_output=None),\n",
       " 'handlers': {'greet': HandlerOut(name='greetHandler', handler='import { type UserName } from \"../common/schema\";\\nimport { greet } from \"../common/schema\";\\nimport { db } from \"../db\";\\nimport { usersTable, interactionsTable } from \"../db/schema/application\";\\nimport { eq } from \"drizzle-orm\";\\n\\nexport const handle: typeof greet = async (options: UserName): Promise<string> => {\\n    // Generate a unique ID for the user if they don\\'t exist\\n    const userId = crypto.randomUUID();\\n\\n    // Check if user exists, if not create them\\n    const existingUser = await db.select()\\n        .from(usersTable)\\n        .where(eq(usersTable.name, options.name))\\n        .limit(1);\\n\\n    if (existingUser.length === 0) {\\n        await db.insert(usersTable)\\n            .values({\\n                id: userId,\\n                name: options.name,\\n            });\\n    }\\n\\n    const greeting = `Hello, ${options.name}!`;\\n\\n    // Log the interaction\\n    await db.insert(interactionsTable)\\n        .values({\\n            id: crypto.randomUUID(),\\n            user_id: existingUser[0]?.id ?? userId,\\n            function_name: \"greet\",\\n            input: JSON.stringify(options),\\n            output: greeting,\\n        });\\n\\n    return greeting;\\n};', error_output=None),\n",
       "  'setPreferences': HandlerOut(name='setPreferencesHandler', handler='import type { UserPreferences } from \"../common/schema\";\\nimport { setPreferences } from \"../common/schema\";\\nimport { userPreferencesTable } from \"../db/schema/application\";\\nimport { db } from \"../db\";\\nimport { eq } from \"drizzle-orm\";\\n\\nexport const handle: typeof setPreferences = async (options: UserPreferences): Promise<void> => {\\n    // Update or insert user preferences\\n    // Note: In a real application, you\\'d typically get the user_id from the session/context\\n    // For this example, we\\'ll use a default user ID\\n    const defaultUserId = \"default_user\";\\n\\n    // Check if preferences already exist for the user\\n    const existingPreferences = await db\\n        .select()\\n        .from(userPreferencesTable)\\n        .where(eq(userPreferencesTable.user_id, defaultUserId));\\n\\n    if (existingPreferences.length > 0) {\\n        // Update existing preferences\\n        await db\\n            .update(userPreferencesTable)\\n            .set({\\n                formal: options.formal,\\n                language: options.language,\\n                updated_at: new Date(),\\n            })\\n            .where(eq(userPreferencesTable.user_id, defaultUserId));\\n    } else {\\n        // Insert new preferences\\n        await db\\n            .insert(userPreferencesTable)\\n            .values({\\n                id: crypto.randomUUID(),\\n                user_id: defaultUserId,\\n                formal: options.formal,\\n                language: options.language,\\n            });\\n    }\\n};', error_output=None)},\n",
       " 'typescript_schema': TypescriptOut(reasoning=\"I apologize for the formatting error. The previous response needed proper XML-style tags. I'll provide the same TypeScript definitions with the correct formatting and ensure it compiles without errors.\", typescript_schema=\"import { z } from 'zod';\\n\\n// Define Zod schemas for data validation\\nexport const userNameSchema = z.object({\\n    name: z.string()\\n});\\n\\nexport const userPreferencesSchema = z.object({\\n    formal: z.boolean(),\\n    language: z.string()\\n});\\n\\n// Export types inferred from Zod schemas\\nexport type UserName = z.infer<typeof userNameSchema>;\\nexport type UserPreferences = z.infer<typeof userPreferencesSchema>;\\n\\n// Interface declaration for GreetingBot\\nexport interface GreetingBot {\\n    greet(options: UserName): Promise<string>;\\n    getName(options: Record<string, never>): Promise<string>;\\n    setPreferences(options: UserPreferences): Promise<void>;\\n}\\n\\n// Function declarations\\nexport declare function greet(options: UserName): Promise<string>;\\nexport declare function getName(options: Record<string, never>): Promise<string>;\\nexport declare function setPreferences(options: UserPreferences): Promise<void>;\", functions=[TypescriptFunction(name='greet', argument_type='UserName', argument_schema='userNameSchema', return_type='Promise<string>'), TypescriptFunction(name='setPreferences', argument_type='UserPreferences', argument_schema='userPreferencesSchema', return_type='Promise<void>')], error_output=None),\n",
       " 'gherkin': GherkinOut(reasoning=None, gherkin=None, error_output=None),\n",
       " 'application': {'greet': {'module': 'greet', 'name': 'greetHandler'},\n",
       "  'setPreferences': {'module': 'set_preferences',\n",
       "   'name': 'setPreferencesHandler'}}}"
      ]
     },
     "execution_count": 8,
     "metadata": {},
     "output_type": "execute_result"
    }
   ],
   "source": [
    "my_bot.__dict__"
   ]
  },
  {
   "cell_type": "code",
   "execution_count": 9,
   "metadata": {},
   "outputs": [
    {
     "data": {
      "text/plain": [
       "'/tmp/tmpirzxx64r/generated/generation-1'"
      ]
     },
     "execution_count": 9,
     "metadata": {},
     "output_type": "execute_result"
    }
   ],
   "source": [
    "application.generation_dir"
   ]
  },
  {
   "cell_type": "code",
   "execution_count": 10,
   "metadata": {},
   "outputs": [
    {
     "data": {
      "text/plain": [
       "'../../bot_results/bot_zod_gen'"
      ]
     },
     "execution_count": 10,
     "metadata": {},
     "output_type": "execute_result"
    }
   ],
   "source": [
    "import shutil\n",
    "shutil.copytree(f\"{application.generation_dir}/app_schema\", \"../../bot_results/bot_zod_gen\")"
   ]
  },
  {
   "cell_type": "code",
   "execution_count": 9,
   "metadata": {},
   "outputs": [
    {
     "data": {
      "text/plain": [
       "[{'name': 'createVideoPlan',\n",
       "  'description': 'Creates a detailed plan for a new video content including title, description, estimated duration, target audience, tags, and notes',\n",
       "  'examples': ['Help me plan a video about gardening tips',\n",
       "   'I want to create a video about cooking basics',\n",
       "   'Create a content plan for my tech review video']},\n",
       " {'name': 'scheduleVideo',\n",
       "  'description': 'Schedules a video for publication at a specific date and time',\n",
       "  'examples': ['Schedule my gardening video for next Tuesday at 3pm',\n",
       "   'I want to publish my cooking video on December 1st',\n",
       "   'Set my tech review to go live tomorrow morning at 9am']},\n",
       " {'name': 'getScheduledVideos',\n",
       "  'description': 'Retrieves a list of scheduled videos within a specified date range',\n",
       "  'examples': ['Show me all videos scheduled for next week',\n",
       "   'What videos are planned between March 1st and March 15th?',\n",
       "   'List the upcoming video schedule for this month']},\n",
       " {'name': 'updateVideoSchedule',\n",
       "  'description': 'Changes the publication date and time for an existing scheduled video',\n",
       "  'examples': [\"Reschedule my 'Cooking Basics' video to next Friday\",\n",
       "   'Move my tech review video to tomorrow afternoon',\n",
       "   \"Change the publish date of 'Gardening Tips' to next month\"]},\n",
       " {'name': 'getContentIdeas',\n",
       "  'description': 'Generates video content ideas and suggestions based on a given topic',\n",
       "  'examples': ['Give me video ideas about fitness',\n",
       "   'I need content suggestions for my tech channel',\n",
       "   'What kind of videos can I make about photography?']}]"
      ]
     },
     "execution_count": 9,
     "metadata": {},
     "output_type": "execute_result"
    }
   ],
   "source": [
    "my_bot.router.functions"
   ]
  },
  {
   "cell_type": "code",
   "execution_count": null,
   "metadata": {},
   "outputs": [],
   "source": []
  },
  {
   "cell_type": "code",
   "execution_count": null,
   "metadata": {},
   "outputs": [],
   "source": []
  },
  {
   "cell_type": "code",
   "execution_count": null,
   "metadata": {},
   "outputs": [],
   "source": [
    "!pushd {application.generation_dir}/app_schema\n",
    "!npm install\n",
    "!npx tsc src/main.ts\n",
    "!popd\n"
   ]
  },
  {
   "cell_type": "code",
   "execution_count": null,
   "metadata": {},
   "outputs": [],
   "source": [
    "typespec = application._make_typespec(application_description)\n",
    "typespec.score, typespec.data.output"
   ]
  },
  {
   "cell_type": "code",
   "execution_count": null,
   "metadata": {},
   "outputs": [],
   "source": [
    "typescript_schema = application._make_typescript_schema(typespec.data.output.typespec_definitions)\n",
    "typescript_schema.score, typescript_schema.data.output"
   ]
  },
  {
   "cell_type": "code",
   "execution_count": null,
   "metadata": {},
   "outputs": [],
   "source": [
    "drizzle = application._make_drizzle(typespec.data.output.typespec_definitions)\n",
    "drizzle.score, drizzle.data.output"
   ]
  },
  {
   "cell_type": "code",
   "execution_count": null,
   "metadata": {},
   "outputs": [],
   "source": [
    "router = application._make_router(typespec.data.output.typespec_definitions)\n",
    "router.score, router.data.output"
   ]
  },
  {
   "cell_type": "code",
   "execution_count": null,
   "metadata": {},
   "outputs": [],
   "source": [
    "handlers = application._make_handlers(\n",
    "    typespec.data.output.llm_functions,\n",
    "    typespec.data.output.typespec_definitions,\n",
    "    typescript_schema.data.output.typescript_schema,\n",
    "    drizzle.data.output.drizzle_schema,\n",
    ")"
   ]
  },
  {
   "cell_type": "code",
   "execution_count": null,
   "metadata": {},
   "outputs": [
    {
     "name": "stdout",
     "output_type": "stream",
     "text": [
      "recordExercise 1 0 HandlerOutput(handler='import { db } from \"../db\";\\nimport type { Exercise } from \"../common/schema\";\\nimport { exerciseTable } from \"../db/schema/application\";\\n\\ninterface Options {\\n    exercise: Exercise;\\n}\\n\\nexport const handle = async (options: Options): Promise<void> => {\\n    await db.insert(exerciseTable).values({\\n        name: options.exercise.name,\\n        sets: options.exercise.sets,\\n        reps: options.exercise.reps,\\n        weight: options.exercise.weight,\\n        notes: options.exercise.notes\\n    }).execute();\\n};', feedback={'exit_code': 0, 'stdout': None, 'stderr': None})\n",
      "updateAvailableEquipment 1 0 HandlerOutput(handler='import { db } from \"../db\";\\nimport { equipmentTable } from \"../db/schema/application\";\\nimport type { Equipment } from \"../common/schema\";\\n\\ninterface Options {\\n    equipment: Equipment[];\\n}\\n\\nexport const handle = async (options: Options): Promise<void> => {\\n    // Clear existing equipment\\n    await db.delete(equipmentTable).execute();\\n    \\n    // Insert new equipment\\n    await db.insert(equipmentTable).values(\\n        options.equipment.map(eq => ({\\n            name: eq.name,\\n            type: eq.type\\n        }))\\n    ).execute();\\n};', feedback={'exit_code': 0, 'stdout': None, 'stderr': None})\n",
      "getProgress 1 0 HandlerOutput(handler='import { db } from \"../db\";\\nimport { progressTable, workoutHistoryTable } from \"../db/schema/application\";\\nimport { eq, and, gte, lte } from \"drizzle-orm\";\\nimport type { Progress } from \"../common/schema\";\\n\\ninterface Options {\\n    muscleGroup: string;\\n    from: string;\\n    to: string;\\n}\\n\\nexport const handle = async (options: Options): Promise<Progress[]> => {\\n    const progressData = await db\\n        .select()\\n        .from(progressTable)\\n        .leftJoin(\\n            workoutHistoryTable,\\n            eq(progressTable.history_id, workoutHistoryTable.id)\\n        )\\n        .where(\\n            and(\\n                eq(progressTable.muscle_group, options.muscleGroup),\\n                gte(workoutHistoryTable.date, new Date(options.from)),\\n                lte(workoutHistoryTable.date, new Date(options.to))\\n            )\\n        )\\n        .execute();\\n\\n    // Group by exercise\\n    const groupedProgress = progressData.reduce((acc, record) => {\\n        if (!record.progress || !record.workout_history) return acc;\\n\\n        const exercise = record.progress.exercise;\\n        if (!acc[exercise]) {\\n            acc[exercise] = {\\n                exercise: exercise,\\n                muscleGroup: record.progress.muscle_group,\\n                history: []\\n            };\\n        }\\n\\n        acc[exercise].history.push({\\n            date: record.workout_history.date.toISOString(),\\n            performance: {\\n                name: record.workout_history.exercise_name,\\n                sets: record.workout_history.sets,\\n                reps: record.workout_history.reps,\\n                weight: record.workout_history.weight,\\n                notes: \"\"\\n            }\\n        });\\n\\n        return acc;\\n    }, {} as Record<string, Progress>);\\n\\n    return Object.values(groupedProgress);\\n};', feedback={'exit_code': 0, 'stdout': None, 'stderr': None})\n",
      "adjustRoutineDifficulty 1 0 HandlerOutput(handler='import { db } from \"../db\";\\nimport type { WorkoutRoutine } from \"../common/schema\";\\nimport { workoutRoutineTable, routineExercisesTable, exerciseTable } from \"../db/schema/application\";\\nimport { eq } from \"drizzle-orm\";\\n\\ninterface Options {\\n    routine: WorkoutRoutine;\\n    difficulty: string;\\n}\\n\\nexport const handle = async (options: Options): Promise<WorkoutRoutine> => {\\n    // Get all exercises from the routine\\n    const exerciseList = await db\\n        .select({\\n            id: exerciseTable.id,\\n            name: exerciseTable.name,\\n            sets: exerciseTable.sets,\\n            reps: exerciseTable.reps,\\n            weight: exerciseTable.weight,\\n            notes: exerciseTable.notes\\n        })\\n        .from(routineExercisesTable)\\n        .innerJoin(exerciseTable, eq(routineExercisesTable.exercise_id, exerciseTable.id))\\n        .innerJoin(workoutRoutineTable, eq(routineExercisesTable.routine_id, workoutRoutineTable.id))\\n        .where(eq(workoutRoutineTable.difficulty, options.routine.difficulty));\\n\\n    // Adjust exercise parameters based on new difficulty\\n    const adjustedExercises = exerciseList.map(exercise => {\\n        const adjustmentFactor = options.difficulty === \"advanced\" ? 1.2 : \\n                               options.difficulty === \"beginner\" ? 0.8 : 1;\\n\\n        return {\\n            name: exercise.name,\\n            sets: Math.round(exercise.sets * adjustmentFactor),\\n            reps: Math.round(exercise.reps * adjustmentFactor),\\n            weight: Math.round(exercise.weight * adjustmentFactor * 100) / 100,\\n            notes: exercise.notes || \"\"\\n        };\\n    });\\n\\n    return {\\n        ...options.routine,\\n        exercises: adjustedExercises,\\n        difficulty: options.difficulty\\n    };\\n};', feedback={'exit_code': 0, 'stdout': None, 'stderr': None})\n",
      "suggestRoutine 0 0 HandlerOutput(handler='import { db } from \"../db\";\\nimport { \\n    workoutRoutineTable, \\n    routineEquipmentTable, \\n    routineExercisesTable,\\n    exerciseTable,\\n    equipmentTable \\n} from \"../db/schema/application\";\\nimport { eq, inArray } from \"drizzle-orm\";\\nimport type { Equipment, WorkoutRoutine } from \"../common/schema\";\\n\\ninterface Options {\\n    duration: string;\\n    equipment: Equipment[];\\n}\\n\\ninterface Output extends WorkoutRoutine {}\\n\\nexport const handle = async (options: Options): Promise<Output> => {\\n    // Convert ISO duration to seconds for DB query\\n    const durationInSeconds = parseDuration(options.duration);\\n    const equipmentIds = await db\\n        .select({ id: equipmentTable.id })\\n        .from(equipmentTable)\\n        .where(inArray(equipmentTable.name, options.equipment.map(e => e.name)))\\n        .execute();\\n\\n    // Find suitable routine\\n    const routine = await db\\n        .select()\\n        .from(workoutRoutineTable)\\n        .where(eq(workoutRoutineTable.duration, durationInSeconds))\\n        .limit(1)\\n        .execute();\\n\\n    if (routine.length === 0) {\\n        throw new Error(\"No suitable routine found\");\\n    }\\n\\n    // Get exercises for routine\\n    const exercises = await db\\n        .select({\\n            name: exerciseTable.name,\\n            sets: exerciseTable.sets,\\n            reps: exerciseTable.reps,\\n            weight: exerciseTable.weight,\\n            notes: exerciseTable.notes\\n        })\\n        .from(routineExercisesTable)\\n        .innerJoin(exerciseTable, eq(routineExercisesTable.exercise_id, exerciseTable.id))\\n        .where(eq(routineExercisesTable.routine_id, routine[0].id))\\n        .execute();\\n\\n    return {\\n        exercises,\\n        duration: options.duration,\\n        equipment: options.equipment,\\n        difficulty: routine[0].difficulty\\n    };\\n};\\n\\nfunction parseDuration(isoDuration: string): number {\\n    const matches = isoDuration.match(/PT(\\\\d+H)?(\\\\d+M)?(\\\\d+S)?/);\\n    if (!matches) return 0;\\n    \\n    const hours = parseInt(matches[1] || \"0\") * 3600;\\n    const minutes = parseInt(matches[2] || \"0\") * 60;\\n    const seconds = parseInt(matches[3] || \"0\");\\n    \\n    return hours + minutes + seconds;\\n}', feedback={'exit_code': 2, 'stdout': \"src/handlers/suggestRoutine.ts(55,9): error TS2322: Type '{ name: string; sets: number; reps: number; weight: number; notes: string | null; }[]' is not assignable to type 'Exercise[]'.\\n  Type '{ name: string; sets: number; reps: number; weight: number; notes: string | null; }' is not assignable to type 'Exercise'.\\n    Types of property 'notes' are incompatible.\\n      Type 'string | null' is not assignable to type 'string'.\\n        Type 'null' is not assignable to type 'string'.\\n\", 'stderr': None})\n",
      "src/handlers/suggestRoutine.ts(55,9): error TS2322: Type '{ name: string; sets: number; reps: number; weight: number; notes: string | null; }[]' is not assignable to type 'Exercise[]'.\n",
      "  Type '{ name: string; sets: number; reps: number; weight: number; notes: string | null; }' is not assignable to type 'Exercise'.\n",
      "    Types of property 'notes' are incompatible.\n",
      "      Type 'string | null' is not assignable to type 'string'.\n",
      "        Type 'null' is not assignable to type 'string'.\n",
      "\n"
     ]
    }
   ],
   "source": [
    "for name, handler in handlers.items():\n",
    "    print(name, handler.score, handler.depth, handler.data.output)\n",
    "    if handler.score != 1:\n",
    "        print(handler.data.output.feedback[\"stdout\"])"
   ]
  }
 ],
 "metadata": {
  "kernelspec": {
   "display_name": ".venv",
   "language": "python",
   "name": "python3"
  },
  "language_info": {
   "codemirror_mode": {
    "name": "ipython",
    "version": 3
   },
   "file_extension": ".py",
   "mimetype": "text/x-python",
   "name": "python",
   "nbconvert_exporter": "python",
   "pygments_lexer": "ipython3",
   "version": "3.12.8"
  }
 },
 "nbformat": 4,
 "nbformat_minor": 2
}
