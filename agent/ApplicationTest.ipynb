{
 "cells": [
  {
   "cell_type": "code",
   "execution_count": 1,
   "metadata": {},
   "outputs": [],
   "source": [
    "%load_ext autoreload\n",
    "%autoreload 2"
   ]
  },
  {
   "cell_type": "code",
   "execution_count": 2,
   "metadata": {},
   "outputs": [],
   "source": [
    "from anthropic import AnthropicBedrock\n",
    "from application2 import Application2\n",
    "from compiler.core import Compiler\n",
    "from core.interpolator import Interpolator"
   ]
  },
  {
   "cell_type": "code",
   "execution_count": 3,
   "metadata": {},
   "outputs": [],
   "source": [
    "compiler = Compiler(\"botbuild/tsp_compiler\", \"botbuild/app_schema\")\n",
    "client = AnthropicBedrock(aws_profile=\"dev\", aws_region=\"us-west-2\")"
   ]
  },
  {
   "cell_type": "code",
   "execution_count": 4,
   "metadata": {},
   "outputs": [
    {
     "name": "stdout",
     "output_type": "stream",
     "text": [
      "Loaded environment variables from templates/app_schema/.env\n"
     ]
    }
   ],
   "source": [
    "import os\n",
    "from dotenv import load_dotenv\n",
    "\n",
    "env_path = \"templates/app_schema/.env\"\n",
    "if os.path.exists(env_path):\n",
    "    load_dotenv(env_path)\n",
    "    print(f\"Loaded environment variables from {env_path}\")"
   ]
  },
  {
   "cell_type": "code",
   "execution_count": 5,
   "metadata": {},
   "outputs": [],
   "source": [
    "# Initialize application with our reimplemented class from application2.py\n",
    "application = Application2(client, compiler, branch_factor=2, max_depth=4)\n",
    "interpolator = Interpolator(\".\")"
   ]
  },
  {
   "cell_type": "code",
   "execution_count": 6,
   "metadata": {},
   "outputs": [],
   "source": [
    "from application2 import Application2\n",
    "\n",
    "\n",
    "application = Application2(client, compiler)\n",
    "interpolator = Interpolator(\".\")"
   ]
  },
  {
   "cell_type": "code",
   "execution_count": null,
   "metadata": {},
   "outputs": [
    {
     "name": "stdout",
     "output_type": "stream",
     "text": [
      "Skipping Initial Description Refinement\n",
      "Compiling TypeSpec...\n",
      "Compiling Typescript Schema Definitions...\n"
     ]
    }
   ],
   "source": [
    "application_description = \"generate a straight forward hello world bot\"\n",
    "\n",
    "# Test create_bot with our reimplemented FSM approach\n",
    "my_bot = application.create_bot(application_description, bot_id=\"test_fsm_approach\", capabilities=[\"perplexity.web_search\"])"
   ]
  },
  {
   "cell_type": "code",
   "execution_count": 10,
   "metadata": {},
   "outputs": [],
   "source": []
  },
  {
   "cell_type": "code",
   "execution_count": null,
   "metadata": {},
   "outputs": [
    {
     "name": "stdout",
     "output_type": "stream",
     "text": [
      "Skipping Initial Description Refinement\n",
      "Compiling TypeSpec...\n"
     ]
    },
    {
     "ename": "AttributeError",
     "evalue": "module 'policies.typespec' has no attribute 'Entry'",
     "output_type": "error",
     "traceback": [
      "\u001b[0;31m---------------------------------------------------------------------------\u001b[0m",
      "\u001b[0;31mAttributeError\u001b[0m                            Traceback (most recent call last)",
      "Cell \u001b[0;32mIn[11], line 1\u001b[0m\n\u001b[0;32m----> 1\u001b[0m my_bot \u001b[38;5;241m=\u001b[39m \u001b[43mapplication\u001b[49m\u001b[38;5;241;43m.\u001b[39;49m\u001b[43mcreate_bot\u001b[49m\u001b[43m(\u001b[49m\u001b[43mapplication_description\u001b[49m\u001b[43m,\u001b[49m\u001b[43m \u001b[49m\u001b[43mbot_id\u001b[49m\u001b[38;5;241;43m=\u001b[39;49m\u001b[38;5;124;43m\"\u001b[39;49m\u001b[38;5;124;43mhandler_tests\u001b[39;49m\u001b[38;5;124;43m\"\u001b[39;49m\u001b[43m,\u001b[49m\u001b[43m \u001b[49m\u001b[43mcapabilities\u001b[49m\u001b[38;5;241;43m=\u001b[39;49m\u001b[43m[\u001b[49m\u001b[38;5;124;43m\"\u001b[39;49m\u001b[38;5;124;43mperplexity.web_search\u001b[39;49m\u001b[38;5;124;43m\"\u001b[39;49m\u001b[43m]\u001b[49m\u001b[43m)\u001b[49m\n",
      "File \u001b[0;32m~/neon/bot-new-1/.venv/lib/python3.12/site-packages/langfuse/decorators/langfuse_decorator.py:256\u001b[0m, in \u001b[0;36mLangfuseDecorator._sync_observe.<locals>.sync_wrapper\u001b[0;34m(*args, **kwargs)\u001b[0m\n\u001b[1;32m    254\u001b[0m     result \u001b[38;5;241m=\u001b[39m func(\u001b[38;5;241m*\u001b[39margs, \u001b[38;5;241m*\u001b[39m\u001b[38;5;241m*\u001b[39mkwargs)\n\u001b[1;32m    255\u001b[0m \u001b[38;5;28;01mexcept\u001b[39;00m \u001b[38;5;167;01mException\u001b[39;00m \u001b[38;5;28;01mas\u001b[39;00m e:\n\u001b[0;32m--> 256\u001b[0m     \u001b[38;5;28;43mself\u001b[39;49m\u001b[38;5;241;43m.\u001b[39;49m\u001b[43m_handle_exception\u001b[49m\u001b[43m(\u001b[49m\u001b[43mobservation\u001b[49m\u001b[43m,\u001b[49m\u001b[43m \u001b[49m\u001b[43me\u001b[49m\u001b[43m)\u001b[49m\n\u001b[1;32m    257\u001b[0m \u001b[38;5;28;01mfinally\u001b[39;00m:\n\u001b[1;32m    258\u001b[0m     result \u001b[38;5;241m=\u001b[39m \u001b[38;5;28mself\u001b[39m\u001b[38;5;241m.\u001b[39m_finalize_call(\n\u001b[1;32m    259\u001b[0m         observation, result, capture_output, transform_to_string\n\u001b[1;32m    260\u001b[0m     )\n",
      "File \u001b[0;32m~/neon/bot-new-1/.venv/lib/python3.12/site-packages/langfuse/decorators/langfuse_decorator.py:517\u001b[0m, in \u001b[0;36mLangfuseDecorator._handle_exception\u001b[0;34m(self, observation, e)\u001b[0m\n\u001b[1;32m    513\u001b[0m \u001b[38;5;28;01mif\u001b[39;00m observation:\n\u001b[1;32m    514\u001b[0m     _observation_params_context\u001b[38;5;241m.\u001b[39mget()[observation\u001b[38;5;241m.\u001b[39mid]\u001b[38;5;241m.\u001b[39mupdate(\n\u001b[1;32m    515\u001b[0m         level\u001b[38;5;241m=\u001b[39m\u001b[38;5;124m\"\u001b[39m\u001b[38;5;124mERROR\u001b[39m\u001b[38;5;124m\"\u001b[39m, status_message\u001b[38;5;241m=\u001b[39m\u001b[38;5;28mstr\u001b[39m(e)\n\u001b[1;32m    516\u001b[0m     )\n\u001b[0;32m--> 517\u001b[0m \u001b[38;5;28;01mraise\u001b[39;00m e\n",
      "File \u001b[0;32m~/neon/bot-new-1/.venv/lib/python3.12/site-packages/langfuse/decorators/langfuse_decorator.py:254\u001b[0m, in \u001b[0;36mLangfuseDecorator._sync_observe.<locals>.sync_wrapper\u001b[0;34m(*args, **kwargs)\u001b[0m\n\u001b[1;32m    251\u001b[0m result \u001b[38;5;241m=\u001b[39m \u001b[38;5;28;01mNone\u001b[39;00m\n\u001b[1;32m    253\u001b[0m \u001b[38;5;28;01mtry\u001b[39;00m:\n\u001b[0;32m--> 254\u001b[0m     result \u001b[38;5;241m=\u001b[39m \u001b[43mfunc\u001b[49m\u001b[43m(\u001b[49m\u001b[38;5;241;43m*\u001b[39;49m\u001b[43margs\u001b[49m\u001b[43m,\u001b[49m\u001b[43m \u001b[49m\u001b[38;5;241;43m*\u001b[39;49m\u001b[38;5;241;43m*\u001b[39;49m\u001b[43mkwargs\u001b[49m\u001b[43m)\u001b[49m\n\u001b[1;32m    255\u001b[0m \u001b[38;5;28;01mexcept\u001b[39;00m \u001b[38;5;167;01mException\u001b[39;00m \u001b[38;5;28;01mas\u001b[39;00m e:\n\u001b[1;32m    256\u001b[0m     \u001b[38;5;28mself\u001b[39m\u001b[38;5;241m.\u001b[39m_handle_exception(observation, e)\n",
      "File \u001b[0;32m~/neon/bot-new-1/agent/application2.py:414\u001b[0m, in \u001b[0;36mApplication2.create_bot\u001b[0;34m(self, application_description, bot_id, capabilities, *args, **kwargs)\u001b[0m\n\u001b[1;32m    411\u001b[0m     app_prompt \u001b[38;5;241m=\u001b[39m RefineOut(application_description, \u001b[38;5;28;01mNone\u001b[39;00m)\n\u001b[1;32m    413\u001b[0m \u001b[38;5;28mprint\u001b[39m(\u001b[38;5;124m\"\u001b[39m\u001b[38;5;124mCompiling TypeSpec...\u001b[39m\u001b[38;5;124m\"\u001b[39m)\n\u001b[0;32m--> 414\u001b[0m tsp_start \u001b[38;5;241m=\u001b[39m \u001b[43mtypespec\u001b[49m\u001b[38;5;241;43m.\u001b[39;49m\u001b[43mEntry\u001b[49m(app_prompt\u001b[38;5;241m.\u001b[39mrefined_description)\n\u001b[1;32m    415\u001b[0m tsp_result, _tsp_root \u001b[38;5;241m=\u001b[39m solver(tsp_start, \u001b[38;5;124m\"\u001b[39m\u001b[38;5;124msolve_typespec\u001b[39m\u001b[38;5;124m\"\u001b[39m)\n\u001b[1;32m    416\u001b[0m \u001b[38;5;28;01mif\u001b[39;00m \u001b[38;5;129;01mnot\u001b[39;00m (tsp_result \u001b[38;5;129;01mand\u001b[39;00m \u001b[38;5;28misinstance\u001b[39m(tsp_result\u001b[38;5;241m.\u001b[39mdata\u001b[38;5;241m.\u001b[39minner, typespec\u001b[38;5;241m.\u001b[39mSuccess)):\n",
      "\u001b[0;31mAttributeError\u001b[0m: module 'policies.typespec' has no attribute 'Entry'"
     ]
    }
   ],
   "source": [
    "\n"
   ]
  },
  {
   "cell_type": "code",
   "execution_count": 10,
   "metadata": {},
   "outputs": [],
   "source": [
    "interpolator.bake(my_bot, \"../../bot_result\") # next to repo root"
   ]
  },
  {
   "cell_type": "code",
   "execution_count": null,
   "metadata": {},
   "outputs": [
    {
     "data": {
      "text/plain": [
       "{'refined_description': RefineOut(refined_description='generate a straight forward hello world bot', error_output=None),\n",
       " 'capabilities': CapabilitiesOut(capabilities=['perplexity.web_search'], error_output=None),\n",
       " 'typespec': TypespecOut(reasoning='Based on the user\\'s request for a \"straightforward hello world bot,\" I need to design a simple interface for a basic chatbot. The main functionality will likely include:\\n\\n1. A greeting function to say hello\\n2. A response function that returns \"Hello World\" style responses\\n3. Maybe a customization function to personalize the greeting\\n\\nSince this is a very basic bot, I\\'ll keep the models simple. The main interface should be called HelloWorldBot, and each function should have appropriate scenarios to illustrate how a user might interact with it.', typespec_definitions='model GreetingOptions {\\n  name?: string;\\n  language?: string;\\n}\\n\\nmodel ResponseOptions {\\n  query: string;\\n  includeTimestamp?: boolean;\\n}\\n\\nmodel CustomizationOptions {\\n  greeting: string;\\n  farewell?: string;\\n}\\n\\ninterface HelloWorldBot {\\n  @scenario(\\n  \"\"\"\\n  Scenario: Basic greeting\\n  When user says \"Hello\"\\n  Then system should respond with a greeting\\n  \\n  Scenario: Personalized greeting\\n  When user says \"Hello, my name is John\"\\n  Then system should respond with a greeting that includes \"John\"\\n  \\n  Scenario: Greeting in different language\\n  When user says \"Say hello in Spanish\"\\n  Then system should respond with \"Hola\"\\n  Examples:\\n      | Input                      | Expected Response        |\\n      | \"Hello\"                    | \"Hello! How are you?\"    |\\n      | \"Hi, I\\'m Alice\"            | \"Hello, Alice!\"          |\\n      | \"Greet me in French\"       | \"Bonjour!\"               |\\n  \"\"\"\\n  )\\n  @llm_func(\"Generate a greeting based on user input\")\\n  greet(options: GreetingOptions): string;\\n\\n  @scenario(\\n  \"\"\"\\n  Scenario: Hello world response\\n  When user asks for a hello world message\\n  Then system should respond with \"Hello, World!\"\\n  \\n  Scenario: Response with timestamp\\n  When user asks for a hello world with time\\n  Then system should include current time in response\\n  Examples:\\n      | Input                           | Expected Response               |\\n      | \"Say hello world\"               | \"Hello, World!\"                 |\\n      | \"Hello world with timestamp\"    | \"Hello, World! [current time]\"  |\\n  \"\"\"\\n  )\\n  @llm_func(\"Return a hello world response\")\\n  respondWithHelloWorld(options: ResponseOptions): string;\\n\\n  @scenario(\\n  \"\"\"\\n  Scenario: Custom greeting setup\\n  When user says \"Set greeting to Good day\"\\n  Then system should save \"Good day\" as custom greeting\\n  \\n  Scenario: Using custom greeting\\n  When user has set custom greeting and says hello\\n  Then system should use the custom greeting\\n  Examples:\\n      | Input                            | Expected Action                    |\\n      | \"Set greeting to Howdy partner\"  | Saves \"Howdy partner\" as greeting  |\\n      | \"Make my greeting Hi there\"      | Saves \"Hi there\" as greeting       |\\n  \"\"\"\\n  )\\n  @llm_func(\"Save custom greeting phrases for future use\")\\n  setCustomGreeting(options: CustomizationOptions): void;\\n}', llm_functions=[LLMFunction(name='greet', description='Generate a greeting based on user input', scenario='Scenario: Basic greeting\\n  When user says \"Hello\"\\n  Then system should respond with a greeting\\n  \\n  Scenario: Personalized greeting\\n  When user says \"Hello, my name is John\"\\n  Then system should respond with a greeting that includes \"John\"\\n  \\n  Scenario: Greeting in different language\\n  When user says \"Say hello in Spanish\"\\n  Then system should respond with \"Hola\"\\n  Examples:\\n      | Input                      | Expected Response        |\\n      | \"Hello\"                    | \"Hello! How are you?\"    |\\n      | \"Hi, I\\'m Alice\"            | \"Hello, Alice!\"          |\\n      | \"Greet me in French\"       | \"Bonjour!\"               |'), LLMFunction(name='respondWithHelloWorld', description='Return a hello world response', scenario='Scenario: Hello world response\\n  When user asks for a hello world message\\n  Then system should respond with \"Hello, World!\"\\n  \\n  Scenario: Response with timestamp\\n  When user asks for a hello world with time\\n  Then system should include current time in response\\n  Examples:\\n      | Input                           | Expected Response               |\\n      | \"Say hello world\"               | \"Hello, World!\"                 |\\n      | \"Hello world with timestamp\"    | \"Hello, World! [current time]\"  |'), LLMFunction(name='setCustomGreeting', description='Save custom greeting phrases for future use', scenario='Scenario: Custom greeting setup\\n  When user says \"Set greeting to Good day\"\\n  Then system should save \"Good day\" as custom greeting\\n  \\n  Scenario: Using custom greeting\\n  When user has set custom greeting and says hello\\n  Then system should use the custom greeting\\n  Examples:\\n      | Input                            | Expected Action                    |\\n      | \"Set greeting to Howdy partner\"  | Saves \"Howdy partner\" as greeting  |\\n      | \"Make my greeting Hi there\"      | Saves \"Hi there\" as greeting       |')], error_output=None),\n",
       " 'drizzle': DrizzleOut(reasoning='Looking at the TypeSpec, I can identify several key entities:\\n\\n1. The application appears to be a greeting bot that can:\\n   - Generate personalized greetings\\n   - Respond with \"Hello World\" messages\\n   - Store custom greetings for users\\n\\n2. There\\'s no explicit user model in the TypeSpec, but the scenarios imply user interaction, so we need a users table.\\n\\n3. The `CustomizationOptions` model suggests we need to store custom greetings and farewells per user.\\n\\n4. The scenarios indicate stateful behavior, where users can set custom greetings that persist for future interactions.\\n\\n5. There\\'s no explicit message model, but since this is a conversational bot, we should track conversation history.\\n\\nBased on this analysis, I\\'ll create tables for:\\n- Users\\n- CustomGreetings (to store personalized greetings/farewells)\\n- Messages (to track conversation history)', drizzle_schema='import { pgTable, text, timestamp, uuid, boolean, json } from \"drizzle-orm/pg-core\";\\nimport { relations } from \"drizzle-orm\";\\n\\n// Users table to identify unique users of the system\\nexport const users = pgTable(\"users\", {\\n  id: uuid(\"id\").primaryKey().defaultRandom(),\\n  name: text(\"name\"),\\n  created_at: timestamp(\"created_at\", { withTimezone: true }).defaultNow(),\\n  last_active_at: timestamp(\"last_active_at\", { withTimezone: true }).defaultNow(),\\n});\\n\\n// Relations for users\\nexport const usersRelations = relations(users, ({ many }) => ({\\n  customGreetings: many(customGreetings),\\n  messages: many(messages),\\n}));\\n\\n// Custom greetings table to store user\\'s personalized greetings\\nexport const customGreetings = pgTable(\"custom_greetings\", {\\n  id: uuid(\"id\").primaryKey().defaultRandom(),\\n  user_id: uuid(\"user_id\").references(() => users.id).notNull(),\\n  greeting: text(\"greeting\").notNull(),\\n  farewell: text(\"farewell\"),\\n  language: text(\"language\").default(\"english\"),\\n  created_at: timestamp(\"created_at\", { withTimezone: true }).defaultNow(),\\n  updated_at: timestamp(\"updated_at\", { withTimezone: true }).defaultNow(),\\n  is_active: boolean(\"is_active\").default(true),\\n});\\n\\n// Relations for customGreetings\\nexport const customGreetingsRelations = relations(customGreetings, ({ one }) => ({\\n  user: one(users, {\\n    fields: [customGreetings.user_id],\\n    references: [users.id],\\n  }),\\n}));\\n\\n// Messages table to store conversation history\\nexport const messages = pgTable(\"messages\", {\\n  id: uuid(\"id\").primaryKey().defaultRandom(),\\n  user_id: uuid(\"user_id\").references(() => users.id),\\n  content: text(\"content\").notNull(),\\n  is_from_user: boolean(\"is_from_user\").notNull(),\\n  options: json(\"options\"),  // Store any options like GreetingOptions, ResponseOptions\\n  timestamp: timestamp(\"timestamp\", { withTimezone: true }).defaultNow(),\\n  included_timestamp: boolean(\"included_timestamp\").default(false),  // Flag for ResponseOptions.includeTimestamp\\n});\\n\\n// Relations for messages\\nexport const messagesRelations = relations(messages, ({ one }) => ({\\n  user: one(users, {\\n    fields: [messages.user_id],\\n    references: [users.id],\\n  }),\\n}));', error_output=None),\n",
       " 'handlers': {'respondWithHelloWorld': HandlerOut(name='respondWithHelloWorld', handler='import { db } from \"../db\";\\nimport { respondWithHelloWorld, type ResponseOptions } from \"../common/schema\";\\nimport { messages } from \"../db/schema/application\";\\n\\nexport const handle: typeof respondWithHelloWorld = async (options: ResponseOptions): Promise<string> => {\\n    // Format current timestamp if needed\\n    const currentTimestamp = new Date().toISOString();\\n    \\n    // Build response string\\n    let response = \"Hello World!\";\\n    if (options.includeTimestamp) {\\n        response += ` (generated at ${currentTimestamp})`;\\n    }\\n\\n    // Store the interaction in the database\\n    await db.insert(messages).values({\\n        content: response,\\n        is_from_user: false,\\n        options: options,\\n        included_timestamp: options.includeTimestamp ?? false,\\n    }).execute();\\n\\n    return response;\\n};', argument_schema='responseOptionsSchema', error_output=None),\n",
       "  'setCustomGreeting': HandlerOut(name='setCustomGreeting', handler='import { db } from \"../db\";\\nimport { customGreetings } from \"../db/schema/application\";\\nimport { setCustomGreeting, type CustomizationOptions } from \"../common/schema\";\\n\\nexport const handle: typeof setCustomGreeting = async (options: CustomizationOptions): Promise<void> => {\\n    // Get the current user ID - in a real application, you would get this from context/auth\\n    // For now, we\\'ll use a placeholder UUID for demo purposes\\n    const currentUserId = \"00000000-0000-0000-0000-000000000000\"; // placeholder\\n\\n    // Check if the user already has a custom greeting\\n    const result = await db\\n        .insert(customGreetings)\\n        .values({\\n            user_id: currentUserId,\\n            greeting: options.greeting,\\n            farewell: options.farewell, // This can be undefined as it\\'s optional in schema\\n        })\\n        .onConflictDoUpdate({\\n            target: [customGreetings.user_id],\\n            set: {\\n                greeting: options.greeting,\\n                farewell: options.farewell,\\n                updated_at: new Date(),\\n            },\\n        });\\n    \\n    // No need to return anything for a void Promise\\n};', argument_schema='customizationOptionsSchema', error_output=None),\n",
       "  'greet': HandlerOut(name='greet', handler='import { db } from \"../db\";\\nimport type { GreetingOptions } from \"../common/schema\";\\nimport { greet } from \"../common/schema\";\\nimport { messages, users } from \"../db/schema/application\";\\nimport { eq } from \"drizzle-orm\";\\n\\nexport const handle: typeof greet = async (options: GreetingOptions): Promise<string> => {\\n    // Determine the greeting based on language\\n    const language = options.language?.toLowerCase() || \"english\";\\n    \\n    // Handle different name scenarios\\n    let defaultName = \"World\";\\n    let greeting: string;\\n    \\n    if (options.name === \"\") {\\n        // Empty string name case - no name in greeting\\n        switch(language) {\\n            case \"spanish\":\\n                greeting = \"¡Hola!\";\\n                break;\\n            case \"french\":\\n                greeting = \"Bonjour!\";\\n                break;\\n            case \"german\":\\n                greeting = \"Guten Tag!\";\\n                break;\\n            case \"italian\":\\n                greeting = \"Ciao!\";\\n                break;\\n            default:\\n                greeting = \"Hello!\";\\n        }\\n    } else {\\n        // Normal greeting case with name\\n        const name = options.name || defaultName;\\n        \\n        switch(language) {\\n            case \"spanish\":\\n                greeting = `¡Hola, ${name}!`;\\n                break;\\n            case \"french\":\\n                greeting = `Bonjour, ${name}!`;\\n                break;\\n            case \"german\":\\n                greeting = `Guten Tag, ${name}!`;\\n                break;\\n            case \"italian\":\\n                greeting = `Ciao, ${name}!`;\\n                break;\\n            default:\\n                greeting = `Hello, ${name}!`;\\n        }\\n    }\\n    \\n    try {\\n        // Check if user exists by name, or create a new one\\n        let userId;\\n        if (options.name && options.name !== \"\") {\\n            const existingUser = await db.select({ id: users.id })\\n                .from(users)\\n                .where(eq(users.name, options.name))\\n                .limit(1);\\n                \\n            if (existingUser.length > 0) {\\n                userId = existingUser[0].id;\\n                \\n                // Update last active timestamp\\n                await db.update(users)\\n                    .set({ last_active_at: new Date() })\\n                    .where(eq(users.id, userId));\\n            } else {\\n                // Create new user\\n                const result = await db.insert(users)\\n                    .values({\\n                        name: options.name,\\n                    })\\n                    .returning({ id: users.id });\\n                \\n                userId = result[0].id;\\n            }\\n        }\\n        \\n        // Store the greeting in messages table\\n        await db.insert(messages)\\n            .values({\\n                user_id: userId,\\n                content: greeting,\\n                is_from_user: false,\\n                options: options as any, // Store the full options object\\n            });\\n        \\n    } catch (error) {\\n        // Log the error but don\\'t fail the greeting\\n        console.error(\"Failed to record greeting in database:\", error);\\n    }\\n    \\n    return greeting;\\n};', argument_schema='greetingOptionsSchema', error_output=None)},\n",
       " 'handler_tests': {'greet': HandlerTestsOut(name='greet', content='\\nimport { afterEach, beforeEach, describe } from \"bun:test\";\\nimport { resetDB, createDB } from \"../../helpers\";\\nimport { expect, it } from \"bun:test\";\\nimport { db } from \"../../db\";\\nimport { type GreetingOptions } from \"../../common/schema\";\\nimport { messages } from \"../../db/schema/application\";\\nimport { eq } from \"drizzle-orm\";\\n\\nimport { handle as greet } from \"../../handlers/greet.ts\";\\n\\n\\ndescribe(\"\", () => {\\n    beforeEach(async () => {\\n        await createDB();\\n    });\\n\\n    afterEach(async () => {\\n        await resetDB();\\n    });\\n    \\n    \\n    it(\"should return a default greeting when no name provided\", async () => {\\n      const options: GreetingOptions = {};\\n      const result = await greet(options);\\n      \\n      expect(result).toEqual(\"Hello, World!\");\\n    });\\n\\n    \\n    \\n    it(\"should return a personalized greeting with provided name\", async () => {\\n      const options: GreetingOptions = { name: \"Alice\" };\\n      const result = await greet(options);\\n      \\n      expect(result).toEqual(\"Hello, Alice!\");\\n    });\\n\\n    \\n    \\n    it(\"should return a greeting in the specified language\", async () => {\\n      const options: GreetingOptions = { name: \"Alice\", language: \"spanish\" };\\n      const result = await greet(options);\\n      \\n      expect(result).toContain(\"Alice\");\\n      expect(result).not.toEqual(\"Hello, Alice!\");\\n    });\\n\\n    \\n    \\n    it(\"should store the greeting interaction in the messages table\", async () => {\\n      const options: GreetingOptions = { name: \"Bob\" };\\n      await greet(options);\\n      \\n      const storedMessages = await db.select().from(messages).where(\\n        eq(messages.is_from_user, false)\\n      );\\n      \\n      expect(storedMessages.length).toBeGreaterThan(0);\\n      const lastMessage = storedMessages[storedMessages.length - 1];\\n      expect(lastMessage.content).toEqual(\"Hello, Bob!\");\\n      expect(lastMessage.options).toEqual(options);\\n    });\\n\\n    \\n    \\n    it(\"should handle empty string as name\", async () => {\\n      const options: GreetingOptions = { name: \"\" };\\n      const result = await greet(options);\\n      \\n      expect(result).toEqual(\"Hello!\");\\n    });\\n\\n    \\n    \\n    it(\"should respect language setting without name\", async () => {\\n      const options: GreetingOptions = { language: \"french\" };\\n      const result = await greet(options);\\n      \\n      expect(result).not.toEqual(\"Hello, World!\");\\n      // We don\\'t know the exact greeting in French, but we can expect it\\'s not the English one\\n    });\\n\\n    \\n});', error_output=None),\n",
       "  'respondWithHelloWorld': HandlerTestsOut(name='respondWithHelloWorld', content='\\nimport { afterEach, beforeEach, describe } from \"bun:test\";\\nimport { resetDB, createDB } from \"../../helpers\";\\nimport { expect, it, jest, mock } from \"bun:test\";\\nimport { db } from \"../../db\";\\nimport { messages } from \"../../db/schema/application\";\\nimport { eq } from \"drizzle-orm\";\\nimport { type ResponseOptions } from \"../../common/schema\";\\n\\nimport { handle as respondWithHelloWorld } from \"../../handlers/respondWithHelloWorld.ts\";\\n\\n\\ndescribe(\"\", () => {\\n    beforeEach(async () => {\\n        await createDB();\\n    });\\n\\n    afterEach(async () => {\\n        await resetDB();\\n    });\\n    \\n    \\n    it(\"should return a hello world response\", async () => {\\n      const options: ResponseOptions = { query: \"hello\" };\\n      const response = await respondWithHelloWorld(options);\\n      expect(response).toContain(\"Hello World\");\\n    });\\n\\n    \\n    \\n    it(\"should include timestamp when requested\", async () => {\\n      const options: ResponseOptions = { query: \"hello\", includeTimestamp: true };\\n      const response = await respondWithHelloWorld(options);\\n      expect(response).toContain(\"Hello World\");\\n      \\n      // Check for timestamp format (e.g., \"2023-10-25T14:30:00Z\")\\n      const timestampRegex = /\\\\d{4}-\\\\d{2}-\\\\d{2}T\\\\d{2}:\\\\d{2}:\\\\d{2}/;\\n      expect(response).toMatch(timestampRegex);\\n    });\\n\\n    \\n    \\n    it(\"should not include timestamp when not requested\", async () => {\\n      const options: ResponseOptions = { query: \"hello\", includeTimestamp: false };\\n      const response = await respondWithHelloWorld(options);\\n      expect(response).toContain(\"Hello World\");\\n      \\n      // Check that no timestamp format is present\\n      const timestampRegex = /\\\\d{4}-\\\\d{2}-\\\\d{2}T\\\\d{2}:\\\\d{2}:\\\\d{2}/;\\n      expect(response).not.toMatch(timestampRegex);\\n    });\\n\\n    \\n    \\n    it(\"should store the message in the database\", async () => {\\n      const options: ResponseOptions = { query: \"test query\" };\\n      await respondWithHelloWorld(options);\\n      \\n      const savedMessages = await db.select().from(messages).where(\\n        eq(messages.is_from_user, false)\\n      ).execute();\\n      \\n      expect(savedMessages.length).toBeGreaterThan(0);\\n      const lastMessage = savedMessages[savedMessages.length - 1];\\n      expect(lastMessage.content).toContain(\"Hello World\");\\n      expect(lastMessage.options).toEqual(options);\\n    });\\n\\n    \\n    \\n    it(\"should set included_timestamp flag correctly in the database\", async () => {\\n      const options: ResponseOptions = { query: \"hello\", includeTimestamp: true };\\n      await respondWithHelloWorld(options);\\n      \\n      const savedMessages = await db.select().from(messages).where(\\n        eq(messages.is_from_user, false)\\n      ).execute();\\n      \\n      expect(savedMessages.length).toBeGreaterThan(0);\\n      const lastMessage = savedMessages[savedMessages.length - 1];\\n      expect(lastMessage.included_timestamp).toBe(true);\\n    });\\n\\n    \\n    \\n    it(\"should respond differently based on query content\", async () => {\\n      const helloResponse = await respondWithHelloWorld({ query: \"hello\" });\\n      const worldResponse = await respondWithHelloWorld({ query: \"world\" });\\n      const otherResponse = await respondWithHelloWorld({ query: \"something else\" });\\n      \\n      // Checking if responses are different based on query\\n      expect(helloResponse).toContain(\"Hello World\");\\n      expect(worldResponse).toContain(\"Hello World\");\\n      expect(otherResponse).toContain(\"Hello World\");\\n      \\n      // We don\\'t have exact implementation details, so we can\\'t check for\\n      // specific differences, but we can ensure responses are logged\\n      const savedMessages = await db.select().from(messages).where(\\n        eq(messages.is_from_user, false)\\n      ).execute();\\n      \\n      expect(savedMessages.length).toBeGreaterThanOrEqual(3);\\n    });\\n\\n    \\n});', error_output=None),\n",
       "  'setCustomGreeting': HandlerTestsOut(name='setCustomGreeting', content='\\nimport { afterEach, beforeEach, describe } from \"bun:test\";\\nimport { resetDB, createDB } from \"../../helpers\";\\nimport { expect, it, mock } from \"bun:test\";\\nimport { db } from \"../../db\";\\nimport { customGreetings, users } from \"../../db/schema/application\";\\nimport { type CustomizationOptions } from \"../../common/schema\";\\nimport { eq } from \"drizzle-orm\";\\n\\nimport { handle as setCustomGreeting } from \"../../handlers/setCustomGreeting.ts\";\\n\\n\\ndescribe(\"\", () => {\\n    beforeEach(async () => {\\n        await createDB();\\n    });\\n\\n    afterEach(async () => {\\n        await resetDB();\\n    });\\n    \\n    \\n    it(\"should create a custom greeting entry with required fields\", async () => {\\n      // Create a test user first\\n      const [user] = await db.insert(users).values({\\n        name: \"Test User\"\\n      }).returning();\\n      \\n      // Define a local implementation for testing\\n      async function testSetCustomGreeting(options: CustomizationOptions): Promise<void> {\\n        // Insert directly to the database since we\\'re testing the DB interaction\\n        await db.insert(customGreetings).values({\\n          user_id: user.id,\\n          greeting: options.greeting,\\n          farewell: options.farewell || null\\n        });\\n      }\\n      \\n      const options: CustomizationOptions = {\\n        greeting: \"Welcome to our service\"\\n      };\\n      \\n      await testSetCustomGreeting(options);\\n      \\n      const result = await db.select().from(customGreetings)\\n        .where(eq(customGreetings.user_id, user.id));\\n        \\n      expect(result).toHaveLength(1);\\n      expect(result[0].greeting).toEqual(\"Welcome to our service\");\\n      expect(result[0].farewell).toBeNull();\\n      expect(result[0].is_active).toEqual(true);\\n    });\\n\\n    \\n    \\n    it(\"should create a custom greeting with both greeting and farewell\", async () => {\\n      // Create a test user first\\n      const [user] = await db.insert(users).values({\\n        name: \"Test User\"\\n      }).returning();\\n      \\n      // Mock the setCustomGreeting implementation for testing\\n      async function testSetCustomGreeting(options: CustomizationOptions): Promise<void> {\\n        await db.insert(customGreetings).values({\\n          user_id: user.id,\\n          greeting: options.greeting,\\n          farewell: options.farewell || null\\n        });\\n      }\\n      \\n      // Use test implementation\\n      await testSetCustomGreeting({\\n        greeting: \"Hello there\",\\n        farewell: \"See you soon\"\\n      });\\n      \\n      const result = await db.select().from(customGreetings)\\n        .where(eq(customGreetings.user_id, user.id));\\n        \\n      expect(result).toHaveLength(1);\\n      expect(result[0].greeting).toEqual(\"Hello there\");\\n      expect(result[0].farewell).toEqual(\"See you soon\");\\n    });\\n\\n    \\n    \\n    it(\"should update an existing greeting if one already exists for the user\", async () => {\\n      // Create a test user first\\n      const [user] = await db.insert(users).values({\\n        name: \"Test User\"\\n      }).returning();\\n      \\n      // Create initial greeting\\n      await db.insert(customGreetings).values({\\n        user_id: user.id,\\n        greeting: \"Initial greeting\",\\n        farewell: \"Initial farewell\"\\n      });\\n      \\n      // Test implementation\\n      async function testSetCustomGreeting(options: CustomizationOptions): Promise<void> {\\n        await db.update(customGreetings)\\n          .set({\\n            greeting: options.greeting,\\n            farewell: options.farewell,\\n            updated_at: new Date()\\n          })\\n          .where(eq(customGreetings.user_id, user.id));\\n      }\\n      \\n      // Use test implementation for this test\\n      await testSetCustomGreeting({\\n        greeting: \"Updated greeting\",\\n        farewell: \"Updated farewell\"\\n      });\\n      \\n      const result = await db.select().from(customGreetings)\\n        .where(eq(customGreetings.user_id, user.id));\\n        \\n      expect(result).toHaveLength(1); // Should still have only one entry\\n      expect(result[0].greeting).toEqual(\"Updated greeting\");\\n      expect(result[0].farewell).toEqual(\"Updated farewell\");\\n    });\\n\\n    \\n    \\n    it(\"should throw an error when user is not authenticated\", async () => {\\n      // A test implementation that throws an error\\n      async function testSetCustomGreeting(_options: CustomizationOptions): Promise<void> {\\n        throw new Error(\"User not authenticated\");\\n      }\\n      \\n      const options: CustomizationOptions = {\\n        greeting: \"Hello there\"\\n      };\\n      \\n      await expect(async () => {\\n        await testSetCustomGreeting(options);\\n      }).toThrow(\"User not authenticated\");\\n    });\\n\\n    \\n    \\n    it(\"should set the updated_at timestamp when modifying an existing greeting\", async () => {\\n      // Create a test user\\n      const [user] = await db.insert(users).values({\\n        name: \"Test User\"\\n      }).returning();\\n      \\n      // Create initial greeting with a mock date\\n      const initialDate = new Date(\"2023-01-01T00:00:00Z\");\\n      \\n      // Insert with specific date\\n      await db.insert(customGreetings).values({\\n        user_id: user.id,\\n        greeting: \"Initial greeting\",\\n        created_at: initialDate,\\n        updated_at: initialDate\\n      });\\n      \\n      // Wait briefly to ensure timestamp difference\\n      await new Promise(resolve => setTimeout(resolve, 10));\\n      \\n      // Test implementation\\n      async function testSetCustomGreeting(options: CustomizationOptions): Promise<void> {\\n        await db.update(customGreetings)\\n          .set({\\n            greeting: options.greeting,\\n            updated_at: new Date() // This simulates the function updating the timestamp\\n          })\\n          .where(eq(customGreetings.user_id, user.id));\\n      }\\n      \\n      // Use test implementation for this test\\n      await testSetCustomGreeting({\\n        greeting: \"Updated greeting\"\\n      });\\n      \\n      const result = await db.select().from(customGreetings)\\n        .where(eq(customGreetings.user_id, user.id));\\n        \\n      expect(result).toHaveLength(1);\\n      expect(result[0].greeting).toEqual(\"Updated greeting\");\\n      \\n      // Check that updated_at was changed and is greater than initial date\\n      if (result[0].updated_at) {\\n        expect(new Date(result[0].updated_at).getTime()).toBeGreaterThan(initialDate.getTime());\\n      }\\n    });\\n\\n    \\n});', error_output=None)},\n",
       " 'typescript_schema': TypescriptOut(reasoning=\"The application has a HelloWorldBot interface that provides greeting functionality.\\n\\nThere are three main models:\\n1. GreetingOptions - contains optional name and language parameters for generating greetings\\n2. ResponseOptions - contains a required query and an optional timestamp flag for responses\\n3. CustomizationOptions - contains a required greeting and an optional farewell for customization\\n\\nThe interface defines three functions:\\n1. greet - Generates a greeting based on user input\\n2. respondWithHelloWorld - Returns a hello world response\\n3. setCustomGreeting - Saves custom greeting phrases for future use\\n\\nI need to create Zod schemas for each model and export type definitions based on these schemas.\\nFor functions, I'll create declarations that follow the interface signatures.\", typescript_schema=\"import { z } from 'zod';\\n\\nexport const greetingOptionsSchema = z.object({\\n  name: z.string().optional(),\\n  language: z.string().optional(),\\n});\\n\\nexport type GreetingOptions = z.infer<typeof greetingOptionsSchema>;\\n\\nexport const responseOptionsSchema = z.object({\\n  query: z.string(),\\n  includeTimestamp: z.boolean().optional(),\\n});\\n\\nexport type ResponseOptions = z.infer<typeof responseOptionsSchema>;\\n\\nexport const customizationOptionsSchema = z.object({\\n  greeting: z.string(),\\n  farewell: z.string().optional(),\\n});\\n\\nexport type CustomizationOptions = z.infer<typeof customizationOptionsSchema>;\\n\\nexport declare function greet(options: GreetingOptions): Promise<string>;\\n\\nexport declare function respondWithHelloWorld(options: ResponseOptions): Promise<string>;\\n\\nexport declare function setCustomGreeting(options: CustomizationOptions): Promise<void>;\", functions=[TypescriptFunction(name='greet', argument_type='GreetingOptions', argument_schema='greetingOptionsSchema', return_type='Promise<string>'), TypescriptFunction(name='respondWithHelloWorld', argument_type='ResponseOptions', argument_schema='responseOptionsSchema', return_type='Promise<string>'), TypescriptFunction(name='setCustomGreeting', argument_type='CustomizationOptions', argument_schema='customizationOptionsSchema', return_type='Promise<void>')], error_output=None),\n",
       " 'gherkin': GherkinOut(reasoning=None, gherkin=None, error_output=None),\n",
       " 'trace_id': '60d8359a-359b-48e9-83ed-ff503a8a70b4'}"
      ]
     },
     "execution_count": 11,
     "metadata": {},
     "output_type": "execute_result"
    }
   ],
   "source": [
    "my_bot.__dict__"
   ]
  }
 ],
 "metadata": {
  "kernelspec": {
   "display_name": ".venv",
   "language": "python",
   "name": "python3"
  },
  "language_info": {
   "codemirror_mode": {
    "name": "ipython",
    "version": 3
   },
   "file_extension": ".py",
   "mimetype": "text/x-python",
   "name": "python",
   "nbconvert_exporter": "python",
   "pygments_lexer": "ipython3",
   "version": "3.12.3"
  }
 },
 "nbformat": 4,
 "nbformat_minor": 2
}
