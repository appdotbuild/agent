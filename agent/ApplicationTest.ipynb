{
 "cells": [
  {
   "cell_type": "code",
   "execution_count": 1,
   "metadata": {},
   "outputs": [],
   "source": [
    "from anthropic import AnthropicBedrock\n",
    "from application import Application\n",
    "from compiler.core import Compiler\n",
    "import tempfile"
   ]
  },
  {
   "cell_type": "code",
   "execution_count": 2,
   "metadata": {},
   "outputs": [],
   "source": [
    "compiler = Compiler(\"botbuild/tsp_compiler\", \"botbuild/app_schema\")\n",
    "client = AnthropicBedrock(aws_profile=\"dev\", aws_region=\"us-west-2\")"
   ]
  },
  {
   "cell_type": "code",
   "execution_count": 3,
   "metadata": {},
   "outputs": [],
   "source": [
    "tempdir = tempfile.TemporaryDirectory()\n",
    "application = Application(client, compiler, \"templates\", tempdir.name)"
   ]
  },
  {
   "cell_type": "code",
   "execution_count": 4,
   "metadata": {},
   "outputs": [],
   "source": [
    "application_description = \"\"\"\n",
    "Bot that tracks my exercise routine in the gym, tracks progress and suggests new routines\n",
    "for specific list of available equipment and time constraints.\n",
    "\"\"\".strip()"
   ]
  },
  {
   "cell_type": "code",
   "execution_count": 5,
   "metadata": {},
   "outputs": [
    {
     "name": "stderr",
     "output_type": "stream",
     "text": [
      "Langfuse client is disabled since no public_key was provided as a parameter or environment variable 'LANGFUSE_PUBLIC_KEY'. See our docs: https://langfuse.com/docs/sdk/python/low-level-sdk#initialize-client\n"
     ]
    },
    {
     "name": "stdout",
     "output_type": "stream",
     "text": [
      "Compiling TypeSpec...\n",
      "Generating Typescript Schema Definitions...\n",
      "Compiling Drizzle...\n",
      "Generating Router...\n",
      "Generating Handlers...\n",
      "Generating Application...\n"
     ]
    }
   ],
   "source": [
    "my_bot = application.create_bot(application_description)"
   ]
  },
  {
   "cell_type": "code",
   "execution_count": 6,
   "metadata": {},
   "outputs": [
    {
     "data": {
      "text/plain": [
       "{'typespec': TypespecData(messages=[{'role': 'assistant', 'content': '<reasoning>\\nFor a greeting bot, I expect users to send messages like \"Hello, I\\'m John\" or \"Hi there, my name is Alice\".\\nThe LLM needs to extract the name from such messages. The main functionality would be:\\n1. Storing the user\\'s name when they introduce themselves\\n2. Greeting them with their stored name\\nBoth functions should be LLM-enabled as they need to process natural language input.\\nThe setName function would extract names from introduction messages.\\nThe greet function would generate appropriate greetings using the stored name.\\n</reasoning>\\n\\n<typespec>\\nmodel UserInfo {\\n    name: string;\\n}\\n\\ninterface GreetingBot {\\n    @llm_func(1)\\n    setName(user: UserInfo): void;\\n\\n    @llm_func(1)\\n    greet(): string;\\n}\\n</typespec>'}], output=TypespecOutput(reasoning='For a greeting bot, I expect users to send messages like \"Hello, I\\'m John\" or \"Hi there, my name is Alice\".\\nThe LLM needs to extract the name from such messages. The main functionality would be:\\n1. Storing the user\\'s name when they introduce themselves\\n2. Greeting them with their stored name\\nBoth functions should be LLM-enabled as they need to process natural language input.\\nThe setName function would extract names from introduction messages.\\nThe greet function would generate appropriate greetings using the stored name.', typespec_definitions='model UserInfo {\\n    name: string;\\n}\\n\\ninterface GreetingBot {\\n    @llm_func(1)\\n    setName(user: UserInfo): void;\\n\\n    @llm_func(1)\\n    greet(): string;\\n}', llm_functions=['setName', 'greet'], feedback={'exit_code': 0, 'stdout': 'TypeSpec compiler v0.64.0\\n\\nCompilation completed successfully.\\n\\n', 'stderr': None})),\n",
       " 'drizzle': DrizzleData(messages=[{'role': 'assistant', 'content': '<reasoning>\\nLooking at the error more carefully:\\n1. The error specifically states \"incompatible types: integer and text\"\\n2. Even though we used integer() and serial(), there might still be an implicit type conversion issue\\n3. To ensure complete type compatibility, we should:\\n   - Use the same exact type definition for both primary and foreign keys\\n   - Consider using varchar/text for IDs if that\\'s what the system expects\\n4. Since the error mentions the ID is text, we\\'ll adjust both columns to use text type\\n</reasoning>\\n\\n<drizzle>\\nimport { pgTable, text, timestamp, varchar } from \"drizzle-orm/pg-core\";\\n\\nexport const usersTable = pgTable(\"users\", {\\n  id: text(\"id\").primaryKey(),\\n  name: text(\"name\").notNull(),\\n  created_at: timestamp(\"created_at\").defaultNow().notNull(),\\n  updated_at: timestamp(\"updated_at\").defaultNow().notNull()\\n});\\n\\nexport const greetingsTable = pgTable(\"greetings\", {\\n  id: text(\"id\").primaryKey(),\\n  user_id: text(\"user_id\").references(() => usersTable.id),\\n  greeting: text(\"greeting\").notNull(),\\n  created_at: timestamp(\"created_at\").defaultNow().notNull()\\n});\\n</drizzle>'}], output=DrizzleOutput(reasoning='Looking at the error more carefully:\\n1. The error specifically states \"incompatible types: integer and text\"\\n2. Even though we used integer() and serial(), there might still be an implicit type conversion issue\\n3. To ensure complete type compatibility, we should:\\n   - Use the same exact type definition for both primary and foreign keys\\n   - Consider using varchar/text for IDs if that\\'s what the system expects\\n4. Since the error mentions the ID is text, we\\'ll adjust both columns to use text type', drizzle_schema='import { pgTable, text, timestamp, varchar } from \"drizzle-orm/pg-core\";\\n\\nexport const usersTable = pgTable(\"users\", {\\n  id: text(\"id\").primaryKey(),\\n  name: text(\"name\").notNull(),\\n  created_at: timestamp(\"created_at\").defaultNow().notNull(),\\n  updated_at: timestamp(\"updated_at\").defaultNow().notNull()\\n});\\n\\nexport const greetingsTable = pgTable(\"greetings\", {\\n  id: text(\"id\").primaryKey(),\\n  user_id: text(\"user_id\").references(() => usersTable.id),\\n  greeting: text(\"greeting\").notNull(),\\n  created_at: timestamp(\"created_at\").defaultNow().notNull()\\n});', feedback={'exit_code': 0, 'stdout': \"No config path provided, using default 'drizzle.config.ts'\\nReading config file '/app/drizzle.config.ts'\\nUsing 'pg' driver for database querying\\n[⣷] Pulling schema from database...\\n\\x1b[2K\\x1b[1G[✓] Pulling schema from database...\\n[✓] Changes applied\\n\", 'stderr': None})),\n",
       " 'router': <policies.router.RouterTaskNode at 0xffff71727440>,\n",
       " 'handlers': {'setName': <policies.handlers.HandlerTaskNode at 0xffff712d4710>,\n",
       "  'greet': <policies.handlers.HandlerTaskNode at 0xffff7171f200>},\n",
       " 'typescript_schema': <policies.typescript.TypescriptTaskNode at 0xffff7ebcf740>,\n",
       " 'application': {'setName': {'module': 'set_name'},\n",
       "  'greet': {'module': 'greet'}}}"
      ]
     },
     "execution_count": 6,
     "metadata": {},
     "output_type": "execute_result"
    }
   ],
   "source": [
    "my_bot"
   ]
  },
  {
   "cell_type": "code",
   "execution_count": 7,
   "metadata": {},
   "outputs": [
    {
     "data": {
      "text/plain": [
       "'/tmp/tmpl4gqx9ta/generated/generation-1'"
      ]
     },
     "execution_count": 7,
     "metadata": {},
     "output_type": "execute_result"
    }
   ],
   "source": [
    "application.generation_dir"
   ]
  },
  {
   "cell_type": "code",
   "execution_count": null,
   "metadata": {},
   "outputs": [],
   "source": [
    "!pushd {application.generation_dir}/app_schema\n",
    "!npm install\n",
    "!npx tsc\n",
    "!popd\n"
   ]
  },
  {
   "cell_type": "code",
   "execution_count": null,
   "metadata": {},
   "outputs": [
    {
     "name": "stderr",
     "output_type": "stream",
     "text": [
      "Langfuse client is disabled since no public_key was provided as a parameter or environment variable 'LANGFUSE_PUBLIC_KEY'. See our docs: https://langfuse.com/docs/sdk/python/low-level-sdk#initialize-client\n"
     ]
    }
   ],
   "source": [
    "typespec = application._make_typespec(application_description)\n",
    "typespec.score, typespec.data.output"
   ]
  },
  {
   "cell_type": "code",
   "execution_count": null,
   "metadata": {},
   "outputs": [],
   "source": [
    "typescript_schema = application._make_typescript_schema(typespec.data.output.typespec_definitions)\n",
    "typescript_schema.score, typescript_schema.data.output"
   ]
  },
  {
   "cell_type": "code",
   "execution_count": null,
   "metadata": {},
   "outputs": [],
   "source": [
    "drizzle = application._make_drizzle(typespec.data.output.typespec_definitions)\n",
    "drizzle.score, drizzle.data.output"
   ]
  },
  {
   "cell_type": "code",
   "execution_count": null,
   "metadata": {},
   "outputs": [],
   "source": [
    "router = application._make_router(typespec.data.output.typespec_definitions)\n",
    "router.score, router.data.output"
   ]
  },
  {
   "cell_type": "code",
   "execution_count": null,
   "metadata": {},
   "outputs": [],
   "source": [
    "handlers = application._make_handlers(\n",
    "    typespec.data.output.llm_functions,\n",
    "    typespec.data.output.typespec_definitions,\n",
    "    typescript_schema.data.output.typescript_schema,\n",
    "    drizzle.data.output.drizzle_schema,\n",
    ")"
   ]
  },
  {
   "cell_type": "code",
   "execution_count": null,
   "metadata": {},
   "outputs": [
    {
     "name": "stdout",
     "output_type": "stream",
     "text": [
      "recordExercise 1 0 HandlerOutput(handler='import { db } from \"../db\";\\nimport type { Exercise } from \"../common/schema\";\\nimport { exerciseTable } from \"../db/schema/application\";\\n\\ninterface Options {\\n    exercise: Exercise;\\n}\\n\\nexport const handle = async (options: Options): Promise<void> => {\\n    await db.insert(exerciseTable).values({\\n        name: options.exercise.name,\\n        sets: options.exercise.sets,\\n        reps: options.exercise.reps,\\n        weight: options.exercise.weight,\\n        notes: options.exercise.notes\\n    }).execute();\\n};', feedback={'exit_code': 0, 'stdout': None, 'stderr': None})\n",
      "updateAvailableEquipment 1 0 HandlerOutput(handler='import { db } from \"../db\";\\nimport { equipmentTable } from \"../db/schema/application\";\\nimport type { Equipment } from \"../common/schema\";\\n\\ninterface Options {\\n    equipment: Equipment[];\\n}\\n\\nexport const handle = async (options: Options): Promise<void> => {\\n    // Clear existing equipment\\n    await db.delete(equipmentTable).execute();\\n    \\n    // Insert new equipment\\n    await db.insert(equipmentTable).values(\\n        options.equipment.map(eq => ({\\n            name: eq.name,\\n            type: eq.type\\n        }))\\n    ).execute();\\n};', feedback={'exit_code': 0, 'stdout': None, 'stderr': None})\n",
      "getProgress 1 0 HandlerOutput(handler='import { db } from \"../db\";\\nimport { progressTable, workoutHistoryTable } from \"../db/schema/application\";\\nimport { eq, and, gte, lte } from \"drizzle-orm\";\\nimport type { Progress } from \"../common/schema\";\\n\\ninterface Options {\\n    muscleGroup: string;\\n    from: string;\\n    to: string;\\n}\\n\\nexport const handle = async (options: Options): Promise<Progress[]> => {\\n    const progressData = await db\\n        .select()\\n        .from(progressTable)\\n        .leftJoin(\\n            workoutHistoryTable,\\n            eq(progressTable.history_id, workoutHistoryTable.id)\\n        )\\n        .where(\\n            and(\\n                eq(progressTable.muscle_group, options.muscleGroup),\\n                gte(workoutHistoryTable.date, new Date(options.from)),\\n                lte(workoutHistoryTable.date, new Date(options.to))\\n            )\\n        )\\n        .execute();\\n\\n    // Group by exercise\\n    const groupedProgress = progressData.reduce((acc, record) => {\\n        if (!record.progress || !record.workout_history) return acc;\\n\\n        const exercise = record.progress.exercise;\\n        if (!acc[exercise]) {\\n            acc[exercise] = {\\n                exercise: exercise,\\n                muscleGroup: record.progress.muscle_group,\\n                history: []\\n            };\\n        }\\n\\n        acc[exercise].history.push({\\n            date: record.workout_history.date.toISOString(),\\n            performance: {\\n                name: record.workout_history.exercise_name,\\n                sets: record.workout_history.sets,\\n                reps: record.workout_history.reps,\\n                weight: record.workout_history.weight,\\n                notes: \"\"\\n            }\\n        });\\n\\n        return acc;\\n    }, {} as Record<string, Progress>);\\n\\n    return Object.values(groupedProgress);\\n};', feedback={'exit_code': 0, 'stdout': None, 'stderr': None})\n",
      "adjustRoutineDifficulty 1 0 HandlerOutput(handler='import { db } from \"../db\";\\nimport type { WorkoutRoutine } from \"../common/schema\";\\nimport { workoutRoutineTable, routineExercisesTable, exerciseTable } from \"../db/schema/application\";\\nimport { eq } from \"drizzle-orm\";\\n\\ninterface Options {\\n    routine: WorkoutRoutine;\\n    difficulty: string;\\n}\\n\\nexport const handle = async (options: Options): Promise<WorkoutRoutine> => {\\n    // Get all exercises from the routine\\n    const exerciseList = await db\\n        .select({\\n            id: exerciseTable.id,\\n            name: exerciseTable.name,\\n            sets: exerciseTable.sets,\\n            reps: exerciseTable.reps,\\n            weight: exerciseTable.weight,\\n            notes: exerciseTable.notes\\n        })\\n        .from(routineExercisesTable)\\n        .innerJoin(exerciseTable, eq(routineExercisesTable.exercise_id, exerciseTable.id))\\n        .innerJoin(workoutRoutineTable, eq(routineExercisesTable.routine_id, workoutRoutineTable.id))\\n        .where(eq(workoutRoutineTable.difficulty, options.routine.difficulty));\\n\\n    // Adjust exercise parameters based on new difficulty\\n    const adjustedExercises = exerciseList.map(exercise => {\\n        const adjustmentFactor = options.difficulty === \"advanced\" ? 1.2 : \\n                               options.difficulty === \"beginner\" ? 0.8 : 1;\\n\\n        return {\\n            name: exercise.name,\\n            sets: Math.round(exercise.sets * adjustmentFactor),\\n            reps: Math.round(exercise.reps * adjustmentFactor),\\n            weight: Math.round(exercise.weight * adjustmentFactor * 100) / 100,\\n            notes: exercise.notes || \"\"\\n        };\\n    });\\n\\n    return {\\n        ...options.routine,\\n        exercises: adjustedExercises,\\n        difficulty: options.difficulty\\n    };\\n};', feedback={'exit_code': 0, 'stdout': None, 'stderr': None})\n",
      "suggestRoutine 0 0 HandlerOutput(handler='import { db } from \"../db\";\\nimport { \\n    workoutRoutineTable, \\n    routineEquipmentTable, \\n    routineExercisesTable,\\n    exerciseTable,\\n    equipmentTable \\n} from \"../db/schema/application\";\\nimport { eq, inArray } from \"drizzle-orm\";\\nimport type { Equipment, WorkoutRoutine } from \"../common/schema\";\\n\\ninterface Options {\\n    duration: string;\\n    equipment: Equipment[];\\n}\\n\\ninterface Output extends WorkoutRoutine {}\\n\\nexport const handle = async (options: Options): Promise<Output> => {\\n    // Convert ISO duration to seconds for DB query\\n    const durationInSeconds = parseDuration(options.duration);\\n    const equipmentIds = await db\\n        .select({ id: equipmentTable.id })\\n        .from(equipmentTable)\\n        .where(inArray(equipmentTable.name, options.equipment.map(e => e.name)))\\n        .execute();\\n\\n    // Find suitable routine\\n    const routine = await db\\n        .select()\\n        .from(workoutRoutineTable)\\n        .where(eq(workoutRoutineTable.duration, durationInSeconds))\\n        .limit(1)\\n        .execute();\\n\\n    if (routine.length === 0) {\\n        throw new Error(\"No suitable routine found\");\\n    }\\n\\n    // Get exercises for routine\\n    const exercises = await db\\n        .select({\\n            name: exerciseTable.name,\\n            sets: exerciseTable.sets,\\n            reps: exerciseTable.reps,\\n            weight: exerciseTable.weight,\\n            notes: exerciseTable.notes\\n        })\\n        .from(routineExercisesTable)\\n        .innerJoin(exerciseTable, eq(routineExercisesTable.exercise_id, exerciseTable.id))\\n        .where(eq(routineExercisesTable.routine_id, routine[0].id))\\n        .execute();\\n\\n    return {\\n        exercises,\\n        duration: options.duration,\\n        equipment: options.equipment,\\n        difficulty: routine[0].difficulty\\n    };\\n};\\n\\nfunction parseDuration(isoDuration: string): number {\\n    const matches = isoDuration.match(/PT(\\\\d+H)?(\\\\d+M)?(\\\\d+S)?/);\\n    if (!matches) return 0;\\n    \\n    const hours = parseInt(matches[1] || \"0\") * 3600;\\n    const minutes = parseInt(matches[2] || \"0\") * 60;\\n    const seconds = parseInt(matches[3] || \"0\");\\n    \\n    return hours + minutes + seconds;\\n}', feedback={'exit_code': 2, 'stdout': \"src/handlers/suggestRoutine.ts(55,9): error TS2322: Type '{ name: string; sets: number; reps: number; weight: number; notes: string | null; }[]' is not assignable to type 'Exercise[]'.\\n  Type '{ name: string; sets: number; reps: number; weight: number; notes: string | null; }' is not assignable to type 'Exercise'.\\n    Types of property 'notes' are incompatible.\\n      Type 'string | null' is not assignable to type 'string'.\\n        Type 'null' is not assignable to type 'string'.\\n\", 'stderr': None})\n",
      "src/handlers/suggestRoutine.ts(55,9): error TS2322: Type '{ name: string; sets: number; reps: number; weight: number; notes: string | null; }[]' is not assignable to type 'Exercise[]'.\n",
      "  Type '{ name: string; sets: number; reps: number; weight: number; notes: string | null; }' is not assignable to type 'Exercise'.\n",
      "    Types of property 'notes' are incompatible.\n",
      "      Type 'string | null' is not assignable to type 'string'.\n",
      "        Type 'null' is not assignable to type 'string'.\n",
      "\n"
     ]
    }
   ],
   "source": [
    "for name, handler in handlers.items():\n",
    "    print(name, handler.score, handler.depth, handler.data.output)\n",
    "    if handler.score != 1:\n",
    "        print(handler.data.output.feedback[\"stdout\"])"
   ]
  }
 ],
 "metadata": {
  "kernelspec": {
   "display_name": ".venv",
   "language": "python",
   "name": "python3"
  },
  "language_info": {
   "codemirror_mode": {
    "name": "ipython",
    "version": 3
   },
   "file_extension": ".py",
   "mimetype": "text/x-python",
   "name": "python",
   "nbconvert_exporter": "python",
   "pygments_lexer": "ipython3",
   "version": "3.12.8"
  }
 },
 "nbformat": 4,
 "nbformat_minor": 2
}
