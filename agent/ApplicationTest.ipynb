{
 "cells": [
  {
   "cell_type": "code",
   "execution_count": 1,
   "metadata": {},
   "outputs": [],
   "source": [
    "%load_ext autoreload\n",
    "%autoreload 2"
   ]
  },
  {
   "cell_type": "code",
   "execution_count": 1,
   "metadata": {},
   "outputs": [],
   "source": [
    "import os\n",
    "os.environ[\"LANGFUSE_PUBLIC_KEY\"] = \"pk-lf-8c74f297-f026-484d-93d3-c048f8e2b386\"\n",
    "os.environ[\"LANGFUSE_SECRET_KEY\"] = \"sk-lf-f5823dc5-753d-4db7-a052-0bf0cfe9c3cf\"\n",
    "os.environ[\"LANGFUSE_HOST\"] = \"https://cloud.langfuse.com\""
   ]
  },
  {
   "cell_type": "code",
   "execution_count": 2,
   "metadata": {},
   "outputs": [],
   "source": [
    "from anthropic import AnthropicBedrock\n",
    "from application import Application\n",
    "from compiler.core import Compiler\n",
    "from core.interpolator import Interpolator"
   ]
  },
  {
   "cell_type": "code",
   "execution_count": 3,
   "metadata": {},
   "outputs": [],
   "source": [
    "compiler = Compiler(\"botbuild/tsp_compiler\", \"botbuild/app_schema\")\n",
    "client = AnthropicBedrock(aws_profile=\"dev\", aws_region=\"us-west-2\")"
   ]
  },
  {
   "cell_type": "code",
   "execution_count": 4,
   "metadata": {},
   "outputs": [],
   "source": [
    "application = Application(client, compiler)\n",
    "interpolator = Interpolator(\".\")"
   ]
  },
  {
   "cell_type": "code",
   "execution_count": 5,
   "metadata": {},
   "outputs": [],
   "source": [
    "application_description = \"\"\"\n",
    "Bot that helps me planning my YouTube content and posting schedule.\n",
    "\"\"\".strip()"
   ]
  },
  {
   "cell_type": "code",
   "execution_count": 6,
   "metadata": {},
   "outputs": [],
   "source": [
    "application_description = \"Bot that greets user by name and returns personalized greeting.\""
   ]
  },
  {
   "cell_type": "code",
   "execution_count": 7,
   "metadata": {},
   "outputs": [
    {
     "name": "stdout",
     "output_type": "stream",
     "text": [
      "Skipping Initial Description Refinement\n",
      "Compiling TypeSpec...\n",
      "Compiling Typescript Schema Definitions...\n",
      "Compiling Drizzle...\n",
      "Compiling Handler Tests...\n",
      "Compiling Handlers...\n"
     ]
    }
   ],
   "source": [
    "my_bot = application.create_bot(application_description, bot_id=\"handler_tests\")"
   ]
  },
  {
   "cell_type": "code",
   "execution_count": 8,
   "metadata": {},
   "outputs": [],
   "source": [
    "interpolator.bake(my_bot, \"../../bot_result\") # next to repo root"
   ]
  },
  {
   "cell_type": "code",
   "execution_count": 9,
   "metadata": {},
   "outputs": [
    {
     "data": {
      "text/plain": [
       "{'refined_description': RefineOut(refined_description='Bot that greets user by name and returns personalized greeting.', error_output=None),\n",
       " 'typespec': TypespecOut(reasoning='I expect user to send messages like \"Hello, my name is John\" or \"Hi, I\\'m Jane\".\\nLLM can extract the name from the message and pass it to the greet function.\\n\"Hello, my name is John\" -> greet({name: \"John\", language: \"en\"})\\nThe bot should support multiple languages and store user preferences.\\n- greet(options: GreetRequest): void;\\n- setLanguage(options: LanguagePreference): void;', typespec_definitions='model GreetRequest {\\n    name: string;\\n    language: string;\\n}\\n\\nmodel LanguagePreference {\\n    language: string;\\n    isDefault: boolean;\\n}\\n\\ninterface GreetingBot {\\n    @llm_func(\"Generate personalized greeting for user\")\\n    greet(options: GreetRequest): string;\\n\\n    @llm_func(\"Set user\\'s preferred language for greetings\")\\n    setLanguage(options: LanguagePreference): void;\\n}', llm_functions=[LLMFunction(name='greet', description='Generate personalized greeting for user'), LLMFunction(name='setLanguage', description=\"Set user's preferred language for greetings\")], error_output=None),\n",
       " 'drizzle': DrizzleOut(reasoning='The application has two main concepts:\\n1. Language preferences that are associated with users\\n2. Greeting requests that represent interactions\\n\\nWe should create:\\n- A users table to store user information\\n- A language preferences table to store user language settings\\n- A greetings table to log greeting interactions', drizzle_schema='import { boolean, pgTable, text, timestamp, integer } from \"drizzle-orm/pg-core\";\\n\\nexport const usersTable = pgTable(\"users\", {\\n  id: text().primaryKey(),\\n  created_at: timestamp().defaultNow().notNull(),\\n});\\n\\nexport const languagePreferencesTable = pgTable(\"language_preferences\", {\\n  id: integer().primaryKey().generatedAlwaysAsIdentity(),\\n  user_id: text().references(() => usersTable.id).notNull(),\\n  language: text().notNull(),\\n  is_default: boolean().default(false).notNull(),\\n  created_at: timestamp().defaultNow().notNull(),\\n  updated_at: timestamp().defaultNow().notNull(),\\n});\\n\\nexport const greetingsTable = pgTable(\"greetings\", {\\n  id: integer().primaryKey().generatedAlwaysAsIdentity(),\\n  user_id: text().references(() => usersTable.id).notNull(),\\n  name: text().notNull(),\\n  language: text().notNull(),\\n  greeting_text: text().notNull(),\\n  created_at: timestamp().defaultNow().notNull(),\\n});', error_output=None),\n",
       " 'handlers': {'greet': HandlerOut(name='greet', handler='import type { GreetRequest } from \"../common/schema\";\\nimport { greet } from \"../common/schema\";\\nimport { db } from \"../db\";\\nimport { eq, and } from \"drizzle-orm\";\\nimport { greetingsTable, languagePreferencesTable, usersTable } from \"../db/schema/application\";\\n\\nconst greetingTemplates: Record<string, string> = {\\n    \"en\": \"Hello, {name}!\",\\n    \"es\": \"¡Hola, {name}!\",\\n    \"fr\": \"Bonjour, {name}!\",\\n    \"de\": \"Hallo, {name}!\",\\n};\\n\\nexport const handle: typeof greet = async (options: GreetRequest): Promise<string> => {\\n    // Check if user exists or create new\\n    const userId = `user_${options.name.toLowerCase()}`;\\n    await db.insert(usersTable)\\n        .values({ id: userId })\\n        .onConflictDoNothing();\\n\\n    // Get language preference if exists, otherwise use provided language\\n    const languagePreference = await db\\n        .select()\\n        .from(languagePreferencesTable)\\n        .$dynamic()\\n        .where(\\n            and(\\n                eq(languagePreferencesTable.user_id, userId),\\n                eq(languagePreferencesTable.is_default, true)\\n            )\\n        )\\n        .limit(1);\\n\\n    const selectedLanguage = languagePreference.length > 0 \\n        ? languagePreference[0].language \\n        : options.language;\\n\\n    // Generate greeting text\\n    const template = greetingTemplates[selectedLanguage] || greetingTemplates[\"en\"];\\n    const greetingText = template.replace(\"{name}\", options.name);\\n\\n    // Store greeting in database\\n    await db.insert(greetingsTable)\\n        .values({\\n            user_id: userId,\\n            name: options.name,\\n            language: selectedLanguage,\\n            greeting_text: greetingText,\\n        });\\n\\n    return greetingText;\\n};', argument_schema='languagePreferenceSchema', error_output=None),\n",
       "  'setLanguage': HandlerOut(name='setLanguage', handler='import { and, eq } from \"drizzle-orm\";\\nimport { db } from \"../db\";\\nimport type { LanguagePreference } from \"../common/schema\";\\nimport { setLanguage } from \"../common/schema\";\\nimport { languagePreferencesTable, usersTable } from \"../db/schema/application\";\\n\\nexport const handle: typeof setLanguage = async (options: LanguagePreference): Promise<void> => {\\n    const userId = \"default_user\"; // In real app, this would come from auth context\\n    \\n    await db.transaction(async (tx) => {\\n        // Create user if doesn\\'t exist\\n        await tx\\n            .insert(usersTable)\\n            .values({\\n                id: userId\\n            })\\n            .onConflictDoNothing()\\n            .execute();\\n\\n        // If setting as default, reset all existing default languages\\n        if (options.isDefault) {\\n            await tx\\n                .update(languagePreferencesTable)\\n                .set({ is_default: false })\\n                .where(eq(languagePreferencesTable.user_id, userId))\\n                .execute();\\n        }\\n\\n        // Check if language preference exists\\n        const existingPreference = await tx\\n            .select()\\n            .from(languagePreferencesTable)\\n            .where(\\n                and(\\n                    eq(languagePreferencesTable.user_id, userId),\\n                    eq(languagePreferencesTable.language, options.language)\\n                )\\n            )\\n            .execute();\\n\\n        if (existingPreference.length > 0) {\\n            // Update existing preference\\n            await tx\\n                .update(languagePreferencesTable)\\n                .set({\\n                    is_default: options.isDefault,\\n                    updated_at: new Date()\\n                })\\n                .where(\\n                    and(\\n                        eq(languagePreferencesTable.user_id, userId),\\n                        eq(languagePreferencesTable.language, options.language)\\n                    )\\n                )\\n                .execute();\\n        } else {\\n            // Insert new preference\\n            await tx\\n                .insert(languagePreferencesTable)\\n                .values({\\n                    user_id: userId,\\n                    language: options.language,\\n                    is_default: options.isDefault\\n                })\\n                .execute();\\n        }\\n    });\\n};', argument_schema='languagePreferenceSchema', error_output=None)},\n",
       " 'handler_tests': {'greet': HandlerTestsOut(name='greet', content='\\nimport { afterEach, beforeEach, describe } from \"bun:test\";\\nimport { resetDB, createDB } from \"../../helpers\";\\nimport { handle as greet } from \"../../handlers/greet.ts\";\\nimport { expect, it } from \"bun:test\";\\nimport { db } from \"../../db\";\\nimport { greetingsTable } from \"../../db/schema/application\";\\nimport { type GreetRequest } from \"../../common/schema\";\\nimport { eq } from \"drizzle-orm\";\\n\\ndescribe(\"\", () => {\\n    beforeEach(async () => {\\n        await createDB();\\n    });\\n\\n    afterEach(async () => {\\n        await resetDB();\\n    });\\n    \\n    \\n    it(\"should return a greeting in requested language\", async () => {\\n      const input: GreetRequest = {\\n        name: \"John\",\\n        language: \"en\"\\n      };\\n      const greeting = await greet(input);\\n      expect(greeting).toContain(\"John\");\\n    });\\n\\n    \\n    \\n    it(\"should store greeting in database\", async () => {\\n      const input: GreetRequest = {\\n        name: \"Alice\",\\n        language: \"es\"\\n      };\\n      await greet(input);\\n      \\n      const storedGreetings = await db\\n        .select()\\n        .from(greetingsTable)\\n        .where(eq(greetingsTable.name, \"Alice\"))\\n        .execute();\\n\\n      expect(storedGreetings).toHaveLength(1);\\n      expect(storedGreetings[0].name).toEqual(\"Alice\");\\n      expect(storedGreetings[0].language).toEqual(\"es\");\\n      expect(storedGreetings[0].greeting_text).toBeDefined();\\n    });\\n\\n    \\n    \\n    it(\"should handle different languages\", async () => {\\n      const languages = [\"en\", \"es\", \"fr\"];\\n      \\n      for (const language of languages) {\\n        const input: GreetRequest = {\\n          name: \"Maria\",\\n          language: language\\n        };\\n        const greeting = await greet(input);\\n        expect(greeting).toBeDefined();\\n        expect(greeting.length).toBeGreaterThan(0);\\n      }\\n    });\\n\\n    \\n    \\n    it(\"should create unique greetings for each request\", async () => {\\n      const input: GreetRequest = {\\n        name: \"Bob\",\\n        language: \"en\"\\n      };\\n      \\n      await greet(input);\\n      await greet(input);\\n      \\n      const storedGreetings = await db\\n        .select()\\n        .from(greetingsTable)\\n        .where(eq(greetingsTable.name, \"Bob\"))\\n        .execute();\\n\\n      expect(storedGreetings).toHaveLength(2);\\n    });\\n\\n    \\n});', error_output=None),\n",
       "  'setLanguage': HandlerTestsOut(name='setLanguage', content='\\nimport { afterEach, beforeEach, describe } from \"bun:test\";\\nimport { resetDB, createDB } from \"../../helpers\";\\nimport { handle as setLanguage } from \"../../handlers/setLanguage.ts\";\\nimport { expect, it } from \"bun:test\";\\nimport { db } from \"../../db\";\\nimport { languagePreferencesTable } from \"../../db/schema/application\";\\nimport { type LanguagePreference } from \"../../common/schema\";\\nimport { eq } from \"drizzle-orm\";\\n\\ndescribe(\"\", () => {\\n    beforeEach(async () => {\\n        await createDB();\\n    });\\n\\n    afterEach(async () => {\\n        await resetDB();\\n    });\\n    \\n    \\n    it(\"should set a new language preference\", async () => {\\n      const input: LanguagePreference = {\\n        language: \"es\",\\n        isDefault: true\\n      };\\n      \\n      await setLanguage(input);\\n      \\n      const preferences = await db\\n        .select()\\n        .from(languagePreferencesTable)\\n        .where(eq(languagePreferencesTable.language, \"es\"))\\n        .execute();\\n\\n      expect(preferences).toHaveLength(1);\\n      expect(preferences[0].language).toEqual(\"es\");\\n      expect(preferences[0].is_default).toEqual(true);\\n    });\\n\\n    \\n    \\n    it(\"should update existing language preference when setting new default\", async () => {\\n      // Set initial preference\\n      const initial: LanguagePreference = {\\n        language: \"en\",\\n        isDefault: true\\n      };\\n      await setLanguage(initial);\\n\\n      // Set new default preference\\n      const newDefault: LanguagePreference = {\\n        language: \"fr\",\\n        isDefault: true\\n      };\\n      await setLanguage(newDefault);\\n\\n      const preferences = await db\\n        .select()\\n        .from(languagePreferencesTable)\\n        .where(eq(languagePreferencesTable.is_default, true))\\n        .execute();\\n\\n      expect(preferences).toHaveLength(1);\\n      expect(preferences[0].language).toEqual(\"fr\");\\n      expect(preferences[0].is_default).toEqual(true);\\n    });\\n\\n    \\n    \\n    it(\"should allow multiple non-default language preferences\", async () => {\\n      const preferences: LanguagePreference[] = [\\n        { language: \"en\", isDefault: false },\\n        { language: \"es\", isDefault: false }\\n      ];\\n\\n      for (const pref of preferences) {\\n        await setLanguage(pref);\\n      }\\n\\n      const stored = await db\\n        .select()\\n        .from(languagePreferencesTable)\\n        .where(eq(languagePreferencesTable.is_default, false))\\n        .execute();\\n\\n      expect(stored).toHaveLength(2);\\n      expect(stored.map(p => p.language)).toContain(\"en\");\\n      expect(stored.map(p => p.language)).toContain(\"es\");\\n    });\\n\\n    \\n});', error_output=None)},\n",
       " 'typescript_schema': TypescriptOut(reasoning=\"The application handles greeting functionality with language preferences:\\n1. The GreetRequest model contains user's name and desired language for greeting\\n2. LanguagePreference model stores language settings with a default flag\\n3. The interface provides two operations:\\n   - greet: generates personalized greetings based on name and language\\n   - setLanguage: configures language preferences for future greetings\", typescript_schema=\"import { z } from 'zod';\\n\\nexport const greetRequestSchema = z.object({\\n    name: z.string(),\\n    language: z.string(),\\n});\\n\\nexport type GreetRequest = z.infer<typeof greetRequestSchema>;\\n\\nexport const languagePreferenceSchema = z.object({\\n    language: z.string(),\\n    isDefault: z.boolean(),\\n});\\n\\nexport type LanguagePreference = z.infer<typeof languagePreferenceSchema>;\\n\\nexport declare function greet(options: GreetRequest): Promise<string>;\\n\\nexport declare function setLanguage(options: LanguagePreference): Promise<void>;\", functions=[TypescriptFunction(name='greet', argument_type='GreetRequest', argument_schema='greetRequestSchema', return_type='Promise<string>'), TypescriptFunction(name='setLanguage', argument_type='LanguagePreference', argument_schema='languagePreferenceSchema', return_type='Promise<void>')], error_output=None),\n",
       " 'gherkin': GherkinOut(reasoning=None, gherkin=None, error_output=None),\n",
       " 'trace_id': '227b978a-da18-4ba3-9e85-393de00349ca'}"
      ]
     },
     "execution_count": 9,
     "metadata": {},
     "output_type": "execute_result"
    }
   ],
   "source": [
    "my_bot.__dict__"
   ]
  },
  {
   "cell_type": "code",
   "execution_count": null,
   "metadata": {},
   "outputs": [],
   "source": []
  }
 ],
 "metadata": {
  "kernelspec": {
   "display_name": ".venv",
   "language": "python",
   "name": "python3"
  },
  "language_info": {
   "codemirror_mode": {
    "name": "ipython",
    "version": 3
   },
   "file_extension": ".py",
   "mimetype": "text/x-python",
   "name": "python",
   "nbconvert_exporter": "python",
   "pygments_lexer": "ipython3",
   "version": "3.12.8"
  }
 },
 "nbformat": 4,
 "nbformat_minor": 2
}
