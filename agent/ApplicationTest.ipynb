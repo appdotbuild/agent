{
 "cells": [
  {
   "cell_type": "code",
   "execution_count": 1,
   "metadata": {},
   "outputs": [],
   "source": [
    "from anthropic import AnthropicBedrock\n",
    "from application import Application\n",
    "from compiler.core import Compiler\n",
    "import tempfile"
   ]
  },
  {
   "cell_type": "code",
   "execution_count": 2,
   "metadata": {},
   "outputs": [],
   "source": [
    "compiler = Compiler(\"botbuild/tsp_compiler\", \"botbuild/app_schema\")\n",
    "client = AnthropicBedrock(aws_profile=\"dev\", aws_region=\"us-west-2\")"
   ]
  },
  {
   "cell_type": "code",
   "execution_count": 3,
   "metadata": {},
   "outputs": [],
   "source": [
    "tempdir = tempfile.TemporaryDirectory()\n",
    "application = Application(client, compiler, \"templates\", tempdir.name)"
   ]
  },
  {
   "cell_type": "code",
   "execution_count": 4,
   "metadata": {},
   "outputs": [],
   "source": [
    "application_description = \"\"\"\n",
    "Bot that helps me planning my YouTube content and posting schedule.\n",
    "\"\"\".strip()"
   ]
  },
  {
   "cell_type": "code",
   "execution_count": 5,
   "metadata": {},
   "outputs": [
    {
     "name": "stderr",
     "output_type": "stream",
     "text": [
      "Langfuse client is disabled since no public_key was provided as a parameter or environment variable 'LANGFUSE_PUBLIC_KEY'. See our docs: https://langfuse.com/docs/sdk/python/low-level-sdk#initialize-client\n"
     ]
    },
    {
     "name": "stdout",
     "output_type": "stream",
     "text": [
      "Compiling TypeSpec...\n",
      "Compiling Typescript Schema Definitions...\n",
      "Compiling Drizzle...\n",
      "Generating Router...\n",
      "Compiling Handlers...\n",
      "Generating Application...\n"
     ]
    }
   ],
   "source": [
    "my_bot = application.create_bot(application_description)"
   ]
  },
  {
   "cell_type": "code",
   "execution_count": 10,
   "metadata": {},
   "outputs": [
    {
     "data": {
      "text/plain": [
       "ApplicationOut(typespec=TypespecOut(reasoning='For a hello bot that greets on every message, we need:\\n1. A greeting function that takes user\\'s message and generates appropriate response\\n2. The greeting should consider user\\'s name if provided in the message\\n3. Time of day can be extracted to provide appropriate greeting (good morning/afternoon/evening)\\n4. Should track conversation history to avoid repetitive greetings\\n\\nExample interactions:\\n\"Hi\" -> greet({timeOfDay: \"morning\"})\\n\"Hello, I\\'m John\" -> greet({userName: \"John\", timeOfDay: \"evening\"})', typespec_definitions='model GreetingContext {\\n    userName?: string;\\n    timeOfDay: string;\\n}\\n\\ninterface HelloBot {\\n    @llm_func(2)\\n    greet(context: GreetingContext): string;\\n}', llm_functions=['greet'], error_output=None), drizzle=DrizzleOut(reasoning='The TypeSpec shows:\\n1. A GreetingContext model with userName (optional) and timeOfDay fields\\n2. A HelloBot interface that processes greetings\\n3. We need to store both the context information and potentially the greeting results\\n4. Since this is a bot interface, we might want to track interactions', drizzle_schema='import { pgTable, text, timestamp, uuid, boolean } from \"drizzle-orm/pg-core\";\\n\\n// Table to store greeting contexts\\nexport const greetingContextsTable = pgTable(\"greeting_contexts\", {\\n  id: uuid(\"id\").defaultRandom().primaryKey(),\\n  user_name: text(\"user_name\"),\\n  time_of_day: text(\"time_of_day\").notNull(),\\n  created_at: timestamp(\"created_at\").defaultNow().notNull()\\n});\\n\\n// Table to store greeting interactions\\nexport const greetingsTable = pgTable(\"greetings\", {\\n  id: uuid(\"id\").defaultRandom().primaryKey(),\\n  context_id: uuid(\"context_id\").references(() => greetingContextsTable.id),\\n  greeting_text: text(\"greeting_text\").notNull(),\\n  is_successful: boolean(\"is_successful\").default(true),\\n  created_at: timestamp(\"created_at\").defaultNow().notNull()\\n});', error_output=None), router=RouterOut(functions=[{'name': 'greet', 'description': \"Generate a personalized greeting based on the user's name (if provided) and time of day. This function handles user requests for greetings and welcome messages.\", 'examples': ['Hello', 'Good morning', 'Hi, my name is John', 'Can you greet me?', 'Say hi to me', 'Good evening everyone', 'Please welcome me']}], error_output=None), handlers={'greet': HandlerOut(handler='import type { GreetingContext } from \"../common/schema\";\\nimport { db } from \"../db\";\\nimport { greetingContextsTable, greetingsTable } from \"../db/schema/application\";\\nimport { eq } from \"drizzle-orm\";\\n\\ninterface HandlerOptions {\\n    context: GreetingContext;\\n    userId: string;\\n}\\n\\ninterface HandlerOutput {\\n    greetingText: string;\\n    contextId: string;\\n}\\n\\nexport const handle = async (options: HandlerOptions): Promise<HandlerOutput> => {\\n    // Store greeting context\\n    const [contextResult] = await db.insert(greetingContextsTable)\\n        .values({\\n            user_name: options.context.userName,\\n            time_of_day: options.context.timeOfDay\\n        })\\n        .returning({ id: greetingContextsTable.id });\\n\\n    // Generate greeting text based on context\\n    const greetingText = `Good ${options.context.timeOfDay}${\\n        options.context.userName ? `, ${options.context.userName}` : \"\"\\n    }!`;\\n\\n    // Store greeting interaction\\n    await db.insert(greetingsTable)\\n        .values({\\n            context_id: contextResult.id,\\n            greeting_text: greetingText,\\n            is_successful: true\\n        });\\n\\n    // Verify greeting was stored\\n    const [storedGreeting] = await db.select()\\n        .from(greetingsTable)\\n        .where(eq(greetingsTable.context_id, contextResult.id))\\n        .limit(1);\\n\\n    if (!storedGreeting) {\\n        throw new Error(\"Failed to store greeting\");\\n    }\\n\\n    return {\\n        greetingText: greetingText,\\n        contextId: contextResult.id\\n    };\\n};', error_output=None)}, typescript_schema=TypescriptOut(reasoning=\"The TypeSpec code defines:\\n1. A GreetingContext model with two properties:\\n   - userName (optional string)\\n   - timeOfDay (required string)\\n2. A HelloBot interface with a greet method that:\\n   - Takes a GreetingContext parameter\\n   - Returns a string\\n   - Has an @llm_func decorator (which we'll omit in TypeScript as it's specific to TypeSpec)\", typescript_schema='export interface GreetingContext {\\n    userName?: string;\\n    timeOfDay: string;\\n}\\n\\nexport interface HelloBot {\\n    greet(context: GreetingContext): string;\\n}', type_names=['GreetingContext', 'HelloBot'], error_output=None), application={'greet': {'module': 'greet'}})"
      ]
     },
     "execution_count": 10,
     "metadata": {},
     "output_type": "execute_result"
    }
   ],
   "source": [
    "my_bot"
   ]
  },
  {
   "cell_type": "code",
   "execution_count": 11,
   "metadata": {},
   "outputs": [
    {
     "data": {
      "text/plain": [
       "'/tmp/tmpka_uy94u/generated/generation-1'"
      ]
     },
     "execution_count": 11,
     "metadata": {},
     "output_type": "execute_result"
    }
   ],
   "source": [
    "application.generation_dir"
   ]
  },
  {
   "cell_type": "code",
   "execution_count": 8,
   "metadata": {},
   "outputs": [
    {
     "name": "stdout",
     "output_type": "stream",
     "text": [
      "/tmp/tmpka_uy94u/generated/generation-1/app_schema ~/neon/bot-new-1/agent\n"
     ]
    },
    {
     "name": "stdout",
     "output_type": "stream",
     "text": [
      "\u001b[37;40mnpm\u001b[0m \u001b[0m\u001b[31;40mERR!\u001b[0m \u001b[0m\u001b[35mcode\u001b[0m ENOENT\n",
      "\u001b[0m\u001b[37;40mnpm\u001b[0m \u001b[0m\u001b[31;40mERR!\u001b[0m \u001b[0m\u001b[35msyscall\u001b[0m open\n",
      "\u001b[0m\u001b[37;40mnpm\u001b[0m \u001b[0m\u001b[31;40mERR!\u001b[0m \u001b[0m\u001b[35mpath\u001b[0m /home/eugenek/neon/bot-new-1/agent/package.json\n",
      "\u001b[0m\u001b[37;40mnpm\u001b[0m \u001b[0m\u001b[31;40mERR!\u001b[0m \u001b[0m\u001b[35merrno\u001b[0m -2\n",
      "\u001b[0m\u001b[37;40mnpm\u001b[0m \u001b[0m\u001b[31;40mERR!\u001b[0m \u001b[0m\u001b[35menoent\u001b[0m ENOENT: no such file or directory, open '/home/eugenek/neon/bot-new-1/agent/package.json'\n",
      "\u001b[0m\u001b[37;40mnpm\u001b[0m \u001b[0m\u001b[31;40mERR!\u001b[0m \u001b[0m\u001b[35menoent\u001b[0m This is related to npm not being able to find a file.\n",
      "\u001b[0m\u001b[37;40mnpm\u001b[0m \u001b[0m\u001b[31;40mERR!\u001b[0m \u001b[0m\u001b[35menoent\u001b[0m \n",
      "\u001b[0m\n",
      "\u001b[37;40mnpm\u001b[0m \u001b[0m\u001b[31;40mERR!\u001b[0m\u001b[35m\u001b[0m A complete log of this run can be found in:\n",
      "\u001b[0m\u001b[37;40mnpm\u001b[0m \u001b[0m\u001b[31;40mERR!\u001b[0m\u001b[35m\u001b[0m     /home/eugenek/.npm/_logs/2025-02-07T11_44_06_379Z-debug-0.log\n",
      "\u001b[0m\n",
      "\u001b[41m                                                                               \u001b[0m\n",
      "\u001b[41m\u001b[37m                This is not the tsc command you are looking for                \u001b[0m\n",
      "\u001b[41m                                                                               \u001b[0m\n",
      "\n",
      "To get access to the TypeScript compiler, \u001b[34mtsc\u001b[0m, from the command line either:\n",
      "\n",
      "- Use \u001b[1mnpm install typescript\u001b[0m to first add TypeScript to your project \u001b[1mbefore\u001b[0m using npx\n",
      "- Use \u001b[1myarn\u001b[0m to avoid accidentally running code from un-installed packages\n",
      "/bin/bash: line 1: popd: directory stack empty\n"
     ]
    }
   ],
   "source": [
    "!pushd {application.generation_dir}/app_schema\n",
    "!npm install\n",
    "!npx tsc src/main.ts\n",
    "!popd\n"
   ]
  },
  {
   "cell_type": "code",
   "execution_count": 9,
   "metadata": {},
   "outputs": [
    {
     "ename": "AttributeError",
     "evalue": "'TypespecOut' object has no attribute 'score'",
     "output_type": "error",
     "traceback": [
      "\u001b[0;31m---------------------------------------------------------------------------\u001b[0m",
      "\u001b[0;31mAttributeError\u001b[0m                            Traceback (most recent call last)",
      "Cell \u001b[0;32mIn[9], line 2\u001b[0m\n\u001b[1;32m      1\u001b[0m typespec \u001b[38;5;241m=\u001b[39m application\u001b[38;5;241m.\u001b[39m_make_typespec(application_description)\n\u001b[0;32m----> 2\u001b[0m \u001b[43mtypespec\u001b[49m\u001b[38;5;241;43m.\u001b[39;49m\u001b[43mscore\u001b[49m, typespec\u001b[38;5;241m.\u001b[39mdata\u001b[38;5;241m.\u001b[39moutput\n",
      "\u001b[0;31mAttributeError\u001b[0m: 'TypespecOut' object has no attribute 'score'"
     ]
    }
   ],
   "source": [
    "typespec = application._make_typespec(application_description)\n",
    "typespec.score, typespec.data.output"
   ]
  },
  {
   "cell_type": "code",
   "execution_count": null,
   "metadata": {},
   "outputs": [],
   "source": [
    "typescript_schema = application._make_typescript_schema(typespec.data.output.typespec_definitions)\n",
    "typescript_schema.score, typescript_schema.data.output"
   ]
  },
  {
   "cell_type": "code",
   "execution_count": null,
   "metadata": {},
   "outputs": [],
   "source": [
    "drizzle = application._make_drizzle(typespec.data.output.typespec_definitions)\n",
    "drizzle.score, drizzle.data.output"
   ]
  },
  {
   "cell_type": "code",
   "execution_count": null,
   "metadata": {},
   "outputs": [],
   "source": [
    "router = application._make_router(typespec.data.output.typespec_definitions)\n",
    "router.score, router.data.output"
   ]
  },
  {
   "cell_type": "code",
   "execution_count": null,
   "metadata": {},
   "outputs": [],
   "source": [
    "handlers = application._make_handlers(\n",
    "    typespec.data.output.llm_functions,\n",
    "    typespec.data.output.typespec_definitions,\n",
    "    typescript_schema.data.output.typescript_schema,\n",
    "    drizzle.data.output.drizzle_schema,\n",
    ")"
   ]
  },
  {
   "cell_type": "code",
   "execution_count": null,
   "metadata": {},
   "outputs": [
    {
     "name": "stdout",
     "output_type": "stream",
     "text": [
      "recordExercise 1 0 HandlerOutput(handler='import { db } from \"../db\";\\nimport type { Exercise } from \"../common/schema\";\\nimport { exerciseTable } from \"../db/schema/application\";\\n\\ninterface Options {\\n    exercise: Exercise;\\n}\\n\\nexport const handle = async (options: Options): Promise<void> => {\\n    await db.insert(exerciseTable).values({\\n        name: options.exercise.name,\\n        sets: options.exercise.sets,\\n        reps: options.exercise.reps,\\n        weight: options.exercise.weight,\\n        notes: options.exercise.notes\\n    }).execute();\\n};', feedback={'exit_code': 0, 'stdout': None, 'stderr': None})\n",
      "updateAvailableEquipment 1 0 HandlerOutput(handler='import { db } from \"../db\";\\nimport { equipmentTable } from \"../db/schema/application\";\\nimport type { Equipment } from \"../common/schema\";\\n\\ninterface Options {\\n    equipment: Equipment[];\\n}\\n\\nexport const handle = async (options: Options): Promise<void> => {\\n    // Clear existing equipment\\n    await db.delete(equipmentTable).execute();\\n    \\n    // Insert new equipment\\n    await db.insert(equipmentTable).values(\\n        options.equipment.map(eq => ({\\n            name: eq.name,\\n            type: eq.type\\n        }))\\n    ).execute();\\n};', feedback={'exit_code': 0, 'stdout': None, 'stderr': None})\n",
      "getProgress 1 0 HandlerOutput(handler='import { db } from \"../db\";\\nimport { progressTable, workoutHistoryTable } from \"../db/schema/application\";\\nimport { eq, and, gte, lte } from \"drizzle-orm\";\\nimport type { Progress } from \"../common/schema\";\\n\\ninterface Options {\\n    muscleGroup: string;\\n    from: string;\\n    to: string;\\n}\\n\\nexport const handle = async (options: Options): Promise<Progress[]> => {\\n    const progressData = await db\\n        .select()\\n        .from(progressTable)\\n        .leftJoin(\\n            workoutHistoryTable,\\n            eq(progressTable.history_id, workoutHistoryTable.id)\\n        )\\n        .where(\\n            and(\\n                eq(progressTable.muscle_group, options.muscleGroup),\\n                gte(workoutHistoryTable.date, new Date(options.from)),\\n                lte(workoutHistoryTable.date, new Date(options.to))\\n            )\\n        )\\n        .execute();\\n\\n    // Group by exercise\\n    const groupedProgress = progressData.reduce((acc, record) => {\\n        if (!record.progress || !record.workout_history) return acc;\\n\\n        const exercise = record.progress.exercise;\\n        if (!acc[exercise]) {\\n            acc[exercise] = {\\n                exercise: exercise,\\n                muscleGroup: record.progress.muscle_group,\\n                history: []\\n            };\\n        }\\n\\n        acc[exercise].history.push({\\n            date: record.workout_history.date.toISOString(),\\n            performance: {\\n                name: record.workout_history.exercise_name,\\n                sets: record.workout_history.sets,\\n                reps: record.workout_history.reps,\\n                weight: record.workout_history.weight,\\n                notes: \"\"\\n            }\\n        });\\n\\n        return acc;\\n    }, {} as Record<string, Progress>);\\n\\n    return Object.values(groupedProgress);\\n};', feedback={'exit_code': 0, 'stdout': None, 'stderr': None})\n",
      "adjustRoutineDifficulty 1 0 HandlerOutput(handler='import { db } from \"../db\";\\nimport type { WorkoutRoutine } from \"../common/schema\";\\nimport { workoutRoutineTable, routineExercisesTable, exerciseTable } from \"../db/schema/application\";\\nimport { eq } from \"drizzle-orm\";\\n\\ninterface Options {\\n    routine: WorkoutRoutine;\\n    difficulty: string;\\n}\\n\\nexport const handle = async (options: Options): Promise<WorkoutRoutine> => {\\n    // Get all exercises from the routine\\n    const exerciseList = await db\\n        .select({\\n            id: exerciseTable.id,\\n            name: exerciseTable.name,\\n            sets: exerciseTable.sets,\\n            reps: exerciseTable.reps,\\n            weight: exerciseTable.weight,\\n            notes: exerciseTable.notes\\n        })\\n        .from(routineExercisesTable)\\n        .innerJoin(exerciseTable, eq(routineExercisesTable.exercise_id, exerciseTable.id))\\n        .innerJoin(workoutRoutineTable, eq(routineExercisesTable.routine_id, workoutRoutineTable.id))\\n        .where(eq(workoutRoutineTable.difficulty, options.routine.difficulty));\\n\\n    // Adjust exercise parameters based on new difficulty\\n    const adjustedExercises = exerciseList.map(exercise => {\\n        const adjustmentFactor = options.difficulty === \"advanced\" ? 1.2 : \\n                               options.difficulty === \"beginner\" ? 0.8 : 1;\\n\\n        return {\\n            name: exercise.name,\\n            sets: Math.round(exercise.sets * adjustmentFactor),\\n            reps: Math.round(exercise.reps * adjustmentFactor),\\n            weight: Math.round(exercise.weight * adjustmentFactor * 100) / 100,\\n            notes: exercise.notes || \"\"\\n        };\\n    });\\n\\n    return {\\n        ...options.routine,\\n        exercises: adjustedExercises,\\n        difficulty: options.difficulty\\n    };\\n};', feedback={'exit_code': 0, 'stdout': None, 'stderr': None})\n",
      "suggestRoutine 0 0 HandlerOutput(handler='import { db } from \"../db\";\\nimport { \\n    workoutRoutineTable, \\n    routineEquipmentTable, \\n    routineExercisesTable,\\n    exerciseTable,\\n    equipmentTable \\n} from \"../db/schema/application\";\\nimport { eq, inArray } from \"drizzle-orm\";\\nimport type { Equipment, WorkoutRoutine } from \"../common/schema\";\\n\\ninterface Options {\\n    duration: string;\\n    equipment: Equipment[];\\n}\\n\\ninterface Output extends WorkoutRoutine {}\\n\\nexport const handle = async (options: Options): Promise<Output> => {\\n    // Convert ISO duration to seconds for DB query\\n    const durationInSeconds = parseDuration(options.duration);\\n    const equipmentIds = await db\\n        .select({ id: equipmentTable.id })\\n        .from(equipmentTable)\\n        .where(inArray(equipmentTable.name, options.equipment.map(e => e.name)))\\n        .execute();\\n\\n    // Find suitable routine\\n    const routine = await db\\n        .select()\\n        .from(workoutRoutineTable)\\n        .where(eq(workoutRoutineTable.duration, durationInSeconds))\\n        .limit(1)\\n        .execute();\\n\\n    if (routine.length === 0) {\\n        throw new Error(\"No suitable routine found\");\\n    }\\n\\n    // Get exercises for routine\\n    const exercises = await db\\n        .select({\\n            name: exerciseTable.name,\\n            sets: exerciseTable.sets,\\n            reps: exerciseTable.reps,\\n            weight: exerciseTable.weight,\\n            notes: exerciseTable.notes\\n        })\\n        .from(routineExercisesTable)\\n        .innerJoin(exerciseTable, eq(routineExercisesTable.exercise_id, exerciseTable.id))\\n        .where(eq(routineExercisesTable.routine_id, routine[0].id))\\n        .execute();\\n\\n    return {\\n        exercises,\\n        duration: options.duration,\\n        equipment: options.equipment,\\n        difficulty: routine[0].difficulty\\n    };\\n};\\n\\nfunction parseDuration(isoDuration: string): number {\\n    const matches = isoDuration.match(/PT(\\\\d+H)?(\\\\d+M)?(\\\\d+S)?/);\\n    if (!matches) return 0;\\n    \\n    const hours = parseInt(matches[1] || \"0\") * 3600;\\n    const minutes = parseInt(matches[2] || \"0\") * 60;\\n    const seconds = parseInt(matches[3] || \"0\");\\n    \\n    return hours + minutes + seconds;\\n}', feedback={'exit_code': 2, 'stdout': \"src/handlers/suggestRoutine.ts(55,9): error TS2322: Type '{ name: string; sets: number; reps: number; weight: number; notes: string | null; }[]' is not assignable to type 'Exercise[]'.\\n  Type '{ name: string; sets: number; reps: number; weight: number; notes: string | null; }' is not assignable to type 'Exercise'.\\n    Types of property 'notes' are incompatible.\\n      Type 'string | null' is not assignable to type 'string'.\\n        Type 'null' is not assignable to type 'string'.\\n\", 'stderr': None})\n",
      "src/handlers/suggestRoutine.ts(55,9): error TS2322: Type '{ name: string; sets: number; reps: number; weight: number; notes: string | null; }[]' is not assignable to type 'Exercise[]'.\n",
      "  Type '{ name: string; sets: number; reps: number; weight: number; notes: string | null; }' is not assignable to type 'Exercise'.\n",
      "    Types of property 'notes' are incompatible.\n",
      "      Type 'string | null' is not assignable to type 'string'.\n",
      "        Type 'null' is not assignable to type 'string'.\n",
      "\n"
     ]
    }
   ],
   "source": [
    "for name, handler in handlers.items():\n",
    "    print(name, handler.score, handler.depth, handler.data.output)\n",
    "    if handler.score != 1:\n",
    "        print(handler.data.output.feedback[\"stdout\"])"
   ]
  }
 ],
 "metadata": {
  "kernelspec": {
   "display_name": ".venv",
   "language": "python",
   "name": "python3"
  },
  "language_info": {
   "codemirror_mode": {
    "name": "ipython",
    "version": 3
   },
   "file_extension": ".py",
   "mimetype": "text/x-python",
   "name": "python",
   "nbconvert_exporter": "python",
   "pygments_lexer": "ipython3",
   "version": "3.12.3"
  }
 },
 "nbformat": 4,
 "nbformat_minor": 2
}
