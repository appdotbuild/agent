{
 "cells": [
  {
   "cell_type": "code",
   "execution_count": 4,
   "metadata": {},
   "outputs": [],
   "source": [
    "from langfuse import Langfuse\n",
    "from fsm_core.llm_common import get_sync_client\n",
    "from compiler.core import Compiler\n",
    "from application import Application"
   ]
  },
  {
   "cell_type": "code",
   "execution_count": 5,
   "metadata": {},
   "outputs": [
    {
     "name": "stderr",
     "output_type": "stream",
     "text": [
      "Langfuse client is disabled since no public_key was provided as a parameter or environment variable 'LANGFUSE_PUBLIC_KEY'. See our docs: https://langfuse.com/docs/sdk/python/low-level-sdk#initialize-client\n"
     ]
    }
   ],
   "source": [
    "langfuse_client = Langfuse()\n",
    "compiler = Compiler(\"botbuild/tsp_compiler\", \"botbuild/app_schema\")\n",
    "m_client = get_sync_client(\"bedrock\", client_params={\"aws_profile\":\"dev\", \"aws_region\": \"us-west-2\"})"
   ]
  },
  {
   "cell_type": "code",
   "execution_count": 6,
   "metadata": {},
   "outputs": [
    {
     "name": "stderr",
     "output_type": "stream",
     "text": [
      "Langfuse client is disabled since no public_key was provided as a parameter or environment variable 'LANGFUSE_PUBLIC_KEY'. See our docs: https://langfuse.com/docs/sdk/python/low-level-sdk#initialize-client\n"
     ]
    }
   ],
   "source": [
    "from application import InteractionMode\n",
    "builder = Application(m_client, compiler, interaction_mode=InteractionMode.INTERACTIVE)"
   ]
  },
  {
   "cell_type": "code",
   "execution_count": 7,
   "metadata": {},
   "outputs": [],
   "source": [
    "prepare_res = builder.prepare_bot([\"bot that greets me by name\"], bot_id=\"1337_420\", capabilities=[])"
   ]
  },
  {
   "cell_type": "code",
   "execution_count": 8,
   "metadata": {},
   "outputs": [
    {
     "data": {
      "text/plain": [
       "ApplicationPrepareOut(refined_description=RefineOut(refined_description='', error_output=None), capabilities=CapabilitiesOut(capabilities=[], error_output=None), typespec=TypespecOut(reasoning=\"Based on the user's request, they want a bot that can greet them by name. This is a simple greeting bot that needs to:\\n1. Store a user's name\\n2. Greet the user with their name\\n3. Update the user's name if they want to change it\\n\\nSince TypeSpec needs appropriate models and interfaces, I'll create:\\n- A model for user information (name)\\n- Functions to:\\n  - Set/update the user's name\\n  - Get a greeting using the stored name\\n  - Reset the user's information\\n\\nThe scenarios would cover:\\n- Initial greeting with no name set\\n- Setting a name\\n- Greeting with a stored name\\n- Updating an existing name\\n- Resetting user information\", typespec_definitions='model UserInfo {\\n  name: string;\\n}\\n\\nmodel GreetingOptions {\\n  timeOfDay?: string;\\n  formal?: boolean;\\n}\\n\\nmodel EmptyRequest {\\n}\\n\\ninterface GreetingBot {\\n  @scenario(\\n  \"\"\"\\n  Scenario: Setting a user\\'s name\\n  When the user says \"My name is John\"\\n  Then system should store the name \"John\"\\n  And respond with a confirmation\\n  \\n  Examples:\\n  | Input                     | Expected Name |\\n  | \"Call me Sarah\"           | \"Sarah\"       |\\n  | \"I\\'m Michael\"             | \"Michael\"     |\\n  | \"Please call me Dr. Lee\"  | \"Dr. Lee\"     |\\n  \"\"\")\\n  @llm_func(\"Store the user\\'s name\")\\n  setUserName(options: UserInfo): void;\\n\\n  @scenario(\\n  \"\"\"\\n  Scenario: Greeting a user with stored name\\n  Given the system has stored name \"Alex\"\\n  When the user says \"Hello\" or \"Hi\"\\n  Then system should respond with a greeting including \"Alex\"\\n\\n  Scenario: Greeting a user at specific time of day\\n  Given the system has stored name \"Alex\"\\n  When the user says \"Good morning\"\\n  Then system should respond with a morning greeting for \"Alex\"\\n\\n  Examples:\\n  | Stored Name | Input          | Time       | Expected Response              |\\n  | \"Jamie\"     | \"Hello\"        | Any        | Contains \"Hello, Jamie\"        |\\n  | \"Pat\"       | \"Good morning\" | Morning    | Contains \"Good morning, Pat\"   |\\n  | \"Taylor\"    | \"Good evening\" | Evening    | Contains \"Good evening, Taylor\"|\\n  \"\"\")\\n  @llm_func(\"Generate a personalized greeting for the user\")\\n  getGreeting(options: GreetingOptions): string;\\n\\n  @scenario(\\n  \"\"\"\\n  Scenario: Updating an existing name\\n  Given the system has stored name \"Robert\"\\n  When the user says \"Actually, call me Bob\"\\n  Then system should update the name to \"Bob\"\\n  And confirm the name change\\n\\n  Examples:\\n  | Original Name | Input                        | New Name  |\\n  | \"Katherine\"   | \"I prefer to be called Kate\" | \"Kate\"    |\\n  | \"William\"     | \"Call me Bill instead\"       | \"Bill\"    |\\n  \"\"\")\\n  @llm_func(\"Change the user\\'s stored name\")\\n  updateUserName(options: UserInfo): void;\\n\\n  @scenario(\\n  \"\"\"\\n  Scenario: Resetting user information\\n  Given the system has stored name \"Jennifer\"\\n  When the user says \"Forget my information\" or \"Reset my data\"\\n  Then system should remove all stored user data\\n  And confirm the reset\\n\\n  Examples:\\n  | Input                  | Result            |\\n  | \"Forget my name\"       | Data is cleared   |\\n  | \"Reset my information\" | Data is cleared   |\\n  \"\"\")\\n  @llm_func(\"Remove all stored user information\")\\n  resetUserData(options: EmptyRequest): void;\\n}', llm_functions=[LLMFunction(name='setUserName', description=\"Store the user's name\", scenario='Scenario: Setting a user\\'s name\\n  When the user says \"My name is John\"\\n  Then system should store the name \"John\"\\n  And respond with a confirmation\\n  \\n  Examples:\\n  | Input                     | Expected Name |\\n  | \"Call me Sarah\"           | \"Sarah\"       |\\n  | \"I\\'m Michael\"             | \"Michael\"     |\\n  | \"Please call me Dr. Lee\"  | \"Dr. Lee\"     |'), LLMFunction(name='getGreeting', description='Generate a personalized greeting for the user', scenario='Scenario: Greeting a user with stored name\\n  Given the system has stored name \"Alex\"\\n  When the user says \"Hello\" or \"Hi\"\\n  Then system should respond with a greeting including \"Alex\"\\n\\n  Scenario: Greeting a user at specific time of day\\n  Given the system has stored name \"Alex\"\\n  When the user says \"Good morning\"\\n  Then system should respond with a morning greeting for \"Alex\"\\n\\n  Examples:\\n  | Stored Name | Input          | Time       | Expected Response              |\\n  | \"Jamie\"     | \"Hello\"        | Any        | Contains \"Hello, Jamie\"        |\\n  | \"Pat\"       | \"Good morning\" | Morning    | Contains \"Good morning, Pat\"   |\\n  | \"Taylor\"    | \"Good evening\" | Evening    | Contains \"Good evening, Taylor\"|'), LLMFunction(name='updateUserName', description=\"Change the user's stored name\", scenario='Scenario: Updating an existing name\\n  Given the system has stored name \"Robert\"\\n  When the user says \"Actually, call me Bob\"\\n  Then system should update the name to \"Bob\"\\n  And confirm the name change\\n\\n  Examples:\\n  | Original Name | Input                        | New Name  |\\n  | \"Katherine\"   | \"I prefer to be called Kate\" | \"Kate\"    |\\n  | \"William\"     | \"Call me Bill instead\"       | \"Bill\"    |'), LLMFunction(name='resetUserData', description='Remove all stored user information', scenario='Scenario: Resetting user information\\n  Given the system has stored name \"Jennifer\"\\n  When the user says \"Forget my information\" or \"Reset my data\"\\n  Then system should remove all stored user data\\n  And confirm the reset\\n\\n  Examples:\\n  | Input                  | Result            |\\n  | \"Forget my name\"       | Data is cleared   |\\n  | \"Reset my information\" | Data is cleared   |')], error_output=None), status='success')"
      ]
     },
     "execution_count": 8,
     "metadata": {},
     "output_type": "execute_result"
    }
   ],
   "source": [
    "prepare_res"
   ]
  },
  {
   "cell_type": "code",
   "execution_count": 9,
   "metadata": {},
   "outputs": [
    {
     "data": {
      "text/plain": [
       "'model UserInfo {\\n  name: string;\\n}\\n\\nmodel GreetingOptions {\\n  timeOfDay?: string;\\n  formal?: boolean;\\n}\\n\\nmodel EmptyRequest {\\n}\\n\\ninterface GreetingBot {\\n  @scenario(\\n  \"\"\"\\n  Scenario: Setting a user\\'s name\\n  When the user says \"My name is John\"\\n  Then system should store the name \"John\"\\n  And respond with a confirmation\\n  \\n  Examples:\\n  | Input                     | Expected Name |\\n  | \"Call me Sarah\"           | \"Sarah\"       |\\n  | \"I\\'m Michael\"             | \"Michael\"     |\\n  | \"Please call me Dr. Lee\"  | \"Dr. Lee\"     |\\n  \"\"\")\\n  @llm_func(\"Store the user\\'s name\")\\n  setUserName(options: UserInfo): void;\\n\\n  @scenario(\\n  \"\"\"\\n  Scenario: Greeting a user with stored name\\n  Given the system has stored name \"Alex\"\\n  When the user says \"Hello\" or \"Hi\"\\n  Then system should respond with a greeting including \"Alex\"\\n\\n  Scenario: Greeting a user at specific time of day\\n  Given the system has stored name \"Alex\"\\n  When the user says \"Good morning\"\\n  Then system should respond with a morning greeting for \"Alex\"\\n\\n  Examples:\\n  | Stored Name | Input          | Time       | Expected Response              |\\n  | \"Jamie\"     | \"Hello\"        | Any        | Contains \"Hello, Jamie\"        |\\n  | \"Pat\"       | \"Good morning\" | Morning    | Contains \"Good morning, Pat\"   |\\n  | \"Taylor\"    | \"Good evening\" | Evening    | Contains \"Good evening, Taylor\"|\\n  \"\"\")\\n  @llm_func(\"Generate a personalized greeting for the user\")\\n  getGreeting(options: GreetingOptions): string;\\n\\n  @scenario(\\n  \"\"\"\\n  Scenario: Updating an existing name\\n  Given the system has stored name \"Robert\"\\n  When the user says \"Actually, call me Bob\"\\n  Then system should update the name to \"Bob\"\\n  And confirm the name change\\n\\n  Examples:\\n  | Original Name | Input                        | New Name  |\\n  | \"Katherine\"   | \"I prefer to be called Kate\" | \"Kate\"    |\\n  | \"William\"     | \"Call me Bill instead\"       | \"Bill\"    |\\n  \"\"\")\\n  @llm_func(\"Change the user\\'s stored name\")\\n  updateUserName(options: UserInfo): void;\\n\\n  @scenario(\\n  \"\"\"\\n  Scenario: Resetting user information\\n  Given the system has stored name \"Jennifer\"\\n  When the user says \"Forget my information\" or \"Reset my data\"\\n  Then system should remove all stored user data\\n  And confirm the reset\\n\\n  Examples:\\n  | Input                  | Result            |\\n  | \"Forget my name\"       | Data is cleared   |\\n  | \"Reset my information\" | Data is cleared   |\\n  \"\"\")\\n  @llm_func(\"Remove all stored user information\")\\n  resetUserData(options: EmptyRequest): void;\\n}'"
      ]
     },
     "execution_count": 9,
     "metadata": {},
     "output_type": "execute_result"
    }
   ],
   "source": [
    "prepare_res.typespec.typespec_definitions"
   ]
  },
  {
   "cell_type": "code",
   "execution_count": 10,
   "metadata": {},
   "outputs": [
    {
     "data": {
      "text/plain": [
       "'<reasoning>Based on the user\\'s request, they want a bot that can greet them by name. This is a simple greeting bot that needs to:\\n1. Store a user\\'s name\\n2. Greet the user with their name\\n3. Update the user\\'s name if they want to change it\\n\\nSince TypeSpec needs appropriate models and interfaces, I\\'ll create:\\n- A model for user information (name)\\n- Functions to:\\n  - Set/update the user\\'s name\\n  - Get a greeting using the stored name\\n  - Reset the user\\'s information\\n\\nThe scenarios would cover:\\n- Initial greeting with no name set\\n- Setting a name\\n- Greeting with a stored name\\n- Updating an existing name\\n- Resetting user information</reasoning><typespec>model UserInfo {\\n  name: string;\\n}\\n\\nmodel GreetingOptions {\\n  timeOfDay?: string;\\n  formal?: boolean;\\n}\\n\\nmodel EmptyRequest {\\n}\\n\\ninterface GreetingBot {\\n  @scenario(\\n  \"\"\"\\n  Scenario: Setting a user\\'s name\\n  When the user says \"My name is John\"\\n  Then system should store the name \"John\"\\n  And respond with a confirmation\\n  \\n  Examples:\\n  | Input                     | Expected Name |\\n  | \"Call me Sarah\"           | \"Sarah\"       |\\n  | \"I\\'m Michael\"             | \"Michael\"     |\\n  | \"Please call me Dr. Lee\"  | \"Dr. Lee\"     |\\n  \"\"\")\\n  @llm_func(\"Store the user\\'s name\")\\n  setUserName(options: UserInfo): void;\\n\\n  @scenario(\\n  \"\"\"\\n  Scenario: Greeting a user with stored name\\n  Given the system has stored name \"Alex\"\\n  When the user says \"Hello\" or \"Hi\"\\n  Then system should respond with a greeting including \"Alex\"\\n\\n  Scenario: Greeting a user at specific time of day\\n  Given the system has stored name \"Alex\"\\n  When the user says \"Good morning\"\\n  Then system should respond with a morning greeting for \"Alex\"\\n\\n  Examples:\\n  | Stored Name | Input          | Time       | Expected Response              |\\n  | \"Jamie\"     | \"Hello\"        | Any        | Contains \"Hello, Jamie\"        |\\n  | \"Pat\"       | \"Good morning\" | Morning    | Contains \"Good morning, Pat\"   |\\n  | \"Taylor\"    | \"Good evening\" | Evening    | Contains \"Good evening, Taylor\"|\\n  \"\"\")\\n  @llm_func(\"Generate a personalized greeting for the user\")\\n  getGreeting(options: GreetingOptions): string;\\n\\n  @scenario(\\n  \"\"\"\\n  Scenario: Updating an existing name\\n  Given the system has stored name \"Robert\"\\n  When the user says \"Actually, call me Bob\"\\n  Then system should update the name to \"Bob\"\\n  And confirm the name change\\n\\n  Examples:\\n  | Original Name | Input                        | New Name  |\\n  | \"Katherine\"   | \"I prefer to be called Kate\" | \"Kate\"    |\\n  | \"William\"     | \"Call me Bill instead\"       | \"Bill\"    |\\n  \"\"\")\\n  @llm_func(\"Change the user\\'s stored name\")\\n  updateUserName(options: UserInfo): void;\\n\\n  @scenario(\\n  \"\"\"\\n  Scenario: Resetting user information\\n  Given the system has stored name \"Jennifer\"\\n  When the user says \"Forget my information\" or \"Reset my data\"\\n  Then system should remove all stored user data\\n  And confirm the reset\\n\\n  Examples:\\n  | Input                  | Result            |\\n  | \"Forget my name\"       | Data is cleared   |\\n  | \"Reset my information\" | Data is cleared   |\\n  \"\"\")\\n  @llm_func(\"Remove all stored user information\")\\n  resetUserData(options: EmptyRequest): void;\\n}</typespec>'"
      ]
     },
     "execution_count": 10,
     "metadata": {},
     "output_type": "execute_result"
    }
   ],
   "source": [
    "reasoning = prepare_res.typespec.reasoning\n",
    "typespec_schema = prepare_res.typespec.typespec_definitions\n",
    "fake_msg = f\"<reasoning>{reasoning}</reasoning><typespec>{typespec_schema}</typespec>\"\n",
    "\n",
    "fake_msg"
   ]
  },
  {
   "cell_type": "code",
   "execution_count": 12,
   "metadata": {},
   "outputs": [
    {
     "name": "stderr",
     "output_type": "stream",
     "text": [
      "Langfuse client is disabled since no public_key was provided as a parameter or environment variable 'LANGFUSE_PUBLIC_KEY'. See our docs: https://langfuse.com/docs/sdk/python/low-level-sdk#initialize-client\n"
     ]
    }
   ],
   "source": [
    "builder = Application(m_client, compiler)\n",
    "\n",
    "final_res = builder.update_bot(\n",
    "    typespec_schema=fake_msg,\n",
    "    bot_id=\"1337_420\",\n",
    "    capabilities=[],\n",
    ")"
   ]
  },
  {
   "cell_type": "code",
   "execution_count": 9,
   "metadata": {},
   "outputs": [
    {
     "data": {
      "text/plain": [
       "ApplicationOut(refined_description=RefineOut(refined_description='', error_output=None), capabilities=CapabilitiesOut(capabilities=[], error_output=None), typespec=TypespecOut(reasoning=\"The user requested a bot that greets them by name. This is a simple use case where the bot needs to:\\n1. Store and retrieve the user's name\\n2. Generate appropriate greetings based on the user's name\\n3. Potentially support different greeting styles or times of day\\n\\nFor this bot, we need:\\n- A model to represent the user's information (name)\\n- A model for greeting options (time of day, style)\\n- Functions to set the user's name and to generate greetings\\n\\nThe interface should support:\\n- Setting the user's name\\n- Getting a greeting with the user's name\\n- Possibly updating greeting preferences\", typespec_definitions='model UserInfo {\\n  name: string;\\n}\\n\\nmodel GreetingOptions {\\n  timeOfDay: string;\\n  style: string;\\n}\\n\\nmodel UpdateNameOptions {\\n  name: string;\\n}\\n\\ninterface GreetingBot {\\n  @scenario(\\n  \"\"\"\\n  Scenario: Setting a user\\'s name\\n  When the user says \"My name is John\"\\n  Then the system should extract \"John\" as the name\\n  And store it for future greetings\\n  Examples:\\n      | Input                      | Expected Name |\\n      | \"Call me Sarah\"            | \"Sarah\"       |\\n      | \"I am Robert Johnson\"      | \"Robert Johnson\" |\\n      | \"You can refer to me as Alex\" | \"Alex\"      |\\n  \"\"\")\\n  @llm_func(\"Store a user\\'s name for personalized greetings\")\\n  setUserName(options: UpdateNameOptions): void;\\n\\n  @scenario(\\n  \"\"\"\\n  Scenario: Greeting a user by name\\n  When the user requests a greeting\\n  Then the system should return a personalized greeting using their stored name\\n  Examples:\\n      | Stored Name | Time of Day | Expected Greeting               |\\n      | \"John\"      | \"morning\"   | \"Good morning, John!\"           |\\n      | \"Sarah\"     | \"evening\"   | \"Good evening, Sarah!\"          |\\n      | \"Alex\"      | \"afternoon\" | \"Good afternoon, Alex!\"         |\\n  \"\"\")\\n  @scenario(\\n  \"\"\"\\n  Scenario: Greeting with custom style\\n  When the user requests a greeting with a specific style\\n  Then the system should incorporate that style into the personalized greeting\\n  Examples:\\n      | Stored Name | Style       | Expected Greeting               |\\n      | \"John\"      | \"formal\"    | \"Greetings, Mr. John.\"          |\\n      | \"Sarah\"     | \"casual\"    | \"Hey Sarah! What\\'s up?\"         |\\n      | \"Alex\"      | \"funny\"     | \"Well hello there, Alex-a-rino!\"|\\n  \"\"\")\\n  @llm_func(\"Generate a personalized greeting based on the user\\'s name\")\\n  getGreeting(options: GreetingOptions): string;\\n}', llm_functions=[LLMFunction(name='setUserName', description=\"Store a user's name for personalized greetings\", scenario='Scenario: Setting a user\\'s name\\n  When the user says \"My name is John\"\\n  Then the system should extract \"John\" as the name\\n  And store it for future greetings\\n  Examples:\\n      | Input                      | Expected Name |\\n      | \"Call me Sarah\"            | \"Sarah\"       |\\n      | \"I am Robert Johnson\"      | \"Robert Johnson\" |\\n      | \"You can refer to me as Alex\" | \"Alex\"      |'), LLMFunction(name='getGreeting', description=\"Generate a personalized greeting based on the user's name\", scenario='Scenario: Greeting with custom style\\n  When the user requests a greeting with a specific style\\n  Then the system should incorporate that style into the personalized greeting\\n  Examples:\\n      | Stored Name | Style       | Expected Greeting               |\\n      | \"John\"      | \"formal\"    | \"Greetings, Mr. John.\"          |\\n      | \"Sarah\"     | \"casual\"    | \"Hey Sarah! What\\'s up?\"         |\\n      | \"Alex\"      | \"funny\"     | \"Well hello there, Alex-a-rino!\"|')], error_output=None), drizzle=DrizzleOut(reasoning=\"Looking at the TypeSpec definition, I can identify key entities:\\n\\n1. User information - From UserInfo model which contains a name property\\n2. Greeting functionality - Based on the GreetingBot interface\\n3. Name updates - The UpdateNameOptions model\\n\\nThe application needs to:\\n- Store user information (name)\\n- Handle greeting operations with different styles and times of day\\n- Update user names\\n\\nFor a proper database schema, I'll need to:\\n1. Create a users table to store user information\\n2. Since the greeting functionality is stateless (just generates text), no additional table is needed for it\\n3. No need for a separate table for name updates as it's just an operation\\n\\nThere's no explicit identifier for users in the TypeSpec, so I'll add an id field as the primary key.\", drizzle_schema='import { pgTable, text, timestamp, uuid } from \"drizzle-orm/pg-core\";\\n\\n/**\\n * Users table to store user information\\n * Includes an auto-generated UUID as primary key and the user\\'s name\\n */\\nexport const usersTable = pgTable(\"users\", {\\n  id: uuid(\"id\").defaultRandom().primaryKey(),\\n  name: text(\"name\").notNull(),\\n  created_at: timestamp(\"created_at\").defaultNow().notNull(),\\n  updated_at: timestamp(\"updated_at\").defaultNow().notNull()\\n});\\n\\n/**\\n * Note: No need for additional tables for GreetingOptions or UpdateNameOptions \\n * as these are input models for operations rather than persistent data structures.\\n * The greeting functionality is stateless and doesn\\'t require database storage.\\n */', error_output=None), handlers={'setUserName': HandlerOut(name='setUserName', handler='import { db } from \"../db\";\\nimport { setUserName, type UpdateNameOptions } from \"../common/schema\";\\nimport { usersTable } from \"../db/schema/application\";\\nimport { eq } from \"drizzle-orm\";\\n\\nexport const handle: typeof setUserName = async (options: UpdateNameOptions): Promise<void> => {\\n  // First, check if any user exists at all\\n  const allUsers = await db\\n    .select()\\n    .from(usersTable)\\n    .execute();\\n  \\n  if (allUsers.length > 0) {\\n    // If at least one user exists, update that user (assuming single-user system)\\n    await db\\n      .update(usersTable)\\n      .set({\\n        name: options.name,\\n        updated_at: new Date() // Ensure updated_at is correctly updated\\n      })\\n      .execute();\\n  } else {\\n    // If no users exist, create a new one\\n    await db\\n      .insert(usersTable)\\n      .values({\\n        name: options.name,\\n        created_at: new Date(),\\n        updated_at: new Date()\\n      })\\n      .execute();\\n  }\\n  \\n  return;\\n};', argument_schema='updateNameOptionsSchema', error_output=None), 'getGreeting': HandlerOut(name='getGreeting', handler=None, argument_schema='greetingOptionsSchema', error_output=None)}, handler_tests={'getGreeting': HandlerTestsOut(name='getGreeting', content='\\nimport { afterEach, beforeEach, describe } from \"bun:test\";\\nimport { resetDB, createDB } from \"../../helpers\";\\nimport { expect, it } from \"bun:test\";\\nimport { type GreetingOptions } from \"../../common/schema\";\\nimport { getGreeting } from \"../../common/schema\";\\n\\nimport { handle as getGreeting } from \"../../handlers/getGreeting.ts\";\\n\\n\\ndescribe(\"\", () => {\\n    beforeEach(async () => {\\n        await createDB();\\n    });\\n\\n    afterEach(async () => {\\n        await resetDB();\\n    });\\n    \\n    \\n    it(\"should return morning greeting\", async () => {\\n      const options: GreetingOptions = { \\n        timeOfDay: \"morning\", \\n        style: \"casual\" \\n      };\\n      \\n      const greeting = await getGreeting(options);\\n      \\n      expect(greeting).toContain(\"morning\");\\n      expect(typeof greeting).toBe(\"string\");\\n    });\\n\\n    \\n    \\n    it(\"should return evening greeting\", async () => {\\n      const options: GreetingOptions = { \\n        timeOfDay: \"evening\", \\n        style: \"casual\" \\n      };\\n      \\n      const greeting = await getGreeting(options);\\n      \\n      expect(greeting).toContain(\"evening\");\\n      expect(typeof greeting).toBe(\"string\");\\n    });\\n\\n    \\n    \\n    it(\"should return formal style greeting\", async () => {\\n      const options: GreetingOptions = { \\n        timeOfDay: \"afternoon\", \\n        style: \"formal\" \\n      };\\n      \\n      const greeting = await getGreeting(options);\\n      \\n      expect(greeting).toContain(\"afternoon\");\\n      expect(greeting.length).toBeGreaterThan(0);\\n      expect(typeof greeting).toBe(\"string\");\\n    });\\n\\n    \\n    \\n    it(\"should include style in greeting response\", async () => {\\n      const casualOptions: GreetingOptions = { \\n        timeOfDay: \"afternoon\", \\n        style: \"casual\" \\n      };\\n      const formalOptions: GreetingOptions = { \\n        timeOfDay: \"afternoon\", \\n        style: \"formal\" \\n      };\\n      \\n      const casualGreeting = await getGreeting(casualOptions);\\n      const formalGreeting = await getGreeting(formalOptions);\\n      \\n      expect(casualGreeting).not.toEqual(formalGreeting);\\n    });\\n\\n    \\n    \\n    it(\"should handle empty timeOfDay with default greeting\", async () => {\\n      const options: GreetingOptions = { \\n        timeOfDay: \"\", \\n        style: \"casual\" \\n      };\\n      \\n      const greeting = await getGreeting(options);\\n      \\n      expect(greeting.length).toBeGreaterThan(0);\\n      expect(typeof greeting).toBe(\"string\");\\n    });\\n\\n    \\n});', error_output=None), 'setUserName': HandlerTestsOut(name='setUserName', content='\\nimport { afterEach, beforeEach, describe } from \"bun:test\";\\nimport { resetDB, createDB } from \"../../helpers\";\\nimport { expect, it } from \"bun:test\";\\nimport { db } from \"../../db\";\\nimport { usersTable } from \"../../db/schema/application\";\\nimport { type UpdateNameOptions } from \"../../common/schema\";\\nimport { eq } from \"drizzle-orm\";\\n\\nimport { handle as setUserName } from \"../../handlers/setUserName.ts\";\\n\\n\\ndescribe(\"\", () => {\\n    beforeEach(async () => {\\n        await createDB();\\n    });\\n\\n    afterEach(async () => {\\n        await resetDB();\\n    });\\n    \\n    \\n    it(\"should create a new user when no user exists\", async () => {\\n      const input: UpdateNameOptions = { name: \"John Doe\" };\\n      await setUserName(input);\\n      \\n      const users = await db.select().from(usersTable).execute();\\n      expect(users).toHaveLength(1);\\n      expect(users[0].name).toEqual(\"John Doe\");\\n    });\\n\\n    \\n    \\n    it(\"should update the user\\'s name when a user already exists\", async () => {\\n      // Create initial user\\n      await db.insert(usersTable).values({\\n        name: \"Initial Name\"\\n      });\\n      \\n      // Verify initial state\\n      let users = await db.select().from(usersTable).execute();\\n      expect(users).toHaveLength(1);\\n      expect(users[0].name).toEqual(\"Initial Name\");\\n      \\n      // Update user name\\n      const input: UpdateNameOptions = { name: \"Updated Name\" };\\n      await setUserName(input);\\n      \\n      // Verify name was updated\\n      users = await db.select().from(usersTable).execute();\\n      expect(users).toHaveLength(1);\\n      expect(users[0].name).toEqual(\"Updated Name\");\\n    });\\n\\n    \\n    \\n    it(\"should maintain created_at timestamp when updating name\", async () => {\\n      // Create initial user\\n      await db.insert(usersTable).values({\\n        name: \"Initial Name\"\\n      });\\n      \\n      // Get original timestamp\\n      const initialUser = await db.select().from(usersTable).execute();\\n      const originalCreatedAt = initialUser[0].created_at;\\n      \\n      // Wait briefly to ensure timestamps would differ if not preserved\\n      await new Promise(resolve => setTimeout(resolve, 10));\\n      \\n      // Update user name\\n      const input: UpdateNameOptions = { name: \"New Name\" };\\n      await setUserName(input);\\n      \\n      // Verify created_at timestamp was preserved\\n      const updatedUser = await db.select().from(usersTable).execute();\\n      expect(updatedUser[0].created_at).toEqual(originalCreatedAt);\\n    });\\n\\n    \\n    \\n    it(\"should update the updated_at timestamp when updating name\", async () => {\\n      // Create initial user\\n      await db.insert(usersTable).values({\\n        name: \"Initial Name\"\\n      });\\n      \\n      // Get original timestamp\\n      const initialUser = await db.select().from(usersTable).execute();\\n      const originalUpdatedAt = initialUser[0].updated_at;\\n      \\n      // Wait briefly to ensure timestamps would differ\\n      await new Promise(resolve => setTimeout(resolve, 10));\\n      \\n      // Update user name\\n      const input: UpdateNameOptions = { name: \"New Name\" };\\n      await setUserName(input);\\n      \\n      // Verify updated_at timestamp was updated\\n      const updatedUser = await db.select().from(usersTable).execute();\\n      expect(updatedUser[0].updated_at).not.toEqual(originalUpdatedAt);\\n    });\\n\\n    \\n    \\n    it(\"should handle empty string name appropriately\", async () => {\\n      const input: UpdateNameOptions = { name: \"\" };\\n      \\n      try {\\n        await setUserName(input);\\n        \\n        // If function accepts empty strings, verify it was saved correctly\\n        const users = await db.select().from(usersTable).execute();\\n        expect(users).toHaveLength(1);\\n        expect(users[0].name).toEqual(\"\");\\n      } catch (error) {\\n        // If function rejects empty strings, verify error was thrown\\n        expect(error).toBeDefined();\\n      }\\n    });\\n\\n    \\n});', error_output=None)}, typescript_schema=TypescriptOut(reasoning=\"The application is a greeting bot that:\\n1. Can store a user's name for personalized greetings\\n2. Can generate personalized greetings based on the user's name, time of day, and style\\n\\nThe TypeSpec defines:\\n- `UserInfo` model with a name property\\n- `GreetingOptions` model with timeOfDay and style properties\\n- `UpdateNameOptions` model with a name property\\n- `GreetingBot` interface with two functions:\\n  - `setUserName` to store a user's name\\n  - `getGreeting` to generate a personalized greeting\\n\\nI need to convert these models to Zod schemas and create TypeScript type definitions based on them. The interface functions should be declared as async functions that return Promises.\", typescript_schema=\"import { z } from 'zod';\\n\\nexport const userInfoSchema = z.object({\\n  name: z.string(),\\n});\\n\\nexport type UserInfo = z.infer<typeof userInfoSchema>;\\n\\nexport const greetingOptionsSchema = z.object({\\n  timeOfDay: z.string(),\\n  style: z.string(),\\n});\\n\\nexport type GreetingOptions = z.infer<typeof greetingOptionsSchema>;\\n\\nexport const updateNameOptionsSchema = z.object({\\n  name: z.string(),\\n});\\n\\nexport type UpdateNameOptions = z.infer<typeof updateNameOptionsSchema>;\\n\\nexport declare function setUserName(options: UpdateNameOptions): Promise<void>;\\nexport declare function getGreeting(options: GreetingOptions): Promise<string>;\", functions=[FunctionDeclaration(name='setUserName', argument_type='UpdateNameOptions', argument_schema='updateNameOptionsSchema', return_type='Promise<void>'), FunctionDeclaration(name='getGreeting', argument_type='GreetingOptions', argument_schema='greetingOptionsSchema', return_type='Promise<string>')], error_output=None), gherkin=GherkinOut(reasoning=None, gherkin=None, error_output=None), trace_id='86a59baa1a6a4765b7cf23cd08e4ea1c')"
      ]
     },
     "execution_count": 9,
     "metadata": {},
     "output_type": "execute_result"
    }
   ],
   "source": [
    "final_res"
   ]
  },
  {
   "cell_type": "code",
   "execution_count": 14,
   "metadata": {},
   "outputs": [],
   "source": [
    "from core.interpolator import Interpolator\n",
    "\n",
    "import os\n",
    "\n",
    "# Create the botbuild directory if it doesn't exist\n",
    "if not os.path.exists(\"../botbuild\"):\n",
    "    os.makedirs(\"../botbuild\")\n",
    "\n",
    "interpolator = Interpolator(\".\")\n",
    "\n",
    "interpolator.bake(final_res, \"../../bot_result\")\n"
   ]
  },
  {
   "cell_type": "code",
   "execution_count": null,
   "metadata": {},
   "outputs": [],
   "source": []
  }
 ],
 "metadata": {
  "kernelspec": {
   "display_name": ".venv",
   "language": "python",
   "name": "python3"
  },
  "language_info": {
   "codemirror_mode": {
    "name": "ipython",
    "version": 3
   },
   "file_extension": ".py",
   "mimetype": "text/x-python",
   "name": "python",
   "nbconvert_exporter": "python",
   "pygments_lexer": "ipython3",
   "version": "3.12.3"
  }
 },
 "nbformat": 4,
 "nbformat_minor": 2
}
