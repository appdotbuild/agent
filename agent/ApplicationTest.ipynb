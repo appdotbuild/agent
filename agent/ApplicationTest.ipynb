{
 "cells": [
  {
   "cell_type": "code",
   "execution_count": 3,
   "metadata": {},
   "outputs": [],
   "source": [
    "from langfuse import Langfuse\n",
    "from fsm_core.llm_common import get_sync_client\n",
    "from compiler.core import Compiler\n",
    "from application import Application"
   ]
  },
  {
   "cell_type": "code",
   "execution_count": 4,
   "metadata": {},
   "outputs": [
    {
     "name": "stderr",
     "output_type": "stream",
     "text": [
      "Langfuse client is disabled since no public_key was provided as a parameter or environment variable 'LANGFUSE_PUBLIC_KEY'. See our docs: https://langfuse.com/docs/sdk/python/low-level-sdk#initialize-client\n"
     ]
    }
   ],
   "source": [
    "langfuse_client = Langfuse()\n",
    "compiler = Compiler(\"botbuild/tsp_compiler\", \"botbuild/app_schema\")\n",
    "m_client = get_sync_client(\"bedrock\", client_params={\"aws_profile\":\"dev\", \"aws_region\": \"us-west-2\"})"
   ]
  },
  {
   "cell_type": "code",
   "execution_count": 5,
   "metadata": {},
   "outputs": [
    {
     "name": "stderr",
     "output_type": "stream",
     "text": [
      "Langfuse client is disabled since no public_key was provided as a parameter or environment variable 'LANGFUSE_PUBLIC_KEY'. See our docs: https://langfuse.com/docs/sdk/python/low-level-sdk#initialize-client\n"
     ]
    }
   ],
   "source": [
    "from application import InteractionMode\n",
    "builder = Application(m_client, compiler, interaction_mode=InteractionMode.INTERACTIVE)"
   ]
  },
  {
   "cell_type": "code",
   "execution_count": 6,
   "metadata": {},
   "outputs": [],
   "source": [
    "prepare_res = builder.prepare_bot([\"bot that greets me by name\"], bot_id=\"1337_420\", capabilities=[])"
   ]
  },
  {
   "cell_type": "code",
   "execution_count": 7,
   "metadata": {},
   "outputs": [
    {
     "data": {
      "text/plain": [
       "ApplicationPrepareOut(refined_description=RefineOut(refined_description='', error_output=None), capabilities=CapabilitiesOut(capabilities=[], error_output=None), typespec=TypespecOut(reasoning='Based on the user request, I need to design a bot that can greet a user by name. This is a fairly simple use case, but I\\'ll need to model it properly in TypeSpec.\\n\\nThe primary function will be to greet the user by their name. The bot will need to:\\n1. Take a user\\'s name as input\\n2. Generate a personalized greeting\\n3. Return the greeting response\\n\\nFor the data model, I\\'ll need:\\n- A request model that contains the user\\'s name\\n- A response model that contains the greeting\\n\\nFor the scenarios, I should cover:\\n- Basic greeting with a name\\n- Greeting at different times of day (morning, afternoon, evening)\\n- Handling different greeting styles (formal, casual)\\n\\nThe function will be called \"greetUser\" since that\\'s the primary action.', typespec_definitions='model GreetingRequest {\\n  name: string;\\n  timeOfDay?: string;\\n  style?: string;\\n}\\n\\nmodel GreetingResponse {\\n  message: string;\\n  timestamp: utcDateTime;\\n}\\n\\ninterface GreetingBot {\\n  @scenario(\\n  \"\"\"\\n  Scenario: Basic greeting\\n  When user provides their name\\n  Then system should respond with a personalized greeting\\n  Examples:\\n    | Input  | Expected Output        |\\n    | \"John\" | \"Hello, John!\"         |\\n    | \"Jane\" | \"Hello, Jane!\"         |\\n  \"\"\")\\n  @scenario(\\n  \"\"\"\\n  Scenario: Time-specific greeting\\n  When user provides their name and time of day\\n  Then system should respond with a time-appropriate greeting\\n  Examples:\\n    | Name   | Time of Day | Expected Output             |\\n    | \"John\" | \"morning\"   | \"Good morning, John!\"       |\\n    | \"Jane\" | \"evening\"   | \"Good evening, Jane!\"       |\\n  \"\"\")\\n  @scenario(\\n  \"\"\"\\n  Scenario: Style-specific greeting\\n  When user provides their name and preferred style\\n  Then system should respond with a greeting in the requested style\\n  Examples:\\n    | Name   | Style     | Expected Output             |\\n    | \"John\" | \"formal\"  | \"Greetings, Mr. John.\"      |\\n    | \"Jane\" | \"casual\"  | \"Hey Jane! What\\'s up?\"      |\\n  \"\"\")\\n  @llm_func(\"Generate a personalized greeting for the user\")\\n  greetUser(options: GreetingRequest): GreetingResponse;\\n}', llm_functions=[LLMFunction(name='greetUser', description='Generate a personalized greeting for the user', scenario='Scenario: Style-specific greeting\\n  When user provides their name and preferred style\\n  Then system should respond with a greeting in the requested style\\n  Examples:\\n    | Name   | Style     | Expected Output             |\\n    | \"John\" | \"formal\"  | \"Greetings, Mr. John.\"      |\\n    | \"Jane\" | \"casual\"  | \"Hey Jane! What\\'s up?\"      |')], error_output=None), status='success')"
      ]
     },
     "execution_count": 7,
     "metadata": {},
     "output_type": "execute_result"
    }
   ],
   "source": [
    "prepare_res"
   ]
  },
  {
   "cell_type": "code",
   "execution_count": 8,
   "metadata": {},
   "outputs": [
    {
     "data": {
      "text/plain": [
       "'model GreetingRequest {\\n  name: string;\\n  timeOfDay?: string;\\n  style?: string;\\n}\\n\\nmodel GreetingResponse {\\n  message: string;\\n  timestamp: utcDateTime;\\n}\\n\\ninterface GreetingBot {\\n  @scenario(\\n  \"\"\"\\n  Scenario: Basic greeting\\n  When user provides their name\\n  Then system should respond with a personalized greeting\\n  Examples:\\n    | Input  | Expected Output        |\\n    | \"John\" | \"Hello, John!\"         |\\n    | \"Jane\" | \"Hello, Jane!\"         |\\n  \"\"\")\\n  @scenario(\\n  \"\"\"\\n  Scenario: Time-specific greeting\\n  When user provides their name and time of day\\n  Then system should respond with a time-appropriate greeting\\n  Examples:\\n    | Name   | Time of Day | Expected Output             |\\n    | \"John\" | \"morning\"   | \"Good morning, John!\"       |\\n    | \"Jane\" | \"evening\"   | \"Good evening, Jane!\"       |\\n  \"\"\")\\n  @scenario(\\n  \"\"\"\\n  Scenario: Style-specific greeting\\n  When user provides their name and preferred style\\n  Then system should respond with a greeting in the requested style\\n  Examples:\\n    | Name   | Style     | Expected Output             |\\n    | \"John\" | \"formal\"  | \"Greetings, Mr. John.\"      |\\n    | \"Jane\" | \"casual\"  | \"Hey Jane! What\\'s up?\"      |\\n  \"\"\")\\n  @llm_func(\"Generate a personalized greeting for the user\")\\n  greetUser(options: GreetingRequest): GreetingResponse;\\n}'"
      ]
     },
     "execution_count": 8,
     "metadata": {},
     "output_type": "execute_result"
    }
   ],
   "source": [
    "prepare_res.typespec.typespec_definitions"
   ]
  },
  {
   "cell_type": "code",
   "execution_count": 9,
   "metadata": {},
   "outputs": [
    {
     "data": {
      "text/plain": [
       "'<reasoning>Based on the user request, I need to design a bot that can greet a user by name. This is a fairly simple use case, but I\\'ll need to model it properly in TypeSpec.\\n\\nThe primary function will be to greet the user by their name. The bot will need to:\\n1. Take a user\\'s name as input\\n2. Generate a personalized greeting\\n3. Return the greeting response\\n\\nFor the data model, I\\'ll need:\\n- A request model that contains the user\\'s name\\n- A response model that contains the greeting\\n\\nFor the scenarios, I should cover:\\n- Basic greeting with a name\\n- Greeting at different times of day (morning, afternoon, evening)\\n- Handling different greeting styles (formal, casual)\\n\\nThe function will be called \"greetUser\" since that\\'s the primary action.</reasoning><typespec>model GreetingRequest {\\n  name: string;\\n  timeOfDay?: string;\\n  style?: string;\\n}\\n\\nmodel GreetingResponse {\\n  message: string;\\n  timestamp: utcDateTime;\\n}\\n\\ninterface GreetingBot {\\n  @scenario(\\n  \"\"\"\\n  Scenario: Basic greeting\\n  When user provides their name\\n  Then system should respond with a personalized greeting\\n  Examples:\\n    | Input  | Expected Output        |\\n    | \"John\" | \"Hello, John!\"         |\\n    | \"Jane\" | \"Hello, Jane!\"         |\\n  \"\"\")\\n  @scenario(\\n  \"\"\"\\n  Scenario: Time-specific greeting\\n  When user provides their name and time of day\\n  Then system should respond with a time-appropriate greeting\\n  Examples:\\n    | Name   | Time of Day | Expected Output             |\\n    | \"John\" | \"morning\"   | \"Good morning, John!\"       |\\n    | \"Jane\" | \"evening\"   | \"Good evening, Jane!\"       |\\n  \"\"\")\\n  @scenario(\\n  \"\"\"\\n  Scenario: Style-specific greeting\\n  When user provides their name and preferred style\\n  Then system should respond with a greeting in the requested style\\n  Examples:\\n    | Name   | Style     | Expected Output             |\\n    | \"John\" | \"formal\"  | \"Greetings, Mr. John.\"      |\\n    | \"Jane\" | \"casual\"  | \"Hey Jane! What\\'s up?\"      |\\n  \"\"\")\\n  @llm_func(\"Generate a personalized greeting for the user\")\\n  greetUser(options: GreetingRequest): GreetingResponse;\\n}</typespec>'"
      ]
     },
     "execution_count": 9,
     "metadata": {},
     "output_type": "execute_result"
    }
   ],
   "source": [
    "reasoning = prepare_res.typespec.reasoning\n",
    "typespec_schema = prepare_res.typespec.typespec_definitions\n",
    "fake_msg = f\"<reasoning>{reasoning}</reasoning><typespec>{typespec_schema}</typespec>\"\n",
    "\n",
    "fake_msg"
   ]
  },
  {
   "cell_type": "code",
   "execution_count": 10,
   "metadata": {},
   "outputs": [
    {
     "name": "stderr",
     "output_type": "stream",
     "text": [
      "Langfuse client is disabled since no public_key was provided as a parameter or environment variable 'LANGFUSE_PUBLIC_KEY'. See our docs: https://langfuse.com/docs/sdk/python/low-level-sdk#initialize-client\n"
     ]
    }
   ],
   "source": [
    "builder = Application(m_client, compiler)\n",
    "\n",
    "final_res = builder.update_bot(\n",
    "    typespec_schema=fake_msg,\n",
    "    bot_id=\"1337_420\",\n",
    "    capabilities=[],\n",
    ")"
   ]
  },
  {
   "cell_type": "code",
   "execution_count": 11,
   "metadata": {},
   "outputs": [
    {
     "data": {
      "text/plain": [
       "ApplicationOut(refined_description=RefineOut(refined_description='', error_output=None), capabilities=CapabilitiesOut(capabilities=[], error_output=None), typespec=TypespecOut(reasoning='Based on the user request, I need to design a bot that can greet a user by name. This is a fairly simple use case, but I\\'ll need to model it properly in TypeSpec.\\n\\nThe primary function will be to greet the user by their name. The bot will need to:\\n1. Take a user\\'s name as input\\n2. Generate a personalized greeting\\n3. Return the greeting response\\n\\nFor the data model, I\\'ll need:\\n- A request model that contains the user\\'s name\\n- A response model that contains the greeting\\n\\nFor the scenarios, I should cover:\\n- Basic greeting with a name\\n- Greeting at different times of day (morning, afternoon, evening)\\n- Handling different greeting styles (formal, casual)\\n\\nThe function will be called \"greetUser\" since that\\'s the primary action.', typespec_definitions='model GreetingRequest {\\n  name: string;\\n  timeOfDay?: string;\\n  style?: string;\\n}\\n\\nmodel GreetingResponse {\\n  message: string;\\n  timestamp: utcDateTime;\\n}\\n\\ninterface GreetingBot {\\n  @scenario(\\n  \"\"\"\\n  Scenario: Basic greeting\\n  When user provides their name\\n  Then system should respond with a personalized greeting\\n  Examples:\\n    | Input  | Expected Output        |\\n    | \"John\" | \"Hello, John!\"         |\\n    | \"Jane\" | \"Hello, Jane!\"         |\\n  \"\"\")\\n  @scenario(\\n  \"\"\"\\n  Scenario: Time-specific greeting\\n  When user provides their name and time of day\\n  Then system should respond with a time-appropriate greeting\\n  Examples:\\n    | Name   | Time of Day | Expected Output             |\\n    | \"John\" | \"morning\"   | \"Good morning, John!\"       |\\n    | \"Jane\" | \"evening\"   | \"Good evening, Jane!\"       |\\n  \"\"\")\\n  @scenario(\\n  \"\"\"\\n  Scenario: Style-specific greeting\\n  When user provides their name and preferred style\\n  Then system should respond with a greeting in the requested style\\n  Examples:\\n    | Name   | Style     | Expected Output             |\\n    | \"John\" | \"formal\"  | \"Greetings, Mr. John.\"      |\\n    | \"Jane\" | \"casual\"  | \"Hey Jane! What\\'s up?\"      |\\n  \"\"\")\\n  @llm_func(\"Generate a personalized greeting for the user\")\\n  greetUser(options: GreetingRequest): GreetingResponse;\\n}', llm_functions=[LLMFunction(name='greetUser', description='Generate a personalized greeting for the user', scenario='Scenario: Style-specific greeting\\n  When user provides their name and preferred style\\n  Then system should respond with a greeting in the requested style\\n  Examples:\\n    | Name   | Style     | Expected Output             |\\n    | \"John\" | \"formal\"  | \"Greetings, Mr. John.\"      |\\n    | \"Jane\" | \"casual\"  | \"Hey Jane! What\\'s up?\"      |')], error_output=None), drizzle=DrizzleOut(reasoning=\"Looking at the TypeSpec provided, I can identify the following key entities:\\n1. GreetingRequest - contains name, optional timeOfDay, and optional style\\n2. GreetingResponse - contains message and timestamp\\n3. GreetingBot interface with a greetUser function\\n\\nFor a database schema, we need to consider:\\n- What data needs to be persisted\\n- How entities relate to each other\\n\\nThe application appears to be a greeting bot that generates personalized greetings. We should track:\\n- Users who request greetings\\n- The greeting requests made\\n- The responses generated\\n\\nI'll create tables for users, greeting_requests, and greeting_responses with appropriate relationships.\", drizzle_schema='import { pgTable, text, timestamp, uuid, varchar } from \"drizzle-orm/pg-core\";\\n\\n// Users table to store information about users who request greetings\\nexport const usersTable = pgTable(\"users\", {\\n  id: uuid(\"id\").primaryKey().defaultRandom(),\\n  name: varchar(\"name\", { length: 255 }).notNull(),\\n  created_at: timestamp(\"created_at\").defaultNow().notNull(),\\n});\\n\\n// Greeting requests table to store information about greeting requests\\nexport const greetingRequestsTable = pgTable(\"greeting_requests\", {\\n  id: uuid(\"id\").primaryKey().defaultRandom(),\\n  user_id: uuid(\"user_id\").references(() => usersTable.id).notNull(),\\n  name: varchar(\"name\", { length: 255 }).notNull(),\\n  time_of_day: varchar(\"time_of_day\", { length: 50 }),\\n  style: varchar(\"style\", { length: 50 }),\\n  created_at: timestamp(\"created_at\").defaultNow().notNull(),\\n});\\n\\n// Greeting responses table to store generated greetings\\nexport const greetingResponsesTable = pgTable(\"greeting_responses\", {\\n  id: uuid(\"id\").primaryKey().defaultRandom(),\\n  request_id: uuid(\"request_id\").references(() => greetingRequestsTable.id).notNull(),\\n  message: text(\"message\").notNull(),\\n  timestamp: timestamp(\"timestamp\").notNull(),\\n  created_at: timestamp(\"created_at\").defaultNow().notNull(),\\n});', error_output=None), handlers={'greetUser': HandlerOut(name='greetUser', handler='import { db } from \"../db\";\\nimport { eq } from \"drizzle-orm\";\\nimport { greetUser } from \"../common/schema\";\\nimport type { GreetingRequest, GreetingResponse } from \"../common/schema\";\\nimport { greetingRequestsTable, greetingResponsesTable, usersTable } from \"../db/schema/application\";\\n\\nexport const handle: typeof greetUser = async (options: GreetingRequest): Promise<GreetingResponse> => {\\n    // Find or create user\\n    const existingUsers = await db\\n        .select()\\n        .from(usersTable)\\n        .where(eq(usersTable.name, options.name))\\n        .limit(1);\\n    \\n    let userId: string;\\n    \\n    if (existingUsers.length > 0) {\\n        userId = existingUsers[0].id;\\n    } else {\\n        const [newUser] = await db\\n            .insert(usersTable)\\n            .values({\\n                name: options.name\\n            })\\n            .returning({ id: usersTable.id });\\n        \\n        userId = newUser.id;\\n    }\\n    \\n    // Create greeting request record\\n    const [greetingRequest] = await db\\n        .insert(greetingRequestsTable)\\n        .values({\\n            user_id: userId,\\n            name: options.name,\\n            time_of_day: options.timeOfDay,\\n            style: options.style\\n        })\\n        .returning({ id: greetingRequestsTable.id });\\n    \\n    // Generate greeting message\\n    let greeting = `Hello, ${options.name}`;\\n    \\n    if (options.timeOfDay) {\\n        greeting += `, good ${options.timeOfDay}`;\\n    }\\n    \\n    if (options.style === \"formal\") {\\n        greeting += \". It\\'s a pleasure to meet you.\";\\n    } else if (options.style === \"casual\") {\\n        greeting += \"! How\\'s it going?\";\\n    } else {\\n        greeting += \"!\";\\n    }\\n    \\n    const timestamp = new Date();\\n    \\n    // Store the greeting response\\n    await db\\n        .insert(greetingResponsesTable)\\n        .values({\\n            request_id: greetingRequest.id,\\n            message: greeting,\\n            timestamp: timestamp\\n        });\\n    \\n    // Return the greeting response\\n    return {\\n        message: greeting,\\n        timestamp: timestamp\\n    };\\n};', argument_schema='greetingRequestSchema', error_output=None)}, handler_tests={'greetUser': HandlerTestsOut(name='greetUser', content='\\nimport { afterEach, beforeEach, describe } from \"bun:test\";\\nimport { resetDB, createDB } from \"../../helpers\";\\nimport { expect, it, mock } from \"bun:test\";\\nimport { db } from \"../../db\";\\nimport { greetingRequestsTable, greetingResponsesTable, usersTable } from \"../../db/schema/application\";\\nimport { type GreetingRequest, type GreetingResponse } from \"../../common/schema\";\\nimport { eq } from \"drizzle-orm\";\\n\\nimport { handle as greetUser } from \"../../handlers/greetUser.ts\";\\n\\n\\ndescribe(\"\", () => {\\n    beforeEach(async () => {\\n        await createDB();\\n    });\\n\\n    afterEach(async () => {\\n        await resetDB();\\n    });\\n    \\n    \\n    it(\"should create a greeting response with required fields\", async () => {\\n      const input: GreetingRequest = { name: \"Alice\" };\\n      const response = await greetUser(input);\\n      \\n      expect(response).toBeDefined();\\n      expect(response.message).toBeTypeOf(\"string\");\\n      expect(response.message.includes(\"Alice\")).toBe(true);\\n      expect(response.timestamp).toBeInstanceOf(Date);\\n    });\\n\\n    \\n    \\n    it(\"should handle time of day in the greeting\", async () => {\\n      const input: GreetingRequest = { name: \"Bob\", timeOfDay: \"morning\" };\\n      const response = await greetUser(input);\\n      \\n      expect(response.message).toBeTypeOf(\"string\");\\n      expect(response.message.includes(\"Bob\")).toBe(true);\\n      expect(response.message.toLowerCase().includes(\"morning\")).toBe(true);\\n    });\\n\\n    \\n    \\n    it(\"should handle greeting style\", async () => {\\n      const input: GreetingRequest = { name: \"Charlie\", style: \"formal\" };\\n      const response = await greetUser(input);\\n      \\n      expect(response.message).toBeTypeOf(\"string\");\\n      expect(response.message.includes(\"Charlie\")).toBe(true);\\n    });\\n\\n    \\n    \\n    it(\"should create a user record in the database\", async () => {\\n      const input: GreetingRequest = { name: \"David\" };\\n      await greetUser(input);\\n      \\n      const users = await db.select().from(usersTable).where(eq(usersTable.name, \"David\"));\\n      expect(users).toHaveLength(1);\\n      expect(users[0].name).toBe(\"David\");\\n    });\\n\\n    \\n    \\n    it(\"should store the greeting request in the database\", async () => {\\n      const input: GreetingRequest = { name: \"Eve\", timeOfDay: \"evening\", style: \"casual\" };\\n      await greetUser(input);\\n      \\n      const requests = await db.select().from(greetingRequestsTable).where(eq(greetingRequestsTable.name, \"Eve\"));\\n      expect(requests).toHaveLength(1);\\n      expect(requests[0].name).toBe(\"Eve\");\\n      expect(requests[0].time_of_day).toBe(\"evening\");\\n      expect(requests[0].style).toBe(\"casual\");\\n    });\\n\\n    \\n    \\n    it(\"should store the greeting response in the database\", async () => {\\n      const input: GreetingRequest = { name: \"Frank\" };\\n      const response = await greetUser(input);\\n      \\n      const responses = await db.select().from(greetingResponsesTable);\\n      expect(responses).toHaveLength(1);\\n      expect(responses[0].message).toBe(response.message);\\n      \\n      // Find the associated request\\n      const requests = await db.select().from(greetingRequestsTable).where(eq(greetingRequestsTable.name, \"Frank\"));\\n      expect(requests).toHaveLength(1);\\n      expect(responses[0].request_id).toBe(requests[0].id);\\n    });\\n\\n    \\n    \\n    it(\"should handle multiple greeting requests for the same user\", async () => {\\n      const name = \"Grace\";\\n      \\n      // First request\\n      await greetUser({ name, timeOfDay: \"morning\" });\\n      \\n      // Second request\\n      await greetUser({ name, timeOfDay: \"evening\" });\\n      \\n      // Check users (should be only one)\\n      const users = await db.select().from(usersTable).where(eq(usersTable.name, name));\\n      expect(users).toHaveLength(1);\\n      \\n      // Check requests (should be two)\\n      const requests = await db.select().from(greetingRequestsTable).where(eq(greetingRequestsTable.name, name));\\n      expect(requests).toHaveLength(2);\\n      expect(requests[0].time_of_day).toBe(\"morning\");\\n      expect(requests[1].time_of_day).toBe(\"evening\");\\n    });\\n\\n    \\n});', error_output=None)}, typescript_schema=TypescriptOut(reasoning=\"Based on the TypeSpec provided, I need to create Zod schemas for two data models:\\n1. `GreetingRequest` which contains a required name field, and optional timeOfDay and style fields\\n2. `GreetingResponse` which contains a message field and a timestamp field of type utcDateTime\\n\\nI'll also need to create a function declaration for the `greetUser` function that accepts a `GreetingRequest` and returns a Promise of `GreetingResponse`.\\n\\nFor the utcDateTime type, I'll use Zod's date type with coercion as specified in the rules.\", typescript_schema=\"import { z } from 'zod';\\n\\nexport const greetingRequestSchema = z.object({\\n  name: z.string(),\\n  timeOfDay: z.string().optional(),\\n  style: z.string().optional(),\\n});\\n\\nexport type GreetingRequest = z.infer<typeof greetingRequestSchema>;\\n\\nexport const greetingResponseSchema = z.object({\\n  message: z.string(),\\n  timestamp: z.coerce.date(),\\n});\\n\\nexport type GreetingResponse = z.infer<typeof greetingResponseSchema>;\\n\\nexport declare function greetUser(options: GreetingRequest): Promise<GreetingResponse>;\", functions=[FunctionDeclaration(name='greetUser', argument_type='GreetingRequest', argument_schema='greetingRequestSchema', return_type='Promise<GreetingResponse>')], error_output=None), gherkin=GherkinOut(reasoning=None, gherkin=None, error_output=None), trace_id='20b310c20e744f70a9c396129e77f4e7')"
      ]
     },
     "execution_count": 11,
     "metadata": {},
     "output_type": "execute_result"
    }
   ],
   "source": [
    "final_res"
   ]
  },
  {
   "cell_type": "code",
   "execution_count": 13,
   "metadata": {},
   "outputs": [
    {
     "name": "stdout",
     "output_type": "stream",
     "text": [
      "Reinitialized existing Git repository in /home/eugenek/neon/bot-new-1/botbuild/.git/\n",
      "[master (root-commit) 4999b04] Initial commit of the template\n",
      " 41 files changed, 13959 insertions(+)\n",
      " create mode 100644 .DS_Store\n",
      " create mode 100644 app_schema/.DS_Store\n",
      " create mode 100644 app_schema/.env.template\n",
      " create mode 100644 app_schema/.gitignore\n",
      " create mode 100644 app_schema/.prettierrc\n",
      " create mode 100644 app_schema/Dockerfile\n",
      " create mode 100644 app_schema/bun.lock\n",
      " create mode 100644 app_schema/drizzle.config.ts\n",
      " create mode 100644 app_schema/eslint.config.mjs\n",
      " create mode 100644 app_schema/gherkin-lint.config.json\n",
      " create mode 100644 app_schema/package-lock.json\n",
      " create mode 100644 app_schema/package.json\n",
      " create mode 100644 app_schema/src/capabilities.ts\n",
      " create mode 100644 app_schema/src/common/chat.ts\n",
      " create mode 100644 app_schema/src/common/crud.ts\n",
      " create mode 100644 app_schema/src/common/llm.ts\n",
      " create mode 100644 app_schema/src/common/schema.ts\n",
      " create mode 100644 app_schema/src/common/tool-handler.ts\n",
      " create mode 100644 app_schema/src/custom_tools.ts\n",
      " create mode 100644 app_schema/src/db/index.ts\n",
      " create mode 100644 app_schema/src/db/schema/application.ts\n",
      " create mode 100644 app_schema/src/db/schema/common.ts\n",
      " create mode 100644 app_schema/src/env.ts\n",
      " create mode 100644 app_schema/src/handlers/dummy_handler.ts\n",
      " create mode 100644 app_schema/src/helpers/index.ts\n",
      " create mode 100644 app_schema/src/helpers/reset.ts\n",
      " create mode 100644 app_schema/src/http-server.ts\n",
      " create mode 100644 app_schema/src/integrations/google.ts\n",
      " create mode 100644 app_schema/src/integrations/perplexity.ts\n",
      " create mode 100644 app_schema/src/integrations/pica.ts\n",
      " create mode 100644 app_schema/src/main.ts\n",
      " create mode 100644 app_schema/src/telegram.ts\n",
      " create mode 100644 app_schema/src/tests/features/application.feature\n",
      " create mode 100644 app_schema/src/tests/handlers/dummy_handler.test.ts\n",
      " create mode 100644 app_schema/src/tools.ts\n",
      " create mode 100644 app_schema/tsconfig.json\n",
      " create mode 100644 docker-compose.yml\n",
      " create mode 100644 tsp_schema/helpers.js\n",
      " create mode 100644 tsp_schema/main.tsp\n",
      " create mode 100644 tsp_schema/package.json\n",
      " create mode 100644 tsp_schema/tspconfig.yaml\n",
      "[master 1bfe4d4] Update application files\n",
      " 7 files changed, 295 insertions(+), 28 deletions(-)\n",
      " create mode 100644 app_schema/src/handlers/greetUser.ts\n",
      " create mode 100644 app_schema/src/tests/handlers/greetUser.test.ts\n"
     ]
    }
   ],
   "source": [
    "from core.interpolator import Interpolator\n",
    "\n",
    "import os\n",
    "\n",
    "# Create the botbuild directory if it doesn't exist\n",
    "if not os.path.exists(\"../botbuild\"):\n",
    "    os.makedirs(\"../botbuild\")\n",
    "interpolator = Interpolator()\n",
    "diff = interpolator.bake(final_res, \"../botbuild\")\n"
   ]
  },
  {
   "cell_type": "code",
   "execution_count": 14,
   "metadata": {},
   "outputs": [
    {
     "data": {
      "text/plain": [
       "''"
      ]
     },
     "execution_count": 14,
     "metadata": {},
     "output_type": "execute_result"
    }
   ],
   "source": [
    "diff"
   ]
  },
  {
   "cell_type": "code",
   "execution_count": null,
   "metadata": {},
   "outputs": [],
   "source": []
  }
 ],
 "metadata": {
  "kernelspec": {
   "display_name": ".venv",
   "language": "python",
   "name": "python3"
  },
  "language_info": {
   "codemirror_mode": {
    "name": "ipython",
    "version": 3
   },
   "file_extension": ".py",
   "mimetype": "text/x-python",
   "name": "python",
   "nbconvert_exporter": "python",
   "pygments_lexer": "ipython3",
   "version": "3.12.3"
  }
 },
 "nbformat": 4,
 "nbformat_minor": 2
}
