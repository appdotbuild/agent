{
 "cells": [
  {
   "cell_type": "code",
   "execution_count": 1,
   "metadata": {},
   "outputs": [],
   "source": [
    "%load_ext autoreload\n",
    "%autoreload 2"
   ]
  },
  {
   "cell_type": "code",
   "execution_count": 2,
   "metadata": {},
   "outputs": [],
   "source": [
    "import os\n",
    "os.environ[\"LANGFUSE_PUBLIC_KEY\"] = \"pk-lf-8c74f297-f026-484d-93d3-c048f8e2b386\"\n",
    "os.environ[\"LANGFUSE_SECRET_KEY\"] = \"sk-lf-f5823dc5-753d-4db7-a052-0bf0cfe9c3cf\"\n",
    "os.environ[\"LANGFUSE_HOST\"] = \"https://cloud.langfuse.com\"\n",
    "os.environ[\"PERPLEXITY\"] = \"False\""
   ]
  },
  {
   "cell_type": "code",
   "execution_count": 3,
   "metadata": {},
   "outputs": [],
   "source": [
    "from anthropic import AnthropicBedrock\n",
    "from application import Application\n",
    "from compiler.core import Compiler\n",
    "from core.interpolator import Interpolator"
   ]
  },
  {
   "cell_type": "code",
   "execution_count": 4,
   "metadata": {},
   "outputs": [],
   "source": [
    "compiler = Compiler(\"botbuild/tsp_compiler\", \"botbuild/app_schema\")\n",
    "client = AnthropicBedrock(aws_profile=\"dev\", aws_region=\"us-west-2\")"
   ]
  },
  {
   "cell_type": "code",
   "execution_count": 5,
   "metadata": {},
   "outputs": [],
   "source": [
    "application = Application(client, compiler)\n",
    "interpolator = Interpolator(\".\")"
   ]
  },
  {
   "cell_type": "code",
   "execution_count": 6,
   "metadata": {},
   "outputs": [],
   "source": [
    "application_description = \"\"\"\n",
    "Bot that does web search\n",
    "\"\"\".strip()"
   ]
  },
  {
   "cell_type": "code",
   "execution_count": 7,
   "metadata": {},
   "outputs": [],
   "source": [
    "application_description = \"Bot that greets user by name and returns personalized greeting.\""
   ]
  },
  {
   "cell_type": "code",
   "execution_count": 8,
   "metadata": {},
   "outputs": [
    {
     "name": "stdout",
     "output_type": "stream",
     "text": [
      "Skipping Initial Description Refinement\n",
      "Compiling TypeSpec...\n",
      "Compiling Typescript Schema Definitions...\n",
      "Compiling Drizzle...\n",
      "Compiling Handler Tests...\n",
      "Compiling Handlers...\n"
     ]
    }
   ],
   "source": [
    "my_bot = application.create_bot(application_description, bot_id=\"handler_tests\")"
   ]
  },
  {
   "cell_type": "code",
   "execution_count": 9,
   "metadata": {},
   "outputs": [],
   "source": [
    "interpolator.bake(my_bot, \"../../bot_result\") # next to repo root"
   ]
  },
  {
   "cell_type": "code",
   "execution_count": 10,
   "metadata": {},
   "outputs": [
    {
     "data": {
      "text/plain": [
       "{'refined_description': RefineOut(refined_description='Bot that greets user by name and returns personalized greeting.', error_output=None),\n",
       " 'typespec': TypespecOut(reasoning='I expect user to send messages like \"Hello, my name is John\" or \"Hi, I\\'m Jane\".\\nLLM can extract the name from the message and pass it to the greeting handler.\\n\"Hello, my name is John\" -> greet({name: \"John\"})\\nThe bot should be able to:\\n- Store and retrieve user\\'s name\\n- Generate personalized greeting\\n- Keep track of greeting count', typespec_definitions='model GreetingRequest {\\n    name: string;\\n    preferredLanguage: string;\\n}\\n\\nmodel UserStats {\\n    name: string;\\n    greetingCount: integer;\\n    firstGreetedAt: utcDateTime;\\n    lastGreetedAt: utcDateTime;\\n}\\n\\ninterface GreetingBot {\\n    @llm_func(\"Generate personalized greeting for user\")\\n    greet(options: GreetingRequest): string;\\n\\n    @llm_func(\"Get user\\'s greeting statistics\")\\n    getUserStats(options: GreetingRequest): UserStats;\\n}', llm_functions=[LLMFunction(name='greet', description='Generate personalized greeting for user'), LLMFunction(name='getUserStats', description=\"Get user's greeting statistics\")], error_output=None),\n",
       " 'drizzle': DrizzleOut(reasoning=\"The application needs to store:\\n1. User greeting statistics including their name, count of greetings, and timestamps\\n2. Greeting history with language preferences\\n3. The schema should support the GreetingBot interface operations\\n4. We'll need to track when greetings are made to maintain statistics\", drizzle_schema='import { \\n  pgTable, \\n  text, \\n  integer, \\n  timestamp, \\n  serial \\n} from \"drizzle-orm/pg-core\";\\n\\n// Table for storing user statistics\\nexport const userStatsTable = pgTable(\"user_stats\", {\\n  id: serial(\"id\").primaryKey(),\\n  name: text(\"name\").notNull(),\\n  greeting_count: integer(\"greeting_count\").notNull().default(0),\\n  first_greeted_at: timestamp(\"first_greeted_at\", { withTimezone: true }).notNull(),\\n  last_greeted_at: timestamp(\"last_greeted_at\", { withTimezone: true }).notNull()\\n});\\n\\n// Table for storing greeting history\\nexport const greetingHistoryTable = pgTable(\"greeting_history\", {\\n  id: serial(\"id\").primaryKey(),\\n  user_name: text(\"user_name\").notNull(),\\n  preferred_language: text(\"preferred_language\").notNull(),\\n  greeting_text: text(\"greeting_text\").notNull(),\\n  created_at: timestamp(\"created_at\", { withTimezone: true })\\n    .defaultNow()\\n    .notNull()\\n});\\n\\n// Index on user_name for faster lookups\\nexport const userStatsNameIndex = pgTable(\"user_stats_name_idx\", {\\n  name: text(\"name\").unique()\\n});', error_output=None),\n",
       " 'handlers': {'greet': HandlerOut(name='greet', handler='import { eq } from \"drizzle-orm\";\\nimport { db } from \"../db\";\\nimport type { GreetingRequest } from \"../common/schema\";\\nimport { greet } from \"../common/schema\";\\nimport { greetingHistoryTable, userStatsTable } from \"../db/schema/application\";\\n\\nconst getGreetingByLanguage = (name: string, language: string): string => {\\n    const greetings: Record<string, string> = {\\n        \"en\": `Hello, ${name}!`,\\n        \"es\": `¡Hola, ${name}!`,\\n        \"fr\": `Bonjour, ${name}!`,\\n        \"de\": `Hallo, ${name}!`\\n    };\\n\\n    return greetings[language] || greetings[\"en\"];\\n};\\n\\nexport const handle: typeof greet = async (options: GreetingRequest): Promise<string> => {\\n    const greeting = getGreetingByLanguage(options.name, options.preferredLanguage);\\n    const currentTime = new Date();\\n\\n    // Store greeting in history\\n    await db.insert(greetingHistoryTable).values({\\n        user_name: options.name,\\n        preferred_language: options.preferredLanguage,\\n        greeting_text: greeting,\\n    });\\n\\n    // Update user stats\\n    const existingStats = await db\\n        .select()\\n        .from(userStatsTable)\\n        .where(eq(userStatsTable.name, options.name))\\n        .limit(1);\\n\\n    if (existingStats.length === 0) {\\n        // Create new user stats\\n        await db.insert(userStatsTable).values({\\n            name: options.name,\\n            greeting_count: 1,\\n            first_greeted_at: currentTime,\\n            last_greeted_at: currentTime\\n        });\\n    } else {\\n        // Update existing user stats\\n        await db\\n            .update(userStatsTable)\\n            .set({\\n                greeting_count: existingStats[0].greeting_count + 1,\\n                last_greeted_at: currentTime\\n            })\\n            .where(eq(userStatsTable.name, options.name));\\n    }\\n\\n    return greeting;\\n};', argument_schema='greetingRequestSchema', error_output=None),\n",
       "  'getUserStats': HandlerOut(name='getUserStats', handler='import { eq } from \"drizzle-orm\";\\nimport { db } from \"../db\";\\nimport { type GreetingRequest, type UserStats, getUserStats } from \"../common/schema\";\\nimport { userStatsTable, greetingHistoryTable } from \"../db/schema/application\";\\n\\nexport const handle: typeof getUserStats = async (options: GreetingRequest): Promise<UserStats> => {\\n    const userStats = await db\\n        .select()\\n        .from(userStatsTable)\\n        .where(eq(userStatsTable.name, options.name))\\n        .limit(1);\\n\\n    const greetingHistory = await db\\n        .select({\\n            count: greetingHistoryTable.id,\\n            firstGreeting: greetingHistoryTable.created_at,\\n            lastGreeting: greetingHistoryTable.created_at\\n        })\\n        .from(greetingHistoryTable)\\n        .where(eq(greetingHistoryTable.user_name, options.name));\\n\\n    const greetingCount = greetingHistory.length;\\n    const currentTime = new Date();\\n    \\n    if (!userStats.length) {\\n        const firstGreetedAt = greetingCount > 0 \\n            ? new Date(greetingHistory[0].firstGreeting)\\n            : currentTime;\\n        const lastGreetedAt = greetingCount > 0 \\n            ? new Date(greetingHistory[greetingHistory.length - 1].lastGreeting)\\n            : currentTime;\\n\\n        const newUserStats = {\\n            name: options.name,\\n            greeting_count: greetingCount,\\n            first_greeted_at: firstGreetedAt,\\n            last_greeted_at: lastGreetedAt\\n        };\\n\\n        await db\\n            .insert(userStatsTable)\\n            .values(newUserStats)\\n            .execute();\\n\\n        return {\\n            name: newUserStats.name,\\n            greetingCount: newUserStats.greeting_count,\\n            firstGreetedAt: newUserStats.first_greeted_at,\\n            lastGreetedAt: newUserStats.last_greeted_at\\n        };\\n    }\\n\\n    const stats = userStats[0];\\n    const firstGreetedAt = greetingCount > 0 \\n        ? new Date(greetingHistory[0].firstGreeting)\\n        : stats.first_greeted_at;\\n    const lastGreetedAt = greetingCount > 0 \\n        ? new Date(greetingHistory[greetingHistory.length - 1].lastGreeting)\\n        : stats.last_greeted_at;\\n\\n    await db\\n        .update(userStatsTable)\\n        .set({\\n            greeting_count: greetingCount,\\n            last_greeted_at: lastGreetedAt\\n        })\\n        .where(eq(userStatsTable.name, options.name))\\n        .execute();\\n    \\n    return {\\n        name: stats.name,\\n        greetingCount: greetingCount,\\n        firstGreetedAt: firstGreetedAt,\\n        lastGreetedAt: lastGreetedAt\\n    };\\n};', argument_schema='greetingRequestSchema', error_output=None)},\n",
       " 'handler_tests': {'greet': HandlerTestsOut(name='greet', content='\\nimport { afterEach, beforeEach, describe } from \"bun:test\";\\nimport { resetDB, createDB } from \"../../helpers\";\\nimport { handle as greet } from \"../../handlers/greet.ts\";\\nimport { expect, it } from \"bun:test\";\\nimport { db } from \"../../db\";\\nimport { greetingHistoryTable, userStatsTable } from \"../../db/schema/application\";\\nimport { type GreetingRequest } from \"../../common/schema\";\\nimport { eq } from \"drizzle-orm\";\\n\\ndescribe(\"\", () => {\\n    beforeEach(async () => {\\n        await createDB();\\n    });\\n\\n    afterEach(async () => {\\n        await resetDB();\\n    });\\n    \\n    \\n    it(\"should return a greeting in the preferred language\", async () => {\\n      const input: GreetingRequest = {\\n        name: \"Alice\",\\n        preferredLanguage: \"en\"\\n      };\\n      const greeting = await greet(input);\\n      expect(greeting).toEqual(\"Hello, Alice!\");\\n    });\\n\\n    \\n    \\n    it(\"should store greeting history in the database\", async () => {\\n      const input: GreetingRequest = {\\n        name: \"Bob\",\\n        preferredLanguage: \"es\"\\n      };\\n      await greet(input);\\n      \\n      const history = await db\\n        .select()\\n        .from(greetingHistoryTable)\\n        .where(eq(greetingHistoryTable.user_name, \"Bob\"))\\n        .execute();\\n\\n      expect(history).toHaveLength(1);\\n      expect(history[0].preferred_language).toEqual(\"es\");\\n      expect(history[0].user_name).toEqual(\"Bob\");\\n      expect(history[0].greeting_text).toBeTruthy();\\n    });\\n\\n    \\n    \\n    it(\"should create or update user stats\", async () => {\\n      const input: GreetingRequest = {\\n        name: \"Charlie\",\\n        preferredLanguage: \"fr\"\\n      };\\n      await greet(input);\\n      \\n      const stats = await db\\n        .select()\\n        .from(userStatsTable)\\n        .where(eq(userStatsTable.name, \"Charlie\"))\\n        .execute();\\n\\n      expect(stats).toHaveLength(1);\\n      expect(stats[0].greeting_count).toBeGreaterThan(0);\\n      expect(stats[0].first_greeted_at).toBeInstanceOf(Date);\\n      expect(stats[0].last_greeted_at).toBeInstanceOf(Date);\\n    });\\n\\n    \\n    \\n    it(\"should increment greeting count for existing users\", async () => {\\n      const input: GreetingRequest = {\\n        name: \"David\",\\n        preferredLanguage: \"en\"\\n      };\\n      \\n      // First greeting\\n      await greet(input);\\n      \\n      // Second greeting\\n      await greet(input);\\n      \\n      const stats = await db\\n        .select()\\n        .from(userStatsTable)\\n        .where(eq(userStatsTable.name, \"David\"))\\n        .execute();\\n\\n      expect(stats[0].greeting_count).toEqual(2);\\n    });\\n\\n    \\n});', error_output=None),\n",
       "  'getUserStats': HandlerTestsOut(name='getUserStats', content='\\nimport { afterEach, beforeEach, describe } from \"bun:test\";\\nimport { resetDB, createDB } from \"../../helpers\";\\nimport { handle as getUserStats } from \"../../handlers/getUserStats.ts\";\\nimport { expect, it } from \"bun:test\";\\nimport { db } from \"../../db\";\\nimport { userStatsTable, greetingHistoryTable } from \"../../db/schema/application\";\\nimport { type GreetingRequest, type UserStats } from \"../../common/schema\";\\nimport { eq } from \"drizzle-orm\";\\n\\ndescribe(\"\", () => {\\n    beforeEach(async () => {\\n        await createDB();\\n    });\\n\\n    afterEach(async () => {\\n        await resetDB();\\n    });\\n    \\n    \\n    it(\"should return user stats for existing user\", async () => {\\n      const input: GreetingRequest = {\\n        name: \"Alice\",\\n        preferredLanguage: \"en\"\\n      };\\n\\n      const expectedStats: UserStats = {\\n        name: \"Alice\",\\n        greetingCount: 5,\\n        firstGreetedAt: new Date(\"2024-01-01T00:00:00Z\"),\\n        lastGreetedAt: new Date(\"2024-01-05T00:00:00Z\")\\n      };\\n\\n      await db.insert(userStatsTable).values({\\n        name: expectedStats.name,\\n        greeting_count: expectedStats.greetingCount,\\n        first_greeted_at: expectedStats.firstGreetedAt,\\n        last_greeted_at: expectedStats.lastGreetedAt\\n      });\\n\\n      const result = await getUserStats(input);\\n      expect(result).toEqual(expectedStats);\\n    });\\n\\n    \\n    \\n    it(\"should return stats with zero count for new user\", async () => {\\n      const input: GreetingRequest = {\\n        name: \"Bob\",\\n        preferredLanguage: \"fr\"\\n      };\\n\\n      const result = await getUserStats(input);\\n      \\n      expect(result.name).toEqual(\"Bob\");\\n      expect(result.greetingCount).toEqual(0);\\n      expect(result.firstGreetedAt).toBeInstanceOf(Date);\\n      expect(result.lastGreetedAt).toBeInstanceOf(Date);\\n    });\\n\\n    \\n    \\n    it(\"should reflect greeting history in stats\", async () => {\\n      const input: GreetingRequest = {\\n        name: \"Carol\",\\n        preferredLanguage: \"es\"\\n      };\\n\\n      const now = new Date();\\n      \\n      await db.insert(greetingHistoryTable).values([\\n        {\\n          user_name: \"Carol\",\\n          preferred_language: \"es\",\\n          greeting_text: \"¡Hola!\",\\n          created_at: now\\n        }\\n      ]);\\n\\n      const stats = await getUserStats(input);\\n      \\n      expect(stats.name).toEqual(\"Carol\");\\n      expect(stats.greetingCount).toEqual(1);\\n      expect(stats.firstGreetedAt.getTime()).toEqual(now.getTime());\\n      expect(stats.lastGreetedAt.getTime()).toEqual(now.getTime());\\n    });\\n\\n    \\n    \\n    it(\"should update last greeted time when multiple greetings exist\", async () => {\\n      const input: GreetingRequest = {\\n        name: \"David\",\\n        preferredLanguage: \"en\"\\n      };\\n\\n      const firstGreeting = new Date(\"2024-01-01T00:00:00Z\");\\n      const lastGreeting = new Date(\"2024-01-02T00:00:00Z\");\\n\\n      await db.insert(greetingHistoryTable).values([\\n        {\\n          user_name: \"David\",\\n          preferred_language: \"en\",\\n          greeting_text: \"Hello!\",\\n          created_at: firstGreeting\\n        },\\n        {\\n          user_name: \"David\",\\n          preferred_language: \"en\",\\n          greeting_text: \"Hi again!\",\\n          created_at: lastGreeting\\n        }\\n      ]);\\n\\n      const stats = await getUserStats(input);\\n      \\n      expect(stats.greetingCount).toEqual(2);\\n      expect(stats.firstGreetedAt.getTime()).toEqual(firstGreeting.getTime());\\n      expect(stats.lastGreetedAt.getTime()).toEqual(lastGreeting.getTime());\\n    });\\n\\n    \\n});', error_output=None)},\n",
       " 'typescript_schema': TypescriptOut(reasoning=\"The application handles greeting requests and user statistics tracking.\\nIt consists of two main models:\\n1. GreetingRequest - contains user's name and preferred language for personalization\\n2. UserStats - tracks user's interaction history including greeting count and timestamps\\nThe interface provides two functions:\\n- greet: generates personalized greetings\\n- getUserStats: retrieves statistics about user's greeting history\\nDateTime fields should be properly handled using Zod's coerce feature for proper date parsing.\", typescript_schema=\"import { z } from 'zod';\\n\\nexport const greetingRequestSchema = z.object({\\n    name: z.string(),\\n    preferredLanguage: z.string(),\\n});\\n\\nexport type GreetingRequest = z.infer<typeof greetingRequestSchema>;\\n\\nexport const userStatsSchema = z.object({\\n    name: z.string(),\\n    greetingCount: z.number().int(),\\n    firstGreetedAt: z.coerce.date(),\\n    lastGreetedAt: z.coerce.date(),\\n});\\n\\nexport type UserStats = z.infer<typeof userStatsSchema>;\\n\\nexport declare function greet(options: GreetingRequest): Promise<string>;\\n\\nexport declare function getUserStats(options: GreetingRequest): Promise<UserStats>;\", functions=[TypescriptFunction(name='greet', argument_type='GreetingRequest', argument_schema='greetingRequestSchema', return_type='Promise<string>'), TypescriptFunction(name='getUserStats', argument_type='GreetingRequest', argument_schema='greetingRequestSchema', return_type='Promise<UserStats>')], error_output=None),\n",
       " 'gherkin': GherkinOut(reasoning=None, gherkin=None, error_output=None),\n",
       " 'trace_id': 'ebd737cf-963e-41d6-bc09-c42215244232'}"
      ]
     },
     "execution_count": 10,
     "metadata": {},
     "output_type": "execute_result"
    }
   ],
   "source": [
    "my_bot.__dict__"
   ]
  },
  {
   "cell_type": "code",
   "execution_count": null,
   "metadata": {},
   "outputs": [],
   "source": []
  }
 ],
 "metadata": {
  "kernelspec": {
   "display_name": ".venv",
   "language": "python",
   "name": "python3"
  },
  "language_info": {
   "codemirror_mode": {
    "name": "ipython",
    "version": 3
   },
   "file_extension": ".py",
   "mimetype": "text/x-python",
   "name": "python",
   "nbconvert_exporter": "python",
   "pygments_lexer": "ipython3",
   "version": "3.12.3"
  }
 },
 "nbformat": 4,
 "nbformat_minor": 2
}
