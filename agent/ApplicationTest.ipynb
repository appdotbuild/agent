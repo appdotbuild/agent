{
 "cells": [
  {
   "cell_type": "code",
   "execution_count": 1,
   "metadata": {},
   "outputs": [],
   "source": [
    "%load_ext autoreload\n",
    "%autoreload 2"
   ]
  },
  {
   "cell_type": "code",
   "execution_count": 2,
   "metadata": {},
   "outputs": [],
   "source": [
    "import os\n",
    "os.environ[\"LANGFUSE_PUBLIC_KEY\"] = \"sk-lf-5f4ee6ed-6057-4c62-a4b8-adbab6e3eeb3\"\n",
    "os.environ[\"LANGFUSE_SECRET_KEY\"] = \"pk-lf-2f853dc9-d766-451e-b178-98e5dcf5296d\"\n",
    "os.environ[\"LANGFUSE_HOST\"] = \"https://cloud.langfuse.com\"\n",
    "os.environ[\"PERPLEXITY\"] = \"False\""
   ]
  },
  {
   "cell_type": "code",
   "execution_count": 3,
   "metadata": {},
   "outputs": [],
   "source": [
    "from anthropic import AnthropicBedrock\n",
    "from application import Application\n",
    "from compiler.core import Compiler\n",
    "from core.interpolator import Interpolator"
   ]
  },
  {
   "cell_type": "code",
   "execution_count": 4,
   "metadata": {},
   "outputs": [],
   "source": [
    "compiler = Compiler(\"botbuild/tsp_compiler\", \"botbuild/app_schema\")\n",
    "client = AnthropicBedrock(aws_profile=\"dev\", aws_region=\"us-west-2\")"
   ]
  },
  {
   "cell_type": "code",
   "execution_count": 5,
   "metadata": {},
   "outputs": [],
   "source": [
    "application = Application(client, compiler)\n",
    "interpolator = Interpolator(\".\")"
   ]
  },
  {
   "cell_type": "code",
   "execution_count": 6,
   "metadata": {},
   "outputs": [],
   "source": [
    "application_description = \"\"\"\n",
    "Bot that does web search\n",
    "\"\"\".strip()"
   ]
  },
  {
   "cell_type": "code",
   "execution_count": 7,
   "metadata": {},
   "outputs": [],
   "source": [
    "application_description = \"Generate a bot that stores and searches notes\""
   ]
  },
  {
   "cell_type": "code",
   "execution_count": 8,
   "metadata": {},
   "outputs": [
    {
     "name": "stdout",
     "output_type": "stream",
     "text": [
      "Skipping Initial Description Refinement\n",
      "Compiling TypeSpec...\n",
      "Compiling Typescript Schema Definitions...\n",
      "Compiling Drizzle...\n",
      "Compiling Handler Tests...\n",
      "Compiling Handlers...\n"
     ]
    }
   ],
   "source": [
    "my_bot = application.create_bot(application_description, bot_id=\"handler_tests\")"
   ]
  },
  {
   "cell_type": "code",
   "execution_count": 9,
   "metadata": {},
   "outputs": [],
   "source": [
    "interpolator.bake(my_bot, \"../../bot_result\") # next to repo root"
   ]
  },
  {
   "cell_type": "code",
   "execution_count": 10,
   "metadata": {},
   "outputs": [
    {
     "data": {
      "text/plain": [
       "{'refined_description': RefineOut(refined_description=\"Generate a bot that stores user's text and does semantic search over the database.\", error_output=None),\n",
       " 'typespec': TypespecOut(reasoning='For a semantic search bot, we need:\\n1. Store text entries with metadata (timestamp, tags)\\n2. Search functionality with relevance scoring\\n3. Basic CRUD operations\\n\\nExpected user interactions:\\n\"Remember this: The sky is blue\" -> storeEntry({text: \"The sky is blue\"})\\n\"Find notes about weather\" -> searchEntries({query: \"weather\"})\\n\"Show my recent notes\" -> listEntries({limit: 10})\\n\"Delete that note about sky\" -> deleteEntry({id: \"123\"})\\n\\nKey models needed:\\n- TextEntry: for storing text with metadata\\n- SearchRequest: for search parameters\\n- ListRequest: for pagination/filtering', typespec_definitions='model TextEntry {\\n    id: string;\\n    text: string;\\n    tags: string[];\\n    created: utcDateTime;\\n}\\n\\nmodel SearchRequest {\\n    query: string;\\n    limit: integer;\\n    minRelevance: float;\\n}\\n\\nmodel ListRequest {\\n    from: utcDateTime;\\n    to: utcDateTime;\\n    limit: integer;\\n    tags: string[];\\n}\\n\\nmodel DeleteRequest {\\n    id: string;\\n}\\n\\ninterface SemanticNoteBot {\\n    @scenario(\"\"\"\\n    Scenario: Store new text entry\\n    When user says \"Remember this: Today was sunny\"\\n    Then system should:\\n        - Generate unique ID\\n        - Extract tags: [\"weather\"]\\n        - Store timestamp\\n        - Save text: \"Today was sunny\"\\n    Examples:\\n        | Input | Expected Tags |\\n        | \"Note: Meeting at 2pm\" | [\"meeting\", \"schedule\"] |\\n        | \"Save: Buy milk\" | [\"todo\", \"shopping\"] |\\n    \"\"\")\\n    @llm_func(\"Store new text entry with automatic tagging\")\\n    storeEntry(options: TextEntry): string;\\n\\n    @scenario(\"\"\"\\n    Scenario: Semantic search\\n    When user asks \"Find notes about weather\"\\n    Then system should:\\n        - Perform semantic search\\n        - Return relevant entries\\n        - Sort by relevance score\\n    Examples:\\n        | Query | Should Match |\\n        | \"weather\" | \"Today was sunny\", \"It\\'s raining\" |\\n        | \"meetings\" | \"Team sync at 3pm\" |\\n    \"\"\")\\n    @llm_func(\"Search entries using semantic similarity\")\\n    searchEntries(options: SearchRequest): TextEntry[];\\n\\n    @scenario(\"\"\"\\n    Scenario: List recent entries\\n    When user says \"Show my recent notes\"\\n    Then system should:\\n        - Return entries sorted by date\\n        - Apply filter criteria\\n        - Limit results\\n    \"\"\")\\n    @llm_func(\"List entries with filtering options\")\\n    listEntries(options: ListRequest): TextEntry[];\\n\\n    @scenario(\"\"\"\\n    Scenario: Delete entry\\n    When user says \"Delete note about weather\"\\n    Then system should:\\n        - Find entry by ID\\n        - Remove from storage\\n        - Confirm deletion\\n    \"\"\")\\n    @llm_func(\"Delete specific text entry\")\\n    deleteEntry(options: DeleteRequest): void;\\n}', llm_functions=[LLMFunction(name='storeEntry', description='Store new text entry with automatic tagging'), LLMFunction(name='searchEntries', description='Search entries using semantic similarity'), LLMFunction(name='listEntries', description='List entries with filtering options'), LLMFunction(name='deleteEntry', description='Delete specific text entry')], error_output=None),\n",
       " 'drizzle': DrizzleOut(reasoning=\"1. The error occurs because 'array' is not directly exported from 'drizzle-orm/pg-core'\\n2. We need to use the correct import 'PgArray' and create arrays using proper syntax\\n3. For PostgreSQL arrays in Drizzle, we should use text().array()\", drizzle_schema='import { \\n  text, \\n  timestamp, \\n  pgTable, \\n  primaryKey,\\n  uuid,\\n} from \"drizzle-orm/pg-core\";\\n\\n// Main table for storing text entries\\nexport const textEntriesTable = pgTable(\"text_entries\", {\\n  id: uuid(\"id\").primaryKey().defaultRandom(), // Using UUID for string IDs\\n  text: text(\"text\").notNull(),\\n  tags: text(\"tags\").array().notNull().default([]), // Correct array syntax\\n  created: timestamp(\"created\", { withTimezone: true }).notNull().defaultNow(),\\n});\\n\\n// Index creation statements (to be used in migrations)\\n// CREATE INDEX idx_text_entries_tags ON text_entries USING gin(tags);\\n// CREATE INDEX idx_text_entries_created ON text_entries(created);\\n// \\n// For semantic search capability, you might want to add a vector column\\n// if using pgvector extension:\\n//\\n// ALTER TABLE text_entries ADD COLUMN embedding vector(384);\\n// CREATE INDEX idx_text_entries_embedding ON text_entries USING ivfflat (embedding vector_cosine_ops);', error_output=None),\n",
       " 'handlers': {'searchEntries': HandlerOut(name='searchEntries', handler='import { type SearchRequest, type TextEntry, searchEntries } from \"../common/schema\";\\nimport { textEntriesTable } from \"../db/schema/application\";\\nimport { db } from \"../db\";\\nimport { ilike, and, gte } from \"drizzle-orm\";\\n\\nexport const handle: typeof searchEntries = async (options: SearchRequest): Promise<TextEntry[]> => {\\n    // Build base query for text search\\n    const searchQuery = db\\n        .select({\\n            id: textEntriesTable.id,\\n            text: textEntriesTable.text,\\n            tags: textEntriesTable.tags,\\n            created: textEntriesTable.created\\n        })\\n        .from(textEntriesTable)\\n        .where(\\n            and(\\n                // Search in text content using case-insensitive pattern matching\\n                ilike(textEntriesTable.text, `%${options.query}%`),\\n                // Since we don\\'t have actual relevance scoring in this basic implementation,\\n                // we\\'ll use a simplified approach where we assume all matches exceed minRelevance\\n                // In a real implementation, you might want to use full-text search capabilities\\n                // or vector similarity search\\n            )\\n        )\\n        .limit(options.limit);\\n\\n    const results = await searchQuery;\\n\\n    // Transform the database results into the expected TextEntry format\\n    return results.map((entry) => ({\\n        id: entry.id,\\n        text: entry.text,\\n        tags: entry.tags,\\n        created: entry.created\\n    }));\\n};', argument_schema='searchRequestSchema', error_output=None),\n",
       "  'listEntries': HandlerOut(name='listEntries', handler='import type { ListRequest, TextEntry } from \"../common/schema\";\\nimport { listEntries } from \"../common/schema\";\\nimport { and, between, arrayOverlaps } from \"drizzle-orm\";\\nimport { textEntriesTable } from \"../db/schema/application\";\\nimport { db } from \"../db\";\\n\\nexport const handle: typeof listEntries = async (options: ListRequest): Promise<TextEntry[]> => {\\n    try {\\n        // Build query with date range filter\\n        const baseQuery = db\\n            .select({\\n                id: textEntriesTable.id,\\n                text: textEntriesTable.text,\\n                tags: textEntriesTable.tags,\\n                created: textEntriesTable.created\\n            })\\n            .from(textEntriesTable)\\n            .where(\\n                and(\\n                    between(textEntriesTable.created, options.from, options.to),\\n                    // Only apply tags filter if tags array is not empty\\n                    options.tags.length > 0 \\n                        ? arrayOverlaps(textEntriesTable.tags, options.tags)\\n                        : undefined\\n                )\\n            )\\n            .limit(options.limit)\\n            .orderBy(textEntriesTable.created);\\n\\n        const entries = await baseQuery;\\n\\n        // Map database entries to TextEntry type with string IDs\\n        return entries.map((entry) => ({\\n            id: entry.id.toString(), // Ensure UUID is converted to string\\n            text: entry.text,\\n            tags: entry.tags,\\n            created: entry.created\\n        }));\\n    } catch (error) {\\n        // Log error for debugging purposes\\n        console.error(\"Error in listEntries handler:\", error);\\n        throw error;\\n    }\\n};', argument_schema='listRequestSchema', error_output=None),\n",
       "  'deleteEntry': HandlerOut(name='deleteEntry', handler='import type { DeleteRequest } from \"../common/schema\";\\nimport { deleteEntry } from \"../common/schema\";\\nimport { db } from \"../db\";\\nimport { eq } from \"drizzle-orm\";\\nimport { textEntriesTable } from \"../db/schema/application\";\\n\\nexport const handle: typeof deleteEntry = async (options: DeleteRequest): Promise<void> => {\\n    // Delete the entry with the specified ID\\n    await db.delete(textEntriesTable)\\n        .where(eq(textEntriesTable.id, options.id))\\n        .execute();\\n};', argument_schema='deleteRequestSchema', error_output=None),\n",
       "  'storeEntry': HandlerOut(name='storeEntry', handler='import { db } from \"../db\";\\nimport { type TextEntry, storeEntry } from \"../common/schema\";\\nimport { textEntriesTable } from \"../db/schema/application\";\\n\\nexport const handle: typeof storeEntry = async (options: TextEntry): Promise<string> => {\\n    // Insert the entry into the database\\n    const result = await db.insert(textEntriesTable)\\n        .values({\\n            id: options.id,\\n            text: options.text,\\n            tags: options.tags,\\n            created: options.created\\n        })\\n        .returning({ id: textEntriesTable.id })\\n        .execute();\\n\\n    // Return the ID of the created entry\\n    return result[0].id;\\n};', argument_schema='textEntrySchema', error_output=None)},\n",
       " 'handler_tests': {'deleteEntry': HandlerTestsOut(name='deleteEntry', content='\\nimport { afterEach, beforeEach, describe } from \"bun:test\";\\nimport { resetDB, createDB } from \"../../helpers\";\\nimport { handle as deleteEntry } from \"../../handlers/deleteEntry.ts\";\\nimport { expect, it } from \"bun:test\";\\nimport { db } from \"../../db\";\\nimport { textEntriesTable } from \"../../db/schema/application\";\\nimport { type DeleteRequest } from \"../../common/schema\";\\nimport { eq } from \"drizzle-orm\";\\n\\ndescribe(\"\", () => {\\n    beforeEach(async () => {\\n        await createDB();\\n    });\\n\\n    afterEach(async () => {\\n        await resetDB();\\n    });\\n    \\n    \\n    it(\"should delete an existing entry\", async () => {\\n      // First create an entry to delete\\n      const entry = {\\n        id: \"test-id-1\",\\n        text: \"Test entry\",\\n        tags: [\"test\"],\\n        created: new Date(),\\n      };\\n      \\n      await db.insert(textEntriesTable).values(entry);\\n      \\n      const deleteRequest: DeleteRequest = {\\n        id: \"test-id-1\"\\n      };\\n      \\n      await deleteEntry(deleteRequest);\\n      \\n      const result = await db\\n        .select()\\n        .from(textEntriesTable)\\n        .where(eq(textEntriesTable.id, \"test-id-1\"));\\n        \\n      expect(result).toHaveLength(0);\\n    });\\n\\n    \\n    \\n    it(\"should not throw when deleting non-existent entry\", async () => {\\n      const deleteRequest: DeleteRequest = {\\n        id: \"non-existent-id\"\\n      };\\n      \\n      await expect(deleteEntry(deleteRequest)).resolves.not.toThrow();\\n    });\\n\\n    \\n    \\n    it(\"should delete only the specified entry\", async () => {\\n      // Create two entries\\n      const entries = [\\n        {\\n          id: \"test-id-1\",\\n          text: \"First entry\",\\n          tags: [\"test\"],\\n          created: new Date(),\\n        },\\n        {\\n          id: \"test-id-2\", \\n          text: \"Second entry\",\\n          tags: [\"test\"],\\n          created: new Date(),\\n        }\\n      ];\\n      \\n      await db.insert(textEntriesTable).values(entries);\\n      \\n      const deleteRequest: DeleteRequest = {\\n        id: \"test-id-1\"\\n      };\\n      \\n      await deleteEntry(deleteRequest);\\n      \\n      const remaining = await db.select().from(textEntriesTable);\\n      expect(remaining).toHaveLength(1);\\n      expect(remaining[0].id).toBe(\"test-id-2\");\\n    });\\n\\n    \\n});', error_output=None),\n",
       "  'storeEntry': HandlerTestsOut(name='storeEntry', content='\\nimport { afterEach, beforeEach, describe } from \"bun:test\";\\nimport { resetDB, createDB } from \"../../helpers\";\\nimport { handle as storeEntry } from \"../../handlers/storeEntry.ts\";\\nimport { expect, it } from \"bun:test\";\\nimport { db } from \"../../db\";\\nimport { textEntriesTable } from \"../../db/schema/application\";\\nimport type { TextEntry } from \"../../common/schema\";\\n\\ndescribe(\"\", () => {\\n    beforeEach(async () => {\\n        await createDB();\\n    });\\n\\n    afterEach(async () => {\\n        await resetDB();\\n    });\\n    \\n    \\n    it(\"should store a text entry with all fields\", async () => {\\n      const input: TextEntry = {\\n        id: \"test-id-1\",\\n        text: \"Sample text content\",\\n        tags: [\"tag1\", \"tag2\"],\\n        created: new Date(\"2024-01-01T00:00:00Z\")\\n      };\\n      \\n      const result = await storeEntry(input);\\n      \\n      expect(result).toEqual(\"test-id-1\");\\n      \\n      const stored = await db.select().from(textEntriesTable).execute();\\n      expect(stored).toHaveLength(1);\\n      expect(stored[0].id).toEqual(\"test-id-1\");\\n      expect(stored[0].text).toEqual(\"Sample text content\");\\n      expect(stored[0].tags).toEqual([\"tag1\", \"tag2\"]);\\n      expect(stored[0].created).toEqual(input.created);\\n    });\\n\\n    \\n    \\n    it(\"should store a text entry with empty tags array\", async () => {\\n      const input: TextEntry = {\\n        id: \"test-id-2\",\\n        text: \"Another text content\",\\n        tags: [],\\n        created: new Date(\"2024-01-01T00:00:00Z\")\\n      };\\n      \\n      const result = await storeEntry(input);\\n      \\n      expect(result).toEqual(\"test-id-2\");\\n      \\n      const stored = await db.select().from(textEntriesTable).execute();\\n      expect(stored).toHaveLength(1);\\n      expect(stored[0].id).toEqual(\"test-id-2\");\\n      expect(stored[0].text).toEqual(\"Another text content\");\\n      expect(stored[0].tags).toEqual([]);\\n    });\\n\\n    \\n    \\n    it(\"should store multiple text entries\", async () => {\\n      const entries: TextEntry[] = [\\n        {\\n          id: \"test-id-3\",\\n          text: \"First entry\",\\n          tags: [\"tag1\"],\\n          created: new Date(\"2024-01-01T00:00:00Z\")\\n        },\\n        {\\n          id: \"test-id-4\",\\n          text: \"Second entry\",\\n          tags: [\"tag2\"],\\n          created: new Date(\"2024-01-01T00:00:00Z\")\\n        }\\n      ];\\n      \\n      await Promise.all(entries.map(entry => storeEntry(entry)));\\n      \\n      const stored = await db.select().from(textEntriesTable).execute();\\n      expect(stored).toHaveLength(2);\\n      expect(stored.map(s => s.id)).toEqual([\"test-id-3\", \"test-id-4\"]);\\n    });\\n\\n    \\n});', error_output=None),\n",
       "  'searchEntries': HandlerTestsOut(name='searchEntries', content='\\nimport { afterEach, beforeEach, describe } from \"bun:test\";\\nimport { resetDB, createDB } from \"../../helpers\";\\nimport { handle as searchEntries } from \"../../handlers/searchEntries.ts\";\\nimport { expect, it } from \"bun:test\";\\nimport { db } from \"../../db\";\\nimport { textEntriesTable } from \"../../db/schema/application\";\\nimport { type SearchRequest, type TextEntry } from \"../../common/schema\";\\n\\ndescribe(\"\", () => {\\n    beforeEach(async () => {\\n        await createDB();\\n    });\\n\\n    afterEach(async () => {\\n        await resetDB();\\n    });\\n    \\n    \\n    it(\"should return matching entries based on search query\", async () => {\\n      const testEntry: TextEntry = {\\n        id: \"123e4567-e89b-12d3-a456-426614174000\",\\n        text: \"Sample text about testing\",\\n        tags: [\"test\", \"sample\"],\\n        created: new Date(\"2024-01-01\")\\n      };\\n      \\n      await db.insert(textEntriesTable).values(testEntry);\\n      \\n      const searchRequest: SearchRequest = {\\n        query: \"testing\",\\n        limit: 10,\\n        minRelevance: 0.5\\n      };\\n      \\n      const results = await searchEntries(searchRequest);\\n      \\n      expect(results).toHaveLength(1);\\n      expect(results[0].text).toEqual(testEntry.text);\\n      expect(results[0].tags).toEqual(testEntry.tags);\\n    });\\n\\n    \\n    \\n    it(\"should respect the limit parameter\", async () => {\\n      const entries: TextEntry[] = [\\n        {\\n          id: \"123e4567-e89b-12d3-a456-426614174001\",\\n          text: \"First test entry\",\\n          tags: [\"test\"],\\n          created: new Date(\"2024-01-01\")\\n        },\\n        {\\n          id: \"123e4567-e89b-12d3-a456-426614174002\",\\n          text: \"Second test entry\",\\n          tags: [\"test\"],\\n          created: new Date(\"2024-01-01\")\\n        }\\n      ];\\n      \\n      await db.insert(textEntriesTable).values(entries);\\n      \\n      const searchRequest: SearchRequest = {\\n        query: \"test\",\\n        limit: 1,\\n        minRelevance: 0.5\\n      };\\n      \\n      const results = await searchEntries(searchRequest);\\n      \\n      expect(results).toHaveLength(1);\\n    });\\n\\n    \\n    \\n    it(\"should filter results by minimum relevance\", async () => {\\n      const entry: TextEntry = {\\n        id: \"123e4567-e89b-12d3-a456-426614174003\",\\n        text: \"This is a completely different text\",\\n        tags: [\"other\"],\\n        created: new Date(\"2024-01-01\")\\n      };\\n      \\n      await db.insert(textEntriesTable).values(entry);\\n      \\n      const searchRequest: SearchRequest = {\\n        query: \"test\",\\n        limit: 10,\\n        minRelevance: 0.9\\n      };\\n      \\n      const results = await searchEntries(searchRequest);\\n      \\n      expect(results).toHaveLength(0);\\n    });\\n\\n    \\n    \\n    it(\"should return empty array when no matches found\", async () => {\\n      const searchRequest: SearchRequest = {\\n        query: \"nonexistent\",\\n        limit: 10,\\n        minRelevance: 0.5\\n      };\\n      \\n      const results = await searchEntries(searchRequest);\\n      \\n      expect(results).toBeInstanceOf(Array);\\n      expect(results).toHaveLength(0);\\n    });\\n\\n    \\n});', error_output=None),\n",
       "  'listEntries': HandlerTestsOut(name='listEntries', content='\\nimport { afterEach, beforeEach, describe } from \"bun:test\";\\nimport { resetDB, createDB } from \"../../helpers\";\\nimport { handle as listEntries } from \"../../handlers/listEntries.ts\";\\nimport { expect, it } from \"bun:test\";\\nimport { db } from \"../../db\";\\nimport { textEntriesTable } from \"../../db/schema/application\";\\nimport { type ListRequest, type TextEntry } from \"../../common/schema\";\\nimport { and, gte, lte, arrayContains } from \"drizzle-orm\";\\n\\ndescribe(\"\", () => {\\n    beforeEach(async () => {\\n        await createDB();\\n    });\\n\\n    afterEach(async () => {\\n        await resetDB();\\n    });\\n    \\n    \\n    it(\"should return empty array when no entries exist\", async () => {\\n      const input: ListRequest = {\\n        from: new Date(\"2024-01-01\"),\\n        to: new Date(\"2024-01-02\"),\\n        limit: 10,\\n        tags: []\\n      };\\n      \\n      const entries = await listEntries(input);\\n      expect(entries).toEqual([]);\\n    });\\n\\n    \\n    \\n    it(\"should return entries within date range\", async () => {\\n      const testEntry: TextEntry = {\\n        id: \"test-id-1\",\\n        text: \"Test entry\",\\n        tags: [\"test\"],\\n        created: new Date(\"2024-01-01T12:00:00Z\")\\n      };\\n      \\n      await db.insert(textEntriesTable).values(testEntry);\\n      \\n      const input: ListRequest = {\\n        from: new Date(\"2024-01-01\"),\\n        to: new Date(\"2024-01-02\"),\\n        limit: 10,\\n        tags: []\\n      };\\n      \\n      const entries = await listEntries(input);\\n      expect(entries).toHaveLength(1);\\n      expect(entries[0].id).toEqual(testEntry.id);\\n      expect(entries[0].text).toEqual(testEntry.text);\\n    });\\n\\n    \\n    \\n    it(\"should filter by tags\", async () => {\\n      const testEntry: TextEntry = {\\n        id: \"test-id-2\",\\n        text: \"Test entry with specific tag\",\\n        tags: [\"specific-tag\"],\\n        created: new Date(\"2024-01-01T12:00:00Z\")\\n      };\\n      \\n      await db.insert(textEntriesTable).values(testEntry);\\n      \\n      const input: ListRequest = {\\n        from: new Date(\"2024-01-01\"),\\n        to: new Date(\"2024-01-02\"),\\n        limit: 10,\\n        tags: [\"specific-tag\"]\\n      };\\n      \\n      const entries = await listEntries(input);\\n      expect(entries).toHaveLength(1);\\n      expect(entries[0].tags).toContain(\"specific-tag\");\\n    });\\n\\n    \\n    \\n    it(\"should respect limit parameter\", async () => {\\n      const testEntries: TextEntry[] = [\\n        {\\n          id: \"test-id-3\",\\n          text: \"First entry\",\\n          tags: [\"test\"],\\n          created: new Date(\"2024-01-01T12:00:00Z\")\\n        },\\n        {\\n          id: \"test-id-4\",\\n          text: \"Second entry\",\\n          tags: [\"test\"],\\n          created: new Date(\"2024-01-01T13:00:00Z\")\\n        }\\n      ];\\n      \\n      await db.insert(textEntriesTable).values(testEntries);\\n      \\n      const input: ListRequest = {\\n        from: new Date(\"2024-01-01\"),\\n        to: new Date(\"2024-01-02\"),\\n        limit: 1,\\n        tags: []\\n      };\\n      \\n      const entries = await listEntries(input);\\n      expect(entries).toHaveLength(1);\\n    });\\n\\n    \\n});', error_output=None)},\n",
       " 'typescript_schema': TypescriptOut(reasoning=\"The application is a semantic note-taking system with the following data structures and operations:\\n1. TextEntry - represents a note with text, tags, and creation timestamp\\n2. SearchRequest - parameters for semantic search including relevance threshold\\n3. ListRequest - parameters for filtering entries by date range and tags\\n4. DeleteRequest - simple structure for deletion by ID\\nThe interface provides CRUD operations with semantic search capabilities.\\nAll datetime fields should use Zod's coerced date parsing for reliable handling.\\nFunctions are declared as async operations returning Promises.\", typescript_schema=\"import { z } from 'zod';\\n\\nexport const textEntrySchema = z.object({\\n    id: z.string(),\\n    text: z.string(),\\n    tags: z.array(z.string()),\\n    created: z.coerce.date()\\n});\\n\\nexport type TextEntry = z.infer<typeof textEntrySchema>;\\n\\nexport const searchRequestSchema = z.object({\\n    query: z.string(),\\n    limit: z.number().int(),\\n    minRelevance: z.number()\\n});\\n\\nexport type SearchRequest = z.infer<typeof searchRequestSchema>;\\n\\nexport const listRequestSchema = z.object({\\n    from: z.coerce.date(),\\n    to: z.coerce.date(),\\n    limit: z.number().int(),\\n    tags: z.array(z.string())\\n});\\n\\nexport type ListRequest = z.infer<typeof listRequestSchema>;\\n\\nexport const deleteRequestSchema = z.object({\\n    id: z.string()\\n});\\n\\nexport type DeleteRequest = z.infer<typeof deleteRequestSchema>;\\n\\nexport declare function storeEntry(options: TextEntry): Promise<string>;\\n\\nexport declare function searchEntries(options: SearchRequest): Promise<TextEntry[]>;\\n\\nexport declare function listEntries(options: ListRequest): Promise<TextEntry[]>;\\n\\nexport declare function deleteEntry(options: DeleteRequest): Promise<void>;\", functions=[TypescriptFunction(name='storeEntry', argument_type='TextEntry', argument_schema='textEntrySchema', return_type='Promise<string>'), TypescriptFunction(name='searchEntries', argument_type='SearchRequest', argument_schema='searchRequestSchema', return_type='Promise<TextEntry[]>'), TypescriptFunction(name='listEntries', argument_type='ListRequest', argument_schema='listRequestSchema', return_type='Promise<TextEntry[]>'), TypescriptFunction(name='deleteEntry', argument_type='DeleteRequest', argument_schema='deleteRequestSchema', return_type='Promise<void>')], error_output=None),\n",
       " 'gherkin': GherkinOut(reasoning=None, gherkin=None, error_output=None),\n",
       " 'trace_id': '52274202-c70d-439d-b6b5-8485a830b236'}"
      ]
     },
     "execution_count": 10,
     "metadata": {},
     "output_type": "execute_result"
    }
   ],
   "source": [
    "my_bot.__dict__"
   ]
  },
  {
   "cell_type": "code",
   "execution_count": null,
   "metadata": {},
   "outputs": [],
   "source": []
  }
 ],
 "metadata": {
  "kernelspec": {
   "display_name": ".venv",
   "language": "python",
   "name": "python3"
  },
  "language_info": {
   "codemirror_mode": {
    "name": "ipython",
    "version": 3
   },
   "file_extension": ".py",
   "mimetype": "text/x-python",
   "name": "python",
   "nbconvert_exporter": "python",
   "pygments_lexer": "ipython3",
   "version": "3.12.3"
  }
 },
 "nbformat": 4,
 "nbformat_minor": 2
}
