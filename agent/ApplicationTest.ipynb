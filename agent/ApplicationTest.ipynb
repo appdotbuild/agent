{
 "cells": [
  {
   "cell_type": "code",
   "execution_count": 1,
   "metadata": {},
   "outputs": [],
   "source": [
    "from anthropic import AnthropicBedrock\n",
    "from application import Application\n",
    "from services import CompilerService\n",
    "import tempfile"
   ]
  },
  {
   "cell_type": "code",
   "execution_count": 2,
   "metadata": {},
   "outputs": [],
   "source": [
    "compiler = CompilerService()\n",
    "client = AnthropicBedrock(aws_profile=\"dev\", aws_region=\"us-west-2\")"
   ]
  },
  {
   "cell_type": "code",
   "execution_count": 3,
   "metadata": {},
   "outputs": [],
   "source": [
    "\n",
    "tempdir = tempfile.TemporaryDirectory()\n",
    "application = Application(client, compiler, \"templates\", tempdir.name)"
   ]
  },
  {
   "cell_type": "code",
   "execution_count": 4,
   "metadata": {},
   "outputs": [],
   "source": [
    "application_description = \"\"\"\n",
    "Bot that tracks my exercise routine in the gym, tracks progress and suggests new routines\n",
    "for specific list of available equipment and time constraints.\n",
    "\"\"\".strip()"
   ]
  },
  {
   "cell_type": "code",
   "execution_count": 5,
   "metadata": {},
   "outputs": [
    {
     "name": "stdout",
     "output_type": "stream",
     "text": [
      "Compiling TypeSpec...\n",
      "Compiling Drizzle...\n",
      "Generating Router...\n",
      "Generating Preprocessors...\n",
      "Generating Handlers...\n",
      "Generating Application...\n"
     ]
    }
   ],
   "source": [
    "my_bot = application.create_bot(application_description)"
   ]
  },
  {
   "cell_type": "code",
   "execution_count": 6,
   "metadata": {},
   "outputs": [
    {
     "data": {
      "text/plain": [
       "{'typespec': {'message': {'role': 'assistant',\n",
       "   'content': '<reasoning>\\nFor a gym tracking bot, I expect users to send messages like:\\n- \"I did 3 sets of bench press with 80kg today\"\\n- \"Suggest a 30-minute workout for chest using dumbbells and bench\"\\n- \"How has my deadlift progressed over the last month?\"\\n\\nThe bot needs to:\\n1. Record exercises with sets, reps, and weights\\n2. Generate workout routines based on equipment and time\\n3. Track progress over time\\n4. Store available equipment\\n\\nKey functions:\\n- recordExercise: Records completed exercises with details\\n- suggestWorkout: Generates workout based on constraints\\n- trackProgress: Shows progress for specific exercise\\n- setAvailableEquipment: Updates list of available equipment\\n</reasoning>\\n\\n<typespec>\\nmodel Exercise {\\n  name: string;\\n  sets: integer;\\n  reps: integer;\\n  weight: float;\\n  date: utcDateTime;\\n}\\n\\nmodel Equipment {\\n  name: string;\\n  category: string;\\n}\\n\\nmodel WorkoutConstraints {\\n  targetMuscles: string[];\\n  availableTime: duration;\\n  equipment: Equipment[];\\n}\\n\\nmodel WorkoutPlan {\\n  exercises: ExerciseInstruction[];\\n  estimatedDuration: duration;\\n}\\n\\nmodel ExerciseInstruction {\\n  name: string;\\n  sets: integer;\\n  reps: integer;\\n  suggestedWeight: float;\\n  restPeriod: duration;\\n  equipment: Equipment[];\\n}\\n\\nmodel Progress {\\n  exercise: string;\\n  history: Exercise[];\\n  maxWeight: float;\\n  weightProgression: float;\\n}\\n\\ninterface GymTracker {\\n  @llm_func(2)\\n  recordExercise(exercise: Exercise): void;\\n\\n  @llm_func(1)\\n  suggestWorkout(constraints: WorkoutConstraints): WorkoutPlan;\\n\\n  @llm_func(1)\\n  trackProgress(exerciseName: string, timeframe: duration): Progress;\\n\\n  @llm_func(1)\\n  setAvailableEquipment(equipment: Equipment[]): void;\\n}\\n</typespec>'},\n",
       "  'output': {'reasoning': 'For a gym tracking bot, I expect users to send messages like:\\n- \"I did 3 sets of bench press with 80kg today\"\\n- \"Suggest a 30-minute workout for chest using dumbbells and bench\"\\n- \"How has my deadlift progressed over the last month?\"\\n\\nThe bot needs to:\\n1. Record exercises with sets, reps, and weights\\n2. Generate workout routines based on equipment and time\\n3. Track progress over time\\n4. Store available equipment\\n\\nKey functions:\\n- recordExercise: Records completed exercises with details\\n- suggestWorkout: Generates workout based on constraints\\n- trackProgress: Shows progress for specific exercise\\n- setAvailableEquipment: Updates list of available equipment',\n",
       "   'typespec_definitions': 'model Exercise {\\n  name: string;\\n  sets: integer;\\n  reps: integer;\\n  weight: float;\\n  date: utcDateTime;\\n}\\n\\nmodel Equipment {\\n  name: string;\\n  category: string;\\n}\\n\\nmodel WorkoutConstraints {\\n  targetMuscles: string[];\\n  availableTime: duration;\\n  equipment: Equipment[];\\n}\\n\\nmodel WorkoutPlan {\\n  exercises: ExerciseInstruction[];\\n  estimatedDuration: duration;\\n}\\n\\nmodel ExerciseInstruction {\\n  name: string;\\n  sets: integer;\\n  reps: integer;\\n  suggestedWeight: float;\\n  restPeriod: duration;\\n  equipment: Equipment[];\\n}\\n\\nmodel Progress {\\n  exercise: string;\\n  history: Exercise[];\\n  maxWeight: float;\\n  weightProgression: float;\\n}\\n\\ninterface GymTracker {\\n  @llm_func(2)\\n  recordExercise(exercise: Exercise): void;\\n\\n  @llm_func(1)\\n  suggestWorkout(constraints: WorkoutConstraints): WorkoutPlan;\\n\\n  @llm_func(1)\\n  trackProgress(exerciseName: string, timeframe: duration): Progress;\\n\\n  @llm_func(1)\\n  setAvailableEquipment(equipment: Equipment[]): void;\\n}',\n",
       "   'llm_functions': ['recordExercise',\n",
       "    'suggestWorkout',\n",
       "    'trackProgress',\n",
       "    'setAvailableEquipment']},\n",
       "  'feedback': {'exit_code': 0,\n",
       "   'stdout': 'TypeSpec compiler v0.64.0\\n\\nCompilation completed successfully.\\n\\n',\n",
       "   'stderr': None}},\n",
       " 'drizzle': {'message': {'role': 'assistant',\n",
       "   'content': 'Let me analyze the TypeSpec models and create an appropriate Drizzle schema for PostgreSQL.\\n\\n<reasoning>\\nThe application manages:\\n1. Exercises with their details (name, sets, reps, weight, date)\\n2. Equipment items with names and categories\\n3. Workout plans with exercise instructions\\n4. Progress tracking data\\n5. Many-to-many relationships between exercises and equipment\\n\\nWe need to:\\n- Create tables for core entities\\n- Handle array types for target muscles using PostgreSQL array type\\n- Use proper data types for duration (interval) and datetime\\n- Set up appropriate relationships between tables\\n</reasoning>\\n\\n<drizzle>\\nimport { \\n  integer, \\n  pgTable, \\n  text, \\n  timestamp, \\n  real, \\n  interval,\\n  primaryKey\\n} from \"drizzle-orm/pg-core\";\\n\\n// Equipment table\\nexport const equipmentTable = pgTable(\"equipment\", {\\n  id: integer(\"id\").primaryKey().generatedAlwaysAsIdentity(),\\n  name: text(\"name\").notNull(),\\n  category: text(\"category\").notNull(),\\n});\\n\\n// Exercise records table\\nexport const exerciseTable = pgTable(\"exercises\", {\\n  id: integer(\"id\").primaryKey().generatedAlwaysAsIdentity(),\\n  name: text(\"name\").notNull(),\\n  sets: integer(\"sets\").notNull(),\\n  reps: integer(\"reps\").notNull(),\\n  weight: real(\"weight\").notNull(),\\n  date: timestamp(\"date\").notNull(),\\n});\\n\\n// Workout plans table\\nexport const workoutPlanTable = pgTable(\"workout_plans\", {\\n  id: integer(\"id\").primaryKey().generatedAlwaysAsIdentity(),\\n  estimatedDuration: interval(\"estimated_duration\").notNull(),\\n});\\n\\n// Exercise instructions table\\nexport const exerciseInstructionTable = pgTable(\"exercise_instructions\", {\\n  id: integer(\"id\").primaryKey().generatedAlwaysAsIdentity(),\\n  workout_plan_id: integer(\"workout_plan_id\")\\n    .references(() => workoutPlanTable.id),\\n  name: text(\"name\").notNull(),\\n  sets: integer(\"sets\").notNull(),\\n  reps: integer(\"reps\").notNull(),\\n  suggested_weight: real(\"suggested_weight\").notNull(),\\n  rest_period: interval(\"rest_period\").notNull(),\\n});\\n\\n// Progress tracking table\\nexport const progressTable = pgTable(\"progress\", {\\n  id: integer(\"id\").primaryKey().generatedAlwaysAsIdentity(),\\n  exercise_name: text(\"exercise_name\").notNull(),\\n  max_weight: real(\"max_weight\").notNull(),\\n  weight_progression: real(\"weight_progression\").notNull(),\\n});\\n\\n// Many-to-many relationship between exercises and equipment\\nexport const exerciseEquipmentTable = pgTable(\"exercise_equipment\", {\\n  exercise_id: integer(\"exercise_id\")\\n    .references(() => exerciseTable.id),\\n  equipment_id: integer(\"equipment_id\")\\n    .references(() => equipmentTable.id),\\n}, (table) => ({\\n  pk: primaryKey(table.exercise_id, table.equipment_id),\\n}));\\n\\n// Many-to-many relationship between exercise instructions and equipment\\nexport const instructionEquipmentTable = pgTable(\"instruction_equipment\", {\\n  instruction_id: integer(\"instruction_id\")\\n    .references(() => exerciseInstructionTable.id),\\n  equipment_id: integer(\"equipment_id\")\\n    .references(() => equipmentTable.id),\\n}, (table) => ({\\n  pk: primaryKey(table.instruction_id, table.equipment_id),\\n}));\\n\\n// Workout constraints table\\nexport const workoutConstraintsTable = pgTable(\"workout_constraints\", {\\n  id: integer(\"id\").primaryKey().generatedAlwaysAsIdentity(),\\n  target_muscles: text(\"target_muscles\").array(),\\n  available_time: interval(\"available_time\").notNull(),\\n});\\n</drizzle>'},\n",
       "  'output': {'reasoning': 'The application manages:\\n1. Exercises with their details (name, sets, reps, weight, date)\\n2. Equipment items with names and categories\\n3. Workout plans with exercise instructions\\n4. Progress tracking data\\n5. Many-to-many relationships between exercises and equipment\\n\\nWe need to:\\n- Create tables for core entities\\n- Handle array types for target muscles using PostgreSQL array type\\n- Use proper data types for duration (interval) and datetime\\n- Set up appropriate relationships between tables',\n",
       "   'drizzle_schema': 'import { \\n  integer, \\n  pgTable, \\n  text, \\n  timestamp, \\n  real, \\n  interval,\\n  primaryKey\\n} from \"drizzle-orm/pg-core\";\\n\\n// Equipment table\\nexport const equipmentTable = pgTable(\"equipment\", {\\n  id: integer(\"id\").primaryKey().generatedAlwaysAsIdentity(),\\n  name: text(\"name\").notNull(),\\n  category: text(\"category\").notNull(),\\n});\\n\\n// Exercise records table\\nexport const exerciseTable = pgTable(\"exercises\", {\\n  id: integer(\"id\").primaryKey().generatedAlwaysAsIdentity(),\\n  name: text(\"name\").notNull(),\\n  sets: integer(\"sets\").notNull(),\\n  reps: integer(\"reps\").notNull(),\\n  weight: real(\"weight\").notNull(),\\n  date: timestamp(\"date\").notNull(),\\n});\\n\\n// Workout plans table\\nexport const workoutPlanTable = pgTable(\"workout_plans\", {\\n  id: integer(\"id\").primaryKey().generatedAlwaysAsIdentity(),\\n  estimatedDuration: interval(\"estimated_duration\").notNull(),\\n});\\n\\n// Exercise instructions table\\nexport const exerciseInstructionTable = pgTable(\"exercise_instructions\", {\\n  id: integer(\"id\").primaryKey().generatedAlwaysAsIdentity(),\\n  workout_plan_id: integer(\"workout_plan_id\")\\n    .references(() => workoutPlanTable.id),\\n  name: text(\"name\").notNull(),\\n  sets: integer(\"sets\").notNull(),\\n  reps: integer(\"reps\").notNull(),\\n  suggested_weight: real(\"suggested_weight\").notNull(),\\n  rest_period: interval(\"rest_period\").notNull(),\\n});\\n\\n// Progress tracking table\\nexport const progressTable = pgTable(\"progress\", {\\n  id: integer(\"id\").primaryKey().generatedAlwaysAsIdentity(),\\n  exercise_name: text(\"exercise_name\").notNull(),\\n  max_weight: real(\"max_weight\").notNull(),\\n  weight_progression: real(\"weight_progression\").notNull(),\\n});\\n\\n// Many-to-many relationship between exercises and equipment\\nexport const exerciseEquipmentTable = pgTable(\"exercise_equipment\", {\\n  exercise_id: integer(\"exercise_id\")\\n    .references(() => exerciseTable.id),\\n  equipment_id: integer(\"equipment_id\")\\n    .references(() => equipmentTable.id),\\n}, (table) => ({\\n  pk: primaryKey(table.exercise_id, table.equipment_id),\\n}));\\n\\n// Many-to-many relationship between exercise instructions and equipment\\nexport const instructionEquipmentTable = pgTable(\"instruction_equipment\", {\\n  instruction_id: integer(\"instruction_id\")\\n    .references(() => exerciseInstructionTable.id),\\n  equipment_id: integer(\"equipment_id\")\\n    .references(() => equipmentTable.id),\\n}, (table) => ({\\n  pk: primaryKey(table.instruction_id, table.equipment_id),\\n}));\\n\\n// Workout constraints table\\nexport const workoutConstraintsTable = pgTable(\"workout_constraints\", {\\n  id: integer(\"id\").primaryKey().generatedAlwaysAsIdentity(),\\n  target_muscles: text(\"target_muscles\").array(),\\n  available_time: interval(\"available_time\").notNull(),\\n});'},\n",
       "  'feedback': {'exit_code': 1,\n",
       "   'stdout': 'No config path provided, using default \\'drizzle.config.ts\\'\\nReading config file \\'/app/drizzle.config.ts\\'\\nError  Either connection \"url\" or \"host\", \"database\" are required for PostgreSQL database connection\\n',\n",
       "   'stderr': None}},\n",
       " 'router': {'user_functions': [{'name': 'recordExercise',\n",
       "    'description': 'Records a completed exercise with details including name, sets, reps, weight, and date. Use this when user wants to log their workout activity.',\n",
       "    'examples': ['I just did 3 sets of bench press, 8 reps each with 175 lbs',\n",
       "     'Completed 4 sets of squats at 200 lbs, 6 reps each',\n",
       "     'Log my deadlift: 5 sets, 5 reps, 225 lbs',\n",
       "     'Today I did shoulder press: 3 sets of 10 reps at 95 pounds']},\n",
       "   {'name': 'suggestWorkout',\n",
       "    'description': 'Generates a workout plan based on target muscles, available time, and equipment constraints. Use this when user wants workout recommendations or a new routine.',\n",
       "    'examples': ['What exercises can I do for chest in 45 minutes with just dumbbells?',\n",
       "     'Suggest a back workout routine, I have access to a full gym and 1 hour',\n",
       "     'Create a leg day workout plan, I only have resistance bands and 30 minutes',\n",
       "     'Plan my arm workout for today, I have barbells and cables, about 50 minutes available']},\n",
       "   {'name': 'trackProgress',\n",
       "    'description': 'Analyzes progress for a specific exercise over a given timeframe, showing history and weight progression. Use this when user wants to see their improvement or stats.',\n",
       "    'examples': ['Show my bench press progress over the last month',\n",
       "     'How has my squat improved in the past 3 months?',\n",
       "     \"What's my deadlift progression looking like?\",\n",
       "     'Track my progress on shoulder press for the last 6 weeks']},\n",
       "   {'name': 'setAvailableEquipment',\n",
       "    'description': 'Updates the list of available exercise equipment and their categories. Use this when user wants to specify what equipment they have access to.',\n",
       "    'examples': ['I have access to dumbbells, a bench, and resistance bands',\n",
       "     'Update my gym equipment: full rack, barbell, and plates',\n",
       "     'My home gym has kettlebells and pull-up bar',\n",
       "     'Set my available equipment to just bodyweight exercises']}]},\n",
       " 'preprocessors': {'trackProgress': {'instructions': 'The trackProgress function requires two arguments:\\n1. exerciseName (string) - Should extract exercise name from user input, case-insensitive\\n2. timeframe (duration) - Should parse duration from input or default to \"P30D\" (30 days) if not specified\\n\\nDuration format follows ISO 8601: \\n- PnD for days (e.g., P30D)\\n- PnW for weeks (e.g., P4W)\\n- PnM for months (e.g., P3M)',\n",
       "   'examples': [('Show me my bench press progress for the last 3 months',\n",
       "     '{\\n    \"exerciseName\": \"bench press\",\\n    \"timeframe\": \"P3M\"\\n}'),\n",
       "    ('How am I doing on squats?',\n",
       "     '{\\n    \"exerciseName\": \"squats\",\\n    \"timeframe\": \"P30D\"\\n}'),\n",
       "    ('Track deadlift progress for past 2 weeks',\n",
       "     '{\\n    \"exerciseName\": \"deadlift\",\\n    \"timeframe\": \"P2W\"\\n}'),\n",
       "    ('Progress on shoulder press since last week',\n",
       "     '{\\n    \"exerciseName\": \"shoulder press\",\\n    \"timeframe\": \"P1W\"\\n}'),\n",
       "    ('Show pullups progress',\n",
       "     '{\\n    \"exerciseName\": \"pullups\",\\n    \"timeframe\": \"P30D\"\\n}')]},\n",
       "  'setAvailableEquipment': {'instructions': 'When processing user input for setAvailableEquipment:\\n1. Each equipment item must have both \\'name\\' and \\'category\\' properties\\n2. Equipment names should be normalized to lowercase\\n3. Categories should be one of: \"free weights\", \"machines\", \"cardio\", \"bodyweight\", \"accessories\"\\n4. Accept both single equipment items and lists\\n5. If category is not specified, attempt to categorize based on common gym equipment knowledge',\n",
       "   'examples': [('I have dumbbells, a bench, and a treadmill',\n",
       "     '{\\n  \"equipment\": [\\n    {\"name\": \"dumbbells\", \"category\": \"free weights\"},\\n    {\"name\": \"bench\", \"category\": \"accessories\"},\\n    {\"name\": \"treadmill\", \"category\": \"cardio\"}\\n  ]\\n}'),\n",
       "    ('My gym has a lat pulldown machine and leg press',\n",
       "     '{\\n  \"equipment\": [\\n    {\"name\": \"lat pulldown\", \"category\": \"machines\"},\\n    {\"name\": \"leg press\", \"category\": \"machines\"}\\n  ]\\n}'),\n",
       "    ('Update equipment: squat rack with plates and barbell',\n",
       "     '{\\n  \"equipment\": [\\n    {\"name\": \"squat rack\", \"category\": \"free weights\"},\\n    {\"name\": \"weight plates\", \"category\": \"free weights\"},\\n    {\"name\": \"barbell\", \"category\": \"free weights\"}\\n  ]\\n}'),\n",
       "    ('Home gym setup: resistance bands and yoga mat',\n",
       "     '{\\n  \"equipment\": [\\n    {\"name\": \"resistance bands\", \"category\": \"accessories\"},\\n    {\"name\": \"yoga mat\", \"category\": \"accessories\"}\\n  ]\\n}'),\n",
       "    ('Empty gym - only bodyweight exercises possible',\n",
       "     '{\\n  \"equipment\": [\\n    {\"name\": \"floor\", \"category\": \"bodyweight\"}\\n  ]\\n}')]},\n",
       "  'recordExercise': {'instructions': 'The recordExercise function expects an Exercise object with the following rules:\\n1. name: Must be a non-empty string representing exercise name\\n2. sets: Integer value > 0\\n3. reps: Integer value > 0 \\n4. weight: Float value ≥ 0\\n5. date: If not specified, use current UTC datetime\\n6. Common shorthand formats like \"bench press 80x5x3\" should be interpreted as:\\n   - exercise name: \"bench press\"\\n   - weight: 80\\n   - reps: 5 \\n   - sets: 3',\n",
       "   'examples': [('bench press 80x5x3',\n",
       "     '{\\n    \"name\": \"bench press\",\\n    \"sets\": 3,\\n    \"reps\": 5,\\n    \"weight\": 80.0,\\n    \"date\": \"2024-01-20T10:30:00Z\"\\n}'),\n",
       "    ('Just did squats 100kg for 8 reps',\n",
       "     '{\\n    \"name\": \"squats\",\\n    \"sets\": 1,\\n    \"reps\": 8,\\n    \"weight\": 100.0,\\n    \"date\": \"2024-01-20T10:30:00Z\"\\n}'),\n",
       "    ('deadlift 120x5 today at 9am',\n",
       "     '{\\n    \"name\": \"deadlift\",\\n    \"sets\": 1,\\n    \"reps\": 5,\\n    \"weight\": 120.0,\\n    \"date\": \"2024-01-20T09:00:00Z\"\\n}'),\n",
       "    ('Record my pullups: 3 sets of 12 reps',\n",
       "     '{\\n    \"name\": \"pullups\",\\n    \"sets\": 3,\\n    \"reps\": 12,\\n    \"weight\": 0.0,\\n    \"date\": \"2024-01-20T10:30:00Z\"\\n}'),\n",
       "    ('Yesterday I did 3x10 pushups',\n",
       "     '{\\n    \"name\": \"pushups\",\\n    \"sets\": 3,\\n    \"reps\": 10,\\n    \"weight\": 0.0,\\n    \"date\": \"2024-01-19T10:30:00Z\"\\n}')]},\n",
       "  'suggestWorkout': {'instructions': 'For the suggestWorkout function:\\n- Analyze user input for mentioned muscle groups, time constraints, and equipment\\n- Default availableTime to 60 minutes if not specified\\n- Equipment categories should be one of: \"free weights\", \"machines\", \"bodyweight\", \"cardio\"\\n- If no equipment is specified, assume basic gym equipment is available\\n- Extract target muscles from common terms like \"chest day\", \"leg workout\", etc.',\n",
       "   'examples': [('I want a 30 minute chest workout with dumbbells',\n",
       "     '{\\n    \"constraints\": {\\n        \"targetMuscles\": [\"chest\", \"triceps\"],\\n        \"availableTime\": \"PT30M\",\\n        \"equipment\": [{\\n            \"name\": \"dumbbells\",\\n            \"category\": \"free weights\"\\n        }]\\n    }\\n}'),\n",
       "    ('Full body workout at home, I only have resistance bands',\n",
       "     '{\\n    \"constraints\": {\\n        \"targetMuscles\": [\"chest\", \"back\", \"legs\", \"shoulders\", \"arms\", \"core\"],\\n        \"availableTime\": \"PT60M\",\\n        \"equipment\": [{\\n            \"name\": \"resistance bands\",\\n            \"category\": \"free weights\"\\n        }]\\n    }\\n}'),\n",
       "    ('Quick leg session at the gym',\n",
       "     '{\\n    \"constraints\": {\\n        \"targetMuscles\": [\"quadriceps\", \"hamstrings\", \"calves\", \"glutes\"],\\n        \"availableTime\": \"PT60M\",\\n        \"equipment\": [\\n            {\\n                \"name\": \"squat rack\",\\n                \"category\": \"free weights\"\\n            },\\n            {\\n                \"name\": \"leg press\",\\n                \"category\": \"machines\"\\n            },\\n            {\\n                \"name\": \"dumbbells\",\\n                \"category\": \"free weights\"\\n            }\\n        ]\\n    }\\n}'),\n",
       "    ('20 minute bodyweight upper body workout',\n",
       "     '{\\n    \"constraints\": {\\n        \"targetMuscles\": [\"chest\", \"back\", \"shoulders\", \"triceps\", \"biceps\"],\\n        \"availableTime\": \"PT20M\",\\n        \"equipment\": [{\\n            \"name\": \"bodyweight\",\\n            \"category\": \"bodyweight\"\\n        }]\\n    }\\n}')]}},\n",
       " 'handlers': {'setAvailableEquipment': {'handler': 'import { db } from \"../db\";\\nimport { equipmentTable } from \\'../db/schema/application\\';\\n\\nconst handle = async (equipment: { name: string; category: string }[]): Promise<void> => {\\n    // First, clear existing equipment to maintain a fresh list\\n    await db.delete(equipmentTable).execute();\\n    \\n    // Insert all new equipment\\n    if (equipment.length > 0) {\\n        await db.insert(equipmentTable)\\n            .values(equipment.map(eq => ({\\n                name: eq.name,\\n                category: eq.category\\n            })))\\n            .execute();\\n    }\\n};'},\n",
       "  'recordExercise': {'handler': 'import { db } from \"../db\";\\nimport { exerciseTable } from \\'../db/schema/application\\';\\n\\nconst handle = async (exercise: {\\n    name: string;\\n    sets: number;\\n    reps: number;\\n    weight: number;\\n    date: Date;\\n}): Promise<void> => {\\n    await db.insert(exerciseTable).values({\\n        name: exercise.name,\\n        sets: exercise.sets,\\n        reps: exercise.reps,\\n        weight: exercise.weight,\\n        date: exercise.date\\n    }).execute();\\n};'},\n",
       "  'trackProgress': {'handler': 'import { db } from \"../db\";\\nimport { exerciseTable, progressTable } from \\'../db/schema/application\\';\\nimport { sql } from \\'drizzle-orm\\';\\n\\nconst handle = async (exerciseName: string, timeframe: string): Promise<Progress> => {\\n    // Get exercise history within timeframe\\n    const history = await db\\n        .select()\\n        .from(exerciseTable)\\n        .where(sql`name = ${exerciseName} AND date >= NOW() - ${timeframe}::interval`)\\n        .orderBy(exerciseTable.date);\\n\\n    // Calculate max weight and weight progression\\n    const maxWeight = Math.max(...history.map(ex => ex.weight));\\n    \\n    // Calculate weight progression (difference between last and first entry)\\n    const weightProgression = history.length >= 2\\n        ? history[history.length - 1].weight - history[0].weight\\n        : 0;\\n\\n    // Update progress table\\n    await db\\n        .insert(progressTable)\\n        .values({\\n            exercise_name: exerciseName,\\n            max_weight: maxWeight,\\n            weight_progression: weightProgression,\\n        })\\n        .onConflictDoUpdate({\\n            target: progressTable.exercise_name,\\n            set: {\\n                max_weight: maxWeight,\\n                weight_progression: weightProgression,\\n            }\\n        });\\n\\n    // Return progress data\\n    return {\\n        exercise: exerciseName,\\n        history: history.map(ex => ({\\n            name: ex.name,\\n            sets: ex.sets,\\n            reps: ex.reps,\\n            weight: ex.weight,\\n            date: ex.date\\n        })),\\n        maxWeight,\\n        weightProgression\\n    };\\n};'},\n",
       "  'suggestWorkout': {'handler': 'import { db } from \"../db\";\\nimport { \\n    workoutPlanTable, \\n    exerciseInstructionTable, \\n    equipmentTable,\\n    instructionEquipmentTable,\\n    exerciseTable\\n} from \\'../db/schema/application\\';\\nimport { eq, avg, desc } from \\'drizzle-orm\\';\\n\\nconst handle = async (constraints: WorkoutConstraints): Promise<WorkoutPlan> => {\\n    // Create a new workout plan\\n    const [workoutPlan] = await db\\n        .insert(workoutPlanTable)\\n        .values({\\n            estimatedDuration: constraints.availableTime\\n        })\\n        .returning();\\n\\n    // Get available equipment IDs\\n    const availableEquipment = await db\\n        .select({\\n            id: equipmentTable.id,\\n            name: equipmentTable.name,\\n            category: equipmentTable.category\\n        })\\n        .from(equipmentTable)\\n        .where(\\n            eq(equipmentTable.name, \\n               constraints.equipment.map(e => e.name))\\n        );\\n\\n    // Get average weights for exercises from history\\n    const exerciseStats = await db\\n        .select({\\n            name: exerciseTable.name,\\n            avgWeight: avg(exerciseTable.weight)\\n        })\\n        .from(exerciseTable)\\n        .groupBy(exerciseTable.name);\\n\\n    // Create exercise instructions\\n    const exerciseInstructions = await Promise.all(\\n        constraints.targetMuscles.map(async (muscle) => {\\n            const [instruction] = await db\\n                .insert(exerciseInstructionTable)\\n                .values({\\n                    workout_plan_id: workoutPlan.id,\\n                    name: `Exercise for ${muscle}`,\\n                    sets: 3, // Default values\\n                    reps: 12,\\n                    suggested_weight: exerciseStats.find(\\n                        stat => stat.name === `Exercise for ${muscle}`\\n                    )?.avgWeight || 0,\\n                    rest_period: \\'90 seconds\\'\\n                })\\n                .returning();\\n\\n            // Link equipment to instruction\\n            await db\\n                .insert(instructionEquipmentTable)\\n                .values(\\n                    availableEquipment.map(equipment => ({\\n                        instruction_id: instruction.id,\\n                        equipment_id: equipment.id\\n                    }))\\n                );\\n\\n            return {\\n                name: instruction.name,\\n                sets: instruction.sets,\\n                reps: instruction.reps,\\n                suggestedWeight: instruction.suggested_weight,\\n                restPeriod: instruction.rest_period,\\n                equipment: constraints.equipment\\n            };\\n        })\\n    );\\n\\n    return {\\n        exercises: exerciseInstructions,\\n        estimatedDuration: workoutPlan.estimatedDuration\\n    };\\n};'}},\n",
       " 'application': None}"
      ]
     },
     "execution_count": 6,
     "metadata": {},
     "output_type": "execute_result"
    }
   ],
   "source": [
    "my_bot"
   ]
  },
  {
   "cell_type": "code",
   "execution_count": 10,
   "metadata": {},
   "outputs": [
    {
     "data": {
      "text/plain": [
       "'/tmp/tmpx_nhjutc/generated/generation-1'"
      ]
     },
     "execution_count": 10,
     "metadata": {},
     "output_type": "execute_result"
    }
   ],
   "source": [
    "my_bot\n",
    "\n",
    "application.generation_dir\n",
    "\n"
   ]
  },
  {
   "cell_type": "code",
   "execution_count": 9,
   "metadata": {},
   "outputs": [],
   "source": [
    "#tempdir.cleanup()"
   ]
  }
 ],
 "metadata": {
  "kernelspec": {
   "display_name": ".venv",
   "language": "python",
   "name": "python3"
  },
  "language_info": {
   "codemirror_mode": {
    "name": "ipython",
    "version": 3
   },
   "file_extension": ".py",
   "mimetype": "text/x-python",
   "name": "python",
   "nbconvert_exporter": "python",
   "pygments_lexer": "ipython3",
   "version": "3.12.3"
  }
 },
 "nbformat": 4,
 "nbformat_minor": 2
}
