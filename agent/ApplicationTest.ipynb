{
 "cells": [
  {
   "cell_type": "code",
   "execution_count": 1,
   "metadata": {},
   "outputs": [],
   "source": [
    "%load_ext autoreload\n",
    "%autoreload 2"
   ]
  },
  {
   "cell_type": "code",
   "execution_count": 3,
   "metadata": {},
   "outputs": [],
   "source": [
    "from anthropic import AnthropicBedrock\n",
    "from application import Application\n",
    "from compiler.core import Compiler\n",
    "from core.interpolator import Interpolator"
   ]
  },
  {
   "cell_type": "code",
   "execution_count": 4,
   "metadata": {},
   "outputs": [],
   "source": [
    "compiler = Compiler(\"botbuild/tsp_compiler\", \"botbuild/app_schema\")\n",
    "client = AnthropicBedrock(aws_profile=\"dev\", aws_region=\"us-west-2\")"
   ]
  },
  {
   "cell_type": "code",
   "execution_count": 5,
   "metadata": {},
   "outputs": [],
   "source": [
    "application = Application(client, compiler)\n",
    "interpolator = Interpolator(\".\")"
   ]
  },
  {
   "cell_type": "code",
   "execution_count": 6,
   "metadata": {},
   "outputs": [],
   "source": [
    "application_description = \"\"\"\n",
    "Bot that does web search\n",
    "\"\"\".strip()"
   ]
  },
  {
   "cell_type": "code",
   "execution_count": 7,
   "metadata": {},
   "outputs": [],
   "source": [
    "application_description = \"Generate a bot that stores and searches notes\""
   ]
  },
  {
   "cell_type": "code",
   "execution_count": 9,
   "metadata": {},
   "outputs": [
    {
     "name": "stdout",
     "output_type": "stream",
     "text": [
      "Skipping Initial Description Refinement\n",
      "Compiling TypeSpec...\n"
     ]
    },
    {
     "ename": "Exception",
     "evalue": "Failed to generate typespec: TypeSpec compiler v0.64.0\n\nDiagnostics were reported during compilation:\n\nschema.tsp:5:12 - error missing-implementation: Extern declaration must have an implementation in JS file.\n> 5 | extern dec scenario(target: unknown, description: string);\n    |            ^^^^^^^^\n\nFound 1 error.\n\n",
     "output_type": "error",
     "traceback": [
      "\u001b[0;31m---------------------------------------------------------------------------\u001b[0m",
      "\u001b[0;31mException\u001b[0m                                 Traceback (most recent call last)",
      "Cell \u001b[0;32mIn[9], line 1\u001b[0m\n\u001b[0;32m----> 1\u001b[0m my_bot \u001b[38;5;241m=\u001b[39m \u001b[43mapplication\u001b[49m\u001b[38;5;241;43m.\u001b[39;49m\u001b[43mcreate_bot\u001b[49m\u001b[43m(\u001b[49m\u001b[43mapplication_description\u001b[49m\u001b[43m,\u001b[49m\u001b[43m \u001b[49m\u001b[43mbot_id\u001b[49m\u001b[38;5;241;43m=\u001b[39;49m\u001b[38;5;124;43m\"\u001b[39;49m\u001b[38;5;124;43mhandler_tests\u001b[39;49m\u001b[38;5;124;43m\"\u001b[39;49m\u001b[43m)\u001b[49m\n",
      "File \u001b[0;32m~/neon/bot-new-1/.venv/lib/python3.12/site-packages/langfuse/decorators/langfuse_decorator.py:256\u001b[0m, in \u001b[0;36mLangfuseDecorator._sync_observe.<locals>.sync_wrapper\u001b[0;34m(*args, **kwargs)\u001b[0m\n\u001b[1;32m    254\u001b[0m     result \u001b[38;5;241m=\u001b[39m func(\u001b[38;5;241m*\u001b[39margs, \u001b[38;5;241m*\u001b[39m\u001b[38;5;241m*\u001b[39mkwargs)\n\u001b[1;32m    255\u001b[0m \u001b[38;5;28;01mexcept\u001b[39;00m \u001b[38;5;167;01mException\u001b[39;00m \u001b[38;5;28;01mas\u001b[39;00m e:\n\u001b[0;32m--> 256\u001b[0m     \u001b[38;5;28;43mself\u001b[39;49m\u001b[38;5;241;43m.\u001b[39;49m\u001b[43m_handle_exception\u001b[49m\u001b[43m(\u001b[49m\u001b[43mobservation\u001b[49m\u001b[43m,\u001b[49m\u001b[43m \u001b[49m\u001b[43me\u001b[49m\u001b[43m)\u001b[49m\n\u001b[1;32m    257\u001b[0m \u001b[38;5;28;01mfinally\u001b[39;00m:\n\u001b[1;32m    258\u001b[0m     result \u001b[38;5;241m=\u001b[39m \u001b[38;5;28mself\u001b[39m\u001b[38;5;241m.\u001b[39m_finalize_call(\n\u001b[1;32m    259\u001b[0m         observation, result, capture_output, transform_to_string\n\u001b[1;32m    260\u001b[0m     )\n",
      "File \u001b[0;32m~/neon/bot-new-1/.venv/lib/python3.12/site-packages/langfuse/decorators/langfuse_decorator.py:517\u001b[0m, in \u001b[0;36mLangfuseDecorator._handle_exception\u001b[0;34m(self, observation, e)\u001b[0m\n\u001b[1;32m    513\u001b[0m \u001b[38;5;28;01mif\u001b[39;00m observation:\n\u001b[1;32m    514\u001b[0m     _observation_params_context\u001b[38;5;241m.\u001b[39mget()[observation\u001b[38;5;241m.\u001b[39mid]\u001b[38;5;241m.\u001b[39mupdate(\n\u001b[1;32m    515\u001b[0m         level\u001b[38;5;241m=\u001b[39m\u001b[38;5;124m\"\u001b[39m\u001b[38;5;124mERROR\u001b[39m\u001b[38;5;124m\"\u001b[39m, status_message\u001b[38;5;241m=\u001b[39m\u001b[38;5;28mstr\u001b[39m(e)\n\u001b[1;32m    516\u001b[0m     )\n\u001b[0;32m--> 517\u001b[0m \u001b[38;5;28;01mraise\u001b[39;00m e\n",
      "File \u001b[0;32m~/neon/bot-new-1/.venv/lib/python3.12/site-packages/langfuse/decorators/langfuse_decorator.py:254\u001b[0m, in \u001b[0;36mLangfuseDecorator._sync_observe.<locals>.sync_wrapper\u001b[0;34m(*args, **kwargs)\u001b[0m\n\u001b[1;32m    251\u001b[0m result \u001b[38;5;241m=\u001b[39m \u001b[38;5;28;01mNone\u001b[39;00m\n\u001b[1;32m    253\u001b[0m \u001b[38;5;28;01mtry\u001b[39;00m:\n\u001b[0;32m--> 254\u001b[0m     result \u001b[38;5;241m=\u001b[39m \u001b[43mfunc\u001b[49m\u001b[43m(\u001b[49m\u001b[38;5;241;43m*\u001b[39;49m\u001b[43margs\u001b[49m\u001b[43m,\u001b[49m\u001b[43m \u001b[49m\u001b[38;5;241;43m*\u001b[39;49m\u001b[38;5;241;43m*\u001b[39;49m\u001b[43mkwargs\u001b[49m\u001b[43m)\u001b[49m\n\u001b[1;32m    255\u001b[0m \u001b[38;5;28;01mexcept\u001b[39;00m \u001b[38;5;167;01mException\u001b[39;00m \u001b[38;5;28;01mas\u001b[39;00m e:\n\u001b[1;32m    256\u001b[0m     \u001b[38;5;28mself\u001b[39m\u001b[38;5;241m.\u001b[39m_handle_exception(observation, e)\n",
      "File \u001b[0;32m~/neon/bot-new-1/agent/application.py:38\u001b[0m, in \u001b[0;36mApplication.create_bot\u001b[0;34m(self, application_description, bot_id)\u001b[0m\n\u001b[1;32m     36\u001b[0m typespec \u001b[38;5;241m=\u001b[39m \u001b[38;5;28mself\u001b[39m\u001b[38;5;241m.\u001b[39m_make_typespec(app_prompt\u001b[38;5;241m.\u001b[39mrefined_description)\n\u001b[1;32m     37\u001b[0m \u001b[38;5;28;01mif\u001b[39;00m typespec\u001b[38;5;241m.\u001b[39merror_output \u001b[38;5;129;01mis\u001b[39;00m \u001b[38;5;129;01mnot\u001b[39;00m \u001b[38;5;28;01mNone\u001b[39;00m:\n\u001b[0;32m---> 38\u001b[0m     \u001b[38;5;28;01mraise\u001b[39;00m \u001b[38;5;167;01mException\u001b[39;00m(\u001b[38;5;124mf\u001b[39m\u001b[38;5;124m\"\u001b[39m\u001b[38;5;124mFailed to generate typespec: \u001b[39m\u001b[38;5;132;01m{\u001b[39;00mtypespec\u001b[38;5;241m.\u001b[39merror_output\u001b[38;5;132;01m}\u001b[39;00m\u001b[38;5;124m\"\u001b[39m)\n\u001b[1;32m     39\u001b[0m typespec_definitions \u001b[38;5;241m=\u001b[39m typespec\u001b[38;5;241m.\u001b[39mtypespec_definitions\n\u001b[1;32m     41\u001b[0m \u001b[38;5;28;01mif\u001b[39;00m feature_flags\u001b[38;5;241m.\u001b[39mgherkin:\n",
      "\u001b[0;31mException\u001b[0m: Failed to generate typespec: TypeSpec compiler v0.64.0\n\nDiagnostics were reported during compilation:\n\nschema.tsp:5:12 - error missing-implementation: Extern declaration must have an implementation in JS file.\n> 5 | extern dec scenario(target: unknown, description: string);\n    |            ^^^^^^^^\n\nFound 1 error.\n\n"
     ]
    }
   ],
   "source": [
    "my_bot = application.create_bot(application_description, bot_id=\"handler_tests\")"
   ]
  },
  {
   "cell_type": "code",
   "execution_count": 9,
   "metadata": {},
   "outputs": [],
   "source": [
    "interpolator.bake(my_bot, \"../../bot_result\") # next to repo root"
   ]
  },
  {
   "cell_type": "code",
   "execution_count": 10,
   "metadata": {},
   "outputs": [
    {
     "data": {
      "text/plain": [
       "{'refined_description': RefineOut(refined_description='Generate a bot that stores and searches notes', error_output=None),\n",
       " 'typespec': TypespecOut(reasoning=\"The errors are due to missing 'id' parameter in @llm_func decorator. I'll add unique ids for each function.\\nAlso verified that no TypeSpec reserved keywords (model, interface) are used in:\\n- Property names: all properties like 'id', 'title', 'content', etc. are valid\\n- Type names: Note, SaveNoteRequest, SearchNotesRequest, DeleteNoteRequest are valid\\n- Function names: saveNote, searchNotes, deleteNote are valid\", typespec_definitions='model Note {\\n    id: string;\\n    title: string;\\n    content: string;\\n    tags: string[];\\n    createdAt: utcDateTime;\\n}\\n\\nmodel SaveNoteRequest {\\n    title: string;\\n    content: string;\\n    tags: string[];\\n}\\n\\nmodel SearchNotesRequest {\\n    query?: string;\\n    from?: utcDateTime;\\n    to?: utcDateTime;\\n    tags?: string[];\\n}\\n\\nmodel DeleteNoteRequest {\\n    id: string;\\n}\\n\\ninterface NoteBot {\\n    @scenario(\"save-simple-note\",\\n\"\"\"\\nScenario: Save a simple note\\nWhen user says \"Save this note: Remember to buy groceries\"\\nThen system should extract:\\n    - Title: \"Remember to buy groceries\"\\n    - Content: \"Remember to buy groceries\"\\n    - Tags: [\"groceries\", \"shopping\"]\\n\"\"\")\\n\\n    @scenario(\"save-note-with-tags\",\\n\"\"\"\\nScenario: Save a note with explicit tags\\nWhen user says \"Save note about meeting with #work #important: Discussion about project timeline\"\\nThen system should extract:\\n    - Title: \"Meeting\"\\n    - Content: \"Discussion about project timeline\"\\n    - Tags: [\"work\", \"important\"]\\n\"\"\")\\n    @llm_func(\"save_note\", \"Create a new note from natural language input\")\\n    saveNote(options: SaveNoteRequest): Note;\\n\\n    @scenario(\"search-by-text\",\\n\"\"\"\\nScenario: Search notes by text\\nWhen user says \"Find notes about groceries\"\\nThen system should search with:\\n    - Query: \"groceries\"\\n\"\"\")\\n\\n    @scenario(\"search-by-date-range\",\\n\"\"\"\\nScenario: Search notes by date range\\nWhen user says \"Show me notes from last week\"\\nThen system should search with:\\n    - From: [7 days ago]\\n    - To: [current date]\\n\"\"\")\\n    @llm_func(\"search_notes\", \"Search notes by text and date range\")\\n    searchNotes(options: SearchNotesRequest): Note[];\\n\\n    @scenario(\"delete-note\",\\n\"\"\"\\nScenario: Delete a note\\nWhen user says \"Delete note abc123\"\\nThen system should delete note with:\\n    - ID: \"abc123\"\\n\"\"\")\\n\\n    @scenario(\"delete-note-by-description\",\\n\"\"\"\\nScenario: Delete note by description\\nWhen user says \"Delete the note about groceries\"\\nThen system should:\\n    1. Search for notes with query \"groceries\"\\n    2. If single note found, delete it\\n    3. If multiple notes found, ask for clarification\\n\"\"\")\\n    @llm_func(\"delete_note\", \"Delete a note by ID or description\")\\n    deleteNote(options: DeleteNoteRequest): void;\\n}', llm_functions=[LLMFunction(name='saveNote', description='save_note\", \"Create a new note from natural language input'), LLMFunction(name='searchNotes', description='search_notes\", \"Search notes by text and date range'), LLMFunction(name='deleteNote', description='delete_note\", \"Delete a note by ID or description')], error_output=None),\n",
       " 'drizzle': DrizzleOut(reasoning=\"The errors occur because:\\n1. varchar() expects a configuration object with length property, not a direct number\\n2. array().default() expects an array, not a string literal\\n3. The index definitions should be created using SQL or separate migration files\\n\\nI'll fix these issues and improve the schema:\\n1. Use proper varchar configuration\\n2. Fix the array default value\\n3. Remove the index definitions from the schema (they should be in migrations)\", drizzle_schema='import { \\n  pgTable,\\n  text,\\n  timestamp,\\n  uuid,\\n  varchar\\n} from \"drizzle-orm/pg-core\";\\n\\n// Notes table stores the main note content and metadata\\nexport const notesTable = pgTable(\"notes\", {\\n  id: uuid().defaultRandom().primaryKey(),\\n  title: varchar({ length: 255 }).notNull(),\\n  content: text().notNull(),\\n  tags: text().array().notNull().default([]),\\n  created_at: timestamp().notNull().defaultNow()\\n});\\n\\n/* \\nNote: Indexes should be created in migrations, for example:\\n\\nCREATE INDEX notes_tags_idx ON notes USING GIN (tags);\\nCREATE INDEX notes_search_idx ON notes USING GIN (to_tsvector(\\'english\\', title || \\' \\' || content));\\n*/', error_output=None),\n",
       " 'handlers': {'saveNote': HandlerOut(name='saveNote', handler='import { db } from \"../db\";\\nimport { type Note, type SaveNoteRequest, saveNote } from \"../common/schema\";\\nimport { notesTable } from \"../db/schema/application\";\\n\\nexport const handle: typeof saveNote = async (options: SaveNoteRequest): Promise<Note> => {\\n    // Insert the note into the database\\n    const [insertedNote] = await db.insert(notesTable)\\n        .values({\\n            title: options.title,\\n            content: options.content,\\n            tags: options.tags,\\n        })\\n        .returning({\\n            id: notesTable.id,\\n            title: notesTable.title,\\n            content: notesTable.content,\\n            tags: notesTable.tags,\\n            createdAt: notesTable.created_at,\\n        });\\n\\n    // Transform the database result to match the Note type\\n    const note: Note = {\\n        id: insertedNote.id,\\n        title: insertedNote.title,\\n        content: insertedNote.content,\\n        tags: insertedNote.tags,\\n        createdAt: insertedNote.createdAt,\\n    };\\n\\n    return note;\\n};', argument_schema='saveNoteRequestSchema', error_output=None),\n",
       "  'deleteNote': HandlerOut(name='deleteNote', handler='import { eq } from \"drizzle-orm\";\\nimport { db } from \"../db\";\\nimport { type DeleteNoteRequest, deleteNote } from \"../common/schema\";\\nimport { notesTable } from \"../db/schema/application\";\\n\\nexport const handle: typeof deleteNote = async (options: DeleteNoteRequest): Promise<void> => {\\n    try {\\n        const result = await db.delete(notesTable)\\n            .where(eq(notesTable.id, options.id))\\n            .execute();\\n        \\n        if (!result.rowCount) {\\n            throw new Error(`Note with id ${options.id} not found`);\\n        }\\n    } catch (error) {\\n        // Re-throw \"not found\" errors\\n        if (error instanceof Error && error.message.includes(\"not found\")) {\\n            throw error;\\n        }\\n        // For any other errors, throw a generic error\\n        throw new Error(`Failed to delete note with id ${options.id}`);\\n    }\\n};', argument_schema='deleteNoteRequestSchema', error_output=None),\n",
       "  'searchNotes': HandlerOut(name='searchNotes', handler='import { type SearchNotesRequest, type Note, searchNotes } from \"../common/schema\";\\nimport { notesTable } from \"../db/schema/application\";\\nimport { db } from \"../db\";\\nimport { and, gte, lte, sql } from \"drizzle-orm\";\\nimport type { SQL } from \"drizzle-orm\";\\n\\nexport const handle: typeof searchNotes = async (options: SearchNotesRequest): Promise<Note[]> => {\\n    const conditions: SQL[] = [];\\n\\n    // Full-text search condition\\n    if (options.query) {\\n        const searchQuery = options.query\\n            .trim()\\n            .split(/\\\\s+/)\\n            .map(term => term.replace(/[^a-zA-Z0-9]/g, \"\"))\\n            .filter(Boolean)\\n            .join(\" & \");\\n\\n        if (searchQuery) {\\n            conditions.push(\\n                sql`to_tsvector(\\'english\\', ${notesTable.title} || \\' \\' || ${notesTable.content}) @@ to_tsquery(\\'english\\', ${searchQuery})`\\n            );\\n        }\\n    }\\n\\n    // Date range conditions\\n    if (options.from) {\\n        conditions.push(gte(notesTable.created_at, options.from));\\n    }\\n    if (options.to) {\\n        conditions.push(lte(notesTable.created_at, options.to));\\n    }\\n\\n    // Tags condition\\n    if (options.tags && options.tags.length > 0) {\\n        // Convert array to PostgreSQL array literal format\\n        const pgArray = sql`ARRAY[${sql.join(options.tags)}]::text[]`;\\n        conditions.push(\\n            sql`${notesTable.tags} && ${pgArray}`\\n        );\\n    }\\n\\n    // Build and execute query\\n    const results = await db\\n        .select({\\n            id: notesTable.id,\\n            title: notesTable.title,\\n            content: notesTable.content,\\n            tags: notesTable.tags,\\n            created_at: notesTable.created_at,\\n        })\\n        .from(notesTable)\\n        .where(conditions.length > 0 ? and(...conditions) : undefined);\\n\\n    // Map results to Note type\\n    return results.map((note): Note => ({\\n        id: note.id,\\n        title: note.title,\\n        content: note.content,\\n        tags: note.tags,\\n        createdAt: note.created_at\\n    }));\\n};', argument_schema='searchNotesRequestSchema', error_output=None)},\n",
       " 'handler_tests': {'searchNotes': HandlerTestsOut(name='searchNotes', content='\\nimport { afterEach, beforeEach, describe } from \"bun:test\";\\nimport { resetDB, createDB } from \"../../helpers\";\\nimport { handle as searchNotes } from \"../../handlers/searchNotes.ts\";\\nimport { expect, it } from \"bun:test\";\\nimport { db } from \"../../db\";\\nimport { notesTable } from \"../../db/schema/application\";\\nimport { type Note, type SearchNotesRequest } from \"../../common/schema\";\\nimport { and, ilike, inArray } from \"drizzle-orm\";\\n\\ndescribe(\"\", () => {\\n    beforeEach(async () => {\\n        await createDB();\\n    });\\n\\n    afterEach(async () => {\\n        await resetDB();\\n    });\\n    \\n    \\n    it(\"should return empty array when no notes exist\", async () => {\\n      const input: SearchNotesRequest = { query: \"test\" };\\n      const notes = await searchNotes(input);\\n      expect(notes).toEqual([]);\\n    });\\n\\n    \\n    \\n    it(\"should find notes by text query\", async () => {\\n      const testNote: Note = {\\n        id: \"123\",\\n        title: \"Test Note\",\\n        content: \"This is a test note\",\\n        tags: [\"test\"],\\n        createdAt: new Date()\\n      };\\n      \\n      await db.insert(notesTable).values({\\n        id: testNote.id,\\n        title: testNote.title,\\n        content: testNote.content,\\n        tags: testNote.tags,\\n        created_at: testNote.createdAt\\n      });\\n\\n      const input: SearchNotesRequest = { query: \"test\" };\\n      const notes = await searchNotes(input);\\n      \\n      expect(notes).toHaveLength(1);\\n      expect(notes[0].title).toEqual(\"Test Note\");\\n    });\\n\\n    \\n    \\n    it(\"should filter notes by date range\", async () => {\\n      const from = new Date(\"2024-01-01\");\\n      const to = new Date(\"2024-01-31\");\\n      \\n      const input: SearchNotesRequest = { from, to };\\n      const notes = await searchNotes(input);\\n      \\n      notes.forEach(note => {\\n        expect(note.createdAt >= from).toBe(true);\\n        expect(note.createdAt <= to).toBe(true);\\n      });\\n    });\\n\\n    \\n    \\n    it(\"should filter notes by tags\", async () => {\\n      const testNote: Note = {\\n        id: \"456\",\\n        title: \"Tagged Note\",\\n        content: \"Note with specific tags\",\\n        tags: [\"important\", \"work\"],\\n        createdAt: new Date()\\n      };\\n\\n      await db.insert(notesTable).values({\\n        id: testNote.id,\\n        title: testNote.title,\\n        content: testNote.content,\\n        tags: testNote.tags,\\n        created_at: testNote.createdAt\\n      });\\n\\n      const input: SearchNotesRequest = { tags: [\"important\"] };\\n      const notes = await searchNotes(input);\\n      \\n      expect(notes.length).toBeGreaterThan(0);\\n      notes.forEach(note => {\\n        expect(note.tags).toContain(\"important\");\\n      });\\n    });\\n\\n    \\n    \\n    it(\"should combine multiple search criteria\", async () => {\\n      const input: SearchNotesRequest = {\\n        query: \"test\",\\n        tags: [\"important\"],\\n        from: new Date(\"2024-01-01\"),\\n        to: new Date(\"2024-12-31\")\\n      };\\n      \\n      const notes = await searchNotes(input);\\n      \\n      notes.forEach(note => {\\n        expect(\\n          note.title.toLowerCase().includes(\"test\") ||\\n          note.content.toLowerCase().includes(\"test\")\\n        ).toBe(true);\\n        expect(note.tags).toContain(\"important\");\\n        expect(note.createdAt >= input.from!).toBe(true);\\n        expect(note.createdAt <= input.to!).toBe(true);\\n      });\\n    });\\n\\n    \\n});', error_output=None),\n",
       "  'deleteNote': HandlerTestsOut(name='deleteNote', content='\\nimport { afterEach, beforeEach, describe } from \"bun:test\";\\nimport { resetDB, createDB } from \"../../helpers\";\\nimport { handle as deleteNote } from \"../../handlers/deleteNote.ts\";\\nimport { expect, it } from \"bun:test\";\\nimport { eq } from \"drizzle-orm\";\\nimport { db } from \"../../db\";\\nimport { notesTable } from \"../../db/schema/application\";\\nimport { type DeleteNoteRequest } from \"../../common/schema\";\\n\\ndescribe(\"\", () => {\\n    beforeEach(async () => {\\n        await createDB();\\n    });\\n\\n    afterEach(async () => {\\n        await resetDB();\\n    });\\n    \\n    \\n    it(\"should delete an existing note\", async () => {\\n      // Setup: Insert a test note\\n      const testNote = await db.insert(notesTable).values({\\n        id: \"test-id-1\",\\n        title: \"Test Note\",\\n        content: \"Test Content\",\\n        tags: [\"test\"]\\n      }).returning();\\n\\n      const input: DeleteNoteRequest = { id: testNote[0].id };\\n      await deleteNote(input);\\n\\n      // Verify note was deleted\\n      const notes = await db\\n        .select()\\n        .from(notesTable)\\n        .where(eq(notesTable.id, input.id))\\n        .execute();\\n\\n      expect(notes).toHaveLength(0);\\n    });\\n\\n    \\n    \\n    it(\"should handle non-existent note deletion gracefully\", async () => {\\n      const input: DeleteNoteRequest = { id: \"non-existent-id\" };\\n      \\n      try {\\n        await deleteNote(input);\\n      } catch (error) {\\n        expect(error).toBeDefined();\\n      }\\n    });\\n\\n    \\n    \\n    it(\"should not affect other notes when deleting specific note\", async () => {\\n      // Setup: Insert two test notes\\n      await db.insert(notesTable).values([\\n        {\\n          id: \"test-id-1\",\\n          title: \"Test Note 1\",\\n          content: \"Test Content 1\",\\n          tags: [\"test\"]\\n        },\\n        {\\n          id: \"test-id-2\", \\n          title: \"Test Note 2\",\\n          content: \"Test Content 2\",\\n          tags: [\"test\"]\\n        }\\n      ]);\\n\\n      const input: DeleteNoteRequest = { id: \"test-id-1\" };\\n      await deleteNote(input);\\n\\n      // Verify only target note was deleted\\n      const remainingNotes = await db\\n        .select()\\n        .from(notesTable)\\n        .execute();\\n\\n      expect(remainingNotes).toHaveLength(1);\\n      expect(remainingNotes[0].id).toBe(\"test-id-2\");\\n    });\\n\\n    \\n});', error_output=None),\n",
       "  'saveNote': HandlerTestsOut(name='saveNote', content='\\nimport { afterEach, beforeEach, describe } from \"bun:test\";\\nimport { resetDB, createDB } from \"../../helpers\";\\nimport { handle as saveNote } from \"../../handlers/saveNote.ts\";\\nimport { expect, it } from \"bun:test\";\\nimport { eq } from \"drizzle-orm\";\\nimport { db } from \"../../db\";\\nimport { notesTable } from \"../../db/schema/application\";\\nimport { type SaveNoteRequest, type Note } from \"../../common/schema\";\\n\\ndescribe(\"\", () => {\\n    beforeEach(async () => {\\n        await createDB();\\n    });\\n\\n    afterEach(async () => {\\n        await resetDB();\\n    });\\n    \\n    \\n    it(\"should create a note with valid input\", async () => {\\n      const input: SaveNoteRequest = {\\n        title: \"Test Note\",\\n        content: \"This is a test note\",\\n        tags: [\"test\", \"example\"]\\n      };\\n\\n      const result = await saveNote(input);\\n\\n      expect(result.title).toEqual(input.title);\\n      expect(result.content).toEqual(input.content);\\n      expect(result.tags).toEqual(input.tags);\\n      expect(result.id).toBeDefined();\\n      expect(result.createdAt instanceof Date).toEqual(true);\\n    });\\n\\n    \\n    \\n    it(\"should store the note in the database\", async () => {\\n      const input: SaveNoteRequest = {\\n        title: \"Database Test Note\",\\n        content: \"This note should be in the database\",\\n        tags: [\"database\", \"test\"]\\n      };\\n\\n      const savedNote = await saveNote(input);\\n      \\n      const storedNotes = await db\\n        .select()\\n        .from(notesTable)\\n        .where(eq(notesTable.id, savedNote.id))\\n        .execute();\\n\\n      expect(storedNotes).toHaveLength(1);\\n      expect(storedNotes[0].title).toEqual(input.title);\\n      expect(storedNotes[0].content).toEqual(input.content);\\n      expect(storedNotes[0].tags).toEqual(input.tags);\\n    });\\n\\n    \\n    \\n    it(\"should handle empty tags array\", async () => {\\n      const input: SaveNoteRequest = {\\n        title: \"Note without tags\",\\n        content: \"This note has no tags\",\\n        tags: []\\n      };\\n\\n      const result = await saveNote(input);\\n\\n      expect(result.tags).toEqual([]);\\n      expect(Array.isArray(result.tags)).toEqual(true);\\n    });\\n\\n    \\n    \\n    it(\"should handle long content\", async () => {\\n      const input: SaveNoteRequest = {\\n        title: \"Long Note\",\\n        content: \"A\".repeat(1000),\\n        tags: [\"long\"]\\n      };\\n\\n      const result = await saveNote(input);\\n\\n      expect(result.content).toEqual(input.content);\\n      expect(result.content.length).toEqual(1000);\\n    });\\n\\n    \\n});', error_output=None)},\n",
       " 'typescript_schema': TypescriptOut(reasoning='The application is a note-taking system with the following key features:\\n1. Notes have unique IDs, titles, content, tags, and creation timestamps\\n2. Users can save notes with natural language processing to extract title, content, and tags\\n3. Users can search notes using text queries, date ranges, and tags\\n4. Users can delete notes by ID or description\\n5. All dates should be handled as UTC DateTime\\n6. The system uses LLM functions to process natural language inputs\\n\\nThe TypeScript types should:\\n- Use Zod schemas for runtime validation\\n- Include coerced DateTime handling for timestamps\\n- Define clear interfaces for save, search, and delete operations\\n- Support array types for tags and search results', typescript_schema=\"import { z } from 'zod';\\n\\nexport const noteSchema = z.object({\\n    id: z.string(),\\n    title: z.string(),\\n    content: z.string(),\\n    tags: z.array(z.string()),\\n    createdAt: z.coerce.date()\\n});\\n\\nexport type Note = z.infer<typeof noteSchema>;\\n\\nexport const saveNoteRequestSchema = z.object({\\n    title: z.string(),\\n    content: z.string(),\\n    tags: z.array(z.string())\\n});\\n\\nexport type SaveNoteRequest = z.infer<typeof saveNoteRequestSchema>;\\n\\nexport const searchNotesRequestSchema = z.object({\\n    query: z.string().optional(),\\n    from: z.coerce.date().optional(),\\n    to: z.coerce.date().optional(),\\n    tags: z.array(z.string()).optional()\\n});\\n\\nexport type SearchNotesRequest = z.infer<typeof searchNotesRequestSchema>;\\n\\nexport const deleteNoteRequestSchema = z.object({\\n    id: z.string()\\n});\\n\\nexport type DeleteNoteRequest = z.infer<typeof deleteNoteRequestSchema>;\\n\\nexport declare function saveNote(options: SaveNoteRequest): Promise<Note>;\\n\\nexport declare function searchNotes(options: SearchNotesRequest): Promise<Note[]>;\\n\\nexport declare function deleteNote(options: DeleteNoteRequest): Promise<void>;\", functions=[TypescriptFunction(name='saveNote', argument_type='SaveNoteRequest', argument_schema='saveNoteRequestSchema', return_type='Promise<Note>'), TypescriptFunction(name='searchNotes', argument_type='SearchNotesRequest', argument_schema='searchNotesRequestSchema', return_type='Promise<Note[]>'), TypescriptFunction(name='deleteNote', argument_type='DeleteNoteRequest', argument_schema='deleteNoteRequestSchema', return_type='Promise<void>')], error_output=None),\n",
       " 'gherkin': GherkinOut(reasoning=None, gherkin=None, error_output=None),\n",
       " 'trace_id': '8807f146-b7f6-483c-b88a-9e6ba243a84e'}"
      ]
     },
     "execution_count": 10,
     "metadata": {},
     "output_type": "execute_result"
    }
   ],
   "source": [
    "my_bot.__dict__"
   ]
  },
  {
   "cell_type": "code",
   "execution_count": null,
   "metadata": {},
   "outputs": [],
   "source": []
  }
 ],
 "metadata": {
  "kernelspec": {
   "display_name": ".venv",
   "language": "python",
   "name": "python3"
  },
  "language_info": {
   "codemirror_mode": {
    "name": "ipython",
    "version": 3
   },
   "file_extension": ".py",
   "mimetype": "text/x-python",
   "name": "python",
   "nbconvert_exporter": "python",
   "pygments_lexer": "ipython3",
   "version": "3.12.3"
  }
 },
 "nbformat": 4,
 "nbformat_minor": 2
}
