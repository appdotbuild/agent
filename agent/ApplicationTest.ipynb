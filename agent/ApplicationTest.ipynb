{
 "cells": [
  {
   "cell_type": "code",
   "execution_count": 1,
   "metadata": {},
   "outputs": [],
   "source": [
    "%load_ext autoreload\n",
    "%autoreload 2"
   ]
  },
  {
   "cell_type": "code",
   "execution_count": 2,
   "metadata": {},
   "outputs": [],
   "source": [
    "from anthropic import AnthropicBedrock\n",
    "from application import Application\n",
    "from compiler.core import Compiler\n",
    "from core.interpolator import Interpolator"
   ]
  },
  {
   "cell_type": "code",
   "execution_count": 3,
   "metadata": {},
   "outputs": [],
   "source": [
    "compiler = Compiler(\"botbuild/tsp_compiler\", \"botbuild/app_schema\")\n",
    "client = AnthropicBedrock(aws_profile=\"dev\", aws_region=\"us-west-2\")"
   ]
  },
  {
   "cell_type": "code",
   "execution_count": 4,
   "metadata": {},
   "outputs": [],
   "source": [
    "application = Application(client, compiler)\n",
    "interpolator = Interpolator(\".\")"
   ]
  },
  {
   "cell_type": "code",
   "execution_count": 5,
   "metadata": {},
   "outputs": [],
   "source": [
    "application_description = \"\"\"\n",
    "Bot that helps me planning my YouTube content and posting schedule.\n",
    "\"\"\".strip()"
   ]
  },
  {
   "cell_type": "code",
   "execution_count": 6,
   "metadata": {},
   "outputs": [],
   "source": [
    "application_description = \"Bot that greets user by name and returns personalized greeting.\"\n",
    "application_description = \"Bot that tracks my gym exercises and can provide progress reports.\""
   ]
  },
  {
   "cell_type": "code",
   "execution_count": 7,
   "metadata": {},
   "outputs": [
    {
     "name": "stdout",
     "output_type": "stream",
     "text": [
      "Skipping Initial Description Refinement\n",
      "Compiling TypeSpec...\n",
      "Compiling Typescript Schema Definitions...\n",
      "Compiling Drizzle...\n",
      "Compiling Handler Tests...\n",
      "Compiling Handlers...\n"
     ]
    }
   ],
   "source": [
    "my_bot = application.create_bot(application_description, bot_id=\"handler_tests\")"
   ]
  },
  {
   "cell_type": "code",
   "execution_count": 8,
   "metadata": {},
   "outputs": [],
   "source": [
    "interpolator.bake(my_bot, \"../../bot_result\") # next to repo root"
   ]
  },
  {
   "cell_type": "code",
   "execution_count": 9,
   "metadata": {},
   "outputs": [
    {
     "data": {
      "text/plain": [
       "{'refined_description': RefineOut(refined_description='Bot that tracks my gym exercises and can provide progress reports.', error_output=None),\n",
       " 'typespec': TypespecOut(reasoning='I expect user to send messages like \"I did 3 sets of bench press with 100kg\" or \"Show my progress for squats\".\\nLLM can extract and infer the arguments from plain text and pass them to the handler:\\n\"I did 3 sets of bench press with 100kg\" -> recordWorkout({\\n    exercise: \"bench press\",\\n    sets: 3,\\n    weight: 100,\\n    date: <current_date>\\n})\\n\"Show my progress for squats\" -> getProgress({\\n    exercise: \"squats\",\\n    timeRange: \"last 30 days\"\\n})\\n\\nNeed models for:\\n- Recording workout details (exercise, sets, weight, date)\\n- Tracking progress over time\\n- Getting exercise statistics', typespec_definitions='model WorkoutSet {\\n    exercise: string;\\n    sets: integer;\\n    reps: integer;\\n    weight: float;\\n    date: utcDateTime;\\n}\\n\\nmodel ProgressRequest {\\n    exercise: string;\\n    startDate: utcDateTime;\\n    endDate: utcDateTime;\\n}\\n\\nmodel ExerciseStats {\\n    exercise: string;\\n    maxWeight: float;\\n    totalSets: integer;\\n    totalReps: integer;\\n    lastPerformed: utcDateTime;\\n}\\n\\ninterface GymTracker {\\n    @llm_func(\"Record a workout exercise with sets, reps, and weight\")\\n    recordWorkout(options: WorkoutSet): void;\\n\\n    @llm_func(\"Get progress data for specific exercise over time\")\\n    getProgress(options: ProgressRequest): WorkoutSet[];\\n\\n    @llm_func(\"Get statistics for a specific exercise\")\\n    getExerciseStats(options: ProgressRequest): ExerciseStats;\\n}', llm_functions=[LLMFunction(name='recordWorkout', description='Record a workout exercise with sets, reps, and weight'), LLMFunction(name='getProgress', description='Get progress data for specific exercise over time'), LLMFunction(name='getExerciseStats', description='Get statistics for a specific exercise')], error_output=None),\n",
       " 'drizzle': DrizzleOut(reasoning=\"Based on the TypeSpec models, we need to create a database schema that can store:\\n1. Workout sets with exercise details, including sets, reps, weight, and date\\n2. The schema should support querying for progress and statistics\\n3. Exercise information should be normalized to ensure consistency\\n4. We'll need to track exercises separately from workout sets\", drizzle_schema='import { serial, text, integer, real, timestamp, pgTable } from \"drizzle-orm/pg-core\";\\n\\n// Table for storing exercises\\nexport const exercisesTable = pgTable(\"exercises\", {\\n  id: serial(\"id\").primaryKey(),\\n  name: text(\"name\").notNull().unique(),\\n  created_at: timestamp(\"created_at\").defaultNow().notNull()\\n});\\n\\n// Table for storing workout sets\\nexport const workoutSetsTable = pgTable(\"workout_sets\", {\\n  id: serial(\"id\").primaryKey(),\\n  exercise_id: integer(\"exercise_id\")\\n    .references(() => exercisesTable.id)\\n    .notNull(),\\n  sets: integer(\"sets\").notNull(),\\n  reps: integer(\"reps\").notNull(),\\n  weight: real(\"weight\").notNull(),\\n  performed_at: timestamp(\"performed_at\").notNull(),\\n  created_at: timestamp(\"created_at\").defaultNow().notNull()\\n});\\n\\n// View for exercise statistics (can be created in migration)\\n/* \\nCREATE VIEW exercise_stats AS\\nSELECT \\n  e.name as exercise,\\n  MAX(ws.weight) as max_weight,\\n  COUNT(ws.id) as total_sets,\\n  SUM(ws.reps) as total_reps,\\n  MAX(ws.performed_at) as last_performed\\nFROM exercises e\\nLEFT JOIN workout_sets ws ON e.id = ws.exercise_id\\nGROUP BY e.id, e.name;\\n*/', error_output=None),\n",
       " 'handlers': {'recordWorkout': HandlerOut(name='recordWorkout', handler='import { eq } from \"drizzle-orm\";\\nimport { db } from \"../db\";\\nimport { type WorkoutSet, recordWorkout } from \"../common/schema\";\\nimport { exercisesTable, workoutSetsTable } from \"../db/schema/application\";\\n\\nexport const handle: typeof recordWorkout = async (options: WorkoutSet): Promise<void> => {\\n    // Execute database operations in a transaction to ensure data consistency\\n    await db.transaction(async (tx) => {\\n        // First, get or create the exercise\\n        let exercise = await tx\\n            .select()\\n            .from(exercisesTable)\\n            .where(eq(exercisesTable.name, options.exercise))\\n            .limit(1);\\n\\n        let exerciseId: number;\\n\\n        if (exercise.length === 0) {\\n            // Create new exercise if it doesn\\'t exist\\n            const [newExercise] = await tx\\n                .insert(exercisesTable)\\n                .values({\\n                    name: options.exercise,\\n                })\\n                .returning({ id: exercisesTable.id });\\n\\n            exerciseId = newExercise.id;\\n        } else {\\n            exerciseId = exercise[0].id;\\n        }\\n\\n        // Record the workout set\\n        await tx\\n            .insert(workoutSetsTable)\\n            .values({\\n                exercise_id: exerciseId,\\n                sets: options.sets,\\n                reps: options.reps,\\n                weight: options.weight,\\n                performed_at: options.date,\\n            });\\n    });\\n};', argument_schema='workoutSetSchema', error_output=None),\n",
       "  'getProgress': HandlerOut(name='getProgress', handler='import { type ProgressRequest, type WorkoutSet, getProgress } from \"../common/schema\";\\nimport { db } from \"../db\";\\nimport { exercisesTable, workoutSetsTable } from \"../db/schema/application\";\\nimport { and, eq, gte, lte } from \"drizzle-orm\";\\n\\nexport const handle: typeof getProgress = async (options: ProgressRequest): Promise<WorkoutSet[]> => {\\n    // First get the exercise ID\\n    const exercise = await db.select()\\n        .from(exercisesTable)\\n        .where(eq(exercisesTable.name, options.exercise))\\n        .limit(1);\\n\\n    if (!exercise.length) {\\n        return [];\\n    }\\n\\n    // Get all workout sets for the exercise within the date range\\n    const workoutSets = await db.select({\\n        exercise: exercisesTable.name,\\n        sets: workoutSetsTable.sets,\\n        reps: workoutSetsTable.reps,\\n        weight: workoutSetsTable.weight,\\n        date: workoutSetsTable.performed_at\\n    })\\n    .from(workoutSetsTable)\\n    .innerJoin(\\n        exercisesTable,\\n        eq(exercisesTable.id, workoutSetsTable.exercise_id)\\n    )\\n    .where(\\n        and(\\n            eq(workoutSetsTable.exercise_id, exercise[0].id),\\n            gte(workoutSetsTable.performed_at, options.startDate),\\n            lte(workoutSetsTable.performed_at, options.endDate)\\n        )\\n    )\\n    .orderBy(workoutSetsTable.performed_at);\\n\\n    return workoutSets.map(set => ({\\n        exercise: set.exercise,\\n        sets: set.sets,\\n        reps: set.reps,\\n        weight: set.weight,\\n        date: set.date\\n    }));\\n};', argument_schema='progressRequestSchema', error_output=None),\n",
       "  'getExerciseStats': HandlerOut(name='getExerciseStats', handler='import { db } from \"../db\";\\nimport { type ExerciseStats, type ProgressRequest, getExerciseStats } from \"../common/schema\";\\nimport { exercisesTable, workoutSetsTable } from \"../db/schema/application\";\\nimport { and, eq, max, sum, gte, lte, sql } from \"drizzle-orm\";\\n\\nexport const handle: typeof getExerciseStats = async (options: ProgressRequest): Promise<ExerciseStats> => {\\n    const stats = await db\\n        .select({\\n            exercise: exercisesTable.name,\\n            maxWeight: max(workoutSetsTable.weight),\\n            totalSets: sum(workoutSetsTable.sets),\\n            totalReps: sum(sql`${workoutSetsTable.sets} * ${workoutSetsTable.reps}`),\\n            lastPerformed: max(workoutSetsTable.performed_at),\\n        })\\n        .from(exercisesTable)\\n        .leftJoin(\\n            workoutSetsTable,\\n            and(\\n                eq(exercisesTable.id, workoutSetsTable.exercise_id),\\n                gte(workoutSetsTable.performed_at, options.startDate),\\n                lte(workoutSetsTable.performed_at, options.endDate)\\n            )\\n        )\\n        .where(eq(exercisesTable.name, options.exercise))\\n        .groupBy(exercisesTable.id, exercisesTable.name)\\n        .execute();\\n\\n    if (stats.length === 0 || !stats[0].lastPerformed) {\\n        return {\\n            exercise: options.exercise,\\n            maxWeight: 0,\\n            totalSets: 0,\\n            totalReps: 0,\\n            lastPerformed: new Date(0),\\n        };\\n    }\\n\\n    const result = stats[0];\\n    \\n    return {\\n        exercise: result.exercise,\\n        maxWeight: Number(result.maxWeight ?? 0),\\n        totalSets: Number(result.totalSets ?? 0),\\n        totalReps: Number(result.totalReps ?? 0),\\n        lastPerformed: result.lastPerformed ?? new Date(0),\\n    };\\n};', argument_schema='progressRequestSchema', error_output=None)},\n",
       " 'handler_tests': {'recordWorkout': HandlerTestsOut(name='recordWorkout', content='\\nimport { afterEach, beforeEach, describe } from \"bun:test\";\\nimport { resetDB, createDB } from \"../../helpers\";\\nimport { handle as recordWorkout } from \"../../handlers/recordWorkout.ts\";\\nimport { expect, it } from \"bun:test\";\\nimport { db } from \"../../db\";\\nimport { eq } from \"drizzle-orm\";\\nimport { exercisesTable, workoutSetsTable } from \"../../db/schema/application\";\\nimport { type WorkoutSet } from \"../../common/schema\";\\n\\ndescribe(\"\", () => {\\n    beforeEach(async () => {\\n        await createDB();\\n    });\\n\\n    afterEach(async () => {\\n        await resetDB();\\n    });\\n    \\n    \\n    it(\"should create a new exercise if it doesn\\'t exist\", async () => {\\n      const input: WorkoutSet = {\\n        exercise: \"Bench Press\",\\n        sets: 3,\\n        reps: 10,\\n        weight: 225.5,\\n        date: new Date(\"2024-01-15T10:00:00Z\")\\n      };\\n\\n      await recordWorkout(input);\\n\\n      const exercise = await db\\n        .select()\\n        .from(exercisesTable)\\n        .where(eq(exercisesTable.name, input.exercise))\\n        .execute();\\n\\n      expect(exercise).toHaveLength(1);\\n      expect(exercise[0].name).toBe(\"Bench Press\");\\n    });\\n\\n    \\n    \\n    it(\"should record workout set with correct values\", async () => {\\n      const input: WorkoutSet = {\\n        exercise: \"Squat\",\\n        sets: 4,\\n        reps: 8,\\n        weight: 315.0,\\n        date: new Date(\"2024-01-15T10:00:00Z\")\\n      };\\n\\n      await recordWorkout(input);\\n\\n      const workoutSets = await db\\n        .select()\\n        .from(workoutSetsTable)\\n        .leftJoin(exercisesTable, eq(workoutSetsTable.exercise_id, exercisesTable.id))\\n        .where(eq(exercisesTable.name, input.exercise))\\n        .execute();\\n\\n      expect(workoutSets).toHaveLength(1);\\n      expect(workoutSets[0].workout_sets.sets).toBe(4);\\n      expect(workoutSets[0].workout_sets.reps).toBe(8);\\n      expect(workoutSets[0].workout_sets.weight).toBe(315.0);\\n      expect(workoutSets[0].workout_sets.performed_at).toEqual(input.date);\\n    });\\n\\n    \\n    \\n    it(\"should reuse existing exercise when recording workout\", async () => {\\n      const input: WorkoutSet = {\\n        exercise: \"Deadlift\",\\n        sets: 5,\\n        reps: 5,\\n        weight: 405.0,\\n        date: new Date(\"2024-01-15T10:00:00Z\")\\n      };\\n\\n      // Record two workouts with the same exercise\\n      await recordWorkout(input);\\n      await recordWorkout({\\n        ...input,\\n        sets: 3,\\n        date: new Date(\"2024-01-16T10:00:00Z\")\\n      });\\n\\n      const exercises = await db\\n        .select()\\n        .from(exercisesTable)\\n        .where(eq(exercisesTable.name, input.exercise))\\n        .execute();\\n\\n      expect(exercises).toHaveLength(1);\\n    });\\n\\n    \\n});', error_output=None),\n",
       "  'getExerciseStats': HandlerTestsOut(name='getExerciseStats', content='\\nimport { afterEach, beforeEach, describe } from \"bun:test\";\\nimport { resetDB, createDB } from \"../../helpers\";\\nimport { handle as getExerciseStats } from \"../../handlers/getExerciseStats.ts\";\\nimport { expect, it } from \"bun:test\";\\nimport { db } from \"../../db\";\\nimport { exercisesTable, workoutSetsTable } from \"../../db/schema/application\";\\nimport { type ProgressRequest, type ExerciseStats } from \"../../common/schema\";\\n\\ndescribe(\"\", () => {\\n    beforeEach(async () => {\\n        await createDB();\\n    });\\n\\n    afterEach(async () => {\\n        await resetDB();\\n    });\\n    \\n    \\n    it(\"should return exercise statistics for given date range\", async () => {\\n      // Setup test data\\n      const exercise = await db.insert(exercisesTable)\\n        .values({ name: \"Squat\" })\\n        .returning()\\n        .then(rows => rows[0]);\\n\\n      await db.insert(workoutSetsTable)\\n        .values([\\n          {\\n            exercise_id: exercise.id,\\n            sets: 3,\\n            reps: 10,\\n            weight: 100,\\n            performed_at: new Date(\"2024-01-01\")\\n          },\\n          {\\n            exercise_id: exercise.id,\\n            sets: 3,\\n            reps: 8,\\n            weight: 120,\\n            performed_at: new Date(\"2024-01-02\")\\n          }\\n        ]);\\n\\n      const input: ProgressRequest = {\\n        exercise: \"Squat\",\\n        startDate: new Date(\"2024-01-01\"),\\n        endDate: new Date(\"2024-01-02\")\\n      };\\n\\n      const stats = await getExerciseStats(input);\\n      \\n      const expected: ExerciseStats = {\\n        exercise: \"Squat\",\\n        maxWeight: 120,\\n        totalSets: 6,\\n        totalReps: 54,\\n        lastPerformed: new Date(\"2024-01-02\")\\n      };\\n\\n      expect(stats).toEqual(expected);\\n    });\\n\\n    \\n    \\n    it(\"should return zero statistics when no workouts exist\", async () => {\\n      // Setup exercise without workouts\\n      await db.insert(exercisesTable)\\n        .values({ name: \"Deadlift\" });\\n\\n      const input: ProgressRequest = {\\n        exercise: \"Deadlift\",\\n        startDate: new Date(\"2024-01-01\"),\\n        endDate: new Date(\"2024-01-31\")\\n      };\\n\\n      const stats = await getExerciseStats(input);\\n\\n      const expected: ExerciseStats = {\\n        exercise: \"Deadlift\",\\n        maxWeight: 0,\\n        totalSets: 0,\\n        totalReps: 0,\\n        lastPerformed: new Date(0)\\n      };\\n\\n      expect(stats).toEqual(expected);\\n    });\\n\\n    \\n    \\n    it(\"should return statistics only within date range\", async () => {\\n      const exercise = await db.insert(exercisesTable)\\n        .values({ name: \"Bench Press\" })\\n        .returning()\\n        .then(rows => rows[0]);\\n\\n      await db.insert(workoutSetsTable)\\n        .values([\\n          {\\n            exercise_id: exercise.id,\\n            sets: 3,\\n            reps: 10,\\n            weight: 80,\\n            performed_at: new Date(\"2024-01-15\")\\n          },\\n          {\\n            exercise_id: exercise.id,\\n            sets: 3,\\n            reps: 8,\\n            weight: 85,\\n            performed_at: new Date(\"2024-02-01\")\\n          }\\n        ]);\\n\\n      const input: ProgressRequest = {\\n        exercise: \"Bench Press\",\\n        startDate: new Date(\"2024-01-01\"),\\n        endDate: new Date(\"2024-01-31\")\\n      };\\n\\n      const stats = await getExerciseStats(input);\\n\\n      const expected: ExerciseStats = {\\n        exercise: \"Bench Press\",\\n        maxWeight: 80,\\n        totalSets: 3,\\n        totalReps: 30,\\n        lastPerformed: new Date(\"2024-01-15\")\\n      };\\n\\n      expect(stats).toEqual(expected);\\n    });\\n\\n    \\n});', error_output=None),\n",
       "  'getProgress': HandlerTestsOut(name='getProgress', content='\\nimport { afterEach, beforeEach, describe } from \"bun:test\";\\nimport { resetDB, createDB } from \"../../helpers\";\\nimport { handle as getProgress } from \"../../handlers/getProgress.ts\";\\nimport { expect, it } from \"bun:test\";\\nimport { db } from \"../../db\";\\nimport { exercisesTable, workoutSetsTable } from \"../../db/schema/application\";\\nimport { type ProgressRequest, type WorkoutSet } from \"../../common/schema\";\\nimport { eq } from \"drizzle-orm\";\\n\\ndescribe(\"\", () => {\\n    beforeEach(async () => {\\n        await createDB();\\n    });\\n\\n    afterEach(async () => {\\n        await resetDB();\\n    });\\n    \\n    \\n    it(\"should return workout sets for given exercise and date range\", async () => {\\n      const testDate = new Date(\"2024-01-15\");\\n      const exercise = \"Squat\";\\n\\n      // Insert test exercise\\n      const [insertedExercise] = await db\\n        .insert(exercisesTable)\\n        .values({ name: exercise })\\n        .returning();\\n\\n      // Insert test workout set\\n      await db.insert(workoutSetsTable).values({\\n        exercise_id: insertedExercise.id,\\n        sets: 3,\\n        reps: 10,\\n        weight: 100,\\n        performed_at: testDate\\n      });\\n\\n      const input: ProgressRequest = {\\n        exercise: exercise,\\n        startDate: new Date(\"2024-01-01\"),\\n        endDate: new Date(\"2024-01-31\")\\n      };\\n\\n      const progress = await getProgress(input);\\n\\n      expect(progress).toHaveLength(1);\\n      expect(progress[0].exercise).toBe(exercise);\\n      expect(progress[0].sets).toBe(3);\\n      expect(progress[0].reps).toBe(10);\\n      expect(progress[0].weight).toBe(100);\\n      expect(progress[0].date).toEqual(testDate);\\n    });\\n\\n    \\n    \\n    it(\"should return empty array when no workouts in date range\", async () => {\\n      const exercise = \"Deadlift\";\\n      \\n      // Insert test exercise\\n      const [insertedExercise] = await db\\n        .insert(exercisesTable)\\n        .values({ name: exercise })\\n        .returning();\\n\\n      // Insert workout set outside date range\\n      await db.insert(workoutSetsTable).values({\\n        exercise_id: insertedExercise.id,\\n        sets: 3,\\n        reps: 5,\\n        weight: 150,\\n        performed_at: new Date(\"2023-12-01\")\\n      });\\n\\n      const input: ProgressRequest = {\\n        exercise: exercise,\\n        startDate: new Date(\"2024-01-01\"),\\n        endDate: new Date(\"2024-01-31\")\\n      };\\n\\n      const progress = await getProgress(input);\\n\\n      expect(progress).toHaveLength(0);\\n    });\\n\\n    \\n    \\n    it(\"should return only workouts for specified exercise\", async () => {\\n      const testDate = new Date(\"2024-01-15\");\\n      const targetExercise = \"Bench Press\";\\n      const otherExercise = \"Row\";\\n\\n      // Insert test exercises\\n      const [exercise1, exercise2] = await db\\n        .insert(exercisesTable)\\n        .values([\\n          { name: targetExercise },\\n          { name: otherExercise }\\n        ])\\n        .returning();\\n\\n      // Insert workout sets for both exercises\\n      await db.insert(workoutSetsTable).values([\\n        {\\n          exercise_id: exercise1.id,\\n          sets: 3,\\n          reps: 8,\\n          weight: 80,\\n          performed_at: testDate\\n        },\\n        {\\n          exercise_id: exercise2.id,\\n          sets: 3,\\n          reps: 12,\\n          weight: 60,\\n          performed_at: testDate\\n        }\\n      ]);\\n\\n      const input: ProgressRequest = {\\n        exercise: targetExercise,\\n        startDate: new Date(\"2024-01-01\"),\\n        endDate: new Date(\"2024-01-31\")\\n      };\\n\\n      const progress = await getProgress(input);\\n\\n      expect(progress).toHaveLength(1);\\n      expect(progress[0].exercise).toBe(targetExercise);\\n      expect(progress[0].weight).toBe(80);\\n    });\\n\\n    \\n});', error_output=None)},\n",
       " 'typescript_schema': TypescriptOut(reasoning=\"The application is a gym workout tracker that manages exercise records and provides analysis.\\nIt handles:\\n1. Recording individual workout sets with exercise details, including date and time\\n2. Retrieving progress data for exercises within a date range\\n3. Computing exercise statistics including max weight, total volume, and last performed date\\nAll date/time values should be properly handled using Zod's coerced UTC DateTime.\", typescript_schema=\"import { z } from 'zod';\\n\\nexport const workoutSetSchema = z.object({\\n    exercise: z.string(),\\n    sets: z.number().int(),\\n    reps: z.number().int(),\\n    weight: z.number(),\\n    date: z.coerce.date(),\\n});\\n\\nexport type WorkoutSet = z.infer<typeof workoutSetSchema>;\\n\\nexport const progressRequestSchema = z.object({\\n    exercise: z.string(),\\n    startDate: z.coerce.date(),\\n    endDate: z.coerce.date(),\\n});\\n\\nexport type ProgressRequest = z.infer<typeof progressRequestSchema>;\\n\\nexport const exerciseStatsSchema = z.object({\\n    exercise: z.string(),\\n    maxWeight: z.number(),\\n    totalSets: z.number().int(),\\n    totalReps: z.number().int(),\\n    lastPerformed: z.coerce.date(),\\n});\\n\\nexport type ExerciseStats = z.infer<typeof exerciseStatsSchema>;\\n\\nexport declare function recordWorkout(options: WorkoutSet): Promise<void>;\\n\\nexport declare function getProgress(options: ProgressRequest): Promise<WorkoutSet[]>;\\n\\nexport declare function getExerciseStats(options: ProgressRequest): Promise<ExerciseStats>;\", functions=[TypescriptFunction(name='recordWorkout', argument_type='WorkoutSet', argument_schema='workoutSetSchema', return_type='Promise<void>'), TypescriptFunction(name='getProgress', argument_type='ProgressRequest', argument_schema='progressRequestSchema', return_type='Promise<WorkoutSet[]>'), TypescriptFunction(name='getExerciseStats', argument_type='ProgressRequest', argument_schema='progressRequestSchema', return_type='Promise<ExerciseStats>')], error_output=None),\n",
       " 'gherkin': GherkinOut(reasoning=None, gherkin=None, error_output=None),\n",
       " 'trace_id': '18959d8a-b874-4e8b-86f2-dfe04b890b0e'}"
      ]
     },
     "execution_count": 9,
     "metadata": {},
     "output_type": "execute_result"
    }
   ],
   "source": [
    "my_bot.__dict__"
   ]
  },
  {
   "cell_type": "code",
   "execution_count": null,
   "metadata": {},
   "outputs": [],
   "source": []
  }
 ],
 "metadata": {
  "kernelspec": {
   "display_name": ".venv",
   "language": "python",
   "name": "python3"
  },
  "language_info": {
   "codemirror_mode": {
    "name": "ipython",
    "version": 3
   },
   "file_extension": ".py",
   "mimetype": "text/x-python",
   "name": "python",
   "nbconvert_exporter": "python",
   "pygments_lexer": "ipython3",
   "version": "3.12.8"
  }
 },
 "nbformat": 4,
 "nbformat_minor": 2
}
