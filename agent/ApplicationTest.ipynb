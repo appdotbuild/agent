{
 "cells": [
  {
   "cell_type": "code",
   "execution_count": 1,
   "metadata": {},
   "outputs": [],
   "source": [
    "from anthropic import AnthropicBedrock\n",
    "from application import Application\n",
    "from services import CompilerService"
   ]
  },
  {
   "cell_type": "code",
   "execution_count": 2,
   "metadata": {},
   "outputs": [],
   "source": [
    "compiler = CompilerService()\n",
    "client = AnthropicBedrock(aws_profile=\"dev\", aws_region=\"us-west-2\")"
   ]
  },
  {
   "cell_type": "code",
   "execution_count": 3,
   "metadata": {},
   "outputs": [],
   "source": [
    "application = Application(client, compiler, \"templates\")"
   ]
  },
  {
   "cell_type": "code",
   "execution_count": 4,
   "metadata": {},
   "outputs": [],
   "source": [
    "application_description = \"\"\"\n",
    "Bot that tracks my exercise routine in the gym, tracks progress and suggests new routines\n",
    "for specific list of available equipment and time constraints.\n",
    "\"\"\".strip()"
   ]
  },
  {
   "cell_type": "code",
   "execution_count": 5,
   "metadata": {},
   "outputs": [
    {
     "name": "stdout",
     "output_type": "stream",
     "text": [
      "Compiling TypeSpec...\n",
      "Compiling Drizzle...\n",
      "Generating Router...\n",
      "Generating Preprocessors...\n",
      "Generating Handlers...\n"
     ]
    }
   ],
   "source": [
    "my_bot = application.create_bot(application_description)"
   ]
  },
  {
   "cell_type": "code",
   "execution_count": 6,
   "metadata": {},
   "outputs": [
    {
     "data": {
      "text/plain": [
       "{'typespec': {'message': {'role': 'assistant',\n",
       "   'content': '<reasoning>\\nFor a gym tracking bot, we need to handle several aspects:\\n1. Recording exercises with details like sets, reps, weight\\n2. Equipment availability for routine suggestions\\n3. Time tracking for workouts\\n4. Progress monitoring\\n5. Routine suggestions\\n\\nExpected message patterns:\\n\"I did 3 sets of bench press, 8 reps each with 175lbs\" ->\\nrecordExercise({name: \"bench press\", sets: [{reps: 8, weight: 175}, ...]})\\n\\n\"What\\'s my progress on deadlifts?\" ->\\ngetProgress({exerciseName: \"deadlifts\"})\\n\\n\"Suggest a 45-minute chest workout with dumbbells and bench\" ->\\nsuggestRoutine({duration: \"45m\", targetMuscle: \"chest\", equipment: [\"dumbbells\", \"bench\"]})\\n</reasoning>\\n\\n<typespec>\\nmodel Exercise {\\n  name: string;\\n  sets: Set[];\\n  muscleGroup: string;\\n}\\n\\nmodel Set {\\n  reps: integer;\\n  weight: float;\\n}\\n\\nmodel Equipment {\\n  name: string;\\n  type: string;\\n}\\n\\nmodel Progress {\\n  exerciseName: string;\\n  history: WorkoutHistory[];\\n}\\n\\nmodel WorkoutHistory {\\n  date: utcDateTime;\\n  maxWeight: float;\\n  totalReps: integer;\\n}\\n\\nmodel RoutineRequest {\\n  duration: duration;\\n  targetMuscle: string;\\n  equipment: string[];\\n}\\n\\nmodel WorkoutRoutine {\\n  exercises: Exercise[];\\n  estimatedDuration: duration;\\n  difficulty: string;\\n}\\n\\ninterface GymBot {\\n  @llm_func(2)\\n  recordExercise(exercise: Exercise): void;\\n\\n  @llm_func(3)\\n  getProgress(exerciseName: string): Progress;\\n\\n  @llm_func(1)\\n  suggestRoutine(request: RoutineRequest): WorkoutRoutine;\\n\\n  @llm_func(1)\\n  listAvailableEquipment(): Equipment[];\\n}\\n</typespec>'},\n",
       "  'output': {'reasoning': 'For a gym tracking bot, we need to handle several aspects:\\n1. Recording exercises with details like sets, reps, weight\\n2. Equipment availability for routine suggestions\\n3. Time tracking for workouts\\n4. Progress monitoring\\n5. Routine suggestions\\n\\nExpected message patterns:\\n\"I did 3 sets of bench press, 8 reps each with 175lbs\" ->\\nrecordExercise({name: \"bench press\", sets: [{reps: 8, weight: 175}, ...]})\\n\\n\"What\\'s my progress on deadlifts?\" ->\\ngetProgress({exerciseName: \"deadlifts\"})\\n\\n\"Suggest a 45-minute chest workout with dumbbells and bench\" ->\\nsuggestRoutine({duration: \"45m\", targetMuscle: \"chest\", equipment: [\"dumbbells\", \"bench\"]})',\n",
       "   'typespec_definitions': 'model Exercise {\\n  name: string;\\n  sets: Set[];\\n  muscleGroup: string;\\n}\\n\\nmodel Set {\\n  reps: integer;\\n  weight: float;\\n}\\n\\nmodel Equipment {\\n  name: string;\\n  type: string;\\n}\\n\\nmodel Progress {\\n  exerciseName: string;\\n  history: WorkoutHistory[];\\n}\\n\\nmodel WorkoutHistory {\\n  date: utcDateTime;\\n  maxWeight: float;\\n  totalReps: integer;\\n}\\n\\nmodel RoutineRequest {\\n  duration: duration;\\n  targetMuscle: string;\\n  equipment: string[];\\n}\\n\\nmodel WorkoutRoutine {\\n  exercises: Exercise[];\\n  estimatedDuration: duration;\\n  difficulty: string;\\n}\\n\\ninterface GymBot {\\n  @llm_func(2)\\n  recordExercise(exercise: Exercise): void;\\n\\n  @llm_func(3)\\n  getProgress(exerciseName: string): Progress;\\n\\n  @llm_func(1)\\n  suggestRoutine(request: RoutineRequest): WorkoutRoutine;\\n\\n  @llm_func(1)\\n  listAvailableEquipment(): Equipment[];\\n}',\n",
       "   'llm_functions': ['recordExercise',\n",
       "    'getProgress',\n",
       "    'suggestRoutine',\n",
       "    'listAvailableEquipment']},\n",
       "  'feedback': {'exit_code': 0,\n",
       "   'stdout': 'TypeSpec compiler v0.64.0\\n\\nCompilation completed successfully.\\n\\n',\n",
       "   'stderr': None}},\n",
       " 'drizzle': {'message': {'role': 'assistant',\n",
       "   'content': 'Let me analyze the TypeSpec models and create an appropriate Drizzle schema for PostgreSQL.\\n\\n<reasoning>\\nThe application is a gym workout tracking system with several key entities:\\n1. Exercises with sets and muscle groups\\n2. Equipment tracking\\n3. Workout history and progress tracking\\n4. Workout routines\\n\\nWe need to create tables that:\\n- Store exercises and their sets\\n- Track equipment\\n- Record workout history\\n- Handle workout routines\\n- Ensure proper relationships between entities\\n</reasoning>\\n\\n<drizzle>\\nimport { \\n  pgTable, \\n  text, \\n  integer, \\n  timestamp, \\n  real,\\n  serial,\\n  json\\n} from \"drizzle-orm/pg-core\";\\n\\n// Equipment table\\nexport const equipmentTable = pgTable(\"equipment\", {\\n  id: serial(\"id\").primaryKey(),\\n  name: text(\"name\").notNull(),\\n  type: text(\"type\").notNull(),\\n});\\n\\n// Exercise table\\nexport const exerciseTable = pgTable(\"exercise\", {\\n  id: serial(\"id\").primaryKey(),\\n  name: text(\"name\").notNull().unique(),\\n  muscleGroup: text(\"muscle_group\").notNull(),\\n});\\n\\n// Sets table (related to exercises)\\nexport const setTable = pgTable(\"set\", {\\n  id: serial(\"id\").primaryKey(),\\n  exerciseId: integer(\"exercise_id\")\\n    .references(() => exerciseTable.id)\\n    .notNull(),\\n  reps: integer(\"reps\").notNull(),\\n  weight: real(\"weight\").notNull(),\\n});\\n\\n// Workout History table\\nexport const workoutHistoryTable = pgTable(\"workout_history\", {\\n  id: serial(\"id\").primaryKey(),\\n  exerciseName: text(\"exercise_name\")\\n    .references(() => exerciseTable.name)\\n    .notNull(),\\n  date: timestamp(\"date\").notNull(),\\n  maxWeight: real(\"max_weight\").notNull(),\\n  totalReps: integer(\"total_reps\").notNull(),\\n});\\n\\n// Workout Routine table\\nexport const routineTable = pgTable(\"routine\", {\\n  id: serial(\"id\").primaryKey(),\\n  exercises: json(\"exercises\").notNull(), // Stores Exercise[] as JSON\\n  estimatedDuration: integer(\"estimated_duration\").notNull(), // Duration in seconds\\n  difficulty: text(\"difficulty\").notNull(),\\n});\\n\\n// Equipment-Exercise relationship table\\nexport const exerciseEquipmentTable = pgTable(\"exercise_equipment\", {\\n  id: serial(\"id\").primaryKey(),\\n  exerciseId: integer(\"exercise_id\")\\n    .references(() => exerciseTable.id)\\n    .notNull(),\\n  equipmentId: integer(\"equipment_id\")\\n    .references(() => equipmentTable.id)\\n    .notNull(),\\n});\\n</drizzle>'},\n",
       "  'output': {'reasoning': 'The application is a gym workout tracking system with several key entities:\\n1. Exercises with sets and muscle groups\\n2. Equipment tracking\\n3. Workout history and progress tracking\\n4. Workout routines\\n\\nWe need to create tables that:\\n- Store exercises and their sets\\n- Track equipment\\n- Record workout history\\n- Handle workout routines\\n- Ensure proper relationships between entities',\n",
       "   'drizzle_schema': 'import { \\n  pgTable, \\n  text, \\n  integer, \\n  timestamp, \\n  real,\\n  serial,\\n  json\\n} from \"drizzle-orm/pg-core\";\\n\\n// Equipment table\\nexport const equipmentTable = pgTable(\"equipment\", {\\n  id: serial(\"id\").primaryKey(),\\n  name: text(\"name\").notNull(),\\n  type: text(\"type\").notNull(),\\n});\\n\\n// Exercise table\\nexport const exerciseTable = pgTable(\"exercise\", {\\n  id: serial(\"id\").primaryKey(),\\n  name: text(\"name\").notNull().unique(),\\n  muscleGroup: text(\"muscle_group\").notNull(),\\n});\\n\\n// Sets table (related to exercises)\\nexport const setTable = pgTable(\"set\", {\\n  id: serial(\"id\").primaryKey(),\\n  exerciseId: integer(\"exercise_id\")\\n    .references(() => exerciseTable.id)\\n    .notNull(),\\n  reps: integer(\"reps\").notNull(),\\n  weight: real(\"weight\").notNull(),\\n});\\n\\n// Workout History table\\nexport const workoutHistoryTable = pgTable(\"workout_history\", {\\n  id: serial(\"id\").primaryKey(),\\n  exerciseName: text(\"exercise_name\")\\n    .references(() => exerciseTable.name)\\n    .notNull(),\\n  date: timestamp(\"date\").notNull(),\\n  maxWeight: real(\"max_weight\").notNull(),\\n  totalReps: integer(\"total_reps\").notNull(),\\n});\\n\\n// Workout Routine table\\nexport const routineTable = pgTable(\"routine\", {\\n  id: serial(\"id\").primaryKey(),\\n  exercises: json(\"exercises\").notNull(), // Stores Exercise[] as JSON\\n  estimatedDuration: integer(\"estimated_duration\").notNull(), // Duration in seconds\\n  difficulty: text(\"difficulty\").notNull(),\\n});\\n\\n// Equipment-Exercise relationship table\\nexport const exerciseEquipmentTable = pgTable(\"exercise_equipment\", {\\n  id: serial(\"id\").primaryKey(),\\n  exerciseId: integer(\"exercise_id\")\\n    .references(() => exerciseTable.id)\\n    .notNull(),\\n  equipmentId: integer(\"equipment_id\")\\n    .references(() => equipmentTable.id)\\n    .notNull(),\\n});'},\n",
       "  'feedback': {'exit_code': 0,\n",
       "   'stdout': \"No config path provided, using default 'drizzle.config.ts'\\nReading config file '/app/drizzle.config.ts'\\nUsing 'pg' driver for database querying\\n[⣷] Pulling schema from database...\\n\\x1b[2K\\x1b[1G[✓] Pulling schema from database...\\n[✓] Changes applied\\n\",\n",
       "   'stderr': None}},\n",
       " 'router': {'user_functions': [{'name': 'recordExercise',\n",
       "    'description': 'Records a completed exercise with details including the name, number of sets, reps, weights used, and targeted muscle group. Used when users want to log their workout activities.',\n",
       "    'examples': ['I just did 3 sets of bench press, 8 reps at 135 pounds',\n",
       "     'Log my squat workout: 5 sets, 5 reps at 225 pounds',\n",
       "     'Record my shoulder press: 3 sets of 12 reps at 45 pounds',\n",
       "     'I completed lat pulldowns with 4 sets of 10 reps at 120 pounds']},\n",
       "   {'name': 'getProgress',\n",
       "    'description': 'Retrieves progress history for a specific exercise, showing historical data of weights, reps, and dates. Used when users want to track their improvement over time.',\n",
       "    'examples': ['Show my bench press progress',\n",
       "     'How am I improving on deadlifts?',\n",
       "     \"What's my progress on squats looking like?\",\n",
       "     'Show me my history with shoulder press']},\n",
       "   {'name': 'suggestRoutine',\n",
       "    'description': 'Generates a workout routine based on specified duration, target muscle groups, and available equipment. Used when users want personalized workout recommendations.',\n",
       "    'examples': ['Give me a 45-minute leg workout with dumbbells',\n",
       "     'Suggest a chest routine for 1 hour using machines only',\n",
       "     'What exercises can I do for back in 30 minutes with just a barbell?',\n",
       "     'Create a full body workout for 90 minutes using basic gym equipment']},\n",
       "   {'name': 'listAvailableEquipment',\n",
       "    'description': 'Provides a list of all available gym equipment and their types. Used when users want to know what equipment they can use for their workouts.',\n",
       "    'examples': ['What equipment is available?',\n",
       "     'Show me the gym equipment list',\n",
       "     'What machines can I use?',\n",
       "     'List all available workout equipment']}]},\n",
       " 'preprocessors': {'listAvailableEquipment': {'instructions': 'The listAvailableEquipment function takes no input parameters and returns an array of Equipment objects. Each Equipment object contains a name and type. When processing user queries about available equipment, interpret requests about gym equipment, machines, or tools as calls to this function.',\n",
       "   'examples': [('What equipment is available at the gym?',\n",
       "     '[] // Empty array as input since no parameters are needed'),\n",
       "    ('Show me all the gym equipment',\n",
       "     '[] // Empty array as input since no parameters are needed'),\n",
       "    ('Can you tell me what machines I can use?',\n",
       "     '[] // Empty array as input since no parameters are needed'),\n",
       "    ('List all available weights and equipment',\n",
       "     '[] // Empty array as input since no parameters are needed'),\n",
       "    ('Do you have dumbbells?',\n",
       "     '[] // Empty array as input since no parameters are needed - will return full equipment list')]},\n",
       "  'getProgress': {'instructions': 'The getProgress function takes a single string argument \\'exerciseName\\' and returns Progress data.\\n- Exercise name should be extracted from user input and normalized to standard exercise names\\n- Input can be in various formats like \"progress for [exercise]\", \"show me [exercise] stats\", etc.\\n- If exercise name contains weights/reps, strip those out to get just the base exercise name\\n- Case-insensitive matching should be used for exercise names',\n",
       "   'examples': [('Show me my bench press progress',\n",
       "     '{\"exerciseName\": \"bench press\"}'),\n",
       "    ('How am I doing on squats?', '{\"exerciseName\": \"squats\"}'),\n",
       "    ('deadlift 225x5 progress', '{\"exerciseName\": \"deadlift\"}'),\n",
       "    ('progress for lat pulldown', '{\"exerciseName\": \"lat pulldown\"}'),\n",
       "    ('stats for MILITARY PRESS', '{\"exerciseName\": \"military press\"}'),\n",
       "    ('Check bicep curls history', '{\"exerciseName\": \"bicep curls\"}')]},\n",
       "  'suggestRoutine': {'instructions': 'For suggestRoutine function:\\n- Duration should be parsed into ISO 8601 duration format (e.g., \"PT30M\" for 30 minutes)\\n- Target muscle should be normalized to standard muscle group names (chest, back, legs, shoulders, arms, core)\\n- Equipment should be converted to an array of available equipment names\\n- If duration is not specified, default to \"PT45M\"\\n- If target muscle is not specified, interpret from context or default to \"full body\"\\n- If equipment is not specified, assume basic gym equipment is available',\n",
       "   'examples': [('I want a 30 minute chest workout with dumbbells',\n",
       "     '{\\n  \"request\": {\\n    \"duration\": \"PT30M\",\\n    \"targetMuscle\": \"chest\",\\n    \"equipment\": [\"dumbbells\"]\\n  }\\n}'),\n",
       "    ('Give me a leg workout using machines and barbells for 1 hour',\n",
       "     '{\\n  \"request\": {\\n    \"duration\": \"PT1H\",\\n    \"targetMuscle\": \"legs\",\\n    \"equipment\": [\"machines\", \"barbells\"]\\n  }\\n}'),\n",
       "    ('Quick back workout at home with resistance bands',\n",
       "     '{\\n  \"request\": {\\n    \"duration\": \"PT45M\",\\n    \"targetMuscle\": \"back\",\\n    \"equipment\": [\"resistance bands\"]\\n  }\\n}'),\n",
       "    ('Full body workout using whatever equipment is available',\n",
       "     '{\\n  \"request\": {\\n    \"duration\": \"PT45M\",\\n    \"targetMuscle\": \"full body\",\\n    \"equipment\": [\"dumbbells\", \"barbells\", \"machines\", \"bodyweight\"]\\n  }\\n}'),\n",
       "    ('20 minute arm workout with dumbbells and bands',\n",
       "     '{\\n  \"request\": {\\n    \"duration\": \"PT20M\",\\n    \"targetMuscle\": \"arms\",\\n    \"equipment\": [\"dumbbells\", \"resistance bands\"]\\n  }\\n}')]},\n",
       "  'recordExercise': {'instructions': 'The recordExercise function expects a complete Exercise object with:\\n- name: String identifying the exercise (required)\\n- sets: Array of Set objects, each containing reps (integer) and weight (float)\\n- muscleGroup: Primary muscle group targeted (required)\\n\\nWhen processing user input:\\n1. Extract exercise name from the beginning of the message\\n2. Look for number patterns like \"80x6\" or \"6 reps at 80kg\" to identify sets\\n3. If muscleGroup is not explicitly stated, infer from exercise name\\n4. Multiple sets can be specified with comma separation',\n",
       "   'examples': [('bench press 80x6, 85x5, 90x4',\n",
       "     '{\\n    \"name\": \"bench press\",\\n    \"sets\": [\\n        {\"reps\": 6, \"weight\": 80.0},\\n        {\"reps\": 5, \"weight\": 85.0},\\n        {\"reps\": 4, \"weight\": 90.0}\\n    ],\\n    \"muscleGroup\": \"chest\"\\n}'),\n",
       "    ('did 3 sets of squats today: 100kg for 8 reps each',\n",
       "     '{\\n    \"name\": \"squats\",\\n    \"sets\": [\\n        {\"reps\": 8, \"weight\": 100.0},\\n        {\"reps\": 8, \"weight\": 100.0},\\n        {\"reps\": 8, \"weight\": 100.0}\\n    ],\\n    \"muscleGroup\": \"legs\"\\n}'),\n",
       "    ('lateral raises 12kg 15 reps, 10kg 12 reps',\n",
       "     '{\\n    \"name\": \"lateral raises\",\\n    \"sets\": [\\n        {\"reps\": 15, \"weight\": 12.0},\\n        {\"reps\": 12, \"weight\": 10.0}\\n    ],\\n    \"muscleGroup\": \"shoulders\"\\n}'),\n",
       "    ('pullups bodyweight 8,7,6 reps',\n",
       "     '{\\n    \"name\": \"pullups\",\\n    \"sets\": [\\n        {\"reps\": 8, \"weight\": 0.0},\\n        {\"reps\": 7, \"weight\": 0.0},\\n        {\"reps\": 6, \"weight\": 0.0}\\n    ],\\n    \"muscleGroup\": \"back\"\\n}')]}},\n",
       " 'handlers': {'getProgress': {'handler': 'import { db } from \"../db\";\\nimport { workoutHistoryTable } from \\'../db/schema/application\\';\\nimport { desc } from \\'drizzle-orm\\';\\n\\nconst handle = async (exerciseName: string): Promise<Progress> => {\\n    // Fetch workout history for the specific exercise, ordered by date\\n    const history = await db\\n        .select({\\n            date: workoutHistoryTable.date,\\n            maxWeight: workoutHistoryTable.maxWeight,\\n            totalReps: workoutHistoryTable.totalReps\\n        })\\n        .from(workoutHistoryTable)\\n        .where(eq(workoutHistoryTable.exerciseName, exerciseName))\\n        .orderBy(desc(workoutHistoryTable.date))\\n        .execute();\\n\\n    // Transform the database results into the Progress model\\n    const progress: Progress = {\\n        exerciseName: exerciseName,\\n        history: history.map(record => ({\\n            date: record.date,\\n            maxWeight: record.maxWeight,\\n            totalReps: record.totalReps\\n        }))\\n    };\\n\\n    return progress;\\n};'},\n",
       "  'listAvailableEquipment': {'handler': 'import { db } from \"../db\";\\nimport { equipmentTable } from \\'../db/schema/application\\';\\n\\nconst handle = async (): Promise<{ name: string; type: string }[]> => {\\n    const equipment = await db\\n        .select({\\n            name: equipmentTable.name,\\n            type: equipmentTable.type,\\n        })\\n        .from(equipmentTable)\\n        .execute();\\n    \\n    return equipment;\\n};'},\n",
       "  'recordExercise': {'handler': 'import { db } from \"../db\";\\nimport { exerciseTable, setTable, workoutHistoryTable } from \\'../db/schema/application\\';\\nimport { eq } from \\'drizzle-orm\\';\\n\\nconst handle = async (exercise: Exercise): Promise<void> => {\\n    // First, ensure the exercise exists in the exercise table\\n    const existingExercise = await db\\n        .select()\\n        .from(exerciseTable)\\n        .where(eq(exerciseTable.name, exercise.name))\\n        .execute();\\n\\n    let exerciseId: number;\\n    \\n    if (existingExercise.length === 0) {\\n        // Insert new exercise if it doesn\\'t exist\\n        const [newExercise] = await db\\n            .insert(exerciseTable)\\n            .values({\\n                name: exercise.name,\\n                muscleGroup: exercise.muscleGroup\\n            })\\n            .returning({ id: exerciseTable.id })\\n            .execute();\\n            \\n        exerciseId = newExercise.id;\\n    } else {\\n        exerciseId = existingExercise[0].id;\\n    }\\n\\n    // Record all sets\\n    await Promise.all(\\n        exercise.sets.map(set => \\n            db.insert(setTable)\\n                .values({\\n                    exerciseId: exerciseId,\\n                    reps: set.reps,\\n                    weight: set.weight\\n                })\\n                .execute()\\n        )\\n    );\\n\\n    // Calculate and record workout history\\n    const maxWeight = Math.max(...exercise.sets.map(set => set.weight));\\n    const totalReps = exercise.sets.reduce((sum, set) => sum + set.reps, 0);\\n\\n    await db.insert(workoutHistoryTable)\\n        .values({\\n            exerciseName: exercise.name,\\n            date: new Date(),\\n            maxWeight: maxWeight,\\n            totalReps: totalReps\\n        })\\n        .execute();\\n};'},\n",
       "  'suggestRoutine': {'handler': 'import { db } from \"../db\";\\nimport { \\n  equipmentTable, \\n  exerciseTable, \\n  exerciseEquipmentTable, \\n  routineTable \\n} from \\'../db/schema/application\\';\\nimport { eq, inArray } from \\'drizzle-orm\\';\\nimport { WorkoutRoutine, RoutineRequest } from \\'../types\\';\\n\\nconst handle = async (request: RoutineRequest): Promise<WorkoutRoutine> => {\\n    // Get equipment IDs for the requested equipment\\n    const availableEquipment = await db\\n        .select()\\n        .from(equipmentTable)\\n        .where(inArray(equipmentTable.name, request.equipment))\\n        .execute();\\n\\n    const equipmentIds = availableEquipment.map(eq => eq.id);\\n\\n    // Find exercises that match the target muscle group and available equipment\\n    const exercisesWithEquipment = await db\\n        .select({\\n            name: exerciseTable.name,\\n            muscleGroup: exerciseTable.muscleGroup,\\n        })\\n        .from(exerciseTable)\\n        .innerJoin(\\n            exerciseEquipmentTable,\\n            eq(exerciseTable.id, exerciseEquipmentTable.exerciseId)\\n        )\\n        .where(\\n            eq(exerciseTable.muscleGroup, request.targetMuscle) &&\\n            inArray(exerciseEquipmentTable.equipmentId, equipmentIds)\\n        )\\n        .execute();\\n\\n    // Create a workout routine with default sets\\n    const exercises = exercisesWithEquipment.map(exercise => ({\\n        name: exercise.name,\\n        muscleGroup: exercise.muscleGroup,\\n        sets: [\\n            { reps: 12, weight: 0 },\\n            { reps: 10, weight: 0 },\\n            { reps: 8, weight: 0 }\\n        ]\\n    }));\\n\\n    const routine: WorkoutRoutine = {\\n        exercises: exercises.slice(0, 4), // Limit to 4 exercises\\n        estimatedDuration: request.duration,\\n        difficulty: exercises.length > 3 ? \"advanced\" : \"intermediate\"\\n    };\\n\\n    // Store the routine in the database\\n    await db.insert(routineTable).values({\\n        exercises: JSON.stringify(routine.exercises),\\n        estimatedDuration: Math.floor(request.duration / 1000), // Convert to seconds\\n        difficulty: routine.difficulty\\n    }).execute();\\n\\n    return routine;\\n};'}}}"
      ]
     },
     "execution_count": 6,
     "metadata": {},
     "output_type": "execute_result"
    }
   ],
   "source": [
    "my_bot"
   ]
  },
  {
   "cell_type": "code",
   "execution_count": null,
   "metadata": {},
   "outputs": [],
   "source": []
  }
 ],
 "metadata": {
  "kernelspec": {
   "display_name": ".venv",
   "language": "python",
   "name": "python3"
  },
  "language_info": {
   "codemirror_mode": {
    "name": "ipython",
    "version": 3
   },
   "file_extension": ".py",
   "mimetype": "text/x-python",
   "name": "python",
   "nbconvert_exporter": "python",
   "pygments_lexer": "ipython3",
   "version": "3.12.8"
  }
 },
 "nbformat": 4,
 "nbformat_minor": 2
}
