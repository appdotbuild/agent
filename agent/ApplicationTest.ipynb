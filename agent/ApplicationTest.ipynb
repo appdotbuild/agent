{
 "cells": [
  {
   "cell_type": "code",
   "execution_count": 1,
   "metadata": {},
   "outputs": [],
   "source": [
    "%load_ext autoreload\n",
    "%autoreload 2"
   ]
  },
  {
   "cell_type": "code",
   "execution_count": 2,
   "metadata": {},
   "outputs": [],
   "source": [
    "from anthropic import AnthropicBedrock\n",
    "from application import Application\n",
    "from compiler.core import Compiler\n",
    "from core.interpolator import Interpolator"
   ]
  },
  {
   "cell_type": "code",
   "execution_count": 3,
   "metadata": {},
   "outputs": [],
   "source": [
    "compiler = Compiler(\"botbuild/tsp_compiler\", \"botbuild/app_schema\")\n",
    "client = AnthropicBedrock(aws_profile=\"dev\", aws_region=\"us-west-2\")"
   ]
  },
  {
   "cell_type": "code",
   "execution_count": 4,
   "metadata": {},
   "outputs": [
    {
     "name": "stdout",
     "output_type": "stream",
     "text": [
      "Loaded environment variables from templates/app_schema/.env\n"
     ]
    }
   ],
   "source": [
    "import os\n",
    "from dotenv import load_dotenv\n",
    "env_path = \"templates/app_schema/.env\"\n",
    "if os.path.exists(env_path):\n",
    "    load_dotenv(env_path)\n",
    "    print(f\"Loaded environment variables from {env_path}\")"
   ]
  },
  {
   "cell_type": "code",
   "execution_count": 5,
   "metadata": {},
   "outputs": [],
   "source": [
    "application = Application(client, compiler)\n",
    "interpolator = Interpolator(\".\")"
   ]
  },
  {
   "cell_type": "code",
   "execution_count": 6,
   "metadata": {},
   "outputs": [],
   "source": [
    "application_description = \"\"\"\n",
    "Bot that does web search with one handler\n",
    "\"\"\".strip()"
   ]
  },
  {
   "cell_type": "code",
   "execution_count": 7,
   "metadata": {},
   "outputs": [
    {
     "name": "stdout",
     "output_type": "stream",
     "text": [
      "Skipping Initial Description Refinement\n",
      "Compiling TypeSpec...\n",
      "Compiling Typescript Schema Definitions...\n",
      "Compiling Drizzle...\n",
      "Compiling Handler Tests...\n",
      "Compiling Handlers...\n"
     ]
    }
   ],
   "source": [
    "\n",
    "my_bot = application.create_bot(application_description, bot_id=\"handler_tests\", capabilities=[\"perplexity.web_search\"])"
   ]
  },
  {
   "cell_type": "code",
   "execution_count": 8,
   "metadata": {},
   "outputs": [],
   "source": [
    "interpolator.bake(my_bot, \"../../bot_result\") # next to repo root"
   ]
  },
  {
   "cell_type": "code",
   "execution_count": 9,
   "metadata": {},
   "outputs": [
    {
     "data": {
      "text/plain": [
       "{'refined_description': RefineOut(refined_description='Bot that does web search with one handler', error_output=None),\n",
       " 'capabilities': ['perplexity.web_search'],\n",
       " 'typespec': TypespecOut(reasoning='Based on the description, I need to create a TypeSpec model and interface for a bot that does web search. The bot will have a single handler for searching the web. \\n\\nThe primary function would be to search the web based on a query string provided by the user. I expect the user to send messages like \"search for TypeScript tutorials\" or \"find information about climate change\".\\n\\nFor the search function, I need to define:\\n- A model representing the search request options\\n- A model representing the search result\\n\\nThe search function should be decorated with appropriate @llm_func and @scenario decorators to describe its behavior and expected use cases.', typespec_definitions='model SearchRequest {\\n  query: string;\\n  maxResults?: integer;\\n  searchType?: string;\\n  language?: string;\\n}\\n\\nmodel SearchResultItem {\\n  title: string;\\n  url: string;\\n  snippet: string;\\n  publishedDate?: utcDateTime;\\n}\\n\\nmodel SearchResponse {\\n  results: SearchResultItem[];\\n  totalResults: integer;\\n  searchTime: duration;\\n}\\n\\ninterface WebSearchBot {\\n  @scenario(\\n  \"\"\"\\n  Scenario: Basic search query\\n  When user says \"search for electric vehicles\"\\n  Then system should extract:\\n    - Query: \"electric vehicles\"\\n  And return relevant search results\\n  Examples:\\n    | Input                                       | Expected Query         |\\n    | \"find information about renewable energy\"   | \"renewable energy\"     |\\n    | \"search for recipe for chocolate chip cookies\" | \"recipe for chocolate chip cookies\" |\\n  \"\"\")\\n  \\n  @scenario(\\n  \"\"\"\\n  Scenario: Search with constraints\\n  When user says \"search for Spanish restaurants in New York, show top 5\"\\n  Then system should extract:\\n    - Query: \"Spanish restaurants in New York\"\\n    - Max Results: 5\\n  Examples:\\n    | Input                                      | Query                 | Max Results |\\n    | \"find 3 articles about AI in healthcare\"   | \"AI in healthcare\"    | 3           |\\n    | \"search for Python tutorials in French\"    | \"Python tutorials\"    | null        |\\n    | \"find recent news about SpaceX\"            | \"recent news SpaceX\"  | null        |\\n  \"\"\")\\n  \\n  @llm_func(\"Search the web for information based on user query\")\\n  search(options: SearchRequest): SearchResponse;\\n}', llm_functions=[LLMFunction(name='search', description='Search the web for information based on user query', scenario='Scenario: Search with constraints\\n  When user says \"search for Spanish restaurants in New York, show top 5\"\\n  Then system should extract:\\n    - Query: \"Spanish restaurants in New York\"\\n    - Max Results: 5\\n  Examples:\\n    | Input                                      | Query                 | Max Results |\\n    | \"find 3 articles about AI in healthcare\"   | \"AI in healthcare\"    | 3           |\\n    | \"search for Python tutorials in French\"    | \"Python tutorials\"    | null        |\\n    | \"find recent news about SpaceX\"            | \"recent news SpaceX\"  | null        |')], error_output=None),\n",
       " 'drizzle': DrizzleOut(reasoning=\"Looking at the TypeSpec code, I can identify the following key entities:\\n1. SearchRequest - Contains query parameters for web searches\\n2. SearchResultItem - Represents an individual search result\\n3. SearchResponse - Contains a collection of search results and metadata\\n\\nFor a PostgreSQL-compatible Drizzle schema, we need to model these entities as tables. Additionally:\\n- The SearchResultItem should likely have a foreign key to SearchResponse\\n- We'll need appropriate data types for each field\\n- UTC datetime can be represented as timestamp\\n- Duration can be stored as an interval in PostgreSQL\", drizzle_schema='import { pgTable, serial, text, integer, timestamp, interval, pgEnum } from \"drizzle-orm/pg-core\";\\n\\n// Enum for search types\\nexport const searchTypeEnum = pgEnum(\"search_type\", [\"web\", \"image\", \"news\", \"video\"]);\\n\\n// Search requests table\\nexport const searchRequestsTable = pgTable(\"search_requests\", {\\n  id: serial(\"id\").primaryKey(),\\n  query: text(\"query\").notNull(),\\n  maxResults: integer(\"max_results\"),\\n  searchType: searchTypeEnum(\"search_type\"),\\n  language: text(\"language\"),\\n  createdAt: timestamp(\"created_at\").defaultNow().notNull()\\n});\\n\\n// Search responses table\\nexport const searchResponsesTable = pgTable(\"search_responses\", {\\n  id: serial(\"id\").primaryKey(),\\n  requestId: integer(\"request_id\").references(() => searchRequestsTable.id).notNull(),\\n  totalResults: integer(\"total_results\").notNull(),\\n  searchTime: interval(\"search_time\").notNull(),\\n  createdAt: timestamp(\"created_at\").defaultNow().notNull()\\n});\\n\\n// Search result items table\\nexport const searchResultItemsTable = pgTable(\"search_result_items\", {\\n  id: serial(\"id\").primaryKey(),\\n  responseId: integer(\"response_id\").references(() => searchResponsesTable.id).notNull(),\\n  title: text(\"title\").notNull(),\\n  url: text(\"url\").notNull(),\\n  snippet: text(\"snippet\").notNull(),\\n  publishedDate: timestamp(\"published_date\"),\\n  createdAt: timestamp(\"created_at\").defaultNow().notNull()\\n});\\n\\n// Table to store user search interactions\\nexport const userSearchHistoryTable = pgTable(\"user_search_history\", {\\n  id: serial(\"id\").primaryKey(),\\n  userId: text(\"user_id\").notNull(),\\n  requestId: integer(\"request_id\").references(() => searchRequestsTable.id).notNull(),\\n  timestamp: timestamp(\"timestamp\").defaultNow().notNull()\\n});\\n\\n// Table for analytics on search patterns\\nexport const searchAnalyticsTable = pgTable(\"search_analytics\", {\\n  id: serial(\"id\").primaryKey(),\\n  query: text(\"query\").notNull(),\\n  frequency: integer(\"frequency\").default(1).notNull(),\\n  lastSearched: timestamp(\"last_searched\").defaultNow().notNull()\\n});', error_output=None),\n",
       " 'handlers': {'search': HandlerOut(name='search', handler='import { db } from \"../db\";\\nimport { search, type SearchRequest, type SearchResponse } from \"../common/schema\";\\nimport { \\n  searchRequestsTable, \\n  searchResponsesTable, \\n  searchResultItemsTable,\\n  searchAnalyticsTable \\n} from \"../db/schema/application\";\\nimport { eq } from \"drizzle-orm\";\\n\\nexport const handle: typeof search = async (options: SearchRequest): Promise<SearchResponse> => {\\n  // Validate input - throw error for empty queries\\n  if (!options.query || options.query.trim() === \"\") {\\n    throw new Error(\"Search query cannot be empty\");\\n  }\\n  \\n  // Start timing the search process\\n  const startTime = process.hrtime();\\n  \\n  // 1. Record the search request in database\\n  const insertedRequest = await db.insert(searchRequestsTable)\\n    .values({\\n      query: options.query,\\n      maxResults: options.maxResults ?? 10,\\n      searchType: options.searchType as any,\\n      language: options.language\\n    })\\n    .returning({ id: searchRequestsTable.id });\\n  \\n  const requestId = insertedRequest[0].id;\\n\\n  // 2. Perform search logic (in a real app, this would call external search API or database)\\n  // This is a mock implementation that generates sample results\\n  const maxResultsToReturn = options.maxResults ?? 10;\\n  const mockResults = Array(maxResultsToReturn).fill(0).map((_, index) => ({\\n    title: `Result ${index + 1} for \"${options.query}\"`,\\n    url: `https://example.com/result-${index + 1}`,\\n    snippet: `This is a sample snippet for search result ${index + 1} matching the query \"${options.query}\"...`,\\n    publishedDate: new Date(Date.now() - Math.floor(Math.random() * 30) * 24 * 60 * 60 * 1000)\\n  }));\\n  \\n  // 3. Calculate search time\\n  const endTime = process.hrtime(startTime);\\n  const searchTimeMs = (endTime[0] * 1000 + endTime[1] / 1000000).toFixed(2);\\n  \\n  // 4. Record the search response in database\\n  const insertedResponse = await db.insert(searchResponsesTable)\\n    .values({\\n      requestId: requestId,\\n      totalResults: mockResults.length * 10, // Simulating more results than we return\\n      searchTime: `${searchTimeMs} milliseconds`\\n    })\\n    .returning({ id: searchResponsesTable.id });\\n  \\n  const responseId = insertedResponse[0].id;\\n  \\n  // 5. Record each result item in database\\n  await db.insert(searchResultItemsTable)\\n    .values(mockResults.map(result => ({\\n      responseId: responseId,\\n      title: result.title,\\n      url: result.url,\\n      snippet: result.snippet,\\n      publishedDate: result.publishedDate\\n    })));\\n  \\n  // 6. Update search analytics without using onConflictDoUpdate\\n  // First check if we already have an analytics entry for this query\\n  const existingAnalytics = await db\\n    .select()\\n    .from(searchAnalyticsTable)\\n    .where(eq(searchAnalyticsTable.query, options.query));\\n  \\n  if (existingAnalytics.length > 0) {\\n    // Update existing entry\\n    await db\\n      .update(searchAnalyticsTable)\\n      .set({ \\n        frequency: existingAnalytics[0].frequency + 1,\\n        lastSearched: new Date()\\n      })\\n      .where(eq(searchAnalyticsTable.query, options.query));\\n  } else {\\n    // Insert new entry\\n    await db\\n      .insert(searchAnalyticsTable)\\n      .values({\\n        query: options.query,\\n        frequency: 1,\\n        lastSearched: new Date()\\n      });\\n  }\\n  \\n  // 7. Return search response\\n  return {\\n    results: mockResults.map(result => ({\\n      title: result.title,\\n      url: result.url,\\n      snippet: result.snippet,\\n      publishedDate: result.publishedDate\\n    })),\\n    totalResults: mockResults.length * 10, // Same as recorded in database\\n    searchTime: `${searchTimeMs}ms`\\n  };\\n};', argument_schema='searchRequestSchema', error_output=None)},\n",
       " 'handler_tests': {'search': HandlerTestsOut(name='search', content='\\nimport { afterEach, beforeEach, describe } from \"bun:test\";\\nimport { resetDB, createDB } from \"../../helpers\";\\nimport { expect, it } from \"bun:test\";\\nimport { db } from \"../../db\";\\nimport { eq } from \"drizzle-orm\";\\nimport { \\n  searchRequestsTable, \\n  searchResponsesTable, \\n  searchResultItemsTable \\n} from \"../../db/schema/application\";\\nimport { type SearchRequest } from \"../../common/schema\";\\n\\nimport { handle as search } from \"../../handlers/search.ts\";\\n\\n\\ndescribe(\"\", () => {\\n    beforeEach(async () => {\\n        await createDB();\\n    });\\n\\n    afterEach(async () => {\\n        await resetDB();\\n    });\\n    \\n    \\n    it(\"should return search results for a basic query\", async () => {\\n      const input: SearchRequest = { query: \"javascript tutorials\" };\\n      const searchResponse = await search(input);\\n      \\n      expect(searchResponse.results).toBeArray();\\n      expect(searchResponse.totalResults).toBeGreaterThan(0);\\n      expect(searchResponse.searchTime).toBeString();\\n    });\\n\\n    \\n    \\n    it(\"should respect maxResults parameter\", async () => {\\n      const maxResults = 5;\\n      const input: SearchRequest = { \\n        query: \"typescript examples\", \\n        maxResults \\n      };\\n      \\n      const searchResponse = await search(input);\\n      \\n      expect(searchResponse.results.length).toBeLessThanOrEqual(maxResults);\\n    });\\n\\n    \\n    \\n    it(\"should store search request in database\", async () => {\\n      const input: SearchRequest = { query: \"node.js best practices\" };\\n      \\n      await search(input);\\n      \\n      const storedRequests = await db\\n        .select()\\n        .from(searchRequestsTable)\\n        .where(eq(searchRequestsTable.query, input.query))\\n        .execute();\\n        \\n      expect(storedRequests).toHaveLength(1);\\n      expect(storedRequests[0].query).toEqual(input.query);\\n    });\\n\\n    \\n    \\n    it(\"should store search response and result items\", async () => {\\n      const input: SearchRequest = { query: \"react hooks tutorial\" };\\n      \\n      const searchResponse = await search(input);\\n      \\n      // Check for search request record\\n      const storedRequests = await db\\n        .select()\\n        .from(searchRequestsTable)\\n        .where(eq(searchRequestsTable.query, input.query))\\n        .execute();\\n        \\n      expect(storedRequests).toHaveLength(1);\\n      \\n      // Check for search response record\\n      const storedResponses = await db\\n        .select()\\n        .from(searchResponsesTable)\\n        .where(eq(searchResponsesTable.requestId, storedRequests[0].id))\\n        .execute();\\n        \\n      expect(storedResponses).toHaveLength(1);\\n      expect(storedResponses[0].totalResults).toEqual(searchResponse.totalResults);\\n      \\n      // Check for search result items\\n      const storedResultItems = await db\\n        .select()\\n        .from(searchResultItemsTable)\\n        .where(eq(searchResultItemsTable.responseId, storedResponses[0].id))\\n        .execute();\\n        \\n      expect(storedResultItems.length).toEqual(searchResponse.results.length);\\n    });\\n\\n    \\n    \\n    it(\"should filter results based on searchType parameter\", async () => {\\n      const webInput: SearchRequest = { \\n        query: \"javascript frameworks\", \\n        searchType: \"web\" \\n      };\\n      \\n      const imageInput: SearchRequest = { \\n        query: \"javascript frameworks\", \\n        searchType: \"image\" \\n      };\\n      \\n      const webSearchResponse = await search(webInput);\\n      const imageSearchResponse = await search(imageInput);\\n      \\n      // The responses should be different based on search type\\n      expect(webSearchResponse.results).not.toEqual(imageSearchResponse.results);\\n    });\\n\\n    \\n    \\n    it(\"should handle language parameter correctly\", async () => {\\n      const input: SearchRequest = { \\n        query: \"programming\", \\n        language: \"es\" \\n      };\\n      \\n      await search(input);\\n      \\n      // Check that the request was stored with correct language\\n      const storedRequests = await db\\n        .select()\\n        .from(searchRequestsTable)\\n        .where(eq(searchRequestsTable.query, input.query))\\n        .execute();\\n        \\n      expect(storedRequests[0].language).toEqual(\"es\");\\n    });\\n\\n    \\n    \\n    it(\"should return valid search result items with required fields\", async () => {\\n      const input: SearchRequest = { query: \"typescript interfaces\" };\\n      \\n      const searchResponse = await search(input);\\n      \\n      expect(searchResponse.results.length).toBeGreaterThan(0);\\n      \\n      // Verify each result has the required fields\\n      for (const result of searchResponse.results) {\\n        expect(result.title).toBeString();\\n        expect(result.url).toBeString();\\n        expect(result.snippet).toBeString();\\n        \\n        // publishedDate is optional\\n        if (result.publishedDate) {\\n          expect(result.publishedDate).toBeInstanceOf(Date);\\n        }\\n      }\\n    });\\n\\n    \\n    \\n    it(\"should handle empty query with appropriate error\", async () => {\\n      const input: SearchRequest = { query: \"\" };\\n      \\n      await expect(search(input)).rejects.toThrow();\\n    });\\n\\n    \\n});', error_output=None)},\n",
       " 'typescript_schema': TypescriptOut(reasoning='The application is a web search bot that allows users to search for information on the web.\\n\\nKey components:\\n1. SearchRequest model - Contains search parameters:\\n   - query: The search string\\n   - maxResults: Optional limit on results\\n   - searchType: Optional parameter for search type\\n   - language: Optional language parameter\\n\\n2. SearchResultItem model - Represents a single search result:\\n   - title: Title of the result\\n   - url: URL of the result\\n   - snippet: Text snippet/description\\n   - publishedDate: Optional datetime when content was published\\n\\n3. SearchResponse model - Contains search results and metadata:\\n   - results: Array of SearchResultItem objects\\n   - totalResults: Count of all results\\n   - searchTime: Duration of the search\\n\\n4. WebSearchBot interface - Defines the search function that takes a SearchRequest and returns a SearchResponse\\n\\nThe application needs to convert these models to Zod schemas to validate the data structure in TypeScript.', typescript_schema=\"import { z } from 'zod';\\n\\nexport const searchRequestSchema = z.object({\\n  query: z.string(),\\n  maxResults: z.number().int().optional(),\\n  searchType: z.string().optional(),\\n  language: z.string().optional(),\\n});\\n\\nexport type SearchRequest = z.infer<typeof searchRequestSchema>;\\n\\nexport const searchResultItemSchema = z.object({\\n  title: z.string(),\\n  url: z.string(),\\n  snippet: z.string(),\\n  publishedDate: z.coerce.date().optional(),\\n});\\n\\nexport type SearchResultItem = z.infer<typeof searchResultItemSchema>;\\n\\nexport const searchResponseSchema = z.object({\\n  results: z.array(searchResultItemSchema),\\n  totalResults: z.number().int(),\\n  searchTime: z.string(), // duration represented as string\\n});\\n\\nexport type SearchResponse = z.infer<typeof searchResponseSchema>;\\n\\nexport declare function search(options: SearchRequest): Promise<SearchResponse>;\", functions=[TypescriptFunction(name='search', argument_type='SearchRequest', argument_schema='searchRequestSchema', return_type='Promise<SearchResponse>')], error_output=None),\n",
       " 'gherkin': GherkinOut(reasoning=None, gherkin=None, error_output=None),\n",
       " 'trace_id': '3daf7f7c-e147-4a5c-b6e4-040cf68a0489'}"
      ]
     },
     "execution_count": 9,
     "metadata": {},
     "output_type": "execute_result"
    }
   ],
   "source": [
    "my_bot.__dict__"
   ]
  },
  {
   "cell_type": "code",
   "execution_count": null,
   "metadata": {},
   "outputs": [],
   "source": []
  }
 ],
 "metadata": {
  "kernelspec": {
   "display_name": ".venv",
   "language": "python",
   "name": "python3"
  },
  "language_info": {
   "codemirror_mode": {
    "name": "ipython",
    "version": 3
   },
   "file_extension": ".py",
   "mimetype": "text/x-python",
   "name": "python",
   "nbconvert_exporter": "python",
   "pygments_lexer": "ipython3",
   "version": "3.12.3"
  }
 },
 "nbformat": 4,
 "nbformat_minor": 2
}
