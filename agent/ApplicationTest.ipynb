{
 "cells": [
  {
   "cell_type": "code",
   "execution_count": 1,
   "metadata": {},
   "outputs": [],
   "source": [
    "from anthropic import AnthropicBedrock\n",
    "from application import Application\n",
    "from services import CompilerService\n",
    "import tempfile"
   ]
  },
  {
   "cell_type": "code",
   "execution_count": 2,
   "metadata": {},
   "outputs": [],
   "source": [
    "compiler = CompilerService()\n",
    "client = AnthropicBedrock(aws_profile=\"dev\", aws_region=\"us-west-2\")"
   ]
  },
  {
   "cell_type": "code",
   "execution_count": null,
   "metadata": {},
   "outputs": [],
   "source": [
    "\n",
    "tempdir = tempfile.TemporaryDirectory()\n",
    "application = Application(client, compiler, \"templates\", tempdir.name)"
   ]
  },
  {
   "cell_type": "code",
   "execution_count": 4,
   "metadata": {},
   "outputs": [],
   "source": [
    "application_description = \"\"\"\n",
    "Bot that tracks my exercise routine in the gym, tracks progress and suggests new routines\n",
    "for specific list of available equipment and time constraints.\n",
    "\"\"\".strip()"
   ]
  },
  {
   "cell_type": "code",
   "execution_count": 5,
   "metadata": {},
   "outputs": [
    {
     "name": "stdout",
     "output_type": "stream",
     "text": [
      "Compiling TypeSpec...\n",
      "Generating Typescript Schema Definitions...\n"
     ]
    },
    {
     "ename": "AttributeError",
     "evalue": "'CompilerService' object has no attribute 'compile_typescript'",
     "output_type": "error",
     "traceback": [
      "\u001b[0;31m---------------------------------------------------------------------------\u001b[0m",
      "\u001b[0;31mAttributeError\u001b[0m                            Traceback (most recent call last)",
      "Cell \u001b[0;32mIn[5], line 1\u001b[0m\n\u001b[0;32m----> 1\u001b[0m my_bot \u001b[38;5;241m=\u001b[39m \u001b[43mapplication\u001b[49m\u001b[38;5;241;43m.\u001b[39;49m\u001b[43mcreate_bot\u001b[49m\u001b[43m(\u001b[49m\u001b[43mapplication_description\u001b[49m\u001b[43m)\u001b[49m\n",
      "File \u001b[0;32m~/neon/bot-new/agent/application.py:33\u001b[0m, in \u001b[0;36mApplication.create_bot\u001b[0;34m(self, application_description)\u001b[0m\n\u001b[1;32m     31\u001b[0m     \u001b[38;5;28;01mraise\u001b[39;00m \u001b[38;5;167;01mException\u001b[39;00m(\u001b[38;5;124m\"\u001b[39m\u001b[38;5;124mFailed to generate typespec\u001b[39m\u001b[38;5;124m\"\u001b[39m)\n\u001b[1;32m     32\u001b[0m \u001b[38;5;28mprint\u001b[39m(\u001b[38;5;124m\"\u001b[39m\u001b[38;5;124mGenerating Typescript Schema Definitions...\u001b[39m\u001b[38;5;124m\"\u001b[39m)\n\u001b[0;32m---> 33\u001b[0m typescript_schema \u001b[38;5;241m=\u001b[39m \u001b[38;5;28;43mself\u001b[39;49m\u001b[38;5;241;43m.\u001b[39;49m\u001b[43m_make_typescript_schema\u001b[49m\u001b[43m(\u001b[49m\u001b[43mtypespec\u001b[49m\u001b[38;5;241;43m.\u001b[39;49m\u001b[43mdata\u001b[49m\u001b[43m[\u001b[49m\u001b[38;5;124;43m\"\u001b[39;49m\u001b[38;5;124;43moutput\u001b[39;49m\u001b[38;5;124;43m\"\u001b[39;49m\u001b[43m]\u001b[49m\u001b[43m[\u001b[49m\u001b[38;5;124;43m\"\u001b[39;49m\u001b[38;5;124;43mtypespec_definitions\u001b[39;49m\u001b[38;5;124;43m\"\u001b[39;49m\u001b[43m]\u001b[49m\u001b[43m)\u001b[49m\n\u001b[1;32m     34\u001b[0m \u001b[38;5;28mprint\u001b[39m(\u001b[38;5;124m\"\u001b[39m\u001b[38;5;124mCompiling Drizzle...\u001b[39m\u001b[38;5;124m\"\u001b[39m)\n\u001b[1;32m     35\u001b[0m typespec_definitions \u001b[38;5;241m=\u001b[39m typespec\u001b[38;5;241m.\u001b[39mdata[\u001b[38;5;124m\"\u001b[39m\u001b[38;5;124moutput\u001b[39m\u001b[38;5;124m\"\u001b[39m][\u001b[38;5;124m\"\u001b[39m\u001b[38;5;124mtypespec_definitions\u001b[39m\u001b[38;5;124m\"\u001b[39m]\n",
      "File \u001b[0;32m~/neon/bot-new/agent/application.py:91\u001b[0m, in \u001b[0;36mApplication._make_typescript_schema\u001b[0;34m(self, typespec_definitions)\u001b[0m\n\u001b[1;32m     89\u001b[0m typespec_schema_prompt \u001b[38;5;241m=\u001b[39m \u001b[38;5;28mself\u001b[39m\u001b[38;5;241m.\u001b[39mtypescript_schema_tpl\u001b[38;5;241m.\u001b[39mrender(\u001b[38;5;241m*\u001b[39m\u001b[38;5;241m*\u001b[39mtypespec_schema_prompt_params)\n\u001b[1;32m     90\u001b[0m init_typespec_schema \u001b[38;5;241m=\u001b[39m {\u001b[38;5;124m\"\u001b[39m\u001b[38;5;124mrole\u001b[39m\u001b[38;5;124m\"\u001b[39m: \u001b[38;5;124m\"\u001b[39m\u001b[38;5;124muser\u001b[39m\u001b[38;5;124m\"\u001b[39m, \u001b[38;5;124m\"\u001b[39m\u001b[38;5;124mcontent\u001b[39m\u001b[38;5;124m\"\u001b[39m: typespec_schema_prompt}\n\u001b[0;32m---> 91\u001b[0m data_typespec_schema \u001b[38;5;241m=\u001b[39m \u001b[38;5;28;43mself\u001b[39;49m\u001b[38;5;241;43m.\u001b[39;49m\u001b[43mpolicy\u001b[49m\u001b[38;5;241;43m.\u001b[39;49m\u001b[43mrun_typescript\u001b[49m\u001b[43m(\u001b[49m\u001b[43m[\u001b[49m\u001b[43minit_typespec_schema\u001b[49m\u001b[43m]\u001b[49m\u001b[43m,\u001b[49m\u001b[43m \u001b[49m\u001b[38;5;28;43mself\u001b[39;49m\u001b[38;5;241;43m.\u001b[39;49m\u001b[43mpolicy\u001b[49m\u001b[38;5;241;43m.\u001b[39;49m\u001b[43mclient\u001b[49m\u001b[43m,\u001b[49m\u001b[43m \u001b[49m\u001b[38;5;28;43mself\u001b[39;49m\u001b[38;5;241;43m.\u001b[39;49m\u001b[43mpolicy\u001b[49m\u001b[38;5;241;43m.\u001b[39;49m\u001b[43mcompiler\u001b[49m\u001b[43m,\u001b[49m\u001b[43m \u001b[49m\u001b[38;5;28;43mself\u001b[39;49m\u001b[38;5;241;43m.\u001b[39;49m\u001b[43mpolicy\u001b[49m\u001b[38;5;241;43m.\u001b[39;49m\u001b[43m_model\u001b[49m\u001b[43m)\u001b[49m\n\u001b[1;32m     92\u001b[0m root_typespec_schema \u001b[38;5;241m=\u001b[39m Node(data_typespec_schema, \u001b[38;5;28mint\u001b[39m(data_typespec_schema[\u001b[38;5;124m\"\u001b[39m\u001b[38;5;124mfeedback\u001b[39m\u001b[38;5;124m\"\u001b[39m][\u001b[38;5;124m\"\u001b[39m\u001b[38;5;124mstderr\u001b[39m\u001b[38;5;124m\"\u001b[39m] \u001b[38;5;129;01mis\u001b[39;00m \u001b[38;5;28;01mNone\u001b[39;00m))\n\u001b[1;32m     93\u001b[0m best_typespec_schema \u001b[38;5;241m=\u001b[39m \u001b[38;5;28mself\u001b[39m\u001b[38;5;241m.\u001b[39mpolicy\u001b[38;5;241m.\u001b[39mbfs_typescript(init_typespec_schema, root_typespec_schema, MAX_DEPTH, BRANCH_FACTOR, MAX_WORKERS)\n",
      "File \u001b[0;32m~/neon/bot-new/agent/search.py:90\u001b[0m, in \u001b[0;36mSearchPolicy.run_typescript\u001b[0;34m(messages, client, compiler, model)\u001b[0m\n\u001b[1;32m     88\u001b[0m output \u001b[38;5;241m=\u001b[39m stages\u001b[38;5;241m.\u001b[39mtypescript\u001b[38;5;241m.\u001b[39mparse_output(response\u001b[38;5;241m.\u001b[39mcontent[\u001b[38;5;241m0\u001b[39m]\u001b[38;5;241m.\u001b[39mtext)\n\u001b[1;32m     89\u001b[0m schema \u001b[38;5;241m=\u001b[39m output[\u001b[38;5;124m\"\u001b[39m\u001b[38;5;124mtypescript_schema\u001b[39m\u001b[38;5;124m\"\u001b[39m]\n\u001b[0;32m---> 90\u001b[0m feedback \u001b[38;5;241m=\u001b[39m \u001b[43mcompiler\u001b[49m\u001b[38;5;241;43m.\u001b[39;49m\u001b[43mcompile_typescript\u001b[49m(schema)\n\u001b[1;32m     91\u001b[0m \u001b[38;5;28;01mreturn\u001b[39;00m {\n\u001b[1;32m     92\u001b[0m     \u001b[38;5;124m\"\u001b[39m\u001b[38;5;124mmessage\u001b[39m\u001b[38;5;124m\"\u001b[39m: {\u001b[38;5;124m\"\u001b[39m\u001b[38;5;124mrole\u001b[39m\u001b[38;5;124m\"\u001b[39m: \u001b[38;5;124m\"\u001b[39m\u001b[38;5;124massistant\u001b[39m\u001b[38;5;124m\"\u001b[39m, \u001b[38;5;124m\"\u001b[39m\u001b[38;5;124mcontent\u001b[39m\u001b[38;5;124m\"\u001b[39m: response\u001b[38;5;241m.\u001b[39mcontent[\u001b[38;5;241m0\u001b[39m]\u001b[38;5;241m.\u001b[39mtext},\n\u001b[1;32m     93\u001b[0m     \u001b[38;5;124m\"\u001b[39m\u001b[38;5;124moutput\u001b[39m\u001b[38;5;124m\"\u001b[39m: output,\n\u001b[1;32m     94\u001b[0m     \u001b[38;5;124m\"\u001b[39m\u001b[38;5;124mfeedback\u001b[39m\u001b[38;5;124m\"\u001b[39m: feedback,\n\u001b[1;32m     95\u001b[0m }\n",
      "\u001b[0;31mAttributeError\u001b[0m: 'CompilerService' object has no attribute 'compile_typescript'"
     ]
    }
   ],
   "source": [
    "my_bot = application.create_bot(application_description)"
   ]
  },
  {
   "cell_type": "code",
   "execution_count": 19,
   "metadata": {},
   "outputs": [
    {
     "data": {
      "text/plain": [
       "{'typespec': {'message': {'role': 'assistant',\n",
       "   'content': '<reasoning>\\nFor a gym tracking bot, I expect users to send messages like:\\n\"I did 3 sets of bench press with 80kg\" -> recordExercise()\\n\"Show my progress for bench press\" -> getProgress()\\n\"Suggest a 30-minute workout for chest with dumbbells\" -> suggestRoutine()\\n\\nKey aspects to track:\\n1. Exercise details (name, sets, reps, weight)\\n2. Equipment used\\n3. Time spent\\n4. Body part targeted\\n5. Progress over time\\n6. Personalized routine suggestions based on:\\n   - Available equipment\\n   - Time constraints\\n   - Target muscle groups\\n   - Previous performance\\n</reasoning>\\n\\n<typespec>\\nmodel Exercise {\\n    name: string;\\n    sets: integer;\\n    reps: integer;\\n    weight: float;\\n    equipment: string;\\n    bodyPart: string;\\n    duration: duration;\\n}\\n\\nmodel WorkoutSession {\\n    exercises: Exercise[];\\n    totalDuration: duration;\\n    timestamp: utcDateTime;\\n}\\n\\nmodel RoutineRequest {\\n    availableEquipment: string[];\\n    targetMuscles: string[];\\n    timeLimit: duration;\\n}\\n\\nmodel Progress {\\n    exercise: string;\\n    history: WorkoutSession[];\\n    weightProgression: float[];\\n    timestamps: utcDateTime[];\\n}\\n\\ninterface GymBot {\\n    @llm_func(2)\\n    recordExercise(exercise: Exercise): void;\\n\\n    @llm_func(1)\\n    getProgress(exerciseName: string, from: utcDateTime, to: utcDateTime): Progress;\\n\\n    @llm_func(3)\\n    suggestRoutine(request: RoutineRequest): WorkoutSession;\\n\\n    @llm_func(1)\\n    listWorkouts(from: utcDateTime, to: utcDateTime): WorkoutSession[];\\n}\\n</typespec>'},\n",
       "  'output': {'reasoning': 'For a gym tracking bot, I expect users to send messages like:\\n\"I did 3 sets of bench press with 80kg\" -> recordExercise()\\n\"Show my progress for bench press\" -> getProgress()\\n\"Suggest a 30-minute workout for chest with dumbbells\" -> suggestRoutine()\\n\\nKey aspects to track:\\n1. Exercise details (name, sets, reps, weight)\\n2. Equipment used\\n3. Time spent\\n4. Body part targeted\\n5. Progress over time\\n6. Personalized routine suggestions based on:\\n   - Available equipment\\n   - Time constraints\\n   - Target muscle groups\\n   - Previous performance',\n",
       "   'typespec_definitions': 'model Exercise {\\n    name: string;\\n    sets: integer;\\n    reps: integer;\\n    weight: float;\\n    equipment: string;\\n    bodyPart: string;\\n    duration: duration;\\n}\\n\\nmodel WorkoutSession {\\n    exercises: Exercise[];\\n    totalDuration: duration;\\n    timestamp: utcDateTime;\\n}\\n\\nmodel RoutineRequest {\\n    availableEquipment: string[];\\n    targetMuscles: string[];\\n    timeLimit: duration;\\n}\\n\\nmodel Progress {\\n    exercise: string;\\n    history: WorkoutSession[];\\n    weightProgression: float[];\\n    timestamps: utcDateTime[];\\n}\\n\\ninterface GymBot {\\n    @llm_func(2)\\n    recordExercise(exercise: Exercise): void;\\n\\n    @llm_func(1)\\n    getProgress(exerciseName: string, from: utcDateTime, to: utcDateTime): Progress;\\n\\n    @llm_func(3)\\n    suggestRoutine(request: RoutineRequest): WorkoutSession;\\n\\n    @llm_func(1)\\n    listWorkouts(from: utcDateTime, to: utcDateTime): WorkoutSession[];\\n}',\n",
       "   'llm_functions': ['recordExercise',\n",
       "    'getProgress',\n",
       "    'suggestRoutine',\n",
       "    'listWorkouts']},\n",
       "  'feedback': {'exit_code': 0,\n",
       "   'stdout': 'TypeSpec compiler v0.64.0\\n\\nCompilation completed successfully.\\n\\n',\n",
       "   'stderr': None}},\n",
       " 'drizzle': {'message': {'role': 'assistant',\n",
       "   'content': 'I\\'ll fix the Drizzle schema to use the correct syntax and column definitions.\\n\\n<reasoning>\\nThe error occurs because of incorrect primary key definition in the junction table.\\nAlso need to ensure proper column definitions using the correct Drizzle syntax.\\nWill maintain the same structure but with corrected syntax.\\n</reasoning>\\n\\n<drizzle>\\nimport { \\n  pgTable, \\n  text, \\n  integer, \\n  serial, \\n  timestamp, \\n  real, \\n  interval\\n} from \"drizzle-orm/pg-core\";\\n\\n// Equipment table to standardize available equipment\\nexport const equipmentTable = pgTable(\"equipment\", {\\n  id: serial(\"id\").primaryKey(),\\n  name: text(\"name\").notNull().unique()\\n});\\n\\n// Body parts table to standardize target muscles\\nexport const bodyPartsTable = pgTable(\"body_parts\", {\\n  id: serial(\"id\").primaryKey(),\\n  name: text(\"name\").notNull().unique()\\n});\\n\\n// Main exercises table\\nexport const exercisesTable = pgTable(\"exercises\", {\\n  id: serial(\"id\").primaryKey(),\\n  name: text(\"name\").notNull(),\\n  default_sets: integer(\"default_sets\"),\\n  default_reps: integer(\"default_reps\"),\\n  default_weight: real(\"default_weight\"),\\n  equipment_id: integer(\"equipment_id\").references(() => equipmentTable.id),\\n  body_part_id: integer(\"body_part_id\").references(() => bodyPartsTable.id),\\n  default_duration: interval(\"default_duration\")\\n});\\n\\n// Workout sessions table\\nexport const workoutSessionsTable = pgTable(\"workout_sessions\", {\\n  id: serial(\"id\").primaryKey(),\\n  total_duration: interval(\"total_duration\"),\\n  timestamp: timestamp(\"timestamp\", { mode: \\'string\\' }).notNull().defaultNow()\\n});\\n\\n// Junction table for workout sessions and exercises\\nexport const workoutExercisesTable = pgTable(\"workout_exercises\", {\\n  id: serial(\"id\").primaryKey(),\\n  workout_id: integer(\"workout_id\").references(() => workoutSessionsTable.id),\\n  exercise_id: integer(\"exercise_id\").references(() => exercisesTable.id),\\n  sets: integer(\"sets\").notNull(),\\n  reps: integer(\"reps\").notNull(),\\n  weight: real(\"weight\"),\\n  duration: interval(\"duration\")\\n});\\n\\n// Progress tracking table\\nexport const progressTable = pgTable(\"progress\", {\\n  id: serial(\"id\").primaryKey(),\\n  exercise_id: integer(\"exercise_id\").references(() => exercisesTable.id),\\n  workout_id: integer(\"workout_id\").references(() => workoutSessionsTable.id),\\n  weight: real(\"weight\"),\\n  timestamp: timestamp(\"timestamp\", { mode: \\'string\\' }).notNull().defaultNow()\\n});\\n</drizzle>\\n\\nKey changes made:\\n1. Removed the composite primary key and added a serial id for the junction table\\n2. Added proper timestamp configuration with { mode: \\'string\\' }\\n3. Removed the primaryKey import as it\\'s not needed anymore\\n4. Simplified the references syntax\\n5. Maintained the same overall structure and relationships'},\n",
       "  'output': {'reasoning': 'The error occurs because of incorrect primary key definition in the junction table.\\nAlso need to ensure proper column definitions using the correct Drizzle syntax.\\nWill maintain the same structure but with corrected syntax.',\n",
       "   'drizzle_schema': 'import { \\n  pgTable, \\n  text, \\n  integer, \\n  serial, \\n  timestamp, \\n  real, \\n  interval\\n} from \"drizzle-orm/pg-core\";\\n\\n// Equipment table to standardize available equipment\\nexport const equipmentTable = pgTable(\"equipment\", {\\n  id: serial(\"id\").primaryKey(),\\n  name: text(\"name\").notNull().unique()\\n});\\n\\n// Body parts table to standardize target muscles\\nexport const bodyPartsTable = pgTable(\"body_parts\", {\\n  id: serial(\"id\").primaryKey(),\\n  name: text(\"name\").notNull().unique()\\n});\\n\\n// Main exercises table\\nexport const exercisesTable = pgTable(\"exercises\", {\\n  id: serial(\"id\").primaryKey(),\\n  name: text(\"name\").notNull(),\\n  default_sets: integer(\"default_sets\"),\\n  default_reps: integer(\"default_reps\"),\\n  default_weight: real(\"default_weight\"),\\n  equipment_id: integer(\"equipment_id\").references(() => equipmentTable.id),\\n  body_part_id: integer(\"body_part_id\").references(() => bodyPartsTable.id),\\n  default_duration: interval(\"default_duration\")\\n});\\n\\n// Workout sessions table\\nexport const workoutSessionsTable = pgTable(\"workout_sessions\", {\\n  id: serial(\"id\").primaryKey(),\\n  total_duration: interval(\"total_duration\"),\\n  timestamp: timestamp(\"timestamp\", { mode: \\'string\\' }).notNull().defaultNow()\\n});\\n\\n// Junction table for workout sessions and exercises\\nexport const workoutExercisesTable = pgTable(\"workout_exercises\", {\\n  id: serial(\"id\").primaryKey(),\\n  workout_id: integer(\"workout_id\").references(() => workoutSessionsTable.id),\\n  exercise_id: integer(\"exercise_id\").references(() => exercisesTable.id),\\n  sets: integer(\"sets\").notNull(),\\n  reps: integer(\"reps\").notNull(),\\n  weight: real(\"weight\"),\\n  duration: interval(\"duration\")\\n});\\n\\n// Progress tracking table\\nexport const progressTable = pgTable(\"progress\", {\\n  id: serial(\"id\").primaryKey(),\\n  exercise_id: integer(\"exercise_id\").references(() => exercisesTable.id),\\n  workout_id: integer(\"workout_id\").references(() => workoutSessionsTable.id),\\n  weight: real(\"weight\"),\\n  timestamp: timestamp(\"timestamp\", { mode: \\'string\\' }).notNull().defaultNow()\\n});'},\n",
       "  'feedback': {'exit_code': 137,\n",
       "   'stdout': \"No config path provided, using default 'drizzle.config.ts'\\nReading config file '/app/drizzle.config.ts'\\n\",\n",
       "   'stderr': None}},\n",
       " 'router': {'user_functions': [{'name': 'recordExercise',\n",
       "    'description': 'Records a single exercise performed by the user with details like name, sets, reps, weight, equipment used, body part targeted, and duration. Use this when the user wants to log their workout details.',\n",
       "    'examples': ['I just did 3 sets of 10 bench presses with 150 lbs',\n",
       "     'Completed 4 sets of squats, 8 reps each at 200 lbs',\n",
       "     'Did bicep curls with 25 lb dumbbells for 3 sets of 12',\n",
       "     'Logged 30 minutes on the treadmill',\n",
       "     'Just finished leg press machine, 4 sets of 15 at 300 lbs']},\n",
       "   {'name': 'getProgress',\n",
       "    'description': 'Retrieves progress history for a specific exercise over a given time period, showing weight progression and workout history. Use this when user wants to check their improvement or track performance for a particular exercise.',\n",
       "    'examples': ['Show me my bench press progress',\n",
       "     'How has my deadlift improved over the last month?',\n",
       "     \"What's my progress on squats since January?\",\n",
       "     'Show my progression for pull-ups',\n",
       "     'Track my improvement on shoulder press']},\n",
       "   {'name': 'suggestRoutine',\n",
       "    'description': 'Generates a workout routine based on available equipment, target muscle groups, and time constraints. Use this when user needs a new workout plan tailored to their specific circumstances.',\n",
       "    'examples': ['Create a 45-minute workout for chest using dumbbells and bench',\n",
       "     'Suggest a leg routine with just a squat rack for 1 hour',\n",
       "     'What exercises can I do with resistance bands for back?',\n",
       "     'Plan a full body workout using just bodyweight exercises',\n",
       "     'Give me a 30-minute arm workout with dumbbells and cables']},\n",
       "   {'name': 'listWorkouts',\n",
       "    'description': 'Retrieves a list of all workout sessions within a specified time period. Use this when user wants to review their past workout history or check their training consistency.',\n",
       "    'examples': ['Show me all my workouts from last month',\n",
       "     'What exercises did I do last week?',\n",
       "     'List my training sessions for the past 2 weeks',\n",
       "     'Show my workout history for January',\n",
       "     'What was my gym activity this month?']}]},\n",
       " 'preprocessors': {'listWorkouts': {'instructions': 'The listWorkouts function requires two UTC datetime arguments specifying a time range:\\n- \\'from\\': The start of the time period to query workouts\\n- \\'to\\': The end of the time period to query workouts\\n\\nIf user provides:\\n- Only dates without times, assume 00:00:00 UTC for \\'from\\' and 23:59:59 UTC for \\'to\\'\\n- Only one date, assume it\\'s the \\'from\\' date and use current date as \\'to\\'\\n- Relative time periods (like \"last week\"), calculate appropriate UTC datetimes\\n- No time range, default to last 30 days',\n",
       "   'examples': [('Show me my workouts from January 1st to January 15th',\n",
       "     '{\\n            \"from\": \"2024-01-01T00:00:00Z\",\\n            \"to\": \"2024-01-15T23:59:59Z\"\\n        }'),\n",
       "    ('What workouts did I do last week?',\n",
       "     '{\\n            \"from\": \"2024-01-08T00:00:00Z\", \\n            \"to\": \"2024-01-14T23:59:59Z\"\\n        }'),\n",
       "    ('Show my workout history for December',\n",
       "     '{\\n            \"from\": \"2023-12-01T00:00:00Z\",\\n            \"to\": \"2023-12-31T23:59:59Z\"\\n        }'),\n",
       "    ('What exercises did I do yesterday?',\n",
       "     '{\\n            \"from\": \"2024-01-14T00:00:00Z\",\\n            \"to\": \"2024-01-14T23:59:59Z\"\\n        }'),\n",
       "    ('Show me all my workouts',\n",
       "     '{\\n            \"from\": \"2023-12-16T00:00:00Z\",\\n            \"to\": \"2024-01-15T23:59:59Z\"\\n        }')]},\n",
       "  'suggestRoutine': {'instructions': 'For the suggestRoutine function, process user input to extract:\\n1. Available equipment (if not specified, assume basic home equipment)\\n2. Target muscle groups (if not specified, assume full body)\\n3. Time limit (if not specified, default to 60 minutes)\\n\\nConvert natural language descriptions into structured RoutineRequest objects.\\nDuration should be in ISO 8601 format (e.g., \"PT1H\" for 1 hour).',\n",
       "   'examples': [('I want to work out my chest and arms at the gym for 45 minutes',\n",
       "     '{\\n            \"availableEquipment\": [\"bench\", \"dumbbells\", \"barbell\", \"cable machine\"],\\n            \"targetMuscles\": [\"chest\", \"biceps\", \"triceps\"],\\n            \"timeLimit\": \"PT45M\"\\n        }'),\n",
       "    ('Give me a quick 30 min home workout',\n",
       "     '{\\n            \"availableEquipment\": [\"bodyweight\", \"resistance bands\"],\\n            \"targetMuscles\": [\"full body\"],\\n            \"timeLimit\": \"PT30M\"\\n        }'),\n",
       "    ('Plan a leg day workout with dumbbells and squat rack',\n",
       "     '{\\n            \"availableEquipment\": [\"dumbbells\", \"squat rack\", \"barbell\"],\\n            \"targetMuscles\": [\"quadriceps\", \"hamstrings\", \"calves\", \"glutes\"],\\n            \"timeLimit\": \"PT1H\"\\n        }'),\n",
       "    ('20 minute core workout no equipment',\n",
       "     '{\\n            \"availableEquipment\": [\"bodyweight\"],\\n            \"targetMuscles\": [\"abs\", \"core\"],\\n            \"timeLimit\": \"PT20M\"\\n        }'),\n",
       "    ('Upper body workout at a fully equipped gym',\n",
       "     '{\\n            \"availableEquipment\": [\"bench\", \"dumbbells\", \"barbell\", \"cable machine\", \"pull-up bar\", \"dip station\"],\\n            \"targetMuscles\": [\"chest\", \"back\", \"shoulders\", \"biceps\", \"triceps\"],\\n            \"timeLimit\": \"PT1H\"\\n        }')]},\n",
       "  'getProgress': {'instructions': \"When processing user input for getProgress:\\n1. The exerciseName should be extracted from common exercise terminology\\n2. If date range (from/to) is not specified:\\n   - 'from' defaults to 30 days before current date\\n   - 'to' defaults to current date\\n3. Dates should be in ISO 8601 UTC format (YYYY-MM-DDThh:mm:ssZ)\\n4. Exercise names should be normalized to lowercase\",\n",
       "   'examples': [('Show me my bench press progress for the last month',\n",
       "     '{\\n            \"exerciseName\": \"bench press\",\\n            \"from\": \"2024-01-15T00:00:00Z\",\\n            \"to\": \"2024-02-15T00:00:00Z\"\\n        }'),\n",
       "    ('How has my squat improved since January 1st?',\n",
       "     '{\\n            \"exerciseName\": \"squat\",\\n            \"from\": \"2024-01-01T00:00:00Z\",\\n            \"to\": \"2024-02-15T00:00:00Z\"\\n        }'),\n",
       "    ('Track deadlift progress between Dec 1 2023 and Feb 1 2024',\n",
       "     '{\\n            \"exerciseName\": \"deadlift\",\\n            \"from\": \"2023-12-01T00:00:00Z\",\\n            \"to\": \"2024-02-01T00:00:00Z\"\\n        }'),\n",
       "    (\"What's my progress on pull-ups?\",\n",
       "     '{\\n            \"exerciseName\": \"pull-ups\",\\n            \"from\": \"2024-01-15T00:00:00Z\",\\n            \"to\": \"2024-02-15T00:00:00Z\"\\n        }'),\n",
       "    ('Progress report on shoulder press since last summer',\n",
       "     '{\\n            \"exerciseName\": \"shoulder press\",\\n            \"from\": \"2023-06-01T00:00:00Z\",\\n            \"to\": \"2024-02-15T00:00:00Z\"\\n        }')]},\n",
       "  'recordExercise': {'instructions': \"For recordExercise function:\\n- Name should be a clear exercise identifier (lowercase, spaces allowed)\\n- Sets and reps must be positive integers\\n- Weight should be in kilograms (kg), converted from lbs if needed\\n- Equipment should be a simple description of required gear\\n- BodyPart should identify primary muscle group targeted\\n- Duration should be provided in ISO 8601 format (PTxHxMxS)\\n- If duration is missing, calculate based on sets * reps * estimated rep duration\\n- If weight isn't specified, use bodyweight or 0 for non-weighted exercises\",\n",
       "   'examples': [('bench press 80kg 3x8',\n",
       "     '{\\n    \"name\": \"bench press\",\\n    \"sets\": 3,\\n    \"reps\": 8,\\n    \"weight\": 80.0,\\n    \"equipment\": \"barbell bench\",\\n    \"bodyPart\": \"chest\",\\n    \"duration\": \"PT15M\"\\n}'),\n",
       "    ('did 50 pushups',\n",
       "     '{\\n    \"name\": \"pushup\",\\n    \"sets\": 1,\\n    \"reps\": 50,\\n    \"weight\": 0.0,\\n    \"equipment\": \"bodyweight\",\\n    \"bodyPart\": \"chest\",\\n    \"duration\": \"PT5M\"\\n}'),\n",
       "    ('3 sets of pullups, 12 reps each',\n",
       "     '{\\n    \"name\": \"pullup\",\\n    \"sets\": 3,\\n    \"reps\": 12,\\n    \"weight\": 0.0,\\n    \"equipment\": \"pullup bar\",\\n    \"bodyPart\": \"back\",\\n    \"duration\": \"PT12M\"\\n}'),\n",
       "    ('squats 225lbs 5x5',\n",
       "     '{\\n    \"name\": \"squat\",\\n    \"sets\": 5,\\n    \"reps\": 5,\\n    \"weight\": 102.06,\\n    \"equipment\": \"barbell rack\",\\n    \"bodyPart\": \"legs\",\\n    \"duration\": \"PT25M\"\\n}'),\n",
       "    ('30 minute run on treadmill',\n",
       "     '{\\n    \"name\": \"treadmill run\",\\n    \"sets\": 1,\\n    \"reps\": 1,\\n    \"weight\": 0.0,\\n    \"equipment\": \"treadmill\",\\n    \"bodyPart\": \"cardio\",\\n    \"duration\": \"PT30M\"\\n}')]}},\n",
       " 'handlers': {'listWorkouts': {'handler': 'import { db } from \"../db\";\\nimport { \\n  workoutSessionsTable,\\n  workoutExercisesTable,\\n  exercisesTable,\\n  equipmentTable,\\n  bodyPartsTable\\n} from \\'../db/schema/application\\';\\nimport { eq, and, between } from \\'drizzle-orm\\';\\n\\nconst handle = async (from: Date, to: Date): Promise<WorkoutSession[]> => {\\n  // Get all workout sessions within the time range\\n  const workoutSessions = await db\\n    .select()\\n    .from(workoutSessionsTable)\\n    .where(\\n      between(workoutSessionsTable.timestamp, from.toISOString(), to.toISOString())\\n    );\\n\\n  // For each session, get the exercises\\n  const workouts = await Promise.all(\\n    workoutSessions.map(async (session) => {\\n      const exercises = await db\\n        .select({\\n          name: exercisesTable.name,\\n          sets: workoutExercisesTable.sets,\\n          reps: workoutExercisesTable.reps,\\n          weight: workoutExercisesTable.weight,\\n          equipment: equipmentTable.name,\\n          bodyPart: bodyPartsTable.name,\\n          duration: workoutExercisesTable.duration,\\n        })\\n        .from(workoutExercisesTable)\\n        .innerJoin(\\n          exercisesTable,\\n          eq(workoutExercisesTable.exercise_id, exercisesTable.id)\\n        )\\n        .innerJoin(\\n          equipmentTable,\\n          eq(exercisesTable.equipment_id, equipmentTable.id)\\n        )\\n        .innerJoin(\\n          bodyPartsTable,\\n          eq(exercisesTable.body_part_id, bodyPartsTable.id)\\n        )\\n        .where(eq(workoutExercisesTable.workout_id, session.id));\\n\\n      return {\\n        exercises,\\n        totalDuration: session.total_duration,\\n        timestamp: new Date(session.timestamp)\\n      };\\n    })\\n  );\\n\\n  return workouts;\\n};'},\n",
       "  'recordExercise': {'handler': 'import { db } from \"../db\";\\nimport { \\n    exercisesTable, \\n    equipmentTable, \\n    bodyPartsTable, \\n    workoutSessionsTable, \\n    workoutExercisesTable \\n} from \\'../db/schema/application\\';\\nimport { eq } from \\'drizzle-orm\\';\\n\\nconst handle = async (exercise: Exercise): Promise<void> => {\\n    // Get or create equipment\\n    let equipmentId = await db\\n        .select({ id: equipmentTable.id })\\n        .from(equipmentTable)\\n        .where(eq(equipmentTable.name, exercise.equipment))\\n        .then(rows => rows[0]?.id);\\n\\n    if (!equipmentId) {\\n        equipmentId = await db\\n            .insert(equipmentTable)\\n            .values({ name: exercise.equipment })\\n            .returning({ id: equipmentTable.id })\\n            .then(rows => rows[0].id);\\n    }\\n\\n    // Get or create body part\\n    let bodyPartId = await db\\n        .select({ id: bodyPartsTable.id })\\n        .from(bodyPartsTable)\\n        .where(eq(bodyPartsTable.name, exercise.bodyPart))\\n        .then(rows => rows[0]?.id);\\n\\n    if (!bodyPartId) {\\n        bodyPartId = await db\\n            .insert(bodyPartsTable)\\n            .values({ name: exercise.bodyPart })\\n            .returning({ id: bodyPartsTable.id })\\n            .then(rows => rows[0].id);\\n    }\\n\\n    // Get or create exercise\\n    let exerciseId = await db\\n        .select({ id: exercisesTable.id })\\n        .from(exercisesTable)\\n        .where(eq(exercisesTable.name, exercise.name))\\n        .then(rows => rows[0]?.id);\\n\\n    if (!exerciseId) {\\n        exerciseId = await db\\n            .insert(exercisesTable)\\n            .values({\\n                name: exercise.name,\\n                default_sets: exercise.sets,\\n                default_reps: exercise.reps,\\n                default_weight: exercise.weight,\\n                equipment_id: equipmentId,\\n                body_part_id: bodyPartId,\\n                default_duration: exercise.duration\\n            })\\n            .returning({ id: exercisesTable.id })\\n            .then(rows => rows[0].id);\\n    }\\n\\n    // Create new workout session\\n    const workoutSessionId = await db\\n        .insert(workoutSessionsTable)\\n        .values({\\n            total_duration: exercise.duration,\\n            timestamp: new Date()\\n        })\\n        .returning({ id: workoutSessionsTable.id })\\n        .then(rows => rows[0].id);\\n\\n    // Record the exercise in the workout\\n    await db\\n        .insert(workoutExercisesTable)\\n        .values({\\n            workout_id: workoutSessionId,\\n            exercise_id: exerciseId,\\n            sets: exercise.sets,\\n            reps: exercise.reps,\\n            weight: exercise.weight,\\n            duration: exercise.duration\\n        })\\n        .execute();\\n};'},\n",
       "  'getProgress': {'handler': 'import { db } from \"../db\";\\nimport { \\n    exercisesTable, \\n    workoutSessionsTable, \\n    workoutExercisesTable, \\n    progressTable \\n} from \\'../db/schema/application\\';\\nimport { eq, and, between } from \\'drizzle-orm\\';\\n\\nconst handle = async (exerciseName: string, from: Date, to: Date): Promise<Progress> => {\\n    // First, get the exercise ID\\n    const exercise = await db.query.exercisesTable.findFirst({\\n        where: eq(exercisesTable.name, exerciseName)\\n    });\\n\\n    if (!exercise) {\\n        throw new Error(`Exercise ${exerciseName} not found`);\\n    }\\n\\n    // Get all workout sessions for this exercise within the date range\\n    const workouts = await db\\n        .select({\\n            workout: workoutSessionsTable,\\n            exercise: workoutExercisesTable\\n        })\\n        .from(workoutSessionsTable)\\n        .innerJoin(\\n            workoutExercisesTable,\\n            eq(workoutSessionsTable.id, workoutExercisesTable.workout_id)\\n        )\\n        .where(\\n            and(\\n                eq(workoutExercisesTable.exercise_id, exercise.id),\\n                between(workoutSessionsTable.timestamp, from, to)\\n            )\\n        );\\n\\n    // Get progress data for weight progression\\n    const progressData = await db\\n        .select()\\n        .from(progressTable)\\n        .where(\\n            and(\\n                eq(progressTable.exercise_id, exercise.id),\\n                between(progressTable.timestamp, from, to)\\n            )\\n        )\\n        .orderBy(progressTable.timestamp);\\n\\n    // Transform the data into the required format\\n    const workoutSessions = workouts.map(w => ({\\n        exercises: [{\\n            name: exerciseName,\\n            sets: w.exercise.sets,\\n            reps: w.exercise.reps,\\n            weight: w.exercise.weight || 0,\\n            equipment: \\'\\', // Would need additional join with equipment table\\n            bodyPart: \\'\\', // Would need additional join with body_parts table\\n            duration: w.exercise.duration || \\'0\\'\\n        }],\\n        totalDuration: w.workout.total_duration || \\'0\\',\\n        timestamp: w.workout.timestamp\\n    }));\\n\\n    return {\\n        exercise: exerciseName,\\n        history: workoutSessions,\\n        weightProgression: progressData.map(p => p.weight || 0),\\n        timestamps: progressData.map(p => p.timestamp)\\n    };\\n};'},\n",
       "  'suggestRoutine': {'handler': 'import { db } from \"../db\";\\nimport { \\n    equipmentTable, \\n    bodyPartsTable, \\n    exercisesTable, \\n    workoutSessionsTable, \\n    workoutExercisesTable \\n} from \\'../db/schema/application\\';\\nimport { eq, inArray } from \\'drizzle-orm\\';\\n\\nconst handle = async (request: RoutineRequest): Promise<WorkoutSession> => {\\n    // Get equipment IDs based on available equipment names\\n    const equipment = await db\\n        .select({ id: equipmentTable.id })\\n        .from(equipmentTable)\\n        .where(inArray(equipmentTable.name, request.availableEquipment));\\n    \\n    const equipmentIds = equipment.map(e => e.id);\\n\\n    // Get body part IDs based on target muscles\\n    const bodyParts = await db\\n        .select({ id: bodyPartsTable.id })\\n        .from(bodyPartsTable)\\n        .where(inArray(bodyPartsTable.name, request.targetMuscles));\\n    \\n    const bodyPartIds = bodyParts.map(b => b.id);\\n\\n    // Get suitable exercises that match equipment and body parts\\n    const exercises = await db\\n        .select({\\n            name: exercisesTable.name,\\n            default_sets: exercisesTable.default_sets,\\n            default_reps: exercisesTable.default_reps,\\n            default_weight: exercisesTable.default_weight,\\n            default_duration: exercisesTable.default_duration,\\n            equipment_name: equipmentTable.name,\\n            body_part: bodyPartsTable.name\\n        })\\n        .from(exercisesTable)\\n        .innerJoin(equipmentTable, eq(exercisesTable.equipment_id, equipmentTable.id))\\n        .innerJoin(bodyPartsTable, eq(exercisesTable.body_part_id, bodyPartsTable.id))\\n        .where(\\n            inArray(exercisesTable.equipment_id, equipmentIds)\\n            .and(inArray(exercisesTable.body_part_id, bodyPartIds))\\n        );\\n\\n    // Convert database exercises to Exercise model objects\\n    const workoutExercises = exercises.map(ex => ({\\n        name: ex.name,\\n        sets: ex.default_sets ?? 3,\\n        reps: ex.default_reps ?? 10,\\n        weight: ex.default_weight ?? 0,\\n        equipment: ex.equipment_name,\\n        bodyPart: ex.body_part,\\n        duration: ex.default_duration ?? \\'PT0M\\'\\n    }));\\n\\n    // Calculate total duration of all exercises\\n    const totalDuration = workoutExercises.reduce(\\n        (acc, ex) => acc + parseDuration(ex.duration),\\n        0\\n    );\\n\\n    return {\\n        exercises: workoutExercises,\\n        totalDuration: `PT${totalDuration}M`,\\n        timestamp: new Date().toISOString()\\n    };\\n};\\n\\n// Helper function to parse ISO 8601 duration to minutes\\nfunction parseDuration(duration: string): number {\\n    const match = duration.match(/PT(\\\\d+)M/);\\n    return match ? parseInt(match[1]) : 0;\\n}'}},\n",
       " 'application': {'listWorkouts': {'handler': 'import { db } from \"../db\";\\nimport { \\n  workoutSessionsTable,\\n  workoutExercisesTable,\\n  exercisesTable,\\n  equipmentTable,\\n  bodyPartsTable\\n} from \\'../db/schema/application\\';\\nimport { eq, and, between } from \\'drizzle-orm\\';\\n\\nconst handle = async (from: Date, to: Date): Promise<WorkoutSession[]> => {\\n  // Get all workout sessions within the time range\\n  const workoutSessions = await db\\n    .select()\\n    .from(workoutSessionsTable)\\n    .where(\\n      between(workoutSessionsTable.timestamp, from.toISOString(), to.toISOString())\\n    );\\n\\n  // For each session, get the exercises\\n  const workouts = await Promise.all(\\n    workoutSessions.map(async (session) => {\\n      const exercises = await db\\n        .select({\\n          name: exercisesTable.name,\\n          sets: workoutExercisesTable.sets,\\n          reps: workoutExercisesTable.reps,\\n          weight: workoutExercisesTable.weight,\\n          equipment: equipmentTable.name,\\n          bodyPart: bodyPartsTable.name,\\n          duration: workoutExercisesTable.duration,\\n        })\\n        .from(workoutExercisesTable)\\n        .innerJoin(\\n          exercisesTable,\\n          eq(workoutExercisesTable.exercise_id, exercisesTable.id)\\n        )\\n        .innerJoin(\\n          equipmentTable,\\n          eq(exercisesTable.equipment_id, equipmentTable.id)\\n        )\\n        .innerJoin(\\n          bodyPartsTable,\\n          eq(exercisesTable.body_part_id, bodyPartsTable.id)\\n        )\\n        .where(eq(workoutExercisesTable.workout_id, session.id));\\n\\n      return {\\n        exercises,\\n        totalDuration: session.total_duration,\\n        timestamp: new Date(session.timestamp)\\n      };\\n    })\\n  );\\n\\n  return workouts;\\n};',\n",
       "   'module': 'list_workouts'},\n",
       "  'recordExercise': {'handler': 'import { db } from \"../db\";\\nimport { \\n    exercisesTable, \\n    equipmentTable, \\n    bodyPartsTable, \\n    workoutSessionsTable, \\n    workoutExercisesTable \\n} from \\'../db/schema/application\\';\\nimport { eq } from \\'drizzle-orm\\';\\n\\nconst handle = async (exercise: Exercise): Promise<void> => {\\n    // Get or create equipment\\n    let equipmentId = await db\\n        .select({ id: equipmentTable.id })\\n        .from(equipmentTable)\\n        .where(eq(equipmentTable.name, exercise.equipment))\\n        .then(rows => rows[0]?.id);\\n\\n    if (!equipmentId) {\\n        equipmentId = await db\\n            .insert(equipmentTable)\\n            .values({ name: exercise.equipment })\\n            .returning({ id: equipmentTable.id })\\n            .then(rows => rows[0].id);\\n    }\\n\\n    // Get or create body part\\n    let bodyPartId = await db\\n        .select({ id: bodyPartsTable.id })\\n        .from(bodyPartsTable)\\n        .where(eq(bodyPartsTable.name, exercise.bodyPart))\\n        .then(rows => rows[0]?.id);\\n\\n    if (!bodyPartId) {\\n        bodyPartId = await db\\n            .insert(bodyPartsTable)\\n            .values({ name: exercise.bodyPart })\\n            .returning({ id: bodyPartsTable.id })\\n            .then(rows => rows[0].id);\\n    }\\n\\n    // Get or create exercise\\n    let exerciseId = await db\\n        .select({ id: exercisesTable.id })\\n        .from(exercisesTable)\\n        .where(eq(exercisesTable.name, exercise.name))\\n        .then(rows => rows[0]?.id);\\n\\n    if (!exerciseId) {\\n        exerciseId = await db\\n            .insert(exercisesTable)\\n            .values({\\n                name: exercise.name,\\n                default_sets: exercise.sets,\\n                default_reps: exercise.reps,\\n                default_weight: exercise.weight,\\n                equipment_id: equipmentId,\\n                body_part_id: bodyPartId,\\n                default_duration: exercise.duration\\n            })\\n            .returning({ id: exercisesTable.id })\\n            .then(rows => rows[0].id);\\n    }\\n\\n    // Create new workout session\\n    const workoutSessionId = await db\\n        .insert(workoutSessionsTable)\\n        .values({\\n            total_duration: exercise.duration,\\n            timestamp: new Date()\\n        })\\n        .returning({ id: workoutSessionsTable.id })\\n        .then(rows => rows[0].id);\\n\\n    // Record the exercise in the workout\\n    await db\\n        .insert(workoutExercisesTable)\\n        .values({\\n            workout_id: workoutSessionId,\\n            exercise_id: exerciseId,\\n            sets: exercise.sets,\\n            reps: exercise.reps,\\n            weight: exercise.weight,\\n            duration: exercise.duration\\n        })\\n        .execute();\\n};',\n",
       "   'module': 'record_exercise'},\n",
       "  'getProgress': {'handler': 'import { db } from \"../db\";\\nimport { \\n    exercisesTable, \\n    workoutSessionsTable, \\n    workoutExercisesTable, \\n    progressTable \\n} from \\'../db/schema/application\\';\\nimport { eq, and, between } from \\'drizzle-orm\\';\\n\\nconst handle = async (exerciseName: string, from: Date, to: Date): Promise<Progress> => {\\n    // First, get the exercise ID\\n    const exercise = await db.query.exercisesTable.findFirst({\\n        where: eq(exercisesTable.name, exerciseName)\\n    });\\n\\n    if (!exercise) {\\n        throw new Error(`Exercise ${exerciseName} not found`);\\n    }\\n\\n    // Get all workout sessions for this exercise within the date range\\n    const workouts = await db\\n        .select({\\n            workout: workoutSessionsTable,\\n            exercise: workoutExercisesTable\\n        })\\n        .from(workoutSessionsTable)\\n        .innerJoin(\\n            workoutExercisesTable,\\n            eq(workoutSessionsTable.id, workoutExercisesTable.workout_id)\\n        )\\n        .where(\\n            and(\\n                eq(workoutExercisesTable.exercise_id, exercise.id),\\n                between(workoutSessionsTable.timestamp, from, to)\\n            )\\n        );\\n\\n    // Get progress data for weight progression\\n    const progressData = await db\\n        .select()\\n        .from(progressTable)\\n        .where(\\n            and(\\n                eq(progressTable.exercise_id, exercise.id),\\n                between(progressTable.timestamp, from, to)\\n            )\\n        )\\n        .orderBy(progressTable.timestamp);\\n\\n    // Transform the data into the required format\\n    const workoutSessions = workouts.map(w => ({\\n        exercises: [{\\n            name: exerciseName,\\n            sets: w.exercise.sets,\\n            reps: w.exercise.reps,\\n            weight: w.exercise.weight || 0,\\n            equipment: \\'\\', // Would need additional join with equipment table\\n            bodyPart: \\'\\', // Would need additional join with body_parts table\\n            duration: w.exercise.duration || \\'0\\'\\n        }],\\n        totalDuration: w.workout.total_duration || \\'0\\',\\n        timestamp: w.workout.timestamp\\n    }));\\n\\n    return {\\n        exercise: exerciseName,\\n        history: workoutSessions,\\n        weightProgression: progressData.map(p => p.weight || 0),\\n        timestamps: progressData.map(p => p.timestamp)\\n    };\\n};',\n",
       "   'module': 'get_progress'},\n",
       "  'suggestRoutine': {'handler': 'import { db } from \"../db\";\\nimport { \\n    equipmentTable, \\n    bodyPartsTable, \\n    exercisesTable, \\n    workoutSessionsTable, \\n    workoutExercisesTable \\n} from \\'../db/schema/application\\';\\nimport { eq, inArray } from \\'drizzle-orm\\';\\n\\nconst handle = async (request: RoutineRequest): Promise<WorkoutSession> => {\\n    // Get equipment IDs based on available equipment names\\n    const equipment = await db\\n        .select({ id: equipmentTable.id })\\n        .from(equipmentTable)\\n        .where(inArray(equipmentTable.name, request.availableEquipment));\\n    \\n    const equipmentIds = equipment.map(e => e.id);\\n\\n    // Get body part IDs based on target muscles\\n    const bodyParts = await db\\n        .select({ id: bodyPartsTable.id })\\n        .from(bodyPartsTable)\\n        .where(inArray(bodyPartsTable.name, request.targetMuscles));\\n    \\n    const bodyPartIds = bodyParts.map(b => b.id);\\n\\n    // Get suitable exercises that match equipment and body parts\\n    const exercises = await db\\n        .select({\\n            name: exercisesTable.name,\\n            default_sets: exercisesTable.default_sets,\\n            default_reps: exercisesTable.default_reps,\\n            default_weight: exercisesTable.default_weight,\\n            default_duration: exercisesTable.default_duration,\\n            equipment_name: equipmentTable.name,\\n            body_part: bodyPartsTable.name\\n        })\\n        .from(exercisesTable)\\n        .innerJoin(equipmentTable, eq(exercisesTable.equipment_id, equipmentTable.id))\\n        .innerJoin(bodyPartsTable, eq(exercisesTable.body_part_id, bodyPartsTable.id))\\n        .where(\\n            inArray(exercisesTable.equipment_id, equipmentIds)\\n            .and(inArray(exercisesTable.body_part_id, bodyPartIds))\\n        );\\n\\n    // Convert database exercises to Exercise model objects\\n    const workoutExercises = exercises.map(ex => ({\\n        name: ex.name,\\n        sets: ex.default_sets ?? 3,\\n        reps: ex.default_reps ?? 10,\\n        weight: ex.default_weight ?? 0,\\n        equipment: ex.equipment_name,\\n        bodyPart: ex.body_part,\\n        duration: ex.default_duration ?? \\'PT0M\\'\\n    }));\\n\\n    // Calculate total duration of all exercises\\n    const totalDuration = workoutExercises.reduce(\\n        (acc, ex) => acc + parseDuration(ex.duration),\\n        0\\n    );\\n\\n    return {\\n        exercises: workoutExercises,\\n        totalDuration: `PT${totalDuration}M`,\\n        timestamp: new Date().toISOString()\\n    };\\n};\\n\\n// Helper function to parse ISO 8601 duration to minutes\\nfunction parseDuration(duration: string): number {\\n    const match = duration.match(/PT(\\\\d+)M/);\\n    return match ? parseInt(match[1]) : 0;\\n}',\n",
       "   'module': 'suggest_routine'}}}"
      ]
     },
     "execution_count": 19,
     "metadata": {},
     "output_type": "execute_result"
    }
   ],
   "source": [
    "my_bot"
   ]
  },
  {
   "cell_type": "code",
   "execution_count": 20,
   "metadata": {},
   "outputs": [
    {
     "data": {
      "text/plain": [
       "'/tmp/tmpt8llr03k/generated/generation-1'"
      ]
     },
     "execution_count": 20,
     "metadata": {},
     "output_type": "execute_result"
    }
   ],
   "source": [
    "application.generation_dir\n",
    "\n"
   ]
  },
  {
   "cell_type": "code",
   "execution_count": 21,
   "metadata": {},
   "outputs": [],
   "source": [
    "#tempdir.cleanup()"
   ]
  }
 ],
 "metadata": {
  "kernelspec": {
   "display_name": ".venv",
   "language": "python",
   "name": "python3"
  },
  "language_info": {
   "codemirror_mode": {
    "name": "ipython",
    "version": 3
   },
   "file_extension": ".py",
   "mimetype": "text/x-python",
   "name": "python",
   "nbconvert_exporter": "python",
   "pygments_lexer": "ipython3",
   "version": "3.12.3"
  }
 },
 "nbformat": 4,
 "nbformat_minor": 2
}
