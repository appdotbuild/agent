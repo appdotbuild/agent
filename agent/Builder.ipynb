{
 "cells": [
  {
   "cell_type": "code",
   "execution_count": 8,
   "metadata": {},
   "outputs": [],
   "source": [
    "import re\n",
    "import os\n",
    "import jinja2\n",
    "from anthropic import AnthropicBedrock\n",
    "from core import stages\n",
    "import json\n",
    "import subprocess\n",
    "from shutil import copytree, ignore_patterns"
   ]
  },
  {
   "cell_type": "code",
   "execution_count": 9,
   "metadata": {},
   "outputs": [],
   "source": [
    "from core.compilers import CompilationStatus\n",
    "from core.compilers import drizzle as drizzle_compiler\n",
    "from core.compilers import typespec as typespec_compiler\n",
    "from core.interpolator import Interpolator"
   ]
  },
  {
   "cell_type": "code",
   "execution_count": 10,
   "metadata": {},
   "outputs": [],
   "source": [
    "class Builder:\n",
    "    def __init__(self, client: AnthropicBedrock, template_dir: str = \"templates\"):\n",
    "        self.client = client\n",
    "        self.template_dir = template_dir\n",
    "        self.jinja_env = jinja2.Environment()\n",
    "        self.typespec_tpl = self.jinja_env.from_string(stages.typespec.PROMPT)\n",
    "        self.drizzle_tpl = self.jinja_env.from_string(stages.drizzle.PROMPT)\n",
    "        self.router_tpl = self.jinja_env.from_string(stages.router.PROMPT)\n",
    "        self._model = \"anthropic.claude-3-5-sonnet-20241022-v2:0\"\n",
    "\n",
    "    def build(self, application_description: str, out_dir: str = \"app_output\"):\n",
    "        copytree(self.template_dir, out_dir, ignore=ignore_patterns('*.pyc', '__pycache__')) # 'node_modules'\n",
    "        compiler_typespec = typespec_compiler.TypeSpecCompiler(out_dir)\n",
    "        prompt_typespec = self.typespec_tpl.render(\n",
    "            application_description=application_description,\n",
    "        )\n",
    "        typespec_response = self.client.messages.create(\n",
    "            model=self._model,\n",
    "            max_tokens=8192,\n",
    "            messages=[{\"role\": \"user\", \"content\": prompt_typespec}]\n",
    "        )\n",
    "        typespec_definitions = stages.typespec.parse_output(typespec_response.content[0].text)\n",
    "        typespec_result = compiler_typespec.compile(typespec_definitions[\"typespec_definitions\"])\n",
    "        print(\"finished typespec\")\n",
    "        #if typespec_result[\"result\"] != CompilationStatus.SUCCESS:\n",
    "        #    raise Exception(\"Failed to compile typespec\")\n",
    "        \n",
    "        compiler_drizzle = drizzle_compiler.DrizzleCompiler(out_dir)\n",
    "        prompt_drizzle = self.drizzle_tpl.render(\n",
    "            typespec_definitions=typespec_definitions[\"typespec_definitions\"],\n",
    "        )\n",
    "        drizzle_response = self.client.messages.create(\n",
    "            model=self._model,\n",
    "            max_tokens=8192,\n",
    "            messages=[{\"role\": \"user\", \"content\": prompt_drizzle}]\n",
    "        )\n",
    "        drizzle_schema = stages.drizzle.parse_output(drizzle_response.content[0].text)\n",
    "        drizzle_result = compiler_drizzle.compile(drizzle_schema[\"drizzle_schema\"])\n",
    "        print(\"finished drizzle\")\n",
    "        #if drizzle_result[\"result\"] != CompilationStatus.SUCCESS:\n",
    "        #    raise Exception(\"Failed to compile drizzle\")\n",
    "        \n",
    "        interpolator = Interpolator(out_dir)\n",
    "        interpolator.interpolate(\n",
    "            params={\n",
    "                \"typespec_definitions\": typespec_definitions[\"typespec_definitions\"],\n",
    "                \"user_request\": application_description,\n",
    "            },\n",
    "            template_name=\"handler.tpl\",\n",
    "            output_name=\"handler.ts\"\n",
    "        )\n",
    "        \n",
    "        prompt_router = self.router_tpl.render(\n",
    "            typespec_definitions=typespec_definitions[\"typespec_definitions\"],\n",
    "            user_request=application_description,\n",
    "        )\n",
    "        router_response = self.client.messages.create(\n",
    "            model=self._model,\n",
    "            max_tokens=8192,\n",
    "            tools=stages.router.TOOLS,\n",
    "            messages=[{\"role\": \"user\", \"content\": prompt_router}]\n",
    "        )\n",
    "        print(\"ROUTER_RESPONSE\", router_response)\n",
    "        router_result = stages.router.parse_outputs([\n",
    "            content for content in router_response.content\n",
    "        ])[\"user_functions\"]\n",
    "        \n",
    "        \n",
    "        \n",
    "        \n",
    "        return {\n",
    "            \"typespec\": typespec_result,\n",
    "            \"drizzle\": drizzle_result,\n",
    "            \"router\": router_result\n",
    "        }"
   ]
  },
  {
   "cell_type": "code",
   "execution_count": 11,
   "metadata": {},
   "outputs": [],
   "source": [
    "client = AnthropicBedrock(aws_profile=\"dev\", aws_region=\"us-west-2\")"
   ]
  },
  {
   "cell_type": "code",
   "execution_count": 12,
   "metadata": {},
   "outputs": [],
   "source": [
    "builder = Builder(client, template_dir=\"templates\")"
   ]
  },
  {
   "cell_type": "code",
   "execution_count": 13,
   "metadata": {},
   "outputs": [
    {
     "name": "stdout",
     "output_type": "stream",
     "text": [
      "finished typespec\n",
      "start checking drizzle\n",
      "end checking drizzle\n",
      "finished drizzle\n",
      "ROUTER_RESPONSE Message(id='msg_bdrk_013DU5PkUkwZCRvjtuMkcKSC', content=[TextBlock(text=\"I'll help extract the user functions from the TypeSpec and structure them with appropriate descriptions and examples using the `extract_user_functions` tool.\", type='text'), ToolUseBlock(id='toolu_bdrk_01HimA5b3v8TsbTso6X8wKLA', input={'user_functions': [{'name': 'recordExercise', 'description': 'Records a completed exercise with details including name, sets, reps, weight, and any additional notes. Use this when the user wants to log their workout or exercise details.', 'examples': ['I just did 3 sets of bench press, 8 reps each at 175 lbs', 'Completed 4 sets of squats with 12 reps at 225 pounds', 'Log my deadlift: 5 sets, 5 reps, 285 lbs with good form', 'Record my pull-ups: did 3 sets of 10 reps with bodyweight']}, {'name': 'getProgress', 'description': 'Retrieves and analyzes workout progress for specific muscle groups over a given time period. Use this when users want to check their improvements or track their strength gains.', 'examples': ['Show me my chest progress over the last month', 'How has my leg strength improved since January?', \"What's my progress on back exercises this year?\", 'Check my shoulder development for the past 3 months']}, {'name': 'suggestRoutine', 'description': 'Generates a customized workout routine based on available time, targeted muscle groups, and available equipment. Use this when users need a new workout plan or want to adjust their routine based on constraints.', 'examples': ['Create a 45-minute leg workout with dumbbells and a squat rack', 'I have 1 hour, suggest a full body routine using basic gym equipment', 'Plan a chest and triceps workout for 30 minutes with resistance bands only', 'Give me a back workout routine for 90 minutes with access to full gym equipment']}, {'name': 'updateAvailableEquipment', 'description': 'Updates the system with a list of available exercise equipment. Use this when users want to inform the system about what equipment they have access to for better routine suggestions.', 'examples': ['I now have access to a full gym with all equipment', 'Update my home gym equipment: I have dumbbells, a bench, and resistance bands', 'Add new equipment to my list: just got a squat rack and barbell', 'Changed gyms, now I only have access to machines and dumbbells']}]}, name='extract_user_functions', type='tool_use')], model='claude-3-5-sonnet-20241022', role='assistant', stop_reason='tool_use', stop_sequence=None, type='message', usage=Usage(cache_creation_input_tokens=None, cache_read_input_tokens=None, input_tokens=1122, output_tokens=675))\n"
     ]
    }
   ],
   "source": [
    "app_result = builder.build(\n",
    "    \"Bot that tracks my exercise routine in the gym, tracks progress and suggests new routines for specific list of available equipment and time constraints.\",\n",
    "    out_dir=\"app_output\"\n",
    ")"
   ]
  },
  {
   "cell_type": "code",
   "execution_count": 14,
   "metadata": {},
   "outputs": [
    {
     "data": {
      "text/plain": [
       "{'typespec': {'result': <CompilationStatus.SUCCESS: 1>,\n",
       "  'errors': None,\n",
       "  'stdout': 'TypeSpec compiler v0.64.0\\n\\nCompilation completed successfully.\\n\\n'},\n",
       " 'drizzle': {'result': <CompilationStatus.FAILURE: 2>,\n",
       "  'errors': \"Cannot find module 'dotenv/config'\\nRequire stack:\\n- /home/eugenek/neon/bot-new/agent/app_output/app_schema/drizzle.config.ts\\n- /home/eugenek/.npm/_npx/7c7555b0b81cc7e0/node_modules/drizzle-kit/bin.cjs\\n\",\n",
       "  'stdout': \"No config path provided, using default 'drizzle.config.ts'\\nReading config file '/home/eugenek/neon/bot-new/agent/app_output/app_schema/drizzle.config.ts'\\n\"},\n",
       " 'router': [{'name': 'recordExercise',\n",
       "   'description': 'Records a completed exercise with details including name, sets, reps, weight, and any additional notes. Use this when the user wants to log their workout or exercise details.',\n",
       "   'examples': ['I just did 3 sets of bench press, 8 reps each at 175 lbs',\n",
       "    'Completed 4 sets of squats with 12 reps at 225 pounds',\n",
       "    'Log my deadlift: 5 sets, 5 reps, 285 lbs with good form',\n",
       "    'Record my pull-ups: did 3 sets of 10 reps with bodyweight']},\n",
       "  {'name': 'getProgress',\n",
       "   'description': 'Retrieves and analyzes workout progress for specific muscle groups over a given time period. Use this when users want to check their improvements or track their strength gains.',\n",
       "   'examples': ['Show me my chest progress over the last month',\n",
       "    'How has my leg strength improved since January?',\n",
       "    \"What's my progress on back exercises this year?\",\n",
       "    'Check my shoulder development for the past 3 months']},\n",
       "  {'name': 'suggestRoutine',\n",
       "   'description': 'Generates a customized workout routine based on available time, targeted muscle groups, and available equipment. Use this when users need a new workout plan or want to adjust their routine based on constraints.',\n",
       "   'examples': ['Create a 45-minute leg workout with dumbbells and a squat rack',\n",
       "    'I have 1 hour, suggest a full body routine using basic gym equipment',\n",
       "    'Plan a chest and triceps workout for 30 minutes with resistance bands only',\n",
       "    'Give me a back workout routine for 90 minutes with access to full gym equipment']},\n",
       "  {'name': 'updateAvailableEquipment',\n",
       "   'description': 'Updates the system with a list of available exercise equipment. Use this when users want to inform the system about what equipment they have access to for better routine suggestions.',\n",
       "   'examples': ['I now have access to a full gym with all equipment',\n",
       "    'Update my home gym equipment: I have dumbbells, a bench, and resistance bands',\n",
       "    'Add new equipment to my list: just got a squat rack and barbell',\n",
       "    'Changed gyms, now I only have access to machines and dumbbells']}]}"
      ]
     },
     "execution_count": 14,
     "metadata": {},
     "output_type": "execute_result"
    }
   ],
   "source": [
    "app_result"
   ]
  }
 ],
 "metadata": {
  "kernelspec": {
   "display_name": ".venv",
   "language": "python",
   "name": "python3"
  },
  "language_info": {
   "codemirror_mode": {
    "name": "ipython",
    "version": 3
   },
   "file_extension": ".py",
   "mimetype": "text/x-python",
   "name": "python",
   "nbconvert_exporter": "python",
   "pygments_lexer": "ipython3",
   "version": "3.12.3"
  }
 },
 "nbformat": 4,
 "nbformat_minor": 2
}
