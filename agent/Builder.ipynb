{
 "cells": [
  {
   "cell_type": "code",
   "execution_count": 1,
   "metadata": {},
   "outputs": [],
   "source": [
    "import re\n",
    "import os\n",
    "import jinja2\n",
    "from anthropic import AnthropicBedrock\n",
    "from core import stages\n",
    "import json\n",
    "import subprocess\n",
    "from shutil import copytree, ignore_patterns"
   ]
  },
  {
   "cell_type": "code",
   "execution_count": null,
   "metadata": {},
   "outputs": [],
   "source": [
    "from core.compilers import CompilationStatus\n",
    "from core.compilers import drizzle as drizzle_compiler\n",
    "from core.compilers import typespec as typespec_compiler"
   ]
  },
  {
   "cell_type": "code",
   "execution_count": 3,
   "metadata": {},
   "outputs": [],
   "source": [
    "class Builder:\n",
    "    def __init__(self, client: AnthropicBedrock, template_dir: str = \"templates\"):\n",
    "        self.client = client\n",
    "        self.template_dir = template_dir\n",
    "        self.jinja_env = jinja2.Environment()\n",
    "        self.typespec_tpl = self.jinja_env.from_string(stages.typespec.PROMPT)\n",
    "        self.drizzle_tpl = self.jinja_env.from_string(stages.drizzle.PROMPT)\n",
    "        self.router_tpl = self.jinja_env.from_string(stages.router.PROMPT)\n",
    "        self._model = \"anthropic.claude-3-5-sonnet-20241022-v2:0\"\n",
    "\n",
    "    def build(self, application_description: str, out_dir: str = \"app_output\"):\n",
    "        copytree(self.template_dir, out_dir, ignore=ignore_patterns('*.pyc', '__pycache__')) # 'node_modules'\n",
    "        compiler_typespec = typespec_compiler.TypeSpecCompiler(out_dir)\n",
    "        prompt_typespec = self.typespec_tpl.render(\n",
    "            application_description=application_description,\n",
    "        )\n",
    "        typespec_response = self.client.messages.create(\n",
    "            model=self._model,\n",
    "            max_tokens=8192,\n",
    "            messages=[{\"role\": \"user\", \"content\": prompt_typespec}]\n",
    "        )\n",
    "        typespec_definitions = stages.typespec.parse_output(typespec_response.content[0].text)\n",
    "        typespec_result = compiler_typespec.compile(typespec_definitions[\"typespec_definitions\"])\n",
    "        print(\"finished typespec\")\n",
    "        #if typespec_result[\"result\"] != CompilationStatus.SUCCESS:\n",
    "        #    raise Exception(\"Failed to compile typespec\")\n",
    "        \n",
    "        compiler_drizzle = drizzle_compiler.DrizzleCompiler(out_dir)\n",
    "        prompt_drizzle = self.drizzle_tpl.render(\n",
    "            typespec_definitions=typespec_definitions[\"typespec_definitions\"],\n",
    "        )\n",
    "        drizzle_response = self.client.messages.create(\n",
    "            model=self._model,\n",
    "            max_tokens=8192,\n",
    "            messages=[{\"role\": \"user\", \"content\": prompt_drizzle}]\n",
    "        )\n",
    "        drizzle_schema = stages.drizzle.parse_output(drizzle_response.content[0].text)\n",
    "        drizzle_result = compiler_drizzle.compile(drizzle_schema[\"drizzle_schema\"])\n",
    "        print(\"finished drizzle\")\n",
    "        #if drizzle_result[\"result\"] != CompilationStatus.SUCCESS:\n",
    "        #    raise Exception(\"Failed to compile drizzle\")\n",
    "        \n",
    "        prompt_router = self.router_tpl.render(\n",
    "            typespec_definitions=typespec_definitions[\"typespec_definitions\"],\n",
    "            user_request=application_description,\n",
    "        )\n",
    "        router_response = self.client.messages.create(\n",
    "            model=self._model,\n",
    "            max_tokens=8192,\n",
    "            messages=[{\"role\": \"user\", \"content\": prompt_router}]\n",
    "        )\n",
    "        print(\"ROUTER_RESPONSE\", router_response)\n",
    "        router_result = stages.router.parse_outputs([\n",
    "            content for content in router_response.content\n",
    "        ])[\"user_functions\"]\n",
    "        return {\n",
    "            \"typespec\": typespec_result,\n",
    "            \"drizzle\": drizzle_result,\n",
    "            \"router\": router_result\n",
    "        }"
   ]
  },
  {
   "cell_type": "code",
   "execution_count": 4,
   "metadata": {},
   "outputs": [],
   "source": [
    "client = AnthropicBedrock(aws_profile=\"dev\", aws_region=\"us-west-2\")"
   ]
  },
  {
   "cell_type": "code",
   "execution_count": 5,
   "metadata": {},
   "outputs": [],
   "source": [
    "builder = Builder(client, template_dir=\"templates\")"
   ]
  },
  {
   "cell_type": "code",
   "execution_count": 6,
   "metadata": {},
   "outputs": [
    {
     "name": "stdout",
     "output_type": "stream",
     "text": [
      "finished typespec\n",
      "start checking drizzle\n",
      "end checking drizzle\n",
      "finished drizzle\n",
      "ROUTER_RESPONSE Message(id='msg_bdrk_01Y7vDHFbAWdgfcGA12Epx74', content=[TextBlock(text='I\\'ll help create a classification prompt for the GymTracker interface functions.\\n\\nHere\\'s the structured function classification guide:\\n\\n{\\n  \"user_functions\": [\\n    {\\n      \"name\": \"recordExercise\",\\n      \"description\": \"Records a completed exercise with details like sets, reps, weight, and duration. Use this when the user wants to log or track an exercise they\\'ve performed.\",\\n      \"examples\": [\\n        \"I just did 3 sets of 12 bench presses with 135 pounds\",\\n        \"Completed 4 sets of squats, 8 reps each at 185 lbs\",\\n        \"Did 30 minutes on the treadmill\",\\n        \"Logged my deadlift workout: 5 sets of 5 reps at 225 pounds\"\\n      ]\\n    },\\n    {\\n      \"name\": \"getProgress\",\\n      \"description\": \"Retrieves and analyzes progress for a specific exercise over time. Use this when users want to check their improvement, track performance trends, or see their exercise history.\",\\n      \"examples\": [\\n        \"How\\'s my bench press progress looking?\",\\n        \"Show me my squat numbers from the last month\",\\n        \"What\\'s my progression on deadlifts looking like?\",\\n        \"Have I improved in my running speed over the last 3 months?\"\\n      ]\\n    },\\n    {\\n      \"name\": \"suggestRoutine\",\\n      \"description\": \"Creates a customized workout routine based on available time, equipment, target muscle groups, and desired difficulty. Use this when users want workout recommendations or need a new routine.\",\\n      \"examples\": [\\n        \"I have 45 minutes and access to dumbbells, what workout can I do?\",\\n        \"Suggest a leg workout routine for 1 hour with basic gym equipment\",\\n        \"Create an upper body workout I can do in 30 minutes\",\\n        \"What exercises can I do with just a barbell and bench for 40 minutes?\"\\n      ]\\n    }\\n  ]\\n}\\n\\nSystem prompt for classification:\\n```\\nYou are a gym tracking assistant that helps users manage their workouts. Based on the user\\'s input, determine which of the following functions best matches their intent:\\n\\n1. recordExercise: Use when the user wants to log a completed exercise with details like sets, reps, weight, and duration.\\n2. getProgress: Use when the user wants to check their progress, history, or trends for specific exercises.\\n3. suggestRoutine: Use when the user needs a workout routine recommendation based on their available time, equipment, and preferences.\\n\\nAnalyze the user\\'s request and respond with the most appropriate function name. Consider the context and implied intent of the request.\\n```\\n\\nThis classification system will help route user requests to the appropriate function in the GymTracker interface based on their intent and the type of information they provide or request.', type='text')], model='claude-3-5-sonnet-20241022', role='assistant', stop_reason='end_turn', stop_sequence=None, type='message', usage=Usage(cache_creation_input_tokens=None, cache_read_input_tokens=None, input_tokens=641, output_tokens=653))\n"
     ]
    },
    {
     "ename": "TypeError",
     "evalue": "'NoneType' object is not subscriptable",
     "output_type": "error",
     "traceback": [
      "\u001b[0;31m---------------------------------------------------------------------------\u001b[0m",
      "\u001b[0;31mTypeError\u001b[0m                                 Traceback (most recent call last)",
      "Cell \u001b[0;32mIn[6], line 1\u001b[0m\n\u001b[0;32m----> 1\u001b[0m app_result \u001b[38;5;241m=\u001b[39m \u001b[43mbuilder\u001b[49m\u001b[38;5;241;43m.\u001b[39;49m\u001b[43mbuild\u001b[49m\u001b[43m(\u001b[49m\n\u001b[1;32m      2\u001b[0m \u001b[43m    \u001b[49m\u001b[38;5;124;43m\"\u001b[39;49m\u001b[38;5;124;43mBot that tracks my exercise routine in the gym, tracks progress and suggests new routines for specific list of available equipment and time constraints.\u001b[39;49m\u001b[38;5;124;43m\"\u001b[39;49m\u001b[43m,\u001b[49m\n\u001b[1;32m      3\u001b[0m \u001b[43m    \u001b[49m\u001b[43mout_dir\u001b[49m\u001b[38;5;241;43m=\u001b[39;49m\u001b[38;5;124;43m\"\u001b[39;49m\u001b[38;5;124;43mapp_output\u001b[39;49m\u001b[38;5;124;43m\"\u001b[39;49m\n\u001b[1;32m      4\u001b[0m \u001b[43m)\u001b[49m\n",
      "Cell \u001b[0;32mIn[3], line 53\u001b[0m, in \u001b[0;36mBuilder.build\u001b[0;34m(self, application_description, out_dir)\u001b[0m\n\u001b[1;32m     47\u001b[0m router_response \u001b[38;5;241m=\u001b[39m \u001b[38;5;28mself\u001b[39m\u001b[38;5;241m.\u001b[39mclient\u001b[38;5;241m.\u001b[39mmessages\u001b[38;5;241m.\u001b[39mcreate(\n\u001b[1;32m     48\u001b[0m     model\u001b[38;5;241m=\u001b[39m\u001b[38;5;28mself\u001b[39m\u001b[38;5;241m.\u001b[39m_model,\n\u001b[1;32m     49\u001b[0m     max_tokens\u001b[38;5;241m=\u001b[39m\u001b[38;5;241m8192\u001b[39m,\n\u001b[1;32m     50\u001b[0m     messages\u001b[38;5;241m=\u001b[39m[{\u001b[38;5;124m\"\u001b[39m\u001b[38;5;124mrole\u001b[39m\u001b[38;5;124m\"\u001b[39m: \u001b[38;5;124m\"\u001b[39m\u001b[38;5;124muser\u001b[39m\u001b[38;5;124m\"\u001b[39m, \u001b[38;5;124m\"\u001b[39m\u001b[38;5;124mcontent\u001b[39m\u001b[38;5;124m\"\u001b[39m: prompt_router}]\n\u001b[1;32m     51\u001b[0m )\n\u001b[1;32m     52\u001b[0m \u001b[38;5;28mprint\u001b[39m(\u001b[38;5;124m\"\u001b[39m\u001b[38;5;124mROUTER_RESPONSE\u001b[39m\u001b[38;5;124m\"\u001b[39m, router_response)\n\u001b[0;32m---> 53\u001b[0m router_result \u001b[38;5;241m=\u001b[39m \u001b[43mstages\u001b[49m\u001b[38;5;241;43m.\u001b[39;49m\u001b[43mrouter\u001b[49m\u001b[38;5;241;43m.\u001b[39;49m\u001b[43mparse_outputs\u001b[49m\u001b[43m(\u001b[49m\u001b[43m[\u001b[49m\n\u001b[1;32m     54\u001b[0m \u001b[43m    \u001b[49m\u001b[43mcontent\u001b[49m\u001b[43m \u001b[49m\u001b[38;5;28;43;01mfor\u001b[39;49;00m\u001b[43m \u001b[49m\u001b[43mcontent\u001b[49m\u001b[43m \u001b[49m\u001b[38;5;129;43;01min\u001b[39;49;00m\u001b[43m \u001b[49m\u001b[43mrouter_response\u001b[49m\u001b[38;5;241;43m.\u001b[39;49m\u001b[43mcontent\u001b[49m\n\u001b[1;32m     55\u001b[0m \u001b[43m\u001b[49m\u001b[43m]\u001b[49m\u001b[43m)\u001b[49m\u001b[43m[\u001b[49m\u001b[38;5;124;43m\"\u001b[39;49m\u001b[38;5;124;43muser_functions\u001b[39;49m\u001b[38;5;124;43m\"\u001b[39;49m\u001b[43m]\u001b[49m\n\u001b[1;32m     56\u001b[0m \u001b[38;5;28;01mreturn\u001b[39;00m {\n\u001b[1;32m     57\u001b[0m     \u001b[38;5;124m\"\u001b[39m\u001b[38;5;124mtypespec\u001b[39m\u001b[38;5;124m\"\u001b[39m: typespec_result,\n\u001b[1;32m     58\u001b[0m     \u001b[38;5;124m\"\u001b[39m\u001b[38;5;124mdrizzle\u001b[39m\u001b[38;5;124m\"\u001b[39m: drizzle_result,\n\u001b[1;32m     59\u001b[0m     \u001b[38;5;124m\"\u001b[39m\u001b[38;5;124mrouter\u001b[39m\u001b[38;5;124m\"\u001b[39m: router_result\n\u001b[1;32m     60\u001b[0m }\n",
      "\u001b[0;31mTypeError\u001b[0m: 'NoneType' object is not subscriptable"
     ]
    }
   ],
   "source": [
    "app_result = builder.build(\n",
    "    \"Bot that tracks my exercise routine in the gym, tracks progress and suggests new routines for specific list of available equipment and time constraints.\",\n",
    "    out_dir=\"app_output\"\n",
    ")"
   ]
  },
  {
   "cell_type": "code",
   "execution_count": null,
   "metadata": {},
   "outputs": [],
   "source": [
    "app_result"
   ]
  }
 ],
 "metadata": {
  "kernelspec": {
   "display_name": ".venv",
   "language": "python",
   "name": "python3"
  },
  "language_info": {
   "codemirror_mode": {
    "name": "ipython",
    "version": 3
   },
   "file_extension": ".py",
   "mimetype": "text/x-python",
   "name": "python",
   "nbconvert_exporter": "python",
   "pygments_lexer": "ipython3",
   "version": "3.12.8"
  }
 },
 "nbformat": 4,
 "nbformat_minor": 2
}
