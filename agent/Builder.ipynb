{
 "cells": [
  {
   "cell_type": "code",
   "execution_count": 7,
   "metadata": {},
   "outputs": [],
   "source": [
    "import re\n",
    "import os\n",
    "import jinja2\n",
    "from anthropic import AnthropicBedrock\n",
    "from core import stages\n",
    "import json\n",
    "import subprocess\n",
    "from shutil import copytree, ignore_patterns"
   ]
  },
  {
   "cell_type": "code",
   "execution_count": 8,
   "metadata": {},
   "outputs": [],
   "source": [
    "from core.compilers import CompilationStatus\n",
    "from core.compilers import drizzle as drizzle_compiler\n",
    "from core.compilers import typespec as typespec_compiler"
   ]
  },
  {
   "cell_type": "code",
   "execution_count": 9,
   "metadata": {},
   "outputs": [],
   "source": [
    "class Builder:\n",
    "    def __init__(self, client: AnthropicBedrock, template_dir: str = \"templates\"):\n",
    "        self.client = client\n",
    "        self.template_dir = template_dir\n",
    "        self.jinja_env = jinja2.Environment()\n",
    "        self.typespec_tpl = self.jinja_env.from_string(stages.typespec.PROMPT)\n",
    "        self.drizzle_tpl = self.jinja_env.from_string(stages.drizzle.PROMPT)\n",
    "        self.router_tpl = self.jinja_env.from_string(stages.router.PROMPT)\n",
    "        self._model = \"anthropic.claude-3-5-sonnet-20241022-v2:0\"\n",
    "\n",
    "    def build(self, application_description: str, out_dir: str = \"app_output\"):\n",
    "        copytree(self.template_dir, out_dir, ignore=ignore_patterns('*.pyc', '__pycache__')) # 'node_modules'\n",
    "        compiler_typespec = typespec_compiler.TypeSpecCompiler(out_dir)\n",
    "        prompt_typespec = self.typespec_tpl.render(\n",
    "            application_description=application_description,\n",
    "        )\n",
    "        typespec_response = self.client.messages.create(\n",
    "            model=self._model,\n",
    "            max_tokens=8192,\n",
    "            messages=[{\"role\": \"user\", \"content\": prompt_typespec}]\n",
    "        )\n",
    "        typespec_definitions = stages.typespec.parse_output(typespec_response.content[0].text)\n",
    "        typespec_result = compiler_typespec.compile(typespec_definitions[\"typespec_definitions\"])\n",
    "        print(\"finished typespec\")\n",
    "        #if typespec_result[\"result\"] != CompilationStatus.SUCCESS:\n",
    "        #    raise Exception(\"Failed to compile typespec\")\n",
    "        \n",
    "        compiler_drizzle = drizzle_compiler.DrizzleCompiler(out_dir)\n",
    "        prompt_drizzle = self.drizzle_tpl.render(\n",
    "            typespec_definitions=typespec_definitions[\"typespec_definitions\"],\n",
    "        )\n",
    "        drizzle_response = self.client.messages.create(\n",
    "            model=self._model,\n",
    "            max_tokens=8192,\n",
    "            messages=[{\"role\": \"user\", \"content\": prompt_drizzle}]\n",
    "        )\n",
    "        drizzle_schema = stages.drizzle.parse_output(drizzle_response.content[0].text)\n",
    "        drizzle_result = compiler_drizzle.compile(drizzle_schema[\"drizzle_schema\"])\n",
    "        print(\"finished drizzle\")\n",
    "        #if drizzle_result[\"result\"] != CompilationStatus.SUCCESS:\n",
    "        #    raise Exception(\"Failed to compile drizzle\")\n",
    "        \n",
    "        prompt_router = self.router_tpl.render(\n",
    "            typespec_definitions=typespec_definitions[\"typespec_definitions\"],\n",
    "            user_request=application_description,\n",
    "        )\n",
    "        router_response = self.client.messages.create(\n",
    "            model=self._model,\n",
    "            max_tokens=8192,\n",
    "            tools=stages.router.TOOLS,\n",
    "            messages=[{\"role\": \"user\", \"content\": prompt_router}]\n",
    "        )\n",
    "        print(\"ROUTER_RESPONSE\", router_response)\n",
    "        router_result = stages.router.parse_outputs([\n",
    "            content for content in router_response.content\n",
    "        ])[\"user_functions\"]\n",
    "        return {\n",
    "            \"typespec\": typespec_result,\n",
    "            \"drizzle\": drizzle_result,\n",
    "            \"router\": router_result\n",
    "        }"
   ]
  },
  {
   "cell_type": "code",
   "execution_count": 10,
   "metadata": {},
   "outputs": [],
   "source": [
    "client = AnthropicBedrock(aws_profile=\"dev\", aws_region=\"us-west-2\")"
   ]
  },
  {
   "cell_type": "code",
   "execution_count": 11,
   "metadata": {},
   "outputs": [],
   "source": [
    "builder = Builder(client, template_dir=\"templates\")"
   ]
  },
  {
   "cell_type": "code",
   "execution_count": 12,
   "metadata": {},
   "outputs": [
    {
     "name": "stdout",
     "output_type": "stream",
     "text": [
      "finished typespec\n",
      "start checking drizzle\n",
      "end checking drizzle\n",
      "finished drizzle\n",
      "ROUTER_RESPONSE Message(id='msg_bdrk_01PpB43TDVkE6HhvExv66rJA', content=[TextBlock(text=\"I'll help analyze the TypeSpec definition and extract user functions for the gym tracking bot. I'll use the extract_user_functions tool to structure the functions according to the schema.\", type='text'), ToolUseBlock(id='toolu_bdrk_01F2ndXmjk1PrfhTG99v2Jr8', input={'user_functions': [{'name': 'recordExercise', 'description': 'Log a completed exercise with details including number of sets, reps, weight used, and equipment. Used when the user wants to record their workout activity.', 'examples': ['I did 3 sets of bench press with 135lbs, 12 reps each', 'Just finished 4 sets of squats at 185lbs', 'Completed 3 sets of pull-ups, 8 reps each', 'Today I did deadlifts: 225lbs for 5 reps, 3 sets']}, {'name': 'suggestRoutine', 'description': \"Generate a workout routine based on user's available time, equipment, and optionally target muscle groups. Provides a structured workout plan that fits within the specified constraints.\", 'examples': ['Suggest a 45 minute workout using dumbbells and a bench', 'What exercises can I do in 30 minutes with just resistance bands?', 'Create a leg workout routine for 1 hour with access to a full gym', 'Plan a back and biceps workout for 90 minutes with basic home equipment']}, {'name': 'getProgress', 'description': 'Track and display progress for a specific exercise over a given time period, showing improvements in weight, reps, or sets.', 'examples': ['Show my bench press progress over the last month', 'How has my squat improved since January?', \"What's my deadlift progression in the past 3 months?\", 'Track my pull-up improvements from last quarter']}, {'name': 'updateAvailableEquipment', 'description': 'Update the list of exercise equipment available to the user, which helps in suggesting appropriate workout routines.', 'examples': ['I now have access to dumbbells and a pull-up bar', 'Update my gym equipment: squat rack, bench, and barbells', 'Changed my available equipment to resistance bands only', 'Add kettlebells to my equipment list']}]}, name='extract_user_functions', type='tool_use')], model='claude-3-5-sonnet-20241022', role='assistant', stop_reason='tool_use', stop_sequence=None, type='message', usage=Usage(cache_creation_input_tokens=None, cache_read_input_tokens=None, input_tokens=1143, output_tokens=621))\n",
      "[TextBlock(text=\"I'll help analyze the TypeSpec definition and extract user functions for the gym tracking bot. I'll use the extract_user_functions tool to structure the functions according to the schema.\", type='text'), ToolUseBlock(id='toolu_bdrk_01F2ndXmjk1PrfhTG99v2Jr8', input={'user_functions': [{'name': 'recordExercise', 'description': 'Log a completed exercise with details including number of sets, reps, weight used, and equipment. Used when the user wants to record their workout activity.', 'examples': ['I did 3 sets of bench press with 135lbs, 12 reps each', 'Just finished 4 sets of squats at 185lbs', 'Completed 3 sets of pull-ups, 8 reps each', 'Today I did deadlifts: 225lbs for 5 reps, 3 sets']}, {'name': 'suggestRoutine', 'description': \"Generate a workout routine based on user's available time, equipment, and optionally target muscle groups. Provides a structured workout plan that fits within the specified constraints.\", 'examples': ['Suggest a 45 minute workout using dumbbells and a bench', 'What exercises can I do in 30 minutes with just resistance bands?', 'Create a leg workout routine for 1 hour with access to a full gym', 'Plan a back and biceps workout for 90 minutes with basic home equipment']}, {'name': 'getProgress', 'description': 'Track and display progress for a specific exercise over a given time period, showing improvements in weight, reps, or sets.', 'examples': ['Show my bench press progress over the last month', 'How has my squat improved since January?', \"What's my deadlift progression in the past 3 months?\", 'Track my pull-up improvements from last quarter']}, {'name': 'updateAvailableEquipment', 'description': 'Update the list of exercise equipment available to the user, which helps in suggesting appropriate workout routines.', 'examples': ['I now have access to dumbbells and a pull-up bar', 'Update my gym equipment: squat rack, bench, and barbells', 'Changed my available equipment to resistance bands only', 'Add kettlebells to my equipment list']}]}, name='extract_user_functions', type='tool_use')]\n"
     ]
    }
   ],
   "source": [
    "app_result = builder.build(\n",
    "    \"Bot that tracks my exercise routine in the gym, tracks progress and suggests new routines for specific list of available equipment and time constraints.\",\n",
    "    out_dir=\"app_output\"\n",
    ")"
   ]
  },
  {
   "cell_type": "code",
   "execution_count": 13,
   "metadata": {},
   "outputs": [
    {
     "data": {
      "text/plain": [
       "{'typespec': {'result': <CompilationStatus.SUCCESS: 1>,\n",
       "  'errors': None,\n",
       "  'stdout': 'TypeSpec compiler v0.64.0\\n\\nCompilation completed successfully.\\n\\n'},\n",
       " 'drizzle': {'result': <CompilationStatus.FAILURE: 2>,\n",
       "  'errors': \"Cannot find module 'dotenv/config'\\nRequire stack:\\n- /home/eugenek/neon/bot-new/agent/app_output/app_schema/drizzle.config.ts\\n- /home/eugenek/.npm/_npx/7c7555b0b81cc7e0/node_modules/drizzle-kit/bin.cjs\\n\",\n",
       "  'stdout': \"No config path provided, using default 'drizzle.config.ts'\\nReading config file '/home/eugenek/neon/bot-new/agent/app_output/app_schema/drizzle.config.ts'\\n\"},\n",
       " 'router': [{'name': 'recordExercise',\n",
       "   'description': 'Log a completed exercise with details including number of sets, reps, weight used, and equipment. Used when the user wants to record their workout activity.',\n",
       "   'examples': ['I did 3 sets of bench press with 135lbs, 12 reps each',\n",
       "    'Just finished 4 sets of squats at 185lbs',\n",
       "    'Completed 3 sets of pull-ups, 8 reps each',\n",
       "    'Today I did deadlifts: 225lbs for 5 reps, 3 sets']},\n",
       "  {'name': 'suggestRoutine',\n",
       "   'description': \"Generate a workout routine based on user's available time, equipment, and optionally target muscle groups. Provides a structured workout plan that fits within the specified constraints.\",\n",
       "   'examples': ['Suggest a 45 minute workout using dumbbells and a bench',\n",
       "    'What exercises can I do in 30 minutes with just resistance bands?',\n",
       "    'Create a leg workout routine for 1 hour with access to a full gym',\n",
       "    'Plan a back and biceps workout for 90 minutes with basic home equipment']},\n",
       "  {'name': 'getProgress',\n",
       "   'description': 'Track and display progress for a specific exercise over a given time period, showing improvements in weight, reps, or sets.',\n",
       "   'examples': ['Show my bench press progress over the last month',\n",
       "    'How has my squat improved since January?',\n",
       "    \"What's my deadlift progression in the past 3 months?\",\n",
       "    'Track my pull-up improvements from last quarter']},\n",
       "  {'name': 'updateAvailableEquipment',\n",
       "   'description': 'Update the list of exercise equipment available to the user, which helps in suggesting appropriate workout routines.',\n",
       "   'examples': ['I now have access to dumbbells and a pull-up bar',\n",
       "    'Update my gym equipment: squat rack, bench, and barbells',\n",
       "    'Changed my available equipment to resistance bands only',\n",
       "    'Add kettlebells to my equipment list']}]}"
      ]
     },
     "execution_count": 13,
     "metadata": {},
     "output_type": "execute_result"
    }
   ],
   "source": [
    "app_result"
   ]
  }
 ],
 "metadata": {
  "kernelspec": {
   "display_name": ".venv",
   "language": "python",
   "name": "python3"
  },
  "language_info": {
   "codemirror_mode": {
    "name": "ipython",
    "version": 3
   },
   "file_extension": ".py",
   "mimetype": "text/x-python",
   "name": "python",
   "nbconvert_exporter": "python",
   "pygments_lexer": "ipython3",
   "version": "3.12.3"
  }
 },
 "nbformat": 4,
 "nbformat_minor": 2
}
