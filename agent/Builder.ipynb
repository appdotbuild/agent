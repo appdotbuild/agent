{
 "cells": [
  {
   "cell_type": "code",
   "execution_count": 1,
   "metadata": {},
   "outputs": [],
   "source": [
    "import re\n",
    "import os\n",
    "import jinja2\n",
    "from anthropic import AnthropicBedrock\n",
    "from core import stages\n",
    "import json\n",
    "import subprocess\n",
    "from shutil import copytree, ignore_patterns"
   ]
  },
  {
   "cell_type": "code",
   "execution_count": 2,
   "metadata": {},
   "outputs": [],
   "source": [
    "from core.compilers import CompilationStatus\n",
    "from core.compilers import drizzle as drizzle_compiler\n",
    "from core.compilers import typespec as typespec_compiler"
   ]
  },
  {
   "cell_type": "code",
   "execution_count": 3,
   "metadata": {},
   "outputs": [],
   "source": [
    "class Builder:\n",
    "    def __init__(self, client: AnthropicBedrock, template_dir: str = \"templates\"):\n",
    "        self.client = client\n",
    "        self.template_dir = template_dir\n",
    "        self.jinja_env = jinja2.Environment()\n",
    "        self.typespec_tpl = self.jinja_env.from_string(stages.typespec.PROMPT)\n",
    "        self.drizzle_tpl = self.jinja_env.from_string(stages.drizzle.PROMPT)\n",
    "        self.router_tpl = self.jinja_env.from_string(stages.router.PROMPT)\n",
    "        self._model = \"anthropic.claude-3-5-sonnet-20241022-v2:0\"\n",
    "\n",
    "    def build(self, application_description: str, out_dir: str = \"app_output\"):\n",
    "        copytree(self.template_dir, out_dir, ignore=ignore_patterns('*.pyc', '__pycache__')) # 'node_modules'\n",
    "        compiler_typespec = typespec_compiler.TypeSpecCompiler(out_dir)\n",
    "        prompt_typespec = self.typespec_tpl.render(\n",
    "            application_description=application_description,\n",
    "        )\n",
    "        typespec_response = self.client.messages.create(\n",
    "            model=self._model,\n",
    "            max_tokens=8192,\n",
    "            messages=[{\"role\": \"user\", \"content\": prompt_typespec}]\n",
    "        )\n",
    "        typespec_definitions = stages.typespec.parse_output(typespec_response.content[0].text)\n",
    "        typespec_result = compiler_typespec.compile(typespec_definitions[\"typespec_definitions\"])\n",
    "        print(\"finished typespec\")\n",
    "        #if typespec_result[\"result\"] != CompilationStatus.SUCCESS:\n",
    "        #    raise Exception(\"Failed to compile typespec\")\n",
    "        \n",
    "        compiler_drizzle = drizzle_compiler.DrizzleCompiler(out_dir)\n",
    "        prompt_drizzle = self.drizzle_tpl.render(\n",
    "            typespec_definitions=typespec_definitions[\"typespec_definitions\"],\n",
    "        )\n",
    "        drizzle_response = self.client.messages.create(\n",
    "            model=self._model,\n",
    "            max_tokens=8192,\n",
    "            messages=[{\"role\": \"user\", \"content\": prompt_drizzle}]\n",
    "        )\n",
    "        drizzle_schema = stages.drizzle.parse_output(drizzle_response.content[0].text)\n",
    "        drizzle_result = compiler_drizzle.compile(drizzle_schema[\"drizzle_schema\"])\n",
    "        print(\"finished drizzle\")\n",
    "        #if drizzle_result[\"result\"] != CompilationStatus.SUCCESS:\n",
    "        #    raise Exception(\"Failed to compile drizzle\")\n",
    "        \n",
    "        prompt_router = self.router_tpl.render(\n",
    "            typespec_definitions=typespec_definitions[\"typespec_definitions\"],\n",
    "            user_request=application_description,\n",
    "        )\n",
    "        router_response = self.client.messages.create(\n",
    "            model=self._model,\n",
    "            max_tokens=8192,\n",
    "            tools=stages.router.TOOLS,\n",
    "            messages=[{\"role\": \"user\", \"content\": prompt_router}]\n",
    "        )\n",
    "        print(\"ROUTER_RESPONSE\", router_response)\n",
    "        router_result = stages.router.parse_outputs([\n",
    "            content for content in router_response.content\n",
    "        ])[\"user_functions\"]\n",
    "        return {\n",
    "            \"typespec\": typespec_result,\n",
    "            \"drizzle\": drizzle_result,\n",
    "            \"router\": router_result\n",
    "        }"
   ]
  },
  {
   "cell_type": "code",
   "execution_count": 4,
   "metadata": {},
   "outputs": [],
   "source": [
    "client = AnthropicBedrock(aws_profile=\"dev\", aws_region=\"us-west-2\")"
   ]
  },
  {
   "cell_type": "code",
   "execution_count": 5,
   "metadata": {},
   "outputs": [],
   "source": [
    "builder = Builder(client, template_dir=\"templates\")"
   ]
  },
  {
   "cell_type": "code",
   "execution_count": 7,
   "metadata": {},
   "outputs": [
    {
     "name": "stdout",
     "output_type": "stream",
     "text": [
      "finished typespec\n",
      "start checking drizzle\n",
      "end checking drizzle\n",
      "finished drizzle\n",
      "ROUTER_RESPONSE Message(id='msg_bdrk_01WKDLsSHHqYXXuAjmdfAAhs', content=[TextBlock(text=\"I'll help extract the user functions from the TypeSpec definition and structure them appropriately for LLM classification. Let me use the extract_user_functions tool to create the schema.\", type='text'), ToolUseBlock(id='toolu_bdrk_016vko6QYJEGg5JKVPEfC8n3', input={'user_functions': [{'name': 'recordExercise', 'description': 'Records a completed exercise with details including name, sets, reps, weight, and any additional notes. Use this when the user wants to log or record their workout activity.', 'examples': ['I just did 3 sets of bench press with 12 reps at 135 pounds', 'Completed 4 sets of squats, 8 reps each at 185 lbs', 'Log my deadlift: 5 sets, 5 reps, 225 pounds', 'Record that I did pushups: 3 sets of 15 reps']}, {'name': 'suggestRoutine', 'description': 'Suggests a workout routine based on available equipment, target muscles, and time constraints. Use this when user wants workout recommendations or a new routine plan.', 'examples': ['Create a 45-minute workout routine for chest and arms using dumbbells', 'What exercises can I do in 30 minutes with just a bench and barbell?', 'Suggest a leg day routine with squat rack and machines that takes 1 hour', 'Plan a back workout using resistance bands and bodyweight exercises for 40 minutes']}, {'name': 'getProgress', 'description': 'Retrieves and tracks progress for a specific exercise over a given time period. Use this when user wants to see their improvement or history for particular exercises.', 'examples': ['Show me my bench press progress over the last month', 'How has my squat improved since January?', 'Track my deadlift numbers for the past 3 months', \"What's my progression on pullups this year?\"]}]}, name='extract_user_functions', type='tool_use')], model='claude-3-5-sonnet-20241022', role='assistant', stop_reason='tool_use', stop_sequence=None, type='message', usage=Usage(cache_creation_input_tokens=None, cache_read_input_tokens=None, input_tokens=1089, output_tokens=526))\n"
     ]
    }
   ],
   "source": [
    "import shutil\n",
    "\n",
    "\n",
    "shutil.rmtree(\"app_output\", ignore_errors=True)\n",
    "app_result = builder.build(\n",
    "    \"Bot that tracks my exercise routine in the gym, tracks progress and suggests new routines for specific list of available equipment and time constraints.\",\n",
    "    out_dir=\"app_output\"\n",
    ")"
   ]
  },
  {
   "cell_type": "code",
   "execution_count": 8,
   "metadata": {},
   "outputs": [
    {
     "data": {
      "text/plain": [
       "{'typespec': {'result': <CompilationStatus.FAILURE: 2>,\n",
       "  'error': \"[Errno 2] No such file or directory: 'tsp'\",\n",
       "  'stdout': None},\n",
       " 'drizzle': {'result': <CompilationStatus.FAILURE: 2>,\n",
       "  'errors': \"Cannot find module 'dotenv/config'\\nRequire stack:\\n- /Users/david/src/bot-new/agent/app_output/app_schema/drizzle.config.ts\\n- /Users/david/.npm/_npx/7c7555b0b81cc7e0/node_modules/drizzle-kit/bin.cjs\\n\",\n",
       "  'stdout': \"No config path provided, using default 'drizzle.config.ts'\\nReading config file '/Users/david/src/bot-new/agent/app_output/app_schema/drizzle.config.ts'\\n\"},\n",
       " 'router': [{'name': 'recordExercise',\n",
       "   'description': 'Records a completed exercise with details including name, sets, reps, weight, and any additional notes. Use this when the user wants to log or record their workout activity.',\n",
       "   'examples': ['I just did 3 sets of bench press with 12 reps at 135 pounds',\n",
       "    'Completed 4 sets of squats, 8 reps each at 185 lbs',\n",
       "    'Log my deadlift: 5 sets, 5 reps, 225 pounds',\n",
       "    'Record that I did pushups: 3 sets of 15 reps']},\n",
       "  {'name': 'suggestRoutine',\n",
       "   'description': 'Suggests a workout routine based on available equipment, target muscles, and time constraints. Use this when user wants workout recommendations or a new routine plan.',\n",
       "   'examples': ['Create a 45-minute workout routine for chest and arms using dumbbells',\n",
       "    'What exercises can I do in 30 minutes with just a bench and barbell?',\n",
       "    'Suggest a leg day routine with squat rack and machines that takes 1 hour',\n",
       "    'Plan a back workout using resistance bands and bodyweight exercises for 40 minutes']},\n",
       "  {'name': 'getProgress',\n",
       "   'description': 'Retrieves and tracks progress for a specific exercise over a given time period. Use this when user wants to see their improvement or history for particular exercises.',\n",
       "   'examples': ['Show me my bench press progress over the last month',\n",
       "    'How has my squat improved since January?',\n",
       "    'Track my deadlift numbers for the past 3 months',\n",
       "    \"What's my progression on pullups this year?\"]}]}"
      ]
     },
     "execution_count": 8,
     "metadata": {},
     "output_type": "execute_result"
    }
   ],
   "source": [
    "app_result"
   ]
  }
 ],
 "metadata": {
  "kernelspec": {
   "display_name": ".venv",
   "language": "python",
   "name": "python3"
  },
  "language_info": {
   "codemirror_mode": {
    "name": "ipython",
    "version": 3
   },
   "file_extension": ".py",
   "mimetype": "text/x-python",
   "name": "python",
   "nbconvert_exporter": "python",
   "pygments_lexer": "ipython3",
   "version": "3.13.1"
  }
 },
 "nbformat": 4,
 "nbformat_minor": 2
}
