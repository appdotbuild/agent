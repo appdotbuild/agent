{
 "cells": [
  {
   "cell_type": "code",
   "execution_count": 6,
   "metadata": {},
   "outputs": [],
   "source": [
    "%load_ext autoreload\n",
    "%autoreload 2"
   ]
  },
  {
   "cell_type": "code",
   "execution_count": 7,
   "metadata": {},
   "outputs": [],
   "source": [
    "import jinja2\n",
    "from anthropic import AnthropicBedrock\n",
    "from core import stages\n",
    "import json\n"
   ]
  },
  {
   "cell_type": "code",
   "execution_count": 8,
   "metadata": {},
   "outputs": [],
   "source": [
    "client = AnthropicBedrock(aws_profile=\"dev\", aws_region=\"us-west-2\")"
   ]
  },
  {
   "cell_type": "code",
   "execution_count": 9,
   "metadata": {},
   "outputs": [],
   "source": [
    "environment = jinja2.Environment()"
   ]
  },
  {
   "cell_type": "code",
   "execution_count": 10,
   "metadata": {},
   "outputs": [],
   "source": [
    "tsp_tpl = environment.from_string(stages.typespec.PROMPT)\n",
    "dzl_tpl = environment.from_string(stages.drizzle.PROMPT)\n",
    "rtr_tpl = environment.from_string(stages.router.PROMPT)\n",
    "hdl_tpl = environment.from_string(stages.handlers.PROMPT)\n",
    "pre_tpl = environment.from_string(stages.processors.PROMPT_PRE)"
   ]
  },
  {
   "cell_type": "code",
   "execution_count": 11,
   "metadata": {},
   "outputs": [],
   "source": [
    "application_description = \"\"\"\n",
    "Bot that tracks my exercise routine in the gym, tracks progress and suggests new routines\n",
    "for specific list of available equipment and time constraints.\n",
    "\"\"\".strip()"
   ]
  },
  {
   "cell_type": "code",
   "execution_count": 12,
   "metadata": {},
   "outputs": [],
   "source": [
    "prompt = tsp_tpl.render(\n",
    "    application_description=application_description,\n",
    ")\n",
    "\n",
    "tsp_response = client.messages.create(\n",
    "    model=\"anthropic.claude-3-5-sonnet-20241022-v2:0\",\n",
    "    max_tokens=8192,\n",
    "    messages=[{\"role\": \"user\", \"content\": prompt}]\n",
    ")\n",
    "typespec = stages.typespec.parse_output(tsp_response.content[0].text)"
   ]
  },
  {
   "cell_type": "code",
   "execution_count": 13,
   "metadata": {},
   "outputs": [
    {
     "data": {
      "text/plain": [
       "{'reasoning': 'For a gym tracking bot, I expect users to send messages like:\\n\"I did bench press: 3 sets of 8 reps with 80kg\"\\n\"Show me my chest exercises from last month\"\\n\"Suggest a 45-minute workout for chest and shoulders with dumbbells and bench\"\\n\\nKey entities needed:\\n1. Exercise (name, equipment used, muscle groups)\\n2. WorkoutSet (reps, weight, duration for cardio)\\n3. Equipment (for suggesting routines)\\n4. MuscleGroup (for targeting specific areas)\\n5. WorkoutPlan (for suggestions)\\n\\nLLM can extract from messages like:\\n\"I did bench press...\" -> recordExercise({\\n    exercise: \"bench press\",\\n    sets: [{reps: 8, weight: 80, unit: \"kg\"}],\\n    muscleGroups: [\"chest\", \"triceps\"]\\n})\\n\\n\"Suggest workout...\" -> suggestRoutine({\\n    duration: {value: 45, unit: \"minutes\"},\\n    equipment: [\"dumbbells\", \"bench\"],\\n    muscleGroups: [\"chest\", \"shoulders\"]\\n})',\n",
       " 'typespec_definitions': 'model Exercise {\\n    name: string;\\n    muscleGroups: string[];\\n    equipment: string[];\\n}\\n\\nmodel WorkoutSet {\\n    reps: integer;\\n    weight: float;\\n    unit: string;\\n    duration: duration;\\n}\\n\\nmodel WorkoutSession {\\n    exercise: Exercise;\\n    sets: WorkoutSet[];\\n    date: utcDateTime;\\n}\\n\\nmodel WorkoutRequest {\\n    duration: duration;\\n    equipment: string[];\\n    muscleGroups: string[];\\n}\\n\\ninterface GymTracker {\\n    @llm_func(2)\\n    recordExercise(session: WorkoutSession): void;\\n\\n    @llm_func(1)\\n    getProgress(exercise: string, from: utcDateTime, to: utcDateTime): WorkoutSession[];\\n\\n    @llm_func(3)\\n    suggestRoutine(request: WorkoutRequest): WorkoutSession[];\\n}',\n",
       " 'llm_functions': ['recordExercise', 'getProgress', 'suggestRoutine']}"
      ]
     },
     "execution_count": 13,
     "metadata": {},
     "output_type": "execute_result"
    }
   ],
   "source": [
    "typespec"
   ]
  },
  {
   "cell_type": "code",
   "execution_count": 14,
   "metadata": {},
   "outputs": [
    {
     "name": "stdout",
     "output_type": "stream",
     "text": [
      "For a gym tracking bot, I expect users to send messages like:\n",
      "\"I did bench press: 3 sets of 8 reps with 80kg\"\n",
      "\"Show me my chest exercises from last month\"\n",
      "\"Suggest a 45-minute workout for chest and shoulders with dumbbells and bench\"\n",
      "\n",
      "Key entities needed:\n",
      "1. Exercise (name, equipment used, muscle groups)\n",
      "2. WorkoutSet (reps, weight, duration for cardio)\n",
      "3. Equipment (for suggesting routines)\n",
      "4. MuscleGroup (for targeting specific areas)\n",
      "5. WorkoutPlan (for suggestions)\n",
      "\n",
      "LLM can extract from messages like:\n",
      "\"I did bench press...\" -> recordExercise({\n",
      "    exercise: \"bench press\",\n",
      "    sets: [{reps: 8, weight: 80, unit: \"kg\"}],\n",
      "    muscleGroups: [\"chest\", \"triceps\"]\n",
      "})\n",
      "\n",
      "\"Suggest workout...\" -> suggestRoutine({\n",
      "    duration: {value: 45, unit: \"minutes\"},\n",
      "    equipment: [\"dumbbells\", \"bench\"],\n",
      "    muscleGroups: [\"chest\", \"shoulders\"]\n",
      "})\n"
     ]
    }
   ],
   "source": [
    "print(typespec[\"reasoning\"])"
   ]
  },
  {
   "cell_type": "code",
   "execution_count": 15,
   "metadata": {},
   "outputs": [
    {
     "name": "stdout",
     "output_type": "stream",
     "text": [
      "model Exercise {\n",
      "    name: string;\n",
      "    muscleGroups: string[];\n",
      "    equipment: string[];\n",
      "}\n",
      "\n",
      "model WorkoutSet {\n",
      "    reps: integer;\n",
      "    weight: float;\n",
      "    unit: string;\n",
      "    duration: duration;\n",
      "}\n",
      "\n",
      "model WorkoutSession {\n",
      "    exercise: Exercise;\n",
      "    sets: WorkoutSet[];\n",
      "    date: utcDateTime;\n",
      "}\n",
      "\n",
      "model WorkoutRequest {\n",
      "    duration: duration;\n",
      "    equipment: string[];\n",
      "    muscleGroups: string[];\n",
      "}\n",
      "\n",
      "interface GymTracker {\n",
      "    @llm_func(2)\n",
      "    recordExercise(session: WorkoutSession): void;\n",
      "\n",
      "    @llm_func(1)\n",
      "    getProgress(exercise: string, from: utcDateTime, to: utcDateTime): WorkoutSession[];\n",
      "\n",
      "    @llm_func(3)\n",
      "    suggestRoutine(request: WorkoutRequest): WorkoutSession[];\n",
      "}\n"
     ]
    }
   ],
   "source": [
    "print(typespec[\"typespec_definitions\"])"
   ]
  },
  {
   "cell_type": "code",
   "execution_count": 16,
   "metadata": {},
   "outputs": [],
   "source": [
    "prompt = dzl_tpl.render(\n",
    "    typespec_definitions=typespec[\"typespec_definitions\"],\n",
    ")\n",
    "\n",
    "dzl_response = client.messages.create(\n",
    "    model=\"anthropic.claude-3-5-sonnet-20241022-v2:0\",\n",
    "    max_tokens=8192,\n",
    "    messages=[{\"role\": \"user\", \"content\": prompt}]\n",
    ")\n",
    "drizzle = stages.drizzle.parse_output(dzl_response.content[0].text)"
   ]
  },
  {
   "cell_type": "code",
   "execution_count": 17,
   "metadata": {},
   "outputs": [
    {
     "name": "stdout",
     "output_type": "stream",
     "text": [
      "import { serial, text, timestamp, real, integer, pgTable, pgEnum } from \"drizzle-orm/pg-core\";\n",
      "\n",
      "// Main tables\n",
      "export const exercisesTable = pgTable(\"exercises\", {\n",
      "  id: serial(\"id\").primaryKey(),\n",
      "  name: text(\"name\").notNull().unique(),\n",
      "});\n",
      "\n",
      "export const muscleGroupsTable = pgTable(\"muscle_groups\", {\n",
      "  id: serial(\"id\").primaryKey(),\n",
      "  name: text(\"name\").notNull().unique(),\n",
      "});\n",
      "\n",
      "export const equipmentTable = pgTable(\"equipment\", {\n",
      "  id: serial(\"id\").primaryKey(),\n",
      "  name: text(\"name\").notNull().unique(),\n",
      "});\n",
      "\n",
      "export const workoutSessionsTable = pgTable(\"workout_sessions\", {\n",
      "  id: serial(\"id\").primaryKey(),\n",
      "  exercise_id: integer(\"exercise_id\")\n",
      "    .references(() => exercisesTable.id)\n",
      "    .notNull(),\n",
      "  date: timestamp(\"date\").notNull(),\n",
      "});\n",
      "\n",
      "export const workoutSetsTable = pgTable(\"workout_sets\", {\n",
      "  id: serial(\"id\").primaryKey(),\n",
      "  session_id: integer(\"session_id\")\n",
      "    .references(() => workoutSessionsTable.id)\n",
      "    .notNull(),\n",
      "  reps: integer(\"reps\"),\n",
      "  weight: real(\"weight\"),\n",
      "  unit: text(\"unit\"),\n",
      "  duration: integer(\"duration\"), // stored in seconds\n",
      "});\n",
      "\n",
      "// Junction tables for many-to-many relationships\n",
      "export const exerciseMuscleGroupsTable = pgTable(\"exercise_muscle_groups\", {\n",
      "  exercise_id: integer(\"exercise_id\")\n",
      "    .references(() => exercisesTable.id)\n",
      "    .notNull(),\n",
      "  muscle_group_id: integer(\"muscle_group_id\")\n",
      "    .references(() => muscleGroupsTable.id)\n",
      "    .notNull(),\n",
      "});\n",
      "\n",
      "export const exerciseEquipmentTable = pgTable(\"exercise_equipment\", {\n",
      "  exercise_id: integer(\"exercise_id\")\n",
      "    .references(() => exercisesTable.id)\n",
      "    .notNull(),\n",
      "  equipment_id: integer(\"equipment_id\")\n",
      "    .references(() => equipmentTable.id)\n",
      "    .notNull(),\n",
      "});\n"
     ]
    }
   ],
   "source": [
    "print(drizzle[\"drizzle_schema\"])"
   ]
  },
  {
   "cell_type": "code",
   "execution_count": 18,
   "metadata": {},
   "outputs": [],
   "source": [
    "prompt = rtr_tpl.render(\n",
    "    typespec_definitions=typespec[\"typespec_definitions\"],\n",
    "    user_request=\"I want to record my exercise routine for today.\"\n",
    ")\n",
    "\n",
    "exp_response = client.messages.create(\n",
    "    model=\"anthropic.claude-3-5-sonnet-20241022-v2:0\",\n",
    "    max_tokens=8192,\n",
    "    messages=[{\"role\": \"user\", \"content\": prompt}],\n",
    "    tools = stages.router.TOOLS\n",
    ")\n",
    "\n",
    "funcs = stages.router.parse_outputs([content for content in exp_response.content])[\"user_functions\"]\n"
   ]
  },
  {
   "cell_type": "code",
   "execution_count": 19,
   "metadata": {},
   "outputs": [
    {
     "data": {
      "text/plain": [
       "[{'name': 'recordExercise',\n",
       "  'description': 'Records a workout session including the exercise performed, sets completed with reps, weight, and duration. Used when users want to log or track their workout activities.',\n",
       "  'examples': ['I just did 3 sets of bench press with 135 lbs',\n",
       "   'Record my workout: 4 sets of squats, 10 reps each at 185 pounds',\n",
       "   'I finished my deadlift session: 5x5 at 225 lbs',\n",
       "   'Log my pullups: did 3 sets of 12 reps']},\n",
       " {'name': 'getProgress',\n",
       "  'description': 'Retrieves workout history and progress for a specific exercise over a given time period. Used when users want to see their performance history or track improvements.',\n",
       "  'examples': ['Show me my bench press progress over the last month',\n",
       "   \"What's my squat history from January to now?\",\n",
       "   'How has my deadlift improved since last year?',\n",
       "   'Check my running progress for the past week']},\n",
       " {'name': 'suggestRoutine',\n",
       "  'description': 'Generates workout recommendations based on desired duration, available equipment, and target muscle groups. Used when users want workout suggestions or planning assistance.',\n",
       "  'examples': ['Suggest a 45-minute workout for legs using dumbbells',\n",
       "   'What exercises can I do for chest and arms in 30 minutes?',\n",
       "   'Plan a back workout with just bodyweight exercises',\n",
       "   'Give me a 1-hour full body routine with basic gym equipment']}]"
      ]
     },
     "execution_count": 19,
     "metadata": {},
     "output_type": "execute_result"
    }
   ],
   "source": [
    "funcs"
   ]
  },
  {
   "cell_type": "code",
   "execution_count": 20,
   "metadata": {},
   "outputs": [],
   "source": [
    "pre_processors = {}\n",
    "for function_name in typespec[\"llm_functions\"]:\n",
    "    prompt = pre_tpl.render(\n",
    "        function_name=function_name,\n",
    "        typespec_definitions=typespec[\"typespec_definitions\"],\n",
    "    )\n",
    "\n",
    "    pre_response = client.messages.create(\n",
    "        model=\"anthropic.claude-3-5-sonnet-20241022-v2:0\",\n",
    "        max_tokens=8192,\n",
    "        messages=[{\"role\": \"user\", \"content\": prompt}]\n",
    "    )\n",
    "    pre_processor = stages.processors.parse_output(pre_response.content[0].text)\n",
    "    pre_processors[function_name] = pre_processor"
   ]
  },
  {
   "cell_type": "code",
   "execution_count": 21,
   "metadata": {},
   "outputs": [
    {
     "name": "stdout",
     "output_type": "stream",
     "text": [
      "<instructions>\n",
      "For suggestRoutine function:\n",
      "1. Extract workout duration, available equipment, and target muscle groups from user input\n",
      "2. Default duration to 60 minutes if not specified\n",
      "3. If equipment is not specified, assume basic gym equipment (barbell, dumbbells, bench)\n",
      "4. If muscle groups aren't specified, suggest a full-body workout\n",
      "5. Duration format should be in ISO 8601 (e.g., \"PT1H\" for 1 hour)\n",
      "6. All time values should be in UTC\n",
      "</instructions>\n",
      "\n",
      "<examples>\n",
      "    <example>\n",
      "        <input>I want a 30-minute workout for chest using dumbbells</input>\n",
      "        <output>\n",
      "{\n",
      "    \"request\": {\n",
      "        \"duration\": \"PT30M\",\n",
      "        \"equipment\": [\"dumbbells\"],\n",
      "        \"muscleGroups\": [\"chest\"]\n",
      "    }\n",
      "}\n",
      "        </output>\n",
      "    </example>\n",
      "\n",
      "    <example>\n",
      "        <input>Give me a leg workout with barbell and squat rack for 45 minutes</input>\n",
      "        <output>\n",
      "{\n",
      "    \"request\": {\n",
      "        \"duration\": \"PT45M\",\n",
      "        \"equipment\": [\"barbell\", \"squat rack\"],\n",
      "        \"muscleGroups\": [\"quadriceps\", \"hamstrings\", \"calves\", \"glutes\"]\n",
      "    }\n",
      "}\n",
      "        </output>\n",
      "    </example>\n",
      "\n",
      "    <example>\n",
      "        <input>Quick home workout with resistance bands</input>\n",
      "        <output>\n",
      "{\n",
      "    \"request\": {\n",
      "        \"duration\": \"PT60M\",\n",
      "        \"equipment\": [\"resistance bands\"],\n",
      "        \"muscleGroups\": [\"chest\", \"back\", \"legs\", \"arms\", \"core\"]\n",
      "    }\n",
      "}\n",
      "        </output>\n",
      "    </example>\n",
      "\n",
      "    <example>\n",
      "        <input>2 hour back and biceps session at the gym</input>\n",
      "        <output>\n",
      "{\n",
      "    \"request\": {\n",
      "        \"duration\": \"PT2H\",\n",
      "        \"equipment\": [\"barbell\", \"dumbbells\", \"cable machine\", \"bench\"],\n",
      "        \"muscleGroups\": [\"back\", \"biceps\"]\n",
      "    }\n",
      "}\n",
      "        </output>\n",
      "    </example>\n",
      "</examples>\n"
     ]
    }
   ],
   "source": [
    "print(pre_response.content[0].text)"
   ]
  },
  {
   "cell_type": "code",
   "execution_count": 22,
   "metadata": {},
   "outputs": [
    {
     "data": {
      "text/plain": [
       "{'recordExercise': {'instructions': 'When handling user input for recordExercise function:\\n1. Extract exercise name, sets, weights, and reps from natural language\\n2. If date is not specified, use current date/time\\n3. If duration is not specified, estimate 1-2 minutes per set\\n4. Default unit to \"kg\" unless \"lbs\" or other units are explicitly mentioned\\n5. Infer common muscle groups and equipment based on exercise name\\n6. Multiple sets should be captured in array format\\n7. All timestamps should be in UTC format',\n",
       "  'examples': [('Just did bench press, 3 sets of 80kg for 8 reps',\n",
       "    '{\\n    \"session\": {\\n        \"exercise\": {\\n            \"name\": \"bench press\",\\n            \"muscleGroups\": [\"chest\", \"triceps\", \"shoulders\"],\\n            \"equipment\": [\"barbell\", \"bench\"]\\n        },\\n        \"sets\": [\\n            {\\n                \"reps\": 8,\\n                \"weight\": 80.0,\\n                \"unit\": \"kg\",\\n                \"duration\": \"PT2M\"\\n            },\\n            {\\n                \"reps\": 8,\\n                \"weight\": 80.0,\\n                \"unit\": \"kg\",\\n                \"duration\": \"PT2M\"\\n            },\\n            {\\n                \"reps\": 8,\\n                \"weight\": 80.0,\\n                \"unit\": \"kg\",\\n                \"duration\": \"PT2M\"\\n            }\\n        ],\\n        \"date\": \"2024-01-20T15:30:00Z\"\\n    }\\n}'),\n",
       "   ('Completed pull-ups: 12, 10, 8 reps',\n",
       "    '{\\n    \"session\": {\\n        \"exercise\": {\\n            \"name\": \"pull-ups\",\\n            \"muscleGroups\": [\"back\", \"biceps\", \"shoulders\"],\\n            \"equipment\": [\"pull-up bar\"]\\n        },\\n        \"sets\": [\\n            {\\n                \"reps\": 12,\\n                \"weight\": 0.0,\\n                \"unit\": \"kg\",\\n                \"duration\": \"PT1M30S\"\\n            },\\n            {\\n                \"reps\": 10,\\n                \"weight\": 0.0,\\n                \"unit\": \"kg\",\\n                \"duration\": \"PT1M30S\"\\n            },\\n            {\\n                \"reps\": 8,\\n                \"weight\": 0.0,\\n                \"unit\": \"kg\",\\n                \"duration\": \"PT1M30S\"\\n            }\\n        ],\\n        \"date\": \"2024-01-20T15:30:00Z\"\\n    }\\n}'),\n",
       "   ('Did squats yesterday: 100lbs x 5 reps, 120lbs x 3 reps',\n",
       "    '{\\n    \"session\": {\\n        \"exercise\": {\\n            \"name\": \"squats\",\\n            \"muscleGroups\": [\"quadriceps\", \"hamstrings\", \"glutes\"],\\n            \"equipment\": [\"barbell\", \"squat rack\"]\\n        },\\n        \"sets\": [\\n            {\\n                \"reps\": 5,\\n                \"weight\": 45.36,\\n                \"unit\": \"kg\",\\n                \"duration\": \"PT2M\"\\n            },\\n            {\\n                \"reps\": 3,\\n                \"weight\": 54.43,\\n                \"unit\": \"kg\",\\n                \"duration\": \"PT2M\"\\n            }\\n        ],\\n        \"date\": \"2024-01-19T15:30:00Z\"\\n    }\\n}')]},\n",
       " 'getProgress': {'instructions': \"For the getProgress function:\\n1. Extract exercise name from user input (required)\\n2. If date range is not specified:\\n   - 'from' defaults to 30 days ago from current date\\n   - 'to' defaults to current date/time\\n3. Accept various date formats (ISO 8601, natural language)\\n4. Exercise names should be normalized (case-insensitive, handle common variations)\",\n",
       "  'examples': [('Show my bench press progress',\n",
       "    '{\\n    \"exercise\": \"bench press\",\\n    \"from\": \"2023-11-15T00:00:00Z\",\\n    \"to\": \"2023-12-15T23:59:59Z\"\\n}'),\n",
       "   ('How did my squats improve since October 1st?',\n",
       "    '{\\n    \"exercise\": \"squats\",\\n    \"from\": \"2023-10-01T00:00:00Z\",\\n    \"to\": \"2023-12-15T23:59:59Z\"\\n}'),\n",
       "   ('Check deadlift progress between March 15 and April 15',\n",
       "    '{\\n    \"exercise\": \"deadlift\",\\n    \"from\": \"2023-03-15T00:00:00Z\",\\n    \"to\": \"2023-04-15T23:59:59Z\"\\n}'),\n",
       "   ('Pull-ups last week',\n",
       "    '{\\n    \"exercise\": \"pull-ups\",\\n    \"from\": \"2023-12-08T00:00:00Z\",\\n    \"to\": \"2023-12-15T23:59:59Z\"\\n}'),\n",
       "   ('Show shoulder press data from 2023-01-01 to 2023-06-30',\n",
       "    '{\\n    \"exercise\": \"shoulder press\",\\n    \"from\": \"2023-01-01T00:00:00Z\",\\n    \"to\": \"2023-06-30T23:59:59Z\"\\n}')]},\n",
       " 'suggestRoutine': {'instructions': 'For suggestRoutine function:\\n1. Extract workout duration, available equipment, and target muscle groups from user input\\n2. Default duration to 60 minutes if not specified\\n3. If equipment is not specified, assume basic gym equipment (barbell, dumbbells, bench)\\n4. If muscle groups aren\\'t specified, suggest a full-body workout\\n5. Duration format should be in ISO 8601 (e.g., \"PT1H\" for 1 hour)\\n6. All time values should be in UTC',\n",
       "  'examples': [('I want a 30-minute workout for chest using dumbbells',\n",
       "    '\\n{\\n    \"request\": {\\n        \"duration\": \"PT30M\",\\n        \"equipment\": [\"dumbbells\"],\\n        \"muscleGroups\": [\"chest\"]\\n    }\\n}\\n        '),\n",
       "   ('Give me a leg workout with barbell and squat rack for 45 minutes',\n",
       "    '\\n{\\n    \"request\": {\\n        \"duration\": \"PT45M\",\\n        \"equipment\": [\"barbell\", \"squat rack\"],\\n        \"muscleGroups\": [\"quadriceps\", \"hamstrings\", \"calves\", \"glutes\"]\\n    }\\n}\\n        '),\n",
       "   ('Quick home workout with resistance bands',\n",
       "    '\\n{\\n    \"request\": {\\n        \"duration\": \"PT60M\",\\n        \"equipment\": [\"resistance bands\"],\\n        \"muscleGroups\": [\"chest\", \"back\", \"legs\", \"arms\", \"core\"]\\n    }\\n}\\n        '),\n",
       "   ('2 hour back and biceps session at the gym',\n",
       "    '\\n{\\n    \"request\": {\\n        \"duration\": \"PT2H\",\\n        \"equipment\": [\"barbell\", \"dumbbells\", \"cable machine\", \"bench\"],\\n        \"muscleGroups\": [\"back\", \"biceps\"]\\n    }\\n}\\n        ')]}}"
      ]
     },
     "execution_count": 22,
     "metadata": {},
     "output_type": "execute_result"
    }
   ],
   "source": [
    "pre_processors"
   ]
  },
  {
   "cell_type": "code",
   "execution_count": 49,
   "metadata": {},
   "outputs": [],
   "source": [
    "handlers = {}\n",
    "for function_name in typespec[\"llm_functions\"]:\n",
    "    prompt = hdl_tpl.render(\n",
    "        function_name=function_name,\n",
    "        typespec_definitions=typespec[\"typespec_definitions\"],\n",
    "        drizzle_schema=drizzle[\"drizzle_schema\"],\n",
    "    )\n",
    "\n",
    "    hdl_response = client.messages.create(\n",
    "        model=\"anthropic.claude-3-5-sonnet-20241022-v2:0\",\n",
    "        max_tokens=8192,\n",
    "        messages=[{\"role\": \"user\", \"content\": prompt}]\n",
    "    )\n",
    "    handlers[function_name] = stages.handlers.parse_output(hdl_response.content[0].text)\n",
    "    handlers[function_name][\"handler\"] = {\"name\": function_name, \"code\": handlers[function_name][\"handler\"]}"
   ]
  },
  {
   "cell_type": "code",
   "execution_count": 50,
   "metadata": {},
   "outputs": [
    {
     "data": {
      "text/plain": [
       "{'recordExercise': {'handler': {'name': 'recordExercise',\n",
       "   'code': 'import { db } from \"../db\";\\nimport { \\n  exercisesTable, \\n  muscleGroupsTable, \\n  equipmentTable, \\n  workoutSessionsTable, \\n  workoutSetsTable,\\n  exerciseMuscleGroupsTable,\\n  exerciseEquipmentTable\\n} from \\'../db/schema/application\\';\\nimport { eq } from \\'drizzle-orm\\';\\n\\nconst handle = async (session: WorkoutSession): Promise<void> => {\\n  // Start a transaction since we need to make multiple related insertions\\n  await db.transaction(async (tx) => {\\n    // 1. Get or create the exercise\\n    let exercise = await tx\\n      .select()\\n      .from(exercisesTable)\\n      .where(eq(exercisesTable.name, session.exercise.name))\\n      .limit(1);\\n\\n    let exerciseId;\\n    if (exercise.length === 0) {\\n      const [newExercise] = await tx\\n        .insert(exercisesTable)\\n        .values({ name: session.exercise.name })\\n        .returning({ id: exercisesTable.id });\\n      exerciseId = newExercise.id;\\n\\n      // Handle muscle groups\\n      for (const muscleGroup of session.exercise.muscleGroups) {\\n        // Get or create muscle group\\n        let [mg] = await tx\\n          .insert(muscleGroupsTable)\\n          .values({ name: muscleGroup })\\n          .onConflictDoUpdate({ \\n            target: muscleGroupsTable.name,\\n            set: { name: muscleGroup }\\n          })\\n          .returning({ id: muscleGroupsTable.id });\\n\\n        // Create exercise-muscle group relationship\\n        await tx.insert(exerciseMuscleGroupsTable)\\n          .values({ \\n            exercise_id: exerciseId, \\n            muscle_group_id: mg.id \\n          })\\n          .onConflictDoNothing();\\n      }\\n\\n      // Handle equipment\\n      for (const equipment of session.exercise.equipment) {\\n        // Get or create equipment\\n        let [eq] = await tx\\n          .insert(equipmentTable)\\n          .values({ name: equipment })\\n          .onConflictDoUpdate({ \\n            target: equipmentTable.name,\\n            set: { name: equipment }\\n          })\\n          .returning({ id: equipmentTable.id });\\n\\n        // Create exercise-equipment relationship\\n        await tx.insert(exerciseEquipmentTable)\\n          .values({ \\n            exercise_id: exerciseId, \\n            equipment_id: eq.id \\n          })\\n          .onConflictDoNothing();\\n      }\\n    } else {\\n      exerciseId = exercise[0].id;\\n    }\\n\\n    // 2. Create the workout session\\n    const [workoutSession] = await tx\\n      .insert(workoutSessionsTable)\\n      .values({\\n        exercise_id: exerciseId,\\n        date: session.date\\n      })\\n      .returning({ id: workoutSessionsTable.id });\\n\\n    // 3. Create the workout sets\\n    const setsData = session.sets.map(set => ({\\n      session_id: workoutSession.id,\\n      reps: set.reps,\\n      weight: set.weight,\\n      unit: set.unit,\\n      duration: set.duration ? Math.floor(Number(set.duration) / 1000) : null // Convert duration to seconds\\n    }));\\n\\n    await tx.insert(workoutSetsTable).values(setsData);\\n  });\\n};'}},\n",
       " 'getProgress': {'handler': {'name': 'getProgress',\n",
       "   'code': 'import { db } from \"../db\";\\nimport { \\n    exercisesTable, \\n    workoutSessionsTable, \\n    workoutSetsTable,\\n    exerciseMuscleGroupsTable,\\n    exerciseEquipmentTable,\\n    muscleGroupsTable,\\n    equipmentTable\\n} from \\'../db/schema/application\\';\\nimport { and, between, eq } from \\'drizzle-orm\\';\\n\\nconst handle = async (exercise: string, from: Date, to: Date): Promise<WorkoutSession[]> => {\\n    // Get all workout sessions for the exercise within the date range\\n    const results = await db\\n        .select({\\n            exercise_name: exercisesTable.name,\\n            session_date: workoutSessionsTable.date,\\n            set_reps: workoutSetsTable.reps,\\n            set_weight: workoutSetsTable.weight,\\n            set_unit: workoutSetsTable.unit,\\n            set_duration: workoutSetsTable.duration,\\n            muscle_group: muscleGroupsTable.name,\\n            equipment: equipmentTable.name,\\n        })\\n        .from(workoutSessionsTable)\\n        .innerJoin(exercisesTable, eq(workoutSessionsTable.exercise_id, exercisesTable.id))\\n        .innerJoin(workoutSetsTable, eq(workoutSetsTable.session_id, workoutSessionsTable.id))\\n        .leftJoin(exerciseMuscleGroupsTable, eq(exerciseMuscleGroupsTable.exercise_id, exercisesTable.id))\\n        .leftJoin(muscleGroupsTable, eq(muscleGroupsTable.id, exerciseMuscleGroupsTable.muscle_group_id))\\n        .leftJoin(exerciseEquipmentTable, eq(exerciseEquipmentTable.exercise_id, exercisesTable.id))\\n        .leftJoin(equipmentTable, eq(equipmentTable.id, exerciseEquipmentTable.equipment_id))\\n        .where(and(\\n            eq(exercisesTable.name, exercise),\\n            between(workoutSessionsTable.date, from, to)\\n        ));\\n\\n    // Group the results by session\\n    const sessions = new Map<string, WorkoutSession>();\\n\\n    for (const row of results) {\\n        const sessionKey = row.session_date.toISOString();\\n        \\n        if (!sessions.has(sessionKey)) {\\n            sessions.set(sessionKey, {\\n                exercise: {\\n                    name: row.exercise_name,\\n                    muscleGroups: [],\\n                    equipment: []\\n                },\\n                sets: [],\\n                date: row.session_date\\n            });\\n        }\\n\\n        const session = sessions.get(sessionKey)!;\\n\\n        // Add unique muscle groups and equipment\\n        if (row.muscle_group && !session.exercise.muscleGroups.includes(row.muscle_group)) {\\n            session.exercise.muscleGroups.push(row.muscle_group);\\n        }\\n        if (row.equipment && !session.exercise.equipment.includes(row.equipment)) {\\n            session.exercise.equipment.push(row.equipment);\\n        }\\n\\n        // Add set if not already present\\n        const set = {\\n            reps: row.set_reps,\\n            weight: row.set_weight,\\n            unit: row.set_unit,\\n            duration: row.set_duration ? `PT${row.set_duration}S` : undefined\\n        };\\n        \\n        if (!session.sets.some(s => \\n            s.reps === set.reps && \\n            s.weight === set.weight && \\n            s.unit === set.unit && \\n            s.duration === set.duration\\n        )) {\\n            session.sets.push(set);\\n        }\\n    }\\n\\n    return Array.from(sessions.values());\\n};'}},\n",
       " 'suggestRoutine': {'handler': {'name': 'suggestRoutine',\n",
       "   'code': 'import { db } from \"../db\";\\nimport { \\n    exercisesTable,\\n    muscleGroupsTable,\\n    equipmentTable,\\n    exerciseMuscleGroupsTable,\\n    exerciseEquipmentTable,\\n} from \\'../db/schema/application\\';\\nimport { eq, inArray, and } from \\'drizzle-orm\\';\\n\\nconst handle = async (request: WorkoutRequest): Promise<WorkoutSession[]> => {\\n    // First, get IDs of requested muscle groups\\n    const muscleGroupIds = await db\\n        .select({ id: muscleGroupsTable.id })\\n        .from(muscleGroupsTable)\\n        .where(inArray(muscleGroupsTable.name, request.muscleGroups));\\n\\n    // Get IDs of requested equipment\\n    const equipmentIds = await db\\n        .select({ id: equipmentTable.id })\\n        .from(equipmentTable)\\n        .where(inArray(equipmentTable.name, request.equipment));\\n\\n    // Find exercises that match both muscle groups and equipment\\n    const matchingExercises = await db\\n        .select({\\n            id: exercisesTable.id,\\n            name: exercisesTable.name,\\n        })\\n        .from(exercisesTable)\\n        .innerJoin(\\n            exerciseMuscleGroupsTable,\\n            eq(exercisesTable.id, exerciseMuscleGroupsTable.exercise_id)\\n        )\\n        .innerJoin(\\n            exerciseEquipmentTable,\\n            eq(exercisesTable.id, exerciseEquipmentTable.exercise_id)\\n        )\\n        .where(and(\\n            inArray(exerciseMuscleGroupsTable.muscle_group_id, muscleGroupIds.map(mg => mg.id)),\\n            inArray(exerciseEquipmentTable.equipment_id, equipmentIds.map(e => e.id))\\n        ))\\n        .distinct();\\n\\n    // Get full exercise details including muscle groups and equipment\\n    const exercises = await Promise.all(\\n        matchingExercises.map(async (exercise) => {\\n            const muscleGroups = await db\\n                .select({ name: muscleGroupsTable.name })\\n                .from(muscleGroupsTable)\\n                .innerJoin(\\n                    exerciseMuscleGroupsTable,\\n                    eq(muscleGroupsTable.id, exerciseMuscleGroupsTable.muscle_group_id)\\n                )\\n                .where(eq(exerciseMuscleGroupsTable.exercise_id, exercise.id));\\n\\n            const equipment = await db\\n                .select({ name: equipmentTable.name })\\n                .from(equipmentTable)\\n                .innerJoin(\\n                    exerciseEquipmentTable,\\n                    eq(equipmentTable.id, exerciseEquipmentTable.equipment_id)\\n                )\\n                .where(eq(exerciseEquipmentTable.exercise_id, exercise.id));\\n\\n            return {\\n                name: exercise.name,\\n                muscleGroups: muscleGroups.map(mg => mg.name),\\n                equipment: equipment.map(e => e.name)\\n            };\\n        })\\n    );\\n\\n    // Convert exercises to workout sessions\\n    // Note: Default values are used for sets as this would typically be determined by the LLM\\n    return exercises.map(exercise => ({\\n        exercise,\\n        sets: [{\\n            reps: 12,\\n            weight: 0,\\n            unit: \"kg\",\\n            duration: 0\\n        }],\\n        date: new Date()\\n    }));\\n};'}}}"
      ]
     },
     "execution_count": 50,
     "metadata": {},
     "output_type": "execute_result"
    }
   ],
   "source": [
    "handlers"
   ]
  },
  {
   "cell_type": "code",
   "execution_count": 32,
   "metadata": {},
   "outputs": [],
   "source": [
    "with open(\"./templates/interpolation/handler.tpl\", \"r\") as f:\n",
    "    handler_ts_tpl = environment.from_string(f.read())"
   ]
  },
  {
   "cell_type": "code",
   "execution_count": 33,
   "metadata": {},
   "outputs": [],
   "source": [
    "hdl_key = \"recordExercise\"\n",
    "params = {\n",
    "    \"handler\": handlers[hdl_key][\"handler\"][\"code\"],\n",
    "    \"instructions\": pre_processors[hdl_key][\"instructions\"],\n",
    "    \"examples\": pre_processors[hdl_key][\"examples\"],\n",
    "}\n",
    "file_content = handler_ts_tpl.render(**params)"
   ]
  },
  {
   "cell_type": "code",
   "execution_count": 34,
   "metadata": {},
   "outputs": [
    {
     "name": "stdout",
     "output_type": "stream",
     "text": [
      "import { Message } from \"../common/handler\";\n",
      "import { client } from \"../common/llm\";\n",
      "import { db } from \"../db\";\n",
      "import { \n",
      "    exercisesTable, \n",
      "    muscleGroupsTable, \n",
      "    equipmentTable, \n",
      "    workoutSessionsTable, \n",
      "    workoutSetsTable,\n",
      "    exerciseMuscleGroupsTable,\n",
      "    exerciseEquipmentTable\n",
      "} from '../db/schema/application';\n",
      "import { eq } from 'drizzle-orm';\n",
      "\n",
      "const handle = async (session: WorkoutSession): Promise<void> => {\n",
      "    // Start a transaction since we need to perform multiple related operations\n",
      "    await db.transaction(async (tx) => {\n",
      "        // 1. Get or create the exercise\n",
      "        let exercise = await tx.query.exercisesTable.findFirst({\n",
      "            where: eq(exercisesTable.name, session.exercise.name)\n",
      "        });\n",
      "\n",
      "        if (!exercise) {\n",
      "            const [newExercise] = await tx.insert(exercisesTable)\n",
      "                .values({ name: session.exercise.name })\n",
      "                .returning();\n",
      "            exercise = newExercise;\n",
      "        }\n",
      "\n",
      "        // 2. Get or create muscle groups and link them to the exercise\n",
      "        for (const muscleGroup of session.exercise.muscleGroups) {\n",
      "            let mgRecord = await tx.query.muscleGroupsTable.findFirst({\n",
      "                where: eq(muscleGroupsTable.name, muscleGroup)\n",
      "            });\n",
      "\n",
      "            if (!mgRecord) {\n",
      "                const [newMG] = await tx.insert(muscleGroupsTable)\n",
      "                    .values({ name: muscleGroup })\n",
      "                    .returning();\n",
      "                mgRecord = newMG;\n",
      "            }\n",
      "\n",
      "            await tx.insert(exerciseMuscleGroupsTable)\n",
      "                .values({\n",
      "                    exercise_id: exercise.id,\n",
      "                    muscle_group_id: mgRecord.id\n",
      "                })\n",
      "                .onConflictDoNothing();\n",
      "        }\n",
      "\n",
      "        // 3. Get or create equipment and link them to the exercise\n",
      "        for (const equipment of session.exercise.equipment) {\n",
      "            let eqRecord = await tx.query.equipmentTable.findFirst({\n",
      "                where: eq(equipmentTable.name, equipment)\n",
      "            });\n",
      "\n",
      "            if (!eqRecord) {\n",
      "                const [newEq] = await tx.insert(equipmentTable)\n",
      "                    .values({ name: equipment })\n",
      "                    .returning();\n",
      "                eqRecord = newEq;\n",
      "            }\n",
      "\n",
      "            await tx.insert(exerciseEquipmentTable)\n",
      "                .values({\n",
      "                    exercise_id: exercise.id,\n",
      "                    equipment_id: eqRecord.id\n",
      "                })\n",
      "                .onConflictDoNothing();\n",
      "        }\n",
      "\n",
      "        // 4. Create the workout session\n",
      "        const [workoutSession] = await tx.insert(workoutSessionsTable)\n",
      "            .values({\n",
      "                exercise_id: exercise.id,\n",
      "                date: session.date\n",
      "            })\n",
      "            .returning();\n",
      "\n",
      "        // 5. Create all workout sets\n",
      "        for (const set of session.sets) {\n",
      "            await tx.insert(workoutSetsTable)\n",
      "                .values({\n",
      "                    session_id: workoutSession.id,\n",
      "                    reps: set.reps,\n",
      "                    weight: set.weight,\n",
      "                    unit: set.unit,\n",
      "                    duration: set.duration ? Math.floor(set.duration.seconds) : null\n",
      "                });\n",
      "        }\n",
      "    });\n",
      "};\n",
      "\n",
      "\n",
      "const preProcessorPrompt = `\n",
      "Examine conversation between user and assistant and extract structured arguments for a function.\n",
      "\n",
      "<instructions>\n",
      "When handling user input for recordExercise function:\n",
      "1. Extract exercise name, sets, weights, and reps from natural language\n",
      "2. If date is not specified, use current date/time\n",
      "3. If duration is not specified, estimate 1-2 minutes per set\n",
      "4. Default unit to \"kg\" unless \"lbs\" or other units are explicitly mentioned\n",
      "5. Infer common muscle groups and equipment based on exercise name\n",
      "6. Multiple sets should be captured in array format\n",
      "7. All timestamps should be in UTC format\n",
      "</instructions>\n",
      "\n",
      "Examples:\n",
      "\n",
      "\n",
      "Input:\n",
      "Just did bench press, 3 sets of 80kg for 8 reps\n",
      "Output:\n",
      "{\n",
      "    \"session\": {\n",
      "        \"exercise\": {\n",
      "            \"name\": \"bench press\",\n",
      "            \"muscleGroups\": [\"chest\", \"triceps\", \"shoulders\"],\n",
      "            \"equipment\": [\"barbell\", \"bench\"]\n",
      "        },\n",
      "        \"sets\": [\n",
      "            {\n",
      "                \"reps\": 8,\n",
      "                \"weight\": 80.0,\n",
      "                \"unit\": \"kg\",\n",
      "                \"duration\": \"PT2M\"\n",
      "            },\n",
      "            {\n",
      "                \"reps\": 8,\n",
      "                \"weight\": 80.0,\n",
      "                \"unit\": \"kg\",\n",
      "                \"duration\": \"PT2M\"\n",
      "            },\n",
      "            {\n",
      "                \"reps\": 8,\n",
      "                \"weight\": 80.0,\n",
      "                \"unit\": \"kg\",\n",
      "                \"duration\": \"PT2M\"\n",
      "            }\n",
      "        ],\n",
      "        \"date\": \"2024-01-20T15:30:00Z\"\n",
      "    }\n",
      "}\n",
      "\n",
      "Input:\n",
      "Completed pull-ups: 12, 10, 8 reps\n",
      "Output:\n",
      "{\n",
      "    \"session\": {\n",
      "        \"exercise\": {\n",
      "            \"name\": \"pull-ups\",\n",
      "            \"muscleGroups\": [\"back\", \"biceps\", \"shoulders\"],\n",
      "            \"equipment\": [\"pull-up bar\"]\n",
      "        },\n",
      "        \"sets\": [\n",
      "            {\n",
      "                \"reps\": 12,\n",
      "                \"weight\": 0.0,\n",
      "                \"unit\": \"kg\",\n",
      "                \"duration\": \"PT1M30S\"\n",
      "            },\n",
      "            {\n",
      "                \"reps\": 10,\n",
      "                \"weight\": 0.0,\n",
      "                \"unit\": \"kg\",\n",
      "                \"duration\": \"PT1M30S\"\n",
      "            },\n",
      "            {\n",
      "                \"reps\": 8,\n",
      "                \"weight\": 0.0,\n",
      "                \"unit\": \"kg\",\n",
      "                \"duration\": \"PT1M30S\"\n",
      "            }\n",
      "        ],\n",
      "        \"date\": \"2024-01-20T15:30:00Z\"\n",
      "    }\n",
      "}\n",
      "\n",
      "Input:\n",
      "Did squats yesterday: 100lbs x 5 reps, 120lbs x 3 reps\n",
      "Output:\n",
      "{\n",
      "    \"session\": {\n",
      "        \"exercise\": {\n",
      "            \"name\": \"squats\",\n",
      "            \"muscleGroups\": [\"quadriceps\", \"hamstrings\", \"glutes\"],\n",
      "            \"equipment\": [\"barbell\", \"squat rack\"]\n",
      "        },\n",
      "        \"sets\": [\n",
      "            {\n",
      "                \"reps\": 5,\n",
      "                \"weight\": 45.36,\n",
      "                \"unit\": \"kg\",\n",
      "                \"duration\": \"PT2M\"\n",
      "            },\n",
      "            {\n",
      "                \"reps\": 3,\n",
      "                \"weight\": 54.43,\n",
      "                \"unit\": \"kg\",\n",
      "                \"duration\": \"PT2M\"\n",
      "            }\n",
      "        ],\n",
      "        \"date\": \"2024-01-19T15:30:00Z\"\n",
      "    }\n",
      "}\n",
      "\n",
      "\n",
      "Conversation:\n",
      "{% for message in messages %}\n",
      "<role name=\"{{message.role}}\">{{message.content}}</role>\n",
      "{% endfor %}\n",
      "`;\n",
      "\n",
      "const preProcessor = async (input: Message[]): Promise<[string]> => {\n",
      "    const response = await client.messages.create({\n",
      "        model: 'anthropic.claude-3-5-sonnet-20241022-v2:0',\n",
      "        max_tokens: 2048,\n",
      "        messages: input.map(({ role, content }) => ({ role, content }))\n",
      "    });\n",
      "    switch (response.content[0].type) {\n",
      "        case \"text\":\n",
      "            return [response.content[0].text];\n",
      "        default:\n",
      "            throw new Error(\"Unexpected response type\");\n",
      "    }\n",
      "};\n"
     ]
    }
   ],
   "source": [
    "print(file_content)"
   ]
  },
  {
   "cell_type": "code",
   "execution_count": 44,
   "metadata": {},
   "outputs": [
    {
     "name": "stdout",
     "output_type": "stream",
     "text": [
      "{'recordExercise': {'handler': 'import { db } from \"../db\";\\nimport { \\n    exercisesTable, \\n    muscleGroupsTable, \\n    equipmentTable, \\n    workoutSessionsTable, \\n    workoutSetsTable,\\n    exerciseMuscleGroupsTable,\\n    exerciseEquipmentTable\\n} from \\'../db/schema/application\\';\\nimport { eq } from \\'drizzle-orm\\';\\n\\nconst handle = async (session: WorkoutSession): Promise<void> => {\\n    // Start a transaction since we need to perform multiple related operations\\n    await db.transaction(async (tx) => {\\n        // 1. Get or create the exercise\\n        let exercise = await tx.query.exercisesTable.findFirst({\\n            where: eq(exercisesTable.name, session.exercise.name)\\n        });\\n\\n        if (!exercise) {\\n            const [newExercise] = await tx.insert(exercisesTable)\\n                .values({ name: session.exercise.name })\\n                .returning();\\n            exercise = newExercise;\\n        }\\n\\n        // 2. Get or create muscle groups and link them to the exercise\\n        for (const muscleGroup of session.exercise.muscleGroups) {\\n            let mgRecord = await tx.query.muscleGroupsTable.findFirst({\\n                where: eq(muscleGroupsTable.name, muscleGroup)\\n            });\\n\\n            if (!mgRecord) {\\n                const [newMG] = await tx.insert(muscleGroupsTable)\\n                    .values({ name: muscleGroup })\\n                    .returning();\\n                mgRecord = newMG;\\n            }\\n\\n            await tx.insert(exerciseMuscleGroupsTable)\\n                .values({\\n                    exercise_id: exercise.id,\\n                    muscle_group_id: mgRecord.id\\n                })\\n                .onConflictDoNothing();\\n        }\\n\\n        // 3. Get or create equipment and link them to the exercise\\n        for (const equipment of session.exercise.equipment) {\\n            let eqRecord = await tx.query.equipmentTable.findFirst({\\n                where: eq(equipmentTable.name, equipment)\\n            });\\n\\n            if (!eqRecord) {\\n                const [newEq] = await tx.insert(equipmentTable)\\n                    .values({ name: equipment })\\n                    .returning();\\n                eqRecord = newEq;\\n            }\\n\\n            await tx.insert(exerciseEquipmentTable)\\n                .values({\\n                    exercise_id: exercise.id,\\n                    equipment_id: eqRecord.id\\n                })\\n                .onConflictDoNothing();\\n        }\\n\\n        // 4. Create the workout session\\n        const [workoutSession] = await tx.insert(workoutSessionsTable)\\n            .values({\\n                exercise_id: exercise.id,\\n                date: session.date\\n            })\\n            .returning();\\n\\n        // 5. Create all workout sets\\n        for (const set of session.sets) {\\n            await tx.insert(workoutSetsTable)\\n                .values({\\n                    session_id: workoutSession.id,\\n                    reps: set.reps,\\n                    weight: set.weight,\\n                    unit: set.unit,\\n                    duration: set.duration ? Math.floor(set.duration.seconds) : null\\n                });\\n        }\\n    });\\n};'}, 'getProgress': {'handler': 'import { db } from \"../db\";\\nimport { \\n    exercisesTable,\\n    muscleGroupsTable,\\n    equipmentTable,\\n    workoutSessionsTable,\\n    workoutSetsTable,\\n    exerciseMuscleGroupsTable,\\n    exerciseEquipmentTable\\n} from \\'../db/schema/application\\';\\nimport { eq, and, between } from \\'drizzle-orm\\';\\n\\nconst handle = async (exercise: string, from: Date, to: Date): Promise<WorkoutSession[]> => {\\n    // Get all workout sessions with their related data\\n    const results = await db\\n        .select({\\n            exerciseName: exercisesTable.name,\\n            sessionDate: workoutSessionsTable.date,\\n            setReps: workoutSetsTable.reps,\\n            setWeight: workoutSetsTable.weight,\\n            setUnit: workoutSetsTable.unit,\\n            setDuration: workoutSetsTable.duration,\\n        })\\n        .from(workoutSessionsTable)\\n        .innerJoin(exercisesTable, eq(workoutSessionsTable.exercise_id, exercisesTable.id))\\n        .innerJoin(workoutSetsTable, eq(workoutSetsTable.session_id, workoutSessionsTable.id))\\n        .where(\\n            and(\\n                eq(exercisesTable.name, exercise),\\n                between(workoutSessionsTable.date, from, to)\\n            )\\n        );\\n\\n    // Get muscle groups for the exercise\\n    const muscleGroups = await db\\n        .select({\\n            name: muscleGroupsTable.name\\n        })\\n        .from(exercisesTable)\\n        .innerJoin(exerciseMuscleGroupsTable, eq(exerciseMuscleGroupsTable.exercise_id, exercisesTable.id))\\n        .innerJoin(muscleGroupsTable, eq(exerciseMuscleGroupsTable.muscle_group_id, muscleGroupsTable.id))\\n        .where(eq(exercisesTable.name, exercise));\\n\\n    // Get equipment for the exercise\\n    const equipment = await db\\n        .select({\\n            name: equipmentTable.name\\n        })\\n        .from(exercisesTable)\\n        .innerJoin(exerciseEquipmentTable, eq(exerciseEquipmentTable.exercise_id, exercisesTable.id))\\n        .innerJoin(equipmentTable, eq(exerciseEquipmentTable.equipment_id, equipmentTable.id))\\n        .where(eq(exercisesTable.name, exercise));\\n\\n    // Group results by session\\n    const sessionMap = new Map<string, WorkoutSession>();\\n\\n    results.forEach(result => {\\n        const dateKey = result.sessionDate.toISOString();\\n        \\n        if (!sessionMap.has(dateKey)) {\\n            sessionMap.set(dateKey, {\\n                exercise: {\\n                    name: result.exerciseName,\\n                    muscleGroups: muscleGroups.map(mg => mg.name),\\n                    equipment: equipment.map(eq => eq.name)\\n                },\\n                sets: [],\\n                date: result.sessionDate\\n            });\\n        }\\n\\n        sessionMap.get(dateKey)!.sets.push({\\n            reps: result.setReps,\\n            weight: result.setWeight,\\n            unit: result.setUnit,\\n            duration: result.setDuration ? result.setDuration * 1000 : 0 // Convert seconds to milliseconds\\n        });\\n    });\\n\\n    return Array.from(sessionMap.values());\\n};'}, 'suggestRoutine': {'handler': 'import { db } from \"../db\";\\nimport { \\n    exercisesTable, \\n    equipmentTable, \\n    muscleGroupsTable, \\n    exerciseEquipmentTable, \\n    exerciseMuscleGroupsTable \\n} from \\'../db/schema/application\\';\\nimport { eq, inArray } from \\'drizzle-orm\\';\\n\\nconst handle = async (request: WorkoutRequest): Promise<WorkoutSession[]> => {\\n    // First, get equipment IDs\\n    const equipmentIds = await db\\n        .select({ id: equipmentTable.id })\\n        .from(equipmentTable)\\n        .where(inArray(equipmentTable.name, request.equipment))\\n        .execute();\\n\\n    // Get muscle group IDs\\n    const muscleGroupIds = await db\\n        .select({ id: muscleGroupsTable.id })\\n        .from(muscleGroupsTable)\\n        .where(inArray(muscleGroupsTable.name, request.muscleGroups))\\n        .execute();\\n\\n    // Find exercises that match both equipment and muscle groups\\n    const matchingExercises = await db\\n        .select({\\n            name: exercisesTable.name,\\n            muscleGroups: muscleGroupsTable.name,\\n            equipment: equipmentTable.name\\n        })\\n        .from(exercisesTable)\\n        .innerJoin(exerciseEquipmentTable, eq(exerciseEquipmentTable.exercise_id, exercisesTable.id))\\n        .innerJoin(exerciseMuscleGroupsTable, eq(exerciseMuscleGroupsTable.exercise_id, exercisesTable.id))\\n        .innerJoin(equipmentTable, eq(equipmentTable.id, exerciseEquipmentTable.equipment_id))\\n        .innerJoin(muscleGroupsTable, eq(muscleGroupsTable.id, exerciseMuscleGroupsTable.muscle_group_id))\\n        .where(\\n            inArray(equipmentTable.id, equipmentIds.map(e => e.id)) &&\\n            inArray(muscleGroupsTable.id, muscleGroupIds.map(m => m.id))\\n        )\\n        .execute();\\n\\n    // Group exercises by name with their associated muscle groups and equipment\\n    const exerciseMap = matchingExercises.reduce((acc, curr) => {\\n        if (!acc[curr.name]) {\\n            acc[curr.name] = {\\n                name: curr.name,\\n                muscleGroups: new Set(),\\n                equipment: new Set()\\n            };\\n        }\\n        acc[curr.name].muscleGroups.add(curr.muscleGroups);\\n        acc[curr.name].equipment.add(curr.equipment);\\n        return acc;\\n    }, {} as Record<string, { name: string, muscleGroups: Set<string>, equipment: Set<string> }>);\\n\\n    // Convert to WorkoutSession array\\n    const workoutSessions = Object.values(exerciseMap).map(exercise => ({\\n        exercise: {\\n            name: exercise.name,\\n            muscleGroups: Array.from(exercise.muscleGroups),\\n            equipment: Array.from(exercise.equipment)\\n        },\\n        sets: [\\n            {\\n                reps: 12,\\n                weight: 0,\\n                unit: \"kg\",\\n                duration: request.duration\\n            }\\n        ],\\n        date: new Date()\\n    }));\\n\\n    return workoutSessions;\\n};'}}\n"
     ]
    }
   ],
   "source": [
    "print(handlers[\"suggestRoutine\"][\"handler\"])"
   ]
  },
  {
   "cell_type": "code",
   "execution_count": 47,
   "metadata": {},
   "outputs": [
    {
     "ename": "AttributeError",
     "evalue": "'str' object has no attribute 'name'",
     "output_type": "error",
     "traceback": [
      "\u001b[0;31m---------------------------------------------------------------------------\u001b[0m",
      "\u001b[0;31mAttributeError\u001b[0m                            Traceback (most recent call last)",
      "Cell \u001b[0;32mIn[47], line 11\u001b[0m\n\u001b[1;32m      9\u001b[0m \u001b[38;5;28;01mfor\u001b[39;00m hdl_key \u001b[38;5;129;01min\u001b[39;00m handlers:\n\u001b[1;32m     10\u001b[0m     handler \u001b[38;5;241m=\u001b[39m handlers[hdl_key][\u001b[38;5;124m\"\u001b[39m\u001b[38;5;124mhandler\u001b[39m\u001b[38;5;124m\"\u001b[39m]\n\u001b[0;32m---> 11\u001b[0m     \u001b[43mhandler\u001b[49m\u001b[38;5;241;43m.\u001b[39;49m\u001b[43mname\u001b[49m \u001b[38;5;241m=\u001b[39m hdl_key\n\u001b[1;32m     12\u001b[0m     params \u001b[38;5;241m=\u001b[39m {\n\u001b[1;32m     13\u001b[0m         \u001b[38;5;124m\"\u001b[39m\u001b[38;5;124mhandler\u001b[39m\u001b[38;5;124m\"\u001b[39m: handlers[hdl_key][\u001b[38;5;124m\"\u001b[39m\u001b[38;5;124mhandler\u001b[39m\u001b[38;5;124m\"\u001b[39m],\n\u001b[1;32m     14\u001b[0m         \u001b[38;5;66;03m#\"instructions\": pre_processors[hdl_key][\"instructions\"],\u001b[39;00m\n\u001b[1;32m     15\u001b[0m         \u001b[38;5;66;03m#\"examples\": pre_processors[hdl_key][\"examples\"],\u001b[39;00m\n\u001b[1;32m     16\u001b[0m     }\n\u001b[1;32m     17\u001b[0m     file_content \u001b[38;5;241m=\u001b[39m handler_debug_tpl\u001b[38;5;241m.\u001b[39mrender(\u001b[38;5;241m*\u001b[39m\u001b[38;5;241m*\u001b[39mparams)\n",
      "\u001b[0;31mAttributeError\u001b[0m: 'str' object has no attribute 'name'"
     ]
    }
   ],
   "source": [
    "import os\n",
    "#print(os.listdir('.'))\n",
    "\n",
    "handler_file_names = []\n",
    "\n",
    "with open(\"./templates/interpolation/handler.debug.tpl\", \"r\") as f:\n",
    "    handler_debug_tpl = environment.from_string(f.read())\n",
    "    \n",
    "    for hdl_key in handlers:\n",
    "        handler = handlers[hdl_key][\"handler\"]\n",
    "        \n",
    "        params = {\n",
    "            \"handler\": handlers[hdl_key][\"handler\"],\n",
    "            #\"instructions\": pre_processors[hdl_key][\"instructions\"],\n",
    "            #\"examples\": pre_processors[hdl_key][\"examples\"],\n",
    "        }\n",
    "        file_content = handler_debug_tpl.render(**params)\n",
    "        print(f\"Handler: {hdl_key}\")\n",
    "        print(file_content)\n",
    "        \n",
    "        # Convert PascalCase to snake_case for file naming\n",
    "        python_file_name = ''.join(['_' + c.lower() if c.isupper() else c for c in hdl_key]).lstrip('_')\n",
    "        handler_file_name = f'{python_file_name}.handler.debug.ts'\n",
    "        \n",
    "        with open(os.path.join('./app_output/app_schema/src/handlers', handler_file_name), 'w') as f:\n",
    "            f.write(file_content)\n",
    "        handler_file_names.append(handler_file_name)\n",
    "        \n",
    "handler_file_names"
   ]
  },
  {
   "cell_type": "code",
   "execution_count": 24,
   "metadata": {},
   "outputs": [],
   "source": [
    "ts_defs = stages.typespec.parse_output(stages.typespec.PROMPT)"
   ]
  },
  {
   "cell_type": "code",
   "execution_count": 25,
   "metadata": {},
   "outputs": [
    {
     "data": {
      "text/plain": [
       "{'reasoning': 'I expect user to send messages like \"I ate a burger\" or \"I had a salad for lunch\".\\nLLM can extract and infer the arguments from plain text and pass them to the handler\\n\"I ate a burger\" -> recordDish({name: \"burger\", ingredients: [\\n    {name: \"bun\", calories: 200},\\n    {name: \"patty\", calories: 300},\\n    {name: \"lettuce\", calories: 10},\\n    {name: \"tomato\", calories: 20},\\n    {name: \"cheese\", calories: 50},\\n]})\\n- recordDish(dish: Dish): void;\\n...',\n",
       " 'typespec_definitions': 'model Dish {\\n    name: string;\\n    ingredients: Ingredient[];\\n}\\n\\nmodel Ingredient {\\n    name: string;\\n    calories: integer;\\n}\\n\\ninterface DietBot {\\n    @llm_func(1)\\n    recordDish(dish: Dish): void;\\n    @llm_func(1)\\n    listDishes(from: utcDateTime, to: utcDateTime): Dish[];\\n}',\n",
       " 'llm_functions': ['recordDish', 'listDishes']}"
      ]
     },
     "execution_count": 25,
     "metadata": {},
     "output_type": "execute_result"
    }
   ],
   "source": [
    "ts_defs"
   ]
  },
  {
   "cell_type": "code",
   "execution_count": 26,
   "metadata": {},
   "outputs": [],
   "source": [
    "func_names = stages.typespec.extract_llm_func_names(stages.typespec.PROMPT)"
   ]
  },
  {
   "cell_type": "code",
   "execution_count": 27,
   "metadata": {},
   "outputs": [
    {
     "data": {
      "text/plain": [
       "['recordDish', 'listDishes']"
      ]
     },
     "execution_count": 27,
     "metadata": {},
     "output_type": "execute_result"
    }
   ],
   "source": [
    "func_names"
   ]
  },
  {
   "cell_type": "markdown",
   "metadata": {},
   "source": [
    "# Project Generation"
   ]
  },
  {
   "cell_type": "code",
   "execution_count": 28,
   "metadata": {},
   "outputs": [],
   "source": [
    "from shutil import copytree, ignore_patterns"
   ]
  },
  {
   "cell_type": "code",
   "execution_count": 29,
   "metadata": {},
   "outputs": [],
   "source": [
    "def setup_project(workdir: str):\n",
    "    copytree('templates', workdir, ignore=ignore_patterns('*.pyc', '__pycache__', 'node_modules'))"
   ]
  },
  {
   "cell_type": "code",
   "execution_count": 30,
   "metadata": {},
   "outputs": [
    {
     "ename": "FileExistsError",
     "evalue": "[Errno 17] File exists: 'test'",
     "output_type": "error",
     "traceback": [
      "\u001b[0;31m---------------------------------------------------------------------------\u001b[0m",
      "\u001b[0;31mFileExistsError\u001b[0m                           Traceback (most recent call last)",
      "Cell \u001b[0;32mIn[30], line 1\u001b[0m\n\u001b[0;32m----> 1\u001b[0m \u001b[43msetup_project\u001b[49m\u001b[43m(\u001b[49m\u001b[38;5;124;43m'\u001b[39;49m\u001b[38;5;124;43mtest\u001b[39;49m\u001b[38;5;124;43m'\u001b[39;49m\u001b[43m)\u001b[49m\n",
      "Cell \u001b[0;32mIn[29], line 2\u001b[0m, in \u001b[0;36msetup_project\u001b[0;34m(workdir)\u001b[0m\n\u001b[1;32m      1\u001b[0m \u001b[38;5;28;01mdef\u001b[39;00m\u001b[38;5;250m \u001b[39m\u001b[38;5;21msetup_project\u001b[39m(workdir: \u001b[38;5;28mstr\u001b[39m):\n\u001b[0;32m----> 2\u001b[0m     \u001b[43mcopytree\u001b[49m\u001b[43m(\u001b[49m\u001b[38;5;124;43m'\u001b[39;49m\u001b[38;5;124;43mtemplates\u001b[39;49m\u001b[38;5;124;43m'\u001b[39;49m\u001b[43m,\u001b[49m\u001b[43m \u001b[49m\u001b[43mworkdir\u001b[49m\u001b[43m,\u001b[49m\u001b[43m \u001b[49m\u001b[43mignore\u001b[49m\u001b[38;5;241;43m=\u001b[39;49m\u001b[43mignore_patterns\u001b[49m\u001b[43m(\u001b[49m\u001b[38;5;124;43m'\u001b[39;49m\u001b[38;5;124;43m*.pyc\u001b[39;49m\u001b[38;5;124;43m'\u001b[39;49m\u001b[43m,\u001b[49m\u001b[43m \u001b[49m\u001b[38;5;124;43m'\u001b[39;49m\u001b[38;5;124;43m__pycache__\u001b[39;49m\u001b[38;5;124;43m'\u001b[39;49m\u001b[43m,\u001b[49m\u001b[43m \u001b[49m\u001b[38;5;124;43m'\u001b[39;49m\u001b[38;5;124;43mnode_modules\u001b[39;49m\u001b[38;5;124;43m'\u001b[39;49m\u001b[43m)\u001b[49m\u001b[43m)\u001b[49m\n",
      "File \u001b[0;32m/usr/lib/python3.12/shutil.py:600\u001b[0m, in \u001b[0;36mcopytree\u001b[0;34m(src, dst, symlinks, ignore, copy_function, ignore_dangling_symlinks, dirs_exist_ok)\u001b[0m\n\u001b[1;32m    598\u001b[0m \u001b[38;5;28;01mwith\u001b[39;00m os\u001b[38;5;241m.\u001b[39mscandir(src) \u001b[38;5;28;01mas\u001b[39;00m itr:\n\u001b[1;32m    599\u001b[0m     entries \u001b[38;5;241m=\u001b[39m \u001b[38;5;28mlist\u001b[39m(itr)\n\u001b[0;32m--> 600\u001b[0m \u001b[38;5;28;01mreturn\u001b[39;00m \u001b[43m_copytree\u001b[49m\u001b[43m(\u001b[49m\u001b[43mentries\u001b[49m\u001b[38;5;241;43m=\u001b[39;49m\u001b[43mentries\u001b[49m\u001b[43m,\u001b[49m\u001b[43m \u001b[49m\u001b[43msrc\u001b[49m\u001b[38;5;241;43m=\u001b[39;49m\u001b[43msrc\u001b[49m\u001b[43m,\u001b[49m\u001b[43m \u001b[49m\u001b[43mdst\u001b[49m\u001b[38;5;241;43m=\u001b[39;49m\u001b[43mdst\u001b[49m\u001b[43m,\u001b[49m\u001b[43m \u001b[49m\u001b[43msymlinks\u001b[49m\u001b[38;5;241;43m=\u001b[39;49m\u001b[43msymlinks\u001b[49m\u001b[43m,\u001b[49m\n\u001b[1;32m    601\u001b[0m \u001b[43m                 \u001b[49m\u001b[43mignore\u001b[49m\u001b[38;5;241;43m=\u001b[39;49m\u001b[43mignore\u001b[49m\u001b[43m,\u001b[49m\u001b[43m \u001b[49m\u001b[43mcopy_function\u001b[49m\u001b[38;5;241;43m=\u001b[39;49m\u001b[43mcopy_function\u001b[49m\u001b[43m,\u001b[49m\n\u001b[1;32m    602\u001b[0m \u001b[43m                 \u001b[49m\u001b[43mignore_dangling_symlinks\u001b[49m\u001b[38;5;241;43m=\u001b[39;49m\u001b[43mignore_dangling_symlinks\u001b[49m\u001b[43m,\u001b[49m\n\u001b[1;32m    603\u001b[0m \u001b[43m                 \u001b[49m\u001b[43mdirs_exist_ok\u001b[49m\u001b[38;5;241;43m=\u001b[39;49m\u001b[43mdirs_exist_ok\u001b[49m\u001b[43m)\u001b[49m\n",
      "File \u001b[0;32m/usr/lib/python3.12/shutil.py:498\u001b[0m, in \u001b[0;36m_copytree\u001b[0;34m(entries, src, dst, symlinks, ignore, copy_function, ignore_dangling_symlinks, dirs_exist_ok)\u001b[0m\n\u001b[1;32m    495\u001b[0m \u001b[38;5;28;01melse\u001b[39;00m:\n\u001b[1;32m    496\u001b[0m     ignored_names \u001b[38;5;241m=\u001b[39m ()\n\u001b[0;32m--> 498\u001b[0m \u001b[43mos\u001b[49m\u001b[38;5;241;43m.\u001b[39;49m\u001b[43mmakedirs\u001b[49m\u001b[43m(\u001b[49m\u001b[43mdst\u001b[49m\u001b[43m,\u001b[49m\u001b[43m \u001b[49m\u001b[43mexist_ok\u001b[49m\u001b[38;5;241;43m=\u001b[39;49m\u001b[43mdirs_exist_ok\u001b[49m\u001b[43m)\u001b[49m\n\u001b[1;32m    499\u001b[0m errors \u001b[38;5;241m=\u001b[39m []\n\u001b[1;32m    500\u001b[0m use_srcentry \u001b[38;5;241m=\u001b[39m copy_function \u001b[38;5;129;01mis\u001b[39;00m copy2 \u001b[38;5;129;01mor\u001b[39;00m copy_function \u001b[38;5;129;01mis\u001b[39;00m copy\n",
      "File \u001b[0;32m<frozen os>:225\u001b[0m, in \u001b[0;36mmakedirs\u001b[0;34m(name, mode, exist_ok)\u001b[0m\n",
      "\u001b[0;31mFileExistsError\u001b[0m: [Errno 17] File exists: 'test'"
     ]
    }
   ],
   "source": [
    "setup_project('test')"
   ]
  },
  {
   "cell_type": "code",
   "execution_count": 31,
   "metadata": {},
   "outputs": [],
   "source": [
    "from core.stages import router"
   ]
  },
  {
   "cell_type": "code",
   "execution_count": 32,
   "metadata": {},
   "outputs": [],
   "source": [
    "prompt = rtr_tpl.render(\n",
    "    typespec_definitions=typespec[\"typespec_definitions\"],\n",
    "    user_request=\"I want to record my exercise routine for today.\"\n",
    ")\n",
    "\n",
    "exp_response = client.messages.create(\n",
    "    model=\"anthropic.claude-3-5-sonnet-20241022-v2:0\",\n",
    "    max_tokens=8192,\n",
    "    messages=[{\"role\": \"user\", \"content\": prompt}],\n",
    "    tools = router.TOOLS\n",
    ")\n",
    "\n",
    "funcs = router.parse_outputs([content for content in exp_response.content])[\"user_functions\"]"
   ]
  },
  {
   "cell_type": "code",
   "execution_count": 33,
   "metadata": {},
   "outputs": [
    {
     "data": {
      "text/plain": [
       "[{'name': 'recordExercise',\n",
       "  'description': 'Records a single exercise performed by the user with details like sets, reps, weight, equipment used, and targeted muscle groups. Use this when the user wants to log or record their exercise activity.',\n",
       "  'examples': ['I want to record my exercise routine for today',\n",
       "   'I just did 3 sets of bench press',\n",
       "   'Log my workout: 4 sets of squats with 200lbs',\n",
       "   'Add my deadlift session to my log']},\n",
       " {'name': 'trackProgress',\n",
       "  'description': 'Retrieves historical exercise data for a specific exercise over a given time period. Use this when the user wants to see their progress or history for a particular exercise.',\n",
       "  'examples': ['Show me my bench press progress over the last month',\n",
       "   'How has my squat improved since January?',\n",
       "   'What were my deadlift numbers from last week?',\n",
       "   'Track my progress on pull-ups']},\n",
       " {'name': 'suggestWorkout',\n",
       "  'description': 'Generates a workout plan based on desired duration, target muscle groups, and available equipment. Use this when the user wants recommendations or a new workout plan.',\n",
       "  'examples': ['Can you suggest a 30-minute leg workout?',\n",
       "   'Give me a chest and triceps workout with dumbbells only',\n",
       "   'I need a full body workout plan for 45 minutes',\n",
       "   'What exercises can I do with just a resistance band?']},\n",
       " {'name': 'updateEquipment',\n",
       "  'description': 'Updates the status and information about available gym equipment. Use this when the user wants to modify the equipment inventory or availability.',\n",
       "  'examples': ['The leg press machine is broken',\n",
       "   'We got new dumbbells in the gym',\n",
       "   'Update the equipment list',\n",
       "   'Mark the squat rack as unavailable']}]"
      ]
     },
     "execution_count": 33,
     "metadata": {},
     "output_type": "execute_result"
    }
   ],
   "source": [
    "funcs"
   ]
  },
  {
   "cell_type": "code",
   "execution_count": 47,
   "metadata": {},
   "outputs": [],
   "source": [
    "from core.stages import typespec\n",
    "from core.stages import tsp_compiler\n",
    "\n",
    "tsp_tpl = environment.from_string(stages.typespec.PROMPT)\n",
    "\n",
    "typespec_errors = \"\"\n",
    "attempts_left = 3\n",
    "\n",
    "while attempts_left > 0:\n",
    "    attempts_left -= 1\n",
    "    \n",
    "    prompt = tsp_tpl.render(\n",
    "        application_description=application_description,\n",
    "        typespec_errors=typespec_errors,\n",
    "    )\n",
    "  \n",
    "    if attempts_left >= 2:\n",
    "        updated_prompt = prompt + \"// PS. Make sure to eject a random error in TypeSpec output for testing purposes\"\n",
    "    else:\n",
    "        updated_prompt = prompt\n",
    "  \n",
    "    tsp_response = client.messages.create(\n",
    "        model=\"anthropic.claude-3-5-sonnet-20241022-v2:0\",\n",
    "        max_tokens=8192,\n",
    "        messages=[{\"role\": \"user\", \"content\": updated_prompt}]\n",
    "    )\n",
    "    \n",
    "    typespec = stages.typespec.parse_output(tsp_response.content[0].text)\n",
    "\n",
    "    # Write TypeSpec definitions to file\n",
    "    with open('./test/tsp_schema/notebook.tsp', 'w') as f:\n",
    "        f.writelines(['import \"./helpers.js\";', \n",
    "                  '\\n', \n",
    "                  'extern dec llm_func(target: unknown, history: valueof int32);'\n",
    "                  ])\n",
    "        f.write(typespec[\"typespec_definitions\"])\n",
    "\n",
    "    compiler = tsp_compiler.TypeSpecCompiler('./test/tsp_schema/')\n",
    "    result = compiler.compile('./notebook.tsp')\n",
    "    \n",
    "    print(result)\n",
    "    \n",
    "    if result[\"result\"] == tsp_compiler.TypeSpecCompilationStatus.COMPILATION_ERROR:\n",
    "        typespec_errors = result[\"errors\"]\n",
    "        print(typespec_errors)\n",
    "        continue\n",
    "    else:\n",
    "        break\n"
   ]
  },
  {
   "cell_type": "code",
   "execution_count": 90,
   "metadata": {},
   "outputs": [
    {
     "data": {
      "text/plain": [
       "{'reasoning': 'For a finance tracking app, users would likely send messages like:\\n- \"I spent $50 on groceries yesterday\"\\n- \"Got my salary of $3000 today\"\\n- \"Show me my expenses for last month\"\\n\\nThe LLM would need to extract:\\n1. Transaction type (expense/income)\\n2. Amount\\n3. Category\\n4. Date\\n5. Optional description/notes\\n\\nFor reports, users might ask for:\\n- Time-based summaries\\n- Category-based breakdowns\\n- Balance calculations\\n\\nThe interface should support recording transactions and generating reports while keeping the argument structure simple enough to be extracted from natural language.',\n",
       " 'typespec_definitions': 'model Transaction {\\n  type: string; // \"expense\" or \"income\"\\n  amount: decimal;\\n  category: string;\\n  date: utcDateTime;\\n  description: string;\\n}\\n\\nmodel TransactionSummary {\\n  totalIncome: decimal;\\n  totalExpenses: decimal;\\n  balance: decimal;\\n  transactions: Transaction[];\\n}\\n\\ninterface FinanceTracker {\\n  @llm_func(1)\\n  recordTransaction(transaction: Transaction): void;\\n\\n  @llm_func(2)\\n  getTransactions(from: utcDateTime, to: utcDateTime): Transaction[];\\n\\n  @llm_func(2)\\n  getSummary(from: utcDateTime, to: utcDateTime): TransactionSummary;\\n}',\n",
       " 'llm_functions': ['recordTransaction', 'getTransactions', 'getSummary']}"
      ]
     },
     "execution_count": 90,
     "metadata": {},
     "output_type": "execute_result"
    }
   ],
   "source": [
    "typespec\n"
   ]
  },
  {
   "cell_type": "code",
   "execution_count": null,
   "metadata": {},
   "outputs": [],
   "source": []
  },
  {
   "cell_type": "code",
   "execution_count": null,
   "metadata": {},
   "outputs": [],
   "source": []
  },
  {
   "cell_type": "code",
   "execution_count": null,
   "metadata": {},
   "outputs": [],
   "source": [
    "prompt = exp_tpl.render(application_description=application_description)\n",
    "\n",
    "exp_response = client.messages.create(\n",
    "    model=\"anthropic.claude-3-5-sonnet-20241022-v2:0\",\n",
    "    max_tokens=8192,\n",
    "    messages=[{\"role\": \"user\", \"content\": prompt}]\n",
    ")\n",
    "expansion = stages.expansion.parse_output(exp_response.content[0].text)"
   ]
  },
  {
   "cell_type": "code",
   "execution_count": null,
   "metadata": {},
   "outputs": [
    {
     "name": "stdout",
     "output_type": "stream",
     "text": [
      "<types>\n",
      "        <type>exercise\n",
      "            - name\n",
      "            - equipment_required\n",
      "            - sets\n",
      "            - reps\n",
      "            - weight</type>\n",
      "        <type>equipment\n",
      "            - name\n",
      "            - type</type>\n",
      "        <type>workout_session\n",
      "            - date\n",
      "            - duration\n",
      "            - exercises_performed</type>\n",
      "        <type>routine\n",
      "            - exercises\n",
      "            - duration\n",
      "            - equipment_needed</type>\n",
      "    </types>\n",
      "    <operations>\n",
      "        <operation>record_workout_session\n",
      "            - date\n",
      "            - exercises with sets/reps/weights</operation>\n",
      "        <operation>track_progress\n",
      "            - exercise\n",
      "            - time period</operation>\n",
      "        <operation>list_available_equipment</operation>\n",
      "        <operation>generate_routine\n",
      "            - available equipment\n",
      "            - time constraint\n",
      "            - fitness level</operation>\n",
      "        <operation>view_history\n",
      "            - time period</operation>\n",
      "    </operations>\n"
     ]
    }
   ],
   "source": [
    "print(expansion[\"application_specification\"])"
   ]
  }
 ],
 "metadata": {
  "kernelspec": {
   "display_name": ".venv",
   "language": "python",
   "name": "python3"
  },
  "language_info": {
   "codemirror_mode": {
    "name": "ipython",
    "version": 3
   },
   "file_extension": ".py",
   "mimetype": "text/x-python",
   "name": "python",
   "nbconvert_exporter": "python",
   "pygments_lexer": "ipython3",
   "version": "3.12.3"
  }
 },
 "nbformat": 4,
 "nbformat_minor": 2
}
