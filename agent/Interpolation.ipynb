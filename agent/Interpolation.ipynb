{
 "cells": [
  {
   "cell_type": "code",
   "execution_count": 143,
   "metadata": {},
   "outputs": [
    {
     "name": "stdout",
     "output_type": "stream",
     "text": [
      "The autoreload extension is already loaded. To reload it, use:\n",
      "  %reload_ext autoreload\n"
     ]
    }
   ],
   "source": [
    "%load_ext autoreload\n",
    "%autoreload 2"
   ]
  },
  {
   "cell_type": "code",
   "execution_count": 144,
   "metadata": {},
   "outputs": [],
   "source": [
    "import jinja2\n",
    "from anthropic import AnthropicBedrock\n",
    "from core import stages\n",
    "import json\n"
   ]
  },
  {
   "cell_type": "code",
   "execution_count": 145,
   "metadata": {},
   "outputs": [],
   "source": [
    "client = AnthropicBedrock(aws_profile=\"dev\", aws_region=\"us-west-2\")"
   ]
  },
  {
   "cell_type": "code",
   "execution_count": 146,
   "metadata": {},
   "outputs": [],
   "source": [
    "environment = jinja2.Environment()"
   ]
  },
  {
   "cell_type": "code",
   "execution_count": 147,
   "metadata": {},
   "outputs": [],
   "source": [
    "tsp_tpl = environment.from_string(stages.typespec.PROMPT)\n",
    "dzl_tpl = environment.from_string(stages.drizzle.PROMPT)\n",
    "rtr_tpl = environment.from_string(stages.router.PROMPT)\n",
    "hdl_tpl = environment.from_string(stages.handlers.PROMPT)\n",
    "pre_tpl = environment.from_string(stages.processors.PROMPT_PRE)"
   ]
  },
  {
   "cell_type": "code",
   "execution_count": 148,
   "metadata": {},
   "outputs": [],
   "source": [
    "application_description = \"\"\"\n",
    "Bot that tracks my exercise routine in the gym, tracks progress and suggests new routines\n",
    "for specific list of available equipment and time constraints.\n",
    "\"\"\".strip()"
   ]
  },
  {
   "cell_type": "code",
   "execution_count": 173,
   "metadata": {},
   "outputs": [
    {
     "data": {
      "text/plain": [
       "'./app_output'"
      ]
     },
     "execution_count": 173,
     "metadata": {},
     "output_type": "execute_result"
    }
   ],
   "source": [
    "from shutil import copytree, ignore_patterns\n",
    "\n",
    "\n",
    "copytree('./templates/', './app_output', ignore=ignore_patterns('*.pyc', '__pycache__')) # 'node_modules'\n"
   ]
  },
  {
   "cell_type": "code",
   "execution_count": 149,
   "metadata": {},
   "outputs": [],
   "source": [
    "prompt = tsp_tpl.render(\n",
    "    application_description=application_description,\n",
    ")\n",
    "\n",
    "tsp_response = client.messages.create(\n",
    "    model=\"anthropic.claude-3-5-sonnet-20241022-v2:0\",\n",
    "    max_tokens=8192,\n",
    "    messages=[{\"role\": \"user\", \"content\": prompt}]\n",
    ")\n",
    "typespec = stages.typespec.parse_output(tsp_response.content[0].text)"
   ]
  },
  {
   "cell_type": "code",
   "execution_count": 150,
   "metadata": {},
   "outputs": [
    {
     "data": {
      "text/plain": [
       "{'reasoning': 'For a gym tracking bot, I expect users to send messages like:\\n\"I did 3 sets of bench press with 80kg today\" or \\n\"Plan me a 45-minute workout for chest using dumbbells and bench\"\\n\\nKey functions needed:\\n1. Record workout sessions with exercises, sets, reps, and weights\\n2. Plan new routines based on available equipment and time\\n3. Track progress over time\\n\\nThe LLM can extract:\\n- Exercise details from free-form text\\n- Available equipment from user descriptions\\n- Time constraints for workout planning\\n- Progress tracking periods\\n\\nEquipment and exercises need to be predefined to ensure consistency in tracking.',\n",
       " 'typespec_definitions': 'model Exercise {\\n  name: string;\\n  sets: integer;\\n  reps: integer;\\n  weight: float;\\n  notes: string;\\n}\\n\\nmodel WorkoutSession {\\n  date: utcDateTime;\\n  duration: duration;\\n  exercises: Exercise[];\\n}\\n\\nmodel Equipment {\\n  name: string;\\n  category: string;\\n}\\n\\nmodel WorkoutPlan {\\n  targetDuration: duration;\\n  exercises: Exercise[];\\n  equipment: Equipment[];\\n}\\n\\ninterface GymBot {\\n  @llm_func(2)\\n  recordWorkout(workout: WorkoutSession): void;\\n\\n  @llm_func(3)\\n  planWorkout(duration: duration, equipment: Equipment[]): WorkoutPlan;\\n\\n  @llm_func(1)\\n  trackProgress(exerciseName: string, from: utcDateTime, to: utcDateTime): Exercise[];\\n}',\n",
       " 'llm_functions': ['recordWorkout', 'planWorkout', 'trackProgress']}"
      ]
     },
     "execution_count": 150,
     "metadata": {},
     "output_type": "execute_result"
    }
   ],
   "source": [
    "typespec"
   ]
  },
  {
   "cell_type": "code",
   "execution_count": 151,
   "metadata": {},
   "outputs": [
    {
     "name": "stdout",
     "output_type": "stream",
     "text": [
      "For a gym tracking bot, I expect users to send messages like:\n",
      "\"I did 3 sets of bench press with 80kg today\" or \n",
      "\"Plan me a 45-minute workout for chest using dumbbells and bench\"\n",
      "\n",
      "Key functions needed:\n",
      "1. Record workout sessions with exercises, sets, reps, and weights\n",
      "2. Plan new routines based on available equipment and time\n",
      "3. Track progress over time\n",
      "\n",
      "The LLM can extract:\n",
      "- Exercise details from free-form text\n",
      "- Available equipment from user descriptions\n",
      "- Time constraints for workout planning\n",
      "- Progress tracking periods\n",
      "\n",
      "Equipment and exercises need to be predefined to ensure consistency in tracking.\n"
     ]
    }
   ],
   "source": [
    "print(typespec[\"reasoning\"])"
   ]
  },
  {
   "cell_type": "code",
   "execution_count": 152,
   "metadata": {},
   "outputs": [
    {
     "name": "stdout",
     "output_type": "stream",
     "text": [
      "model Exercise {\n",
      "  name: string;\n",
      "  sets: integer;\n",
      "  reps: integer;\n",
      "  weight: float;\n",
      "  notes: string;\n",
      "}\n",
      "\n",
      "model WorkoutSession {\n",
      "  date: utcDateTime;\n",
      "  duration: duration;\n",
      "  exercises: Exercise[];\n",
      "}\n",
      "\n",
      "model Equipment {\n",
      "  name: string;\n",
      "  category: string;\n",
      "}\n",
      "\n",
      "model WorkoutPlan {\n",
      "  targetDuration: duration;\n",
      "  exercises: Exercise[];\n",
      "  equipment: Equipment[];\n",
      "}\n",
      "\n",
      "interface GymBot {\n",
      "  @llm_func(2)\n",
      "  recordWorkout(workout: WorkoutSession): void;\n",
      "\n",
      "  @llm_func(3)\n",
      "  planWorkout(duration: duration, equipment: Equipment[]): WorkoutPlan;\n",
      "\n",
      "  @llm_func(1)\n",
      "  trackProgress(exerciseName: string, from: utcDateTime, to: utcDateTime): Exercise[];\n",
      "}\n"
     ]
    }
   ],
   "source": [
    "print(typespec[\"typespec_definitions\"])"
   ]
  },
  {
   "cell_type": "code",
   "execution_count": 153,
   "metadata": {},
   "outputs": [],
   "source": [
    "prompt = dzl_tpl.render(\n",
    "    typespec_definitions=typespec[\"typespec_definitions\"],\n",
    ")\n",
    "\n",
    "dzl_response = client.messages.create(\n",
    "    model=\"anthropic.claude-3-5-sonnet-20241022-v2:0\",\n",
    "    max_tokens=8192,\n",
    "    messages=[{\"role\": \"user\", \"content\": prompt}]\n",
    ")\n",
    "drizzle = stages.drizzle.parse_output(dzl_response.content[0].text)"
   ]
  },
  {
   "cell_type": "code",
   "execution_count": 154,
   "metadata": {},
   "outputs": [
    {
     "name": "stdout",
     "output_type": "stream",
     "text": [
      "import { serial, text, integer, real, timestamp, pgTable, primaryKey } from \"drizzle-orm/pg-core\";\n",
      "\n",
      "export const exercisesTable = pgTable(\"exercises\", {\n",
      "  id: serial(\"id\").primaryKey(),\n",
      "  name: text(\"name\").notNull(),\n",
      "  sets: integer(\"sets\").notNull(),\n",
      "  reps: integer(\"reps\").notNull(),\n",
      "  weight: real(\"weight\").notNull(),\n",
      "  notes: text(\"notes\"),\n",
      "});\n",
      "\n",
      "export const equipmentTable = pgTable(\"equipment\", {\n",
      "  id: serial(\"id\").primaryKey(),\n",
      "  name: text(\"name\").notNull(),\n",
      "  category: text(\"category\").notNull(),\n",
      "});\n",
      "\n",
      "export const workoutSessionsTable = pgTable(\"workout_sessions\", {\n",
      "  id: serial(\"id\").primaryKey(),\n",
      "  date: timestamp(\"date\").notNull(),\n",
      "  duration_minutes: integer(\"duration_minutes\").notNull(),\n",
      "});\n",
      "\n",
      "export const workoutPlansTable = pgTable(\"workout_plans\", {\n",
      "  id: serial(\"id\").primaryKey(),\n",
      "  target_duration_minutes: integer(\"target_duration_minutes\").notNull(),\n",
      "});\n",
      "\n",
      "// Junction table for workout_sessions and exercises\n",
      "export const sessionExercisesTable = pgTable(\"session_exercises\", {\n",
      "  session_id: integer(\"session_id\")\n",
      "    .references(() => workoutSessionsTable.id),\n",
      "  exercise_id: integer(\"exercise_id\")\n",
      "    .references(() => exercisesTable.id),\n",
      "}, (table) => ({\n",
      "  pk: primaryKey(table.session_id, table.exercise_id),\n",
      "}));\n",
      "\n",
      "// Junction table for workout_plans and exercises\n",
      "export const planExercisesTable = pgTable(\"plan_exercises\", {\n",
      "  plan_id: integer(\"plan_id\")\n",
      "    .references(() => workoutPlansTable.id),\n",
      "  exercise_id: integer(\"exercise_id\")\n",
      "    .references(() => exercisesTable.id),\n",
      "}, (table) => ({\n",
      "  pk: primaryKey(table.plan_id, table.exercise_id),\n",
      "}));\n",
      "\n",
      "// Junction table for workout_plans and equipment\n",
      "export const planEquipmentTable = pgTable(\"plan_equipment\", {\n",
      "  plan_id: integer(\"plan_id\")\n",
      "    .references(() => workoutPlansTable.id),\n",
      "  equipment_id: integer(\"equipment_id\")\n",
      "    .references(() => equipmentTable.id),\n",
      "}, (table) => ({\n",
      "  pk: primaryKey(table.plan_id, table.equipment_id),\n",
      "}));\n"
     ]
    }
   ],
   "source": [
    "print(drizzle[\"drizzle_schema\"])"
   ]
  },
  {
   "cell_type": "code",
   "execution_count": 155,
   "metadata": {},
   "outputs": [],
   "source": [
    "prompt = rtr_tpl.render(\n",
    "    typespec_definitions=typespec[\"typespec_definitions\"],\n",
    "    user_request=\"I want to record my exercise routine for today.\"\n",
    ")\n",
    "\n",
    "exp_response = client.messages.create(\n",
    "    model=\"anthropic.claude-3-5-sonnet-20241022-v2:0\",\n",
    "    max_tokens=8192,\n",
    "    messages=[{\"role\": \"user\", \"content\": prompt}],\n",
    "    tools = stages.router.TOOLS\n",
    ")\n",
    "\n",
    "funcs = stages.router.parse_outputs([content for content in exp_response.content])[\"user_functions\"]\n"
   ]
  },
  {
   "cell_type": "code",
   "execution_count": 156,
   "metadata": {},
   "outputs": [
    {
     "data": {
      "text/plain": [
       "[{'name': 'recordWorkout',\n",
       "  'description': 'Records a complete workout session including exercises performed, their details (sets, reps, weight), duration, and date. Use when user wants to log or save their workout/exercise activities.',\n",
       "  'examples': ['I want to record my exercise routine for today',\n",
       "   'Let me log my workout from this morning',\n",
       "   'I did 3 sets of bench press with 10 reps each at 150 pounds',\n",
       "   'Save my gym session: 30 minutes cardio and weight training']},\n",
       " {'name': 'planWorkout',\n",
       "  'description': 'Creates a workout plan based on specified duration and available equipment. Use when user wants suggestions or a plan for their workout.',\n",
       "  'examples': ['Can you create a 45-minute workout plan for me?',\n",
       "   'Plan a workout routine using dumbbells and a bench',\n",
       "   'I need a workout plan for my home gym equipment',\n",
       "   'Make me an exercise plan for 1 hour using basic equipment']},\n",
       " {'name': 'trackProgress',\n",
       "  'description': 'Retrieves historical exercise data for a specific exercise within a date range. Use when user wants to see their progress or history for particular exercises.',\n",
       "  'examples': ['Show me my bench press progress over the last month',\n",
       "   'How has my deadlift improved since January?',\n",
       "   'Track my squat performance from last week',\n",
       "   \"What's my progress on pull-ups this year?\"]}]"
      ]
     },
     "execution_count": 156,
     "metadata": {},
     "output_type": "execute_result"
    }
   ],
   "source": [
    "funcs"
   ]
  },
  {
   "cell_type": "code",
   "execution_count": 157,
   "metadata": {},
   "outputs": [],
   "source": [
    "pre_processors = {}\n",
    "for function_name in typespec[\"llm_functions\"]:\n",
    "    prompt = pre_tpl.render(\n",
    "        function_name=function_name,\n",
    "        typespec_definitions=typespec[\"typespec_definitions\"],\n",
    "    )\n",
    "\n",
    "    pre_response = client.messages.create(\n",
    "        model=\"anthropic.claude-3-5-sonnet-20241022-v2:0\",\n",
    "        max_tokens=8192,\n",
    "        messages=[{\"role\": \"user\", \"content\": prompt}]\n",
    "    )\n",
    "    pre_processor = stages.processors.parse_output(pre_response.content[0].text)\n",
    "    pre_processors[function_name] = pre_processor"
   ]
  },
  {
   "cell_type": "code",
   "execution_count": 158,
   "metadata": {},
   "outputs": [
    {
     "name": "stdout",
     "output_type": "stream",
     "text": [
      "<instructions>\n",
      "The trackProgress function requires three arguments:\n",
      "1. exerciseName: A string representing the exercise to track (required)\n",
      "2. from: A UTC datetime marking the start of tracking period\n",
      "3. to: A UTC datetime marking the end of tracking period\n",
      "\n",
      "If dates are not specified, default to:\n",
      "- 'to' = current datetime\n",
      "- 'from' = 30 days before 'to'\n",
      "\n",
      "Convert natural language exercise names to standard names (e.g., \"bench\" → \"bench press\")\n",
      "</instructions>\n",
      "\n",
      "<examples>\n",
      "    <example>\n",
      "        <input>Show my bench press progress</input>\n",
      "        <output>{\n",
      "            \"exerciseName\": \"bench press\",\n",
      "            \"from\": \"2024-01-15T00:00:00Z\",\n",
      "            \"to\": \"2024-02-14T00:00:00Z\"\n",
      "        }</output>\n",
      "    </example>\n",
      "\n",
      "    <example>\n",
      "        <input>Track my squats from January 1st</input>\n",
      "        <output>{\n",
      "            \"exerciseName\": \"squats\",\n",
      "            \"from\": \"2024-01-01T00:00:00Z\",\n",
      "            \"to\": \"2024-02-14T00:00:00Z\"\n",
      "        }</output>\n",
      "    </example>\n",
      "\n",
      "    <example>\n",
      "        <input>How did my deadlifts progress between Dec 1 2023 and Jan 31 2024</input>\n",
      "        <output>{\n",
      "            \"exerciseName\": \"deadlift\",\n",
      "            \"from\": \"2023-12-01T00:00:00Z\",\n",
      "            \"to\": \"2024-01-31T23:59:59Z\"\n",
      "        }</output>\n",
      "    </example>\n",
      "\n",
      "    <example>\n",
      "        <input>Progress on pull-ups last week</input>\n",
      "        <output>{\n",
      "            \"exerciseName\": \"pull-ups\",\n",
      "            \"from\": \"2024-02-07T00:00:00Z\",\n",
      "            \"to\": \"2024-02-14T00:00:00Z\"\n",
      "        }</output>\n",
      "    </example>\n",
      "\n",
      "    <example>\n",
      "        <input>Compare my shoulder press during December</input>\n",
      "        <output>{\n",
      "            \"exerciseName\": \"shoulder press\",\n",
      "            \"from\": \"2023-12-01T00:00:00Z\",\n",
      "            \"to\": \"2023-12-31T23:59:59Z\"\n",
      "        }</output>\n",
      "    </example>\n",
      "</examples>\n"
     ]
    }
   ],
   "source": [
    "print(pre_response.content[0].text)"
   ]
  },
  {
   "cell_type": "code",
   "execution_count": 159,
   "metadata": {},
   "outputs": [
    {
     "data": {
      "text/plain": [
       "{'recordWorkout': {'instructions': 'For recordWorkout function:\\n- Date defaults to current timestamp if not specified\\n- Duration should be parsed from explicit mentions or estimated based on exercise count (approximately 3-5 minutes per exercise)\\n- Exercise entries require at minimum: name and either sets/reps or total count\\n- Weight is optional and can be in kg or lbs (default to kg if not specified)\\n- Notes field can capture additional context or form details\\n- Multiple exercises can be included in a single workout session',\n",
       "  'examples': [('Just finished bench press, 3 sets of 8 reps at 80kg, felt strong today',\n",
       "    '{\\n  \"workout\": {\\n    \"date\": \"2024-01-20T14:30:00Z\",\\n    \"duration\": \"PT15M\",\\n    \"exercises\": [{\\n      \"name\": \"bench press\",\\n      \"sets\": 3,\\n      \"reps\": 8,\\n      \"weight\": 80.0,\\n      \"notes\": \"felt strong today\"\\n    }]\\n  }\\n}'),\n",
       "   ('Completed full body workout: squats 5x5 100kg, deadlifts 3x5 120kg, pulled my back a bit',\n",
       "    '{\\n  \"workout\": {\\n    \"date\": \"2024-01-20T14:30:00Z\",\\n    \"duration\": \"PT30M\",\\n    \"exercises\": [{\\n      \"name\": \"squats\",\\n      \"sets\": 5,\\n      \"reps\": 5,\\n      \"weight\": 100.0,\\n      \"notes\": \"\"\\n    },\\n    {\\n      \"name\": \"deadlifts\",\\n      \"sets\": 3,\\n      \"reps\": 5,\\n      \"weight\": 120.0,\\n      \"notes\": \"pulled my back a bit\"\\n    }]\\n  }\\n}'),\n",
       "   ('Did 50 pushups and 30 bodyweight squats this morning',\n",
       "    '{\\n  \"workout\": {\\n    \"date\": \"2024-01-20T08:00:00Z\",\\n    \"duration\": \"PT10M\",\\n    \"exercises\": [{\\n      \"name\": \"pushups\",\\n      \"sets\": 1,\\n      \"reps\": 50,\\n      \"weight\": 0.0,\\n      \"notes\": \"bodyweight exercise\"\\n    },\\n    {\\n      \"name\": \"bodyweight squats\",\\n      \"sets\": 1,\\n      \"reps\": 30,\\n      \"weight\": 0.0,\\n      \"notes\": \"bodyweight exercise\"\\n    }]\\n  }\\n}')]},\n",
       " 'planWorkout': {'instructions': 'For planWorkout function:\\n1. Duration should be parsed from time expressions (e.g., \"30 minutes\", \"1 hour\", \"45 mins\")\\n2. Equipment should be extracted from mentioned gym equipment or exercise types\\n3. If duration is not specified, default to 60 minutes\\n4. Equipment array should never be empty - include at least basic gym equipment if not specified\\n5. Equipment category should be one of: \"cardio\", \"weights\", \"bodyweight\", \"machines\"',\n",
       "  'examples': [('Plan me a quick 30 min workout with dumbbells',\n",
       "    '\\n{\\n    \"duration\": \"PT30M\",\\n    \"equipment\": [\\n        {\\n            \"name\": \"dumbbells\",\\n            \"category\": \"weights\"\\n        }\\n    ]\\n}\\n        '),\n",
       "   ('I want to work out using the treadmill and rowing machine',\n",
       "    '\\n{\\n    \"duration\": \"PT60M\",\\n    \"equipment\": [\\n        {\\n            \"name\": \"treadmill\",\\n            \"category\": \"cardio\"\\n        },\\n        {\\n            \"name\": \"rowing machine\",\\n            \"category\": \"cardio\"\\n        }\\n    ]\\n}\\n        '),\n",
       "   ('Create a 45 minute workout plan using the squat rack and bench press',\n",
       "    '\\n{\\n    \"duration\": \"PT45M\",\\n    \"equipment\": [\\n        {\\n            \"name\": \"squat rack\",\\n            \"category\": \"weights\"\\n        },\\n        {\\n            \"name\": \"bench press\",\\n            \"category\": \"weights\"\\n        },\\n        {\\n            \"name\": \"barbell\",\\n            \"category\": \"weights\"\\n        }\\n    ]\\n}\\n        '),\n",
       "   ('Give me a 2 hour full body workout',\n",
       "    '\\n{\\n    \"duration\": \"PT2H\",\\n    \"equipment\": [\\n        {\\n            \"name\": \"barbell\",\\n            \"category\": \"weights\"\\n        },\\n        {\\n            \"name\": \"dumbbells\",\\n            \"category\": \"weights\"\\n        },\\n        {\\n            \"name\": \"cable machine\",\\n            \"category\": \"machines\"\\n        },\\n        {\\n            \"name\": \"pull-up bar\",\\n            \"category\": \"bodyweight\"\\n        }\\n    ]\\n}\\n        ')]},\n",
       " 'trackProgress': {'instructions': 'The trackProgress function requires three arguments:\\n1. exerciseName: A string representing the exercise to track (required)\\n2. from: A UTC datetime marking the start of tracking period\\n3. to: A UTC datetime marking the end of tracking period\\n\\nIf dates are not specified, default to:\\n- \\'to\\' = current datetime\\n- \\'from\\' = 30 days before \\'to\\'\\n\\nConvert natural language exercise names to standard names (e.g., \"bench\" → \"bench press\")',\n",
       "  'examples': [('Show my bench press progress',\n",
       "    '{\\n            \"exerciseName\": \"bench press\",\\n            \"from\": \"2024-01-15T00:00:00Z\",\\n            \"to\": \"2024-02-14T00:00:00Z\"\\n        }'),\n",
       "   ('Track my squats from January 1st',\n",
       "    '{\\n            \"exerciseName\": \"squats\",\\n            \"from\": \"2024-01-01T00:00:00Z\",\\n            \"to\": \"2024-02-14T00:00:00Z\"\\n        }'),\n",
       "   ('How did my deadlifts progress between Dec 1 2023 and Jan 31 2024',\n",
       "    '{\\n            \"exerciseName\": \"deadlift\",\\n            \"from\": \"2023-12-01T00:00:00Z\",\\n            \"to\": \"2024-01-31T23:59:59Z\"\\n        }'),\n",
       "   ('Progress on pull-ups last week',\n",
       "    '{\\n            \"exerciseName\": \"pull-ups\",\\n            \"from\": \"2024-02-07T00:00:00Z\",\\n            \"to\": \"2024-02-14T00:00:00Z\"\\n        }'),\n",
       "   ('Compare my shoulder press during December',\n",
       "    '{\\n            \"exerciseName\": \"shoulder press\",\\n            \"from\": \"2023-12-01T00:00:00Z\",\\n            \"to\": \"2023-12-31T23:59:59Z\"\\n        }')]}}"
      ]
     },
     "execution_count": 159,
     "metadata": {},
     "output_type": "execute_result"
    }
   ],
   "source": [
    "pre_processors"
   ]
  },
  {
   "cell_type": "code",
   "execution_count": 160,
   "metadata": {},
   "outputs": [],
   "source": [
    "handlers = {}\n",
    "for function_name in typespec[\"llm_functions\"]:\n",
    "    prompt = hdl_tpl.render(\n",
    "        function_name=function_name,\n",
    "        typespec_definitions=typespec[\"typespec_definitions\"],\n",
    "        drizzle_schema=drizzle[\"drizzle_schema\"],\n",
    "    )\n",
    "\n",
    "    hdl_response = client.messages.create(\n",
    "        model=\"anthropic.claude-3-5-sonnet-20241022-v2:0\",\n",
    "        max_tokens=8192,\n",
    "        messages=[{\"role\": \"user\", \"content\": prompt}]\n",
    "    )\n",
    "    handlers[function_name] = stages.handlers.parse_output(hdl_response.content[0].text)\n"
   ]
  },
  {
   "cell_type": "code",
   "execution_count": 184,
   "metadata": {},
   "outputs": [
    {
     "data": {
      "text/plain": [
       "{'recordWorkout': {'handler': 'import { db } from \"../db\";\\nimport { \\n    workoutSessionsTable, \\n    exercisesTable, \\n    sessionExercisesTable \\n} from \\'../db/schema/application\\';\\n\\nconst handle = async (workout: WorkoutSession): Promise<void> => {\\n    // Insert the workout session\\n    const [workoutSession] = await db\\n        .insert(workoutSessionsTable)\\n        .values({\\n            date: workout.date,\\n            duration_minutes: Math.floor(workout.duration / 60), // Convert duration to minutes\\n        })\\n        .returning({ id: workoutSessionsTable.id });\\n\\n    // Insert exercises and create session-exercise relationships\\n    for (const exercise of workout.exercises) {\\n        // Insert the exercise\\n        const [newExercise] = await db\\n            .insert(exercisesTable)\\n            .values({\\n                name: exercise.name,\\n                sets: exercise.sets,\\n                reps: exercise.reps,\\n                weight: exercise.weight,\\n                notes: exercise.notes,\\n            })\\n            .returning({ id: exercisesTable.id });\\n\\n        // Create relationship between session and exercise\\n        await db\\n            .insert(sessionExercisesTable)\\n            .values({\\n                session_id: workoutSession.id,\\n                exercise_id: newExercise.id,\\n            });\\n    }\\n};',\n",
       "  'module_name': 'record_workout_handler_debug'},\n",
       " 'planWorkout': {'handler': 'import { db } from \"../db\";\\nimport { \\n    workoutPlansTable, \\n    planExercisesTable, \\n    planEquipmentTable,\\n    exercisesTable,\\n    equipmentTable \\n} from \\'../db/schema/application\\';\\nimport { eq } from \\'drizzle-orm\\';\\n\\nconst handle = async (duration: number, equipment: { name: string, category: string }[]): Promise<{\\n    targetDuration: number,\\n    exercises: Array<{\\n        name: string,\\n        sets: number,\\n        reps: number,\\n        weight: number,\\n        notes: string\\n    }>,\\n    equipment: Array<{\\n        name: string,\\n        category: string\\n    }>\\n}> => {\\n    // Create the workout plan\\n    const [workoutPlan] = await db\\n        .insert(workoutPlansTable)\\n        .values({\\n            target_duration_minutes: duration\\n        })\\n        .returning();\\n\\n    // Insert or get equipment IDs\\n    const equipmentIds = await Promise.all(\\n        equipment.map(async (eq) => {\\n            const [existingEquipment] = await db\\n                .select()\\n                .from(equipmentTable)\\n                .where(eq(equipmentTable.name, eq.name))\\n                .limit(1);\\n\\n            if (existingEquipment) {\\n                return existingEquipment.id;\\n            }\\n\\n            const [newEquipment] = await db\\n                .insert(equipmentTable)\\n                .values({\\n                    name: eq.name,\\n                    category: eq.category\\n                })\\n                .returning();\\n\\n            return newEquipment.id;\\n        })\\n    );\\n\\n    // Link equipment to the workout plan\\n    await Promise.all(\\n        equipmentIds.map((equipmentId) =>\\n            db.insert(planEquipmentTable)\\n                .values({\\n                    plan_id: workoutPlan.id,\\n                    equipment_id: equipmentId\\n                })\\n        )\\n    );\\n\\n    // Fetch all related equipment\\n    const planEquipment = await db\\n        .select({\\n            name: equipmentTable.name,\\n            category: equipmentTable.category\\n        })\\n        .from(equipmentTable)\\n        .innerJoin(planEquipmentTable, eq(planEquipmentTable.equipment_id, equipmentTable.id))\\n        .where(eq(planEquipmentTable.plan_id, workoutPlan.id));\\n\\n    // For this example, returning an empty exercises array as exercises should be determined by LLM\\n    const exercises: Array<{\\n        name: string,\\n        sets: number,\\n        reps: number,\\n        weight: number,\\n        notes: string\\n    }> = [];\\n\\n    return {\\n        targetDuration: workoutPlan.target_duration_minutes,\\n        exercises,\\n        equipment: planEquipment\\n    };\\n};',\n",
       "  'module_name': 'plan_workout_handler_debug'},\n",
       " 'trackProgress': {'handler': 'import { db } from \"../db\";\\nimport { exercisesTable, sessionExercisesTable, workoutSessionsTable } from \\'../db/schema/application\\';\\nimport { eq, and, between } from \\'drizzle-orm\\';\\n\\nconst handle = async (exerciseName: string, from: Date, to: Date) => {\\n    const exercises = await db\\n        .select({\\n            name: exercisesTable.name,\\n            sets: exercisesTable.sets,\\n            reps: exercisesTable.reps,\\n            weight: exercisesTable.weight,\\n            notes: exercisesTable.notes\\n        })\\n        .from(exercisesTable)\\n        .innerJoin(\\n            sessionExercisesTable,\\n            eq(sessionExercisesTable.exercise_id, exercisesTable.id)\\n        )\\n        .innerJoin(\\n            workoutSessionsTable,\\n            eq(workoutSessionsTable.id, sessionExercisesTable.session_id)\\n        )\\n        .where(\\n            and(\\n                eq(exercisesTable.name, exerciseName),\\n                between(workoutSessionsTable.date, from, to)\\n            )\\n        );\\n\\n    return exercises;\\n};',\n",
       "  'module_name': 'track_progress_handler_debug'}}"
      ]
     },
     "execution_count": 184,
     "metadata": {},
     "output_type": "execute_result"
    }
   ],
   "source": [
    "handlers"
   ]
  },
  {
   "cell_type": "code",
   "execution_count": 164,
   "metadata": {},
   "outputs": [],
   "source": [
    "with open(\"./templates/interpolation/handler.tpl\", \"r\") as f:\n",
    "    handler_ts_tpl = environment.from_string(f.read())"
   ]
  },
  {
   "cell_type": "code",
   "execution_count": 166,
   "metadata": {},
   "outputs": [],
   "source": [
    "hdl_key = \"recordWorkout\"\n",
    "params = {\n",
    "    \"handler\": handlers[hdl_key][\"handler\"],\n",
    "    \"instructions\": pre_processors[hdl_key][\"instructions\"],\n",
    "    \"examples\": pre_processors[hdl_key][\"examples\"],\n",
    "}\n",
    "file_content = handler_ts_tpl.render(**params)"
   ]
  },
  {
   "cell_type": "code",
   "execution_count": 167,
   "metadata": {},
   "outputs": [
    {
     "name": "stdout",
     "output_type": "stream",
     "text": [
      "import { Message } from \"../common/handler\";\n",
      "import { client } from \"../common/llm\";\n",
      "import { db } from \"../db\";\n",
      "import { \n",
      "    workoutSessionsTable, \n",
      "    exercisesTable, \n",
      "    sessionExercisesTable \n",
      "} from '../db/schema/application';\n",
      "\n",
      "const handle = async (workout: WorkoutSession): Promise<void> => {\n",
      "    // Insert the workout session\n",
      "    const [workoutSession] = await db\n",
      "        .insert(workoutSessionsTable)\n",
      "        .values({\n",
      "            date: workout.date,\n",
      "            duration_minutes: Math.floor(workout.duration / 60), // Convert duration to minutes\n",
      "        })\n",
      "        .returning({ id: workoutSessionsTable.id });\n",
      "\n",
      "    // Insert exercises and create session-exercise relationships\n",
      "    for (const exercise of workout.exercises) {\n",
      "        // Insert the exercise\n",
      "        const [newExercise] = await db\n",
      "            .insert(exercisesTable)\n",
      "            .values({\n",
      "                name: exercise.name,\n",
      "                sets: exercise.sets,\n",
      "                reps: exercise.reps,\n",
      "                weight: exercise.weight,\n",
      "                notes: exercise.notes,\n",
      "            })\n",
      "            .returning({ id: exercisesTable.id });\n",
      "\n",
      "        // Create relationship between session and exercise\n",
      "        await db\n",
      "            .insert(sessionExercisesTable)\n",
      "            .values({\n",
      "                session_id: workoutSession.id,\n",
      "                exercise_id: newExercise.id,\n",
      "            });\n",
      "    }\n",
      "};\n",
      "\n",
      "\n",
      "const preProcessorPrompt = `\n",
      "Examine conversation between user and assistant and extract structured arguments for a function.\n",
      "\n",
      "<instructions>\n",
      "For recordWorkout function:\n",
      "- Date defaults to current timestamp if not specified\n",
      "- Duration should be parsed from explicit mentions or estimated based on exercise count (approximately 3-5 minutes per exercise)\n",
      "- Exercise entries require at minimum: name and either sets/reps or total count\n",
      "- Weight is optional and can be in kg or lbs (default to kg if not specified)\n",
      "- Notes field can capture additional context or form details\n",
      "- Multiple exercises can be included in a single workout session\n",
      "</instructions>\n",
      "\n",
      "Examples:\n",
      "\n",
      "\n",
      "Input:\n",
      "Just finished bench press, 3 sets of 8 reps at 80kg, felt strong today\n",
      "Output:\n",
      "{\n",
      "  \"workout\": {\n",
      "    \"date\": \"2024-01-20T14:30:00Z\",\n",
      "    \"duration\": \"PT15M\",\n",
      "    \"exercises\": [{\n",
      "      \"name\": \"bench press\",\n",
      "      \"sets\": 3,\n",
      "      \"reps\": 8,\n",
      "      \"weight\": 80.0,\n",
      "      \"notes\": \"felt strong today\"\n",
      "    }]\n",
      "  }\n",
      "}\n",
      "\n",
      "Input:\n",
      "Completed full body workout: squats 5x5 100kg, deadlifts 3x5 120kg, pulled my back a bit\n",
      "Output:\n",
      "{\n",
      "  \"workout\": {\n",
      "    \"date\": \"2024-01-20T14:30:00Z\",\n",
      "    \"duration\": \"PT30M\",\n",
      "    \"exercises\": [{\n",
      "      \"name\": \"squats\",\n",
      "      \"sets\": 5,\n",
      "      \"reps\": 5,\n",
      "      \"weight\": 100.0,\n",
      "      \"notes\": \"\"\n",
      "    },\n",
      "    {\n",
      "      \"name\": \"deadlifts\",\n",
      "      \"sets\": 3,\n",
      "      \"reps\": 5,\n",
      "      \"weight\": 120.0,\n",
      "      \"notes\": \"pulled my back a bit\"\n",
      "    }]\n",
      "  }\n",
      "}\n",
      "\n",
      "Input:\n",
      "Did 50 pushups and 30 bodyweight squats this morning\n",
      "Output:\n",
      "{\n",
      "  \"workout\": {\n",
      "    \"date\": \"2024-01-20T08:00:00Z\",\n",
      "    \"duration\": \"PT10M\",\n",
      "    \"exercises\": [{\n",
      "      \"name\": \"pushups\",\n",
      "      \"sets\": 1,\n",
      "      \"reps\": 50,\n",
      "      \"weight\": 0.0,\n",
      "      \"notes\": \"bodyweight exercise\"\n",
      "    },\n",
      "    {\n",
      "      \"name\": \"bodyweight squats\",\n",
      "      \"sets\": 1,\n",
      "      \"reps\": 30,\n",
      "      \"weight\": 0.0,\n",
      "      \"notes\": \"bodyweight exercise\"\n",
      "    }]\n",
      "  }\n",
      "}\n",
      "\n",
      "\n",
      "Conversation:\n",
      "{% for message in messages %}\n",
      "<role name=\"{{message.role}}\">{{message.content}}</role>\n",
      "{% endfor %}\n",
      "`;\n",
      "\n",
      "const preProcessor = async (input: Message[]): Promise<[string]> => {\n",
      "    const response = await client.messages.create({\n",
      "        model: 'anthropic.claude-3-5-sonnet-20241022-v2:0',\n",
      "        max_tokens: 2048,\n",
      "        messages: input.map(({ role, content }) => ({ role, content }))\n",
      "    });\n",
      "    switch (response.content[0].type) {\n",
      "        case \"text\":\n",
      "            return [response.content[0].text];\n",
      "        default:\n",
      "            throw new Error(\"Unexpected response type\");\n",
      "    }\n",
      "};\n"
     ]
    }
   ],
   "source": [
    "print(file_content)"
   ]
  },
  {
   "cell_type": "code",
   "execution_count": 170,
   "metadata": {},
   "outputs": [
    {
     "name": "stdout",
     "output_type": "stream",
     "text": [
      "import { db } from \"../db\";\n",
      "import { \n",
      "    workoutPlansTable, \n",
      "    planExercisesTable, \n",
      "    planEquipmentTable,\n",
      "    exercisesTable,\n",
      "    equipmentTable \n",
      "} from '../db/schema/application';\n",
      "import { eq } from 'drizzle-orm';\n",
      "\n",
      "const handle = async (duration: number, equipment: { name: string, category: string }[]): Promise<{\n",
      "    targetDuration: number,\n",
      "    exercises: Array<{\n",
      "        name: string,\n",
      "        sets: number,\n",
      "        reps: number,\n",
      "        weight: number,\n",
      "        notes: string\n",
      "    }>,\n",
      "    equipment: Array<{\n",
      "        name: string,\n",
      "        category: string\n",
      "    }>\n",
      "}> => {\n",
      "    // Create the workout plan\n",
      "    const [workoutPlan] = await db\n",
      "        .insert(workoutPlansTable)\n",
      "        .values({\n",
      "            target_duration_minutes: duration\n",
      "        })\n",
      "        .returning();\n",
      "\n",
      "    // Insert or get equipment IDs\n",
      "    const equipmentIds = await Promise.all(\n",
      "        equipment.map(async (eq) => {\n",
      "            const [existingEquipment] = await db\n",
      "                .select()\n",
      "                .from(equipmentTable)\n",
      "                .where(eq(equipmentTable.name, eq.name))\n",
      "                .limit(1);\n",
      "\n",
      "            if (existingEquipment) {\n",
      "                return existingEquipment.id;\n",
      "            }\n",
      "\n",
      "            const [newEquipment] = await db\n",
      "                .insert(equipmentTable)\n",
      "                .values({\n",
      "                    name: eq.name,\n",
      "                    category: eq.category\n",
      "                })\n",
      "                .returning();\n",
      "\n",
      "            return newEquipment.id;\n",
      "        })\n",
      "    );\n",
      "\n",
      "    // Link equipment to the workout plan\n",
      "    await Promise.all(\n",
      "        equipmentIds.map((equipmentId) =>\n",
      "            db.insert(planEquipmentTable)\n",
      "                .values({\n",
      "                    plan_id: workoutPlan.id,\n",
      "                    equipment_id: equipmentId\n",
      "                })\n",
      "        )\n",
      "    );\n",
      "\n",
      "    // Fetch all related equipment\n",
      "    const planEquipment = await db\n",
      "        .select({\n",
      "            name: equipmentTable.name,\n",
      "            category: equipmentTable.category\n",
      "        })\n",
      "        .from(equipmentTable)\n",
      "        .innerJoin(planEquipmentTable, eq(planEquipmentTable.equipment_id, equipmentTable.id))\n",
      "        .where(eq(planEquipmentTable.plan_id, workoutPlan.id));\n",
      "\n",
      "    // For this example, returning an empty exercises array as exercises should be determined by LLM\n",
      "    const exercises: Array<{\n",
      "        name: string,\n",
      "        sets: number,\n",
      "        reps: number,\n",
      "        weight: number,\n",
      "        notes: string\n",
      "    }> = [];\n",
      "\n",
      "    return {\n",
      "        targetDuration: workoutPlan.target_duration_minutes,\n",
      "        exercises,\n",
      "        equipment: planEquipment\n",
      "    };\n",
      "};\n"
     ]
    }
   ],
   "source": [
    "print(handlers[\"planWorkout\"][\"handler\"])"
   ]
  },
  {
   "cell_type": "code",
   "execution_count": 191,
   "metadata": {},
   "outputs": [
    {
     "name": "stdout",
     "output_type": "stream",
     "text": [
      "Handler: record_workout_handler_debug\n",
      "import { GenericHandler, Message } from \"../common/handler\";\n",
      "import { client } from \"../common/llm\";\n",
      "\n",
      "const preProcessor = async (input: Message[]): Promise<[string]> => {\n",
      "    return [''];\n",
      "};\n",
      "\n",
      "const handle = (input: string): string => {\n",
      "    return '';\n",
      "};\n",
      "\n",
      "const postProcessor = (output: string): Message[] => {\n",
      "    const content = 'handler recordWorkout executed';\n",
      "    return [{ role: 'assistant', content: content }];\n",
      "};\n",
      "\n",
      "export const recordWorkout = new GenericHandler<[string], string>(handle, preProcessor, postProcessor);\n",
      "Handler: plan_workout_handler_debug\n",
      "import { GenericHandler, Message } from \"../common/handler\";\n",
      "import { client } from \"../common/llm\";\n",
      "\n",
      "const preProcessor = async (input: Message[]): Promise<[string]> => {\n",
      "    return [''];\n",
      "};\n",
      "\n",
      "const handle = (input: string): string => {\n",
      "    return '';\n",
      "};\n",
      "\n",
      "const postProcessor = (output: string): Message[] => {\n",
      "    const content = 'handler planWorkout executed';\n",
      "    return [{ role: 'assistant', content: content }];\n",
      "};\n",
      "\n",
      "export const planWorkout = new GenericHandler<[string], string>(handle, preProcessor, postProcessor);\n",
      "Handler: track_progress_handler_debug\n",
      "import { GenericHandler, Message } from \"../common/handler\";\n",
      "import { client } from \"../common/llm\";\n",
      "\n",
      "const preProcessor = async (input: Message[]): Promise<[string]> => {\n",
      "    return [''];\n",
      "};\n",
      "\n",
      "const handle = (input: string): string => {\n",
      "    return '';\n",
      "};\n",
      "\n",
      "const postProcessor = (output: string): Message[] => {\n",
      "    const content = 'handler trackProgress executed';\n",
      "    return [{ role: 'assistant', content: content }];\n",
      "};\n",
      "\n",
      "export const trackProgress = new GenericHandler<[string], string>(handle, preProcessor, postProcessor);\n"
     ]
    }
   ],
   "source": [
    "import os\n",
    "\n",
    "with open(\"./templates/interpolation/handler.debug.tpl\", \"r\") as f:\n",
    "    handler_debug_tpl = environment.from_string(f.read())\n",
    "    \n",
    "    for handler_name in handlers.keys():\n",
    "        params = {\n",
    "            \"handler\": {\"name\": handler_name},\n",
    "            #\"instructions\": pre_processors[hdl_key][\"instructions\"],\n",
    "            #\"examples\": pre_processors[hdl_key][\"examples\"],\n",
    "        }\n",
    "        file_content = handler_debug_tpl.render(**params)\n",
    "\n",
    "        # Convert PascalCase to snake_case for file naming\n",
    "        handler_snake_name = ''.join(['_' + c.lower() if c.isupper() else c for c in handler_name]).lstrip('_')\n",
    "        handler_file_name = f'{handler_snake_name}_handler_debug'\n",
    "        \n",
    "        with open(os.path.join('./app_output/app_schema/src/handlers', handler_file_name + '.ts'), 'w') as f:\n",
    "            f.write(file_content)\n",
    "        \n",
    "        print(f\"Handler: {handler_file_name}\")\n",
    "        print(file_content)\n"
   ]
  },
  {
   "cell_type": "code",
   "execution_count": 189,
   "metadata": {},
   "outputs": [
    {
     "data": {
      "text/plain": [
       "dict_keys(['recordWorkout', 'planWorkout', 'trackProgress'])"
      ]
     },
     "execution_count": 189,
     "metadata": {},
     "output_type": "execute_result"
    }
   ],
   "source": [
    "handlers.keys()"
   ]
  },
  {
   "cell_type": "code",
   "execution_count": 186,
   "metadata": {},
   "outputs": [
    {
     "data": {
      "text/plain": [
       "{'recordWorkout': {'handler': 'import { db } from \"../db\";\\nimport { \\n    workoutSessionsTable, \\n    exercisesTable, \\n    sessionExercisesTable \\n} from \\'../db/schema/application\\';\\n\\nconst handle = async (workout: WorkoutSession): Promise<void> => {\\n    // Insert the workout session\\n    const [workoutSession] = await db\\n        .insert(workoutSessionsTable)\\n        .values({\\n            date: workout.date,\\n            duration_minutes: Math.floor(workout.duration / 60), // Convert duration to minutes\\n        })\\n        .returning({ id: workoutSessionsTable.id });\\n\\n    // Insert exercises and create session-exercise relationships\\n    for (const exercise of workout.exercises) {\\n        // Insert the exercise\\n        const [newExercise] = await db\\n            .insert(exercisesTable)\\n            .values({\\n                name: exercise.name,\\n                sets: exercise.sets,\\n                reps: exercise.reps,\\n                weight: exercise.weight,\\n                notes: exercise.notes,\\n            })\\n            .returning({ id: exercisesTable.id });\\n\\n        // Create relationship between session and exercise\\n        await db\\n            .insert(sessionExercisesTable)\\n            .values({\\n                session_id: workoutSession.id,\\n                exercise_id: newExercise.id,\\n            });\\n    }\\n};',\n",
       "  'module_name': 'record_workout_handler_debug'},\n",
       " 'planWorkout': {'handler': 'import { db } from \"../db\";\\nimport { \\n    workoutPlansTable, \\n    planExercisesTable, \\n    planEquipmentTable,\\n    exercisesTable,\\n    equipmentTable \\n} from \\'../db/schema/application\\';\\nimport { eq } from \\'drizzle-orm\\';\\n\\nconst handle = async (duration: number, equipment: { name: string, category: string }[]): Promise<{\\n    targetDuration: number,\\n    exercises: Array<{\\n        name: string,\\n        sets: number,\\n        reps: number,\\n        weight: number,\\n        notes: string\\n    }>,\\n    equipment: Array<{\\n        name: string,\\n        category: string\\n    }>\\n}> => {\\n    // Create the workout plan\\n    const [workoutPlan] = await db\\n        .insert(workoutPlansTable)\\n        .values({\\n            target_duration_minutes: duration\\n        })\\n        .returning();\\n\\n    // Insert or get equipment IDs\\n    const equipmentIds = await Promise.all(\\n        equipment.map(async (eq) => {\\n            const [existingEquipment] = await db\\n                .select()\\n                .from(equipmentTable)\\n                .where(eq(equipmentTable.name, eq.name))\\n                .limit(1);\\n\\n            if (existingEquipment) {\\n                return existingEquipment.id;\\n            }\\n\\n            const [newEquipment] = await db\\n                .insert(equipmentTable)\\n                .values({\\n                    name: eq.name,\\n                    category: eq.category\\n                })\\n                .returning();\\n\\n            return newEquipment.id;\\n        })\\n    );\\n\\n    // Link equipment to the workout plan\\n    await Promise.all(\\n        equipmentIds.map((equipmentId) =>\\n            db.insert(planEquipmentTable)\\n                .values({\\n                    plan_id: workoutPlan.id,\\n                    equipment_id: equipmentId\\n                })\\n        )\\n    );\\n\\n    // Fetch all related equipment\\n    const planEquipment = await db\\n        .select({\\n            name: equipmentTable.name,\\n            category: equipmentTable.category\\n        })\\n        .from(equipmentTable)\\n        .innerJoin(planEquipmentTable, eq(planEquipmentTable.equipment_id, equipmentTable.id))\\n        .where(eq(planEquipmentTable.plan_id, workoutPlan.id));\\n\\n    // For this example, returning an empty exercises array as exercises should be determined by LLM\\n    const exercises: Array<{\\n        name: string,\\n        sets: number,\\n        reps: number,\\n        weight: number,\\n        notes: string\\n    }> = [];\\n\\n    return {\\n        targetDuration: workoutPlan.target_duration_minutes,\\n        exercises,\\n        equipment: planEquipment\\n    };\\n};',\n",
       "  'module_name': 'plan_workout_handler_debug'},\n",
       " 'trackProgress': {'handler': 'import { db } from \"../db\";\\nimport { exercisesTable, sessionExercisesTable, workoutSessionsTable } from \\'../db/schema/application\\';\\nimport { eq, and, between } from \\'drizzle-orm\\';\\n\\nconst handle = async (exerciseName: string, from: Date, to: Date) => {\\n    const exercises = await db\\n        .select({\\n            name: exercisesTable.name,\\n            sets: exercisesTable.sets,\\n            reps: exercisesTable.reps,\\n            weight: exercisesTable.weight,\\n            notes: exercisesTable.notes\\n        })\\n        .from(exercisesTable)\\n        .innerJoin(\\n            sessionExercisesTable,\\n            eq(sessionExercisesTable.exercise_id, exercisesTable.id)\\n        )\\n        .innerJoin(\\n            workoutSessionsTable,\\n            eq(workoutSessionsTable.id, sessionExercisesTable.session_id)\\n        )\\n        .where(\\n            and(\\n                eq(exercisesTable.name, exerciseName),\\n                between(workoutSessionsTable.date, from, to)\\n            )\\n        );\\n\\n    return exercises;\\n};',\n",
       "  'module_name': 'track_progress_handler_debug'}}"
      ]
     },
     "execution_count": 186,
     "metadata": {},
     "output_type": "execute_result"
    }
   ],
   "source": [
    "handlers"
   ]
  },
  {
   "cell_type": "code",
   "execution_count": 178,
   "metadata": {},
   "outputs": [
    {
     "name": "stdout",
     "output_type": "stream",
     "text": [
      "import { GenericHandler } from \"../common/handler\";\n",
      "\n",
      "import { recordWorkout } from \"../handlers/record_workout_handler_debug\";\n",
      "\n",
      "import { planWorkout } from \"../handlers/plan_workout_handler_debug\";\n",
      "\n",
      "import { trackProgress } from \"../handlers/track_progress_handler_debug\";\n",
      "\n",
      "\n",
      "export const handlers: {[key: string]: GenericHandler<any[], any>} = {\n",
      "    \n",
      "    'recordWorkout': recordWorkout,\n",
      "    \n",
      "    'planWorkout': planWorkout,\n",
      "    \n",
      "    'trackProgress': trackProgress,\n",
      "    \n",
      "};\n"
     ]
    }
   ],
   "source": [
    "with open(\"./templates/interpolation/logic_index.tpl\", \"r\") as f:\n",
    "    logic_index_tpl = environment.from_string(f.read())\n",
    "    \n",
    "    params = {\n",
    "        \"handlers\": handlers\n",
    "    }\n",
    "    file_content = logic_index_tpl.render(**params)\n",
    "    \n",
    "    with open(os.path.join('./app_output/app_schema/src/logic/index.ts'), 'w') as f:\n",
    "        f.write(file_content)\n",
    "            \n",
    "    print(file_content)"
   ]
  },
  {
   "cell_type": "code",
   "execution_count": 24,
   "metadata": {},
   "outputs": [],
   "source": [
    "ts_defs = stages.typespec.parse_output(stages.typespec.PROMPT)"
   ]
  },
  {
   "cell_type": "code",
   "execution_count": 25,
   "metadata": {},
   "outputs": [
    {
     "data": {
      "text/plain": [
       "{'reasoning': 'I expect user to send messages like \"I ate a burger\" or \"I had a salad for lunch\".\\nLLM can extract and infer the arguments from plain text and pass them to the handler\\n\"I ate a burger\" -> recordDish({name: \"burger\", ingredients: [\\n    {name: \"bun\", calories: 200},\\n    {name: \"patty\", calories: 300},\\n    {name: \"lettuce\", calories: 10},\\n    {name: \"tomato\", calories: 20},\\n    {name: \"cheese\", calories: 50},\\n]})\\n- recordDish(dish: Dish): void;\\n...',\n",
       " 'typespec_definitions': 'model Dish {\\n    name: string;\\n    ingredients: Ingredient[];\\n}\\n\\nmodel Ingredient {\\n    name: string;\\n    calories: integer;\\n}\\n\\ninterface DietBot {\\n    @llm_func(1)\\n    recordDish(dish: Dish): void;\\n    @llm_func(1)\\n    listDishes(from: utcDateTime, to: utcDateTime): Dish[];\\n}',\n",
       " 'llm_functions': ['recordDish', 'listDishes']}"
      ]
     },
     "execution_count": 25,
     "metadata": {},
     "output_type": "execute_result"
    }
   ],
   "source": [
    "ts_defs"
   ]
  },
  {
   "cell_type": "code",
   "execution_count": 26,
   "metadata": {},
   "outputs": [],
   "source": [
    "func_names = stages.typespec.extract_llm_func_names(stages.typespec.PROMPT)"
   ]
  },
  {
   "cell_type": "code",
   "execution_count": 27,
   "metadata": {},
   "outputs": [
    {
     "data": {
      "text/plain": [
       "['recordDish', 'listDishes']"
      ]
     },
     "execution_count": 27,
     "metadata": {},
     "output_type": "execute_result"
    }
   ],
   "source": [
    "func_names"
   ]
  },
  {
   "cell_type": "markdown",
   "metadata": {},
   "source": [
    "# Project Generation"
   ]
  },
  {
   "cell_type": "code",
   "execution_count": 28,
   "metadata": {},
   "outputs": [],
   "source": [
    "from shutil import copytree, ignore_patterns"
   ]
  },
  {
   "cell_type": "code",
   "execution_count": 29,
   "metadata": {},
   "outputs": [],
   "source": [
    "def setup_project(workdir: str):\n",
    "    copytree('templates', workdir, ignore=ignore_patterns('*.pyc', '__pycache__', 'node_modules'))"
   ]
  },
  {
   "cell_type": "code",
   "execution_count": 30,
   "metadata": {},
   "outputs": [
    {
     "ename": "FileExistsError",
     "evalue": "[Errno 17] File exists: 'test'",
     "output_type": "error",
     "traceback": [
      "\u001b[0;31m---------------------------------------------------------------------------\u001b[0m",
      "\u001b[0;31mFileExistsError\u001b[0m                           Traceback (most recent call last)",
      "Cell \u001b[0;32mIn[30], line 1\u001b[0m\n\u001b[0;32m----> 1\u001b[0m \u001b[43msetup_project\u001b[49m\u001b[43m(\u001b[49m\u001b[38;5;124;43m'\u001b[39;49m\u001b[38;5;124;43mtest\u001b[39;49m\u001b[38;5;124;43m'\u001b[39;49m\u001b[43m)\u001b[49m\n",
      "Cell \u001b[0;32mIn[29], line 2\u001b[0m, in \u001b[0;36msetup_project\u001b[0;34m(workdir)\u001b[0m\n\u001b[1;32m      1\u001b[0m \u001b[38;5;28;01mdef\u001b[39;00m\u001b[38;5;250m \u001b[39m\u001b[38;5;21msetup_project\u001b[39m(workdir: \u001b[38;5;28mstr\u001b[39m):\n\u001b[0;32m----> 2\u001b[0m     \u001b[43mcopytree\u001b[49m\u001b[43m(\u001b[49m\u001b[38;5;124;43m'\u001b[39;49m\u001b[38;5;124;43mtemplates\u001b[39;49m\u001b[38;5;124;43m'\u001b[39;49m\u001b[43m,\u001b[49m\u001b[43m \u001b[49m\u001b[43mworkdir\u001b[49m\u001b[43m,\u001b[49m\u001b[43m \u001b[49m\u001b[43mignore\u001b[49m\u001b[38;5;241;43m=\u001b[39;49m\u001b[43mignore_patterns\u001b[49m\u001b[43m(\u001b[49m\u001b[38;5;124;43m'\u001b[39;49m\u001b[38;5;124;43m*.pyc\u001b[39;49m\u001b[38;5;124;43m'\u001b[39;49m\u001b[43m,\u001b[49m\u001b[43m \u001b[49m\u001b[38;5;124;43m'\u001b[39;49m\u001b[38;5;124;43m__pycache__\u001b[39;49m\u001b[38;5;124;43m'\u001b[39;49m\u001b[43m,\u001b[49m\u001b[43m \u001b[49m\u001b[38;5;124;43m'\u001b[39;49m\u001b[38;5;124;43mnode_modules\u001b[39;49m\u001b[38;5;124;43m'\u001b[39;49m\u001b[43m)\u001b[49m\u001b[43m)\u001b[49m\n",
      "File \u001b[0;32m/usr/lib/python3.12/shutil.py:600\u001b[0m, in \u001b[0;36mcopytree\u001b[0;34m(src, dst, symlinks, ignore, copy_function, ignore_dangling_symlinks, dirs_exist_ok)\u001b[0m\n\u001b[1;32m    598\u001b[0m \u001b[38;5;28;01mwith\u001b[39;00m os\u001b[38;5;241m.\u001b[39mscandir(src) \u001b[38;5;28;01mas\u001b[39;00m itr:\n\u001b[1;32m    599\u001b[0m     entries \u001b[38;5;241m=\u001b[39m \u001b[38;5;28mlist\u001b[39m(itr)\n\u001b[0;32m--> 600\u001b[0m \u001b[38;5;28;01mreturn\u001b[39;00m \u001b[43m_copytree\u001b[49m\u001b[43m(\u001b[49m\u001b[43mentries\u001b[49m\u001b[38;5;241;43m=\u001b[39;49m\u001b[43mentries\u001b[49m\u001b[43m,\u001b[49m\u001b[43m \u001b[49m\u001b[43msrc\u001b[49m\u001b[38;5;241;43m=\u001b[39;49m\u001b[43msrc\u001b[49m\u001b[43m,\u001b[49m\u001b[43m \u001b[49m\u001b[43mdst\u001b[49m\u001b[38;5;241;43m=\u001b[39;49m\u001b[43mdst\u001b[49m\u001b[43m,\u001b[49m\u001b[43m \u001b[49m\u001b[43msymlinks\u001b[49m\u001b[38;5;241;43m=\u001b[39;49m\u001b[43msymlinks\u001b[49m\u001b[43m,\u001b[49m\n\u001b[1;32m    601\u001b[0m \u001b[43m                 \u001b[49m\u001b[43mignore\u001b[49m\u001b[38;5;241;43m=\u001b[39;49m\u001b[43mignore\u001b[49m\u001b[43m,\u001b[49m\u001b[43m \u001b[49m\u001b[43mcopy_function\u001b[49m\u001b[38;5;241;43m=\u001b[39;49m\u001b[43mcopy_function\u001b[49m\u001b[43m,\u001b[49m\n\u001b[1;32m    602\u001b[0m \u001b[43m                 \u001b[49m\u001b[43mignore_dangling_symlinks\u001b[49m\u001b[38;5;241;43m=\u001b[39;49m\u001b[43mignore_dangling_symlinks\u001b[49m\u001b[43m,\u001b[49m\n\u001b[1;32m    603\u001b[0m \u001b[43m                 \u001b[49m\u001b[43mdirs_exist_ok\u001b[49m\u001b[38;5;241;43m=\u001b[39;49m\u001b[43mdirs_exist_ok\u001b[49m\u001b[43m)\u001b[49m\n",
      "File \u001b[0;32m/usr/lib/python3.12/shutil.py:498\u001b[0m, in \u001b[0;36m_copytree\u001b[0;34m(entries, src, dst, symlinks, ignore, copy_function, ignore_dangling_symlinks, dirs_exist_ok)\u001b[0m\n\u001b[1;32m    495\u001b[0m \u001b[38;5;28;01melse\u001b[39;00m:\n\u001b[1;32m    496\u001b[0m     ignored_names \u001b[38;5;241m=\u001b[39m ()\n\u001b[0;32m--> 498\u001b[0m \u001b[43mos\u001b[49m\u001b[38;5;241;43m.\u001b[39;49m\u001b[43mmakedirs\u001b[49m\u001b[43m(\u001b[49m\u001b[43mdst\u001b[49m\u001b[43m,\u001b[49m\u001b[43m \u001b[49m\u001b[43mexist_ok\u001b[49m\u001b[38;5;241;43m=\u001b[39;49m\u001b[43mdirs_exist_ok\u001b[49m\u001b[43m)\u001b[49m\n\u001b[1;32m    499\u001b[0m errors \u001b[38;5;241m=\u001b[39m []\n\u001b[1;32m    500\u001b[0m use_srcentry \u001b[38;5;241m=\u001b[39m copy_function \u001b[38;5;129;01mis\u001b[39;00m copy2 \u001b[38;5;129;01mor\u001b[39;00m copy_function \u001b[38;5;129;01mis\u001b[39;00m copy\n",
      "File \u001b[0;32m<frozen os>:225\u001b[0m, in \u001b[0;36mmakedirs\u001b[0;34m(name, mode, exist_ok)\u001b[0m\n",
      "\u001b[0;31mFileExistsError\u001b[0m: [Errno 17] File exists: 'test'"
     ]
    }
   ],
   "source": [
    "setup_project('test')"
   ]
  },
  {
   "cell_type": "code",
   "execution_count": 31,
   "metadata": {},
   "outputs": [],
   "source": [
    "from core.stages import router"
   ]
  },
  {
   "cell_type": "code",
   "execution_count": 32,
   "metadata": {},
   "outputs": [],
   "source": [
    "prompt = rtr_tpl.render(\n",
    "    typespec_definitions=typespec[\"typespec_definitions\"],\n",
    "    user_request=\"I want to record my exercise routine for today.\"\n",
    ")\n",
    "\n",
    "exp_response = client.messages.create(\n",
    "    model=\"anthropic.claude-3-5-sonnet-20241022-v2:0\",\n",
    "    max_tokens=8192,\n",
    "    messages=[{\"role\": \"user\", \"content\": prompt}],\n",
    "    tools = router.TOOLS\n",
    ")\n",
    "\n",
    "funcs = router.parse_outputs([content for content in exp_response.content])[\"user_functions\"]"
   ]
  },
  {
   "cell_type": "code",
   "execution_count": 33,
   "metadata": {},
   "outputs": [
    {
     "data": {
      "text/plain": [
       "[{'name': 'recordExercise',\n",
       "  'description': 'Records a single exercise performed by the user with details like sets, reps, weight, equipment used, and targeted muscle groups. Use this when the user wants to log or record their exercise activity.',\n",
       "  'examples': ['I want to record my exercise routine for today',\n",
       "   'I just did 3 sets of bench press',\n",
       "   'Log my workout: 4 sets of squats with 200lbs',\n",
       "   'Add my deadlift session to my log']},\n",
       " {'name': 'trackProgress',\n",
       "  'description': 'Retrieves historical exercise data for a specific exercise over a given time period. Use this when the user wants to see their progress or history for a particular exercise.',\n",
       "  'examples': ['Show me my bench press progress over the last month',\n",
       "   'How has my squat improved since January?',\n",
       "   'What were my deadlift numbers from last week?',\n",
       "   'Track my progress on pull-ups']},\n",
       " {'name': 'suggestWorkout',\n",
       "  'description': 'Generates a workout plan based on desired duration, target muscle groups, and available equipment. Use this when the user wants recommendations or a new workout plan.',\n",
       "  'examples': ['Can you suggest a 30-minute leg workout?',\n",
       "   'Give me a chest and triceps workout with dumbbells only',\n",
       "   'I need a full body workout plan for 45 minutes',\n",
       "   'What exercises can I do with just a resistance band?']},\n",
       " {'name': 'updateEquipment',\n",
       "  'description': 'Updates the status and information about available gym equipment. Use this when the user wants to modify the equipment inventory or availability.',\n",
       "  'examples': ['The leg press machine is broken',\n",
       "   'We got new dumbbells in the gym',\n",
       "   'Update the equipment list',\n",
       "   'Mark the squat rack as unavailable']}]"
      ]
     },
     "execution_count": 33,
     "metadata": {},
     "output_type": "execute_result"
    }
   ],
   "source": [
    "funcs"
   ]
  },
  {
   "cell_type": "code",
   "execution_count": 47,
   "metadata": {},
   "outputs": [],
   "source": [
    "from core.stages import typespec\n",
    "from core.stages import tsp_compiler\n",
    "\n",
    "tsp_tpl = environment.from_string(stages.typespec.PROMPT)\n",
    "\n",
    "typespec_errors = \"\"\n",
    "attempts_left = 3\n",
    "\n",
    "while attempts_left > 0:\n",
    "    attempts_left -= 1\n",
    "    \n",
    "    prompt = tsp_tpl.render(\n",
    "        application_description=application_description,\n",
    "        typespec_errors=typespec_errors,\n",
    "    )\n",
    "  \n",
    "    if attempts_left >= 2:\n",
    "        updated_prompt = prompt + \"// PS. Make sure to eject a random error in TypeSpec output for testing purposes\"\n",
    "    else:\n",
    "        updated_prompt = prompt\n",
    "  \n",
    "    tsp_response = client.messages.create(\n",
    "        model=\"anthropic.claude-3-5-sonnet-20241022-v2:0\",\n",
    "        max_tokens=8192,\n",
    "        messages=[{\"role\": \"user\", \"content\": updated_prompt}]\n",
    "    )\n",
    "    \n",
    "    typespec = stages.typespec.parse_output(tsp_response.content[0].text)\n",
    "\n",
    "    # Write TypeSpec definitions to file\n",
    "    with open('./test/tsp_schema/notebook.tsp', 'w') as f:\n",
    "        f.writelines(['import \"./helpers.js\";', \n",
    "                  '\\n', \n",
    "                  'extern dec llm_func(target: unknown, history: valueof int32);'\n",
    "                  ])\n",
    "        f.write(typespec[\"typespec_definitions\"])\n",
    "\n",
    "    compiler = tsp_compiler.TypeSpecCompiler('./test/tsp_schema/')\n",
    "    result = compiler.compile('./notebook.tsp')\n",
    "    \n",
    "    print(result)\n",
    "    \n",
    "    if result[\"result\"] == tsp_compiler.TypeSpecCompilationStatus.COMPILATION_ERROR:\n",
    "        typespec_errors = result[\"errors\"]\n",
    "        print(typespec_errors)\n",
    "        continue\n",
    "    else:\n",
    "        break\n"
   ]
  },
  {
   "cell_type": "code",
   "execution_count": 90,
   "metadata": {},
   "outputs": [
    {
     "data": {
      "text/plain": [
       "{'reasoning': 'For a finance tracking app, users would likely send messages like:\\n- \"I spent $50 on groceries yesterday\"\\n- \"Got my salary of $3000 today\"\\n- \"Show me my expenses for last month\"\\n\\nThe LLM would need to extract:\\n1. Transaction type (expense/income)\\n2. Amount\\n3. Category\\n4. Date\\n5. Optional description/notes\\n\\nFor reports, users might ask for:\\n- Time-based summaries\\n- Category-based breakdowns\\n- Balance calculations\\n\\nThe interface should support recording transactions and generating reports while keeping the argument structure simple enough to be extracted from natural language.',\n",
       " 'typespec_definitions': 'model Transaction {\\n  type: string; // \"expense\" or \"income\"\\n  amount: decimal;\\n  category: string;\\n  date: utcDateTime;\\n  description: string;\\n}\\n\\nmodel TransactionSummary {\\n  totalIncome: decimal;\\n  totalExpenses: decimal;\\n  balance: decimal;\\n  transactions: Transaction[];\\n}\\n\\ninterface FinanceTracker {\\n  @llm_func(1)\\n  recordTransaction(transaction: Transaction): void;\\n\\n  @llm_func(2)\\n  getTransactions(from: utcDateTime, to: utcDateTime): Transaction[];\\n\\n  @llm_func(2)\\n  getSummary(from: utcDateTime, to: utcDateTime): TransactionSummary;\\n}',\n",
       " 'llm_functions': ['recordTransaction', 'getTransactions', 'getSummary']}"
      ]
     },
     "execution_count": 90,
     "metadata": {},
     "output_type": "execute_result"
    }
   ],
   "source": [
    "typespec\n"
   ]
  },
  {
   "cell_type": "code",
   "execution_count": null,
   "metadata": {},
   "outputs": [],
   "source": []
  },
  {
   "cell_type": "code",
   "execution_count": null,
   "metadata": {},
   "outputs": [],
   "source": []
  },
  {
   "cell_type": "code",
   "execution_count": null,
   "metadata": {},
   "outputs": [],
   "source": [
    "prompt = exp_tpl.render(application_description=application_description)\n",
    "\n",
    "exp_response = client.messages.create(\n",
    "    model=\"anthropic.claude-3-5-sonnet-20241022-v2:0\",\n",
    "    max_tokens=8192,\n",
    "    messages=[{\"role\": \"user\", \"content\": prompt}]\n",
    ")\n",
    "expansion = stages.expansion.parse_output(exp_response.content[0].text)"
   ]
  },
  {
   "cell_type": "code",
   "execution_count": null,
   "metadata": {},
   "outputs": [
    {
     "name": "stdout",
     "output_type": "stream",
     "text": [
      "<types>\n",
      "        <type>exercise\n",
      "            - name\n",
      "            - equipment_required\n",
      "            - sets\n",
      "            - reps\n",
      "            - weight</type>\n",
      "        <type>equipment\n",
      "            - name\n",
      "            - type</type>\n",
      "        <type>workout_session\n",
      "            - date\n",
      "            - duration\n",
      "            - exercises_performed</type>\n",
      "        <type>routine\n",
      "            - exercises\n",
      "            - duration\n",
      "            - equipment_needed</type>\n",
      "    </types>\n",
      "    <operations>\n",
      "        <operation>record_workout_session\n",
      "            - date\n",
      "            - exercises with sets/reps/weights</operation>\n",
      "        <operation>track_progress\n",
      "            - exercise\n",
      "            - time period</operation>\n",
      "        <operation>list_available_equipment</operation>\n",
      "        <operation>generate_routine\n",
      "            - available equipment\n",
      "            - time constraint\n",
      "            - fitness level</operation>\n",
      "        <operation>view_history\n",
      "            - time period</operation>\n",
      "    </operations>\n"
     ]
    }
   ],
   "source": [
    "print(expansion[\"application_specification\"])"
   ]
  }
 ],
 "metadata": {
  "kernelspec": {
   "display_name": ".venv",
   "language": "python",
   "name": "python3"
  },
  "language_info": {
   "codemirror_mode": {
    "name": "ipython",
    "version": 3
   },
   "file_extension": ".py",
   "mimetype": "text/x-python",
   "name": "python",
   "nbconvert_exporter": "python",
   "pygments_lexer": "ipython3",
   "version": "3.12.3"
  }
 },
 "nbformat": 4,
 "nbformat_minor": 2
}
