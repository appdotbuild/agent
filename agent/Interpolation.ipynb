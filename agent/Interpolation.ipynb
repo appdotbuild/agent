{
 "cells": [
  {
   "cell_type": "code",
   "execution_count": 230,
   "metadata": {},
   "outputs": [
    {
     "name": "stdout",
     "output_type": "stream",
     "text": [
      "The autoreload extension is already loaded. To reload it, use:\n",
      "  %reload_ext autoreload\n"
     ]
    }
   ],
   "source": [
    "%load_ext autoreload\n",
    "%autoreload 2"
   ]
  },
  {
   "cell_type": "code",
   "execution_count": 231,
   "metadata": {},
   "outputs": [],
   "source": [
    "import jinja2\n",
    "from anthropic import AnthropicBedrock\n",
    "from core import stages\n",
    "import json\n"
   ]
  },
  {
   "cell_type": "code",
   "execution_count": 232,
   "metadata": {},
   "outputs": [],
   "source": [
    "client = AnthropicBedrock(aws_profile=\"dev\", aws_region=\"us-west-2\")"
   ]
  },
  {
   "cell_type": "code",
   "execution_count": 233,
   "metadata": {},
   "outputs": [],
   "source": [
    "environment = jinja2.Environment()"
   ]
  },
  {
   "cell_type": "code",
   "execution_count": 234,
   "metadata": {},
   "outputs": [],
   "source": [
    "tsp_tpl = environment.from_string(stages.typespec.PROMPT)\n",
    "dzl_tpl = environment.from_string(stages.drizzle.PROMPT)\n",
    "rtr_tpl = environment.from_string(stages.router.PROMPT)\n",
    "hdl_tpl = environment.from_string(stages.handlers.PROMPT)\n",
    "pre_tpl = environment.from_string(stages.processors.PROMPT_PRE)"
   ]
  },
  {
   "cell_type": "code",
   "execution_count": 235,
   "metadata": {},
   "outputs": [],
   "source": [
    "application_description = \"\"\"\n",
    "Bot that tracks my exercise routine in the gym, tracks progress and suggests new routines\n",
    "for specific list of available equipment and time constraints.\n",
    "\"\"\".strip()"
   ]
  },
  {
   "cell_type": "code",
   "execution_count": 236,
   "metadata": {},
   "outputs": [
    {
     "data": {
      "text/plain": [
       "'./app_output'"
      ]
     },
     "execution_count": 236,
     "metadata": {},
     "output_type": "execute_result"
    }
   ],
   "source": [
    "from shutil import copytree, ignore_patterns\n",
    "\n",
    "\n",
    "copytree('./templates/', './app_output', ignore=ignore_patterns('*.pyc', '__pycache__')) # 'node_modules'\n"
   ]
  },
  {
   "cell_type": "code",
   "execution_count": 237,
   "metadata": {},
   "outputs": [],
   "source": [
    "prompt = tsp_tpl.render(\n",
    "    application_description=application_description,\n",
    ")\n",
    "\n",
    "tsp_response = client.messages.create(\n",
    "    model=\"anthropic.claude-3-5-sonnet-20241022-v2:0\",\n",
    "    max_tokens=8192,\n",
    "    messages=[{\"role\": \"user\", \"content\": prompt}]\n",
    ")\n",
    "typespec = stages.typespec.parse_output(tsp_response.content[0].text)"
   ]
  },
  {
   "cell_type": "code",
   "execution_count": 238,
   "metadata": {},
   "outputs": [
    {
     "data": {
      "text/plain": [
       "{'reasoning': 'For a gym tracking bot, we need to handle several aspects:\\n1. Recording exercises with details like sets, reps, weight\\n2. Equipment availability for exercise suggestions\\n3. Time constraints for workout planning\\n4. Progress tracking over time\\n\\nExpected message patterns:\\n\"I did 3 sets of bench press, 8 reps each with 175lbs\"\\n-> recordExercise({name: \"bench press\", sets: 3, reps: 8, weight: 175})\\n\\n\"What exercises can I do in 30 minutes with dumbbells and a bench?\"\\n-> suggestWorkout({duration: \"30m\", equipment: [\"dumbbells\", \"bench\"]})\\n\\n\"Show my bench press progress over the last month\"\\n-> trackProgress({exercise: \"bench press\", from: [date], to: [date]})',\n",
       " 'typespec_definitions': 'model Exercise {\\n  name: string;\\n  sets: integer;\\n  reps: integer;\\n  weight: float;\\n  notes: string;\\n}\\n\\nmodel Equipment {\\n  name: string;\\n  type: string;\\n}\\n\\nmodel WorkoutPlan {\\n  exercises: Exercise[];\\n  totalDuration: duration;\\n  difficulty: string;\\n}\\n\\nmodel ProgressRecord {\\n  exercise: string;\\n  history: Exercise[];\\n  improvement: float;\\n}\\n\\ninterface GymBot {\\n  @llm_func(2)\\n  recordExercise(exercise: Exercise): void;\\n\\n  @llm_func(1)\\n  suggestWorkout(\\n    availableEquipment: Equipment[],\\n    timeLimit: duration,\\n    fitnessLevel: string\\n  ): WorkoutPlan;\\n\\n  @llm_func(3)\\n  trackProgress(\\n    exerciseName: string,\\n    from: utcDateTime,\\n    to: utcDateTime\\n  ): ProgressRecord;\\n\\n  @llm_func(1)\\n  updateEquipment(equipment: Equipment[]): void;\\n}',\n",
       " 'llm_functions': ['recordExercise',\n",
       "  'suggestWorkout',\n",
       "  'trackProgress',\n",
       "  'updateEquipment']}"
      ]
     },
     "execution_count": 238,
     "metadata": {},
     "output_type": "execute_result"
    }
   ],
   "source": [
    "typespec"
   ]
  },
  {
   "cell_type": "code",
   "execution_count": 239,
   "metadata": {},
   "outputs": [
    {
     "name": "stdout",
     "output_type": "stream",
     "text": [
      "For a gym tracking bot, we need to handle several aspects:\n",
      "1. Recording exercises with details like sets, reps, weight\n",
      "2. Equipment availability for exercise suggestions\n",
      "3. Time constraints for workout planning\n",
      "4. Progress tracking over time\n",
      "\n",
      "Expected message patterns:\n",
      "\"I did 3 sets of bench press, 8 reps each with 175lbs\"\n",
      "-> recordExercise({name: \"bench press\", sets: 3, reps: 8, weight: 175})\n",
      "\n",
      "\"What exercises can I do in 30 minutes with dumbbells and a bench?\"\n",
      "-> suggestWorkout({duration: \"30m\", equipment: [\"dumbbells\", \"bench\"]})\n",
      "\n",
      "\"Show my bench press progress over the last month\"\n",
      "-> trackProgress({exercise: \"bench press\", from: [date], to: [date]})\n"
     ]
    }
   ],
   "source": [
    "print(typespec[\"reasoning\"])"
   ]
  },
  {
   "cell_type": "code",
   "execution_count": 240,
   "metadata": {},
   "outputs": [
    {
     "name": "stdout",
     "output_type": "stream",
     "text": [
      "model Exercise {\n",
      "  name: string;\n",
      "  sets: integer;\n",
      "  reps: integer;\n",
      "  weight: float;\n",
      "  notes: string;\n",
      "}\n",
      "\n",
      "model Equipment {\n",
      "  name: string;\n",
      "  type: string;\n",
      "}\n",
      "\n",
      "model WorkoutPlan {\n",
      "  exercises: Exercise[];\n",
      "  totalDuration: duration;\n",
      "  difficulty: string;\n",
      "}\n",
      "\n",
      "model ProgressRecord {\n",
      "  exercise: string;\n",
      "  history: Exercise[];\n",
      "  improvement: float;\n",
      "}\n",
      "\n",
      "interface GymBot {\n",
      "  @llm_func(2)\n",
      "  recordExercise(exercise: Exercise): void;\n",
      "\n",
      "  @llm_func(1)\n",
      "  suggestWorkout(\n",
      "    availableEquipment: Equipment[],\n",
      "    timeLimit: duration,\n",
      "    fitnessLevel: string\n",
      "  ): WorkoutPlan;\n",
      "\n",
      "  @llm_func(3)\n",
      "  trackProgress(\n",
      "    exerciseName: string,\n",
      "    from: utcDateTime,\n",
      "    to: utcDateTime\n",
      "  ): ProgressRecord;\n",
      "\n",
      "  @llm_func(1)\n",
      "  updateEquipment(equipment: Equipment[]): void;\n",
      "}\n"
     ]
    }
   ],
   "source": [
    "print(typespec[\"typespec_definitions\"])"
   ]
  },
  {
   "cell_type": "code",
   "execution_count": 241,
   "metadata": {},
   "outputs": [],
   "source": [
    "prompt = dzl_tpl.render(\n",
    "    typespec_definitions=typespec[\"typespec_definitions\"],\n",
    ")\n",
    "\n",
    "dzl_response = client.messages.create(\n",
    "    model=\"anthropic.claude-3-5-sonnet-20241022-v2:0\",\n",
    "    max_tokens=8192,\n",
    "    messages=[{\"role\": \"user\", \"content\": prompt}]\n",
    ")\n",
    "drizzle = stages.drizzle.parse_output(dzl_response.content[0].text)"
   ]
  },
  {
   "cell_type": "code",
   "execution_count": 242,
   "metadata": {},
   "outputs": [
    {
     "name": "stdout",
     "output_type": "stream",
     "text": [
      "import { \n",
      "  integer, \n",
      "  pgTable, \n",
      "  text, \n",
      "  real, \n",
      "  timestamp, \n",
      "  serial,\n",
      "  interval,\n",
      "  primaryKey \n",
      "} from \"drizzle-orm/pg-core\";\n",
      "\n",
      "export const equipmentTable = pgTable(\"equipment\", {\n",
      "  id: serial(\"id\").primaryKey(),\n",
      "  name: text(\"name\").notNull(),\n",
      "  type: text(\"type\").notNull(),\n",
      "  created_at: timestamp(\"created_at\").defaultNow().notNull()\n",
      "});\n",
      "\n",
      "export const exercisesTable = pgTable(\"exercises\", {\n",
      "  id: serial(\"id\").primaryKey(),\n",
      "  name: text(\"name\").notNull(),\n",
      "  sets: integer(\"sets\").notNull(),\n",
      "  reps: integer(\"reps\").notNull(),\n",
      "  weight: real(\"weight\").notNull(),\n",
      "  notes: text(\"notes\"),\n",
      "  created_at: timestamp(\"created_at\").defaultNow().notNull()\n",
      "});\n",
      "\n",
      "export const workoutPlansTable = pgTable(\"workout_plans\", {\n",
      "  id: serial(\"id\").primaryKey(),\n",
      "  total_duration: interval(\"total_duration\").notNull(),\n",
      "  difficulty: text(\"difficulty\").notNull(),\n",
      "  created_at: timestamp(\"created_at\").defaultNow().notNull()\n",
      "});\n",
      "\n",
      "export const workoutPlanExercisesTable = pgTable(\"workout_plan_exercises\", {\n",
      "  workout_plan_id: integer(\"workout_plan_id\")\n",
      "    .references(() => workoutPlansTable.id),\n",
      "  exercise_id: integer(\"exercise_id\")\n",
      "    .references(() => exercisesTable.id),\n",
      "  created_at: timestamp(\"created_at\").defaultNow().notNull()\n",
      "}, (table) => {\n",
      "  return {\n",
      "    pk: primaryKey({ columns: [table.workout_plan_id, table.exercise_id] })\n",
      "  };\n",
      "});\n",
      "\n",
      "export const exerciseHistoryTable = pgTable(\"exercise_history\", {\n",
      "  id: serial(\"id\").primaryKey(),\n",
      "  exercise_name: text(\"exercise_name\").notNull(),\n",
      "  sets: integer(\"sets\").notNull(),\n",
      "  reps: integer(\"reps\").notNull(),\n",
      "  weight: real(\"weight\").notNull(),\n",
      "  notes: text(\"notes\"),\n",
      "  recorded_at: timestamp(\"recorded_at\").defaultNow().notNull()\n",
      "});\n",
      "\n",
      "export const progressRecordsTable = pgTable(\"progress_records\", {\n",
      "  id: serial(\"id\").primaryKey(),\n",
      "  exercise_name: text(\"exercise_name\").notNull(),\n",
      "  improvement: real(\"improvement\").notNull(),\n",
      "  from_date: timestamp(\"from_date\").notNull(),\n",
      "  to_date: timestamp(\"to_date\").notNull(),\n",
      "  created_at: timestamp(\"created_at\").defaultNow().notNull()\n",
      "});\n"
     ]
    }
   ],
   "source": [
    "print(drizzle[\"drizzle_schema\"])"
   ]
  },
  {
   "cell_type": "code",
   "execution_count": 243,
   "metadata": {},
   "outputs": [],
   "source": [
    "prompt = rtr_tpl.render(\n",
    "    typespec_definitions=typespec[\"typespec_definitions\"],\n",
    "    user_request=\"I want to record my exercise routine for today.\"\n",
    ")\n",
    "\n",
    "exp_response = client.messages.create(\n",
    "    model=\"anthropic.claude-3-5-sonnet-20241022-v2:0\",\n",
    "    max_tokens=8192,\n",
    "    messages=[{\"role\": \"user\", \"content\": prompt}],\n",
    "    tools = stages.router.TOOLS\n",
    ")\n",
    "\n",
    "funcs = stages.router.parse_outputs([content for content in exp_response.content])[\"user_functions\"]\n"
   ]
  },
  {
   "cell_type": "code",
   "execution_count": 244,
   "metadata": {},
   "outputs": [
    {
     "data": {
      "text/plain": [
       "[{'name': 'recordExercise',\n",
       "  'description': 'Records a single exercise performed by the user, including details like name, sets, reps, weight, and any additional notes about the exercise.',\n",
       "  'examples': ['I did 3 sets of bench press with 150 lbs',\n",
       "   'Just finished 4 sets of squats, 12 reps each at 200 pounds',\n",
       "   'Record my exercise: 3x10 deadlifts at 225 lbs',\n",
       "   'I want to record my exercise routine for today',\n",
       "   'Log my workout: did some pull-ups, 3 sets of 8']},\n",
       " {'name': 'suggestWorkout',\n",
       "  'description': \"Suggests a workout plan based on available equipment, time constraints, and user's fitness level. Returns a structured workout plan with exercises and duration.\",\n",
       "  'examples': ['What workout can I do with dumbbells in 30 minutes?',\n",
       "   'Suggest exercises for a beginner with basic home equipment',\n",
       "   'I have 45 minutes, what workout should I do at the gym?',\n",
       "   'Create a workout plan for an advanced lifter',\n",
       "   'What exercises can I do with just a resistance band?']},\n",
       " {'name': 'trackProgress',\n",
       "  'description': 'Tracks and analyzes progress for a specific exercise over a given time period, showing historical data and improvement metrics.',\n",
       "  'examples': ['Show my bench press progress over the last month',\n",
       "   'How has my squat improved since January?',\n",
       "   'Track my deadlift progress for the past 3 months',\n",
       "   'Show my pull-up improvements',\n",
       "   \"What's my progress on overhead press?\"]},\n",
       " {'name': 'updateEquipment',\n",
       "  'description': 'Updates the list of available equipment in the system, used for managing what equipment the user has access to for workouts.',\n",
       "  'examples': ['I bought new dumbbells',\n",
       "   'Update my gym equipment list',\n",
       "   'Add a rowing machine to my equipment',\n",
       "   'I now have access to a power rack',\n",
       "   'Remove the resistance bands from my equipment']}]"
      ]
     },
     "execution_count": 244,
     "metadata": {},
     "output_type": "execute_result"
    }
   ],
   "source": [
    "funcs"
   ]
  },
  {
   "cell_type": "code",
   "execution_count": 245,
   "metadata": {},
   "outputs": [],
   "source": [
    "pre_processors = {}\n",
    "for function_name in typespec[\"llm_functions\"]:\n",
    "    prompt = pre_tpl.render(\n",
    "        function_name=function_name,\n",
    "        typespec_definitions=typespec[\"typespec_definitions\"],\n",
    "    )\n",
    "\n",
    "    pre_response = client.messages.create(\n",
    "        model=\"anthropic.claude-3-5-sonnet-20241022-v2:0\",\n",
    "        max_tokens=8192,\n",
    "        messages=[{\"role\": \"user\", \"content\": prompt}]\n",
    "    )\n",
    "    pre_processor = stages.processors.parse_output(pre_response.content[0].text)\n",
    "    pre_processors[function_name] = pre_processor"
   ]
  },
  {
   "cell_type": "code",
   "execution_count": 246,
   "metadata": {},
   "outputs": [
    {
     "name": "stdout",
     "output_type": "stream",
     "text": [
      "<instructions>\n",
      "When processing user input for updateEquipment function:\n",
      "1. Parse equipment names and types from user messages\n",
      "2. Each equipment item must have both name and type properties\n",
      "3. Multiple equipment items should be collected into an array\n",
      "4. Equipment types should be standardized to common categories: \"cardio\", \"strength\", \"flexibility\", \"functional\"\n",
      "5. If type is not specified, infer from common equipment categories\n",
      "</instructions>\n",
      "\n",
      "<examples>\n",
      "    <example>\n",
      "        <input>Added new treadmill and two dumbbells sets to the gym</input>\n",
      "        <output>{\n",
      "  \"equipment\": [\n",
      "    {\n",
      "      \"name\": \"treadmill\",\n",
      "      \"type\": \"cardio\"\n",
      "    },\n",
      "    {\n",
      "      \"name\": \"dumbbells\",\n",
      "      \"type\": \"strength\"\n",
      "    }\n",
      "  ]\n",
      "}</output>\n",
      "    </example>\n",
      "\n",
      "    <example>\n",
      "        <input>Got new yoga mats and resistance bands</input>\n",
      "        <output>{\n",
      "  \"equipment\": [\n",
      "    {\n",
      "      \"name\": \"yoga mat\",\n",
      "      \"type\": \"flexibility\"\n",
      "    },\n",
      "    {\n",
      "      \"name\": \"resistance bands\",\n",
      "      \"type\": \"strength\"\n",
      "    }\n",
      "  ]\n",
      "}</output>\n",
      "    </example>\n",
      "\n",
      "    <example>\n",
      "        <input>Removing the old bench press, updating with a new power rack</input>\n",
      "        <output>{\n",
      "  \"equipment\": [\n",
      "    {\n",
      "      \"name\": \"power rack\",\n",
      "      \"type\": \"strength\"\n",
      "    }\n",
      "  ]\n",
      "}</output>\n",
      "    </example>\n",
      "\n",
      "    <example>\n",
      "        <input>Adding kettlebells, battle ropes, and a rowing machine to our functional area</input>\n",
      "        <output>{\n",
      "  \"equipment\": [\n",
      "    {\n",
      "      \"name\": \"kettlebells\",\n",
      "      \"type\": \"functional\"\n",
      "    },\n",
      "    {\n",
      "      \"name\": \"battle ropes\",\n",
      "      \"type\": \"functional\"\n",
      "    },\n",
      "    {\n",
      "      \"name\": \"rowing machine\",\n",
      "      \"type\": \"cardio\"\n",
      "    }\n",
      "  ]\n",
      "}</output>\n",
      "    </example>\n",
      "</examples>\n"
     ]
    }
   ],
   "source": [
    "print(pre_response.content[0].text)"
   ]
  },
  {
   "cell_type": "code",
   "execution_count": 247,
   "metadata": {},
   "outputs": [
    {
     "data": {
      "text/plain": [
       "{'recordExercise': {'instructions': 'The recordExercise function expects a complete Exercise object with the following properties:\\n- name: String describing the exercise (required)\\n- sets: Integer number of sets (default to 1 if not specified)\\n- reps: Integer number of repetitions (default to 1 if not specified)\\n- weight: Float value in kg/lbs (default to 0 if not specified)\\n- notes: String for additional comments (default to empty string if not specified)\\n\\nParse natural language input to extract exercise details. Use pattern matching for common formats like \"exercise_name weightxreps\" or \"exercise_name sets/reps/weight\".',\n",
       "  'examples': [('bench press 80x6',\n",
       "    '{\\n    \"name\": \"bench press\",\\n    \"sets\": 1,\\n    \"reps\": 6,\\n    \"weight\": 80.0,\\n    \"notes\": \"\"\\n}'),\n",
       "   ('did 3 sets of squats at 100kg, 12 reps each',\n",
       "    '{\\n    \"name\": \"squats\",\\n    \"sets\": 3,\\n    \"reps\": 12,\\n    \"weight\": 100.0,\\n    \"notes\": \"\"\\n}'),\n",
       "   ('pushups 3x15 feeling tired today',\n",
       "    '{\\n    \"name\": \"pushups\",\\n    \"sets\": 3,\\n    \"reps\": 15,\\n    \"weight\": 0.0,\\n    \"notes\": \"feeling tired today\"\\n}'),\n",
       "   ('deadlift 120kg 5/5/5 form was good',\n",
       "    '{\\n    \"name\": \"deadlift\",\\n    \"sets\": 3,\\n    \"reps\": 5,\\n    \"weight\": 120.0,\\n    \"notes\": \"form was good\"\\n}'),\n",
       "   ('just did some pullups',\n",
       "    '{\\n    \"name\": \"pullups\",\\n    \"sets\": 1,\\n    \"reps\": 1,\\n    \"weight\": 0.0,\\n    \"notes\": \"\"\\n}')]},\n",
       " 'suggestWorkout': {'instructions': 'For suggestWorkout function:\\n- Equipment array should list available gym equipment with name and type\\n- TimeLimit should be parsed into a duration format (minutes)\\n- FitnessLevel should be interpreted as \"beginner\", \"intermediate\", or \"advanced\"\\n- If equipment is not specified, assume basic home gym equipment\\n- If time limit is not specified, default to 60 minutes\\n- If fitness level is not specified, default to \"beginner\"',\n",
       "  'examples': [(\"I have a barbell, some dumbbells, and a bench. I'm new to working out and have 30 minutes.\",\n",
       "    '{\\n    \"availableEquipment\": [\\n        {\"name\": \"barbell\", \"type\": \"free weights\"},\\n        {\"name\": \"dumbbells\", \"type\": \"free weights\"},\\n        {\"name\": \"bench\", \"type\": \"station\"}\\n    ],\\n    \"timeLimit\": \"PT30M\",\\n    \"fitnessLevel\": \"beginner\"\\n}'),\n",
       "   (\"I'm an experienced lifter and want to work out for an hour at a fully equipped gym\",\n",
       "    '{\\n    \"availableEquipment\": [\\n        {\"name\": \"barbell\", \"type\": \"free weights\"},\\n        {\"name\": \"dumbbells\", \"type\": \"free weights\"},\\n        {\"name\": \"bench\", \"type\": \"station\"},\\n        {\"name\": \"squat rack\", \"type\": \"station\"},\\n        {\"name\": \"cable machine\", \"type\": \"machine\"},\\n        {\"name\": \"leg press\", \"type\": \"machine\"}\\n    ],\\n    \"timeLimit\": \"PT60M\",\\n    \"fitnessLevel\": \"advanced\"\\n}'),\n",
       "   ('Quick 20-minute workout with just resistance bands',\n",
       "    '{\\n    \"availableEquipment\": [\\n        {\"name\": \"resistance bands\", \"type\": \"bands\"}\\n    ],\\n    \"timeLimit\": \"PT20M\",\\n    \"fitnessLevel\": \"beginner\"\\n}'),\n",
       "   (\"I'm at intermediate level and have 45 minutes to train with kettlebells and a pull-up bar\",\n",
       "    '{\\n    \"availableEquipment\": [\\n        {\"name\": \"kettlebells\", \"type\": \"free weights\"},\\n        {\"name\": \"pull-up bar\", \"type\": \"station\"}\\n    ],\\n    \"timeLimit\": \"PT45M\",\\n    \"fitnessLevel\": \"intermediate\"\\n}')]},\n",
       " 'trackProgress': {'instructions': 'For the trackProgress function:\\n1. Extract exercise name from user input, defaulting to most recently mentioned exercise if unclear\\n2. Convert date/time references to UTC format\\n3. If date range is not specified, default \"from\" to 30 days before current date and \"to\" to current date\\n4. Accept various date formats and relative time references (e.g., \"last month\", \"past week\")\\n5. Handle exercise name variations and common abbreviations',\n",
       "  'examples': [('Show my bench press progress since last month',\n",
       "    '{\\n            \"exerciseName\": \"bench press\",\\n            \"from\": \"2024-01-15T00:00:00Z\",\\n            \"to\": \"2024-02-15T23:59:59Z\"\\n        }'),\n",
       "   ('Track my squat improvements between January 1st and today',\n",
       "    '{\\n            \"exerciseName\": \"squat\",\\n            \"from\": \"2024-01-01T00:00:00Z\",\\n            \"to\": \"2024-02-15T23:59:59Z\"\\n        }'),\n",
       "   ('How has my deadlift changed in the past week?',\n",
       "    '{\\n            \"exerciseName\": \"deadlift\",\\n            \"from\": \"2024-02-08T00:00:00Z\",\\n            \"to\": \"2024-02-15T23:59:59Z\"\\n        }'),\n",
       "   ('Check progress for pull-ups from 2023-12-01 to 2024-02-01',\n",
       "    '{\\n            \"exerciseName\": \"pull-ups\",\\n            \"from\": \"2023-12-01T00:00:00Z\",\\n            \"to\": \"2024-02-01T23:59:59Z\"\\n        }'),\n",
       "   ('How am I doing with bicep curls?',\n",
       "    '{\\n            \"exerciseName\": \"bicep curls\",\\n            \"from\": \"2024-01-15T00:00:00Z\",\\n            \"to\": \"2024-02-15T23:59:59Z\"\\n        }')]},\n",
       " 'updateEquipment': {'instructions': 'When processing user input for updateEquipment function:\\n1. Parse equipment names and types from user messages\\n2. Each equipment item must have both name and type properties\\n3. Multiple equipment items should be collected into an array\\n4. Equipment types should be standardized to common categories: \"cardio\", \"strength\", \"flexibility\", \"functional\"\\n5. If type is not specified, infer from common equipment categories',\n",
       "  'examples': [('Added new treadmill and two dumbbells sets to the gym',\n",
       "    '{\\n  \"equipment\": [\\n    {\\n      \"name\": \"treadmill\",\\n      \"type\": \"cardio\"\\n    },\\n    {\\n      \"name\": \"dumbbells\",\\n      \"type\": \"strength\"\\n    }\\n  ]\\n}'),\n",
       "   ('Got new yoga mats and resistance bands',\n",
       "    '{\\n  \"equipment\": [\\n    {\\n      \"name\": \"yoga mat\",\\n      \"type\": \"flexibility\"\\n    },\\n    {\\n      \"name\": \"resistance bands\",\\n      \"type\": \"strength\"\\n    }\\n  ]\\n}'),\n",
       "   ('Removing the old bench press, updating with a new power rack',\n",
       "    '{\\n  \"equipment\": [\\n    {\\n      \"name\": \"power rack\",\\n      \"type\": \"strength\"\\n    }\\n  ]\\n}'),\n",
       "   ('Adding kettlebells, battle ropes, and a rowing machine to our functional area',\n",
       "    '{\\n  \"equipment\": [\\n    {\\n      \"name\": \"kettlebells\",\\n      \"type\": \"functional\"\\n    },\\n    {\\n      \"name\": \"battle ropes\",\\n      \"type\": \"functional\"\\n    },\\n    {\\n      \"name\": \"rowing machine\",\\n      \"type\": \"cardio\"\\n    }\\n  ]\\n}')]}}"
      ]
     },
     "execution_count": 247,
     "metadata": {},
     "output_type": "execute_result"
    }
   ],
   "source": [
    "pre_processors"
   ]
  },
  {
   "cell_type": "code",
   "execution_count": 248,
   "metadata": {},
   "outputs": [],
   "source": [
    "handlers = {}\n",
    "for function_name in typespec[\"llm_functions\"]:\n",
    "    prompt = hdl_tpl.render(\n",
    "        function_name=function_name,\n",
    "        typespec_definitions=typespec[\"typespec_definitions\"],\n",
    "        drizzle_schema=drizzle[\"drizzle_schema\"],\n",
    "    )\n",
    "\n",
    "    hdl_response = client.messages.create(\n",
    "        model=\"anthropic.claude-3-5-sonnet-20241022-v2:0\",\n",
    "        max_tokens=8192,\n",
    "        messages=[{\"role\": \"user\", \"content\": prompt}]\n",
    "    )\n",
    "    handlers[function_name] = stages.handlers.parse_output(hdl_response.content[0].text)\n"
   ]
  },
  {
   "cell_type": "code",
   "execution_count": 255,
   "metadata": {},
   "outputs": [
    {
     "ename": "KeyError",
     "evalue": "'instructions'",
     "output_type": "error",
     "traceback": [
      "\u001b[0;31m---------------------------------------------------------------------------\u001b[0m",
      "\u001b[0;31mKeyError\u001b[0m                                  Traceback (most recent call last)",
      "Cell \u001b[0;32mIn[255], line 5\u001b[0m\n\u001b[1;32m      1\u001b[0m handlers\n\u001b[1;32m      3\u001b[0m handlers[\u001b[38;5;124m\"\u001b[39m\u001b[38;5;124msuggestWorkout\u001b[39m\u001b[38;5;124m\"\u001b[39m][\u001b[38;5;124m\"\u001b[39m\u001b[38;5;124mmodule\u001b[39m\u001b[38;5;124m\"\u001b[39m] \u001b[38;5;241m=\u001b[39m \u001b[38;5;124m\"\u001b[39m\u001b[38;5;124mtest\u001b[39m\u001b[38;5;124m\"\u001b[39m\n\u001b[0;32m----> 5\u001b[0m \u001b[43mhandlers\u001b[49m\u001b[43m[\u001b[49m\u001b[38;5;124;43m\"\u001b[39;49m\u001b[38;5;124;43msuggestWorkout\u001b[39;49m\u001b[38;5;124;43m\"\u001b[39;49m\u001b[43m]\u001b[49m\u001b[43m[\u001b[49m\u001b[38;5;124;43m\"\u001b[39;49m\u001b[38;5;124;43minstructions\u001b[39;49m\u001b[38;5;124;43m\"\u001b[39;49m\u001b[43m]\u001b[49m\n\u001b[1;32m      6\u001b[0m handlers[\u001b[38;5;124m\"\u001b[39m\u001b[38;5;124msuggestWorkout\u001b[39m\u001b[38;5;124m\"\u001b[39m][\u001b[38;5;124m\"\u001b[39m\u001b[38;5;124mexamples\u001b[39m\u001b[38;5;124m\"\u001b[39m]\n",
      "\u001b[0;31mKeyError\u001b[0m: 'instructions'"
     ]
    }
   ],
   "source": [
    "handlers\n"
   ]
  },
  {
   "cell_type": "code",
   "execution_count": null,
   "metadata": {},
   "outputs": [
    {
     "data": {
      "text/plain": [
       "{'recordExercise': {'handler': 'import { db } from \"../db\";\\nimport { exercisesTable, exerciseHistoryTable } from \\'../db/schema/application\\';\\n\\nconst handle = async (exercise: Exercise): Promise<void> => {\\n    // Record the exercise in both current exercises and history tables\\n    await Promise.all([\\n        // Insert into main exercises table\\n        db.insert(exercisesTable).values({\\n            name: exercise.name,\\n            sets: exercise.sets,\\n            reps: exercise.reps,\\n            weight: exercise.weight,\\n            notes: exercise.notes\\n        }),\\n        \\n        // Insert into exercise history for tracking progress\\n        db.insert(exerciseHistoryTable).values({\\n            exercise_name: exercise.name,\\n            sets: exercise.sets,\\n            reps: exercise.reps,\\n            weight: exercise.weight,\\n            notes: exercise.notes\\n        })\\n    ]);\\n};',\n",
       "  'module': 'record_exercise'},\n",
       " 'suggestWorkout': {'handler': 'import { db } from \"../db\";\\nimport { \\n    workoutPlansTable, \\n    exercisesTable, \\n    workoutPlanExercisesTable \\n} from \\'../db/schema/application\\';\\n\\nconst handle = async (\\n    availableEquipment: { name: string; type: string }[],\\n    timeLimit: string,\\n    fitnessLevel: string\\n): Promise<{\\n    exercises: Array<{\\n        name: string;\\n        sets: number;\\n        reps: number;\\n        weight: number;\\n        notes: string;\\n    }>;\\n    totalDuration: string;\\n    difficulty: string;\\n}> => {\\n    // Create the workout plan record\\n    const [workoutPlan] = await db\\n        .insert(workoutPlansTable)\\n        .values({\\n            total_duration: timeLimit,\\n            difficulty: fitnessLevel,\\n        })\\n        .returning();\\n\\n    // Get suggested exercises from LLM response and store them\\n    const exercises = await Promise.all(suggestedExercises.map(async (exercise) => {\\n        const [exerciseRecord] = await db\\n            .insert(exercisesTable)\\n            .values({\\n                name: exercise.name,\\n                sets: exercise.sets,\\n                reps: exercise.reps,\\n                weight: exercise.weight,\\n                notes: exercise.notes,\\n            })\\n            .returning();\\n\\n        // Create relationship between workout plan and exercise\\n        await db.insert(workoutPlanExercisesTable).values({\\n            workout_plan_id: workoutPlan.id,\\n            exercise_id: exerciseRecord.id,\\n        });\\n\\n        return exercise;\\n    }));\\n\\n    return {\\n        exercises,\\n        totalDuration: timeLimit,\\n        difficulty: fitnessLevel,\\n    };\\n};',\n",
       "  'module': 'suggest_workout'},\n",
       " 'trackProgress': {'handler': 'import { db } from \"../db\";\\nimport { exerciseHistoryTable, progressRecordsTable } from \\'../db/schema/application\\';\\nimport { eq, and, between } from \\'drizzle-orm\\';\\n\\nconst handle = async (exerciseName: string, fromDate: Date, toDate: Date): Promise<{\\n    exercise: string;\\n    history: Array<{\\n        name: string;\\n        sets: number;\\n        reps: number;\\n        weight: number;\\n        notes: string | null;\\n    }>;\\n    improvement: number;\\n}> => {\\n    // Get exercise history within the date range\\n    const history = await db\\n        .select({\\n            name: exerciseHistoryTable.exercise_name,\\n            sets: exerciseHistoryTable.sets,\\n            reps: exerciseHistoryTable.reps,\\n            weight: exerciseHistoryTable.weight,\\n            notes: exerciseHistoryTable.notes,\\n        })\\n        .from(exerciseHistoryTable)\\n        .where(\\n            and(\\n                eq(exerciseHistoryTable.exercise_name, exerciseName),\\n                between(exerciseHistoryTable.recorded_at, fromDate, toDate)\\n            )\\n        )\\n        .orderBy(exerciseHistoryTable.recorded_at);\\n\\n    // Calculate improvement (based on weight progression)\\n    let improvement = 0;\\n    if (history.length >= 2) {\\n        const firstRecord = history[0];\\n        const lastRecord = history[history.length - 1];\\n        improvement = ((lastRecord.weight - firstRecord.weight) / firstRecord.weight) * 100;\\n    }\\n\\n    // Store progress record\\n    await db.insert(progressRecordsTable).values({\\n        exercise_name: exerciseName,\\n        improvement,\\n        from_date: fromDate,\\n        to_date: toDate,\\n    });\\n\\n    return {\\n        exercise: exerciseName,\\n        history,\\n        improvement,\\n    };\\n};',\n",
       "  'module': 'track_progress'},\n",
       " 'updateEquipment': {'handler': 'import { db } from \"../db\";\\nimport { equipmentTable } from \\'../db/schema/application\\';\\nimport { sql } from \\'drizzle-orm\\';\\n\\nconst handle = async (equipment: Array<{ name: string; type: string }>): Promise<void> => {\\n    // First, clear existing equipment\\n    await db.delete(equipmentTable).execute();\\n    \\n    // Then insert all new equipment records\\n    if (equipment.length > 0) {\\n        await db.insert(equipmentTable)\\n            .values(equipment.map(eq => ({\\n                name: eq.name,\\n                type: eq.type\\n            })))\\n            .execute();\\n    }\\n};',\n",
       "  'module': 'update_equipment'}}"
      ]
     },
     "execution_count": 256,
     "metadata": {},
     "output_type": "execute_result"
    }
   ],
   "source": [
    "from core.interpolator import Interpolator\n",
    "\n",
    "interpolator = Interpolator('./app_output')\n",
    "\n",
    "handlers = interpolator.interpolate_all(handlers, pre_processors)\n"
   ]
  },
  {
   "cell_type": "code",
   "execution_count": 251,
   "metadata": {},
   "outputs": [
    {
     "data": {
      "text/plain": [
       "{'recordExercise': {'handler': 'import { db } from \"../db\";\\nimport { exercisesTable, exerciseHistoryTable } from \\'../db/schema/application\\';\\n\\nconst handle = async (exercise: Exercise): Promise<void> => {\\n    // Record the exercise in both current exercises and history tables\\n    await Promise.all([\\n        // Insert into main exercises table\\n        db.insert(exercisesTable).values({\\n            name: exercise.name,\\n            sets: exercise.sets,\\n            reps: exercise.reps,\\n            weight: exercise.weight,\\n            notes: exercise.notes\\n        }),\\n        \\n        // Insert into exercise history for tracking progress\\n        db.insert(exerciseHistoryTable).values({\\n            exercise_name: exercise.name,\\n            sets: exercise.sets,\\n            reps: exercise.reps,\\n            weight: exercise.weight,\\n            notes: exercise.notes\\n        })\\n    ]);\\n};',\n",
       "  'module': 'record_exercise'},\n",
       " 'suggestWorkout': {'handler': 'import { db } from \"../db\";\\nimport { \\n    workoutPlansTable, \\n    exercisesTable, \\n    workoutPlanExercisesTable \\n} from \\'../db/schema/application\\';\\n\\nconst handle = async (\\n    availableEquipment: { name: string; type: string }[],\\n    timeLimit: string,\\n    fitnessLevel: string\\n): Promise<{\\n    exercises: Array<{\\n        name: string;\\n        sets: number;\\n        reps: number;\\n        weight: number;\\n        notes: string;\\n    }>;\\n    totalDuration: string;\\n    difficulty: string;\\n}> => {\\n    // Create the workout plan record\\n    const [workoutPlan] = await db\\n        .insert(workoutPlansTable)\\n        .values({\\n            total_duration: timeLimit,\\n            difficulty: fitnessLevel,\\n        })\\n        .returning();\\n\\n    // Get suggested exercises from LLM response and store them\\n    const exercises = await Promise.all(suggestedExercises.map(async (exercise) => {\\n        const [exerciseRecord] = await db\\n            .insert(exercisesTable)\\n            .values({\\n                name: exercise.name,\\n                sets: exercise.sets,\\n                reps: exercise.reps,\\n                weight: exercise.weight,\\n                notes: exercise.notes,\\n            })\\n            .returning();\\n\\n        // Create relationship between workout plan and exercise\\n        await db.insert(workoutPlanExercisesTable).values({\\n            workout_plan_id: workoutPlan.id,\\n            exercise_id: exerciseRecord.id,\\n        });\\n\\n        return exercise;\\n    }));\\n\\n    return {\\n        exercises,\\n        totalDuration: timeLimit,\\n        difficulty: fitnessLevel,\\n    };\\n};',\n",
       "  'module': 'suggest_workout'},\n",
       " 'trackProgress': {'handler': 'import { db } from \"../db\";\\nimport { exerciseHistoryTable, progressRecordsTable } from \\'../db/schema/application\\';\\nimport { eq, and, between } from \\'drizzle-orm\\';\\n\\nconst handle = async (exerciseName: string, fromDate: Date, toDate: Date): Promise<{\\n    exercise: string;\\n    history: Array<{\\n        name: string;\\n        sets: number;\\n        reps: number;\\n        weight: number;\\n        notes: string | null;\\n    }>;\\n    improvement: number;\\n}> => {\\n    // Get exercise history within the date range\\n    const history = await db\\n        .select({\\n            name: exerciseHistoryTable.exercise_name,\\n            sets: exerciseHistoryTable.sets,\\n            reps: exerciseHistoryTable.reps,\\n            weight: exerciseHistoryTable.weight,\\n            notes: exerciseHistoryTable.notes,\\n        })\\n        .from(exerciseHistoryTable)\\n        .where(\\n            and(\\n                eq(exerciseHistoryTable.exercise_name, exerciseName),\\n                between(exerciseHistoryTable.recorded_at, fromDate, toDate)\\n            )\\n        )\\n        .orderBy(exerciseHistoryTable.recorded_at);\\n\\n    // Calculate improvement (based on weight progression)\\n    let improvement = 0;\\n    if (history.length >= 2) {\\n        const firstRecord = history[0];\\n        const lastRecord = history[history.length - 1];\\n        improvement = ((lastRecord.weight - firstRecord.weight) / firstRecord.weight) * 100;\\n    }\\n\\n    // Store progress record\\n    await db.insert(progressRecordsTable).values({\\n        exercise_name: exerciseName,\\n        improvement,\\n        from_date: fromDate,\\n        to_date: toDate,\\n    });\\n\\n    return {\\n        exercise: exerciseName,\\n        history,\\n        improvement,\\n    };\\n};',\n",
       "  'module': 'track_progress'},\n",
       " 'updateEquipment': {'handler': 'import { db } from \"../db\";\\nimport { equipmentTable } from \\'../db/schema/application\\';\\nimport { sql } from \\'drizzle-orm\\';\\n\\nconst handle = async (equipment: Array<{ name: string; type: string }>): Promise<void> => {\\n    // First, clear existing equipment\\n    await db.delete(equipmentTable).execute();\\n    \\n    // Then insert all new equipment records\\n    if (equipment.length > 0) {\\n        await db.insert(equipmentTable)\\n            .values(equipment.map(eq => ({\\n                name: eq.name,\\n                type: eq.type\\n            })))\\n            .execute();\\n    }\\n};',\n",
       "  'module': 'update_equipment'}}"
      ]
     },
     "execution_count": 251,
     "metadata": {},
     "output_type": "execute_result"
    }
   ],
   "source": [
    "handlers"
   ]
  },
  {
   "cell_type": "code",
   "execution_count": 252,
   "metadata": {},
   "outputs": [
    {
     "ename": "FileNotFoundError",
     "evalue": "[Errno 2] No such file or directory: './templates/interpolation/router.tpl'",
     "output_type": "error",
     "traceback": [
      "\u001b[0;31m---------------------------------------------------------------------------\u001b[0m",
      "\u001b[0;31mFileNotFoundError\u001b[0m                         Traceback (most recent call last)",
      "Cell \u001b[0;32mIn[252], line 1\u001b[0m\n\u001b[0;32m----> 1\u001b[0m \u001b[38;5;28;01mwith\u001b[39;00m \u001b[38;5;28;43mopen\u001b[39;49m\u001b[43m(\u001b[49m\u001b[38;5;124;43m\"\u001b[39;49m\u001b[38;5;124;43m./templates/interpolation/router.tpl\u001b[39;49m\u001b[38;5;124;43m\"\u001b[39;49m\u001b[43m,\u001b[49m\u001b[43m \u001b[49m\u001b[38;5;124;43m\"\u001b[39;49m\u001b[38;5;124;43mr\u001b[39;49m\u001b[38;5;124;43m\"\u001b[39;49m\u001b[43m)\u001b[49m \u001b[38;5;28;01mas\u001b[39;00m f:\n\u001b[1;32m      2\u001b[0m     logic_index_tpl \u001b[38;5;241m=\u001b[39m environment\u001b[38;5;241m.\u001b[39mfrom_string(f\u001b[38;5;241m.\u001b[39mread())\n\u001b[1;32m      4\u001b[0m     params \u001b[38;5;241m=\u001b[39m {\n\u001b[1;32m      5\u001b[0m         \u001b[38;5;124m\"\u001b[39m\u001b[38;5;124mhandlers\u001b[39m\u001b[38;5;124m\"\u001b[39m: handlers\n\u001b[1;32m      6\u001b[0m     }\n",
      "File \u001b[0;32m~/neon/bot-new/.venv/lib/python3.12/site-packages/IPython/core/interactiveshell.py:324\u001b[0m, in \u001b[0;36m_modified_open\u001b[0;34m(file, *args, **kwargs)\u001b[0m\n\u001b[1;32m    317\u001b[0m \u001b[38;5;28;01mif\u001b[39;00m file \u001b[38;5;129;01min\u001b[39;00m {\u001b[38;5;241m0\u001b[39m, \u001b[38;5;241m1\u001b[39m, \u001b[38;5;241m2\u001b[39m}:\n\u001b[1;32m    318\u001b[0m     \u001b[38;5;28;01mraise\u001b[39;00m \u001b[38;5;167;01mValueError\u001b[39;00m(\n\u001b[1;32m    319\u001b[0m         \u001b[38;5;124mf\u001b[39m\u001b[38;5;124m\"\u001b[39m\u001b[38;5;124mIPython won\u001b[39m\u001b[38;5;124m'\u001b[39m\u001b[38;5;124mt let you open fd=\u001b[39m\u001b[38;5;132;01m{\u001b[39;00mfile\u001b[38;5;132;01m}\u001b[39;00m\u001b[38;5;124m by default \u001b[39m\u001b[38;5;124m\"\u001b[39m\n\u001b[1;32m    320\u001b[0m         \u001b[38;5;124m\"\u001b[39m\u001b[38;5;124mas it is likely to crash IPython. If you know what you are doing, \u001b[39m\u001b[38;5;124m\"\u001b[39m\n\u001b[1;32m    321\u001b[0m         \u001b[38;5;124m\"\u001b[39m\u001b[38;5;124myou can use builtins\u001b[39m\u001b[38;5;124m'\u001b[39m\u001b[38;5;124m open.\u001b[39m\u001b[38;5;124m\"\u001b[39m\n\u001b[1;32m    322\u001b[0m     )\n\u001b[0;32m--> 324\u001b[0m \u001b[38;5;28;01mreturn\u001b[39;00m \u001b[43mio_open\u001b[49m\u001b[43m(\u001b[49m\u001b[43mfile\u001b[49m\u001b[43m,\u001b[49m\u001b[43m \u001b[49m\u001b[38;5;241;43m*\u001b[39;49m\u001b[43margs\u001b[49m\u001b[43m,\u001b[49m\u001b[43m \u001b[49m\u001b[38;5;241;43m*\u001b[39;49m\u001b[38;5;241;43m*\u001b[39;49m\u001b[43mkwargs\u001b[49m\u001b[43m)\u001b[49m\n",
      "\u001b[0;31mFileNotFoundError\u001b[0m: [Errno 2] No such file or directory: './templates/interpolation/router.tpl'"
     ]
    }
   ],
   "source": [
    "with open(\"./templates/interpolation/router.tpl\", \"r\") as f:\n",
    "    logic_index_tpl = environment.from_string(f.read())\n",
    "    \n",
    "    params = {\n",
    "        \"handlers\": handlers\n",
    "    }\n",
    "    file_content = logic_index_tpl.render(**params)\n",
    "    \n",
    "    with open(os.path.join('./app_output/app_schema/src/logic/router.ts'), 'w') as f:\n",
    "        f.write(file_content)\n",
    "            \n",
    "    print(file_content)"
   ]
  },
  {
   "cell_type": "markdown",
   "metadata": {},
   "source": [
    "# Project Generation"
   ]
  },
  {
   "cell_type": "code",
   "execution_count": 193,
   "metadata": {},
   "outputs": [],
   "source": [
    "from shutil import copytree, ignore_patterns"
   ]
  },
  {
   "cell_type": "code",
   "execution_count": 194,
   "metadata": {},
   "outputs": [],
   "source": [
    "def setup_project(workdir: str):\n",
    "    copytree('templates', workdir, ignore=ignore_patterns('*.pyc', '__pycache__', 'node_modules'))"
   ]
  },
  {
   "cell_type": "code",
   "execution_count": 195,
   "metadata": {},
   "outputs": [
    {
     "ename": "FileExistsError",
     "evalue": "[Errno 17] File exists: 'test'",
     "output_type": "error",
     "traceback": [
      "\u001b[0;31m---------------------------------------------------------------------------\u001b[0m",
      "\u001b[0;31mFileExistsError\u001b[0m                           Traceback (most recent call last)",
      "Cell \u001b[0;32mIn[195], line 1\u001b[0m\n\u001b[0;32m----> 1\u001b[0m \u001b[43msetup_project\u001b[49m\u001b[43m(\u001b[49m\u001b[38;5;124;43m'\u001b[39;49m\u001b[38;5;124;43mtest\u001b[39;49m\u001b[38;5;124;43m'\u001b[39;49m\u001b[43m)\u001b[49m\n",
      "Cell \u001b[0;32mIn[194], line 2\u001b[0m, in \u001b[0;36msetup_project\u001b[0;34m(workdir)\u001b[0m\n\u001b[1;32m      1\u001b[0m \u001b[38;5;28;01mdef\u001b[39;00m\u001b[38;5;250m \u001b[39m\u001b[38;5;21msetup_project\u001b[39m(workdir: \u001b[38;5;28mstr\u001b[39m):\n\u001b[0;32m----> 2\u001b[0m     \u001b[43mcopytree\u001b[49m\u001b[43m(\u001b[49m\u001b[38;5;124;43m'\u001b[39;49m\u001b[38;5;124;43mtemplates\u001b[39;49m\u001b[38;5;124;43m'\u001b[39;49m\u001b[43m,\u001b[49m\u001b[43m \u001b[49m\u001b[43mworkdir\u001b[49m\u001b[43m,\u001b[49m\u001b[43m \u001b[49m\u001b[43mignore\u001b[49m\u001b[38;5;241;43m=\u001b[39;49m\u001b[43mignore_patterns\u001b[49m\u001b[43m(\u001b[49m\u001b[38;5;124;43m'\u001b[39;49m\u001b[38;5;124;43m*.pyc\u001b[39;49m\u001b[38;5;124;43m'\u001b[39;49m\u001b[43m,\u001b[49m\u001b[43m \u001b[49m\u001b[38;5;124;43m'\u001b[39;49m\u001b[38;5;124;43m__pycache__\u001b[39;49m\u001b[38;5;124;43m'\u001b[39;49m\u001b[43m,\u001b[49m\u001b[43m \u001b[49m\u001b[38;5;124;43m'\u001b[39;49m\u001b[38;5;124;43mnode_modules\u001b[39;49m\u001b[38;5;124;43m'\u001b[39;49m\u001b[43m)\u001b[49m\u001b[43m)\u001b[49m\n",
      "File \u001b[0;32m/usr/lib/python3.12/shutil.py:600\u001b[0m, in \u001b[0;36mcopytree\u001b[0;34m(src, dst, symlinks, ignore, copy_function, ignore_dangling_symlinks, dirs_exist_ok)\u001b[0m\n\u001b[1;32m    598\u001b[0m \u001b[38;5;28;01mwith\u001b[39;00m os\u001b[38;5;241m.\u001b[39mscandir(src) \u001b[38;5;28;01mas\u001b[39;00m itr:\n\u001b[1;32m    599\u001b[0m     entries \u001b[38;5;241m=\u001b[39m \u001b[38;5;28mlist\u001b[39m(itr)\n\u001b[0;32m--> 600\u001b[0m \u001b[38;5;28;01mreturn\u001b[39;00m \u001b[43m_copytree\u001b[49m\u001b[43m(\u001b[49m\u001b[43mentries\u001b[49m\u001b[38;5;241;43m=\u001b[39;49m\u001b[43mentries\u001b[49m\u001b[43m,\u001b[49m\u001b[43m \u001b[49m\u001b[43msrc\u001b[49m\u001b[38;5;241;43m=\u001b[39;49m\u001b[43msrc\u001b[49m\u001b[43m,\u001b[49m\u001b[43m \u001b[49m\u001b[43mdst\u001b[49m\u001b[38;5;241;43m=\u001b[39;49m\u001b[43mdst\u001b[49m\u001b[43m,\u001b[49m\u001b[43m \u001b[49m\u001b[43msymlinks\u001b[49m\u001b[38;5;241;43m=\u001b[39;49m\u001b[43msymlinks\u001b[49m\u001b[43m,\u001b[49m\n\u001b[1;32m    601\u001b[0m \u001b[43m                 \u001b[49m\u001b[43mignore\u001b[49m\u001b[38;5;241;43m=\u001b[39;49m\u001b[43mignore\u001b[49m\u001b[43m,\u001b[49m\u001b[43m \u001b[49m\u001b[43mcopy_function\u001b[49m\u001b[38;5;241;43m=\u001b[39;49m\u001b[43mcopy_function\u001b[49m\u001b[43m,\u001b[49m\n\u001b[1;32m    602\u001b[0m \u001b[43m                 \u001b[49m\u001b[43mignore_dangling_symlinks\u001b[49m\u001b[38;5;241;43m=\u001b[39;49m\u001b[43mignore_dangling_symlinks\u001b[49m\u001b[43m,\u001b[49m\n\u001b[1;32m    603\u001b[0m \u001b[43m                 \u001b[49m\u001b[43mdirs_exist_ok\u001b[49m\u001b[38;5;241;43m=\u001b[39;49m\u001b[43mdirs_exist_ok\u001b[49m\u001b[43m)\u001b[49m\n",
      "File \u001b[0;32m/usr/lib/python3.12/shutil.py:498\u001b[0m, in \u001b[0;36m_copytree\u001b[0;34m(entries, src, dst, symlinks, ignore, copy_function, ignore_dangling_symlinks, dirs_exist_ok)\u001b[0m\n\u001b[1;32m    495\u001b[0m \u001b[38;5;28;01melse\u001b[39;00m:\n\u001b[1;32m    496\u001b[0m     ignored_names \u001b[38;5;241m=\u001b[39m ()\n\u001b[0;32m--> 498\u001b[0m \u001b[43mos\u001b[49m\u001b[38;5;241;43m.\u001b[39;49m\u001b[43mmakedirs\u001b[49m\u001b[43m(\u001b[49m\u001b[43mdst\u001b[49m\u001b[43m,\u001b[49m\u001b[43m \u001b[49m\u001b[43mexist_ok\u001b[49m\u001b[38;5;241;43m=\u001b[39;49m\u001b[43mdirs_exist_ok\u001b[49m\u001b[43m)\u001b[49m\n\u001b[1;32m    499\u001b[0m errors \u001b[38;5;241m=\u001b[39m []\n\u001b[1;32m    500\u001b[0m use_srcentry \u001b[38;5;241m=\u001b[39m copy_function \u001b[38;5;129;01mis\u001b[39;00m copy2 \u001b[38;5;129;01mor\u001b[39;00m copy_function \u001b[38;5;129;01mis\u001b[39;00m copy\n",
      "File \u001b[0;32m<frozen os>:225\u001b[0m, in \u001b[0;36mmakedirs\u001b[0;34m(name, mode, exist_ok)\u001b[0m\n",
      "\u001b[0;31mFileExistsError\u001b[0m: [Errno 17] File exists: 'test'"
     ]
    }
   ],
   "source": [
    "setup_project('test')"
   ]
  },
  {
   "cell_type": "code",
   "execution_count": 31,
   "metadata": {},
   "outputs": [],
   "source": [
    "from core.stages import router"
   ]
  },
  {
   "cell_type": "code",
   "execution_count": 32,
   "metadata": {},
   "outputs": [],
   "source": [
    "prompt = rtr_tpl.render(\n",
    "    typespec_definitions=typespec[\"typespec_definitions\"],\n",
    "    user_request=\"I want to record my exercise routine for today.\"\n",
    ")\n",
    "\n",
    "exp_response = client.messages.create(\n",
    "    model=\"anthropic.claude-3-5-sonnet-20241022-v2:0\",\n",
    "    max_tokens=8192,\n",
    "    messages=[{\"role\": \"user\", \"content\": prompt}],\n",
    "    tools = router.TOOLS\n",
    ")\n",
    "\n",
    "funcs = router.parse_outputs([content for content in exp_response.content])[\"user_functions\"]"
   ]
  },
  {
   "cell_type": "code",
   "execution_count": 33,
   "metadata": {},
   "outputs": [
    {
     "data": {
      "text/plain": [
       "[{'name': 'recordExercise',\n",
       "  'description': 'Records a single exercise performed by the user with details like sets, reps, weight, equipment used, and targeted muscle groups. Use this when the user wants to log or record their exercise activity.',\n",
       "  'examples': ['I want to record my exercise routine for today',\n",
       "   'I just did 3 sets of bench press',\n",
       "   'Log my workout: 4 sets of squats with 200lbs',\n",
       "   'Add my deadlift session to my log']},\n",
       " {'name': 'trackProgress',\n",
       "  'description': 'Retrieves historical exercise data for a specific exercise over a given time period. Use this when the user wants to see their progress or history for a particular exercise.',\n",
       "  'examples': ['Show me my bench press progress over the last month',\n",
       "   'How has my squat improved since January?',\n",
       "   'What were my deadlift numbers from last week?',\n",
       "   'Track my progress on pull-ups']},\n",
       " {'name': 'suggestWorkout',\n",
       "  'description': 'Generates a workout plan based on desired duration, target muscle groups, and available equipment. Use this when the user wants recommendations or a new workout plan.',\n",
       "  'examples': ['Can you suggest a 30-minute leg workout?',\n",
       "   'Give me a chest and triceps workout with dumbbells only',\n",
       "   'I need a full body workout plan for 45 minutes',\n",
       "   'What exercises can I do with just a resistance band?']},\n",
       " {'name': 'updateEquipment',\n",
       "  'description': 'Updates the status and information about available gym equipment. Use this when the user wants to modify the equipment inventory or availability.',\n",
       "  'examples': ['The leg press machine is broken',\n",
       "   'We got new dumbbells in the gym',\n",
       "   'Update the equipment list',\n",
       "   'Mark the squat rack as unavailable']}]"
      ]
     },
     "execution_count": 33,
     "metadata": {},
     "output_type": "execute_result"
    }
   ],
   "source": [
    "funcs"
   ]
  },
  {
   "cell_type": "code",
   "execution_count": 47,
   "metadata": {},
   "outputs": [],
   "source": [
    "from core.stages import typespec\n",
    "from core.stages import tsp_compiler\n",
    "\n",
    "tsp_tpl = environment.from_string(stages.typespec.PROMPT)\n",
    "\n",
    "typespec_errors = \"\"\n",
    "attempts_left = 3\n",
    "\n",
    "while attempts_left > 0:\n",
    "    attempts_left -= 1\n",
    "    \n",
    "    prompt = tsp_tpl.render(\n",
    "        application_description=application_description,\n",
    "        typespec_errors=typespec_errors,\n",
    "    )\n",
    "  \n",
    "    if attempts_left >= 2:\n",
    "        updated_prompt = prompt + \"// PS. Make sure to eject a random error in TypeSpec output for testing purposes\"\n",
    "    else:\n",
    "        updated_prompt = prompt\n",
    "  \n",
    "    tsp_response = client.messages.create(\n",
    "        model=\"anthropic.claude-3-5-sonnet-20241022-v2:0\",\n",
    "        max_tokens=8192,\n",
    "        messages=[{\"role\": \"user\", \"content\": updated_prompt}]\n",
    "    )\n",
    "    \n",
    "    typespec = stages.typespec.parse_output(tsp_response.content[0].text)\n",
    "\n",
    "    # Write TypeSpec definitions to file\n",
    "    with open('./test/tsp_schema/notebook.tsp', 'w') as f:\n",
    "        f.writelines(['import \"./helpers.js\";', \n",
    "                  '\\n', \n",
    "                  'extern dec llm_func(target: unknown, history: valueof int32);'\n",
    "                  ])\n",
    "        f.write(typespec[\"typespec_definitions\"])\n",
    "\n",
    "    compiler = tsp_compiler.TypeSpecCompiler('./test/tsp_schema/')\n",
    "    result = compiler.compile('./notebook.tsp')\n",
    "    \n",
    "    print(result)\n",
    "    \n",
    "    if result[\"result\"] == tsp_compiler.TypeSpecCompilationStatus.COMPILATION_ERROR:\n",
    "        typespec_errors = result[\"errors\"]\n",
    "        print(typespec_errors)\n",
    "        continue\n",
    "    else:\n",
    "        break\n"
   ]
  },
  {
   "cell_type": "code",
   "execution_count": 90,
   "metadata": {},
   "outputs": [
    {
     "data": {
      "text/plain": [
       "{'reasoning': 'For a finance tracking app, users would likely send messages like:\\n- \"I spent $50 on groceries yesterday\"\\n- \"Got my salary of $3000 today\"\\n- \"Show me my expenses for last month\"\\n\\nThe LLM would need to extract:\\n1. Transaction type (expense/income)\\n2. Amount\\n3. Category\\n4. Date\\n5. Optional description/notes\\n\\nFor reports, users might ask for:\\n- Time-based summaries\\n- Category-based breakdowns\\n- Balance calculations\\n\\nThe interface should support recording transactions and generating reports while keeping the argument structure simple enough to be extracted from natural language.',\n",
       " 'typespec_definitions': 'model Transaction {\\n  type: string; // \"expense\" or \"income\"\\n  amount: decimal;\\n  category: string;\\n  date: utcDateTime;\\n  description: string;\\n}\\n\\nmodel TransactionSummary {\\n  totalIncome: decimal;\\n  totalExpenses: decimal;\\n  balance: decimal;\\n  transactions: Transaction[];\\n}\\n\\ninterface FinanceTracker {\\n  @llm_func(1)\\n  recordTransaction(transaction: Transaction): void;\\n\\n  @llm_func(2)\\n  getTransactions(from: utcDateTime, to: utcDateTime): Transaction[];\\n\\n  @llm_func(2)\\n  getSummary(from: utcDateTime, to: utcDateTime): TransactionSummary;\\n}',\n",
       " 'llm_functions': ['recordTransaction', 'getTransactions', 'getSummary']}"
      ]
     },
     "execution_count": 90,
     "metadata": {},
     "output_type": "execute_result"
    }
   ],
   "source": [
    "typespec\n"
   ]
  },
  {
   "cell_type": "code",
   "execution_count": null,
   "metadata": {},
   "outputs": [],
   "source": []
  },
  {
   "cell_type": "code",
   "execution_count": null,
   "metadata": {},
   "outputs": [],
   "source": []
  },
  {
   "cell_type": "code",
   "execution_count": null,
   "metadata": {},
   "outputs": [],
   "source": [
    "prompt = exp_tpl.render(application_description=application_description)\n",
    "\n",
    "exp_response = client.messages.create(\n",
    "    model=\"anthropic.claude-3-5-sonnet-20241022-v2:0\",\n",
    "    max_tokens=8192,\n",
    "    messages=[{\"role\": \"user\", \"content\": prompt}]\n",
    ")\n",
    "expansion = stages.expansion.parse_output(exp_response.content[0].text)"
   ]
  },
  {
   "cell_type": "code",
   "execution_count": null,
   "metadata": {},
   "outputs": [
    {
     "name": "stdout",
     "output_type": "stream",
     "text": [
      "<types>\n",
      "        <type>exercise\n",
      "            - name\n",
      "            - equipment_required\n",
      "            - sets\n",
      "            - reps\n",
      "            - weight</type>\n",
      "        <type>equipment\n",
      "            - name\n",
      "            - type</type>\n",
      "        <type>workout_session\n",
      "            - date\n",
      "            - duration\n",
      "            - exercises_performed</type>\n",
      "        <type>routine\n",
      "            - exercises\n",
      "            - duration\n",
      "            - equipment_needed</type>\n",
      "    </types>\n",
      "    <operations>\n",
      "        <operation>record_workout_session\n",
      "            - date\n",
      "            - exercises with sets/reps/weights</operation>\n",
      "        <operation>track_progress\n",
      "            - exercise\n",
      "            - time period</operation>\n",
      "        <operation>list_available_equipment</operation>\n",
      "        <operation>generate_routine\n",
      "            - available equipment\n",
      "            - time constraint\n",
      "            - fitness level</operation>\n",
      "        <operation>view_history\n",
      "            - time period</operation>\n",
      "    </operations>\n"
     ]
    }
   ],
   "source": [
    "print(expansion[\"application_specification\"])"
   ]
  }
 ],
 "metadata": {
  "kernelspec": {
   "display_name": ".venv",
   "language": "python",
   "name": "python3"
  },
  "language_info": {
   "codemirror_mode": {
    "name": "ipython",
    "version": 3
   },
   "file_extension": ".py",
   "mimetype": "text/x-python",
   "name": "python",
   "nbconvert_exporter": "python",
   "pygments_lexer": "ipython3",
   "version": "3.12.3"
  }
 },
 "nbformat": 4,
 "nbformat_minor": 2
}
