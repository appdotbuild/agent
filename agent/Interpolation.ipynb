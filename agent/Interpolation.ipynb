{
 "cells": [
  {
   "cell_type": "code",
   "execution_count": 59,
   "metadata": {},
   "outputs": [
    {
     "name": "stdout",
     "output_type": "stream",
     "text": [
      "The autoreload extension is already loaded. To reload it, use:\n",
      "  %reload_ext autoreload\n"
     ]
    }
   ],
   "source": [
    "%load_ext autoreload\n",
    "%autoreload 2"
   ]
  },
  {
   "cell_type": "code",
   "execution_count": 60,
   "metadata": {},
   "outputs": [],
   "source": [
    "import jinja2\n",
    "from anthropic import AnthropicBedrock\n",
    "from core import stages\n",
    "import json\n"
   ]
  },
  {
   "cell_type": "code",
   "execution_count": 61,
   "metadata": {},
   "outputs": [],
   "source": [
    "client = AnthropicBedrock(aws_profile=\"dev\", aws_region=\"us-west-2\")"
   ]
  },
  {
   "cell_type": "code",
   "execution_count": 62,
   "metadata": {},
   "outputs": [],
   "source": [
    "environment = jinja2.Environment()"
   ]
  },
  {
   "cell_type": "code",
   "execution_count": 63,
   "metadata": {},
   "outputs": [],
   "source": [
    "tsp_tpl = environment.from_string(stages.typespec.PROMPT)\n",
    "dzl_tpl = environment.from_string(stages.drizzle.PROMPT)\n",
    "rtr_tpl = environment.from_string(stages.router.PROMPT)\n",
    "hdl_tpl = environment.from_string(stages.handlers.PROMPT)\n",
    "pre_tpl = environment.from_string(stages.processors.PROMPT_PRE)"
   ]
  },
  {
   "cell_type": "code",
   "execution_count": 64,
   "metadata": {},
   "outputs": [],
   "source": [
    "application_description = \"\"\"\n",
    "Bot that tracks my exercise routine in the gym, tracks progress and suggests new routines\n",
    "for specific list of available equipment and time constraints.\n",
    "\"\"\".strip()"
   ]
  },
  {
   "cell_type": "code",
   "execution_count": 65,
   "metadata": {},
   "outputs": [
    {
     "data": {
      "text/plain": [
       "'./app_output'"
      ]
     },
     "execution_count": 65,
     "metadata": {},
     "output_type": "execute_result"
    }
   ],
   "source": [
    "from shutil import copytree, ignore_patterns\n",
    "\n",
    "\n",
    "copytree('./templates/', './app_output', ignore=ignore_patterns('*.pyc', '__pycache__')) # 'node_modules'\n"
   ]
  },
  {
   "cell_type": "code",
   "execution_count": 66,
   "metadata": {},
   "outputs": [],
   "source": [
    "prompt = tsp_tpl.render(\n",
    "    application_description=application_description,\n",
    ")\n",
    "\n",
    "tsp_response = client.messages.create(\n",
    "    model=\"anthropic.claude-3-5-sonnet-20241022-v2:0\",\n",
    "    max_tokens=8192,\n",
    "    messages=[{\"role\": \"user\", \"content\": prompt}]\n",
    ")\n",
    "typespec = stages.typespec.parse_output(tsp_response.content[0].text)"
   ]
  },
  {
   "cell_type": "code",
   "execution_count": 67,
   "metadata": {},
   "outputs": [
    {
     "data": {
      "text/plain": [
       "{'reasoning': 'For a gym tracking bot, we need to handle several aspects:\\n1. Recording exercises with details like sets, reps, weight\\n2. Equipment availability constraints\\n3. Time tracking for workouts\\n4. Progress monitoring\\n5. Routine suggestions\\n\\nExpected message patterns:\\n\"I did 3 sets of bench press, 8 reps each with 175lbs\"\\n-> recordExercise({name: \"bench press\", sets: 3, reps: 8, weight: 175})\\n\\n\"What\\'s my progress on deadlifts?\"\\n-> getProgress({exerciseName: \"deadlifts\"})\\n\\n\"Suggest a 45-minute workout with dumbbells and bench\"\\n-> suggestRoutine({availableEquipment: [\"dumbbells\", \"bench\"], duration: \"45m\"})',\n",
       " 'typespec_definitions': 'model Exercise {\\n  name: string;\\n  sets: integer;\\n  reps: integer;\\n  weight: float;\\n  notes: string;\\n  timestamp: utcDateTime;\\n}\\n\\nmodel Equipment {\\n  name: string;\\n  type: string;\\n}\\n\\nmodel Progress {\\n  exerciseName: string;\\n  history: Exercise[];\\n  maxWeight: float;\\n  averageReps: float;\\n}\\n\\nmodel WorkoutRoutine {\\n  exercises: Exercise[];\\n  estimatedDuration: duration;\\n  requiredEquipment: Equipment[];\\n}\\n\\ninterface GymBot {\\n  @llm_func(2)\\n  recordExercise(exercise: Exercise): void;\\n\\n  @llm_func(3)\\n  getProgress(exerciseName: string): Progress;\\n\\n  @llm_func(2)\\n  suggestRoutine(\\n    availableEquipment: Equipment[],\\n    duration: duration,\\n    focusArea?: string\\n  ): WorkoutRoutine;\\n\\n  @llm_func(1)\\n  listWorkouts(from: utcDateTime, to: utcDateTime): Exercise[];\\n}',\n",
       " 'llm_functions': ['recordExercise',\n",
       "  'getProgress',\n",
       "  'suggestRoutine',\n",
       "  'listWorkouts']}"
      ]
     },
     "execution_count": 67,
     "metadata": {},
     "output_type": "execute_result"
    }
   ],
   "source": [
    "typespec"
   ]
  },
  {
   "cell_type": "code",
   "execution_count": 68,
   "metadata": {},
   "outputs": [
    {
     "name": "stdout",
     "output_type": "stream",
     "text": [
      "For a gym tracking bot, we need to handle several aspects:\n",
      "1. Recording exercises with details like sets, reps, weight\n",
      "2. Equipment availability constraints\n",
      "3. Time tracking for workouts\n",
      "4. Progress monitoring\n",
      "5. Routine suggestions\n",
      "\n",
      "Expected message patterns:\n",
      "\"I did 3 sets of bench press, 8 reps each with 175lbs\"\n",
      "-> recordExercise({name: \"bench press\", sets: 3, reps: 8, weight: 175})\n",
      "\n",
      "\"What's my progress on deadlifts?\"\n",
      "-> getProgress({exerciseName: \"deadlifts\"})\n",
      "\n",
      "\"Suggest a 45-minute workout with dumbbells and bench\"\n",
      "-> suggestRoutine({availableEquipment: [\"dumbbells\", \"bench\"], duration: \"45m\"})\n"
     ]
    }
   ],
   "source": [
    "print(typespec[\"reasoning\"])"
   ]
  },
  {
   "cell_type": "code",
   "execution_count": 69,
   "metadata": {},
   "outputs": [
    {
     "name": "stdout",
     "output_type": "stream",
     "text": [
      "model Exercise {\n",
      "  name: string;\n",
      "  sets: integer;\n",
      "  reps: integer;\n",
      "  weight: float;\n",
      "  notes: string;\n",
      "  timestamp: utcDateTime;\n",
      "}\n",
      "\n",
      "model Equipment {\n",
      "  name: string;\n",
      "  type: string;\n",
      "}\n",
      "\n",
      "model Progress {\n",
      "  exerciseName: string;\n",
      "  history: Exercise[];\n",
      "  maxWeight: float;\n",
      "  averageReps: float;\n",
      "}\n",
      "\n",
      "model WorkoutRoutine {\n",
      "  exercises: Exercise[];\n",
      "  estimatedDuration: duration;\n",
      "  requiredEquipment: Equipment[];\n",
      "}\n",
      "\n",
      "interface GymBot {\n",
      "  @llm_func(2)\n",
      "  recordExercise(exercise: Exercise): void;\n",
      "\n",
      "  @llm_func(3)\n",
      "  getProgress(exerciseName: string): Progress;\n",
      "\n",
      "  @llm_func(2)\n",
      "  suggestRoutine(\n",
      "    availableEquipment: Equipment[],\n",
      "    duration: duration,\n",
      "    focusArea?: string\n",
      "  ): WorkoutRoutine;\n",
      "\n",
      "  @llm_func(1)\n",
      "  listWorkouts(from: utcDateTime, to: utcDateTime): Exercise[];\n",
      "}\n"
     ]
    }
   ],
   "source": [
    "print(typespec[\"typespec_definitions\"])"
   ]
  },
  {
   "cell_type": "code",
   "execution_count": 70,
   "metadata": {},
   "outputs": [],
   "source": [
    "prompt = dzl_tpl.render(\n",
    "    typespec_definitions=typespec[\"typespec_definitions\"],\n",
    ")\n",
    "\n",
    "dzl_response = client.messages.create(\n",
    "    model=\"anthropic.claude-3-5-sonnet-20241022-v2:0\",\n",
    "    max_tokens=8192,\n",
    "    messages=[{\"role\": \"user\", \"content\": prompt}]\n",
    ")\n",
    "drizzle = stages.drizzle.parse_output(dzl_response.content[0].text)"
   ]
  },
  {
   "cell_type": "code",
   "execution_count": 71,
   "metadata": {},
   "outputs": [
    {
     "name": "stdout",
     "output_type": "stream",
     "text": [
      "import { \n",
      "  pgTable, \n",
      "  text, \n",
      "  integer, \n",
      "  timestamp, \n",
      "  doublePrecision,\n",
      "  primaryKey \n",
      "} from \"drizzle-orm/pg-core\";\n",
      "\n",
      "export const exercisesTable = pgTable(\"exercises\", {\n",
      "  id: integer(\"id\").primaryKey().generatedAlwaysAsIdentity(),\n",
      "  name: text(\"name\").notNull(),\n",
      "  sets: integer(\"sets\").notNull(),\n",
      "  reps: integer(\"reps\").notNull(),\n",
      "  weight: doublePrecision(\"weight\").notNull(),\n",
      "  notes: text(\"notes\"),\n",
      "  timestamp: timestamp(\"timestamp\").notNull().defaultNow()\n",
      "});\n",
      "\n",
      "export const equipmentTable = pgTable(\"equipment\", {\n",
      "  id: integer(\"id\").primaryKey().generatedAlwaysAsIdentity(),\n",
      "  name: text(\"name\").notNull(),\n",
      "  type: text(\"type\").notNull()\n",
      "});\n",
      "\n",
      "export const workoutRoutinesTable = pgTable(\"workout_routines\", {\n",
      "  id: integer(\"id\").primaryKey().generatedAlwaysAsIdentity(),\n",
      "  estimated_duration: integer(\"estimated_duration\").notNull(), // stored in seconds\n",
      "  created_at: timestamp(\"created_at\").notNull().defaultNow()\n",
      "});\n",
      "\n",
      "// Junction table for workout routines and exercises\n",
      "export const routineExercisesTable = pgTable(\"routine_exercises\", {\n",
      "  routine_id: integer(\"routine_id\")\n",
      "    .references(() => workoutRoutinesTable.id),\n",
      "  exercise_id: integer(\"exercise_id\")\n",
      "    .references(() => exercisesTable.id),\n",
      "}, (table) => ({\n",
      "  pk: primaryKey(table.routine_id, table.exercise_id)\n",
      "}));\n",
      "\n",
      "// Junction table for workout routines and equipment\n",
      "export const routineEquipmentTable = pgTable(\"routine_equipment\", {\n",
      "  routine_id: integer(\"routine_id\")\n",
      "    .references(() => workoutRoutinesTable.id),\n",
      "  equipment_id: integer(\"equipment_id\")\n",
      "    .references(() => equipmentTable.id),\n",
      "}, (table) => ({\n",
      "  pk: primaryKey(table.routine_id, table.equipment_id)\n",
      "}));\n",
      "\n",
      "// Table to track exercise progress\n",
      "export const progressTable = pgTable(\"progress\", {\n",
      "  id: integer(\"id\").primaryKey().generatedAlwaysAsIdentity(),\n",
      "  exercise_name: text(\"exercise_name\").notNull(),\n",
      "  max_weight: doublePrecision(\"max_weight\").notNull(),\n",
      "  average_reps: doublePrecision(\"average_reps\").notNull(),\n",
      "  last_updated: timestamp(\"last_updated\").notNull().defaultNow()\n",
      "});\n"
     ]
    }
   ],
   "source": [
    "print(drizzle[\"drizzle_schema\"])"
   ]
  },
  {
   "cell_type": "code",
   "execution_count": 72,
   "metadata": {},
   "outputs": [],
   "source": [
    "prompt = rtr_tpl.render(\n",
    "    typespec_definitions=typespec[\"typespec_definitions\"],\n",
    "    user_request=\"I want to record my exercise routine for today.\"\n",
    ")\n",
    "\n",
    "exp_response = client.messages.create(\n",
    "    model=\"anthropic.claude-3-5-sonnet-20241022-v2:0\",\n",
    "    max_tokens=8192,\n",
    "    messages=[{\"role\": \"user\", \"content\": prompt}],\n",
    "    tools = stages.router.TOOLS\n",
    ")\n",
    "\n",
    "funcs = stages.router.parse_outputs([content for content in exp_response.content])[\"user_functions\"]\n"
   ]
  },
  {
   "cell_type": "code",
   "execution_count": 73,
   "metadata": {},
   "outputs": [
    {
     "data": {
      "text/plain": [
       "[{'name': 'recordExercise',\n",
       "  'description': 'Records a single exercise workout with details including name, sets, reps, weight, notes, and timestamp. Use this when a user wants to log their exercise activity.',\n",
       "  'examples': ['I did 3 sets of bench press with 12 reps at 135 pounds',\n",
       "   'Just finished 5 sets of squats, 5 reps each at 225 lbs',\n",
       "   'Log my deadlift: 3x5 at 185 pounds',\n",
       "   'Record my exercise: 3 sets of pull-ups, 8 reps each']},\n",
       " {'name': 'getProgress',\n",
       "  'description': 'Retrieves progress history and statistics for a specific exercise, including history, maximum weight achieved, and average reps. Use when user wants to check their improvement or history for a particular exercise.',\n",
       "  'examples': ['Show me my bench press progress',\n",
       "   'How am I doing with my squats?',\n",
       "   \"What's my progress on deadlifts?\",\n",
       "   'Check my pull-up improvements']},\n",
       " {'name': 'suggestRoutine',\n",
       "  'description': 'Suggests a workout routine based on available equipment, desired duration, and optional focus area. Use when user needs a workout plan or routine recommendation.',\n",
       "  'examples': ['What exercises can I do with dumbbells for 30 minutes?',\n",
       "   'Suggest a chest workout with basic gym equipment',\n",
       "   'Create a 45-minute leg routine',\n",
       "   'What should I do for arms with just a barbell?']},\n",
       " {'name': 'listWorkouts',\n",
       "  'description': 'Retrieves a list of completed exercises within a specified time range. Use when user wants to review their workout history over a period.',\n",
       "  'examples': ['Show me my workouts from last week',\n",
       "   'What exercises did I do this month?',\n",
       "   'List my workouts between Monday and Friday',\n",
       "   'Show my exercise history for the past 30 days']}]"
      ]
     },
     "execution_count": 73,
     "metadata": {},
     "output_type": "execute_result"
    }
   ],
   "source": [
    "funcs"
   ]
  },
  {
   "cell_type": "code",
   "execution_count": 74,
   "metadata": {},
   "outputs": [],
   "source": [
    "pre_processors = {}\n",
    "for function_name in typespec[\"llm_functions\"]:\n",
    "    prompt = pre_tpl.render(\n",
    "        function_name=function_name,\n",
    "        typespec_definitions=typespec[\"typespec_definitions\"],\n",
    "    )\n",
    "\n",
    "    pre_response = client.messages.create(\n",
    "        model=\"anthropic.claude-3-5-sonnet-20241022-v2:0\",\n",
    "        max_tokens=8192,\n",
    "        messages=[{\"role\": \"user\", \"content\": prompt}]\n",
    "    )\n",
    "    pre_processor = stages.processors.parse_output(pre_response.content[0].text)\n",
    "    pre_processors[function_name] = pre_processor"
   ]
  },
  {
   "cell_type": "code",
   "execution_count": 75,
   "metadata": {},
   "outputs": [
    {
     "name": "stdout",
     "output_type": "stream",
     "text": [
      "<instructions>\n",
      "For listWorkouts function:\n",
      "- Requires two UTC datetime arguments (from and to) to define the time range\n",
      "- If specific times are not provided, assume time is 00:00:00\n",
      "- Default date range is current day if not specified\n",
      "- When a single date is mentioned, assume it's the \"from\" date with \"to\" being end of that day\n",
      "- Parse natural language date references like \"last week\", \"yesterday\", \"this month\"\n",
      "- Both dates should be in ISO 8601 format (YYYY-MM-DDTHH:mm:ssZ)\n",
      "</instructions>\n",
      "\n",
      "<examples>\n",
      "    <example>\n",
      "        <input>Show me my workouts from yesterday</input>\n",
      "        <output>{\n",
      "            \"from\": \"2024-01-16T00:00:00Z\",\n",
      "            \"to\": \"2024-01-16T23:59:59Z\"\n",
      "        }</output>\n",
      "    </example>\n",
      "\n",
      "    <example>\n",
      "        <input>What exercises did I do between January 1st and January 15th?</input>\n",
      "        <output>{\n",
      "            \"from\": \"2024-01-01T00:00:00Z\",\n",
      "            \"to\": \"2024-01-15T23:59:59Z\"\n",
      "        }</output>\n",
      "    </example>\n",
      "\n",
      "    <example>\n",
      "        <input>Show my workout history for last week</input>\n",
      "        <output>{\n",
      "            \"from\": \"2024-01-08T00:00:00Z\",\n",
      "            \"to\": \"2024-01-14T23:59:59Z\"\n",
      "        }</output>\n",
      "    </example>\n",
      "\n",
      "    <example>\n",
      "        <input>List all exercises from December</input>\n",
      "        <output>{\n",
      "            \"from\": \"2023-12-01T00:00:00Z\",\n",
      "            \"to\": \"2023-12-31T23:59:59Z\"\n",
      "        }</output>\n",
      "    </example>\n",
      "\n",
      "    <example>\n",
      "        <input>What did I do today?</input>\n",
      "        <output>{\n",
      "            \"from\": \"2024-01-17T00:00:00Z\",\n",
      "            \"to\": \"2024-01-17T23:59:59Z\"\n",
      "        }</output>\n",
      "    </example>\n",
      "</examples>\n"
     ]
    }
   ],
   "source": [
    "print(pre_response.content[0].text)"
   ]
  },
  {
   "cell_type": "code",
   "execution_count": 76,
   "metadata": {},
   "outputs": [
    {
     "data": {
      "text/plain": [
       "{'recordExercise': {'instructions': 'For recordExercise function:\\n- Name should be a common exercise name in lowercase\\n- Sets defaults to 1 if not specified\\n- If reps or weight aren\\'t specified, they should be inferred from context\\n- Notes can be empty string if not provided\\n- Timestamp should default to current time if not specified\\n- Weight should be in kilograms\\n- Numbers followed by \\'x\\' are interpreted as reps (e.g., \"80x6\" means 80kg for 6 reps)',\n",
       "  'examples': [('bench press 80kg for 3 sets of 8 reps',\n",
       "    '{\\n    \"name\": \"bench press\",\\n    \"sets\": 3,\\n    \"reps\": 8,\\n    \"weight\": 80.0,\\n    \"notes\": \"\",\\n    \"timestamp\": \"2024-01-20T15:30:00Z\"\\n}'),\n",
       "   ('did squats 100x5 feeling strong today',\n",
       "    '{\\n    \"name\": \"squats\",\\n    \"sets\": 1,\\n    \"reps\": 5,\\n    \"weight\": 100.0,\\n    \"notes\": \"feeling strong today\",\\n    \"timestamp\": \"2024-01-20T15:30:00Z\"\\n}'),\n",
       "   ('just finished 3 sets deadlift 120kg x 6',\n",
       "    '{\\n    \"name\": \"deadlift\",\\n    \"sets\": 3,\\n    \"reps\": 6,\\n    \"weight\": 120.0,\\n    \"notes\": \"\",\\n    \"timestamp\": \"2024-01-20T15:30:00Z\"\\n}'),\n",
       "   ('pullups 12 reps bodyweight',\n",
       "    '{\\n    \"name\": \"pullups\",\\n    \"sets\": 1,\\n    \"reps\": 12,\\n    \"weight\": 0.0,\\n    \"notes\": \"bodyweight exercise\",\\n    \"timestamp\": \"2024-01-20T15:30:00Z\"\\n}')]},\n",
       " 'getProgress': {'instructions': 'For the getProgress function:\\n- Requires a single string argument representing the exercise name\\n- Exercise names should be normalized to lowercase and common variations combined\\n- If multiple exercises are mentioned, use the first one\\n- Remove any weight, rep counts or other numbers from the exercise name\\n- Partial matches should try to map to common exercise names',\n",
       "  'examples': [('Show me my bench press progress',\n",
       "    '{\"exerciseName\": \"bench press\"}'),\n",
       "   ('How am I doing on squats?', '{\"exerciseName\": \"squat\"}'),\n",
       "   ('Progress for barbell deadlift', '{\"exerciseName\": \"deadlift\"}'),\n",
       "   ('Check bicep curls improvement', '{\"exerciseName\": \"bicep curl\"}'),\n",
       "   (\"Today I did lat pulldowns 120lbs, what's my progress?\",\n",
       "    '{\"exerciseName\": \"lat pulldown\"}'),\n",
       "   ('overhead press stats', '{\"exerciseName\": \"overhead press\"}'),\n",
       "   ('progress report for dumbell rows 40kg',\n",
       "    '{\"exerciseName\": \"dumbbell row\"}')]},\n",
       " 'suggestRoutine': {'instructions': 'For suggestRoutine function:\\n1. Parse available equipment from user\\'s mention of gym equipment or \"at home\"/\"gym\" context\\n2. Convert time expressions to duration (e.g., \"30 minutes\", \"1 hour\")\\n3. Extract focus area from body part or workout type mentions\\n4. If equipment not specified, assume basic home equipment\\n5. If duration not specified, default to 45 minutes\\n6. Focus area is optional - if not mentioned, provide full-body routine',\n",
       "  'examples': [('Suggest a 30 minute workout with dumbbells and a bench for chest',\n",
       "    '{\\n            \"availableEquipment\": [\\n                {\"name\": \"dumbbells\", \"type\": \"weights\"},\\n                {\"name\": \"bench\", \"type\": \"support\"}\\n            ],\\n            \"duration\": \"PT30M\",\\n            \"focusArea\": \"chest\"\\n        }'),\n",
       "   ('What exercises can I do at the gym for legs?',\n",
       "    '{\\n            \"availableEquipment\": [\\n                {\"name\": \"squat rack\", \"type\": \"weights\"},\\n                {\"name\": \"leg press\", \"type\": \"machine\"},\\n                {\"name\": \"dumbbells\", \"type\": \"weights\"},\\n                {\"name\": \"barbell\", \"type\": \"weights\"}\\n            ],\\n            \"duration\": \"PT45M\",\\n            \"focusArea\": \"legs\"\\n        }'),\n",
       "   ('Quick home workout with no equipment',\n",
       "    '{\\n            \"availableEquipment\": [\\n                {\"name\": \"bodyweight\", \"type\": \"none\"}\\n            ],\\n            \"duration\": \"PT20M\"\\n        }'),\n",
       "   ('Plan me a 2 hour full gym session for back and biceps',\n",
       "    '{\\n            \"availableEquipment\": [\\n                {\"name\": \"pull-up bar\", \"type\": \"bodyweight\"},\\n                {\"name\": \"dumbbells\", \"type\": \"weights\"},\\n                {\"name\": \"barbell\", \"type\": \"weights\"},\\n                {\"name\": \"cable machine\", \"type\": \"machine\"},\\n                {\"name\": \"lat pulldown\", \"type\": \"machine\"}\\n            ],\\n            \"duration\": \"PT2H\",\\n            \"focusArea\": \"back and biceps\"\\n        }')]},\n",
       " 'listWorkouts': {'instructions': 'For listWorkouts function:\\n- Requires two UTC datetime arguments (from and to) to define the time range\\n- If specific times are not provided, assume time is 00:00:00\\n- Default date range is current day if not specified\\n- When a single date is mentioned, assume it\\'s the \"from\" date with \"to\" being end of that day\\n- Parse natural language date references like \"last week\", \"yesterday\", \"this month\"\\n- Both dates should be in ISO 8601 format (YYYY-MM-DDTHH:mm:ssZ)',\n",
       "  'examples': [('Show me my workouts from yesterday',\n",
       "    '{\\n            \"from\": \"2024-01-16T00:00:00Z\",\\n            \"to\": \"2024-01-16T23:59:59Z\"\\n        }'),\n",
       "   ('What exercises did I do between January 1st and January 15th?',\n",
       "    '{\\n            \"from\": \"2024-01-01T00:00:00Z\",\\n            \"to\": \"2024-01-15T23:59:59Z\"\\n        }'),\n",
       "   ('Show my workout history for last week',\n",
       "    '{\\n            \"from\": \"2024-01-08T00:00:00Z\",\\n            \"to\": \"2024-01-14T23:59:59Z\"\\n        }'),\n",
       "   ('List all exercises from December',\n",
       "    '{\\n            \"from\": \"2023-12-01T00:00:00Z\",\\n            \"to\": \"2023-12-31T23:59:59Z\"\\n        }'),\n",
       "   ('What did I do today?',\n",
       "    '{\\n            \"from\": \"2024-01-17T00:00:00Z\",\\n            \"to\": \"2024-01-17T23:59:59Z\"\\n        }')]}}"
      ]
     },
     "execution_count": 76,
     "metadata": {},
     "output_type": "execute_result"
    }
   ],
   "source": [
    "pre_processors"
   ]
  },
  {
   "cell_type": "code",
   "execution_count": 77,
   "metadata": {},
   "outputs": [],
   "source": [
    "handlers = {}\n",
    "for function_name in typespec[\"llm_functions\"]:\n",
    "    prompt = hdl_tpl.render(\n",
    "        function_name=function_name,\n",
    "        typespec_definitions=typespec[\"typespec_definitions\"],\n",
    "        drizzle_schema=drizzle[\"drizzle_schema\"],\n",
    "    )\n",
    "\n",
    "    hdl_response = client.messages.create(\n",
    "        model=\"anthropic.claude-3-5-sonnet-20241022-v2:0\",\n",
    "        max_tokens=8192,\n",
    "        messages=[{\"role\": \"user\", \"content\": prompt}]\n",
    "    )\n",
    "    handlers[function_name] = stages.handlers.parse_output(hdl_response.content[0].text)\n"
   ]
  },
  {
   "cell_type": "code",
   "execution_count": 78,
   "metadata": {},
   "outputs": [
    {
     "data": {
      "text/plain": [
       "{'recordExercise': {'handler': 'import { db } from \"../db\";\\nimport { exercisesTable, progressTable } from \\'../db/schema/application\\';\\nimport { eq } from \\'drizzle-orm\\';\\n\\nconst handle = async (exercise: {\\n    name: string;\\n    sets: number;\\n    reps: number;\\n    weight: number;\\n    notes: string;\\n    timestamp: Date;\\n}): Promise<void> => {\\n    // Insert the new exercise record\\n    await db.insert(exercisesTable).values({\\n        name: exercise.name,\\n        sets: exercise.sets,\\n        reps: exercise.reps,\\n        weight: exercise.weight,\\n        notes: exercise.notes,\\n        timestamp: exercise.timestamp\\n    }).execute();\\n\\n    // Update progress table\\n    const existingProgress = await db\\n        .select()\\n        .from(progressTable)\\n        .where(eq(progressTable.exercise_name, exercise.name))\\n        .execute();\\n\\n    if (existingProgress.length > 0) {\\n        // Update existing progress\\n        await db\\n            .update(progressTable)\\n            .set({\\n                max_weight: Math.max(existingProgress[0].max_weight, exercise.weight),\\n                average_reps: (existingProgress[0].average_reps + exercise.reps) / 2,\\n                last_updated: new Date()\\n            })\\n            .where(eq(progressTable.exercise_name, exercise.name))\\n            .execute();\\n    } else {\\n        // Create new progress entry\\n        await db\\n            .insert(progressTable)\\n            .values({\\n                exercise_name: exercise.name,\\n                max_weight: exercise.weight,\\n                average_reps: exercise.reps,\\n                last_updated: new Date()\\n            })\\n            .execute();\\n    }\\n};'},\n",
       " 'getProgress': {'handler': 'import { db } from \"../db\";\\nimport { exercisesTable, progressTable } from \\'../db/schema/application\\';\\nimport { eq } from \\'drizzle-orm\\';\\n\\nconst handle = async (exerciseName: string): Promise<{\\n    exerciseName: string;\\n    history: Array<{\\n        name: string;\\n        sets: number;\\n        reps: number;\\n        weight: number;\\n        notes: string;\\n        timestamp: Date;\\n    }>;\\n    maxWeight: number;\\n    averageReps: number;\\n}> => {\\n    // Get exercise history\\n    const exerciseHistory = await db.select()\\n        .from(exercisesTable)\\n        .where(eq(exercisesTable.name, exerciseName))\\n        .orderBy(exercisesTable.timestamp);\\n\\n    // Calculate metrics\\n    const maxWeight = Math.max(...exerciseHistory.map(ex => ex.weight));\\n    const totalReps = exerciseHistory.reduce((sum, ex) => sum + (ex.sets * ex.reps), 0);\\n    const averageReps = exerciseHistory.length > 0 \\n        ? totalReps / exerciseHistory.length \\n        : 0;\\n\\n    // Update progress table\\n    await db.insert(progressTable)\\n        .values({\\n            exercise_name: exerciseName,\\n            max_weight: maxWeight,\\n            average_reps: averageReps,\\n        })\\n        .onConflictDoUpdate({\\n            target: progressTable.exercise_name,\\n            set: {\\n                max_weight: maxWeight,\\n                average_reps: averageReps,\\n                last_updated: new Date(),\\n            }\\n        });\\n\\n    return {\\n        exerciseName,\\n        history: exerciseHistory.map(ex => ({\\n            name: ex.name,\\n            sets: ex.sets,\\n            reps: ex.reps,\\n            weight: ex.weight,\\n            notes: ex.notes || \"\",\\n            timestamp: ex.timestamp,\\n        })),\\n        maxWeight,\\n        averageReps,\\n    };\\n};'},\n",
       " 'suggestRoutine': {'handler': 'import { db } from \"../db\";\\nimport { \\n  workoutRoutinesTable, \\n  routineExercisesTable, \\n  routineEquipmentTable,\\n  exercisesTable,\\n  equipmentTable \\n} from \\'../db/schema/application\\';\\nimport { and, eq, inArray } from \\'drizzle-orm\\';\\n\\nconst handle = async (\\n  availableEquipment: { name: string; type: string }[],\\n  duration: number, // duration in seconds\\n  focusArea?: string\\n): Promise<{\\n  exercises: Array<{\\n    name: string;\\n    sets: number;\\n    reps: number;\\n    weight: number;\\n    notes: string;\\n    timestamp: Date;\\n  }>;\\n  estimatedDuration: number;\\n  requiredEquipment: Array<{ name: string; type: string }>;\\n}> => {\\n  // First, verify all available equipment exists in the database\\n  const equipmentNames = availableEquipment.map(e => e.name);\\n  const dbEquipment = await db.select()\\n    .from(equipmentTable)\\n    .where(inArray(equipmentTable.name, equipmentNames))\\n    .execute();\\n\\n  if (dbEquipment.length !== equipmentNames.length) {\\n    throw new Error(\"Some equipment not found in database\");\\n  }\\n\\n  // Create new workout routine\\n  const [newRoutine] = await db.insert(workoutRoutinesTable)\\n    .values({\\n      estimated_duration: duration,\\n    })\\n    .returning();\\n\\n  // Link available equipment to the routine\\n  await db.insert(routineEquipmentTable)\\n    .values(\\n      dbEquipment.map(equipment => ({\\n        routine_id: newRoutine.id,\\n        equipment_id: equipment.id,\\n      }))\\n    )\\n    .execute();\\n\\n  // Get all exercises that can be performed with the available equipment\\n  const exercises = await db\\n    .select({\\n      name: exercisesTable.name,\\n      sets: exercisesTable.sets,\\n      reps: exercisesTable.reps,\\n      weight: exercisesTable.weight,\\n      notes: exercisesTable.notes,\\n      timestamp: exercisesTable.timestamp,\\n    })\\n    .from(exercisesTable)\\n    .execute();\\n\\n  return {\\n    exercises,\\n    estimatedDuration: newRoutine.estimated_duration,\\n    requiredEquipment: availableEquipment,\\n  };\\n};'},\n",
       " 'listWorkouts': {'handler': 'import { db } from \"../db\";\\nimport { exercisesTable } from \\'../db/schema/application\\';\\nimport { eq, and, gte, lte } from \\'drizzle-orm\\';\\nimport { Exercise } from \\'../types\\';\\n\\nconst handle = async (from: Date, to: Date): Promise<Exercise[]> => {\\n    const exercises = await db\\n        .select()\\n        .from(exercisesTable)\\n        .where(\\n            and(\\n                gte(exercisesTable.timestamp, from),\\n                lte(exercisesTable.timestamp, to)\\n            )\\n        )\\n        .execute();\\n\\n    return exercises.map(exercise => ({\\n        name: exercise.name,\\n        sets: exercise.sets,\\n        reps: exercise.reps,\\n        weight: exercise.weight,\\n        notes: exercise.notes ?? \\'\\',\\n        timestamp: exercise.timestamp\\n    }));\\n};'}}"
      ]
     },
     "execution_count": 78,
     "metadata": {},
     "output_type": "execute_result"
    }
   ],
   "source": [
    "handlers"
   ]
  },
  {
   "cell_type": "code",
   "execution_count": 50,
   "metadata": {},
   "outputs": [
    {
     "name": "stdout",
     "output_type": "stream",
     "text": [
      "Handler: record_exercise_handler_debug\n",
      "import { GenericHandler, Message } from \"../common/handler\";\n",
      "import { client } from \"../common/llm\";\n",
      "\n",
      "const preProcessor = async (input: Message[]): Promise<[string]> => {\n",
      "    return [''];\n",
      "};\n",
      "\n",
      "const handle = (input: string): string => {\n",
      "    return '';\n",
      "};\n",
      "\n",
      "const postProcessor = (output: string): Message[] => {\n",
      "    const content = 'handler recordExercise executed';\n",
      "    return [{ role: 'assistant', content: content }];\n",
      "};\n",
      "\n",
      "export const recordExercise = new GenericHandler<[string], string>(handle, preProcessor, postProcessor);\n",
      "Handler: get_progress_handler_debug\n",
      "import { GenericHandler, Message } from \"../common/handler\";\n",
      "import { client } from \"../common/llm\";\n",
      "\n",
      "const preProcessor = async (input: Message[]): Promise<[string]> => {\n",
      "    return [''];\n",
      "};\n",
      "\n",
      "const handle = (input: string): string => {\n",
      "    return '';\n",
      "};\n",
      "\n",
      "const postProcessor = (output: string): Message[] => {\n",
      "    const content = 'handler getProgress executed';\n",
      "    return [{ role: 'assistant', content: content }];\n",
      "};\n",
      "\n",
      "export const getProgress = new GenericHandler<[string], string>(handle, preProcessor, postProcessor);\n",
      "Handler: suggest_routine_handler_debug\n",
      "import { GenericHandler, Message } from \"../common/handler\";\n",
      "import { client } from \"../common/llm\";\n",
      "\n",
      "const preProcessor = async (input: Message[]): Promise<[string]> => {\n",
      "    return [''];\n",
      "};\n",
      "\n",
      "const handle = (input: string): string => {\n",
      "    return '';\n",
      "};\n",
      "\n",
      "const postProcessor = (output: string): Message[] => {\n",
      "    const content = 'handler suggestRoutine executed';\n",
      "    return [{ role: 'assistant', content: content }];\n",
      "};\n",
      "\n",
      "export const suggestRoutine = new GenericHandler<[string], string>(handle, preProcessor, postProcessor);\n",
      "Handler: update_available_equipment_handler_debug\n",
      "import { GenericHandler, Message } from \"../common/handler\";\n",
      "import { client } from \"../common/llm\";\n",
      "\n",
      "const preProcessor = async (input: Message[]): Promise<[string]> => {\n",
      "    return [''];\n",
      "};\n",
      "\n",
      "const handle = (input: string): string => {\n",
      "    return '';\n",
      "};\n",
      "\n",
      "const postProcessor = (output: string): Message[] => {\n",
      "    const content = 'handler updateAvailableEquipment executed';\n",
      "    return [{ role: 'assistant', content: content }];\n",
      "};\n",
      "\n",
      "export const updateAvailableEquipment = new GenericHandler<[string], string>(handle, preProcessor, postProcessor);\n"
     ]
    }
   ],
   "source": [
    "#import os\n",
    "\n",
    "#with open(\"./templates/interpolation/handler.debug.tpl\", \"r\") as f:\n",
    "#    handler_debug_tpl = environment.from_string(f.read())\n",
    "#    \n",
    "#    for handler_name in handlers.keys():\n",
    "#        params = {\n",
    "#            \"handler\": {\"name\": handler_name},\n",
    "#            #\"instructions\": pre_processors[hdl_key][\"instructions\"],\n",
    "#            #\"examples\": pre_processors[hdl_key][\"examples\"],#\n",
    "#        }\n",
    "#        file_content = handler_debug_tpl.render(**params)\n",
    "\n",
    "#        # Convert PascalCase to snake_case for file naming\n",
    "#        handler_snake_name = ''.join(['_' + c.lower() if c.isupper() else c for c in handler_name]).lstrip('_')\n",
    "#        handler_file_name = f'{handler_snake_name}_handler_debug'\n",
    "        \n",
    "#        with open(os.path.join('./app_output/app_schema/src/handlers', handler_file_name + '.ts'), 'w') as f:\n",
    "#            f.write(file_content)\n",
    "            \n",
    "#        handlers[handler_name][\"module_name\"] = handler_file_name\n",
    "        \n",
    "#        print(f\"Handler: {handler_file_name}\")\n",
    "#        print(file_content)\n"
   ]
  },
  {
   "cell_type": "code",
   "execution_count": 90,
   "metadata": {},
   "outputs": [
    {
     "name": "stdout",
     "output_type": "stream",
     "text": [
      "Handler: record_exercise\n",
      "Handler: get_progress\n",
      "Handler: suggest_routine\n",
      "Handler: list_workouts\n"
     ]
    }
   ],
   "source": [
    "import os\n",
    "\n",
    "with open(\"./templates/interpolation/handler.tpl\", \"r\") as f:\n",
    "    handler_debug_tpl = environment.from_string(f.read())\n",
    "    \n",
    "    for handler_name in handlers.keys():\n",
    "        params = {\n",
    "            \"handler_name\": handler_name,\n",
    "            \"handler\": handlers[handler_name][\"handler\"],\n",
    "            \"instructions\": pre_processors[handler_name][\"instructions\"],\n",
    "            \"examples\": pre_processors[handler_name][\"examples\"],\n",
    "        }\n",
    "        file_content = handler_debug_tpl.render(**params)\n",
    "\n",
    "        # Convert PascalCase to snake_case for file naming\n",
    "        handler_snake_name = ''.join(['_' + c.lower() if c.isupper() else c for c in handler_name]).lstrip('_')\n",
    "        \n",
    "        with open(os.path.join('./app_output/app_schema/src/handlers', handler_snake_name + '.ts'), 'w') as f:\n",
    "            f.write(file_content)\n",
    "            \n",
    "        handlers[handler_name][\"module_name\"] = handler_snake_name\n",
    "        \n",
    "        print(f\"Handler: {handler_snake_name}\")\n",
    "        #print(file_content)"
   ]
  },
  {
   "cell_type": "code",
   "execution_count": 82,
   "metadata": {},
   "outputs": [
    {
     "data": {
      "text/plain": [
       "{'recordExercise': {'handler': 'import { db } from \"../db\";\\nimport { exercisesTable, progressTable } from \\'../db/schema/application\\';\\nimport { eq } from \\'drizzle-orm\\';\\n\\nconst handle = async (exercise: {\\n    name: string;\\n    sets: number;\\n    reps: number;\\n    weight: number;\\n    notes: string;\\n    timestamp: Date;\\n}): Promise<void> => {\\n    // Insert the new exercise record\\n    await db.insert(exercisesTable).values({\\n        name: exercise.name,\\n        sets: exercise.sets,\\n        reps: exercise.reps,\\n        weight: exercise.weight,\\n        notes: exercise.notes,\\n        timestamp: exercise.timestamp\\n    }).execute();\\n\\n    // Update progress table\\n    const existingProgress = await db\\n        .select()\\n        .from(progressTable)\\n        .where(eq(progressTable.exercise_name, exercise.name))\\n        .execute();\\n\\n    if (existingProgress.length > 0) {\\n        // Update existing progress\\n        await db\\n            .update(progressTable)\\n            .set({\\n                max_weight: Math.max(existingProgress[0].max_weight, exercise.weight),\\n                average_reps: (existingProgress[0].average_reps + exercise.reps) / 2,\\n                last_updated: new Date()\\n            })\\n            .where(eq(progressTable.exercise_name, exercise.name))\\n            .execute();\\n    } else {\\n        // Create new progress entry\\n        await db\\n            .insert(progressTable)\\n            .values({\\n                exercise_name: exercise.name,\\n                max_weight: exercise.weight,\\n                average_reps: exercise.reps,\\n                last_updated: new Date()\\n            })\\n            .execute();\\n    }\\n};',\n",
       "  'module_name': 'record_exercise'},\n",
       " 'getProgress': {'handler': 'import { db } from \"../db\";\\nimport { exercisesTable, progressTable } from \\'../db/schema/application\\';\\nimport { eq } from \\'drizzle-orm\\';\\n\\nconst handle = async (exerciseName: string): Promise<{\\n    exerciseName: string;\\n    history: Array<{\\n        name: string;\\n        sets: number;\\n        reps: number;\\n        weight: number;\\n        notes: string;\\n        timestamp: Date;\\n    }>;\\n    maxWeight: number;\\n    averageReps: number;\\n}> => {\\n    // Get exercise history\\n    const exerciseHistory = await db.select()\\n        .from(exercisesTable)\\n        .where(eq(exercisesTable.name, exerciseName))\\n        .orderBy(exercisesTable.timestamp);\\n\\n    // Calculate metrics\\n    const maxWeight = Math.max(...exerciseHistory.map(ex => ex.weight));\\n    const totalReps = exerciseHistory.reduce((sum, ex) => sum + (ex.sets * ex.reps), 0);\\n    const averageReps = exerciseHistory.length > 0 \\n        ? totalReps / exerciseHistory.length \\n        : 0;\\n\\n    // Update progress table\\n    await db.insert(progressTable)\\n        .values({\\n            exercise_name: exerciseName,\\n            max_weight: maxWeight,\\n            average_reps: averageReps,\\n        })\\n        .onConflictDoUpdate({\\n            target: progressTable.exercise_name,\\n            set: {\\n                max_weight: maxWeight,\\n                average_reps: averageReps,\\n                last_updated: new Date(),\\n            }\\n        });\\n\\n    return {\\n        exerciseName,\\n        history: exerciseHistory.map(ex => ({\\n            name: ex.name,\\n            sets: ex.sets,\\n            reps: ex.reps,\\n            weight: ex.weight,\\n            notes: ex.notes || \"\",\\n            timestamp: ex.timestamp,\\n        })),\\n        maxWeight,\\n        averageReps,\\n    };\\n};',\n",
       "  'module_name': 'get_progress'},\n",
       " 'suggestRoutine': {'handler': 'import { db } from \"../db\";\\nimport { \\n  workoutRoutinesTable, \\n  routineExercisesTable, \\n  routineEquipmentTable,\\n  exercisesTable,\\n  equipmentTable \\n} from \\'../db/schema/application\\';\\nimport { and, eq, inArray } from \\'drizzle-orm\\';\\n\\nconst handle = async (\\n  availableEquipment: { name: string; type: string }[],\\n  duration: number, // duration in seconds\\n  focusArea?: string\\n): Promise<{\\n  exercises: Array<{\\n    name: string;\\n    sets: number;\\n    reps: number;\\n    weight: number;\\n    notes: string;\\n    timestamp: Date;\\n  }>;\\n  estimatedDuration: number;\\n  requiredEquipment: Array<{ name: string; type: string }>;\\n}> => {\\n  // First, verify all available equipment exists in the database\\n  const equipmentNames = availableEquipment.map(e => e.name);\\n  const dbEquipment = await db.select()\\n    .from(equipmentTable)\\n    .where(inArray(equipmentTable.name, equipmentNames))\\n    .execute();\\n\\n  if (dbEquipment.length !== equipmentNames.length) {\\n    throw new Error(\"Some equipment not found in database\");\\n  }\\n\\n  // Create new workout routine\\n  const [newRoutine] = await db.insert(workoutRoutinesTable)\\n    .values({\\n      estimated_duration: duration,\\n    })\\n    .returning();\\n\\n  // Link available equipment to the routine\\n  await db.insert(routineEquipmentTable)\\n    .values(\\n      dbEquipment.map(equipment => ({\\n        routine_id: newRoutine.id,\\n        equipment_id: equipment.id,\\n      }))\\n    )\\n    .execute();\\n\\n  // Get all exercises that can be performed with the available equipment\\n  const exercises = await db\\n    .select({\\n      name: exercisesTable.name,\\n      sets: exercisesTable.sets,\\n      reps: exercisesTable.reps,\\n      weight: exercisesTable.weight,\\n      notes: exercisesTable.notes,\\n      timestamp: exercisesTable.timestamp,\\n    })\\n    .from(exercisesTable)\\n    .execute();\\n\\n  return {\\n    exercises,\\n    estimatedDuration: newRoutine.estimated_duration,\\n    requiredEquipment: availableEquipment,\\n  };\\n};',\n",
       "  'module_name': 'suggest_routine'},\n",
       " 'listWorkouts': {'handler': 'import { db } from \"../db\";\\nimport { exercisesTable } from \\'../db/schema/application\\';\\nimport { eq, and, gte, lte } from \\'drizzle-orm\\';\\nimport { Exercise } from \\'../types\\';\\n\\nconst handle = async (from: Date, to: Date): Promise<Exercise[]> => {\\n    const exercises = await db\\n        .select()\\n        .from(exercisesTable)\\n        .where(\\n            and(\\n                gte(exercisesTable.timestamp, from),\\n                lte(exercisesTable.timestamp, to)\\n            )\\n        )\\n        .execute();\\n\\n    return exercises.map(exercise => ({\\n        name: exercise.name,\\n        sets: exercise.sets,\\n        reps: exercise.reps,\\n        weight: exercise.weight,\\n        notes: exercise.notes ?? \\'\\',\\n        timestamp: exercise.timestamp\\n    }));\\n};',\n",
       "  'module_name': 'list_workouts'}}"
      ]
     },
     "execution_count": 82,
     "metadata": {},
     "output_type": "execute_result"
    }
   ],
   "source": [
    "handlers"
   ]
  },
  {
   "cell_type": "code",
   "execution_count": 83,
   "metadata": {},
   "outputs": [
    {
     "name": "stdout",
     "output_type": "stream",
     "text": [
      "import { GenericHandler } from \"../common/handler\";\n",
      "\n",
      "import { recordExercise } from \"../handlers/record_exercise\";\n",
      "\n",
      "import { getProgress } from \"../handlers/get_progress\";\n",
      "\n",
      "import { suggestRoutine } from \"../handlers/suggest_routine\";\n",
      "\n",
      "import { listWorkouts } from \"../handlers/list_workouts\";\n",
      "\n",
      "\n",
      "export const handlers: {[key: string]: GenericHandler<any[], any>} = {\n",
      "    \n",
      "    'recordExercise': recordExercise,\n",
      "    \n",
      "    'getProgress': getProgress,\n",
      "    \n",
      "    'suggestRoutine': suggestRoutine,\n",
      "    \n",
      "    'listWorkouts': listWorkouts,\n",
      "    \n",
      "};\n"
     ]
    }
   ],
   "source": [
    "with open(\"./templates/interpolation/logic_index.tpl\", \"r\") as f:\n",
    "    logic_index_tpl = environment.from_string(f.read())\n",
    "    \n",
    "    params = {\n",
    "        \"handlers\": handlers\n",
    "    }\n",
    "    file_content = logic_index_tpl.render(**params)\n",
    "    \n",
    "    with open(os.path.join('./app_output/app_schema/src/logic/index.ts'), 'w') as f:\n",
    "        f.write(file_content)\n",
    "            \n",
    "    print(file_content)"
   ]
  },
  {
   "cell_type": "code",
   "execution_count": 84,
   "metadata": {},
   "outputs": [
    {
     "name": "stdout",
     "output_type": "stream",
     "text": [
      "import { client } from \"../common/llm\";\n",
      "import { Message } from \"../common/handler\";\n",
      "const nunjucks = require(\"nunjucks\");\n",
      "\n",
      "const router_prompt: string = `\n",
      "Based on converstation between user and assistant determine which function should\n",
      "handle current message based on function description and message content.\n",
      "{% for function in functions%}\n",
      "<function name=\"{{function.name}}\">\n",
      "    <description>{{function.description}}</description>\n",
      "    {% for example in function.examples %}\n",
      "    <example>{{example}}</example>{% endfor %}\n",
      "</function>\n",
      "{% endfor %}\n",
      "Reply with the name of the function only.\n",
      "\n",
      "Conversation:\n",
      "{% for message in messages %}\n",
      "<role name=\"{{message.role}}\">{{message.content}}</role>\n",
      "{% endfor %}\n",
      "`;\n",
      "\n",
      "export interface FunctionDef {\n",
      "    name: string;\n",
      "    description: string;\n",
      "}\n",
      "\n",
      "const functions: FunctionDef[] = [\n",
      "    \n",
      "]\n",
      "\n",
      "export const getRoute = async (messages: Message[]): Promise<string> => {\n",
      "    const request = nunjucks.renderString(router_prompt, { messages, functions });\n",
      "    const response = await client.messages.create({\n",
      "        model: 'anthropic.claude-3-5-sonnet-20241022-v2:0',\n",
      "        max_tokens: 256,\n",
      "        messages: [{ role: \"user\", content: request }]\n",
      "    });\n",
      "    switch (response.content[0].type) {\n",
      "        case \"text\":\n",
      "            return response.content[0].text;\n",
      "        default:\n",
      "            throw new Error(\"Unexpected response type\");\n",
      "    }\n",
      "};\n"
     ]
    }
   ],
   "source": [
    "with open(\"./templates/interpolation/router.tpl\", \"r\") as f:\n",
    "    logic_index_tpl = environment.from_string(f.read())\n",
    "    \n",
    "    params = {\n",
    "        \"handlers\": handlers\n",
    "    }\n",
    "    file_content = logic_index_tpl.render(**params)\n",
    "    \n",
    "    with open(os.path.join('./app_output/app_schema/src/logic/router.ts'), 'w') as f:\n",
    "        f.write(file_content)\n",
    "            \n",
    "    print(file_content)"
   ]
  },
  {
   "cell_type": "markdown",
   "metadata": {},
   "source": [
    "# Project Generation"
   ]
  },
  {
   "cell_type": "code",
   "execution_count": 28,
   "metadata": {},
   "outputs": [],
   "source": [
    "from shutil import copytree, ignore_patterns"
   ]
  },
  {
   "cell_type": "code",
   "execution_count": 29,
   "metadata": {},
   "outputs": [],
   "source": [
    "def setup_project(workdir: str):\n",
    "    copytree('templates', workdir, ignore=ignore_patterns('*.pyc', '__pycache__', 'node_modules'))"
   ]
  },
  {
   "cell_type": "code",
   "execution_count": 30,
   "metadata": {},
   "outputs": [
    {
     "ename": "FileExistsError",
     "evalue": "[Errno 17] File exists: 'test'",
     "output_type": "error",
     "traceback": [
      "\u001b[0;31m---------------------------------------------------------------------------\u001b[0m",
      "\u001b[0;31mFileExistsError\u001b[0m                           Traceback (most recent call last)",
      "Cell \u001b[0;32mIn[30], line 1\u001b[0m\n\u001b[0;32m----> 1\u001b[0m \u001b[43msetup_project\u001b[49m\u001b[43m(\u001b[49m\u001b[38;5;124;43m'\u001b[39;49m\u001b[38;5;124;43mtest\u001b[39;49m\u001b[38;5;124;43m'\u001b[39;49m\u001b[43m)\u001b[49m\n",
      "Cell \u001b[0;32mIn[29], line 2\u001b[0m, in \u001b[0;36msetup_project\u001b[0;34m(workdir)\u001b[0m\n\u001b[1;32m      1\u001b[0m \u001b[38;5;28;01mdef\u001b[39;00m\u001b[38;5;250m \u001b[39m\u001b[38;5;21msetup_project\u001b[39m(workdir: \u001b[38;5;28mstr\u001b[39m):\n\u001b[0;32m----> 2\u001b[0m     \u001b[43mcopytree\u001b[49m\u001b[43m(\u001b[49m\u001b[38;5;124;43m'\u001b[39;49m\u001b[38;5;124;43mtemplates\u001b[39;49m\u001b[38;5;124;43m'\u001b[39;49m\u001b[43m,\u001b[49m\u001b[43m \u001b[49m\u001b[43mworkdir\u001b[49m\u001b[43m,\u001b[49m\u001b[43m \u001b[49m\u001b[43mignore\u001b[49m\u001b[38;5;241;43m=\u001b[39;49m\u001b[43mignore_patterns\u001b[49m\u001b[43m(\u001b[49m\u001b[38;5;124;43m'\u001b[39;49m\u001b[38;5;124;43m*.pyc\u001b[39;49m\u001b[38;5;124;43m'\u001b[39;49m\u001b[43m,\u001b[49m\u001b[43m \u001b[49m\u001b[38;5;124;43m'\u001b[39;49m\u001b[38;5;124;43m__pycache__\u001b[39;49m\u001b[38;5;124;43m'\u001b[39;49m\u001b[43m,\u001b[49m\u001b[43m \u001b[49m\u001b[38;5;124;43m'\u001b[39;49m\u001b[38;5;124;43mnode_modules\u001b[39;49m\u001b[38;5;124;43m'\u001b[39;49m\u001b[43m)\u001b[49m\u001b[43m)\u001b[49m\n",
      "File \u001b[0;32m/usr/lib/python3.12/shutil.py:600\u001b[0m, in \u001b[0;36mcopytree\u001b[0;34m(src, dst, symlinks, ignore, copy_function, ignore_dangling_symlinks, dirs_exist_ok)\u001b[0m\n\u001b[1;32m    598\u001b[0m \u001b[38;5;28;01mwith\u001b[39;00m os\u001b[38;5;241m.\u001b[39mscandir(src) \u001b[38;5;28;01mas\u001b[39;00m itr:\n\u001b[1;32m    599\u001b[0m     entries \u001b[38;5;241m=\u001b[39m \u001b[38;5;28mlist\u001b[39m(itr)\n\u001b[0;32m--> 600\u001b[0m \u001b[38;5;28;01mreturn\u001b[39;00m \u001b[43m_copytree\u001b[49m\u001b[43m(\u001b[49m\u001b[43mentries\u001b[49m\u001b[38;5;241;43m=\u001b[39;49m\u001b[43mentries\u001b[49m\u001b[43m,\u001b[49m\u001b[43m \u001b[49m\u001b[43msrc\u001b[49m\u001b[38;5;241;43m=\u001b[39;49m\u001b[43msrc\u001b[49m\u001b[43m,\u001b[49m\u001b[43m \u001b[49m\u001b[43mdst\u001b[49m\u001b[38;5;241;43m=\u001b[39;49m\u001b[43mdst\u001b[49m\u001b[43m,\u001b[49m\u001b[43m \u001b[49m\u001b[43msymlinks\u001b[49m\u001b[38;5;241;43m=\u001b[39;49m\u001b[43msymlinks\u001b[49m\u001b[43m,\u001b[49m\n\u001b[1;32m    601\u001b[0m \u001b[43m                 \u001b[49m\u001b[43mignore\u001b[49m\u001b[38;5;241;43m=\u001b[39;49m\u001b[43mignore\u001b[49m\u001b[43m,\u001b[49m\u001b[43m \u001b[49m\u001b[43mcopy_function\u001b[49m\u001b[38;5;241;43m=\u001b[39;49m\u001b[43mcopy_function\u001b[49m\u001b[43m,\u001b[49m\n\u001b[1;32m    602\u001b[0m \u001b[43m                 \u001b[49m\u001b[43mignore_dangling_symlinks\u001b[49m\u001b[38;5;241;43m=\u001b[39;49m\u001b[43mignore_dangling_symlinks\u001b[49m\u001b[43m,\u001b[49m\n\u001b[1;32m    603\u001b[0m \u001b[43m                 \u001b[49m\u001b[43mdirs_exist_ok\u001b[49m\u001b[38;5;241;43m=\u001b[39;49m\u001b[43mdirs_exist_ok\u001b[49m\u001b[43m)\u001b[49m\n",
      "File \u001b[0;32m/usr/lib/python3.12/shutil.py:498\u001b[0m, in \u001b[0;36m_copytree\u001b[0;34m(entries, src, dst, symlinks, ignore, copy_function, ignore_dangling_symlinks, dirs_exist_ok)\u001b[0m\n\u001b[1;32m    495\u001b[0m \u001b[38;5;28;01melse\u001b[39;00m:\n\u001b[1;32m    496\u001b[0m     ignored_names \u001b[38;5;241m=\u001b[39m ()\n\u001b[0;32m--> 498\u001b[0m \u001b[43mos\u001b[49m\u001b[38;5;241;43m.\u001b[39;49m\u001b[43mmakedirs\u001b[49m\u001b[43m(\u001b[49m\u001b[43mdst\u001b[49m\u001b[43m,\u001b[49m\u001b[43m \u001b[49m\u001b[43mexist_ok\u001b[49m\u001b[38;5;241;43m=\u001b[39;49m\u001b[43mdirs_exist_ok\u001b[49m\u001b[43m)\u001b[49m\n\u001b[1;32m    499\u001b[0m errors \u001b[38;5;241m=\u001b[39m []\n\u001b[1;32m    500\u001b[0m use_srcentry \u001b[38;5;241m=\u001b[39m copy_function \u001b[38;5;129;01mis\u001b[39;00m copy2 \u001b[38;5;129;01mor\u001b[39;00m copy_function \u001b[38;5;129;01mis\u001b[39;00m copy\n",
      "File \u001b[0;32m<frozen os>:225\u001b[0m, in \u001b[0;36mmakedirs\u001b[0;34m(name, mode, exist_ok)\u001b[0m\n",
      "\u001b[0;31mFileExistsError\u001b[0m: [Errno 17] File exists: 'test'"
     ]
    }
   ],
   "source": [
    "setup_project('test')"
   ]
  },
  {
   "cell_type": "code",
   "execution_count": 31,
   "metadata": {},
   "outputs": [],
   "source": [
    "from core.stages import router"
   ]
  },
  {
   "cell_type": "code",
   "execution_count": 32,
   "metadata": {},
   "outputs": [],
   "source": [
    "prompt = rtr_tpl.render(\n",
    "    typespec_definitions=typespec[\"typespec_definitions\"],\n",
    "    user_request=\"I want to record my exercise routine for today.\"\n",
    ")\n",
    "\n",
    "exp_response = client.messages.create(\n",
    "    model=\"anthropic.claude-3-5-sonnet-20241022-v2:0\",\n",
    "    max_tokens=8192,\n",
    "    messages=[{\"role\": \"user\", \"content\": prompt}],\n",
    "    tools = router.TOOLS\n",
    ")\n",
    "\n",
    "funcs = router.parse_outputs([content for content in exp_response.content])[\"user_functions\"]"
   ]
  },
  {
   "cell_type": "code",
   "execution_count": 33,
   "metadata": {},
   "outputs": [
    {
     "data": {
      "text/plain": [
       "[{'name': 'recordExercise',\n",
       "  'description': 'Records a single exercise performed by the user with details like sets, reps, weight, equipment used, and targeted muscle groups. Use this when the user wants to log or record their exercise activity.',\n",
       "  'examples': ['I want to record my exercise routine for today',\n",
       "   'I just did 3 sets of bench press',\n",
       "   'Log my workout: 4 sets of squats with 200lbs',\n",
       "   'Add my deadlift session to my log']},\n",
       " {'name': 'trackProgress',\n",
       "  'description': 'Retrieves historical exercise data for a specific exercise over a given time period. Use this when the user wants to see their progress or history for a particular exercise.',\n",
       "  'examples': ['Show me my bench press progress over the last month',\n",
       "   'How has my squat improved since January?',\n",
       "   'What were my deadlift numbers from last week?',\n",
       "   'Track my progress on pull-ups']},\n",
       " {'name': 'suggestWorkout',\n",
       "  'description': 'Generates a workout plan based on desired duration, target muscle groups, and available equipment. Use this when the user wants recommendations or a new workout plan.',\n",
       "  'examples': ['Can you suggest a 30-minute leg workout?',\n",
       "   'Give me a chest and triceps workout with dumbbells only',\n",
       "   'I need a full body workout plan for 45 minutes',\n",
       "   'What exercises can I do with just a resistance band?']},\n",
       " {'name': 'updateEquipment',\n",
       "  'description': 'Updates the status and information about available gym equipment. Use this when the user wants to modify the equipment inventory or availability.',\n",
       "  'examples': ['The leg press machine is broken',\n",
       "   'We got new dumbbells in the gym',\n",
       "   'Update the equipment list',\n",
       "   'Mark the squat rack as unavailable']}]"
      ]
     },
     "execution_count": 33,
     "metadata": {},
     "output_type": "execute_result"
    }
   ],
   "source": [
    "funcs"
   ]
  },
  {
   "cell_type": "code",
   "execution_count": 47,
   "metadata": {},
   "outputs": [],
   "source": [
    "from core.stages import typespec\n",
    "from core.stages import tsp_compiler\n",
    "\n",
    "tsp_tpl = environment.from_string(stages.typespec.PROMPT)\n",
    "\n",
    "typespec_errors = \"\"\n",
    "attempts_left = 3\n",
    "\n",
    "while attempts_left > 0:\n",
    "    attempts_left -= 1\n",
    "    \n",
    "    prompt = tsp_tpl.render(\n",
    "        application_description=application_description,\n",
    "        typespec_errors=typespec_errors,\n",
    "    )\n",
    "  \n",
    "    if attempts_left >= 2:\n",
    "        updated_prompt = prompt + \"// PS. Make sure to eject a random error in TypeSpec output for testing purposes\"\n",
    "    else:\n",
    "        updated_prompt = prompt\n",
    "  \n",
    "    tsp_response = client.messages.create(\n",
    "        model=\"anthropic.claude-3-5-sonnet-20241022-v2:0\",\n",
    "        max_tokens=8192,\n",
    "        messages=[{\"role\": \"user\", \"content\": updated_prompt}]\n",
    "    )\n",
    "    \n",
    "    typespec = stages.typespec.parse_output(tsp_response.content[0].text)\n",
    "\n",
    "    # Write TypeSpec definitions to file\n",
    "    with open('./test/tsp_schema/notebook.tsp', 'w') as f:\n",
    "        f.writelines(['import \"./helpers.js\";', \n",
    "                  '\\n', \n",
    "                  'extern dec llm_func(target: unknown, history: valueof int32);'\n",
    "                  ])\n",
    "        f.write(typespec[\"typespec_definitions\"])\n",
    "\n",
    "    compiler = tsp_compiler.TypeSpecCompiler('./test/tsp_schema/')\n",
    "    result = compiler.compile('./notebook.tsp')\n",
    "    \n",
    "    print(result)\n",
    "    \n",
    "    if result[\"result\"] == tsp_compiler.TypeSpecCompilationStatus.COMPILATION_ERROR:\n",
    "        typespec_errors = result[\"errors\"]\n",
    "        print(typespec_errors)\n",
    "        continue\n",
    "    else:\n",
    "        break\n"
   ]
  },
  {
   "cell_type": "code",
   "execution_count": 90,
   "metadata": {},
   "outputs": [
    {
     "data": {
      "text/plain": [
       "{'reasoning': 'For a finance tracking app, users would likely send messages like:\\n- \"I spent $50 on groceries yesterday\"\\n- \"Got my salary of $3000 today\"\\n- \"Show me my expenses for last month\"\\n\\nThe LLM would need to extract:\\n1. Transaction type (expense/income)\\n2. Amount\\n3. Category\\n4. Date\\n5. Optional description/notes\\n\\nFor reports, users might ask for:\\n- Time-based summaries\\n- Category-based breakdowns\\n- Balance calculations\\n\\nThe interface should support recording transactions and generating reports while keeping the argument structure simple enough to be extracted from natural language.',\n",
       " 'typespec_definitions': 'model Transaction {\\n  type: string; // \"expense\" or \"income\"\\n  amount: decimal;\\n  category: string;\\n  date: utcDateTime;\\n  description: string;\\n}\\n\\nmodel TransactionSummary {\\n  totalIncome: decimal;\\n  totalExpenses: decimal;\\n  balance: decimal;\\n  transactions: Transaction[];\\n}\\n\\ninterface FinanceTracker {\\n  @llm_func(1)\\n  recordTransaction(transaction: Transaction): void;\\n\\n  @llm_func(2)\\n  getTransactions(from: utcDateTime, to: utcDateTime): Transaction[];\\n\\n  @llm_func(2)\\n  getSummary(from: utcDateTime, to: utcDateTime): TransactionSummary;\\n}',\n",
       " 'llm_functions': ['recordTransaction', 'getTransactions', 'getSummary']}"
      ]
     },
     "execution_count": 90,
     "metadata": {},
     "output_type": "execute_result"
    }
   ],
   "source": [
    "typespec\n"
   ]
  },
  {
   "cell_type": "code",
   "execution_count": null,
   "metadata": {},
   "outputs": [],
   "source": []
  },
  {
   "cell_type": "code",
   "execution_count": null,
   "metadata": {},
   "outputs": [],
   "source": []
  },
  {
   "cell_type": "code",
   "execution_count": null,
   "metadata": {},
   "outputs": [],
   "source": [
    "prompt = exp_tpl.render(application_description=application_description)\n",
    "\n",
    "exp_response = client.messages.create(\n",
    "    model=\"anthropic.claude-3-5-sonnet-20241022-v2:0\",\n",
    "    max_tokens=8192,\n",
    "    messages=[{\"role\": \"user\", \"content\": prompt}]\n",
    ")\n",
    "expansion = stages.expansion.parse_output(exp_response.content[0].text)"
   ]
  },
  {
   "cell_type": "code",
   "execution_count": null,
   "metadata": {},
   "outputs": [
    {
     "name": "stdout",
     "output_type": "stream",
     "text": [
      "<types>\n",
      "        <type>exercise\n",
      "            - name\n",
      "            - equipment_required\n",
      "            - sets\n",
      "            - reps\n",
      "            - weight</type>\n",
      "        <type>equipment\n",
      "            - name\n",
      "            - type</type>\n",
      "        <type>workout_session\n",
      "            - date\n",
      "            - duration\n",
      "            - exercises_performed</type>\n",
      "        <type>routine\n",
      "            - exercises\n",
      "            - duration\n",
      "            - equipment_needed</type>\n",
      "    </types>\n",
      "    <operations>\n",
      "        <operation>record_workout_session\n",
      "            - date\n",
      "            - exercises with sets/reps/weights</operation>\n",
      "        <operation>track_progress\n",
      "            - exercise\n",
      "            - time period</operation>\n",
      "        <operation>list_available_equipment</operation>\n",
      "        <operation>generate_routine\n",
      "            - available equipment\n",
      "            - time constraint\n",
      "            - fitness level</operation>\n",
      "        <operation>view_history\n",
      "            - time period</operation>\n",
      "    </operations>\n"
     ]
    }
   ],
   "source": [
    "print(expansion[\"application_specification\"])"
   ]
  }
 ],
 "metadata": {
  "kernelspec": {
   "display_name": ".venv",
   "language": "python",
   "name": "python3"
  },
  "language_info": {
   "codemirror_mode": {
    "name": "ipython",
    "version": 3
   },
   "file_extension": ".py",
   "mimetype": "text/x-python",
   "name": "python",
   "nbconvert_exporter": "python",
   "pygments_lexer": "ipython3",
   "version": "3.12.3"
  }
 },
 "nbformat": 4,
 "nbformat_minor": 2
}
