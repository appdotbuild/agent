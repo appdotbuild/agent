{
 "cells": [
  {
   "cell_type": "code",
   "execution_count": 24,
   "metadata": {},
   "outputs": [
    {
     "name": "stdout",
     "output_type": "stream",
     "text": [
      "The autoreload extension is already loaded. To reload it, use:\n",
      "  %reload_ext autoreload\n"
     ]
    }
   ],
   "source": [
    "%load_ext autoreload\n",
    "%autoreload 2"
   ]
  },
  {
   "cell_type": "code",
   "execution_count": 25,
   "metadata": {},
   "outputs": [],
   "source": [
    "import jinja2\n",
    "from anthropic import AnthropicBedrock\n",
    "from core import stages\n",
    "import json\n"
   ]
  },
  {
   "cell_type": "code",
   "execution_count": 26,
   "metadata": {},
   "outputs": [],
   "source": [
    "client = AnthropicBedrock(aws_profile=\"dev\", aws_region=\"us-west-2\")"
   ]
  },
  {
   "cell_type": "code",
   "execution_count": 27,
   "metadata": {},
   "outputs": [],
   "source": [
    "environment = jinja2.Environment()"
   ]
  },
  {
   "cell_type": "code",
   "execution_count": 28,
   "metadata": {},
   "outputs": [],
   "source": [
    "tsp_tpl = environment.from_string(stages.typespec.PROMPT)\n",
    "dzl_tpl = environment.from_string(stages.drizzle.PROMPT)\n",
    "rtr_tpl = environment.from_string(stages.router.PROMPT)\n",
    "hdl_tpl = environment.from_string(stages.handlers.PROMPT)\n",
    "pre_tpl = environment.from_string(stages.processors.PROMPT_PRE)"
   ]
  },
  {
   "cell_type": "code",
   "execution_count": 29,
   "metadata": {},
   "outputs": [],
   "source": [
    "application_description = \"\"\"\n",
    "Bot that tracks my exercise routine in the gym, tracks progress and suggests new routines\n",
    "for specific list of available equipment and time constraints.\n",
    "\"\"\".strip()"
   ]
  },
  {
   "cell_type": "code",
   "execution_count": 30,
   "metadata": {},
   "outputs": [
    {
     "data": {
      "text/plain": [
       "'./app_output'"
      ]
     },
     "execution_count": 30,
     "metadata": {},
     "output_type": "execute_result"
    }
   ],
   "source": [
    "from shutil import copytree, ignore_patterns\n",
    "\n",
    "\n",
    "copytree('./templates/', './app_output', ignore=ignore_patterns('*.pyc', '__pycache__')) # 'node_modules'\n"
   ]
  },
  {
   "cell_type": "code",
   "execution_count": 31,
   "metadata": {},
   "outputs": [],
   "source": [
    "prompt = tsp_tpl.render(\n",
    "    application_description=application_description,\n",
    ")\n",
    "\n",
    "tsp_response = client.messages.create(\n",
    "    model=\"anthropic.claude-3-5-sonnet-20241022-v2:0\",\n",
    "    max_tokens=8192,\n",
    "    messages=[{\"role\": \"user\", \"content\": prompt}]\n",
    ")\n",
    "typespec = stages.typespec.parse_output(tsp_response.content[0].text)"
   ]
  },
  {
   "cell_type": "code",
   "execution_count": 32,
   "metadata": {},
   "outputs": [
    {
     "data": {
      "text/plain": [
       "{'reasoning': 'For a gym tracking bot, we need to handle several aspects:\\n1. Recording exercises with sets, reps, and weights\\n2. Equipment availability for exercise suggestions\\n3. Time tracking for workouts\\n4. Progress tracking over time\\n5. Workout routine suggestions\\n\\nExpected user messages:\\n\"I did 3 sets of bench press, 8 reps each with 185lbs\"\\n-> recordExercise({name: \"bench press\", sets: [{reps: 8, weight: 185}, ...]})\\n\\n\"What\\'s my progress on deadlifts over the last month?\"\\n-> getProgress({exercise: \"deadlifts\", timeFrame: ...})\\n\\n\"Suggest a 45-minute workout routine for chest day. I have access to bench, dumbbells, and cables\"\\n-> suggestRoutine({duration: 45, equipment: [\"bench\", \"dumbbells\", \"cables\"], target: \"chest\"})',\n",
       " 'typespec_definitions': 'model Exercise {\\n  name: string;\\n  sets: Set[];\\n  notes: string;\\n}\\n\\nmodel Set {\\n  reps: integer;\\n  weight: float;\\n}\\n\\nmodel Equipment {\\n  name: string;\\n  type: string;\\n}\\n\\nmodel RoutineRequest {\\n  duration: duration;\\n  equipment: Equipment[];\\n  targetMuscles: string[];\\n}\\n\\nmodel Progress {\\n  exercise: string;\\n  history: WorkoutHistory[];\\n}\\n\\nmodel WorkoutHistory {\\n  date: utcDateTime;\\n  sets: Set[];\\n  totalVolume: float;\\n}\\n\\ninterface GymBot {\\n  @llm_func(2)\\n  recordExercise(exercise: Exercise): void;\\n\\n  @llm_func(3)\\n  getProgress(exerciseName: string, startDate: utcDateTime, endDate: utcDateTime): Progress;\\n\\n  @llm_func(1)\\n  suggestRoutine(request: RoutineRequest): Exercise[];\\n\\n  @llm_func(1)\\n  updateAvailableEquipment(equipment: Equipment[]): void;\\n}',\n",
       " 'llm_functions': ['recordExercise',\n",
       "  'getProgress',\n",
       "  'suggestRoutine',\n",
       "  'updateAvailableEquipment']}"
      ]
     },
     "execution_count": 32,
     "metadata": {},
     "output_type": "execute_result"
    }
   ],
   "source": [
    "typespec"
   ]
  },
  {
   "cell_type": "code",
   "execution_count": 33,
   "metadata": {},
   "outputs": [
    {
     "name": "stdout",
     "output_type": "stream",
     "text": [
      "For a gym tracking bot, we need to handle several aspects:\n",
      "1. Recording exercises with sets, reps, and weights\n",
      "2. Equipment availability for exercise suggestions\n",
      "3. Time tracking for workouts\n",
      "4. Progress tracking over time\n",
      "5. Workout routine suggestions\n",
      "\n",
      "Expected user messages:\n",
      "\"I did 3 sets of bench press, 8 reps each with 185lbs\"\n",
      "-> recordExercise({name: \"bench press\", sets: [{reps: 8, weight: 185}, ...]})\n",
      "\n",
      "\"What's my progress on deadlifts over the last month?\"\n",
      "-> getProgress({exercise: \"deadlifts\", timeFrame: ...})\n",
      "\n",
      "\"Suggest a 45-minute workout routine for chest day. I have access to bench, dumbbells, and cables\"\n",
      "-> suggestRoutine({duration: 45, equipment: [\"bench\", \"dumbbells\", \"cables\"], target: \"chest\"})\n"
     ]
    }
   ],
   "source": [
    "print(typespec[\"reasoning\"])"
   ]
  },
  {
   "cell_type": "code",
   "execution_count": 34,
   "metadata": {},
   "outputs": [
    {
     "name": "stdout",
     "output_type": "stream",
     "text": [
      "model Exercise {\n",
      "  name: string;\n",
      "  sets: Set[];\n",
      "  notes: string;\n",
      "}\n",
      "\n",
      "model Set {\n",
      "  reps: integer;\n",
      "  weight: float;\n",
      "}\n",
      "\n",
      "model Equipment {\n",
      "  name: string;\n",
      "  type: string;\n",
      "}\n",
      "\n",
      "model RoutineRequest {\n",
      "  duration: duration;\n",
      "  equipment: Equipment[];\n",
      "  targetMuscles: string[];\n",
      "}\n",
      "\n",
      "model Progress {\n",
      "  exercise: string;\n",
      "  history: WorkoutHistory[];\n",
      "}\n",
      "\n",
      "model WorkoutHistory {\n",
      "  date: utcDateTime;\n",
      "  sets: Set[];\n",
      "  totalVolume: float;\n",
      "}\n",
      "\n",
      "interface GymBot {\n",
      "  @llm_func(2)\n",
      "  recordExercise(exercise: Exercise): void;\n",
      "\n",
      "  @llm_func(3)\n",
      "  getProgress(exerciseName: string, startDate: utcDateTime, endDate: utcDateTime): Progress;\n",
      "\n",
      "  @llm_func(1)\n",
      "  suggestRoutine(request: RoutineRequest): Exercise[];\n",
      "\n",
      "  @llm_func(1)\n",
      "  updateAvailableEquipment(equipment: Equipment[]): void;\n",
      "}\n"
     ]
    }
   ],
   "source": [
    "print(typespec[\"typespec_definitions\"])"
   ]
  },
  {
   "cell_type": "code",
   "execution_count": 35,
   "metadata": {},
   "outputs": [],
   "source": [
    "prompt = dzl_tpl.render(\n",
    "    typespec_definitions=typespec[\"typespec_definitions\"],\n",
    ")\n",
    "\n",
    "dzl_response = client.messages.create(\n",
    "    model=\"anthropic.claude-3-5-sonnet-20241022-v2:0\",\n",
    "    max_tokens=8192,\n",
    "    messages=[{\"role\": \"user\", \"content\": prompt}]\n",
    ")\n",
    "drizzle = stages.drizzle.parse_output(dzl_response.content[0].text)"
   ]
  },
  {
   "cell_type": "code",
   "execution_count": 36,
   "metadata": {},
   "outputs": [
    {
     "name": "stdout",
     "output_type": "stream",
     "text": [
      "import { \n",
      "  integer, \n",
      "  pgTable, \n",
      "  text, \n",
      "  timestamp, \n",
      "  real, \n",
      "  jsonb,\n",
      "  primaryKey,\n",
      "  serial \n",
      "} from \"drizzle-orm/pg-core\";\n",
      "\n",
      "// Equipment table\n",
      "export const equipmentTable = pgTable(\"equipment\", {\n",
      "  id: serial(\"id\").primaryKey(),\n",
      "  name: text(\"name\").notNull(),\n",
      "  type: text(\"type\").notNull(),\n",
      "});\n",
      "\n",
      "// Exercise table\n",
      "export const exerciseTable = pgTable(\"exercise\", {\n",
      "  id: serial(\"id\").primaryKey(),\n",
      "  name: text(\"name\").notNull().unique(),\n",
      "  notes: text(\"notes\"),\n",
      "});\n",
      "\n",
      "// Sets table - normalized to store individual sets\n",
      "export const setsTable = pgTable(\"sets\", {\n",
      "  id: serial(\"id\").primaryKey(),\n",
      "  exercise_id: integer(\"exercise_id\")\n",
      "    .references(() => exerciseTable.id)\n",
      "    .notNull(),\n",
      "  reps: integer(\"reps\").notNull(),\n",
      "  weight: real(\"weight\").notNull(),\n",
      "});\n",
      "\n",
      "// Workout History table\n",
      "export const workoutHistoryTable = pgTable(\"workout_history\", {\n",
      "  id: serial(\"id\").primaryKey(),\n",
      "  exercise_id: integer(\"exercise_id\")\n",
      "    .references(() => exerciseTable.id)\n",
      "    .notNull(),\n",
      "  date: timestamp(\"date\").notNull(),\n",
      "  total_volume: real(\"total_volume\").notNull(),\n",
      "});\n",
      "\n",
      "// Workout History Sets - junction table for sets in each workout\n",
      "export const workoutHistorySetsTable = pgTable(\"workout_history_sets\", {\n",
      "  workout_history_id: integer(\"workout_history_id\")\n",
      "    .references(() => workoutHistoryTable.id)\n",
      "    .notNull(),\n",
      "  set_id: integer(\"set_id\")\n",
      "    .references(() => setsTable.id)\n",
      "    .notNull(),\n",
      "}, (table) => {\n",
      "  return {\n",
      "    pk: primaryKey({ columns: [table.workout_history_id, table.set_id] }),\n",
      "  };\n",
      "});\n",
      "\n",
      "// Target Muscles table\n",
      "export const targetMusclesTable = pgTable(\"target_muscles\", {\n",
      "  id: serial(\"id\").primaryKey(),\n",
      "  name: text(\"name\").notNull().unique(),\n",
      "});\n",
      "\n",
      "// Exercise-Target Muscles junction table\n",
      "export const exerciseTargetMusclesTable = pgTable(\"exercise_target_muscles\", {\n",
      "  exercise_id: integer(\"exercise_id\")\n",
      "    .references(() => exerciseTable.id)\n",
      "    .notNull(),\n",
      "  muscle_id: integer(\"muscle_id\")\n",
      "    .references(() => targetMusclesTable.id)\n",
      "    .notNull(),\n",
      "}, (table) => {\n",
      "  return {\n",
      "    pk: primaryKey({ columns: [table.exercise_id, table.muscle_id] }),\n",
      "  };\n",
      "});\n"
     ]
    }
   ],
   "source": [
    "print(drizzle[\"drizzle_schema\"])"
   ]
  },
  {
   "cell_type": "code",
   "execution_count": 37,
   "metadata": {},
   "outputs": [],
   "source": [
    "prompt = rtr_tpl.render(\n",
    "    typespec_definitions=typespec[\"typespec_definitions\"],\n",
    "    user_request=\"I want to record my exercise routine for today.\"\n",
    ")\n",
    "\n",
    "exp_response = client.messages.create(\n",
    "    model=\"anthropic.claude-3-5-sonnet-20241022-v2:0\",\n",
    "    max_tokens=8192,\n",
    "    messages=[{\"role\": \"user\", \"content\": prompt}],\n",
    "    tools = stages.router.TOOLS\n",
    ")\n",
    "\n",
    "funcs = stages.router.parse_outputs([content for content in exp_response.content])[\"user_functions\"]\n"
   ]
  },
  {
   "cell_type": "code",
   "execution_count": 38,
   "metadata": {},
   "outputs": [
    {
     "data": {
      "text/plain": [
       "[{'name': 'recordExercise',\n",
       "  'description': 'Record details of a completed exercise including the name, sets performed (reps and weights), and any additional notes.',\n",
       "  'examples': ['I did 3 sets of bench press today with 135lbs',\n",
       "   'Record my squats: 5 reps at 225lbs for 3 sets',\n",
       "   'Just finished deadlifts - 2 sets of 8 reps at 185lbs']},\n",
       " {'name': 'getProgress',\n",
       "  'description': 'Retrieve and analyze progress for a specific exercise over a given time period, showing history of sets and total volume',\n",
       "  'examples': ['Show my bench press progress for the last month',\n",
       "   \"What's my squat history from January to now?\",\n",
       "   'How have my deadlifts improved since last quarter?']},\n",
       " {'name': 'suggestRoutine',\n",
       "  'description': 'Generate a workout routine based on available equipment, target muscles, and desired duration',\n",
       "  'examples': ['Give me a 45-minute leg workout with dumbbells',\n",
       "   'Suggest a chest and triceps routine using only bodyweight exercises',\n",
       "   'Create a full body workout for 1 hour with access to a complete gym']},\n",
       " {'name': 'updateAvailableEquipment',\n",
       "  'description': 'Update the list of exercise equipment that is available for workout routines',\n",
       "  'examples': ['I now have access to dumbbells and a bench',\n",
       "   'Update my gym equipment - got a new power rack',\n",
       "   'Changed gyms - need to update available equipment']}]"
      ]
     },
     "execution_count": 38,
     "metadata": {},
     "output_type": "execute_result"
    }
   ],
   "source": [
    "funcs"
   ]
  },
  {
   "cell_type": "code",
   "execution_count": 39,
   "metadata": {},
   "outputs": [],
   "source": [
    "pre_processors = {}\n",
    "for function_name in typespec[\"llm_functions\"]:\n",
    "    prompt = pre_tpl.render(\n",
    "        function_name=function_name,\n",
    "        typespec_definitions=typespec[\"typespec_definitions\"],\n",
    "    )\n",
    "\n",
    "    pre_response = client.messages.create(\n",
    "        model=\"anthropic.claude-3-5-sonnet-20241022-v2:0\",\n",
    "        max_tokens=8192,\n",
    "        messages=[{\"role\": \"user\", \"content\": prompt}]\n",
    "    )\n",
    "    pre_processor = stages.processors.parse_output(pre_response.content[0].text)\n",
    "    pre_processors[function_name] = pre_processor"
   ]
  },
  {
   "cell_type": "code",
   "execution_count": 40,
   "metadata": {},
   "outputs": [
    {
     "name": "stdout",
     "output_type": "stream",
     "text": [
      "<instructions>\n",
      "The updateAvailableEquipment function expects an array of Equipment objects. Each Equipment object must have:\n",
      "- name: A descriptive string name of the equipment\n",
      "- type: A category/type classification string\n",
      "\n",
      "When processing user input:\n",
      "1. Convert equipment mentions into properly structured Equipment objects\n",
      "2. If type is not explicitly mentioned, infer from context or use general categories like \"weights\", \"cardio\", \"bodyweight\"\n",
      "3. Multiple pieces of equipment should be grouped into an array\n",
      "4. Equipment names should be normalized to standard terminology\n",
      "</instructions>\n",
      "\n",
      "<examples>\n",
      "    <example>\n",
      "        <input>I have dumbbells, a bench, and a pull-up bar at home</input>\n",
      "        <output>{\n",
      "  \"equipment\": [\n",
      "    {\n",
      "      \"name\": \"dumbbells\",\n",
      "      \"type\": \"weights\"\n",
      "    },\n",
      "    {\n",
      "      \"name\": \"bench\",\n",
      "      \"type\": \"weights\"\n",
      "    },\n",
      "    {\n",
      "      \"name\": \"pull-up bar\",\n",
      "      \"type\": \"bodyweight\"\n",
      "    }\n",
      "  ]\n",
      "}</output>\n",
      "    </example>\n",
      "\n",
      "    <example>\n",
      "        <input>Just got new equipment: 2 kettlebells and a resistance band</input>\n",
      "        <output>{\n",
      "  \"equipment\": [\n",
      "    {\n",
      "      \"name\": \"kettlebell\",\n",
      "      \"type\": \"weights\"\n",
      "    },\n",
      "    {\n",
      "      \"name\": \"resistance band\",\n",
      "      \"type\": \"accessories\"\n",
      "    }\n",
      "  ]\n",
      "}</output>\n",
      "    </example>\n",
      "\n",
      "    <example>\n",
      "        <input>updating gym equipment: squat rack, barbell, plates, treadmill</input>\n",
      "        <output>{\n",
      "  \"equipment\": [\n",
      "    {\n",
      "      \"name\": \"squat rack\",\n",
      "      \"type\": \"weights\"\n",
      "    },\n",
      "    {\n",
      "      \"name\": \"barbell\",\n",
      "      \"type\": \"weights\"\n",
      "    },\n",
      "    {\n",
      "      \"name\": \"weight plates\",\n",
      "      \"type\": \"weights\"\n",
      "    },\n",
      "    {\n",
      "      \"name\": \"treadmill\",\n",
      "      \"type\": \"cardio\"\n",
      "    }\n",
      "  ]\n",
      "}</output>\n",
      "    </example>\n",
      "</examples>\n"
     ]
    }
   ],
   "source": [
    "print(pre_response.content[0].text)"
   ]
  },
  {
   "cell_type": "code",
   "execution_count": 41,
   "metadata": {},
   "outputs": [
    {
     "data": {
      "text/plain": [
       "{'recordExercise': {'instructions': 'When handling user input for recordExercise function:\\n1. Extract exercise name from the input text\\n2. Parse sets information in format: weight x reps or reps@weight\\n3. Notes are optional - include if provided, otherwise use empty string\\n4. Multiple sets should be separated by commas or new lines\\n5. Weight should be converted to float type\\n6. Reps should be converted to integer type',\n",
       "  'examples': [('bench press 80kg x 8 reps, 85kg x 6, 85x5',\n",
       "    '{\\n            \"exercise\": {\\n                \"name\": \"bench press\",\\n                \"sets\": [\\n                    {\"weight\": 80.0, \"reps\": 8},\\n                    {\"weight\": 85.0, \"reps\": 6},\\n                    {\"weight\": 85.0, \"reps\": 5}\\n                ],\\n                \"notes\": \"\"\\n            }\\n        }'),\n",
       "   ('squats 100x5, 120x3, 120x3 feeling tired today',\n",
       "    '{\\n            \"exercise\": {\\n                \"name\": \"squats\",\\n                \"sets\": [\\n                    {\"weight\": 100.0, \"reps\": 5},\\n                    {\"weight\": 120.0, \"reps\": 3},\\n                    {\"weight\": 120.0, \"reps\": 3}\\n                ],\\n                \"notes\": \"feeling tired today\"\\n            }\\n        }'),\n",
       "   ('pullups: 10 reps, 8 reps, 7 reps bodyweight only',\n",
       "    '{\\n            \"exercise\": {\\n                \"name\": \"pullups\",\\n                \"sets\": [\\n                    {\"weight\": 0.0, \"reps\": 10},\\n                    {\"weight\": 0.0, \"reps\": 8},\\n                    {\"weight\": 0.0, \"reps\": 7}\\n                ],\\n                \"notes\": \"bodyweight only\"\\n            }\\n        }'),\n",
       "   ('deadlift 140kg x 5 form check needed',\n",
       "    '{\\n            \"exercise\": {\\n                \"name\": \"deadlift\",\\n                \"sets\": [\\n                    {\"weight\": 140.0, \"reps\": 5}\\n                ],\\n                \"notes\": \"form check needed\"\\n            }\\n        }')]},\n",
       " 'getProgress': {'instructions': 'When handling user input for getProgress function:\\n1. Extract exercise name from the input (required)\\n2. If dates are not specified:\\n   - endDate defaults to current UTC datetime\\n   - startDate defaults to 30 days before endDate\\n3. Date formats should be ISO 8601 UTC\\n4. Exercise names should be normalized to lowercase\\n5. Partial date formats should be expanded to full UTC datetime',\n",
       "  'examples': [('Show me my bench press progress',\n",
       "    '{\\n    \"exerciseName\": \"bench press\",\\n    \"startDate\": \"2024-01-15T00:00:00Z\",\\n    \"endDate\": \"2024-02-15T00:00:00Z\"\\n}'),\n",
       "   ('How has my squat improved since January 1st?',\n",
       "    '{\\n    \"exerciseName\": \"squat\",\\n    \"startDate\": \"2024-01-01T00:00:00Z\",\\n    \"endDate\": \"2024-02-15T00:00:00Z\"\\n}'),\n",
       "   ('Show deadlift progress between Dec 15 2023 and Jan 15 2024',\n",
       "    '{\\n    \"exerciseName\": \"deadlift\",\\n    \"startDate\": \"2023-12-15T00:00:00Z\",\\n    \"endDate\": \"2024-01-15T00:00:00Z\"\\n}'),\n",
       "   (\"What's my shoulder press history for the past week?\",\n",
       "    '{\\n    \"exerciseName\": \"shoulder press\",\\n    \"startDate\": \"2024-02-08T00:00:00Z\",\\n    \"endDate\": \"2024-02-15T00:00:00Z\"\\n}')]},\n",
       " 'suggestRoutine': {'instructions': 'For suggestRoutine function:\\n- Duration should be parsed into ISO 8601 duration format (e.g., PT1H30M)\\n- Equipment list can be empty but should specify both name and type if provided\\n- Target muscles should be normalized to standard anatomical terms\\n- If duration is not specified, default to PT1H\\n- If equipment is not mentioned, assume bodyweight exercises only\\n- If target muscles are not specified, provide a full-body routine',\n",
       "  'examples': [('Create a 45-minute workout with dumbbells focusing on chest and triceps',\n",
       "    '{\\n  \"request\": {\\n    \"duration\": \"PT45M\",\\n    \"equipment\": [\\n      {\\n        \"name\": \"dumbbells\",\\n        \"type\": \"free weights\"\\n      }\\n    ],\\n    \"targetMuscles\": [\"pectoralis major\", \"triceps brachii\"]\\n  }\\n}'),\n",
       "   ('I have 2 hours at the gym with access to a power rack and barbell',\n",
       "    '{\\n  \"request\": {\\n    \"duration\": \"PT2H\",\\n    \"equipment\": [\\n      {\\n        \"name\": \"power rack\",\\n        \"type\": \"machine\"\\n      },\\n      {\\n        \"name\": \"barbell\",\\n        \"type\": \"free weights\"\\n      }\\n    ],\\n    \"targetMuscles\": [\"full body\"]\\n  }\\n}'),\n",
       "   ('Quick home workout for legs',\n",
       "    '{\\n  \"request\": {\\n    \"duration\": \"PT30M\",\\n    \"equipment\": [],\\n    \"targetMuscles\": [\"quadriceps\", \"hamstrings\", \"gluteus maximus\", \"calves\"]\\n  }\\n}'),\n",
       "   ('Give me an upper body workout using resistance bands and a pull-up bar',\n",
       "    '{\\n  \"request\": {\\n    \"duration\": \"PT1H\",\\n    \"equipment\": [\\n      {\\n        \"name\": \"resistance bands\",\\n        \"type\": \"bands\"\\n      },\\n      {\\n        \"name\": \"pull-up bar\",\\n        \"type\": \"bodyweight\"\\n      }\\n    ],\\n    \"targetMuscles\": [\"latissimus dorsi\", \"pectoralis major\", \"deltoids\", \"biceps brachii\", \"triceps brachii\"]\\n  }\\n}')]},\n",
       " 'updateAvailableEquipment': {'instructions': 'The updateAvailableEquipment function expects an array of Equipment objects. Each Equipment object must have:\\n- name: A descriptive string name of the equipment\\n- type: A category/type classification string\\n\\nWhen processing user input:\\n1. Convert equipment mentions into properly structured Equipment objects\\n2. If type is not explicitly mentioned, infer from context or use general categories like \"weights\", \"cardio\", \"bodyweight\"\\n3. Multiple pieces of equipment should be grouped into an array\\n4. Equipment names should be normalized to standard terminology',\n",
       "  'examples': [('I have dumbbells, a bench, and a pull-up bar at home',\n",
       "    '{\\n  \"equipment\": [\\n    {\\n      \"name\": \"dumbbells\",\\n      \"type\": \"weights\"\\n    },\\n    {\\n      \"name\": \"bench\",\\n      \"type\": \"weights\"\\n    },\\n    {\\n      \"name\": \"pull-up bar\",\\n      \"type\": \"bodyweight\"\\n    }\\n  ]\\n}'),\n",
       "   ('Just got new equipment: 2 kettlebells and a resistance band',\n",
       "    '{\\n  \"equipment\": [\\n    {\\n      \"name\": \"kettlebell\",\\n      \"type\": \"weights\"\\n    },\\n    {\\n      \"name\": \"resistance band\",\\n      \"type\": \"accessories\"\\n    }\\n  ]\\n}'),\n",
       "   ('updating gym equipment: squat rack, barbell, plates, treadmill',\n",
       "    '{\\n  \"equipment\": [\\n    {\\n      \"name\": \"squat rack\",\\n      \"type\": \"weights\"\\n    },\\n    {\\n      \"name\": \"barbell\",\\n      \"type\": \"weights\"\\n    },\\n    {\\n      \"name\": \"weight plates\",\\n      \"type\": \"weights\"\\n    },\\n    {\\n      \"name\": \"treadmill\",\\n      \"type\": \"cardio\"\\n    }\\n  ]\\n}')]}}"
      ]
     },
     "execution_count": 41,
     "metadata": {},
     "output_type": "execute_result"
    }
   ],
   "source": [
    "pre_processors"
   ]
  },
  {
   "cell_type": "code",
   "execution_count": 42,
   "metadata": {},
   "outputs": [],
   "source": [
    "handlers = {}\n",
    "for function_name in typespec[\"llm_functions\"]:\n",
    "    prompt = hdl_tpl.render(\n",
    "        function_name=function_name,\n",
    "        typespec_definitions=typespec[\"typespec_definitions\"],\n",
    "        drizzle_schema=drizzle[\"drizzle_schema\"],\n",
    "    )\n",
    "\n",
    "    hdl_response = client.messages.create(\n",
    "        model=\"anthropic.claude-3-5-sonnet-20241022-v2:0\",\n",
    "        max_tokens=8192,\n",
    "        messages=[{\"role\": \"user\", \"content\": prompt}]\n",
    "    )\n",
    "    handlers[function_name] = stages.handlers.parse_output(hdl_response.content[0].text)\n"
   ]
  },
  {
   "cell_type": "code",
   "execution_count": 43,
   "metadata": {},
   "outputs": [
    {
     "data": {
      "text/plain": [
       "{'recordExercise': {'handler': 'import { db } from \"../db\";\\nimport { \\n  exerciseTable, \\n  setsTable, \\n  workoutHistoryTable,\\n  workoutHistorySetsTable \\n} from \\'../db/schema/application\\';\\nimport { eq } from \\'drizzle-orm\\';\\n\\nconst handle = async (exercise: {\\n  name: string;\\n  sets: Array<{ reps: number; weight: number }>;\\n  notes: string;\\n}): Promise<void> => {\\n  // Start a transaction since we\\'re performing multiple related operations\\n  await db.transaction(async (tx) => {\\n    // Check if exercise exists, if not create it\\n    let exerciseRecord = await tx\\n      .select()\\n      .from(exerciseTable)\\n      .where(eq(exerciseTable.name, exercise.name))\\n      .limit(1);\\n\\n    let exerciseId: number;\\n    \\n    if (exerciseRecord.length === 0) {\\n      const [newExercise] = await tx\\n        .insert(exerciseTable)\\n        .values({\\n          name: exercise.name,\\n          notes: exercise.notes\\n        })\\n        .returning({ id: exerciseTable.id });\\n      \\n      exerciseId = newExercise.id;\\n    } else {\\n      exerciseId = exerciseRecord[0].id;\\n    }\\n\\n    // Calculate total volume\\n    const totalVolume = exercise.sets.reduce(\\n      (sum, set) => sum + (set.reps * set.weight), \\n      0\\n    );\\n\\n    // Create workout history entry\\n    const [workoutHistory] = await tx\\n      .insert(workoutHistoryTable)\\n      .values({\\n        exercise_id: exerciseId,\\n        date: new Date(),\\n        total_volume: totalVolume\\n      })\\n      .returning({ id: workoutHistoryTable.id });\\n\\n    // Insert all sets\\n    const setPromises = exercise.sets.map(async (set) => {\\n      const [newSet] = await tx\\n        .insert(setsTable)\\n        .values({\\n          exercise_id: exerciseId,\\n          reps: set.reps,\\n          weight: set.weight\\n        })\\n        .returning({ id: setsTable.id });\\n\\n      // Link set to workout history\\n      await tx\\n        .insert(workoutHistorySetsTable)\\n        .values({\\n          workout_history_id: workoutHistory.id,\\n          set_id: newSet.id\\n        });\\n    });\\n\\n    await Promise.all(setPromises);\\n  });\\n};'},\n",
       " 'getProgress': {'handler': 'import { db } from \"../db\";\\nimport { \\n  exerciseTable, \\n  workoutHistoryTable, \\n  setsTable, \\n  workoutHistorySetsTable \\n} from \\'../db/schema/application\\';\\nimport { eq, and, between } from \\'drizzle-orm\\';\\n\\nconst handle = async (exerciseName: string, startDate: Date, endDate: Date): Promise<Progress> => {\\n  // Get exercise ID\\n  const exercise = await db.query.exerciseTable.findFirst({\\n    where: eq(exerciseTable.name, exerciseName)\\n  });\\n\\n  if (!exercise) {\\n    throw new Error(`Exercise ${exerciseName} not found`);\\n  }\\n\\n  // Get workout history with associated sets\\n  const workoutHistory = await db\\n    .select({\\n      date: workoutHistoryTable.date,\\n      totalVolume: workoutHistoryTable.total_volume,\\n      sets: setsTable\\n    })\\n    .from(workoutHistoryTable)\\n    .where(and(\\n      eq(workoutHistoryTable.exercise_id, exercise.id),\\n      between(workoutHistoryTable.date, startDate, endDate)\\n    ))\\n    .leftJoin(workoutHistorySetsTable, eq(workoutHistorySetsTable.workout_history_id, workoutHistoryTable.id))\\n    .leftJoin(setsTable, eq(setsTable.id, workoutHistorySetsTable.set_id))\\n    .orderBy(workoutHistoryTable.date);\\n\\n  // Transform the data into the required format\\n  const historyMap = new Map<string, {\\n    date: Date,\\n    sets: { reps: number, weight: number }[],\\n    totalVolume: number\\n  }>();\\n\\n  workoutHistory.forEach(record => {\\n    const dateKey = record.date.toISOString();\\n    if (!historyMap.has(dateKey)) {\\n      historyMap.set(dateKey, {\\n        date: record.date,\\n        sets: [],\\n        totalVolume: record.totalVolume\\n      });\\n    }\\n    \\n    if (record.sets) {\\n      historyMap.get(dateKey)?.sets.push({\\n        reps: record.sets.reps,\\n        weight: record.sets.weight\\n      });\\n    }\\n  });\\n\\n  return {\\n    exercise: exerciseName,\\n    history: Array.from(historyMap.values())\\n  };\\n};'},\n",
       " 'suggestRoutine': {'handler': 'import { db } from \"../db\";\\nimport { \\n  equipmentTable, \\n  exerciseTable, \\n  exerciseTargetMusclesTable, \\n  targetMusclesTable,\\n  setsTable\\n} from \\'../db/schema/application\\';\\nimport { eq, inArray } from \\'drizzle-orm\\';\\n\\nconst handle = async (request: RoutineRequest): Promise<Exercise[]> => {\\n  // Get IDs of available equipment\\n  const availableEquipmentNames = request.equipment.map(e => e.name);\\n  const equipmentIds = await db\\n    .select({ id: equipmentTable.id })\\n    .from(equipmentTable)\\n    .where(inArray(equipmentTable.name, availableEquipmentNames));\\n\\n  // Get muscle IDs for target muscles\\n  const muscleIds = await db\\n    .select({ id: targetMusclesTable.id })\\n    .from(targetMusclesTable)\\n    .where(inArray(targetMusclesTable.name, request.targetMuscles));\\n\\n  // Find exercises that match target muscles\\n  const exercises = await db\\n    .select({\\n      id: exerciseTable.id,\\n      name: exerciseTable.name,\\n      notes: exerciseTable.notes\\n    })\\n    .from(exerciseTable)\\n    .innerJoin(\\n      exerciseTargetMusclesTable,\\n      eq(exerciseTable.id, exerciseTargetMusclesTable.exercise_id)\\n    )\\n    .where(inArray(exerciseTargetMusclesTable.muscle_id, muscleIds.map(m => m.id)));\\n\\n  // Get typical sets for each exercise\\n  const exercisesWithSets = await Promise.all(\\n    exercises.map(async (exercise) => {\\n      const sets = await db\\n        .select({\\n          reps: setsTable.reps,\\n          weight: setsTable.weight\\n        })\\n        .from(setsTable)\\n        .where(eq(setsTable.exercise_id, exercise.id))\\n        .limit(3); // Get typical 3 sets as suggestion\\n\\n      return {\\n        name: exercise.name,\\n        sets: sets.map(s => ({\\n          reps: s.reps,\\n          weight: Number(s.weight)\\n        })),\\n        notes: exercise.notes ?? \"\"\\n      };\\n    })\\n  );\\n\\n  // Return subset of exercises based on duration\\n  // Assuming each exercise takes ~5 minutes\\n  const exercisesCount = Math.floor(request.duration / (5 * 60 * 1000));\\n  return exercisesWithSets.slice(0, exercisesCount);\\n};'},\n",
       " 'updateAvailableEquipment': {'handler': 'import { db } from \"../db\";\\nimport { equipmentTable } from \\'../db/schema/application\\';\\nimport { eq } from \\'drizzle-orm\\';\\n\\nconst handle = async (equipment: Array<{ name: string; type: string }>): Promise<void> => {\\n    // First, delete all existing equipment\\n    await db.delete(equipmentTable).execute();\\n    \\n    // Then insert the new equipment list\\n    if (equipment.length > 0) {\\n        await db.insert(equipmentTable)\\n            .values(equipment.map(eq => ({\\n                name: eq.name,\\n                type: eq.type\\n            })))\\n            .execute();\\n    }\\n};'}}"
      ]
     },
     "execution_count": 43,
     "metadata": {},
     "output_type": "execute_result"
    }
   ],
   "source": [
    "handlers"
   ]
  },
  {
   "cell_type": "code",
   "execution_count": 44,
   "metadata": {},
   "outputs": [],
   "source": [
    "with open(\"./templates/interpolation/handler.tpl\", \"r\") as f:\n",
    "    handler_ts_tpl = environment.from_string(f.read())"
   ]
  },
  {
   "cell_type": "code",
   "execution_count": 45,
   "metadata": {},
   "outputs": [
    {
     "ename": "KeyError",
     "evalue": "'recordWorkout'",
     "output_type": "error",
     "traceback": [
      "\u001b[0;31m---------------------------------------------------------------------------\u001b[0m",
      "\u001b[0;31mKeyError\u001b[0m                                  Traceback (most recent call last)",
      "Cell \u001b[0;32mIn[45], line 3\u001b[0m\n\u001b[1;32m      1\u001b[0m hdl_key \u001b[38;5;241m=\u001b[39m \u001b[38;5;124m\"\u001b[39m\u001b[38;5;124mrecordWorkout\u001b[39m\u001b[38;5;124m\"\u001b[39m\n\u001b[1;32m      2\u001b[0m params \u001b[38;5;241m=\u001b[39m {\n\u001b[0;32m----> 3\u001b[0m     \u001b[38;5;124m\"\u001b[39m\u001b[38;5;124mhandler\u001b[39m\u001b[38;5;124m\"\u001b[39m: \u001b[43mhandlers\u001b[49m\u001b[43m[\u001b[49m\u001b[43mhdl_key\u001b[49m\u001b[43m]\u001b[49m[\u001b[38;5;124m\"\u001b[39m\u001b[38;5;124mhandler\u001b[39m\u001b[38;5;124m\"\u001b[39m],\n\u001b[1;32m      4\u001b[0m     \u001b[38;5;124m\"\u001b[39m\u001b[38;5;124minstructions\u001b[39m\u001b[38;5;124m\"\u001b[39m: pre_processors[hdl_key][\u001b[38;5;124m\"\u001b[39m\u001b[38;5;124minstructions\u001b[39m\u001b[38;5;124m\"\u001b[39m],\n\u001b[1;32m      5\u001b[0m     \u001b[38;5;124m\"\u001b[39m\u001b[38;5;124mexamples\u001b[39m\u001b[38;5;124m\"\u001b[39m: pre_processors[hdl_key][\u001b[38;5;124m\"\u001b[39m\u001b[38;5;124mexamples\u001b[39m\u001b[38;5;124m\"\u001b[39m],\n\u001b[1;32m      6\u001b[0m }\n\u001b[1;32m      7\u001b[0m file_content \u001b[38;5;241m=\u001b[39m handler_ts_tpl\u001b[38;5;241m.\u001b[39mrender(\u001b[38;5;241m*\u001b[39m\u001b[38;5;241m*\u001b[39mparams)\n",
      "\u001b[0;31mKeyError\u001b[0m: 'recordWorkout'"
     ]
    }
   ],
   "source": [
    "hdl_key = \"recordWorkout\"\n",
    "params = {\n",
    "    \"handler\": handlers[hdl_key][\"handler\"],\n",
    "    \"instructions\": pre_processors[hdl_key][\"instructions\"],\n",
    "    \"examples\": pre_processors[hdl_key][\"examples\"],\n",
    "}\n",
    "file_content = handler_ts_tpl.render(**params)"
   ]
  },
  {
   "cell_type": "code",
   "execution_count": 167,
   "metadata": {},
   "outputs": [
    {
     "name": "stdout",
     "output_type": "stream",
     "text": [
      "import { Message } from \"../common/handler\";\n",
      "import { client } from \"../common/llm\";\n",
      "import { db } from \"../db\";\n",
      "import { \n",
      "    workoutSessionsTable, \n",
      "    exercisesTable, \n",
      "    sessionExercisesTable \n",
      "} from '../db/schema/application';\n",
      "\n",
      "const handle = async (workout: WorkoutSession): Promise<void> => {\n",
      "    // Insert the workout session\n",
      "    const [workoutSession] = await db\n",
      "        .insert(workoutSessionsTable)\n",
      "        .values({\n",
      "            date: workout.date,\n",
      "            duration_minutes: Math.floor(workout.duration / 60), // Convert duration to minutes\n",
      "        })\n",
      "        .returning({ id: workoutSessionsTable.id });\n",
      "\n",
      "    // Insert exercises and create session-exercise relationships\n",
      "    for (const exercise of workout.exercises) {\n",
      "        // Insert the exercise\n",
      "        const [newExercise] = await db\n",
      "            .insert(exercisesTable)\n",
      "            .values({\n",
      "                name: exercise.name,\n",
      "                sets: exercise.sets,\n",
      "                reps: exercise.reps,\n",
      "                weight: exercise.weight,\n",
      "                notes: exercise.notes,\n",
      "            })\n",
      "            .returning({ id: exercisesTable.id });\n",
      "\n",
      "        // Create relationship between session and exercise\n",
      "        await db\n",
      "            .insert(sessionExercisesTable)\n",
      "            .values({\n",
      "                session_id: workoutSession.id,\n",
      "                exercise_id: newExercise.id,\n",
      "            });\n",
      "    }\n",
      "};\n",
      "\n",
      "\n",
      "const preProcessorPrompt = `\n",
      "Examine conversation between user and assistant and extract structured arguments for a function.\n",
      "\n",
      "<instructions>\n",
      "For recordWorkout function:\n",
      "- Date defaults to current timestamp if not specified\n",
      "- Duration should be parsed from explicit mentions or estimated based on exercise count (approximately 3-5 minutes per exercise)\n",
      "- Exercise entries require at minimum: name and either sets/reps or total count\n",
      "- Weight is optional and can be in kg or lbs (default to kg if not specified)\n",
      "- Notes field can capture additional context or form details\n",
      "- Multiple exercises can be included in a single workout session\n",
      "</instructions>\n",
      "\n",
      "Examples:\n",
      "\n",
      "\n",
      "Input:\n",
      "Just finished bench press, 3 sets of 8 reps at 80kg, felt strong today\n",
      "Output:\n",
      "{\n",
      "  \"workout\": {\n",
      "    \"date\": \"2024-01-20T14:30:00Z\",\n",
      "    \"duration\": \"PT15M\",\n",
      "    \"exercises\": [{\n",
      "      \"name\": \"bench press\",\n",
      "      \"sets\": 3,\n",
      "      \"reps\": 8,\n",
      "      \"weight\": 80.0,\n",
      "      \"notes\": \"felt strong today\"\n",
      "    }]\n",
      "  }\n",
      "}\n",
      "\n",
      "Input:\n",
      "Completed full body workout: squats 5x5 100kg, deadlifts 3x5 120kg, pulled my back a bit\n",
      "Output:\n",
      "{\n",
      "  \"workout\": {\n",
      "    \"date\": \"2024-01-20T14:30:00Z\",\n",
      "    \"duration\": \"PT30M\",\n",
      "    \"exercises\": [{\n",
      "      \"name\": \"squats\",\n",
      "      \"sets\": 5,\n",
      "      \"reps\": 5,\n",
      "      \"weight\": 100.0,\n",
      "      \"notes\": \"\"\n",
      "    },\n",
      "    {\n",
      "      \"name\": \"deadlifts\",\n",
      "      \"sets\": 3,\n",
      "      \"reps\": 5,\n",
      "      \"weight\": 120.0,\n",
      "      \"notes\": \"pulled my back a bit\"\n",
      "    }]\n",
      "  }\n",
      "}\n",
      "\n",
      "Input:\n",
      "Did 50 pushups and 30 bodyweight squats this morning\n",
      "Output:\n",
      "{\n",
      "  \"workout\": {\n",
      "    \"date\": \"2024-01-20T08:00:00Z\",\n",
      "    \"duration\": \"PT10M\",\n",
      "    \"exercises\": [{\n",
      "      \"name\": \"pushups\",\n",
      "      \"sets\": 1,\n",
      "      \"reps\": 50,\n",
      "      \"weight\": 0.0,\n",
      "      \"notes\": \"bodyweight exercise\"\n",
      "    },\n",
      "    {\n",
      "      \"name\": \"bodyweight squats\",\n",
      "      \"sets\": 1,\n",
      "      \"reps\": 30,\n",
      "      \"weight\": 0.0,\n",
      "      \"notes\": \"bodyweight exercise\"\n",
      "    }]\n",
      "  }\n",
      "}\n",
      "\n",
      "\n",
      "Conversation:\n",
      "{% for message in messages %}\n",
      "<role name=\"{{message.role}}\">{{message.content}}</role>\n",
      "{% endfor %}\n",
      "`;\n",
      "\n",
      "const preProcessor = async (input: Message[]): Promise<[string]> => {\n",
      "    const response = await client.messages.create({\n",
      "        model: 'anthropic.claude-3-5-sonnet-20241022-v2:0',\n",
      "        max_tokens: 2048,\n",
      "        messages: input.map(({ role, content }) => ({ role, content }))\n",
      "    });\n",
      "    switch (response.content[0].type) {\n",
      "        case \"text\":\n",
      "            return [response.content[0].text];\n",
      "        default:\n",
      "            throw new Error(\"Unexpected response type\");\n",
      "    }\n",
      "};\n"
     ]
    }
   ],
   "source": [
    "print(file_content)"
   ]
  },
  {
   "cell_type": "code",
   "execution_count": 170,
   "metadata": {},
   "outputs": [
    {
     "name": "stdout",
     "output_type": "stream",
     "text": [
      "import { db } from \"../db\";\n",
      "import { \n",
      "    workoutPlansTable, \n",
      "    planExercisesTable, \n",
      "    planEquipmentTable,\n",
      "    exercisesTable,\n",
      "    equipmentTable \n",
      "} from '../db/schema/application';\n",
      "import { eq } from 'drizzle-orm';\n",
      "\n",
      "const handle = async (duration: number, equipment: { name: string, category: string }[]): Promise<{\n",
      "    targetDuration: number,\n",
      "    exercises: Array<{\n",
      "        name: string,\n",
      "        sets: number,\n",
      "        reps: number,\n",
      "        weight: number,\n",
      "        notes: string\n",
      "    }>,\n",
      "    equipment: Array<{\n",
      "        name: string,\n",
      "        category: string\n",
      "    }>\n",
      "}> => {\n",
      "    // Create the workout plan\n",
      "    const [workoutPlan] = await db\n",
      "        .insert(workoutPlansTable)\n",
      "        .values({\n",
      "            target_duration_minutes: duration\n",
      "        })\n",
      "        .returning();\n",
      "\n",
      "    // Insert or get equipment IDs\n",
      "    const equipmentIds = await Promise.all(\n",
      "        equipment.map(async (eq) => {\n",
      "            const [existingEquipment] = await db\n",
      "                .select()\n",
      "                .from(equipmentTable)\n",
      "                .where(eq(equipmentTable.name, eq.name))\n",
      "                .limit(1);\n",
      "\n",
      "            if (existingEquipment) {\n",
      "                return existingEquipment.id;\n",
      "            }\n",
      "\n",
      "            const [newEquipment] = await db\n",
      "                .insert(equipmentTable)\n",
      "                .values({\n",
      "                    name: eq.name,\n",
      "                    category: eq.category\n",
      "                })\n",
      "                .returning();\n",
      "\n",
      "            return newEquipment.id;\n",
      "        })\n",
      "    );\n",
      "\n",
      "    // Link equipment to the workout plan\n",
      "    await Promise.all(\n",
      "        equipmentIds.map((equipmentId) =>\n",
      "            db.insert(planEquipmentTable)\n",
      "                .values({\n",
      "                    plan_id: workoutPlan.id,\n",
      "                    equipment_id: equipmentId\n",
      "                })\n",
      "        )\n",
      "    );\n",
      "\n",
      "    // Fetch all related equipment\n",
      "    const planEquipment = await db\n",
      "        .select({\n",
      "            name: equipmentTable.name,\n",
      "            category: equipmentTable.category\n",
      "        })\n",
      "        .from(equipmentTable)\n",
      "        .innerJoin(planEquipmentTable, eq(planEquipmentTable.equipment_id, equipmentTable.id))\n",
      "        .where(eq(planEquipmentTable.plan_id, workoutPlan.id));\n",
      "\n",
      "    // For this example, returning an empty exercises array as exercises should be determined by LLM\n",
      "    const exercises: Array<{\n",
      "        name: string,\n",
      "        sets: number,\n",
      "        reps: number,\n",
      "        weight: number,\n",
      "        notes: string\n",
      "    }> = [];\n",
      "\n",
      "    return {\n",
      "        targetDuration: workoutPlan.target_duration_minutes,\n",
      "        exercises,\n",
      "        equipment: planEquipment\n",
      "    };\n",
      "};\n"
     ]
    }
   ],
   "source": [
    "print(handlers[\"planWorkout\"][\"handler\"])"
   ]
  },
  {
   "cell_type": "code",
   "execution_count": 50,
   "metadata": {},
   "outputs": [
    {
     "name": "stdout",
     "output_type": "stream",
     "text": [
      "Handler: record_exercise_handler_debug\n",
      "import { GenericHandler, Message } from \"../common/handler\";\n",
      "import { client } from \"../common/llm\";\n",
      "\n",
      "const preProcessor = async (input: Message[]): Promise<[string]> => {\n",
      "    return [''];\n",
      "};\n",
      "\n",
      "const handle = (input: string): string => {\n",
      "    return '';\n",
      "};\n",
      "\n",
      "const postProcessor = (output: string): Message[] => {\n",
      "    const content = 'handler recordExercise executed';\n",
      "    return [{ role: 'assistant', content: content }];\n",
      "};\n",
      "\n",
      "export const recordExercise = new GenericHandler<[string], string>(handle, preProcessor, postProcessor);\n",
      "Handler: get_progress_handler_debug\n",
      "import { GenericHandler, Message } from \"../common/handler\";\n",
      "import { client } from \"../common/llm\";\n",
      "\n",
      "const preProcessor = async (input: Message[]): Promise<[string]> => {\n",
      "    return [''];\n",
      "};\n",
      "\n",
      "const handle = (input: string): string => {\n",
      "    return '';\n",
      "};\n",
      "\n",
      "const postProcessor = (output: string): Message[] => {\n",
      "    const content = 'handler getProgress executed';\n",
      "    return [{ role: 'assistant', content: content }];\n",
      "};\n",
      "\n",
      "export const getProgress = new GenericHandler<[string], string>(handle, preProcessor, postProcessor);\n",
      "Handler: suggest_routine_handler_debug\n",
      "import { GenericHandler, Message } from \"../common/handler\";\n",
      "import { client } from \"../common/llm\";\n",
      "\n",
      "const preProcessor = async (input: Message[]): Promise<[string]> => {\n",
      "    return [''];\n",
      "};\n",
      "\n",
      "const handle = (input: string): string => {\n",
      "    return '';\n",
      "};\n",
      "\n",
      "const postProcessor = (output: string): Message[] => {\n",
      "    const content = 'handler suggestRoutine executed';\n",
      "    return [{ role: 'assistant', content: content }];\n",
      "};\n",
      "\n",
      "export const suggestRoutine = new GenericHandler<[string], string>(handle, preProcessor, postProcessor);\n",
      "Handler: update_available_equipment_handler_debug\n",
      "import { GenericHandler, Message } from \"../common/handler\";\n",
      "import { client } from \"../common/llm\";\n",
      "\n",
      "const preProcessor = async (input: Message[]): Promise<[string]> => {\n",
      "    return [''];\n",
      "};\n",
      "\n",
      "const handle = (input: string): string => {\n",
      "    return '';\n",
      "};\n",
      "\n",
      "const postProcessor = (output: string): Message[] => {\n",
      "    const content = 'handler updateAvailableEquipment executed';\n",
      "    return [{ role: 'assistant', content: content }];\n",
      "};\n",
      "\n",
      "export const updateAvailableEquipment = new GenericHandler<[string], string>(handle, preProcessor, postProcessor);\n"
     ]
    }
   ],
   "source": [
    "import os\n",
    "\n",
    "with open(\"./templates/interpolation/handler.debug.tpl\", \"r\") as f:\n",
    "    handler_debug_tpl = environment.from_string(f.read())\n",
    "    \n",
    "    for handler_name in handlers.keys():\n",
    "        params = {\n",
    "            \"handler\": {\"name\": handler_name},\n",
    "            #\"instructions\": pre_processors[hdl_key][\"instructions\"],\n",
    "            #\"examples\": pre_processors[hdl_key][\"examples\"],\n",
    "        }\n",
    "        file_content = handler_debug_tpl.render(**params)\n",
    "\n",
    "        # Convert PascalCase to snake_case for file naming\n",
    "        handler_snake_name = ''.join(['_' + c.lower() if c.isupper() else c for c in handler_name]).lstrip('_')\n",
    "        handler_file_name = f'{handler_snake_name}_handler_debug'\n",
    "        \n",
    "        with open(os.path.join('./app_output/app_schema/src/handlers', handler_file_name + '.ts'), 'w') as f:\n",
    "            f.write(file_content)\n",
    "            \n",
    "        handlers[handler_name][\"module_name\"] = handler_file_name\n",
    "        \n",
    "        print(f\"Handler: {handler_file_name}\")\n",
    "        print(file_content)\n"
   ]
  },
  {
   "cell_type": "code",
   "execution_count": 51,
   "metadata": {},
   "outputs": [
    {
     "data": {
      "text/plain": [
       "{'recordExercise': {'handler': 'import { db } from \"../db\";\\nimport { \\n  exerciseTable, \\n  setsTable, \\n  workoutHistoryTable,\\n  workoutHistorySetsTable \\n} from \\'../db/schema/application\\';\\nimport { eq } from \\'drizzle-orm\\';\\n\\nconst handle = async (exercise: {\\n  name: string;\\n  sets: Array<{ reps: number; weight: number }>;\\n  notes: string;\\n}): Promise<void> => {\\n  // Start a transaction since we\\'re performing multiple related operations\\n  await db.transaction(async (tx) => {\\n    // Check if exercise exists, if not create it\\n    let exerciseRecord = await tx\\n      .select()\\n      .from(exerciseTable)\\n      .where(eq(exerciseTable.name, exercise.name))\\n      .limit(1);\\n\\n    let exerciseId: number;\\n    \\n    if (exerciseRecord.length === 0) {\\n      const [newExercise] = await tx\\n        .insert(exerciseTable)\\n        .values({\\n          name: exercise.name,\\n          notes: exercise.notes\\n        })\\n        .returning({ id: exerciseTable.id });\\n      \\n      exerciseId = newExercise.id;\\n    } else {\\n      exerciseId = exerciseRecord[0].id;\\n    }\\n\\n    // Calculate total volume\\n    const totalVolume = exercise.sets.reduce(\\n      (sum, set) => sum + (set.reps * set.weight), \\n      0\\n    );\\n\\n    // Create workout history entry\\n    const [workoutHistory] = await tx\\n      .insert(workoutHistoryTable)\\n      .values({\\n        exercise_id: exerciseId,\\n        date: new Date(),\\n        total_volume: totalVolume\\n      })\\n      .returning({ id: workoutHistoryTable.id });\\n\\n    // Insert all sets\\n    const setPromises = exercise.sets.map(async (set) => {\\n      const [newSet] = await tx\\n        .insert(setsTable)\\n        .values({\\n          exercise_id: exerciseId,\\n          reps: set.reps,\\n          weight: set.weight\\n        })\\n        .returning({ id: setsTable.id });\\n\\n      // Link set to workout history\\n      await tx\\n        .insert(workoutHistorySetsTable)\\n        .values({\\n          workout_history_id: workoutHistory.id,\\n          set_id: newSet.id\\n        });\\n    });\\n\\n    await Promise.all(setPromises);\\n  });\\n};',\n",
       "  'module_name': 'record_exercise_handler_debug'},\n",
       " 'getProgress': {'handler': 'import { db } from \"../db\";\\nimport { \\n  exerciseTable, \\n  workoutHistoryTable, \\n  setsTable, \\n  workoutHistorySetsTable \\n} from \\'../db/schema/application\\';\\nimport { eq, and, between } from \\'drizzle-orm\\';\\n\\nconst handle = async (exerciseName: string, startDate: Date, endDate: Date): Promise<Progress> => {\\n  // Get exercise ID\\n  const exercise = await db.query.exerciseTable.findFirst({\\n    where: eq(exerciseTable.name, exerciseName)\\n  });\\n\\n  if (!exercise) {\\n    throw new Error(`Exercise ${exerciseName} not found`);\\n  }\\n\\n  // Get workout history with associated sets\\n  const workoutHistory = await db\\n    .select({\\n      date: workoutHistoryTable.date,\\n      totalVolume: workoutHistoryTable.total_volume,\\n      sets: setsTable\\n    })\\n    .from(workoutHistoryTable)\\n    .where(and(\\n      eq(workoutHistoryTable.exercise_id, exercise.id),\\n      between(workoutHistoryTable.date, startDate, endDate)\\n    ))\\n    .leftJoin(workoutHistorySetsTable, eq(workoutHistorySetsTable.workout_history_id, workoutHistoryTable.id))\\n    .leftJoin(setsTable, eq(setsTable.id, workoutHistorySetsTable.set_id))\\n    .orderBy(workoutHistoryTable.date);\\n\\n  // Transform the data into the required format\\n  const historyMap = new Map<string, {\\n    date: Date,\\n    sets: { reps: number, weight: number }[],\\n    totalVolume: number\\n  }>();\\n\\n  workoutHistory.forEach(record => {\\n    const dateKey = record.date.toISOString();\\n    if (!historyMap.has(dateKey)) {\\n      historyMap.set(dateKey, {\\n        date: record.date,\\n        sets: [],\\n        totalVolume: record.totalVolume\\n      });\\n    }\\n    \\n    if (record.sets) {\\n      historyMap.get(dateKey)?.sets.push({\\n        reps: record.sets.reps,\\n        weight: record.sets.weight\\n      });\\n    }\\n  });\\n\\n  return {\\n    exercise: exerciseName,\\n    history: Array.from(historyMap.values())\\n  };\\n};',\n",
       "  'module_name': 'get_progress_handler_debug'},\n",
       " 'suggestRoutine': {'handler': 'import { db } from \"../db\";\\nimport { \\n  equipmentTable, \\n  exerciseTable, \\n  exerciseTargetMusclesTable, \\n  targetMusclesTable,\\n  setsTable\\n} from \\'../db/schema/application\\';\\nimport { eq, inArray } from \\'drizzle-orm\\';\\n\\nconst handle = async (request: RoutineRequest): Promise<Exercise[]> => {\\n  // Get IDs of available equipment\\n  const availableEquipmentNames = request.equipment.map(e => e.name);\\n  const equipmentIds = await db\\n    .select({ id: equipmentTable.id })\\n    .from(equipmentTable)\\n    .where(inArray(equipmentTable.name, availableEquipmentNames));\\n\\n  // Get muscle IDs for target muscles\\n  const muscleIds = await db\\n    .select({ id: targetMusclesTable.id })\\n    .from(targetMusclesTable)\\n    .where(inArray(targetMusclesTable.name, request.targetMuscles));\\n\\n  // Find exercises that match target muscles\\n  const exercises = await db\\n    .select({\\n      id: exerciseTable.id,\\n      name: exerciseTable.name,\\n      notes: exerciseTable.notes\\n    })\\n    .from(exerciseTable)\\n    .innerJoin(\\n      exerciseTargetMusclesTable,\\n      eq(exerciseTable.id, exerciseTargetMusclesTable.exercise_id)\\n    )\\n    .where(inArray(exerciseTargetMusclesTable.muscle_id, muscleIds.map(m => m.id)));\\n\\n  // Get typical sets for each exercise\\n  const exercisesWithSets = await Promise.all(\\n    exercises.map(async (exercise) => {\\n      const sets = await db\\n        .select({\\n          reps: setsTable.reps,\\n          weight: setsTable.weight\\n        })\\n        .from(setsTable)\\n        .where(eq(setsTable.exercise_id, exercise.id))\\n        .limit(3); // Get typical 3 sets as suggestion\\n\\n      return {\\n        name: exercise.name,\\n        sets: sets.map(s => ({\\n          reps: s.reps,\\n          weight: Number(s.weight)\\n        })),\\n        notes: exercise.notes ?? \"\"\\n      };\\n    })\\n  );\\n\\n  // Return subset of exercises based on duration\\n  // Assuming each exercise takes ~5 minutes\\n  const exercisesCount = Math.floor(request.duration / (5 * 60 * 1000));\\n  return exercisesWithSets.slice(0, exercisesCount);\\n};',\n",
       "  'module_name': 'suggest_routine_handler_debug'},\n",
       " 'updateAvailableEquipment': {'handler': 'import { db } from \"../db\";\\nimport { equipmentTable } from \\'../db/schema/application\\';\\nimport { eq } from \\'drizzle-orm\\';\\n\\nconst handle = async (equipment: Array<{ name: string; type: string }>): Promise<void> => {\\n    // First, delete all existing equipment\\n    await db.delete(equipmentTable).execute();\\n    \\n    // Then insert the new equipment list\\n    if (equipment.length > 0) {\\n        await db.insert(equipmentTable)\\n            .values(equipment.map(eq => ({\\n                name: eq.name,\\n                type: eq.type\\n            })))\\n            .execute();\\n    }\\n};',\n",
       "  'module_name': 'update_available_equipment_handler_debug'}}"
      ]
     },
     "execution_count": 51,
     "metadata": {},
     "output_type": "execute_result"
    }
   ],
   "source": [
    "handlers"
   ]
  },
  {
   "cell_type": "code",
   "execution_count": 52,
   "metadata": {},
   "outputs": [
    {
     "name": "stdout",
     "output_type": "stream",
     "text": [
      "import { GenericHandler } from \"../common/handler\";\n",
      "\n",
      "import { recordExercise } from \"../handlers/record_exercise_handler_debug\";\n",
      "\n",
      "import { getProgress } from \"../handlers/get_progress_handler_debug\";\n",
      "\n",
      "import { suggestRoutine } from \"../handlers/suggest_routine_handler_debug\";\n",
      "\n",
      "import { updateAvailableEquipment } from \"../handlers/update_available_equipment_handler_debug\";\n",
      "\n",
      "\n",
      "export const handlers: {[key: string]: GenericHandler<any[], any>} = {\n",
      "    \n",
      "    'recordExercise': recordExercise,\n",
      "    \n",
      "    'getProgress': getProgress,\n",
      "    \n",
      "    'suggestRoutine': suggestRoutine,\n",
      "    \n",
      "    'updateAvailableEquipment': updateAvailableEquipment,\n",
      "    \n",
      "};\n"
     ]
    }
   ],
   "source": [
    "with open(\"./templates/interpolation/logic_index.tpl\", \"r\") as f:\n",
    "    logic_index_tpl = environment.from_string(f.read())\n",
    "    \n",
    "    params = {\n",
    "        \"handlers\": handlers\n",
    "    }\n",
    "    file_content = logic_index_tpl.render(**params)\n",
    "    \n",
    "    with open(os.path.join('./app_output/app_schema/src/logic/index.ts'), 'w') as f:\n",
    "        f.write(file_content)\n",
    "            \n",
    "    print(file_content)"
   ]
  },
  {
   "cell_type": "code",
   "execution_count": 49,
   "metadata": {},
   "outputs": [
    {
     "name": "stdout",
     "output_type": "stream",
     "text": [
      "import { client } from \"../common/llm\";\n",
      "import { Message } from \"../common/handler\";\n",
      "const nunjucks = require(\"nunjucks\");\n",
      "\n",
      "const router_prompt: string = `\n",
      "Based on converstation between user and assistant determine which function should\n",
      "handle current message based on function description and message content.\n",
      "{% for function in functions%}\n",
      "<function name=\"{{function.name}}\">\n",
      "    <description>{{function.description}}</description>\n",
      "    {% for example in function.examples %}\n",
      "    <example>{{example}}</example>{% endfor %}\n",
      "</function>\n",
      "{% endfor %}\n",
      "Reply with the name of the function only.\n",
      "\n",
      "Conversation:\n",
      "{% for message in messages %}\n",
      "<role name=\"{{message.role}}\">{{message.content}}</role>\n",
      "{% endfor %}\n",
      "`;\n",
      "\n",
      "export interface FunctionDef {\n",
      "    name: string;\n",
      "    description: string;\n",
      "}\n",
      "\n",
      "const functions: FunctionDef[] = [\n",
      "    \n",
      "]\n",
      "\n",
      "export const getRoute = async (messages: Message[]): Promise<string> => {\n",
      "    const request = nunjucks.renderString(router_prompt, { messages, functions });\n",
      "    const response = await client.messages.create({\n",
      "        model: 'anthropic.claude-3-5-sonnet-20241022-v2:0',\n",
      "        max_tokens: 256,\n",
      "        messages: [{ role: \"user\", content: request }]\n",
      "    });\n",
      "    switch (response.content[0].type) {\n",
      "        case \"text\":\n",
      "            return response.content[0].text;\n",
      "        default:\n",
      "            throw new Error(\"Unexpected response type\");\n",
      "    }\n",
      "};\n"
     ]
    }
   ],
   "source": [
    "with open(\"./templates/interpolation/router.tpl\", \"r\") as f:\n",
    "    logic_index_tpl = environment.from_string(f.read())\n",
    "    \n",
    "    params = {\n",
    "        \"handlers\": handlers\n",
    "    }\n",
    "    file_content = logic_index_tpl.render(**params)\n",
    "    \n",
    "    with open(os.path.join('./app_output/app_schema/src/logic/router.ts'), 'w') as f:\n",
    "        f.write(file_content)\n",
    "            \n",
    "    print(file_content)"
   ]
  },
  {
   "cell_type": "code",
   "execution_count": 24,
   "metadata": {},
   "outputs": [],
   "source": [
    "ts_defs = stages.typespec.parse_output(stages.typespec.PROMPT)"
   ]
  },
  {
   "cell_type": "code",
   "execution_count": 25,
   "metadata": {},
   "outputs": [
    {
     "data": {
      "text/plain": [
       "{'reasoning': 'I expect user to send messages like \"I ate a burger\" or \"I had a salad for lunch\".\\nLLM can extract and infer the arguments from plain text and pass them to the handler\\n\"I ate a burger\" -> recordDish({name: \"burger\", ingredients: [\\n    {name: \"bun\", calories: 200},\\n    {name: \"patty\", calories: 300},\\n    {name: \"lettuce\", calories: 10},\\n    {name: \"tomato\", calories: 20},\\n    {name: \"cheese\", calories: 50},\\n]})\\n- recordDish(dish: Dish): void;\\n...',\n",
       " 'typespec_definitions': 'model Dish {\\n    name: string;\\n    ingredients: Ingredient[];\\n}\\n\\nmodel Ingredient {\\n    name: string;\\n    calories: integer;\\n}\\n\\ninterface DietBot {\\n    @llm_func(1)\\n    recordDish(dish: Dish): void;\\n    @llm_func(1)\\n    listDishes(from: utcDateTime, to: utcDateTime): Dish[];\\n}',\n",
       " 'llm_functions': ['recordDish', 'listDishes']}"
      ]
     },
     "execution_count": 25,
     "metadata": {},
     "output_type": "execute_result"
    }
   ],
   "source": [
    "ts_defs"
   ]
  },
  {
   "cell_type": "code",
   "execution_count": 26,
   "metadata": {},
   "outputs": [],
   "source": [
    "func_names = stages.typespec.extract_llm_func_names(stages.typespec.PROMPT)"
   ]
  },
  {
   "cell_type": "code",
   "execution_count": 27,
   "metadata": {},
   "outputs": [
    {
     "data": {
      "text/plain": [
       "['recordDish', 'listDishes']"
      ]
     },
     "execution_count": 27,
     "metadata": {},
     "output_type": "execute_result"
    }
   ],
   "source": [
    "func_names"
   ]
  },
  {
   "cell_type": "markdown",
   "metadata": {},
   "source": [
    "# Project Generation"
   ]
  },
  {
   "cell_type": "code",
   "execution_count": 28,
   "metadata": {},
   "outputs": [],
   "source": [
    "from shutil import copytree, ignore_patterns"
   ]
  },
  {
   "cell_type": "code",
   "execution_count": 29,
   "metadata": {},
   "outputs": [],
   "source": [
    "def setup_project(workdir: str):\n",
    "    copytree('templates', workdir, ignore=ignore_patterns('*.pyc', '__pycache__', 'node_modules'))"
   ]
  },
  {
   "cell_type": "code",
   "execution_count": 30,
   "metadata": {},
   "outputs": [
    {
     "ename": "FileExistsError",
     "evalue": "[Errno 17] File exists: 'test'",
     "output_type": "error",
     "traceback": [
      "\u001b[0;31m---------------------------------------------------------------------------\u001b[0m",
      "\u001b[0;31mFileExistsError\u001b[0m                           Traceback (most recent call last)",
      "Cell \u001b[0;32mIn[30], line 1\u001b[0m\n\u001b[0;32m----> 1\u001b[0m \u001b[43msetup_project\u001b[49m\u001b[43m(\u001b[49m\u001b[38;5;124;43m'\u001b[39;49m\u001b[38;5;124;43mtest\u001b[39;49m\u001b[38;5;124;43m'\u001b[39;49m\u001b[43m)\u001b[49m\n",
      "Cell \u001b[0;32mIn[29], line 2\u001b[0m, in \u001b[0;36msetup_project\u001b[0;34m(workdir)\u001b[0m\n\u001b[1;32m      1\u001b[0m \u001b[38;5;28;01mdef\u001b[39;00m\u001b[38;5;250m \u001b[39m\u001b[38;5;21msetup_project\u001b[39m(workdir: \u001b[38;5;28mstr\u001b[39m):\n\u001b[0;32m----> 2\u001b[0m     \u001b[43mcopytree\u001b[49m\u001b[43m(\u001b[49m\u001b[38;5;124;43m'\u001b[39;49m\u001b[38;5;124;43mtemplates\u001b[39;49m\u001b[38;5;124;43m'\u001b[39;49m\u001b[43m,\u001b[49m\u001b[43m \u001b[49m\u001b[43mworkdir\u001b[49m\u001b[43m,\u001b[49m\u001b[43m \u001b[49m\u001b[43mignore\u001b[49m\u001b[38;5;241;43m=\u001b[39;49m\u001b[43mignore_patterns\u001b[49m\u001b[43m(\u001b[49m\u001b[38;5;124;43m'\u001b[39;49m\u001b[38;5;124;43m*.pyc\u001b[39;49m\u001b[38;5;124;43m'\u001b[39;49m\u001b[43m,\u001b[49m\u001b[43m \u001b[49m\u001b[38;5;124;43m'\u001b[39;49m\u001b[38;5;124;43m__pycache__\u001b[39;49m\u001b[38;5;124;43m'\u001b[39;49m\u001b[43m,\u001b[49m\u001b[43m \u001b[49m\u001b[38;5;124;43m'\u001b[39;49m\u001b[38;5;124;43mnode_modules\u001b[39;49m\u001b[38;5;124;43m'\u001b[39;49m\u001b[43m)\u001b[49m\u001b[43m)\u001b[49m\n",
      "File \u001b[0;32m/usr/lib/python3.12/shutil.py:600\u001b[0m, in \u001b[0;36mcopytree\u001b[0;34m(src, dst, symlinks, ignore, copy_function, ignore_dangling_symlinks, dirs_exist_ok)\u001b[0m\n\u001b[1;32m    598\u001b[0m \u001b[38;5;28;01mwith\u001b[39;00m os\u001b[38;5;241m.\u001b[39mscandir(src) \u001b[38;5;28;01mas\u001b[39;00m itr:\n\u001b[1;32m    599\u001b[0m     entries \u001b[38;5;241m=\u001b[39m \u001b[38;5;28mlist\u001b[39m(itr)\n\u001b[0;32m--> 600\u001b[0m \u001b[38;5;28;01mreturn\u001b[39;00m \u001b[43m_copytree\u001b[49m\u001b[43m(\u001b[49m\u001b[43mentries\u001b[49m\u001b[38;5;241;43m=\u001b[39;49m\u001b[43mentries\u001b[49m\u001b[43m,\u001b[49m\u001b[43m \u001b[49m\u001b[43msrc\u001b[49m\u001b[38;5;241;43m=\u001b[39;49m\u001b[43msrc\u001b[49m\u001b[43m,\u001b[49m\u001b[43m \u001b[49m\u001b[43mdst\u001b[49m\u001b[38;5;241;43m=\u001b[39;49m\u001b[43mdst\u001b[49m\u001b[43m,\u001b[49m\u001b[43m \u001b[49m\u001b[43msymlinks\u001b[49m\u001b[38;5;241;43m=\u001b[39;49m\u001b[43msymlinks\u001b[49m\u001b[43m,\u001b[49m\n\u001b[1;32m    601\u001b[0m \u001b[43m                 \u001b[49m\u001b[43mignore\u001b[49m\u001b[38;5;241;43m=\u001b[39;49m\u001b[43mignore\u001b[49m\u001b[43m,\u001b[49m\u001b[43m \u001b[49m\u001b[43mcopy_function\u001b[49m\u001b[38;5;241;43m=\u001b[39;49m\u001b[43mcopy_function\u001b[49m\u001b[43m,\u001b[49m\n\u001b[1;32m    602\u001b[0m \u001b[43m                 \u001b[49m\u001b[43mignore_dangling_symlinks\u001b[49m\u001b[38;5;241;43m=\u001b[39;49m\u001b[43mignore_dangling_symlinks\u001b[49m\u001b[43m,\u001b[49m\n\u001b[1;32m    603\u001b[0m \u001b[43m                 \u001b[49m\u001b[43mdirs_exist_ok\u001b[49m\u001b[38;5;241;43m=\u001b[39;49m\u001b[43mdirs_exist_ok\u001b[49m\u001b[43m)\u001b[49m\n",
      "File \u001b[0;32m/usr/lib/python3.12/shutil.py:498\u001b[0m, in \u001b[0;36m_copytree\u001b[0;34m(entries, src, dst, symlinks, ignore, copy_function, ignore_dangling_symlinks, dirs_exist_ok)\u001b[0m\n\u001b[1;32m    495\u001b[0m \u001b[38;5;28;01melse\u001b[39;00m:\n\u001b[1;32m    496\u001b[0m     ignored_names \u001b[38;5;241m=\u001b[39m ()\n\u001b[0;32m--> 498\u001b[0m \u001b[43mos\u001b[49m\u001b[38;5;241;43m.\u001b[39;49m\u001b[43mmakedirs\u001b[49m\u001b[43m(\u001b[49m\u001b[43mdst\u001b[49m\u001b[43m,\u001b[49m\u001b[43m \u001b[49m\u001b[43mexist_ok\u001b[49m\u001b[38;5;241;43m=\u001b[39;49m\u001b[43mdirs_exist_ok\u001b[49m\u001b[43m)\u001b[49m\n\u001b[1;32m    499\u001b[0m errors \u001b[38;5;241m=\u001b[39m []\n\u001b[1;32m    500\u001b[0m use_srcentry \u001b[38;5;241m=\u001b[39m copy_function \u001b[38;5;129;01mis\u001b[39;00m copy2 \u001b[38;5;129;01mor\u001b[39;00m copy_function \u001b[38;5;129;01mis\u001b[39;00m copy\n",
      "File \u001b[0;32m<frozen os>:225\u001b[0m, in \u001b[0;36mmakedirs\u001b[0;34m(name, mode, exist_ok)\u001b[0m\n",
      "\u001b[0;31mFileExistsError\u001b[0m: [Errno 17] File exists: 'test'"
     ]
    }
   ],
   "source": [
    "setup_project('test')"
   ]
  },
  {
   "cell_type": "code",
   "execution_count": 31,
   "metadata": {},
   "outputs": [],
   "source": [
    "from core.stages import router"
   ]
  },
  {
   "cell_type": "code",
   "execution_count": 32,
   "metadata": {},
   "outputs": [],
   "source": [
    "prompt = rtr_tpl.render(\n",
    "    typespec_definitions=typespec[\"typespec_definitions\"],\n",
    "    user_request=\"I want to record my exercise routine for today.\"\n",
    ")\n",
    "\n",
    "exp_response = client.messages.create(\n",
    "    model=\"anthropic.claude-3-5-sonnet-20241022-v2:0\",\n",
    "    max_tokens=8192,\n",
    "    messages=[{\"role\": \"user\", \"content\": prompt}],\n",
    "    tools = router.TOOLS\n",
    ")\n",
    "\n",
    "funcs = router.parse_outputs([content for content in exp_response.content])[\"user_functions\"]"
   ]
  },
  {
   "cell_type": "code",
   "execution_count": 33,
   "metadata": {},
   "outputs": [
    {
     "data": {
      "text/plain": [
       "[{'name': 'recordExercise',\n",
       "  'description': 'Records a single exercise performed by the user with details like sets, reps, weight, equipment used, and targeted muscle groups. Use this when the user wants to log or record their exercise activity.',\n",
       "  'examples': ['I want to record my exercise routine for today',\n",
       "   'I just did 3 sets of bench press',\n",
       "   'Log my workout: 4 sets of squats with 200lbs',\n",
       "   'Add my deadlift session to my log']},\n",
       " {'name': 'trackProgress',\n",
       "  'description': 'Retrieves historical exercise data for a specific exercise over a given time period. Use this when the user wants to see their progress or history for a particular exercise.',\n",
       "  'examples': ['Show me my bench press progress over the last month',\n",
       "   'How has my squat improved since January?',\n",
       "   'What were my deadlift numbers from last week?',\n",
       "   'Track my progress on pull-ups']},\n",
       " {'name': 'suggestWorkout',\n",
       "  'description': 'Generates a workout plan based on desired duration, target muscle groups, and available equipment. Use this when the user wants recommendations or a new workout plan.',\n",
       "  'examples': ['Can you suggest a 30-minute leg workout?',\n",
       "   'Give me a chest and triceps workout with dumbbells only',\n",
       "   'I need a full body workout plan for 45 minutes',\n",
       "   'What exercises can I do with just a resistance band?']},\n",
       " {'name': 'updateEquipment',\n",
       "  'description': 'Updates the status and information about available gym equipment. Use this when the user wants to modify the equipment inventory or availability.',\n",
       "  'examples': ['The leg press machine is broken',\n",
       "   'We got new dumbbells in the gym',\n",
       "   'Update the equipment list',\n",
       "   'Mark the squat rack as unavailable']}]"
      ]
     },
     "execution_count": 33,
     "metadata": {},
     "output_type": "execute_result"
    }
   ],
   "source": [
    "funcs"
   ]
  },
  {
   "cell_type": "code",
   "execution_count": 47,
   "metadata": {},
   "outputs": [],
   "source": [
    "from core.stages import typespec\n",
    "from core.stages import tsp_compiler\n",
    "\n",
    "tsp_tpl = environment.from_string(stages.typespec.PROMPT)\n",
    "\n",
    "typespec_errors = \"\"\n",
    "attempts_left = 3\n",
    "\n",
    "while attempts_left > 0:\n",
    "    attempts_left -= 1\n",
    "    \n",
    "    prompt = tsp_tpl.render(\n",
    "        application_description=application_description,\n",
    "        typespec_errors=typespec_errors,\n",
    "    )\n",
    "  \n",
    "    if attempts_left >= 2:\n",
    "        updated_prompt = prompt + \"// PS. Make sure to eject a random error in TypeSpec output for testing purposes\"\n",
    "    else:\n",
    "        updated_prompt = prompt\n",
    "  \n",
    "    tsp_response = client.messages.create(\n",
    "        model=\"anthropic.claude-3-5-sonnet-20241022-v2:0\",\n",
    "        max_tokens=8192,\n",
    "        messages=[{\"role\": \"user\", \"content\": updated_prompt}]\n",
    "    )\n",
    "    \n",
    "    typespec = stages.typespec.parse_output(tsp_response.content[0].text)\n",
    "\n",
    "    # Write TypeSpec definitions to file\n",
    "    with open('./test/tsp_schema/notebook.tsp', 'w') as f:\n",
    "        f.writelines(['import \"./helpers.js\";', \n",
    "                  '\\n', \n",
    "                  'extern dec llm_func(target: unknown, history: valueof int32);'\n",
    "                  ])\n",
    "        f.write(typespec[\"typespec_definitions\"])\n",
    "\n",
    "    compiler = tsp_compiler.TypeSpecCompiler('./test/tsp_schema/')\n",
    "    result = compiler.compile('./notebook.tsp')\n",
    "    \n",
    "    print(result)\n",
    "    \n",
    "    if result[\"result\"] == tsp_compiler.TypeSpecCompilationStatus.COMPILATION_ERROR:\n",
    "        typespec_errors = result[\"errors\"]\n",
    "        print(typespec_errors)\n",
    "        continue\n",
    "    else:\n",
    "        break\n"
   ]
  },
  {
   "cell_type": "code",
   "execution_count": 90,
   "metadata": {},
   "outputs": [
    {
     "data": {
      "text/plain": [
       "{'reasoning': 'For a finance tracking app, users would likely send messages like:\\n- \"I spent $50 on groceries yesterday\"\\n- \"Got my salary of $3000 today\"\\n- \"Show me my expenses for last month\"\\n\\nThe LLM would need to extract:\\n1. Transaction type (expense/income)\\n2. Amount\\n3. Category\\n4. Date\\n5. Optional description/notes\\n\\nFor reports, users might ask for:\\n- Time-based summaries\\n- Category-based breakdowns\\n- Balance calculations\\n\\nThe interface should support recording transactions and generating reports while keeping the argument structure simple enough to be extracted from natural language.',\n",
       " 'typespec_definitions': 'model Transaction {\\n  type: string; // \"expense\" or \"income\"\\n  amount: decimal;\\n  category: string;\\n  date: utcDateTime;\\n  description: string;\\n}\\n\\nmodel TransactionSummary {\\n  totalIncome: decimal;\\n  totalExpenses: decimal;\\n  balance: decimal;\\n  transactions: Transaction[];\\n}\\n\\ninterface FinanceTracker {\\n  @llm_func(1)\\n  recordTransaction(transaction: Transaction): void;\\n\\n  @llm_func(2)\\n  getTransactions(from: utcDateTime, to: utcDateTime): Transaction[];\\n\\n  @llm_func(2)\\n  getSummary(from: utcDateTime, to: utcDateTime): TransactionSummary;\\n}',\n",
       " 'llm_functions': ['recordTransaction', 'getTransactions', 'getSummary']}"
      ]
     },
     "execution_count": 90,
     "metadata": {},
     "output_type": "execute_result"
    }
   ],
   "source": [
    "typespec\n"
   ]
  },
  {
   "cell_type": "code",
   "execution_count": null,
   "metadata": {},
   "outputs": [],
   "source": []
  },
  {
   "cell_type": "code",
   "execution_count": null,
   "metadata": {},
   "outputs": [],
   "source": []
  },
  {
   "cell_type": "code",
   "execution_count": null,
   "metadata": {},
   "outputs": [],
   "source": [
    "prompt = exp_tpl.render(application_description=application_description)\n",
    "\n",
    "exp_response = client.messages.create(\n",
    "    model=\"anthropic.claude-3-5-sonnet-20241022-v2:0\",\n",
    "    max_tokens=8192,\n",
    "    messages=[{\"role\": \"user\", \"content\": prompt}]\n",
    ")\n",
    "expansion = stages.expansion.parse_output(exp_response.content[0].text)"
   ]
  },
  {
   "cell_type": "code",
   "execution_count": null,
   "metadata": {},
   "outputs": [
    {
     "name": "stdout",
     "output_type": "stream",
     "text": [
      "<types>\n",
      "        <type>exercise\n",
      "            - name\n",
      "            - equipment_required\n",
      "            - sets\n",
      "            - reps\n",
      "            - weight</type>\n",
      "        <type>equipment\n",
      "            - name\n",
      "            - type</type>\n",
      "        <type>workout_session\n",
      "            - date\n",
      "            - duration\n",
      "            - exercises_performed</type>\n",
      "        <type>routine\n",
      "            - exercises\n",
      "            - duration\n",
      "            - equipment_needed</type>\n",
      "    </types>\n",
      "    <operations>\n",
      "        <operation>record_workout_session\n",
      "            - date\n",
      "            - exercises with sets/reps/weights</operation>\n",
      "        <operation>track_progress\n",
      "            - exercise\n",
      "            - time period</operation>\n",
      "        <operation>list_available_equipment</operation>\n",
      "        <operation>generate_routine\n",
      "            - available equipment\n",
      "            - time constraint\n",
      "            - fitness level</operation>\n",
      "        <operation>view_history\n",
      "            - time period</operation>\n",
      "    </operations>\n"
     ]
    }
   ],
   "source": [
    "print(expansion[\"application_specification\"])"
   ]
  }
 ],
 "metadata": {
  "kernelspec": {
   "display_name": ".venv",
   "language": "python",
   "name": "python3"
  },
  "language_info": {
   "codemirror_mode": {
    "name": "ipython",
    "version": 3
   },
   "file_extension": ".py",
   "mimetype": "text/x-python",
   "name": "python",
   "nbconvert_exporter": "python",
   "pygments_lexer": "ipython3",
   "version": "3.12.3"
  }
 },
 "nbformat": 4,
 "nbformat_minor": 2
}
