{
 "cells": [
  {
   "cell_type": "code",
   "execution_count": 1,
   "metadata": {},
   "outputs": [],
   "source": [
    "import docker\n",
    "import time"
   ]
  },
  {
   "cell_type": "code",
   "execution_count": 2,
   "metadata": {},
   "outputs": [],
   "source": [
    "client = docker.from_env()"
   ]
  },
  {
   "cell_type": "code",
   "execution_count": 3,
   "metadata": {},
   "outputs": [],
   "source": [
    "with open(\"templates/tsp_schema/main.tsp\", \"r\") as f:\n",
    "    tsp_schema = f.read()"
   ]
  },
  {
   "cell_type": "code",
   "execution_count": 4,
   "metadata": {},
   "outputs": [],
   "source": [
    "def make_command(typespec_definitions: str):\n",
    "    return [\n",
    "        \"sh\",\n",
    "        \"-c\",\n",
    "        f\"echo '{typespec_definitions}' > schema.tsp && tsp compile schema.tsp --no-emit\"\n",
    "    ]"
   ]
  },
  {
   "cell_type": "code",
   "execution_count": 5,
   "metadata": {},
   "outputs": [],
   "source": [
    "container = client.containers.run(\n",
    "    \"botbuild/tsp_compiler\",\n",
    "    #[\"tsp\", \"compile\", \".\", \"--no-emit\"],\n",
    "    #make_command(\"type A = Int\"),\n",
    "    make_command(tsp_schema),\n",
    "    stderr=True,\n",
    "    detach=True,\n",
    "    remove=True,\n",
    ")\n",
    "output = container.attach(stdout=True, stderr=True, stream=True, logs=True)\n",
    "stdout = [line.decode(\"utf-8\") for line in output]\n",
    "for line in output:\n",
    "    print(line) \n",
    "result = container.wait()"
   ]
  },
  {
   "cell_type": "code",
   "execution_count": 6,
   "metadata": {},
   "outputs": [
    {
     "data": {
      "text/plain": [
       "(['TypeSpec compiler v0.64.0\\n\\n', 'Compilation completed successfully.\\n\\n'],\n",
       " {'StatusCode': 0})"
      ]
     },
     "execution_count": 6,
     "metadata": {},
     "output_type": "execute_result"
    }
   ],
   "source": [
    "stdout, result"
   ]
  },
  {
   "cell_type": "code",
   "execution_count": null,
   "metadata": {},
   "outputs": [],
   "source": []
  }
 ],
 "metadata": {
  "kernelspec": {
   "display_name": ".venv",
   "language": "python",
   "name": "python3"
  },
  "language_info": {
   "codemirror_mode": {
    "name": "ipython",
    "version": 3
   },
   "file_extension": ".py",
   "mimetype": "text/x-python",
   "name": "python",
   "nbconvert_exporter": "python",
   "pygments_lexer": "ipython3",
   "version": "3.12.8"
  }
 },
 "nbformat": 4,
 "nbformat_minor": 2
}
