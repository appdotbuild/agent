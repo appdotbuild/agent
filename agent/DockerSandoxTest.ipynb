{
 "cells": [
  {
   "cell_type": "code",
   "execution_count": 1,
   "metadata": {},
   "outputs": [],
   "source": [
    "import docker\n",
    "import time"
   ]
  },
  {
   "cell_type": "code",
   "execution_count": 2,
   "metadata": {},
   "outputs": [],
   "source": [
    "client = docker.from_env()"
   ]
  },
  {
   "cell_type": "code",
   "execution_count": 3,
   "metadata": {},
   "outputs": [],
   "source": [
    "drizzle_schema = \"\"\"\n",
    "import { integer, pgTable, text } from \"drizzle-orm/pg-core\";\n",
    "\n",
    "export const gymEquipmentTable = pgTable(\"gym_equipment\", {\n",
    "    id: integer().primaryKey().generatedAlwaysAsIdentity(),\n",
    "    name: text(),\n",
    "    description: text(),\n",
    "    price: integer(),\n",
    "    stock: integer(),\n",
    "});\n",
    "\"\"\".strip()"
   ]
  },
  {
   "cell_type": "code",
   "execution_count": 4,
   "metadata": {},
   "outputs": [],
   "source": [
    "def make_drizzle_cmd(schema: str):\n",
    "    return [\n",
    "        \"sh\",\n",
    "        \"-c\",\n",
    "        f\"echo '{schema}' > src/db/schema/application.ts && npx drizzle-kit push\"\n",
    "    ]"
   ]
  },
  {
   "cell_type": "code",
   "execution_count": 5,
   "metadata": {},
   "outputs": [],
   "source": [
    "def test_drizzle(schema: str):\n",
    "    network = client.networks.create(\"test-network\", driver=\"bridge\")\n",
    "    postgres = client.containers.run(\n",
    "        \"postgres:17.0-alpine\",\n",
    "        detach=True,\n",
    "        network=\"test-network\",\n",
    "        hostname=\"postgres\",\n",
    "        environment={\n",
    "            \"POSTGRES_USER\": \"postgres\",\n",
    "            \"POSTGRES_PASSWORD\": \"postgres\",\n",
    "            \"POSTGRES_DB\": \"postgres\",\n",
    "        },\n",
    "    )\n",
    "    # run healthchecks until postgres is ready\n",
    "    while True:\n",
    "        try:\n",
    "            is_ready = postgres.exec_run([\"pg_isready\", \"-U\", \"postgres\"])\n",
    "            if is_ready.exit_code == 0:\n",
    "                break\n",
    "        except docker.errors.APIError:\n",
    "            time.sleep(0.5)\n",
    "    container = client.containers.run(\n",
    "        \"botbuild/app_schema\",\n",
    "        make_drizzle_cmd(schema),\n",
    "        stderr=True,\n",
    "        detach=True,\n",
    "        network=\"test-network\",\n",
    "        environment={\"NO_COLOR\": \"1\", \"FORCE_COLOR\": \"0\"},\n",
    "    )\n",
    "    output = container.attach(stdout=True, stderr=True, stream=True, logs=True)\n",
    "    stdout = [line.decode(\"utf-8\") for line in output]\n",
    "    for line in output:\n",
    "        print(line) \n",
    "    result = container.wait()\n",
    "    container.remove()\n",
    "    postgres.stop()\n",
    "    postgres.remove()\n",
    "    network.remove()\n",
    "    return (result[\"StatusCode\"], stdout)"
   ]
  },
  {
   "cell_type": "code",
   "execution_count": 6,
   "metadata": {},
   "outputs": [],
   "source": [
    "code, output = test_drizzle(drizzle_schema)"
   ]
  },
  {
   "cell_type": "code",
   "execution_count": 7,
   "metadata": {},
   "outputs": [
    {
     "data": {
      "text/plain": [
       "[\"No config path provided, using default 'drizzle.config.ts'\\n\",\n",
       " \"Reading config file '/app/drizzle.config.ts'\\n\",\n",
       " \"Using 'pg' driver for database querying\\n\",\n",
       " '[⣷] Pulling schema from database...\\n',\n",
       " '\\x1b[2K\\x1b[1G[✓] Pulling schema from database...\\n',\n",
       " '[✓] Changes applied\\n']"
      ]
     },
     "execution_count": 7,
     "metadata": {},
     "output_type": "execute_result"
    }
   ],
   "source": [
    "output"
   ]
  },
  {
   "cell_type": "code",
   "execution_count": 8,
   "metadata": {},
   "outputs": [],
   "source": [
    "with open(\"templates/tsp_schema/main.tsp\", \"r\") as f:\n",
    "    tsp_schema = f.read()"
   ]
  },
  {
   "cell_type": "code",
   "execution_count": 9,
   "metadata": {},
   "outputs": [],
   "source": [
    "def make_typespec_cmd(typespec_definitions: str):\n",
    "    return [\n",
    "        \"sh\",\n",
    "        \"-c\",\n",
    "        f\"echo '{typespec_definitions}' > schema.tsp && tsp compile schema.tsp --no-emit\"\n",
    "    ]"
   ]
  },
  {
   "cell_type": "code",
   "execution_count": 10,
   "metadata": {},
   "outputs": [],
   "source": [
    "container = client.containers.run(\n",
    "    \"botbuild/tsp_compiler\",\n",
    "    make_typespec_cmd(tsp_schema),\n",
    "    stderr=True,\n",
    "    detach=True,\n",
    "    remove=True,\n",
    "    environment={\"NO_COLOR\": \"1\", \"FORCE_COLOR\": \"0\"},\n",
    ")\n",
    "output = container.attach(stdout=True, stderr=True, stream=True, logs=True)\n",
    "stdout = [line.decode(\"utf-8\") for line in output]\n",
    "for line in output:\n",
    "    print(line) \n",
    "result = container.wait()"
   ]
  },
  {
   "cell_type": "code",
   "execution_count": 11,
   "metadata": {},
   "outputs": [
    {
     "data": {
      "text/plain": [
       "(['TypeSpec compiler v0.64.0\\n\\n', 'Compilation completed successfully.\\n\\n'],\n",
       " {'StatusCode': 0})"
      ]
     },
     "execution_count": 11,
     "metadata": {},
     "output_type": "execute_result"
    }
   ],
   "source": [
    "stdout, result"
   ]
  },
  {
   "cell_type": "code",
   "execution_count": null,
   "metadata": {},
   "outputs": [],
   "source": []
  }
 ],
 "metadata": {
  "kernelspec": {
   "display_name": ".venv",
   "language": "python",
   "name": "python3"
  },
  "language_info": {
   "codemirror_mode": {
    "name": "ipython",
    "version": 3
   },
   "file_extension": ".py",
   "mimetype": "text/x-python",
   "name": "python",
   "nbconvert_exporter": "python",
   "pygments_lexer": "ipython3",
   "version": "3.12.8"
  }
 },
 "nbformat": 4,
 "nbformat_minor": 2
}
