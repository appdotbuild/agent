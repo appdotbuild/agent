{
 "cells": [
  {
   "cell_type": "code",
   "execution_count": 1,
   "metadata": {},
   "outputs": [],
   "source": [
    "%load_ext autoreload\n",
    "%autoreload 2"
   ]
  },
  {
   "cell_type": "code",
   "execution_count": 2,
   "metadata": {},
   "outputs": [],
   "source": [
    "from anthropic import AnthropicBedrock\n",
    "from application import Application\n",
    "from compiler.core import Compiler\n",
    "from core.interpolator import Interpolator"
   ]
  },
  {
   "cell_type": "code",
   "execution_count": 3,
   "metadata": {},
   "outputs": [],
   "source": [
    "compiler = Compiler(\"botbuild/tsp_compiler\", \"botbuild/app_schema\")\n",
    "client = AnthropicBedrock(aws_profile=\"dev\", aws_region=\"us-west-2\")"
   ]
  },
  {
   "cell_type": "code",
   "execution_count": null,
   "metadata": {},
   "outputs": [
    {
     "name": "stdout",
     "output_type": "stream",
     "text": [
      "Loaded environment variables from templates/app_schema/.env\n"
     ]
    }
   ],
   "source": [
    "import os\n",
    "from dotenv import load_dotenv\n",
    "env_path = \"templates/app_schema/.env\"\n",
    "if os.path.exists(env_path):\n",
    "    load_dotenv(env_path)\n",
    "    print(f\"Loaded environment variables from {env_path}\")"
   ]
  },
  {
   "cell_type": "code",
   "execution_count": 5,
   "metadata": {},
   "outputs": [],
   "source": [
    "application = Application(client, compiler)\n",
    "interpolator = Interpolator(\".\")"
   ]
  },
  {
   "cell_type": "code",
   "execution_count": 6,
   "metadata": {},
   "outputs": [],
   "source": [
    "user_prompts = \"\"\"Bot that says hello\"\"\".strip()"
   ]
  },
  {
   "cell_type": "code",
   "execution_count": 7,
   "metadata": {},
   "outputs": [
    {
     "name": "stdout",
     "output_type": "stream",
     "text": [
      "Compiling TypeSpec...\n"
     ]
    },
    {
     "data": {
      "text/plain": [
       "{'refined_description': None,\n",
       " 'capabilities': CapabilitiesOut(capabilities=['perplexity.web_search'], error_output=None),\n",
       " 'typespec': TypespecOut(reasoning=\"This is a simple bot that greets users. Let me think about what a hello bot might need to do:\\n\\n1. Say hello to a user\\n2. Maybe personalize the greeting with the user's name\\n3. Potentially customize the greeting based on time of day or other parameters\\n\\nFunctions I can identify from the description:\\n- greetUser: To say hello to a user, possibly with personalization options\\n- customizeGreeting: To set preferences for how greetings are delivered\\n\\nFor the data models:\\n- UserGreeting: For greeting a user, containing things like name, custom message, etc.\\n- GreetingPreferences: For setting preferences like greeting style, formality, etc.\", typespec_definitions='model UserGreeting {\\n  name?: string;\\n  customMessage?: string;\\n  timeOfDay?: string;\\n}\\n\\nmodel GreetingPreferences {\\n  style?: string;\\n  formality?: string;\\n  includeTimeOfDay?: boolean;\\n  defaultName?: string;\\n}\\n\\ninterface HelloBot {\\n  @scenario(\"\"\"\\n  Scenario: Basic greeting\\n  When user says \"Hello\"\\n  Then system should respond with a greeting\\n  \\n  Examples:\\n    | Input     | Expected Response       |\\n    | \"Hi\"      | Contains \"Hello\"        |\\n    | \"Hello\"   | Contains \"Hi\" or \"Hello\" |\\n  \"\"\")\\n  @scenario(\"\"\"\\n  Scenario: Personalized greeting\\n  When user says \"My name is John\"\\n  Then system should extract the name \"John\"\\n  And respond with a personalized greeting\\n\\n  Examples:\\n    | Input                 | Expected Response       |\\n    | \"I am Sarah\"          | Contains \"Sarah\"        |\\n    | \"Call me Alex please\" | Contains \"Alex\"         |\\n  \"\"\")\\n  @llm_func(\"Generate a greeting for the user\")\\n  greetUser(options: UserGreeting): void;\\n\\n  @scenario(\"\"\"\\n  Scenario: Setting greeting preferences\\n  When user says \"I prefer formal greetings\"\\n  Then system should update greeting preferences with formality set to \"formal\"\\n  \\n  Examples:\\n    | Input                           | Expected Update             |\\n    | \"Make greetings casual\"         | formality = \"casual\"        |\\n    | \"Always include time of day\"    | includeTimeOfDay = true     |\\n  \"\"\")\\n  @scenario(\"\"\"\\n  Scenario: Setting default name\\n  When user says \"Call me Mr. Smith from now on\"\\n  Then system should update greeting preferences with defaultName set to \"Mr. Smith\"\\n  \\n  Examples:\\n    | Input                       | Expected Update             |\\n    | \"My name is Dr. Jones\"      | defaultName = \"Dr. Jones\"   |\\n    | \"I prefer to be anonymous\"  | defaultName = null          |\\n  \"\"\")\\n  @llm_func(\"Set user preferences for greeting style\")\\n  customizeGreeting(options: GreetingPreferences): void;\\n}', llm_functions=[LLMFunction(name='greetUser', description='Generate a greeting for the user', scenario='Scenario: Personalized greeting\\n  When user says \"My name is John\"\\n  Then system should extract the name \"John\"\\n  And respond with a personalized greeting\\n\\n  Examples:\\n    | Input                 | Expected Response       |\\n    | \"I am Sarah\"          | Contains \"Sarah\"        |\\n    | \"Call me Alex please\" | Contains \"Alex\"         |'), LLMFunction(name='customizeGreeting', description='Set user preferences for greeting style', scenario='Scenario: Setting default name\\n  When user says \"Call me Mr. Smith from now on\"\\n  Then system should update greeting preferences with defaultName set to \"Mr. Smith\"\\n  \\n  Examples:\\n    | Input                       | Expected Update             |\\n    | \"My name is Dr. Jones\"      | defaultName = \"Dr. Jones\"   |\\n    | \"I prefer to be anonymous\"  | defaultName = null          |')], error_output=None),\n",
       " 'drizzle': None,\n",
       " 'handlers': {},\n",
       " 'handler_tests': {},\n",
       " 'typescript_schema': None,\n",
       " 'gherkin': GherkinOut(reasoning=None, gherkin=None, error_output=None),\n",
       " 'trace_id': '4b2568d9-2816-4e8e-b712-c1c857807c28'}"
      ]
     },
     "execution_count": 7,
     "metadata": {},
     "output_type": "execute_result"
    }
   ],
   "source": [
    "\n",
    "my_bot = application.prepare_bot([user_prompts], bot_id=\"handler_tests\", capabilities=[\"perplexity.web_search\"])\n",
    "my_bot.__dict__"
   ]
  },
  {
   "cell_type": "code",
   "execution_count": 8,
   "metadata": {},
   "outputs": [
    {
     "name": "stdout",
     "output_type": "stream",
     "text": [
      "Compiling TypeSpec...\n"
     ]
    },
    {
     "data": {
      "text/plain": [
       "{'refined_description': None,\n",
       " 'capabilities': CapabilitiesOut(capabilities=['perplexity.web_search'], error_output=None),\n",
       " 'typespec': TypespecOut(reasoning=\"Based on the user requests, I need to create a simple greeting bot that can say hello and goodbye. The application doesn't seem to require complex data structures, but we'll need to formalize the interactions.\\n\\nThe key functions needed are:\\n1. sayHello - A function to greet the user\\n2. sayGoodbye - A function to say goodbye to the user\\n\\nFor the arguments, we should keep it simple:\\n- For sayHello, we might want the user's name as an option\\n- For sayGoodbye, we might want a reason for leaving or similar contextual information\\n\\nEach function needs proper @llm_func descriptions and @scenario decorators with Gherkin syntax to describe the expected behavior.\", typespec_definitions='model GreetingOptions {\\n    name: string;\\n    timeOfDay?: string;\\n}\\n\\nmodel FarewellOptions {\\n    name: string;\\n    reason?: string;\\n}\\n\\ninterface GreetingBot {\\n    @scenario(\\n    \"\"\"\\n    Scenario: Basic greeting\\n    When user says \"Hello\" or \"Hi\"\\n    Then system should respond with a greeting\\n    \\n    Scenario: Personalized greeting\\n    When user introduces themselves as \"John\"\\n    Then system should greet them by name\\n    \\n    Scenario: Time-specific greeting\\n    When user says \"Good morning\"\\n    Then system should respond with a morning-appropriate greeting\\n    \\n    Examples:\\n        | Input                | Expected Output              |\\n        | \"Hello\"              | \"Hello! How are you today?\"  |\\n        | \"Hi, I\\'m John\"       | \"Hello John! Nice to meet you.\" |\\n        | \"Good morning\"       | \"Good morning! How can I help you today?\" |\\n    \"\"\")\\n    @llm_func(\"Generate a friendly greeting based on user input\")\\n    sayHello(options: GreetingOptions): void;\\n\\n    @scenario(\\n    \"\"\"\\n    Scenario: Basic farewell\\n    When user says \"Bye\" or \"Goodbye\"\\n    Then system should respond with a farewell message\\n    \\n    Scenario: Personalized farewell\\n    When user says \"Goodbye\" after previously introducing themselves\\n    Then system should include their name in the farewell\\n    \\n    Scenario: Contextual farewell\\n    When user indicates why they\\'re leaving\\n    Then system should acknowledge the reason in the farewell\\n    \\n    Examples:\\n        | Input                             | Expected Output                           |\\n        | \"Goodbye\"                         | \"Goodbye! Have a great day!\"              |\\n        | \"Bye, talk to you later\"          | \"Goodbye! Looking forward to talking again!\" |\\n        | \"I need to go to a meeting now\"   | \"Goodbye! Good luck with your meeting!\"   |\\n    \"\"\")\\n    @llm_func(\"Generate an appropriate farewell message\")\\n    sayGoodbye(options: FarewellOptions): void;\\n}', llm_functions=[LLMFunction(name='sayHello', description='Generate a friendly greeting based on user input', scenario='Scenario: Basic greeting\\n    When user says \"Hello\" or \"Hi\"\\n    Then system should respond with a greeting\\n    \\n    Scenario: Personalized greeting\\n    When user introduces themselves as \"John\"\\n    Then system should greet them by name\\n    \\n    Scenario: Time-specific greeting\\n    When user says \"Good morning\"\\n    Then system should respond with a morning-appropriate greeting\\n    \\n    Examples:\\n        | Input                | Expected Output              |\\n        | \"Hello\"              | \"Hello! How are you today?\"  |\\n        | \"Hi, I\\'m John\"       | \"Hello John! Nice to meet you.\" |\\n        | \"Good morning\"       | \"Good morning! How can I help you today?\" |'), LLMFunction(name='sayGoodbye', description='Generate an appropriate farewell message', scenario='Scenario: Basic farewell\\n    When user says \"Bye\" or \"Goodbye\"\\n    Then system should respond with a farewell message\\n    \\n    Scenario: Personalized farewell\\n    When user says \"Goodbye\" after previously introducing themselves\\n    Then system should include their name in the farewell\\n    \\n    Scenario: Contextual farewell\\n    When user indicates why they\\'re leaving\\n    Then system should acknowledge the reason in the farewell\\n    \\n    Examples:\\n        | Input                             | Expected Output                           |\\n        | \"Goodbye\"                         | \"Goodbye! Have a great day!\"              |\\n        | \"Bye, talk to you later\"          | \"Goodbye! Looking forward to talking again!\" |\\n        | \"I need to go to a meeting now\"   | \"Goodbye! Good luck with your meeting!\"   |')], error_output=None),\n",
       " 'drizzle': None,\n",
       " 'handlers': {},\n",
       " 'handler_tests': {},\n",
       " 'typescript_schema': None,\n",
       " 'gherkin': GherkinOut(reasoning=None, gherkin=None, error_output=None),\n",
       " 'trace_id': '6803939d-e352-4619-9092-3af320d56b9c'}"
      ]
     },
     "execution_count": 8,
     "metadata": {},
     "output_type": "execute_result"
    }
   ],
   "source": [
    "my_bot = application.prepare_bot([user_prompts, \"Add say goodbye\"], bot_id=\"handler_tests\", capabilities=[\"perplexity.web_search\"])\n",
    "my_bot.__dict__"
   ]
  },
  {
   "cell_type": "code",
   "execution_count": 9,
   "metadata": {},
   "outputs": [
    {
     "ename": "TypeError",
     "evalue": "Application.update_bot() missing 1 required positional argument: 'typespecSchema'",
     "output_type": "error",
     "traceback": [
      "\u001b[0;31m---------------------------------------------------------------------------\u001b[0m",
      "\u001b[0;31mTypeError\u001b[0m                                 Traceback (most recent call last)",
      "Cell \u001b[0;32mIn[9], line 1\u001b[0m\n\u001b[0;32m----> 1\u001b[0m my_bot \u001b[38;5;241m=\u001b[39m \u001b[43mapplication\u001b[49m\u001b[38;5;241;43m.\u001b[39;49m\u001b[43mupdate_bot\u001b[49m\u001b[43m(\u001b[49m\n\u001b[1;32m      2\u001b[0m \u001b[43m    \u001b[49m\u001b[43mtypespec\u001b[49m\u001b[38;5;241;43m=\u001b[39;49m\u001b[43mmy_bot\u001b[49m\u001b[38;5;241;43m.\u001b[39;49m\u001b[43mtypespec\u001b[49m\u001b[38;5;241;43m.\u001b[39;49m\u001b[43mtypespec_definitions\u001b[49m\u001b[43m,\u001b[49m\u001b[43m \u001b[49m\n\u001b[1;32m      3\u001b[0m \u001b[43m    \u001b[49m\u001b[43mscenarios\u001b[49m\u001b[38;5;241;43m=\u001b[39;49m\u001b[43m[\u001b[49m\u001b[43mf\u001b[49m\u001b[38;5;241;43m.\u001b[39;49m\u001b[43mscenario\u001b[49m\u001b[43m \u001b[49m\u001b[38;5;28;43;01mfor\u001b[39;49;00m\u001b[43m \u001b[49m\u001b[43mf\u001b[49m\u001b[43m \u001b[49m\u001b[38;5;129;43;01min\u001b[39;49;00m\u001b[43m \u001b[49m\u001b[43mmy_bot\u001b[49m\u001b[38;5;241;43m.\u001b[39;49m\u001b[43mtypespec\u001b[49m\u001b[38;5;241;43m.\u001b[39;49m\u001b[43mllm_functions\u001b[49m\u001b[43m]\u001b[49m\u001b[43m,\u001b[49m\u001b[43m \u001b[49m\n\u001b[1;32m      4\u001b[0m \u001b[43m    \u001b[49m\u001b[43mbot_id\u001b[49m\u001b[38;5;241;43m=\u001b[39;49m\u001b[38;5;124;43m\"\u001b[39;49m\u001b[38;5;124;43mweb_search_bot\u001b[39;49m\u001b[38;5;124;43m\"\u001b[39;49m\u001b[43m,\u001b[49m\u001b[43m \u001b[49m\n\u001b[1;32m      5\u001b[0m \u001b[43m    \u001b[49m\u001b[43mcapabilities\u001b[49m\u001b[38;5;241;43m=\u001b[39;49m\u001b[43m[\u001b[49m\u001b[38;5;124;43m\"\u001b[39;49m\u001b[38;5;124;43mperplexity.web_search\u001b[39;49m\u001b[38;5;124;43m\"\u001b[39;49m\u001b[43m]\u001b[49m\n\u001b[1;32m      6\u001b[0m \u001b[43m)\u001b[49m\n",
      "File \u001b[0;32m~/neon/bot-new-1/.venv/lib/python3.12/site-packages/langfuse/decorators/langfuse_decorator.py:256\u001b[0m, in \u001b[0;36mLangfuseDecorator._sync_observe.<locals>.sync_wrapper\u001b[0;34m(*args, **kwargs)\u001b[0m\n\u001b[1;32m    254\u001b[0m     result \u001b[38;5;241m=\u001b[39m func(\u001b[38;5;241m*\u001b[39margs, \u001b[38;5;241m*\u001b[39m\u001b[38;5;241m*\u001b[39mkwargs)\n\u001b[1;32m    255\u001b[0m \u001b[38;5;28;01mexcept\u001b[39;00m \u001b[38;5;167;01mException\u001b[39;00m \u001b[38;5;28;01mas\u001b[39;00m e:\n\u001b[0;32m--> 256\u001b[0m     \u001b[38;5;28;43mself\u001b[39;49m\u001b[38;5;241;43m.\u001b[39;49m\u001b[43m_handle_exception\u001b[49m\u001b[43m(\u001b[49m\u001b[43mobservation\u001b[49m\u001b[43m,\u001b[49m\u001b[43m \u001b[49m\u001b[43me\u001b[49m\u001b[43m)\u001b[49m\n\u001b[1;32m    257\u001b[0m \u001b[38;5;28;01mfinally\u001b[39;00m:\n\u001b[1;32m    258\u001b[0m     result \u001b[38;5;241m=\u001b[39m \u001b[38;5;28mself\u001b[39m\u001b[38;5;241m.\u001b[39m_finalize_call(\n\u001b[1;32m    259\u001b[0m         observation, result, capture_output, transform_to_string\n\u001b[1;32m    260\u001b[0m     )\n",
      "File \u001b[0;32m~/neon/bot-new-1/.venv/lib/python3.12/site-packages/langfuse/decorators/langfuse_decorator.py:517\u001b[0m, in \u001b[0;36mLangfuseDecorator._handle_exception\u001b[0;34m(self, observation, e)\u001b[0m\n\u001b[1;32m    513\u001b[0m \u001b[38;5;28;01mif\u001b[39;00m observation:\n\u001b[1;32m    514\u001b[0m     _observation_params_context\u001b[38;5;241m.\u001b[39mget()[observation\u001b[38;5;241m.\u001b[39mid]\u001b[38;5;241m.\u001b[39mupdate(\n\u001b[1;32m    515\u001b[0m         level\u001b[38;5;241m=\u001b[39m\u001b[38;5;124m\"\u001b[39m\u001b[38;5;124mERROR\u001b[39m\u001b[38;5;124m\"\u001b[39m, status_message\u001b[38;5;241m=\u001b[39m\u001b[38;5;28mstr\u001b[39m(e)\n\u001b[1;32m    516\u001b[0m     )\n\u001b[0;32m--> 517\u001b[0m \u001b[38;5;28;01mraise\u001b[39;00m e\n",
      "File \u001b[0;32m~/neon/bot-new-1/.venv/lib/python3.12/site-packages/langfuse/decorators/langfuse_decorator.py:254\u001b[0m, in \u001b[0;36mLangfuseDecorator._sync_observe.<locals>.sync_wrapper\u001b[0;34m(*args, **kwargs)\u001b[0m\n\u001b[1;32m    251\u001b[0m result \u001b[38;5;241m=\u001b[39m \u001b[38;5;28;01mNone\u001b[39;00m\n\u001b[1;32m    253\u001b[0m \u001b[38;5;28;01mtry\u001b[39;00m:\n\u001b[0;32m--> 254\u001b[0m     result \u001b[38;5;241m=\u001b[39m \u001b[43mfunc\u001b[49m\u001b[43m(\u001b[49m\u001b[38;5;241;43m*\u001b[39;49m\u001b[43margs\u001b[49m\u001b[43m,\u001b[49m\u001b[43m \u001b[49m\u001b[38;5;241;43m*\u001b[39;49m\u001b[38;5;241;43m*\u001b[39;49m\u001b[43mkwargs\u001b[49m\u001b[43m)\u001b[49m\n\u001b[1;32m    255\u001b[0m \u001b[38;5;28;01mexcept\u001b[39;00m \u001b[38;5;167;01mException\u001b[39;00m \u001b[38;5;28;01mas\u001b[39;00m e:\n\u001b[1;32m    256\u001b[0m     \u001b[38;5;28mself\u001b[39m\u001b[38;5;241m.\u001b[39m_handle_exception(observation, e)\n",
      "\u001b[0;31mTypeError\u001b[0m: Application.update_bot() missing 1 required positional argument: 'typespecSchema'"
     ]
    }
   ],
   "source": [
    "my_bot = application.update_bot(\n",
    "    typespecSchema=my_bot.typespec.typespec_definitions, \n",
    "    bot_id=\"web_search_bot\", \n",
    "    capabilities=[\"perplexity.web_search\"]\n",
    ")"
   ]
  },
  {
   "cell_type": "code",
   "execution_count": 10,
   "metadata": {},
   "outputs": [],
   "source": [
    "interpolator.bake(my_bot, \"../../bot_result\") # next to repo root"
   ]
  },
  {
   "cell_type": "code",
   "execution_count": 11,
   "metadata": {},
   "outputs": [
    {
     "data": {
      "text/plain": [
       "{'refined_description': RefineOut(refined_description='model HelloOptions {\\n    userName?: string;\\n    timeOfDay?: string;\\n}\\n\\nmodel GoodbyeOptions {\\n    userName?: string;\\n    reasonForLeaving?: string;\\n}\\n\\ninterface GreetingBot {\\n    @scenario(\\n    \"\"\"\\n    Scenario: Basic greeting with name\\n    When user says \"Hello\"\\n    Then system responds with greeting\\n    \\n    Scenario: Personalized greeting with name\\n    When user says \"Hi my name is John\"\\n    Then system responds with personalized greeting using name \"John\"\\n    \\n    Scenario: Time-specific greeting\\n    When user says \"Good morning\"\\n    Then system responds with morning-appropriate greeting\\n    \\n    Examples:\\n        | Input                   | Expected Behavior           |\\n        | \"Hi\"                    | Generic greeting            |\\n        | \"Hello, I\\'m Sarah\"      | Greeting with name \"Sarah\"  |\\n        | \"Good evening\"          | Evening-appropriate greeting|\\n    \"\"\")\\n    @llm_func(\"Generate a personalized greeting based on user input\")\\n    sayHello(options: HelloOptions): void;\\n\\n    @scenario(\\n    \"\"\"\\n    Scenario: Basic farewell\\n    When user says \"Bye\"\\n    Then system responds with farewell message\\n    \\n    Scenario: Personalized farewell with name\\n    When user says \"Goodbye, signing off as Mike\"\\n    Then system responds with personalized farewell using name \"Mike\"\\n    \\n    Scenario: Contextual farewell\\n    When user says \"I have to go to a meeting now, bye\"\\n    Then system responds with contextual farewell referencing \"meeting\"\\n    \\n    Examples:\\n        | Input                           | Expected Behavior                      |\\n        | \"Goodbye\"                       | Generic farewell                       |\\n        | \"Bye, this is Emma leaving\"     | Farewell with name \"Emma\"              |\\n        | \"Heading to lunch, see you\"     | Farewell referencing \"lunch\"           |\\n    \"\"\")\\n    @llm_func(\"Generate a contextual farewell message based on user input\")\\n    sayGoodbye(options: GoodbyeOptions): void;\\n}', error_output=None),\n",
       " 'capabilities': CapabilitiesOut(capabilities=['perplexity.web_search'], error_output=None),\n",
       " 'typespec': TypespecOut(reasoning='Imported from existing typespec', typespec_definitions='model HelloOptions {\\n    userName?: string;\\n    timeOfDay?: string;\\n}\\n\\nmodel GoodbyeOptions {\\n    userName?: string;\\n    reasonForLeaving?: string;\\n}\\n\\ninterface GreetingBot {\\n    @scenario(\\n    \"\"\"\\n    Scenario: Basic greeting with name\\n    When user says \"Hello\"\\n    Then system responds with greeting\\n    \\n    Scenario: Personalized greeting with name\\n    When user says \"Hi my name is John\"\\n    Then system responds with personalized greeting using name \"John\"\\n    \\n    Scenario: Time-specific greeting\\n    When user says \"Good morning\"\\n    Then system responds with morning-appropriate greeting\\n    \\n    Examples:\\n        | Input                   | Expected Behavior           |\\n        | \"Hi\"                    | Generic greeting            |\\n        | \"Hello, I\\'m Sarah\"      | Greeting with name \"Sarah\"  |\\n        | \"Good evening\"          | Evening-appropriate greeting|\\n    \"\"\")\\n    @llm_func(\"Generate a personalized greeting based on user input\")\\n    sayHello(options: HelloOptions): void;\\n\\n    @scenario(\\n    \"\"\"\\n    Scenario: Basic farewell\\n    When user says \"Bye\"\\n    Then system responds with farewell message\\n    \\n    Scenario: Personalized farewell with name\\n    When user says \"Goodbye, signing off as Mike\"\\n    Then system responds with personalized farewell using name \"Mike\"\\n    \\n    Scenario: Contextual farewell\\n    When user says \"I have to go to a meeting now, bye\"\\n    Then system responds with contextual farewell referencing \"meeting\"\\n    \\n    Examples:\\n        | Input                           | Expected Behavior                      |\\n        | \"Goodbye\"                       | Generic farewell                       |\\n        | \"Bye, this is Emma leaving\"     | Farewell with name \"Emma\"              |\\n        | \"Heading to lunch, see you\"     | Farewell referencing \"lunch\"           |\\n    \"\"\")\\n    @llm_func(\"Generate a contextual farewell message based on user input\")\\n    sayGoodbye(options: GoodbyeOptions): void;\\n}', llm_functions=[LLMFunction(name='function_1', description='Implementation for scenario 1', scenario='Scenario: Basic greeting with name\\n    When user says \"Hello\"\\n    Then system responds with greeting\\n    \\n    Scenario: Personalized greeting with name\\n    When user says \"Hi my name is John\"\\n    Then system responds with personalized greeting using name \"John\"\\n    \\n    Scenario: Time-specific greeting\\n    When user says \"Good morning\"\\n    Then system responds with morning-appropriate greeting\\n    \\n    Examples:\\n        | Input                   | Expected Behavior           |\\n        | \"Hi\"                    | Generic greeting            |\\n        | \"Hello, I\\'m Sarah\"      | Greeting with name \"Sarah\"  |\\n        | \"Good evening\"          | Evening-appropriate greeting|'), LLMFunction(name='function_2', description='Implementation for scenario 2', scenario='Scenario: Basic farewell\\n    When user says \"Bye\"\\n    Then system responds with farewell message\\n    \\n    Scenario: Personalized farewell with name\\n    When user says \"Goodbye, signing off as Mike\"\\n    Then system responds with personalized farewell using name \"Mike\"\\n    \\n    Scenario: Contextual farewell\\n    When user says \"I have to go to a meeting now, bye\"\\n    Then system responds with contextual farewell referencing \"meeting\"\\n    \\n    Examples:\\n        | Input                           | Expected Behavior                      |\\n        | \"Goodbye\"                       | Generic farewell                       |\\n        | \"Bye, this is Emma leaving\"     | Farewell with name \"Emma\"              |\\n        | \"Heading to lunch, see you\"     | Farewell referencing \"lunch\"           |')], error_output=None),\n",
       " 'drizzle': DrizzleOut(reasoning=\"The TypeSpec defines a GreetingBot interface with two main functionalities:\\n1. `sayHello` - Generates personalized greetings based on input\\n2. `sayGoodbye` - Generates contextual farewell messages based on input\\n\\nThe models include:\\n- `HelloOptions` with optional `userName` and `timeOfDay` fields\\n- `GoodbyeOptions` with optional `userName` and `reasonForLeaving` fields\\n\\nFor a database schema, I'll need to create tables that can:\\n1. Store user information (to personalize greetings)\\n2. Record interactions/conversations\\n3. Track greeting and farewell messages\\n\\nI'll design tables for:\\n- Users (to store user identities)\\n- Conversations (to track interaction sessions)\\n- Messages (to store both user inputs and bot responses)\\n- Greeting logs (to store specific greeting interactions)\\n- Farewell logs (to store specific farewell interactions)\", drizzle_schema='import { pgTable, text, timestamp, uuid, pgEnum, integer, boolean } from \"drizzle-orm/pg-core\";\\n\\n// Enums\\nexport const messageTypeEnum = pgEnum(\"message_type\", [\"user_input\", \"bot_response\"]);\\nexport const interactionTypeEnum = pgEnum(\"interaction_type\", [\"greeting\", \"farewell\", \"other\"]);\\n\\n// Users table to store user information\\nexport const usersTable = pgTable(\"users\", {\\n  id: uuid(\"id\").primaryKey().defaultRandom(),\\n  userName: text(\"user_name\"),\\n  createdAt: timestamp(\"created_at\").defaultNow().notNull(),\\n  updatedAt: timestamp(\"updated_at\").defaultNow().notNull(),\\n});\\n\\n// Conversations to track interaction sessions\\nexport const conversationsTable = pgTable(\"conversations\", {\\n  id: uuid(\"id\").primaryKey().defaultRandom(),\\n  userId: uuid(\"user_id\").references(() => usersTable.id),\\n  startedAt: timestamp(\"started_at\").defaultNow().notNull(),\\n  endedAt: timestamp(\"ended_at\"),\\n  isActive: boolean(\"is_active\").default(true).notNull(),\\n});\\n\\n// Messages table to store all interactions\\nexport const messagesTable = pgTable(\"messages\", {\\n  id: uuid(\"id\").primaryKey().defaultRandom(),\\n  conversationId: uuid(\"conversation_id\").references(() => conversationsTable.id).notNull(),\\n  userId: uuid(\"user_id\").references(() => usersTable.id),\\n  content: text(\"content\").notNull(),\\n  type: messageTypeEnum(\"type\").notNull(),\\n  interactionType: interactionTypeEnum(\"interaction_type\").default(\"other\"),\\n  timestamp: timestamp(\"timestamp\").defaultNow().notNull(),\\n});\\n\\n// Greeting logs for specific greeting interactions\\nexport const greetingLogsTable = pgTable(\"greeting_logs\", {\\n  id: uuid(\"id\").primaryKey().defaultRandom(),\\n  messageId: uuid(\"message_id\").references(() => messagesTable.id).notNull(),\\n  userName: text(\"user_name\"),\\n  timeOfDay: text(\"time_of_day\"),\\n  createdAt: timestamp(\"created_at\").defaultNow().notNull(),\\n});\\n\\n// Farewell logs for specific farewell interactions\\nexport const farewellLogsTable = pgTable(\"farewell_logs\", {\\n  id: uuid(\"id\").primaryKey().defaultRandom(),\\n  messageId: uuid(\"message_id\").references(() => messagesTable.id).notNull(),\\n  userName: text(\"user_name\"),\\n  reasonForLeaving: text(\"reason_for_leaving\"),\\n  createdAt: timestamp(\"created_at\").defaultNow().notNull(),\\n});', error_output=None),\n",
       " 'handlers': {'sayGoodbye': HandlerOut(name='sayGoodbye', handler='import { db } from \"../db\";\\nimport { eq } from \"drizzle-orm\";\\nimport { sayGoodbye, type GoodbyeOptions } from \"../common/schema\";\\nimport { messagesTable, farewellLogsTable, conversationsTable, interactionTypeEnum } from \"../db/schema/application\";\\n\\nexport const handle: typeof sayGoodbye = async (options: GoodbyeOptions): Promise<void> => {\\n  // Generate farewell message based on provided options\\n  const userName = options.userName || \"Guest\";\\n  const reasonMessage = options.reasonForLeaving \\n    ? ` I understand you\\'re leaving because: ${options.reasonForLeaving}.` \\n    : \"\";\\n  \\n  const farewellMessage = `Goodbye, ${userName}!${reasonMessage} Hope to see you again soon.`;\\n  \\n  // Log the farewell interaction in the database\\n  await db.transaction(async (tx) => {\\n    // Find active conversation if any, or create a new one\\n    const activeConversations = await tx.select()\\n      .from(conversationsTable)\\n      .where(eq(conversationsTable.isActive, true))\\n      .limit(1);\\n    \\n    let conversationId: string;\\n    \\n    if (activeConversations.length === 0) {\\n      // Create a new conversation if none active\\n      const newConversation = await tx.insert(conversationsTable)\\n        .values({\\n          isActive: false, // Set to false since we\\'re ending immediately\\n          endedAt: new Date()\\n        })\\n        .returning({ id: conversationsTable.id });\\n        \\n      conversationId = newConversation[0].id;\\n    } else {\\n      // Use existing conversation and mark it as ended\\n      conversationId = activeConversations[0].id;\\n      await tx.update(conversationsTable)\\n        .set({ \\n          isActive: false,\\n          endedAt: new Date()\\n        })\\n        .where(eq(conversationsTable.id, conversationId));\\n    }\\n    \\n    // Record the farewell message\\n    const newMessage = await tx.insert(messagesTable)\\n      .values({\\n        conversationId: conversationId,\\n        content: farewellMessage,\\n        type: \"bot_response\",\\n        interactionType: \"farewell\",\\n      })\\n      .returning({ id: messagesTable.id });\\n    \\n    // Log the farewell details\\n    await tx.insert(farewellLogsTable)\\n      .values({\\n        messageId: newMessage[0].id,\\n        userName: options.userName || null,\\n        reasonForLeaving: options.reasonForLeaving || null,\\n      });\\n  });\\n  \\n  console.log(`Farewell processed: ${farewellMessage}`);\\n};', argument_schema='goodbyeOptionsSchema', error_output=None),\n",
       "  'sayHello': HandlerOut(name='sayHello', handler='import { db } from \"../db\";\\nimport { eq, and } from \"drizzle-orm\";\\nimport { type HelloOptions, sayHello } from \"../common/schema\";\\nimport { messagesTable, conversationsTable, usersTable, greetingLogsTable } from \"../db/schema/application\";\\n\\nexport const handle: typeof sayHello = async (options: HelloOptions): Promise<void> => {\\n    // Generate appropriate greeting message based on input\\n    const userName = options.userName || \"Guest\";\\n    const timeOfDay = options.timeOfDay || \"day\";\\n    \\n    const greetingMessage = `Hello, ${userName}! Having a good ${timeOfDay}?`;\\n    \\n    // First, find or create a user\\n    let userId;\\n    const existingUser = await db\\n        .select()\\n        .from(usersTable)\\n        .where(eq(usersTable.userName, userName))\\n        .limit(1);\\n    \\n    if (existingUser.length > 0) {\\n        userId = existingUser[0].id;\\n    } else {\\n        // Create new user if not found\\n        const result = await db\\n            .insert(usersTable)\\n            .values({\\n                userName: userName,\\n            })\\n            .returning({ id: usersTable.id });\\n        \\n        userId = result[0].id;\\n    }\\n    \\n    // Find active conversation or create a new one\\n    let conversationId;\\n    \\n    // Use AND operator to combine conditions instead of chaining where clauses\\n    const activeConversation = await db\\n        .select()\\n        .from(conversationsTable)\\n        .where(\\n            and(\\n                eq(conversationsTable.userId, userId),\\n                eq(conversationsTable.isActive, true)\\n            )\\n        )\\n        .limit(1);\\n    \\n    if (activeConversation.length > 0) {\\n        conversationId = activeConversation[0].id;\\n    } else {\\n        // Start a new conversation\\n        const result = await db\\n            .insert(conversationsTable)\\n            .values({\\n                userId: userId,\\n                isActive: true,\\n            })\\n            .returning({ id: conversationsTable.id });\\n        \\n        conversationId = result[0].id;\\n    }\\n    \\n    // Log the bot\\'s greeting message\\n    const messageResult = await db\\n        .insert(messagesTable)\\n        .values({\\n            conversationId: conversationId,\\n            userId: userId,\\n            content: greetingMessage,\\n            type: \"bot_response\",\\n            interactionType: \"greeting\"\\n        })\\n        .returning({ id: messagesTable.id });\\n    \\n    const messageId = messageResult[0].id;\\n    \\n    // Store specific greeting details in greeting logs\\n    await db\\n        .insert(greetingLogsTable)\\n        .values({\\n            messageId: messageId,\\n            userName: userName,\\n            timeOfDay: timeOfDay,\\n        });\\n};', argument_schema='helloOptionsSchema', error_output=None)},\n",
       " 'handler_tests': {'sayGoodbye': HandlerTestsOut(name='sayGoodbye', content='\\nimport { afterEach, beforeEach, describe } from \"bun:test\";\\nimport { resetDB, createDB } from \"../../helpers\";\\nimport { expect, it } from \"bun:test\";\\nimport { db } from \"../../db\";\\nimport { farewellLogsTable, messagesTable } from \"../../db/schema/application\";\\nimport { type GoodbyeOptions } from \"../../common/schema\";\\nimport { eq } from \"drizzle-orm\";\\n\\nimport { handle as sayGoodbye } from \"../../handlers/sayGoodbye.ts\";\\n\\n\\ndescribe(\"\", () => {\\n    beforeEach(async () => {\\n        await createDB();\\n    });\\n\\n    afterEach(async () => {\\n        await resetDB();\\n    });\\n    \\n    \\n    it(\"should call sayGoodbye with no parameters\", async () => {\\n      await sayGoodbye({});\\n      \\n      const messages = await db.select().from(messagesTable)\\n        .where(eq(messagesTable.interactionType, \"farewell\"))\\n        .execute();\\n      \\n      expect(messages).toHaveLength(1);\\n      expect(messages[0].content).toBeTruthy();\\n      expect(messages[0].type).toBe(\"bot_response\");\\n    });\\n\\n    \\n    \\n    it(\"should call sayGoodbye with userName\", async () => {\\n      const options: GoodbyeOptions = { userName: \"John\" };\\n      await sayGoodbye(options);\\n      \\n      const farewells = await db.select().from(farewellLogsTable).execute();\\n      expect(farewells).toHaveLength(1);\\n      expect(farewells[0].userName).toBe(\"John\");\\n      expect(farewells[0].reasonForLeaving).toBeNull();\\n      \\n      const messages = await db.select().from(messagesTable)\\n        .where(eq(messagesTable.interactionType, \"farewell\"))\\n        .execute();\\n      \\n      expect(messages).toHaveLength(1);\\n    });\\n\\n    \\n    \\n    it(\"should call sayGoodbye with reasonForLeaving\", async () => {\\n      const options: GoodbyeOptions = { reasonForLeaving: \"Going to lunch\" };\\n      await sayGoodbye(options);\\n      \\n      const farewells = await db.select().from(farewellLogsTable).execute();\\n      expect(farewells).toHaveLength(1);\\n      expect(farewells[0].userName).toBeNull();\\n      expect(farewells[0].reasonForLeaving).toBe(\"Going to lunch\");\\n    });\\n\\n    \\n    \\n    it(\"should call sayGoodbye with all parameters\", async () => {\\n      const options: GoodbyeOptions = { \\n        userName: \"Alice\",\\n        reasonForLeaving: \"End of session\" \\n      };\\n      \\n      await sayGoodbye(options);\\n      \\n      const farewells = await db.select().from(farewellLogsTable).execute();\\n      expect(farewells).toHaveLength(1);\\n      expect(farewells[0].userName).toBe(\"Alice\");\\n      expect(farewells[0].reasonForLeaving).toBe(\"End of session\");\\n      \\n      const messages = await db.select().from(messagesTable)\\n        .where(eq(messagesTable.interactionType, \"farewell\"))\\n        .execute();\\n      \\n      expect(messages).toHaveLength(1);\\n      expect(messages[0].type).toBe(\"bot_response\");\\n    });\\n\\n    \\n    \\n    it(\"should create database entries with the correct relationships\", async () => {\\n      const options: GoodbyeOptions = { userName: \"Bob\" };\\n      await sayGoodbye(options);\\n      \\n      const messages = await db.select().from(messagesTable)\\n        .where(eq(messagesTable.interactionType, \"farewell\"))\\n        .execute();\\n      \\n      expect(messages).toHaveLength(1);\\n      \\n      const farewells = await db.select().from(farewellLogsTable)\\n        .where(eq(farewellLogsTable.messageId, messages[0].id))\\n        .execute();\\n      \\n      expect(farewells).toHaveLength(1);\\n      expect(farewells[0].userName).toBe(\"Bob\");\\n    });\\n\\n    \\n});', error_output=None),\n",
       "  'sayHello': HandlerTestsOut(name='sayHello', content='\\nimport { afterEach, beforeEach, describe } from \"bun:test\";\\nimport { resetDB, createDB } from \"../../helpers\";\\nimport { expect, it } from \"bun:test\";\\nimport { db } from \"../../db\";\\nimport { greetingLogsTable, messagesTable, usersTable, conversationsTable } from \"../../db/schema/application\";\\nimport { type HelloOptions } from \"../../common/schema\";\\n\\nimport { handle as sayHello } from \"../../handlers/sayHello.ts\";\\n\\n\\ndescribe(\"\", () => {\\n    beforeEach(async () => {\\n        await createDB();\\n    });\\n\\n    afterEach(async () => {\\n        await resetDB();\\n    });\\n    \\n    \\n    it(\"should log greeting without userName and timeOfDay\", async () => {\\n      const options: HelloOptions = {};\\n      await sayHello(options);\\n      \\n      const messages = await db.select().from(messagesTable).execute();\\n      expect(messages).toHaveLength(1);\\n      expect(messages[0].interactionType).toEqual(\"greeting\");\\n      \\n      const greetings = await db.select().from(greetingLogsTable).execute();\\n      expect(greetings).toHaveLength(1);\\n      expect(greetings[0].userName).toBeNull();\\n      expect(greetings[0].timeOfDay).toBeNull();\\n    });\\n\\n    \\n    \\n    it(\"should log greeting with userName\", async () => {\\n      const options: HelloOptions = { userName: \"Alice\" };\\n      await sayHello(options);\\n\\n      const messages = await db.select().from(messagesTable).execute();\\n      expect(messages).toHaveLength(1);\\n      expect(messages[0].interactionType).toEqual(\"greeting\");\\n      \\n      const greetings = await db.select().from(greetingLogsTable).execute();\\n      expect(greetings).toHaveLength(1);\\n      expect(greetings[0].userName).toEqual(\"Alice\");\\n      expect(greetings[0].timeOfDay).toBeNull();\\n    });\\n\\n    \\n    \\n    it(\"should log greeting with timeOfDay\", async () => {\\n      const options: HelloOptions = { timeOfDay: \"morning\" };\\n      await sayHello(options);\\n\\n      const messages = await db.select().from(messagesTable).execute();\\n      expect(messages).toHaveLength(1);\\n      expect(messages[0].interactionType).toEqual(\"greeting\");\\n      \\n      const greetings = await db.select().from(greetingLogsTable).execute();\\n      expect(greetings).toHaveLength(1);\\n      expect(greetings[0].userName).toBeNull();\\n      expect(greetings[0].timeOfDay).toEqual(\"morning\");\\n    });\\n\\n    \\n    \\n    it(\"should log greeting with both userName and timeOfDay\", async () => {\\n      const options: HelloOptions = { userName: \"Bob\", timeOfDay: \"evening\" };\\n      await sayHello(options);\\n\\n      const messages = await db.select().from(messagesTable).execute();\\n      expect(messages).toHaveLength(1);\\n      expect(messages[0].interactionType).toEqual(\"greeting\");\\n      expect(messages[0].type).toEqual(\"bot_response\");\\n      \\n      const greetings = await db.select().from(greetingLogsTable).execute();\\n      expect(greetings).toHaveLength(1);\\n      expect(greetings[0].userName).toEqual(\"Bob\");\\n      expect(greetings[0].timeOfDay).toEqual(\"evening\");\\n    });\\n\\n    \\n    \\n    it(\"should create a new conversation if none exists\", async () => {\\n      const conversationsBefore = await db.select().from(conversationsTable).execute();\\n      expect(conversationsBefore).toHaveLength(0);\\n      \\n      await sayHello({ userName: \"Carol\" });\\n      \\n      const conversationsAfter = await db.select().from(conversationsTable).execute();\\n      expect(conversationsAfter).toHaveLength(1);\\n      expect(conversationsAfter[0].isActive).toBe(true);\\n      \\n      const messages = await db.select().from(messagesTable).execute();\\n      expect(messages[0].conversationId).toEqual(conversationsAfter[0].id);\\n    });\\n\\n    \\n    \\n    it(\"should create a user record if userName is provided\", async () => {\\n      const userName = \"Dave\";\\n      const usersBefore = await db.select().from(usersTable).execute();\\n      expect(usersBefore).toHaveLength(0);\\n      \\n      await sayHello({ userName });\\n      \\n      const usersAfter = await db.select().from(usersTable).execute();\\n      expect(usersAfter).toHaveLength(1);\\n      expect(usersAfter[0].userName).toEqual(userName);\\n      \\n      const messages = await db.select().from(messagesTable).execute();\\n      expect(messages[0].userId).toEqual(usersAfter[0].id);\\n    });\\n\\n    \\n    \\n    it(\"should link greeting log to message record\", async () => {\\n      await sayHello({ userName: \"Emma\" });\\n      \\n      const messages = await db.select().from(messagesTable).execute();\\n      expect(messages).toHaveLength(1);\\n      \\n      const greetingLogs = await db.select().from(greetingLogsTable).execute();\\n      expect(greetingLogs).toHaveLength(1);\\n      expect(greetingLogs[0].messageId).toEqual(messages[0].id);\\n    });\\n\\n    \\n    \\n    it(\"should use existing user if same userName is used multiple times\", async () => {\\n      const userName = \"Frank\";\\n      \\n      // First greeting\\n      await sayHello({ userName });\\n      \\n      const usersAfterFirst = await db.select().from(usersTable).execute();\\n      expect(usersAfterFirst).toHaveLength(1);\\n      const userId = usersAfterFirst[0].id;\\n      \\n      // Second greeting with same user\\n      await sayHello({ userName });\\n      \\n      const usersAfterSecond = await db.select().from(usersTable).execute();\\n      expect(usersAfterSecond).toHaveLength(1);  // Still only one user\\n      \\n      const messages = await db.select().from(messagesTable).execute();\\n      expect(messages).toHaveLength(2);\\n      expect(messages[0].userId).toEqual(userId);\\n      expect(messages[1].userId).toEqual(userId);\\n    });\\n\\n    \\n});', error_output=None)},\n",
       " 'typescript_schema': TypescriptOut(reasoning='The application is a greeting bot that can say hello and goodbye to users.\\n\\n1. There are two main models:\\n   - HelloOptions: Contains optional parameters for greetings including userName and timeOfDay\\n   - GoodbyeOptions: Contains optional parameters for farewells including userName and reasonForLeaving\\n\\n2. The GreetingBot interface has two functions:\\n   - sayHello: Generates personalized greetings based on user input\\n   - sayGoodbye: Generates contextual farewells based on user input\\n\\nI need to create TypeScript definitions with Zod schemas that represent these models and function declarations.', typescript_schema=\"import { z } from 'zod';\\n\\nexport const helloOptionsSchema = z.object({\\n  userName: z.string().optional(),\\n  timeOfDay: z.string().optional(),\\n});\\n\\nexport type HelloOptions = z.infer<typeof helloOptionsSchema>;\\n\\nexport const goodbyeOptionsSchema = z.object({\\n  userName: z.string().optional(),\\n  reasonForLeaving: z.string().optional(),\\n});\\n\\nexport type GoodbyeOptions = z.infer<typeof goodbyeOptionsSchema>;\\n\\nexport declare function sayHello(options: HelloOptions): Promise<void>;\\nexport declare function sayGoodbye(options: GoodbyeOptions): Promise<void>;\", functions=[TypescriptFunction(name='sayHello', argument_type='HelloOptions', argument_schema='helloOptionsSchema', return_type='Promise<void>'), TypescriptFunction(name='sayGoodbye', argument_type='GoodbyeOptions', argument_schema='goodbyeOptionsSchema', return_type='Promise<void>')], error_output=None),\n",
       " 'gherkin': GherkinOut(reasoning=None, gherkin=None, error_output=None),\n",
       " 'trace_id': 'f74b76eb-6d7c-4bc5-b76d-8469d14214b3'}"
      ]
     },
     "execution_count": 11,
     "metadata": {},
     "output_type": "execute_result"
    }
   ],
   "source": [
    "my_bot.__dict__"
   ]
  },
  {
   "cell_type": "code",
   "execution_count": null,
   "metadata": {},
   "outputs": [],
   "source": []
  }
 ],
 "metadata": {
  "kernelspec": {
   "display_name": ".venv",
   "language": "python",
   "name": "python3"
  },
  "language_info": {
   "codemirror_mode": {
    "name": "ipython",
    "version": 3
   },
   "file_extension": ".py",
   "mimetype": "text/x-python",
   "name": "python",
   "nbconvert_exporter": "python",
   "pygments_lexer": "ipython3",
   "version": "3.12.3"
  }
 },
 "nbformat": 4,
 "nbformat_minor": 2
}
