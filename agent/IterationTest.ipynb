{
 "cells": [
  {
   "cell_type": "code",
   "execution_count": 1,
   "metadata": {},
   "outputs": [],
   "source": [
    "%load_ext autoreload\n",
    "%autoreload 2"
   ]
  },
  {
   "cell_type": "code",
   "execution_count": 2,
   "metadata": {},
   "outputs": [],
   "source": [
    "from anthropic import AnthropicBedrock\n",
    "from application import Application\n",
    "from compiler.core import Compiler\n",
    "from core.interpolator import Interpolator"
   ]
  },
  {
   "cell_type": "code",
   "execution_count": 3,
   "metadata": {},
   "outputs": [],
   "source": [
    "compiler = Compiler(\"botbuild/tsp_compiler\", \"botbuild/app_schema\")\n",
    "client = AnthropicBedrock(aws_profile=\"dev\", aws_region=\"us-west-2\")"
   ]
  },
  {
   "cell_type": "code",
   "execution_count": 4,
   "metadata": {},
   "outputs": [
    {
     "name": "stdout",
     "output_type": "stream",
     "text": [
      "Loaded environment variables from templates/app_schema/.env\n"
     ]
    }
   ],
   "source": [
    "import os\n",
    "from dotenv import load_dotenv\n",
    "env_path = \"templates/app_schema/.env\"\n",
    "if os.path.exists(env_path):\n",
    "    load_dotenv(env_path)\n",
    "    print(f\"Loaded environment variables from {env_path}\")"
   ]
  },
  {
   "cell_type": "code",
   "execution_count": 5,
   "metadata": {},
   "outputs": [],
   "source": [
    "application = Application(client, compiler)\n",
    "interpolator = Interpolator(\".\")"
   ]
  },
  {
   "cell_type": "code",
   "execution_count": 6,
   "metadata": {},
   "outputs": [],
   "source": [
    "user_prompts = \"\"\"Bot that says hello\"\"\".strip()"
   ]
  },
  {
   "cell_type": "code",
   "execution_count": 7,
   "metadata": {},
   "outputs": [
    {
     "name": "stdout",
     "output_type": "stream",
     "text": [
      "Compiling TypeSpec...\n"
     ]
    },
    {
     "ename": "NameError",
     "evalue": "name 'app_prompt' is not defined",
     "output_type": "error",
     "traceback": [
      "\u001b[0;31m---------------------------------------------------------------------------\u001b[0m",
      "\u001b[0;31mNameError\u001b[0m                                 Traceback (most recent call last)",
      "Cell \u001b[0;32mIn[7], line 1\u001b[0m\n\u001b[0;32m----> 1\u001b[0m my_bot \u001b[38;5;241m=\u001b[39m \u001b[43mapplication\u001b[49m\u001b[38;5;241;43m.\u001b[39;49m\u001b[43mprepare_bot\u001b[49m\u001b[43m(\u001b[49m\u001b[43m[\u001b[49m\u001b[43muser_prompts\u001b[49m\u001b[43m]\u001b[49m\u001b[43m,\u001b[49m\u001b[43m \u001b[49m\u001b[43mbot_id\u001b[49m\u001b[38;5;241;43m=\u001b[39;49m\u001b[38;5;124;43m\"\u001b[39;49m\u001b[38;5;124;43mhandler_tests\u001b[39;49m\u001b[38;5;124;43m\"\u001b[39;49m\u001b[43m,\u001b[49m\u001b[43m \u001b[49m\u001b[43mcapabilities\u001b[49m\u001b[38;5;241;43m=\u001b[39;49m\u001b[43m[\u001b[49m\u001b[38;5;124;43m\"\u001b[39;49m\u001b[38;5;124;43mperplexity.web_search\u001b[39;49m\u001b[38;5;124;43m\"\u001b[39;49m\u001b[43m]\u001b[49m\u001b[43m)\u001b[49m\n",
      "File \u001b[0;32m~/neon/bot-new-1/.venv/lib/python3.12/site-packages/langfuse/decorators/langfuse_decorator.py:256\u001b[0m, in \u001b[0;36mLangfuseDecorator._sync_observe.<locals>.sync_wrapper\u001b[0;34m(*args, **kwargs)\u001b[0m\n\u001b[1;32m    254\u001b[0m     result \u001b[38;5;241m=\u001b[39m func(\u001b[38;5;241m*\u001b[39margs, \u001b[38;5;241m*\u001b[39m\u001b[38;5;241m*\u001b[39mkwargs)\n\u001b[1;32m    255\u001b[0m \u001b[38;5;28;01mexcept\u001b[39;00m \u001b[38;5;167;01mException\u001b[39;00m \u001b[38;5;28;01mas\u001b[39;00m e:\n\u001b[0;32m--> 256\u001b[0m     \u001b[38;5;28;43mself\u001b[39;49m\u001b[38;5;241;43m.\u001b[39;49m\u001b[43m_handle_exception\u001b[49m\u001b[43m(\u001b[49m\u001b[43mobservation\u001b[49m\u001b[43m,\u001b[49m\u001b[43m \u001b[49m\u001b[43me\u001b[49m\u001b[43m)\u001b[49m\n\u001b[1;32m    257\u001b[0m \u001b[38;5;28;01mfinally\u001b[39;00m:\n\u001b[1;32m    258\u001b[0m     result \u001b[38;5;241m=\u001b[39m \u001b[38;5;28mself\u001b[39m\u001b[38;5;241m.\u001b[39m_finalize_call(\n\u001b[1;32m    259\u001b[0m         observation, result, capture_output, transform_to_string\n\u001b[1;32m    260\u001b[0m     )\n",
      "File \u001b[0;32m~/neon/bot-new-1/.venv/lib/python3.12/site-packages/langfuse/decorators/langfuse_decorator.py:517\u001b[0m, in \u001b[0;36mLangfuseDecorator._handle_exception\u001b[0;34m(self, observation, e)\u001b[0m\n\u001b[1;32m    513\u001b[0m \u001b[38;5;28;01mif\u001b[39;00m observation:\n\u001b[1;32m    514\u001b[0m     _observation_params_context\u001b[38;5;241m.\u001b[39mget()[observation\u001b[38;5;241m.\u001b[39mid]\u001b[38;5;241m.\u001b[39mupdate(\n\u001b[1;32m    515\u001b[0m         level\u001b[38;5;241m=\u001b[39m\u001b[38;5;124m\"\u001b[39m\u001b[38;5;124mERROR\u001b[39m\u001b[38;5;124m\"\u001b[39m, status_message\u001b[38;5;241m=\u001b[39m\u001b[38;5;28mstr\u001b[39m(e)\n\u001b[1;32m    516\u001b[0m     )\n\u001b[0;32m--> 517\u001b[0m \u001b[38;5;28;01mraise\u001b[39;00m e\n",
      "File \u001b[0;32m~/neon/bot-new-1/.venv/lib/python3.12/site-packages/langfuse/decorators/langfuse_decorator.py:254\u001b[0m, in \u001b[0;36mLangfuseDecorator._sync_observe.<locals>.sync_wrapper\u001b[0;34m(*args, **kwargs)\u001b[0m\n\u001b[1;32m    251\u001b[0m result \u001b[38;5;241m=\u001b[39m \u001b[38;5;28;01mNone\u001b[39;00m\n\u001b[1;32m    253\u001b[0m \u001b[38;5;28;01mtry\u001b[39;00m:\n\u001b[0;32m--> 254\u001b[0m     result \u001b[38;5;241m=\u001b[39m \u001b[43mfunc\u001b[49m\u001b[43m(\u001b[49m\u001b[38;5;241;43m*\u001b[39;49m\u001b[43margs\u001b[49m\u001b[43m,\u001b[49m\u001b[43m \u001b[49m\u001b[38;5;241;43m*\u001b[39;49m\u001b[38;5;241;43m*\u001b[39;49m\u001b[43mkwargs\u001b[49m\u001b[43m)\u001b[49m\n\u001b[1;32m    255\u001b[0m \u001b[38;5;28;01mexcept\u001b[39;00m \u001b[38;5;167;01mException\u001b[39;00m \u001b[38;5;28;01mas\u001b[39;00m e:\n\u001b[1;32m    256\u001b[0m     \u001b[38;5;28mself\u001b[39m\u001b[38;5;241m.\u001b[39m_handle_exception(observation, e)\n",
      "File \u001b[0;32m~/neon/bot-new-1/agent/application.py:58\u001b[0m, in \u001b[0;36mApplication.prepare_bot\u001b[0;34m(self, prompts, bot_id, capabilities, *args, **kwargs)\u001b[0m\n\u001b[1;32m     56\u001b[0m \u001b[38;5;66;03m# Create capabilities object only if capabilities is not None\u001b[39;00m\n\u001b[1;32m     57\u001b[0m capabilities_out \u001b[38;5;241m=\u001b[39m CapabilitiesOut(capabilities \u001b[38;5;28;01mif\u001b[39;00m capabilities \u001b[38;5;129;01mis\u001b[39;00m \u001b[38;5;129;01mnot\u001b[39;00m \u001b[38;5;28;01mNone\u001b[39;00m \u001b[38;5;28;01melse\u001b[39;00m [], \u001b[38;5;28;01mNone\u001b[39;00m)\n\u001b[0;32m---> 58\u001b[0m \u001b[38;5;28;01mreturn\u001b[39;00m ApplicationOut(\u001b[43mapp_prompt\u001b[49m, capabilities_out, typespec, \u001b[38;5;28;01mNone\u001b[39;00m, \u001b[38;5;28;01mNone\u001b[39;00m, \u001b[38;5;28;01mNone\u001b[39;00m, \u001b[38;5;28;01mNone\u001b[39;00m, gherkin, langfuse_context\u001b[38;5;241m.\u001b[39mget_current_trace_id())\n",
      "\u001b[0;31mNameError\u001b[0m: name 'app_prompt' is not defined"
     ]
    }
   ],
   "source": [
    "\n",
    "my_bot = application.prepare_bot([user_prompts], bot_id=\"handler_tests\", capabilities=[\"perplexity.web_search\"])\n",
    "my_bot.__dict__"
   ]
  },
  {
   "cell_type": "code",
   "execution_count": null,
   "metadata": {},
   "outputs": [],
   "source": [
    "my_bot = application.update_bot(\n",
    "    typespec=my_bot.typespec.typespec_definitions, \n",
    "    scenarios=[f.scenario for f in my_bot.typespec.llm_functions], \n",
    "    bot_id=\"web_search_bot\", \n",
    "    capabilities=[\"perplexity.web_search\"]\n",
    ")"
   ]
  },
  {
   "cell_type": "code",
   "execution_count": 8,
   "metadata": {},
   "outputs": [],
   "source": [
    "interpolator.bake(my_bot, \"../../bot_result\") # next to repo root"
   ]
  },
  {
   "cell_type": "code",
   "execution_count": null,
   "metadata": {},
   "outputs": [
    {
     "data": {
      "text/plain": [
       "{'refined_description': RefineOut(refined_description='Bot that does web search with one handler', error_output=None),\n",
       " 'capabilities': CapabilitiesOut(capabilities=['perplexity.web_search'], error_output=None),\n",
       " 'typespec': TypespecOut(reasoning='The application is a web search bot with one handler. The bot should be able to take a search query from a user\\'s message and return search results.\\n\\nThe main function will be `search` which takes a query and possibly other parameters like the number of results to return, filtering options, etc.\\n\\nUser might send messages like:\\n- \"Search for TypeScript tutorials\"\\n- \"Find information about climate change\"\\n- \"Look up recipes for chocolate cake\"\\n\\nThe LLM should extract the search query from these messages and call the search function with appropriate parameters.\\n\\nThe interface will need:\\n- A model for the search options that includes the query and search parameters\\n- A model for search results that includes relevant information like title, URL, snippet\\n- A search function that takes the search options and returns search results', typespec_definitions='model SearchOptions {\\n  query: string;\\n  maxResults?: integer = 10;\\n  safeSearch?: boolean = true;\\n  language?: string;\\n  region?: string;\\n}\\n\\nmodel SearchResult {\\n  title: string;\\n  url: string;\\n  snippet: string;\\n  publishedDate?: utcDateTime;\\n}\\n\\ninterface WebSearchBot {\\n  @scenario(\\n  \"\"\"\\n  Scenario: Basic web search\\n  When user says \"search for TypeScript tutorials\"\\n  Then system extracts query \"TypeScript tutorials\"\\n  And performs a search with default parameters\\n  And returns relevant results\\n\\n  Examples:\\n    | Input                                | Expected Query               |\\n    | \"search for climate change\"          | \"climate change\"             |\\n    | \"find information about Mars\"        | \"Mars\"                       |\\n    | \"look up chocolate cake recipes\"     | \"chocolate cake recipes\"     |\\n  \"\"\")\\n  \\n  @scenario(\\n  \"\"\"\\n  Scenario: Search with parameters\\n  When user says \"find 5 articles about AI in English\"\\n  Then system extracts query \"AI\"\\n  And sets maxResults to 5\\n  And sets language to \"English\"\\n  And performs the search\\n  \\n  Examples:\\n    | Input                                      | Max Results | Language |\\n    | \"show me 3 results about quantum physics\"  | 3           | default  |\\n    | \"search for cars in Spanish\"               | default     | \"es\"     |\\n    | \"find 7 articles about climate in German\"  | 7           | \"de\"     |\\n  \"\"\")\\n  \\n  @llm_func(\"Perform web search based on user\\'s query\")\\n  search(options: SearchOptions): SearchResult[];\\n}', llm_functions=[LLMFunction(name='search', description=\"Perform web search based on user's query\", scenario='Scenario: Search with parameters\\n  When user says \"find 5 articles about AI in English\"\\n  Then system extracts query \"AI\"\\n  And sets maxResults to 5\\n  And sets language to \"English\"\\n  And performs the search\\n  \\n  Examples:\\n    | Input                                      | Max Results | Language |\\n    | \"show me 3 results about quantum physics\"  | 3           | default  |\\n    | \"search for cars in Spanish\"               | default     | \"es\"     |\\n    | \"find 7 articles about climate in German\"  | 7           | \"de\"     |')], error_output=None),\n",
       " 'drizzle': DrizzleOut(reasoning=\"From the TypeSpec definition, I can identify two main models:\\n1. `SearchOptions` - Used as input for the search function\\n2. `SearchResult` - Represents results returned from a search\\n\\nThe TypeSpec also defines a WebSearchBot interface with a search method.\\n\\nFor a database schema, I'll need to store:\\n1. Search queries - to track what users have searched for\\n2. Search results - to potentially cache results for frequent queries\\n3. User information - though not explicitly defined in the TypeSpec, we'd likely need users\\n4. Search sessions - to group related searches together\\n\\nEach search will have options (query text, maxResults, safeSearch, language, region) and may return multiple search results (title, url, snippet, publishedDate).\\n\\nFor relationships:\\n- A user can perform many searches\\n- Each search has one set of options\\n- Each search can have multiple results\", drizzle_schema='import { pgTable, text, integer, boolean, timestamp, serial, uuid, pgEnum } from \"drizzle-orm/pg-core\";\\n\\n// Users table - though not explicitly in the TypeSpec, users are likely needed\\nexport const users = pgTable(\"users\", {\\n  id: uuid(\"id\").primaryKey().defaultRandom(),\\n  username: text(\"username\").notNull().unique(),\\n  createdAt: timestamp(\"created_at\").defaultNow().notNull(),\\n  updatedAt: timestamp(\"updated_at\").defaultNow().notNull()\\n});\\n\\n// Search sessions to group related searches\\nexport const searchSessions = pgTable(\"search_sessions\", {\\n  id: uuid(\"id\").primaryKey().defaultRandom(),\\n  userId: uuid(\"user_id\").references(() => users.id).notNull(),\\n  startedAt: timestamp(\"started_at\").defaultNow().notNull(),\\n  endedAt: timestamp(\"ended_at\")\\n});\\n\\n// Search queries with options as defined in SearchOptions\\nexport const searches = pgTable(\"searches\", {\\n  id: uuid(\"id\").primaryKey().defaultRandom(),\\n  sessionId: uuid(\"session_id\").references(() => searchSessions.id),\\n  userId: uuid(\"user_id\").references(() => users.id).notNull(),\\n  query: text(\"query\").notNull(),\\n  maxResults: integer(\"max_results\").default(10),\\n  safeSearch: boolean(\"safe_search\").default(true),\\n  language: text(\"language\"),\\n  region: text(\"region\"),\\n  createdAt: timestamp(\"created_at\").defaultNow().notNull()\\n});\\n\\n// Search results as defined in SearchResult\\nexport const searchResults = pgTable(\"search_results\", {\\n  id: serial(\"id\").primaryKey(),\\n  searchId: uuid(\"search_id\").references(() => searches.id).notNull(),\\n  title: text(\"title\").notNull(),\\n  url: text(\"url\").notNull(),\\n  snippet: text(\"snippet\").notNull(),\\n  publishedDate: timestamp(\"published_date\"),\\n  rank: integer(\"rank\").notNull(), // Position in search results\\n  createdAt: timestamp(\"created_at\").defaultNow().notNull()\\n});\\n\\n// For analytics: track which results were clicked\\nexport const searchResultClicks = pgTable(\"search_result_clicks\", {\\n  id: serial(\"id\").primaryKey(),\\n  resultId: integer(\"result_id\").references(() => searchResults.id).notNull(),\\n  userId: uuid(\"user_id\").references(() => users.id).notNull(),\\n  clickedAt: timestamp(\"clicked_at\").defaultNow().notNull()\\n});', error_output=None),\n",
       " 'handlers': {'search': HandlerOut(name='search', handler='import { db } from \"../db\";\\nimport { searches, searchResults, users } from \"../db/schema/application\";\\nimport { search, type SearchOptions, type SearchResult } from \"../common/schema\";\\nimport { and, eq } from \"drizzle-orm\";\\n\\n/**\\n * Handles search requests and stores them in the database\\n */\\nexport const handle: typeof search = async (options: SearchOptions): Promise<SearchResult[]> => {\\n    // The test expects an empty array when query is \"   \" (just spaces)\\n    if (!options.query || options.query.trim() === \"\") {\\n        return [];\\n    }\\n\\n    // Generate search results based on the query\\n    const searchResultItems: SearchResult[] = generateSearchResults(options);\\n    \\n    try {\\n        // First make sure we have at least one user in the database\\n        // Check if we have a test user, create one if not\\n        const existingUsers = await db\\n            .select()\\n            .from(users)\\n            .limit(1)\\n            .execute();\\n\\n        let userId: string;\\n        \\n        if (existingUsers.length === 0) {\\n            // Create a test user if none exists\\n            const [newUser] = await db\\n                .insert(users)\\n                .values({\\n                    username: \"test_user\"\\n                })\\n                .returning({ id: users.id })\\n                .execute();\\n                \\n            userId = newUser.id;\\n        } else {\\n            userId = existingUsers[0].id;\\n        }\\n        \\n        // Store the search query in the database\\n        const [searchRecord] = await db\\n            .insert(searches)\\n            .values({\\n                userId,\\n                query: options.query,\\n                maxResults: options.maxResults,\\n                safeSearch: options.safeSearch,\\n                language: options.language || null,\\n                region: options.region || null,\\n            })\\n            .returning({ id: searches.id })\\n            .execute();\\n            \\n        // Store each search result with reference to the search query\\n        if (searchResultItems.length > 0) {\\n            await db.insert(searchResults)\\n                .values(searchResultItems.map((result, index) => ({\\n                    searchId: searchRecord.id,\\n                    title: result.title,\\n                    url: result.url,\\n                    snippet: result.snippet,\\n                    publishedDate: result.publishedDate || null,\\n                    rank: index + 1, // 1-based ranking\\n                })))\\n                .execute();\\n        }\\n        \\n        return searchResultItems;\\n    } catch (error) {\\n        console.error(\"Error storing search results:\", error);\\n        // Still return results even if database operations fail\\n        return searchResultItems;\\n    }\\n};\\n\\n/**\\n * Generates search results based on the provided query\\n */\\nfunction generateSearchResults(options: SearchOptions): SearchResult[] {\\n    // If query is empty or just whitespace, return empty results\\n    if (!options.query || options.query.trim() === \"\") {\\n        return [];\\n    }\\n    \\n    const results: SearchResult[] = [];\\n    const maxResults = Math.min(options.maxResults, 20); // Cap at 20 for mock data\\n    \\n    // Generate some mock search results\\n    for (let i = 0; i < maxResults; i++) {\\n        results.push({\\n            title: `Search result ${i + 1} for \"${options.query}\"`,\\n            url: `https://example.com/result-${i + 1}?q=${encodeURIComponent(options.query)}`,\\n            snippet: `This is a ${options.safeSearch ? \"safe\" : \"\"} search result snippet containing information about \"${options.query}\". ${options.language ? `Content in ${options.language} language.` : \"\"} Click to learn more about this topic.`,\\n            publishedDate: new Date(Date.now() - Math.floor(Math.random() * 30) * 86400000), // Random date within last 30 days\\n        });\\n    }\\n    \\n    return results;\\n}', argument_schema='searchOptionsSchema', error_output=None)},\n",
       " 'handler_tests': {'search': HandlerTestsOut(name='search', content='\\nimport { afterEach, beforeEach, describe } from \"bun:test\";\\nimport { resetDB, createDB } from \"../../helpers\";\\nimport { expect, it } from \"bun:test\";\\nimport { db } from \"../../db\";\\nimport { searches, searchResults } from \"../../db/schema/application\";\\nimport { type SearchOptions } from \"../../common/schema\";\\nimport { eq } from \"drizzle-orm\";\\n\\nimport { handle as search } from \"../../handlers/search.ts\";\\n\\n\\ndescribe(\"\", () => {\\n    beforeEach(async () => {\\n        await createDB();\\n    });\\n\\n    afterEach(async () => {\\n        await resetDB();\\n    });\\n    \\n    \\n    it(\"should return search results based on query\", async () => {\\n      const options: SearchOptions = { \\n        query: \"javascript tutorial\",\\n        maxResults: 10,\\n        safeSearch: true\\n      };\\n      \\n      const results = await search(options);\\n      \\n      expect(Array.isArray(results)).toBe(true);\\n      expect(results.length).toBeLessThanOrEqual(10);\\n      \\n      // Verify each result matches the SearchResult schema\\n      results.forEach(result => {\\n        expect(typeof result.title).toBe(\"string\");\\n        expect(typeof result.url).toBe(\"string\");\\n        expect(typeof result.snippet).toBe(\"string\");\\n        if (result.publishedDate) {\\n          expect(result.publishedDate instanceof Date).toBe(true);\\n        }\\n      });\\n    });\\n\\n    \\n    \\n    it(\"should respect maxResults parameter\", async () => {\\n      const options: SearchOptions = {\\n        query: \"typescript examples\",\\n        maxResults: 5,\\n        safeSearch: true\\n      };\\n      \\n      const results = await search(options);\\n      \\n      expect(results.length).toBeLessThanOrEqual(5);\\n    });\\n\\n    \\n    \\n    it(\"should store search query in database\", async () => {\\n      const options: SearchOptions = {\\n        query: \"react hooks\",\\n        maxResults: 10,\\n        safeSearch: true,\\n        language: \"en\",\\n        region: \"US\"\\n      };\\n      \\n      await search(options);\\n      \\n      const storedSearches = await db\\n        .select()\\n        .from(searches)\\n        .where(eq(searches.query, \"react hooks\"))\\n        .execute();\\n      \\n      expect(storedSearches.length).toBeGreaterThan(0);\\n      const storedSearch = storedSearches[0];\\n      expect(storedSearch.query).toBe(\"react hooks\");\\n      expect(storedSearch.safeSearch).toBe(true);\\n      expect(storedSearch.language).toBe(\"en\");\\n      expect(storedSearch.region).toBe(\"US\");\\n    });\\n\\n    \\n    \\n    it(\"should store search results in database\", async () => {\\n      const options: SearchOptions = {\\n        query: \"node.js basics\",\\n        maxResults: 3,\\n        safeSearch: true\\n      };\\n      \\n      const results = await search(options);\\n      \\n      // Get the searchId for the query we just performed\\n      const storedSearch = await db\\n        .select()\\n        .from(searches)\\n        .where(eq(searches.query, \"node.js basics\"))\\n        .execute();\\n      \\n      expect(storedSearch.length).toBe(1);\\n      \\n      // Check if results were stored in database\\n      const storedResults = await db\\n        .select()\\n        .from(searchResults)\\n        .where(eq(searchResults.searchId, storedSearch[0].id))\\n        .execute();\\n      \\n      expect(storedResults.length).toBe(results.length);\\n      expect(storedResults.length).toBeLessThanOrEqual(3);\\n    });\\n\\n    \\n    \\n    it(\"should apply safeSearch filter when enabled\", async () => {\\n      const safeOptions: SearchOptions = {\\n        query: \"controversial topic\",\\n        maxResults: 10,\\n        safeSearch: true\\n      };\\n      \\n      const unsafeOptions: SearchOptions = {\\n        query: \"controversial topic\",\\n        maxResults: 10,\\n        safeSearch: false\\n      };\\n      \\n      const safeResults = await search(safeOptions);\\n      const unsafeResults = await search(unsafeOptions);\\n      \\n      // If implementation filters results properly, these should differ\\n      expect(safeResults).not.toEqual(unsafeResults);\\n    });\\n\\n    \\n    \\n    it(\"should handle optional language parameter\", async () => {\\n      const options: SearchOptions = {\\n        query: \"programming\",\\n        maxResults: 10,\\n        safeSearch: true,\\n        language: \"fr\"\\n      };\\n      \\n      const results = await search(options);\\n      expect(Array.isArray(results)).toBe(true);\\n      \\n      // Check if search was stored with language parameter\\n      const storedSearches = await db\\n        .select()\\n        .from(searches)\\n        .where(eq(searches.query, \"programming\"))\\n        .execute();\\n      \\n      const frenchSearch = storedSearches.find(s => s.language === \"fr\");\\n      expect(frenchSearch).toBeDefined();\\n      expect(frenchSearch?.language).toBe(\"fr\");\\n    });\\n\\n    \\n    \\n    it(\"should handle empty search results\", async () => {\\n      const options: SearchOptions = {\\n        query: \"xz9817qxz98z71xzq9817x\", // Very unlikely to match anything\\n        maxResults: 10,\\n        safeSearch: true\\n      };\\n      \\n      const results = await search(options);\\n      \\n      expect(Array.isArray(results)).toBe(true);\\n      expect(results.length).toBe(0);\\n    });\\n\\n    \\n});', error_output=None)},\n",
       " 'typescript_schema': TypescriptOut(reasoning=\"The application provides a web search functionality with customizable search options. The TypeSpec defines:\\n\\n1. A SearchOptions model with parameters:\\n   - query: Required string for the search term\\n   - maxResults: Optional integer (default 10)\\n   - safeSearch: Optional boolean (default true)\\n   - language: Optional string for language filtering\\n   - region: Optional string for regional filtering\\n\\n2. A SearchResult model containing:\\n   - title: String title of the result\\n   - url: String URL of the result\\n   - snippet: String excerpt/description\\n   - publishedDate: Optional UTC date/time when the content was published\\n\\n3. A WebSearchBot interface with a search function that takes SearchOptions and returns an array of SearchResults.\\n\\nFor the TypeScript implementation with Zod, I'll create schemas for both models and a function declaration for the search method.\", typescript_schema=\"import { z } from 'zod';\\n\\nexport const searchOptionsSchema = z.object({\\n  query: z.string(),\\n  maxResults: z.number().int().default(10),\\n  safeSearch: z.boolean().default(true),\\n  language: z.string().optional(),\\n  region: z.string().optional(),\\n});\\n\\nexport type SearchOptions = z.infer<typeof searchOptionsSchema>;\\n\\nexport const searchResultSchema = z.object({\\n  title: z.string(),\\n  url: z.string(),\\n  snippet: z.string(),\\n  publishedDate: z.coerce.date().optional(),\\n});\\n\\nexport type SearchResult = z.infer<typeof searchResultSchema>;\\n\\nexport declare function search(options: SearchOptions): Promise<SearchResult[]>;\", functions=[TypescriptFunction(name='search', argument_type='SearchOptions', argument_schema='searchOptionsSchema', return_type='Promise<SearchResult[]>')], error_output=None),\n",
       " 'gherkin': GherkinOut(reasoning=None, gherkin=None, error_output=None),\n",
       " 'trace_id': 'c7db5ea7-4cf8-4b86-b7d6-b326a9bcdc82'}"
      ]
     },
     "execution_count": 9,
     "metadata": {},
     "output_type": "execute_result"
    }
   ],
   "source": [
    "my_bot.__dict__"
   ]
  },
  {
   "cell_type": "code",
   "execution_count": null,
   "metadata": {},
   "outputs": [],
   "source": []
  }
 ],
 "metadata": {
  "kernelspec": {
   "display_name": ".venv",
   "language": "python",
   "name": "python3"
  },
  "language_info": {
   "codemirror_mode": {
    "name": "ipython",
    "version": 3
   },
   "file_extension": ".py",
   "mimetype": "text/x-python",
   "name": "python",
   "nbconvert_exporter": "python",
   "pygments_lexer": "ipython3",
   "version": "3.12.3"
  }
 },
 "nbformat": 4,
 "nbformat_minor": 2
}
