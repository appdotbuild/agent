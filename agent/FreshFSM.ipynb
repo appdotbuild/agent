{
 "cells": [
  {
   "cell_type": "code",
   "execution_count": null,
   "metadata": {},
   "outputs": [],
   "source": [
    "from anthropic import AnthropicBedrock\n",
    "from compiler.core import Compiler\n",
    "from langfuse import Langfuse\n",
    "from fsm_core.helpers import solve_agent\n",
    "from fsm_core import common, typespec, drizzle, typescript, handler_tests, handlers\n",
    "\n",
    "import statemachine"
   ]
  },
  {
   "cell_type": "code",
   "execution_count": 3,
   "metadata": {},
   "outputs": [
    {
     "name": "stderr",
     "output_type": "stream",
     "text": [
      "Langfuse client is disabled since no public_key was provided as a parameter or environment variable 'LANGFUSE_PUBLIC_KEY'. See our docs: https://langfuse.com/docs/sdk/python/low-level-sdk#initialize-client\n"
     ]
    }
   ],
   "source": [
    "langfuse_client = Langfuse()\n",
    "compiler = Compiler(\"botbuild/tsp_compiler\", \"botbuild/app_schema\")\n",
    "m_claude = AnthropicBedrock(aws_profile=\"dev\", aws_region=\"us-west-2\")"
   ]
  },
  {
   "cell_type": "code",
   "execution_count": 4,
   "metadata": {},
   "outputs": [],
   "source": [
    "def not_impl(ctx):\n",
    "    raise NotImplementedError(\"Not implemented\")\n",
    "\n",
    "def fail_state(ctx):\n",
    "    print(\"FAILED\")"
   ]
  },
  {
   "cell_type": "code",
   "execution_count": 5,
   "metadata": {},
   "outputs": [],
   "source": [
    "class ActorContext:\n",
    "    def __init__(self, compiler: Compiler):\n",
    "        self.compiler = compiler\n",
    "\n",
    "\n",
    "class TypespecActor:\n",
    "    def __init__(self, m_claude: AnthropicBedrock, compiler: Compiler, langfuse_client: Langfuse):\n",
    "        self.m_claude = m_claude\n",
    "        self.compiler = compiler\n",
    "        self.langfuse_client = langfuse_client\n",
    "\n",
    "    def execute(self, application_description: str):\n",
    "        start = typespec.Entry(application_description)\n",
    "        result, _ = solve_agent(start, ActorContext(compiler), \"solve_typespec\", self.m_claude, self.langfuse_client)\n",
    "        if result is None:\n",
    "            raise ValueError(\"Failed to solve typespec\")\n",
    "        if not isinstance(result.data.inner, typespec.Success):\n",
    "            raise Exception(\"Bad state: \" + str(result.data.inner))\n",
    "        return result.data.inner\n",
    "\n",
    "\n",
    "class DrizzleActor:\n",
    "    def __init__(self, m_claude: AnthropicBedrock, compiler: Compiler, langfuse_client: Langfuse):\n",
    "        self.m_claude = m_claude\n",
    "        self.compiler = compiler\n",
    "        self.langfuse_client = langfuse_client\n",
    "\n",
    "    def execute(self, typespec_definitions: str):\n",
    "        start = drizzle.Entry(typespec_definitions)\n",
    "        result, _ = solve_agent(start, ActorContext(compiler), \"solve_drizzle\", self.m_claude, self.langfuse_client)\n",
    "        if result is None:\n",
    "            raise ValueError(\"Failed to solve drizzle\")\n",
    "        if not isinstance(result.data.inner, drizzle.Success):\n",
    "            raise Exception(\"Bad state: \" + str(result.data.inner))\n",
    "        return result.data.inner\n",
    "\n",
    "\n",
    "class TypescriptActor:\n",
    "    def __init__(self, m_claude: AnthropicBedrock, compiler: Compiler, langfuse_client: Langfuse):\n",
    "        self.m_claude = m_claude\n",
    "        self.compiler = compiler\n",
    "        self.langfuse_client = langfuse_client\n",
    "\n",
    "    def execute(self, typespec_definitions: str):\n",
    "        start = typescript.Entry(typespec_definitions)\n",
    "        result, _ = solve_agent(start, ActorContext(compiler), \"solve_typescript\", self.m_claude, self.langfuse_client)\n",
    "        if result is None:\n",
    "            raise ValueError(\"Failed to solve typescript\")\n",
    "        if not isinstance(result.data.inner, typescript.Success):\n",
    "            raise Exception(\"Bad state: \" + str(result.data.inner))\n",
    "        return result.data.inner"
   ]
  },
  {
   "cell_type": "code",
   "execution_count": 6,
   "metadata": {},
   "outputs": [],
   "source": [
    "typespec_actor = TypespecActor(m_claude, compiler, langfuse_client)\n",
    "drizzle_actor = DrizzleActor(m_claude, compiler, langfuse_client)\n",
    "typescript_actor = TypescriptActor(m_claude, compiler, langfuse_client)"
   ]
  },
  {
   "cell_type": "code",
   "execution_count": 7,
   "metadata": {},
   "outputs": [],
   "source": [
    "machine: statemachine.State = {\n",
    "    \"on\": {\n",
    "        \"START\": \"typespec\",\n",
    "    },\n",
    "    \"states\": {\n",
    "        \"typespec\": {\n",
    "            \"on\": {\n",
    "                \"PROMPT\": \"adjust\",\n",
    "                \"CONFIRM\": \"core\",\n",
    "            },\n",
    "            \"states\": {\n",
    "                \"init\": {\n",
    "                    \"invoke\": {\n",
    "                        \"src\": typespec_actor,\n",
    "                        \"input_fn\": lambda ctx: ctx[\"application_description\"],\n",
    "                        \"on_done\": {\n",
    "                            \"target\": \"wait\",\n",
    "                            \"actions\": [lambda ctx, event: ctx.update({\"typespec_schema\": event})],\n",
    "                        }\n",
    "                    }\n",
    "                },\n",
    "                \"adjust\": {\n",
    "                    \"entry\": [not_impl],\n",
    "                },\n",
    "                \"wait\": {},\n",
    "            },\n",
    "            \"always\": {\n",
    "                \"guard\": lambda ctx: \"typespec_schema\" not in ctx,\n",
    "                \"target\": \"init\",\n",
    "            }\n",
    "        },\n",
    "        \"core\": {\n",
    "            \"states\": {\n",
    "                \"drizzle\": {\n",
    "                    \"invoke\": {\n",
    "                        \"src\": drizzle_actor,\n",
    "                        \"input_fn\": lambda ctx: ctx[\"typespec_schema\"].typespec,\n",
    "                        \"on_done\": {\n",
    "                            \"target\": \"typescript\",\n",
    "                            \"actions\": [lambda ctx, event: ctx.update({\"drizzle_schema\": event})],\n",
    "                        },\n",
    "                        \"on_error\": {\"target\": \"failure\"},\n",
    "                    }\n",
    "                },\n",
    "                \"typescript\": {\n",
    "                    \"invoke\": {\n",
    "                        \"src\": typescript_actor,\n",
    "                        \"input_fn\": lambda ctx: ctx[\"typespec_schema\"].typespec,\n",
    "                        \"on_done\": {\n",
    "                            \"target\": \"complete\",\n",
    "                            \"actions\": [lambda ctx, event: ctx.update({\"typescript_schema\": event})],\n",
    "                        },\n",
    "                        \"on_error\": {\"target\": \"failure\"},\n",
    "                    }\n",
    "                },\n",
    "                \"handler_tests\": {},\n",
    "                \"handlers\": {},\n",
    "            },\n",
    "            \"always\": {\n",
    "                \"guard\": lambda ctx: \"typespec_schema\" in ctx,\n",
    "                \"target\": \"drizzle\",\n",
    "            }\n",
    "        },\n",
    "        \"complete\": {\n",
    "            \"on\": {\n",
    "                \"PROMPT\": \"edit_application\",\n",
    "            }\n",
    "        },\n",
    "        \"failure\": {\n",
    "            \"entry\": [fail_state],\n",
    "        },\n",
    "        \"edit_application\": {\n",
    "            \"entry\": [not_impl],\n",
    "        },\n",
    "    }\n",
    "}"
   ]
  },
  {
   "cell_type": "code",
   "execution_count": 8,
   "metadata": {},
   "outputs": [],
   "source": [
    "fsm = statemachine.StateMachine(machine, {\"application_description\": \"Make me a greeting bot\"})"
   ]
  },
  {
   "cell_type": "code",
   "execution_count": 9,
   "metadata": {},
   "outputs": [
    {
     "name": "stderr",
     "output_type": "stream",
     "text": [
      "Langfuse client is disabled since no public_key was provided as a parameter or environment variable 'LANGFUSE_PUBLIC_KEY'. See our docs: https://langfuse.com/docs/sdk/python/low-level-sdk#initialize-client\n"
     ]
    },
    {
     "name": "stdout",
     "output_type": "stream",
     "text": [
      "Processing transition: [] typespec\n",
      "Processing transition: ['typespec'] init\n",
      "Processing transition: ['typespec', 'init'] wait\n"
     ]
    }
   ],
   "source": [
    "fsm.send(\"START\")"
   ]
  },
  {
   "cell_type": "code",
   "execution_count": 12,
   "metadata": {},
   "outputs": [
    {
     "name": "stdout",
     "output_type": "stream",
     "text": [
      "Processing transition: ['typespec', 'wait'] core\n",
      "Processing transition: ['core'] drizzle\n",
      "Processing transition: ['core', 'drizzle'] typescript\n",
      "Processing transition: ['core', 'typescript'] complete\n"
     ]
    }
   ],
   "source": [
    "fsm.send(\"CONFIRM\")"
   ]
  },
  {
   "cell_type": "code",
   "execution_count": 14,
   "metadata": {},
   "outputs": [
    {
     "data": {
      "text/plain": [
       "{'application_description': 'Make me a greeting bot',\n",
       " 'typespec_schema': <fsm_core.typespec.Success at 0xffffa1fef440>,\n",
       " 'drizzle_schema': <fsm_core.drizzle.Success at 0xffffa22ad070>,\n",
       " 'typescript_schema': <fsm_core.typescript.Success at 0xffffa0001af0>}"
      ]
     },
     "execution_count": 14,
     "metadata": {},
     "output_type": "execute_result"
    }
   ],
   "source": [
    "fsm.context"
   ]
  },
  {
   "cell_type": "code",
   "execution_count": 15,
   "metadata": {},
   "outputs": [
    {
     "data": {
      "text/plain": [
       "['complete']"
      ]
     },
     "execution_count": 15,
     "metadata": {},
     "output_type": "execute_result"
    }
   ],
   "source": [
    "fsm.stack_path"
   ]
  },
  {
   "cell_type": "code",
   "execution_count": null,
   "metadata": {},
   "outputs": [],
   "source": []
  }
 ],
 "metadata": {
  "kernelspec": {
   "display_name": ".venv",
   "language": "python",
   "name": "python3"
  },
  "language_info": {
   "codemirror_mode": {
    "name": "ipython",
    "version": 3
   },
   "file_extension": ".py",
   "mimetype": "text/x-python",
   "name": "python",
   "nbconvert_exporter": "python",
   "pygments_lexer": "ipython3",
   "version": "3.12.8"
  }
 },
 "nbformat": 4,
 "nbformat_minor": 2
}
