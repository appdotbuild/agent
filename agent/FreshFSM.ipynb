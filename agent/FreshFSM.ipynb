{
 "cells": [
  {
   "cell_type": "code",
   "execution_count": 1,
   "metadata": {},
   "outputs": [],
   "source": [
    "import os\n",
    "os.environ[\"LANGFUSE_SECRET_KEY\"] = \"sk-lf-86758fd8-a721-4fae-b664-c4c76f3554cd\"\n",
    "os.environ[\"LANGFUSE_PUBLIC_KEY\"] = \"pk-lf-a185ba56-5896-44da-b072-6ef414739b8a\""
   ]
  },
  {
   "cell_type": "code",
   "execution_count": 2,
   "metadata": {},
   "outputs": [],
   "source": [
    "import concurrent.futures\n",
    "from anthropic import AnthropicBedrock\n",
    "from compiler.core import Compiler\n",
    "from langfuse import Langfuse\n",
    "from fsm_core.helpers import solve_agent\n",
    "from fsm_core import common, typespec, drizzle, typescript, handler_tests, handlers\n",
    "from fsm_core.common import Node, AgentState\n",
    "\n",
    "\n",
    "import statemachine"
   ]
  },
  {
   "cell_type": "code",
   "execution_count": 3,
   "metadata": {},
   "outputs": [],
   "source": [
    "langfuse_client = Langfuse()\n",
    "compiler = Compiler(\"botbuild/tsp_compiler\", \"botbuild/app_schema\")\n",
    "m_claude = AnthropicBedrock(aws_profile=\"dev\", aws_region=\"us-west-2\")"
   ]
  },
  {
   "cell_type": "code",
   "execution_count": 4,
   "metadata": {},
   "outputs": [],
   "source": [
    "def not_impl(ctx):\n",
    "    raise NotImplementedError(\"Not implemented\")\n",
    "\n",
    "def fail_state(ctx):\n",
    "    print(\"FAILED\")"
   ]
  },
  {
   "cell_type": "code",
   "execution_count": 5,
   "metadata": {},
   "outputs": [],
   "source": [
    "class ActorContext:\n",
    "    def __init__(self, compiler: Compiler):\n",
    "        self.compiler = compiler\n",
    "\n",
    "\n",
    "class TypespecActor:\n",
    "    def __init__(self, m_claude: AnthropicBedrock, compiler: Compiler, langfuse_client: Langfuse):\n",
    "        self.m_claude = m_claude\n",
    "        self.compiler = compiler\n",
    "        self.langfuse_client = langfuse_client\n",
    "\n",
    "    def execute(self, application_description: str):\n",
    "        start = typespec.Entry(application_description)\n",
    "        result, _ = solve_agent(start, ActorContext(compiler), \"solve_typespec\", self.m_claude, self.langfuse_client)\n",
    "        if result is None:\n",
    "            raise ValueError(\"Failed to solve typespec\")\n",
    "        if not isinstance(result.data.inner, typespec.Success):\n",
    "            raise Exception(\"Bad state: \" + str(result.data.inner))\n",
    "        return result.data.inner\n",
    "\n",
    "\n",
    "class DrizzleActor:\n",
    "    def __init__(self, m_claude: AnthropicBedrock, compiler: Compiler, langfuse_client: Langfuse):\n",
    "        self.m_claude = m_claude\n",
    "        self.compiler = compiler\n",
    "        self.langfuse_client = langfuse_client\n",
    "\n",
    "    def execute(self, typespec_definitions: str):\n",
    "        start = drizzle.Entry(typespec_definitions)\n",
    "        result, _ = solve_agent(start, ActorContext(compiler), \"solve_drizzle\", self.m_claude, self.langfuse_client)\n",
    "        if result is None:\n",
    "            raise ValueError(\"Failed to solve drizzle\")\n",
    "        if not isinstance(result.data.inner, drizzle.Success):\n",
    "            raise Exception(\"Failed to solve drizzle: \" + str(result.data.inner))\n",
    "        return result.data.inner\n",
    "\n",
    "\n",
    "class TypescriptActor:\n",
    "    def __init__(self, m_claude: AnthropicBedrock, compiler: Compiler, langfuse_client: Langfuse):\n",
    "        self.m_claude = m_claude\n",
    "        self.compiler = compiler\n",
    "        self.langfuse_client = langfuse_client\n",
    "\n",
    "    def execute(self, typespec_definitions: str):\n",
    "        start = typescript.Entry(typespec_definitions)\n",
    "        result, _ = solve_agent(start, ActorContext(compiler), \"solve_typescript\", self.m_claude, self.langfuse_client)\n",
    "        if result is None:\n",
    "            raise ValueError(\"Failed to solve typescript\")\n",
    "        if not isinstance(result.data.inner, typescript.Success):\n",
    "            raise Exception(\"Failed to solve typescript: \" + str(result.data.inner))\n",
    "        return result.data.inner\n",
    "\n",
    "\n",
    "class HandlerTestsActor:\n",
    "    def __init__(self, m_claude: AnthropicBedrock, compiler: Compiler, langfuse_client: Langfuse, max_workers=5):\n",
    "        self.m_claude = m_claude\n",
    "        self.compiler = compiler\n",
    "        self.langfuse_client = langfuse_client\n",
    "        self.max_workers = max_workers\n",
    "    \n",
    "    def execute(self, functions: list[str], typescript_schema: str, drizzle_schema: str) -> dict[str, handler_tests.Success]:\n",
    "        future_to_tests: dict[concurrent.futures.Future[tuple[Node[AgentState] | None, Node[AgentState]]]] = {}\n",
    "        result_dict = {}\n",
    "        with concurrent.futures.ThreadPoolExecutor(max_workers=self.max_workers) as executor:\n",
    "            for function in functions:\n",
    "                start = handler_tests.Entry(function, typescript_schema, drizzle_schema)\n",
    "                future_to_tests[executor.submit(solve_agent, start, ActorContext(compiler), \"solve_handler_tests\", self.m_claude, self.langfuse_client)] = function\n",
    "            for future in concurrent.futures.as_completed(future_to_tests):\n",
    "                function = future_to_tests[future]\n",
    "                result, _ = future.result()\n",
    "                # can skip if failure and generate what succeeded\n",
    "                if result is None:\n",
    "                    raise ValueError(f\"Failed to solve handler tests for {function}\")\n",
    "                if not isinstance(result.data.inner, handler_tests.Success):\n",
    "                    raise Exception(f\"Failed to solve handler tests for {function}: \" + str(result.data.inner))\n",
    "                result_dict[function] = result.data.inner\n",
    "        return result_dict\n",
    "\n",
    "\n",
    "class HandlersActor:\n",
    "    def __init__(self, m_claude: AnthropicBedrock, compiler: Compiler, langfuse_client: Langfuse):\n",
    "        self.m_claude = m_claude\n",
    "        self.compiler = compiler\n",
    "        self.langfuse_client = langfuse_client\n",
    "\n",
    "    def execute(self, functions: list[str], typescript_schema: str, drizzle_schema: str, tests: dict[str, handler_tests.Success]) -> dict[str, handlers.Success]:\n",
    "        futures_to_handlers: dict[concurrent.futures.Future[tuple[Node[AgentState] | None, Node[AgentState]]]] = {}\n",
    "        result_dict = {}\n",
    "        with concurrent.futures.ThreadPoolExecutor(max_workers=5) as executor:\n",
    "            for function in functions:\n",
    "                start = handlers.Entry(function, typescript_schema, drizzle_schema, tests[function].source)\n",
    "                futures_to_handlers[executor.submit(solve_agent, start, ActorContext(compiler), \"solve_handlers\", self.m_claude, self.langfuse_client)] = function\n",
    "            for future in concurrent.futures.as_completed(futures_to_handlers):\n",
    "                function = futures_to_handlers[future]\n",
    "                result, _ = future.result()\n",
    "                if result is None:\n",
    "                    raise ValueError(f\"Failed to solve handlers for {function}\")\n",
    "                if not isinstance(result.data.inner, handlers.Success):\n",
    "                    raise Exception(f\"Failed to solve handlers for {function}: \" + str(result.data.inner))\n",
    "                result_dict[function] = result.data.inner\n",
    "        return result_dict\n"
   ]
  },
  {
   "cell_type": "code",
   "execution_count": 6,
   "metadata": {},
   "outputs": [],
   "source": [
    "typespec_actor = TypespecActor(m_claude, compiler, langfuse_client)\n",
    "drizzle_actor = DrizzleActor(m_claude, compiler, langfuse_client)\n",
    "typescript_actor = TypescriptActor(m_claude, compiler, langfuse_client)\n",
    "handler_tests_actor = HandlerTestsActor(m_claude, compiler, langfuse_client)\n",
    "handlers_actor = HandlersActor(m_claude, compiler, langfuse_client)"
   ]
  },
  {
   "cell_type": "code",
   "execution_count": 7,
   "metadata": {},
   "outputs": [],
   "source": [
    "machine: statemachine.State = {\n",
    "    \"on\": {\n",
    "        \"START\": \"typespec\",\n",
    "    },\n",
    "    \"states\": {\n",
    "        \"typespec\": {\n",
    "            \"on\": {\n",
    "                \"PROMPT\": \"adjust\",\n",
    "                \"CONFIRM\": \"core\",\n",
    "            },\n",
    "            \"states\": {\n",
    "                \"init\": {\n",
    "                    \"invoke\": {\n",
    "                        \"src\": typespec_actor,\n",
    "                        \"input_fn\": lambda ctx: (ctx[\"application_description\"],),\n",
    "                        \"on_done\": {\n",
    "                            \"target\": \"wait\",\n",
    "                            \"actions\": [lambda ctx, event: ctx.update({\"typespec_schema\": event})],\n",
    "                        }\n",
    "                    }\n",
    "                },\n",
    "                \"adjust\": {\n",
    "                    \"entry\": [not_impl],\n",
    "                },\n",
    "                \"wait\": {},\n",
    "            },\n",
    "            \"always\": {\n",
    "                \"guard\": lambda ctx: \"typespec_schema\" not in ctx,\n",
    "                \"target\": \"init\",\n",
    "            }\n",
    "        },\n",
    "        \"core\": {\n",
    "            \"states\": {\n",
    "                \"drizzle\": {\n",
    "                    \"invoke\": {\n",
    "                        \"src\": drizzle_actor,\n",
    "                        \"input_fn\": lambda ctx: (ctx[\"typespec_schema\"].typespec,),\n",
    "                        \"on_done\": {\n",
    "                            \"target\": \"typescript\",\n",
    "                            \"actions\": [lambda ctx, event: ctx.update({\"drizzle_schema\": event})],\n",
    "                        },\n",
    "                        \"on_error\": {\n",
    "                            \"target\": \"failure\",\n",
    "                            \"actions\": [lambda ctx, event: ctx.update({\"error\": event})],\n",
    "                        },\n",
    "                    }\n",
    "                },\n",
    "                \"typescript\": {\n",
    "                    \"invoke\": {\n",
    "                        \"src\": typescript_actor,\n",
    "                        \"input_fn\": lambda ctx: (ctx[\"typespec_schema\"].typespec,),\n",
    "                        \"on_done\": {\n",
    "                            \"target\": \"handler_tests\",\n",
    "                            \"actions\": [lambda ctx, event: ctx.update({\"typescript_schema\": event})],\n",
    "                        },\n",
    "                        \"on_error\": {\n",
    "                            \"target\": \"failure\",\n",
    "                            \"actions\": [lambda ctx, event: ctx.update({\"error\": event})],\n",
    "                        },\n",
    "                    }\n",
    "                },\n",
    "                \"handler_tests\": {\n",
    "                    \"invoke\": {\n",
    "                        \"src\": handler_tests_actor,\n",
    "                        \"input_fn\": lambda ctx: (ctx[\"typescript_schema\"].functions, ctx[\"typescript_schema\"].typescript_schema, ctx[\"drizzle_schema\"].drizzle_schema),\n",
    "                        \"on_done\": {\n",
    "                            \"target\": \"handlers\",\n",
    "                            \"actions\": [lambda ctx, event: ctx.update({\"handler_tests\": event})],\n",
    "                        },\n",
    "                        \"on_error\": {\n",
    "                            \"target\": \"failure\",\n",
    "                            \"actions\": [lambda ctx, event: ctx.update({\"error\": event})],\n",
    "                        },\n",
    "                    }\n",
    "                },\n",
    "                \"handlers\": {\n",
    "                    \"invoke\": {\n",
    "                        \"src\": handlers_actor,\n",
    "                        \"input_fn\": lambda ctx: (ctx[\"typescript_schema\"].functions, ctx[\"typescript_schema\"].typescript_schema, ctx[\"drizzle_schema\"].drizzle_schema, ctx[\"handler_tests\"]),\n",
    "                        \"on_done\": {\n",
    "                            \"target\": \"complete\",\n",
    "                            \"actions\": [lambda ctx, event: ctx.update({\"handlers\": event})],\n",
    "                        },\n",
    "                        \"on_error\": {\n",
    "                            \"target\": \"failure\",\n",
    "                            \"actions\": [lambda ctx, event: ctx.update({\"error\": event})],\n",
    "                        },\n",
    "                    }\n",
    "                },\n",
    "            },\n",
    "            \"always\": {\n",
    "                \"guard\": lambda ctx: \"typespec_schema\" in ctx,\n",
    "                \"target\": \"drizzle\",\n",
    "            }\n",
    "        },\n",
    "        \"complete\": {\n",
    "            \"on\": {\n",
    "                \"PROMPT\": \"edit_application\",\n",
    "            }\n",
    "        },\n",
    "        \"failure\": {\n",
    "            \"entry\": [fail_state],\n",
    "        },\n",
    "        \"edit_application\": {\n",
    "            \"entry\": [not_impl],\n",
    "        },\n",
    "    }\n",
    "}"
   ]
  },
  {
   "cell_type": "code",
   "execution_count": 8,
   "metadata": {},
   "outputs": [],
   "source": [
    "fsm = statemachine.StateMachine(machine, {\"application_description\": \"Make me a greeting bot\"})"
   ]
  },
  {
   "cell_type": "code",
   "execution_count": 9,
   "metadata": {},
   "outputs": [
    {
     "name": "stdout",
     "output_type": "stream",
     "text": [
      "Processing transition: [] typespec\n",
      "Processing transition: ['typespec'] init\n",
      "Processing transition: ['typespec', 'init'] wait\n"
     ]
    }
   ],
   "source": [
    "fsm.send(\"START\")"
   ]
  },
  {
   "cell_type": "code",
   "execution_count": 10,
   "metadata": {},
   "outputs": [
    {
     "name": "stdout",
     "output_type": "stream",
     "text": [
      "Processing transition: ['typespec', 'wait'] core\n",
      "Processing transition: ['core'] drizzle\n",
      "Processing transition: ['core', 'drizzle'] typescript\n",
      "Processing transition: ['core', 'typescript'] handler_tests\n",
      "Processing transition: ['core', 'handler_tests'] failure\n",
      "FAILED\n"
     ]
    }
   ],
   "source": [
    "fsm.send(\"CONFIRM\")"
   ]
  },
  {
   "cell_type": "code",
   "execution_count": 11,
   "metadata": {},
   "outputs": [
    {
     "data": {
      "text/plain": [
       "{'application_description': 'Make me a greeting bot',\n",
       " 'typespec_schema': <fsm_core.typespec.Success at 0xffff7355a000>,\n",
       " 'drizzle_schema': <fsm_core.drizzle.Success at 0xffff7c02d7c0>,\n",
       " 'typescript_schema': <fsm_core.typescript.Success at 0xffff8414e420>,\n",
       " 'error': Exception(\"Failed to solve handler tests for FunctionDeclaration(name='setUserName', argument_type='UserNameRequest', argument_schema='userNameRequestSchema', return_type='Promise<void>'): <fsm_core.handler_tests.Entry object at 0xffff672f91f0>\")}"
      ]
     },
     "execution_count": 11,
     "metadata": {},
     "output_type": "execute_result"
    }
   ],
   "source": [
    "fsm.context"
   ]
  },
  {
   "cell_type": "code",
   "execution_count": 11,
   "metadata": {},
   "outputs": [
    {
     "data": {
      "text/plain": [
       "['complete']"
      ]
     },
     "execution_count": 11,
     "metadata": {},
     "output_type": "execute_result"
    }
   ],
   "source": [
    "fsm.stack_path"
   ]
  },
  {
   "cell_type": "code",
   "execution_count": null,
   "metadata": {},
   "outputs": [],
   "source": []
  },
  {
   "cell_type": "code",
   "execution_count": null,
   "metadata": {},
   "outputs": [],
   "source": []
  },
  {
   "cell_type": "code",
   "execution_count": null,
   "metadata": {},
   "outputs": [],
   "source": []
  },
  {
   "cell_type": "code",
   "execution_count": null,
   "metadata": {},
   "outputs": [],
   "source": []
  },
  {
   "cell_type": "code",
   "execution_count": null,
   "metadata": {},
   "outputs": [],
   "source": []
  },
  {
   "cell_type": "code",
   "execution_count": 17,
   "metadata": {},
   "outputs": [],
   "source": [
    "import graphviz\n",
    "from typing import Dict, Any\n",
    "\n",
    "def generate_statechart(machine: Dict[str, Any], filename: str = \"statechart\", fmt: str = \"png\") -> graphviz.Digraph:\n",
    "    \"\"\"\n",
    "    Generates a statechart diagram (Graphviz Digraph) from the provided state machine structure.\n",
    "    \n",
    "    Args:\n",
    "        machine: The state machine definition dictionary.\n",
    "        filename: The output filename (without extension).\n",
    "        fmt: The output format (png, pdf, svg, etc.).\n",
    "    \n",
    "    Returns:\n",
    "        A graphviz.Digraph object.\n",
    "    \"\"\"\n",
    "    dot = graphviz.Digraph(comment=\"Statechart\")\n",
    "    \n",
    "    # Creates a unique node identifier by joining parent and current names\n",
    "    def node_id(parent: str, name: str) -> str:\n",
    "        return f\"{parent}.{name}\" if parent else name\n",
    "    \n",
    "    # Recursively add states and their transitions\n",
    "    def add_state(name: str, state: Dict[str, Any], parent: str):\n",
    "        current_id = node_id(parent, name)\n",
    "        dot.node(current_id, label=name)\n",
    "        \n",
    "        # Process \"on\" transitions (event-triggered transitions)\n",
    "        if \"on\" in state:\n",
    "            for event, target in state[\"on\"].items():\n",
    "                target_id = node_id(parent, target)\n",
    "                dot.edge(current_id, target_id, label=event)\n",
    "        \n",
    "        # Process \"always\" transitions (unconditional transitions)\n",
    "        if \"always\" in state and \"target\" in state[\"always\"]:\n",
    "            target = state[\"always\"][\"target\"]\n",
    "            target_id = node_id(parent, target)\n",
    "            dot.edge(current_id, target_id, label=\"always\", style=\"dashed\")\n",
    "    \n",
    "        # Process nested states. A dotted arrow indicates the initial state if provided.\n",
    "        if \"states\" in state:\n",
    "            # If the parent state specifies an initial child state, mark it.\n",
    "            initial = state.get(\"initial\")\n",
    "            for child_name, child_state in state[\"states\"].items():\n",
    "                child_id = node_id(current_id, child_name)\n",
    "                add_state(child_name, child_state, current_id)\n",
    "                if initial == child_name:\n",
    "                    dot.edge(current_id, child_id, label=\"initial\", style=\"dotted\")\n",
    "    \n",
    "    # Create a root node representing the top-level of the state machine.\n",
    "    root_id = \"root\"\n",
    "    dot.node(root_id, label=\"root\", shape=\"ellipse\")\n",
    "    \n",
    "    # Process any top-level transitions from machine[\"on\"] if provided.\n",
    "    if \"on\" in machine:\n",
    "        for event, target in machine[\"on\"].items():\n",
    "            target_id = node_id(root_id, target)\n",
    "            dot.edge(root_id, target_id, label=event)\n",
    "    \n",
    "    # Process top-level states.\n",
    "    if \"states\" in machine:\n",
    "        for state_name, state in machine[\"states\"].items():\n",
    "            add_state(state_name, state, root_id)\n",
    "    \n",
    "    # Optional: add a start pseudo-node pointing to the root.\n",
    "    dot.node(\"start\", shape=\"point\")\n",
    "    dot.edge(\"start\", root_id, label=\"start\")\n",
    "    \n",
    "    dot.format = fmt\n",
    "    output_path = dot.render(filename, cleanup=True)\n",
    "    print(\"Statechart generated at\", output_path)\n",
    "    return dot"
   ]
  },
  {
   "cell_type": "code",
   "execution_count": null,
   "metadata": {},
   "outputs": [],
   "source": [
    "res_viz = generate_statechart(machine, \"fsm\", \"png\")"
   ]
  },
  {
   "cell_type": "code",
   "execution_count": null,
   "metadata": {},
   "outputs": [],
   "source": []
  },
  {
   "cell_type": "code",
   "execution_count": null,
   "metadata": {},
   "outputs": [],
   "source": []
  }
 ],
 "metadata": {
  "kernelspec": {
   "display_name": ".venv",
   "language": "python",
   "name": "python3"
  },
  "language_info": {
   "codemirror_mode": {
    "name": "ipython",
    "version": 3
   },
   "file_extension": ".py",
   "mimetype": "text/x-python",
   "name": "python",
   "nbconvert_exporter": "python",
   "pygments_lexer": "ipython3",
   "version": "3.12.8"
  }
 },
 "nbformat": 4,
 "nbformat_minor": 2
}
