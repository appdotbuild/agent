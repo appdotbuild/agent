{
 "cells": [
  {
   "cell_type": "code",
   "execution_count": 19,
   "metadata": {},
   "outputs": [],
   "source": [
    "from core import Compiler"
   ]
  },
  {
   "cell_type": "code",
   "execution_count": 20,
   "metadata": {},
   "outputs": [],
   "source": [
    "drizzle_schema = \"\"\"\n",
    "import { integer, pgTable, text } from \"drizzle-orm/pg-core\";\n",
    "\n",
    "export const gymEquipmentTable = pgTable(\"gym_equipment\", {\n",
    "    id: integer().primaryKey().generatedAlwaysAsIdentity(),\n",
    "    name: text(),\n",
    "    description: text(),\n",
    "    price: integer(),\n",
    "    stock: integer(),\n",
    "});\n",
    "\"\"\".strip()"
   ]
  },
  {
   "cell_type": "code",
   "execution_count": 21,
   "metadata": {},
   "outputs": [],
   "source": [
    "compiler = Compiler(\"botbuild/tsp_compiler\", \"botbuild/app_schema\")"
   ]
  },
  {
   "cell_type": "code",
   "execution_count": 22,
   "metadata": {},
   "outputs": [],
   "source": [
    "result = compiler.compile_drizzle(drizzle_schema)"
   ]
  },
  {
   "cell_type": "code",
   "execution_count": 23,
   "metadata": {},
   "outputs": [
    {
     "data": {
      "text/plain": [
       "{'exit_code': 1,\n",
       " 'stdout': 'No config path provided, using default \\'drizzle.config.ts\\'\\nReading config file \\'/app/drizzle.config.ts\\'\\nError  Either connection \"url\" or \"host\", \"database\" are required for PostgreSQL database connection\\n',\n",
       " 'stderr': None}"
      ]
     },
     "execution_count": 23,
     "metadata": {},
     "output_type": "execute_result"
    }
   ],
   "source": [
    "result"
   ]
  },
  {
   "cell_type": "code",
   "execution_count": 24,
   "metadata": {},
   "outputs": [
    {
     "name": "stdout",
     "output_type": "stream",
     "text": [
      "No config path provided, using default 'drizzle.config.ts'\n",
      "Reading config file '/app/drizzle.config.ts'\n",
      "Error  Either connection \"url\" or \"host\", \"database\" are required for PostgreSQL database connection\n",
      "\n"
     ]
    }
   ],
   "source": [
    "print(result[\"stdout\"])"
   ]
  },
  {
   "cell_type": "code",
   "execution_count": 25,
   "metadata": {},
   "outputs": [],
   "source": [
    "typespec_schema = \"\"\"\n",
    "import \"./helpers.js\";\n",
    "\n",
    "extern dec llm_func(target: unknown, history: valueof int32);\n",
    "\n",
    "//{{typespec_definitions}}\n",
    "\"\"\".strip()"
   ]
  },
  {
   "cell_type": "code",
   "execution_count": 26,
   "metadata": {},
   "outputs": [],
   "source": [
    "result = compiler.compile_typespec(typespec_schema)"
   ]
  },
  {
   "cell_type": "code",
   "execution_count": 27,
   "metadata": {},
   "outputs": [
    {
     "data": {
      "text/plain": [
       "{'exit_code': 0,\n",
       " 'stdout': 'TypeSpec compiler v0.64.0\\n\\nCompilation completed successfully.\\n\\n',\n",
       " 'stderr': None}"
      ]
     },
     "execution_count": 27,
     "metadata": {},
     "output_type": "execute_result"
    }
   ],
   "source": [
    "result"
   ]
  },
  {
   "cell_type": "markdown",
   "metadata": {},
   "source": [
    "## Test Server"
   ]
  },
  {
   "cell_type": "code",
   "execution_count": 28,
   "metadata": {},
   "outputs": [],
   "source": [
    "import requests"
   ]
  },
  {
   "cell_type": "code",
   "execution_count": 29,
   "metadata": {},
   "outputs": [],
   "source": [
    "ADDR = \"http://localhost:8080\" # assuming runs with HOST=0.0.0.0 PORT=8080"
   ]
  },
  {
   "cell_type": "code",
   "execution_count": 30,
   "metadata": {},
   "outputs": [],
   "source": [
    "drizzle_result = requests.post(\n",
    "    f\"{ADDR}/compile/drizzle\",\n",
    "    json={\"payload\": drizzle_schema},\n",
    ")"
   ]
  },
  {
   "cell_type": "code",
   "execution_count": 31,
   "metadata": {},
   "outputs": [
    {
     "data": {
      "text/plain": [
       "{'exit_code': 1,\n",
       " 'stdout': 'No config path provided, using default \\'drizzle.config.ts\\'\\nReading config file \\'/app/drizzle.config.ts\\'\\nError  Either connection \"url\" or \"host\", \"database\" are required for PostgreSQL database connection\\n',\n",
       " 'stderr': None}"
      ]
     },
     "execution_count": 31,
     "metadata": {},
     "output_type": "execute_result"
    }
   ],
   "source": [
    "drizzle_result.json()"
   ]
  },
  {
   "cell_type": "code",
   "execution_count": 32,
   "metadata": {},
   "outputs": [],
   "source": [
    "typespec_result = requests.post(\n",
    "    f\"{ADDR}/compile/typespec\",\n",
    "    json={\"payload\": typespec_schema},\n",
    ")"
   ]
  },
  {
   "cell_type": "code",
   "execution_count": 33,
   "metadata": {},
   "outputs": [
    {
     "data": {
      "text/plain": [
       "{'exit_code': 0,\n",
       " 'stdout': 'TypeSpec compiler v0.64.0\\n\\nCompilation completed successfully.\\n\\n',\n",
       " 'stderr': None}"
      ]
     },
     "execution_count": 33,
     "metadata": {},
     "output_type": "execute_result"
    }
   ],
   "source": [
    "typespec_result.json()"
   ]
  },
  {
   "cell_type": "code",
   "execution_count": null,
   "metadata": {},
   "outputs": [],
   "source": []
  }
 ],
 "metadata": {
  "kernelspec": {
   "display_name": ".venv",
   "language": "python",
   "name": "python3"
  },
  "language_info": {
   "codemirror_mode": {
    "name": "ipython",
    "version": 3
   },
   "file_extension": ".py",
   "mimetype": "text/x-python",
   "name": "python",
   "nbconvert_exporter": "python",
   "pygments_lexer": "ipython3",
   "version": "3.12.3"
  }
 },
 "nbformat": 4,
 "nbformat_minor": 2
}
