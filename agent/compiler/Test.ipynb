{
 "cells": [
  {
   "cell_type": "code",
   "execution_count": 1,
   "metadata": {},
   "outputs": [],
   "source": [
    "from core import Compiler"
   ]
  },
  {
   "cell_type": "code",
   "execution_count": 2,
   "metadata": {},
   "outputs": [],
   "source": [
    "drizzle_schema = \"\"\"\n",
    "import { integer, pgTable, text } from \"drizzle-orm/pg-core\";\n",
    "\n",
    "export const gymEquipmentTable = pgTable(\"gym_equipment\", {\n",
    "    id: integer().primaryKey().generatedAlwaysAsIdentity(),\n",
    "    name: text(),\n",
    "    description: text(),\n",
    "    price: integer(),\n",
    "    stock: integer(),\n",
    "});\n",
    "\"\"\".strip()"
   ]
  },
  {
   "cell_type": "code",
   "execution_count": 3,
   "metadata": {},
   "outputs": [],
   "source": [
    "compiler = Compiler(\"botbuild/tsp_compiler\", \"botbuild/app_schema\")"
   ]
  },
  {
   "cell_type": "code",
   "execution_count": 4,
   "metadata": {},
   "outputs": [],
   "source": [
    "result = compiler.compile_drizzle(drizzle_schema)"
   ]
  },
  {
   "cell_type": "code",
   "execution_count": 5,
   "metadata": {},
   "outputs": [
    {
     "data": {
      "text/plain": [
       "{'exit_code': 0,\n",
       " 'stdout': \"No config path provided, using default 'drizzle.config.ts'\\nReading config file '/app/drizzle.config.ts'\\nUsing 'pg' driver for database querying\\n[⣷] Pulling schema from database...\\n\\x1b[2K\\x1b[1G[✓] Pulling schema from database...\\n[✓] Changes applied\\n\",\n",
       " 'stderr': None}"
      ]
     },
     "execution_count": 5,
     "metadata": {},
     "output_type": "execute_result"
    }
   ],
   "source": [
    "result"
   ]
  },
  {
   "cell_type": "code",
   "execution_count": 6,
   "metadata": {},
   "outputs": [
    {
     "name": "stdout",
     "output_type": "stream",
     "text": [
      "No config path provided, using default 'drizzle.config.ts'\n",
      "Reading config file '/app/drizzle.config.ts'\n",
      "Using 'pg' driver for database querying\n",
      "[⣷] Pulling schema from database...\n",
      "\u001b[2K\u001b[1G[✓] Pulling schema from database...\n",
      "[✓] Changes applied\n",
      "\n"
     ]
    }
   ],
   "source": [
    "print(result[\"stdout\"])"
   ]
  },
  {
   "cell_type": "code",
   "execution_count": 7,
   "metadata": {},
   "outputs": [],
   "source": [
    "typespec_schema = \"\"\"\n",
    "import \"./helpers.js\";\n",
    "\n",
    "extern dec llm_func(target: unknown, history: valueof int32);\n",
    "\n",
    "//{{typespec_definitions}}\n",
    "\"\"\".strip()"
   ]
  },
  {
   "cell_type": "code",
   "execution_count": 8,
   "metadata": {},
   "outputs": [],
   "source": [
    "result = compiler.compile_typespec(typespec_schema)"
   ]
  },
  {
   "cell_type": "code",
   "execution_count": 9,
   "metadata": {},
   "outputs": [
    {
     "data": {
      "text/plain": [
       "{'exit_code': 0,\n",
       " 'stdout': 'TypeSpec compiler v0.64.0\\n\\nCompilation completed successfully.\\n\\n',\n",
       " 'stderr': None}"
      ]
     },
     "execution_count": 9,
     "metadata": {},
     "output_type": "execute_result"
    }
   ],
   "source": [
    "result"
   ]
  },
  {
   "cell_type": "code",
   "execution_count": 10,
   "metadata": {},
   "outputs": [],
   "source": [
    "typescript_files = {\n",
    "    \"src/logic/index.ts\": \"this should fail\"\n",
    "}"
   ]
  },
  {
   "cell_type": "code",
   "execution_count": 11,
   "metadata": {},
   "outputs": [],
   "source": [
    "result = compiler.compile_typescript(typescript_files)"
   ]
  },
  {
   "cell_type": "code",
   "execution_count": 12,
   "metadata": {},
   "outputs": [
    {
     "data": {
      "text/plain": [
       "{'exit_code': 2,\n",
       " 'stdout': \"src/logic/index.ts(1,6): error TS1005: ';' expected.\\n\",\n",
       " 'stderr': None}"
      ]
     },
     "execution_count": 12,
     "metadata": {},
     "output_type": "execute_result"
    }
   ],
   "source": [
    "result"
   ]
  },
  {
   "cell_type": "code",
   "execution_count": 13,
   "metadata": {},
   "outputs": [],
   "source": [
    "typescript_files[\"src/logic/index.ts\"] = '''\n",
    "import { GenericHandler } from \"../common/handler\";\n",
    "import { dummyHandler } from \"./dummy_handler\";\n",
    "\n",
    "export const handlers: {[key: string]: GenericHandler<any[], any>} = {\n",
    "    'dummy': dummyHandler,\n",
    "};\n",
    "'''.strip()"
   ]
  },
  {
   "cell_type": "code",
   "execution_count": 14,
   "metadata": {},
   "outputs": [],
   "source": [
    "result = compiler.compile_typescript(typescript_files)"
   ]
  },
  {
   "cell_type": "code",
   "execution_count": 15,
   "metadata": {},
   "outputs": [
    {
     "data": {
      "text/plain": [
       "{'exit_code': 0, 'stdout': None, 'stderr': None}"
      ]
     },
     "execution_count": 15,
     "metadata": {},
     "output_type": "execute_result"
    }
   ],
   "source": [
    "result"
   ]
  },
  {
   "cell_type": "markdown",
   "metadata": {},
   "source": [
    "## Test Server"
   ]
  },
  {
   "cell_type": "code",
   "execution_count": 16,
   "metadata": {},
   "outputs": [],
   "source": [
    "import requests"
   ]
  },
  {
   "cell_type": "code",
   "execution_count": 17,
   "metadata": {},
   "outputs": [],
   "source": [
    "ADDR = \"http://localhost:8080\" # assuming runs with HOST=0.0.0.0 PORT=8080"
   ]
  },
  {
   "cell_type": "code",
   "execution_count": 18,
   "metadata": {},
   "outputs": [],
   "source": [
    "drizzle_result = requests.post(\n",
    "    f\"{ADDR}/compile/drizzle\",\n",
    "    json={\"payload\": drizzle_schema},\n",
    ")"
   ]
  },
  {
   "cell_type": "code",
   "execution_count": 19,
   "metadata": {},
   "outputs": [
    {
     "data": {
      "text/plain": [
       "{'exit_code': 0,\n",
       " 'stdout': \"No config path provided, using default 'drizzle.config.ts'\\nReading config file '/app/drizzle.config.ts'\\nUsing 'pg' driver for database querying\\n[⣷] Pulling schema from database...\\n\\x1b[2K\\x1b[1G[✓] Pulling schema from database...\\n[✓] Changes applied\\n\",\n",
       " 'stderr': None}"
      ]
     },
     "execution_count": 19,
     "metadata": {},
     "output_type": "execute_result"
    }
   ],
   "source": [
    "drizzle_result.json()"
   ]
  },
  {
   "cell_type": "code",
   "execution_count": 20,
   "metadata": {},
   "outputs": [],
   "source": [
    "typespec_result = requests.post(\n",
    "    f\"{ADDR}/compile/typespec\",\n",
    "    json={\"payload\": typespec_schema},\n",
    ")"
   ]
  },
  {
   "cell_type": "code",
   "execution_count": 21,
   "metadata": {},
   "outputs": [
    {
     "data": {
      "text/plain": [
       "{'exit_code': 0,\n",
       " 'stdout': 'TypeSpec compiler v0.64.0\\n\\nCompilation completed successfully.\\n\\n',\n",
       " 'stderr': None}"
      ]
     },
     "execution_count": 21,
     "metadata": {},
     "output_type": "execute_result"
    }
   ],
   "source": [
    "typespec_result.json()"
   ]
  },
  {
   "cell_type": "code",
   "execution_count": 22,
   "metadata": {},
   "outputs": [],
   "source": [
    "typescript_result = requests.post(\n",
    "    f\"{ADDR}/compile/typescript\",\n",
    "    json={\"payload\": typescript_files},\n",
    ")"
   ]
  },
  {
   "cell_type": "code",
   "execution_count": 23,
   "metadata": {},
   "outputs": [
    {
     "data": {
      "text/plain": [
       "{'exit_code': 0, 'stdout': None, 'stderr': None}"
      ]
     },
     "execution_count": 23,
     "metadata": {},
     "output_type": "execute_result"
    }
   ],
   "source": [
    "typescript_result.json()"
   ]
  }
 ],
 "metadata": {
  "kernelspec": {
   "display_name": ".venv",
   "language": "python",
   "name": "python3"
  },
  "language_info": {
   "codemirror_mode": {
    "name": "ipython",
    "version": 3
   },
   "file_extension": ".py",
   "mimetype": "text/x-python",
   "name": "python",
   "nbconvert_exporter": "python",
   "pygments_lexer": "ipython3",
   "version": "3.12.8"
  }
 },
 "nbformat": 4,
 "nbformat_minor": 2
}
