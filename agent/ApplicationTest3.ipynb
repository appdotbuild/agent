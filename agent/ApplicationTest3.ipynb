{
 "cells": [
  {
   "cell_type": "code",
   "execution_count": 2,
   "metadata": {},
   "outputs": [],
   "source": [
    "from langfuse import Langfuse\n",
    "from anthropic import AnthropicBedrock\n",
    "from compiler.core import Compiler\n",
    "from application3 import Application3"
   ]
  },
  {
   "cell_type": "code",
   "execution_count": 3,
   "metadata": {},
   "outputs": [],
   "source": [
    "langfuse_client = Langfuse()\n",
    "compiler = Compiler(\"botbuild/tsp_compiler\", \"botbuild/app_schema\")\n",
    "m_claude = AnthropicBedrock(aws_profile=\"dev\", aws_region=\"us-west-2\")"
   ]
  },
  {
   "cell_type": "code",
   "execution_count": 4,
   "metadata": {},
   "outputs": [],
   "source": [
    "builder = Application3(m_claude, compiler)"
   ]
  },
  {
   "cell_type": "code",
   "execution_count": 5,
   "metadata": {},
   "outputs": [
    {
     "name": "stdout",
     "output_type": "stream",
     "text": [
      "Processing transition: [] FsmState.TYPESPEC\n",
      "Processing transition: [<FsmState.TYPESPEC: 'typespec'>] FsmState.WAIT\n",
      "{'user_requests': ['bot that greets me by name'], 'typespec_schema': <fsm_core.typespec.Success object at 0xffff9b566630>}\n"
     ]
    }
   ],
   "source": [
    "prepare_res = builder.prepare_bot([\"bot that greets me by name\"], bot_id=\"1337_420\", capabilities=[])"
   ]
  },
  {
   "cell_type": "code",
   "execution_count": 7,
   "metadata": {},
   "outputs": [
    {
     "data": {
      "text/plain": [
       "{'capabilities': [], 'typespec': <fsm_core.typespec.Success at 0xffff9b566630>}"
      ]
     },
     "execution_count": 7,
     "metadata": {},
     "output_type": "execute_result"
    }
   ],
   "source": [
    "prepare_res"
   ]
  },
  {
   "cell_type": "code",
   "metadata": {},
   "outputs": [],
   "source": "prepare_res.typespec.typespec_definitions"
  },
  {
   "cell_type": "code",
   "metadata": {},
   "outputs": [],
   "source": "reasoning = prepare_res.typespec.reasoning\ntypespec_schema = prepare_res.typespec.typespec_definitions\nfake_msg = f\"<reasoning>{reasoning}</reasoning><typespec>{typespec_schema}</typespec>\""
  },
  {
   "cell_type": "code",
   "execution_count": 14,
   "metadata": {},
   "outputs": [
    {
     "name": "stdout",
     "output_type": "stream",
     "text": [
      "Processing transition: [] FsmState.DRIZZLE\n",
      "Processing transition: [<FsmState.DRIZZLE: 'drizzle'>] FsmState.TYPESCRIPT\n",
      "Processing transition: [<FsmState.TYPESCRIPT: 'typescript'>] FsmState.HANDLER_TESTS\n",
      "Processing transition: [<FsmState.HANDLER_TESTS: 'handler_tests'>] handlers\n",
      "Processing transition: [<FsmState.HANDLERS: 'handlers'>] FsmState.COMPLETE\n"
     ]
    }
   ],
   "source": [
    "final_res = builder.update_bot(\n",
    "    typespec_schema=fake_msg,\n",
    "    bot_id=\"1337_420\",\n",
    "    capabilities=[],\n",
    ")"
   ]
  },
  {
   "cell_type": "code",
   "metadata": {},
   "outputs": [],
   "source": "final_res"
  },
  {
   "cell_type": "code",
   "execution_count": null,
   "metadata": {},
   "outputs": [],
   "source": []
  }
 ],
 "metadata": {
  "kernelspec": {
   "display_name": ".venv",
   "language": "python",
   "name": "python3"
  },
  "language_info": {
   "codemirror_mode": {
    "name": "ipython",
    "version": 3
   },
   "file_extension": ".py",
   "mimetype": "text/x-python",
   "name": "python",
   "nbconvert_exporter": "python",
   "pygments_lexer": "ipython3",
   "version": "3.12.8"
  }
 },
 "nbformat": 4,
 "nbformat_minor": 2
}