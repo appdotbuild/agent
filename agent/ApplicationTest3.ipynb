{
 "cells": [
  {
   "cell_type": "code",
   "execution_count": 2,
   "metadata": {},
   "outputs": [],
   "source": [
    "from langfuse import Langfuse\n",
    "from anthropic import AnthropicBedrock\n",
    "from compiler.core import Compiler\n",
    "from application import Application"
   ]
  },
  {
   "cell_type": "code",
   "execution_count": 3,
   "metadata": {},
   "outputs": [
    {
     "name": "stderr",
     "output_type": "stream",
     "text": [
      "Langfuse client is disabled since no public_key was provided as a parameter or environment variable 'LANGFUSE_PUBLIC_KEY'. See our docs: https://langfuse.com/docs/sdk/python/low-level-sdk#initialize-client\n"
     ]
    }
   ],
   "source": [
    "langfuse_client = Langfuse()\n",
    "compiler = Compiler(\"botbuild/tsp_compiler\", \"botbuild/app_schema\")\n",
    "m_claude = AnthropicBedrock(aws_profile=\"dev\", aws_region=\"us-west-2\")"
   ]
  },
  {
   "cell_type": "code",
   "execution_count": 6,
   "metadata": {},
   "outputs": [
    {
     "name": "stderr",
     "output_type": "stream",
     "text": [
      "Langfuse client is disabled since no public_key was provided as a parameter or environment variable 'LANGFUSE_PUBLIC_KEY'. See our docs: https://langfuse.com/docs/sdk/python/low-level-sdk#initialize-client\n"
     ]
    }
   ],
   "source": [
    "builder = Application(m_claude, compiler)"
   ]
  },
  {
   "cell_type": "code",
   "execution_count": 7,
   "metadata": {},
   "outputs": [
    {
     "name": "stdout",
     "output_type": "stream",
     "text": [
      "Processing transition: [] FsmState.TYPESPEC\n",
      "Processing transition: [<FsmState.TYPESPEC: 'typespec'>] FsmState.WAIT\n",
      "{'description': '', 'user_requests': ['bot that greets me by name'], 'typespec_schema': <fsm_core.typespec.Success object at 0x7f28d815e600>}\n"
     ]
    }
   ],
   "source": [
    "prepare_res = builder.prepare_bot([\"bot that greets me by name\"], bot_id=\"1337_420\", capabilities=[])"
   ]
  },
  {
   "cell_type": "code",
   "execution_count": 8,
   "metadata": {},
   "outputs": [
    {
     "data": {
      "text/plain": [
       "ApplicationPrepareOut(refined_description=RefineOut(refined_description='', error_output=None), capabilities=CapabilitiesOut(capabilities=[], error_output=None), typespec=TypespecOut(reasoning=\"Based on the user request, I need to design a simple greeter bot that can:\\n1. Store and retrieve user names\\n2. Generate personalized greetings for users\\n3. Update a user's name if they want to change it\\n\\nFrom the request, I infer the primary function is greeting by name, which implies at minimum we need:\\n- A function to set/update the user's name\\n- A function to generate a greeting with the stored name\\n\\nFor the models:\\n- We need a model to represent a user (with at minimum a name property)\\n- We need a model for the greeting request (which might include time of day or other context)\\n- We need a model for updating user information\\n\\nThe interface should be focused on greeting functionality with appropriate scenarios.\", typespec_definitions='model User {\\n  name: string;\\n}\\n\\nmodel GreetingRequest {\\n  timeOfDay?: string;\\n  includeFormalTitle?: boolean;\\n}\\n\\nmodel UpdateUserRequest {\\n  currentName: string;\\n  newName: string;\\n}\\n\\ninterface GreeterBot {\\n  @scenario(\\n  \"\"\"\\n  Scenario: Greeting a user by name\\n  When user says \"Hello, my name is John\"\\n  Then system should extract:\\n    - Name: \"John\"\\n  And respond with a personalized greeting\\n  Examples:\\n    | Input                       | Expected Response             |\\n    | \"Hi, I\\'m Sarah\"             | \"Hello, Sarah! Nice to meet you!\" |\\n    | \"Call me Dr. Smith\"         | \"Hello, Dr. Smith! How are you today?\" |\\n  \"\"\")\\n  @llm_func(\"Store a user\\'s name and generate a personalized greeting\")\\n  setUserName(options: User): string;\\n\\n  @scenario(\\n  \"\"\"\\n  Scenario: Generating greeting with context\\n  When user asks \"Greet me\"\\n  Then system should use stored name and context to create greeting\\n  Examples:\\n    | Stored Name | Time of Day | Expected Response           |\\n    | \"John\"      | \"morning\"   | \"Good morning, John!\"       |\\n    | \"Emma\"      | \"evening\"   | \"Good evening, Emma!\"       |\\n  \"\"\")\\n  @scenario(\\n  \"\"\"\\n  Scenario: Greeting with formal title\\n  When user requests formal greeting\\n  Then system should include appropriate honorifics\\n  Examples:\\n    | Stored Name | Formal Title | Expected Response            |\\n    | \"Smith\"     | true         | \"Greetings, Mr./Ms. Smith\"   |\\n    | \"Johnson\"   | false        | \"Hey Johnson!\"               |\\n  \"\"\")\\n  @llm_func(\"Generate a personalized greeting using stored name and context\")\\n  greetUser(options: GreetingRequest): string;\\n\\n  @scenario(\\n  \"\"\"\\n  Scenario: Updating user name\\n  When user says \"Change my name from John to Jonathan\"\\n  Then system should update the stored name\\n  Examples:\\n    | Current Name | New Name    | Expected Response                  |\\n    | \"John\"       | \"Jonathan\"  | \"Updated your name to Jonathan\"    |\\n    | \"Kate\"       | \"Katherine\" | \"I\\'ll call you Katherine from now on\" |\\n  \"\"\")\\n  @llm_func(\"Update a user\\'s stored name\")\\n  updateUserName(options: UpdateUserRequest): string;\\n}', llm_functions=[LLMFunction(name='setUserName', description=\"Store a user's name and generate a personalized greeting\", scenario='Scenario: Greeting a user by name\\n  When user says \"Hello, my name is John\"\\n  Then system should extract:\\n    - Name: \"John\"\\n  And respond with a personalized greeting\\n  Examples:\\n    | Input                       | Expected Response             |\\n    | \"Hi, I\\'m Sarah\"             | \"Hello, Sarah! Nice to meet you!\" |\\n    | \"Call me Dr. Smith\"         | \"Hello, Dr. Smith! How are you today?\" |'), LLMFunction(name='greetUser', description='Generate a personalized greeting using stored name and context', scenario='Scenario: Generating greeting with context\\n  When user asks \"Greet me\"\\n  Then system should use stored name and context to create greeting\\n  Examples:\\n    | Stored Name | Time of Day | Expected Response           |\\n    | \"John\"      | \"morning\"   | \"Good morning, John!\"       |\\n    | \"Emma\"      | \"evening\"   | \"Good evening, Emma!\"       |\\n  \"\"\")\\n  @scenario(\\n  \"\"\"\\n  Scenario: Greeting with formal title\\n  When user requests formal greeting\\n  Then system should include appropriate honorifics\\n  Examples:\\n    | Stored Name | Formal Title | Expected Response            |\\n    | \"Smith\"     | true         | \"Greetings, Mr./Ms. Smith\"   |\\n    | \"Johnson\"   | false        | \"Hey Johnson!\"               |'), LLMFunction(name='updateUserName', description=\"Update a user's stored name\", scenario='Scenario: Updating user name\\n  When user says \"Change my name from John to Jonathan\"\\n  Then system should update the stored name\\n  Examples:\\n    | Current Name | New Name    | Expected Response                  |\\n    | \"John\"       | \"Jonathan\"  | \"Updated your name to Jonathan\"    |\\n    | \"Kate\"       | \"Katherine\" | \"I\\'ll call you Katherine from now on\" |')], error_output=None))"
      ]
     },
     "execution_count": 8,
     "metadata": {},
     "output_type": "execute_result"
    }
   ],
   "source": [
    "prepare_res"
   ]
  },
  {
   "cell_type": "code",
   "execution_count": 9,
   "metadata": {},
   "outputs": [
    {
     "data": {
      "text/plain": [
       "'model User {\\n  name: string;\\n}\\n\\nmodel GreetingRequest {\\n  timeOfDay?: string;\\n  includeFormalTitle?: boolean;\\n}\\n\\nmodel UpdateUserRequest {\\n  currentName: string;\\n  newName: string;\\n}\\n\\ninterface GreeterBot {\\n  @scenario(\\n  \"\"\"\\n  Scenario: Greeting a user by name\\n  When user says \"Hello, my name is John\"\\n  Then system should extract:\\n    - Name: \"John\"\\n  And respond with a personalized greeting\\n  Examples:\\n    | Input                       | Expected Response             |\\n    | \"Hi, I\\'m Sarah\"             | \"Hello, Sarah! Nice to meet you!\" |\\n    | \"Call me Dr. Smith\"         | \"Hello, Dr. Smith! How are you today?\" |\\n  \"\"\")\\n  @llm_func(\"Store a user\\'s name and generate a personalized greeting\")\\n  setUserName(options: User): string;\\n\\n  @scenario(\\n  \"\"\"\\n  Scenario: Generating greeting with context\\n  When user asks \"Greet me\"\\n  Then system should use stored name and context to create greeting\\n  Examples:\\n    | Stored Name | Time of Day | Expected Response           |\\n    | \"John\"      | \"morning\"   | \"Good morning, John!\"       |\\n    | \"Emma\"      | \"evening\"   | \"Good evening, Emma!\"       |\\n  \"\"\")\\n  @scenario(\\n  \"\"\"\\n  Scenario: Greeting with formal title\\n  When user requests formal greeting\\n  Then system should include appropriate honorifics\\n  Examples:\\n    | Stored Name | Formal Title | Expected Response            |\\n    | \"Smith\"     | true         | \"Greetings, Mr./Ms. Smith\"   |\\n    | \"Johnson\"   | false        | \"Hey Johnson!\"               |\\n  \"\"\")\\n  @llm_func(\"Generate a personalized greeting using stored name and context\")\\n  greetUser(options: GreetingRequest): string;\\n\\n  @scenario(\\n  \"\"\"\\n  Scenario: Updating user name\\n  When user says \"Change my name from John to Jonathan\"\\n  Then system should update the stored name\\n  Examples:\\n    | Current Name | New Name    | Expected Response                  |\\n    | \"John\"       | \"Jonathan\"  | \"Updated your name to Jonathan\"    |\\n    | \"Kate\"       | \"Katherine\" | \"I\\'ll call you Katherine from now on\" |\\n  \"\"\")\\n  @llm_func(\"Update a user\\'s stored name\")\\n  updateUserName(options: UpdateUserRequest): string;\\n}'"
      ]
     },
     "execution_count": 9,
     "metadata": {},
     "output_type": "execute_result"
    }
   ],
   "source": [
    "prepare_res.typespec.typespec_definitions"
   ]
  },
  {
   "cell_type": "code",
   "execution_count": 10,
   "metadata": {},
   "outputs": [],
   "source": [
    "reasoning = prepare_res.typespec.reasoning\n",
    "typespec_schema = prepare_res.typespec.typespec_definitions\n",
    "fake_msg = f\"<reasoning>{reasoning}</reasoning><typespec>{typespec_schema}</typespec>\""
   ]
  },
  {
   "cell_type": "code",
   "execution_count": 11,
   "metadata": {},
   "outputs": [
    {
     "name": "stdout",
     "output_type": "stream",
     "text": [
      "Typespec schema: <reasoning>Based on the user request, I need to design a simple greeter bot that can:\n",
      "1. Store and retrieve user names\n",
      "2. Generate personalized greetings for users\n",
      "3. Update a user's name if they want to change it\n",
      "\n",
      "From the request, I infer the primary function is greeting by name, which implies at minimum we need:\n",
      "- A function to set/update the user's name\n",
      "- A function to generate a greeting with the stored name\n",
      "\n",
      "For the models:\n",
      "- We need a model to represent a user (with at minimum a name property)\n",
      "- We need a model for the greeting request (which might include time of day or other context)\n",
      "- We need a model for updating user information\n",
      "\n",
      "The interface should be focused on greeting functionality with appropriate scenarios.</reasoning><typespec>model User {\n",
      "  name: string;\n",
      "}\n",
      "\n",
      "model GreetingRequest {\n",
      "  timeOfDay?: string;\n",
      "  includeFormalTitle?: boolean;\n",
      "}\n",
      "\n",
      "model UpdateUserRequest {\n",
      "  currentName: string;\n",
      "  newName: string;\n",
      "}\n",
      "\n",
      "interface GreeterBot {\n",
      "  @scenario(\n",
      "  \"\"\"\n",
      "  Scenario: Greeting a user by name\n",
      "  When user says \"Hello, my name is John\"\n",
      "  Then system should extract:\n",
      "    - Name: \"John\"\n",
      "  And respond with a personalized greeting\n",
      "  Examples:\n",
      "    | Input                       | Expected Response             |\n",
      "    | \"Hi, I'm Sarah\"             | \"Hello, Sarah! Nice to meet you!\" |\n",
      "    | \"Call me Dr. Smith\"         | \"Hello, Dr. Smith! How are you today?\" |\n",
      "  \"\"\")\n",
      "  @llm_func(\"Store a user's name and generate a personalized greeting\")\n",
      "  setUserName(options: User): string;\n",
      "\n",
      "  @scenario(\n",
      "  \"\"\"\n",
      "  Scenario: Generating greeting with context\n",
      "  When user asks \"Greet me\"\n",
      "  Then system should use stored name and context to create greeting\n",
      "  Examples:\n",
      "    | Stored Name | Time of Day | Expected Response           |\n",
      "    | \"John\"      | \"morning\"   | \"Good morning, John!\"       |\n",
      "    | \"Emma\"      | \"evening\"   | \"Good evening, Emma!\"       |\n",
      "  \"\"\")\n",
      "  @scenario(\n",
      "  \"\"\"\n",
      "  Scenario: Greeting with formal title\n",
      "  When user requests formal greeting\n",
      "  Then system should include appropriate honorifics\n",
      "  Examples:\n",
      "    | Stored Name | Formal Title | Expected Response            |\n",
      "    | \"Smith\"     | true         | \"Greetings, Mr./Ms. Smith\"   |\n",
      "    | \"Johnson\"   | false        | \"Hey Johnson!\"               |\n",
      "  \"\"\")\n",
      "  @llm_func(\"Generate a personalized greeting using stored name and context\")\n",
      "  greetUser(options: GreetingRequest): string;\n",
      "\n",
      "  @scenario(\n",
      "  \"\"\"\n",
      "  Scenario: Updating user name\n",
      "  When user says \"Change my name from John to Jonathan\"\n",
      "  Then system should update the stored name\n",
      "  Examples:\n",
      "    | Current Name | New Name    | Expected Response                  |\n",
      "    | \"John\"       | \"Jonathan\"  | \"Updated your name to Jonathan\"    |\n",
      "    | \"Kate\"       | \"Katherine\" | \"I'll call you Katherine from now on\" |\n",
      "  \"\"\")\n",
      "  @llm_func(\"Update a user's stored name\")\n",
      "  updateUserName(options: UpdateUserRequest): string;\n",
      "}</typespec>\n",
      "Processing transition: [] FsmState.DRIZZLE\n",
      "Processing transition: [<FsmState.DRIZZLE: 'drizzle'>] FsmState.TYPESCRIPT\n",
      "Processing transition: [<FsmState.TYPESCRIPT: 'typescript'>] FsmState.HANDLER_TESTS\n",
      "Processing transition: [<FsmState.HANDLER_TESTS: 'handler_tests'>] FsmState.HANDLERS\n",
      "Processing transition: [<FsmState.HANDLERS: 'handlers'>] FsmState.COMPLETE\n"
     ]
    }
   ],
   "source": [
    "final_res = builder.update_bot(\n",
    "    typespec_schema=fake_msg,\n",
    "    bot_id=\"1337_420\",\n",
    "    capabilities=[],\n",
    ")"
   ]
  },
  {
   "cell_type": "code",
   "execution_count": 9,
   "metadata": {},
   "outputs": [
    {
     "data": {
      "text/plain": [
       "ApplicationOut(refined_description=RefineOut(refined_description='', error_output=None), capabilities=CapabilitiesOut(capabilities=[], error_output=None), typespec=TypespecOut(reasoning=\"Based on the conversation, I need to create a simple greeting bot that greets users by their name. The bot should be able to:\\n1. Greet a user by name\\n2. Remember a user's name for future interactions\\n3. Update a user's name if they want to change it\\n\\nThe main models needed would be:\\n- A model for storing user information (name)\\n- A model for greeting options/parameters\\n\\nThe interface should have functions for:\\n- Setting/saving a user's name\\n- Retrieving a greeting with the user's name\\n- Updating a user's name if needed\\n\\nEach function will need scenarios to illustrate usage.\", typespec_definitions='model UserInfo {\\n    name: string;\\n}\\n\\nmodel GreetingOptions {\\n    timeOfDay: string;\\n    isFirstTime: boolean;\\n}\\n\\nmodel UpdateNameOptions {\\n    currentName: string;\\n    newName: string;\\n}\\n\\ninterface GreetingBot {\\n    @scenario(\\n    \"\"\"\\n    Scenario: Set user name for the first time\\n    When user says \"My name is John\"\\n    Then system should save the name \"John\"\\n    And respond with a greeting using that name\\n    Examples:\\n        | Input                      | Expected Name |\\n        | \"Hi, I\\'m Sarah\"            | \"Sarah\"       |\\n        | \"Call me Alex please\"      | \"Alex\"        |\\n        | \"My name is David Johnson\" | \"David Johnson\" |\\n    \"\"\")\\n    @llm_func(\"Save user\\'s name for personalized greetings\")\\n    saveUserName(options: UserInfo): void;\\n\\n    @scenario(\\n    \"\"\"\\n    Scenario: Greet user with saved name\\n    When user initiates conversation\\n    Then system should greet user by their saved name\\n    Examples:\\n        | Saved Name | Time of Day | Expected Greeting                  |\\n        | \"Maria\"    | \"morning\"   | \"Good morning, Maria!\"             |\\n        | \"Tom\"      | \"evening\"   | \"Good evening, Tom!\"               |\\n        | \"Emma\"     | \"afternoon\" | \"Good afternoon, Emma!\"            |\\n    \"\"\")\\n    @llm_func(\"Generate personalized greeting based on user name and time of day\")\\n    greetUser(options: GreetingOptions): string;\\n\\n    @scenario(\\n    \"\"\"\\n    Scenario: Update user\\'s name\\n    When user says \"Actually, call me Robert instead of Bob\"\\n    Then system should update user name from \"Bob\" to \"Robert\"\\n    And confirm the change\\n    Examples:\\n        | Current Name | New Name  | Expected Response                  |\\n        | \"Bob\"        | \"Robert\"  | \"I\\'ll call you Robert from now on\" |\\n        | \"Jennifer\"   | \"Jen\"     | \"I\\'ll call you Jen from now on\"    |\\n        | \"Michael\"    | \"Mike\"    | \"I\\'ll call you Mike from now on\"   |\\n    \"\"\")\\n    @llm_func(\"Update existing user name with a new name\")\\n    updateName(options: UpdateNameOptions): void;\\n}', llm_functions=[LLMFunction(name='saveUserName', description=\"Save user's name for personalized greetings\", scenario='Scenario: Set user name for the first time\\n    When user says \"My name is John\"\\n    Then system should save the name \"John\"\\n    And respond with a greeting using that name\\n    Examples:\\n        | Input                      | Expected Name |\\n        | \"Hi, I\\'m Sarah\"            | \"Sarah\"       |\\n        | \"Call me Alex please\"      | \"Alex\"        |\\n        | \"My name is David Johnson\" | \"David Johnson\" |'), LLMFunction(name='greetUser', description='Generate personalized greeting based on user name and time of day', scenario='Scenario: Greet user with saved name\\n    When user initiates conversation\\n    Then system should greet user by their saved name\\n    Examples:\\n        | Saved Name | Time of Day | Expected Greeting                  |\\n        | \"Maria\"    | \"morning\"   | \"Good morning, Maria!\"             |\\n        | \"Tom\"      | \"evening\"   | \"Good evening, Tom!\"               |\\n        | \"Emma\"     | \"afternoon\" | \"Good afternoon, Emma!\"            |'), LLMFunction(name='updateName', description='Update existing user name with a new name', scenario='Scenario: Update user\\'s name\\n    When user says \"Actually, call me Robert instead of Bob\"\\n    Then system should update user name from \"Bob\" to \"Robert\"\\n    And confirm the change\\n    Examples:\\n        | Current Name | New Name  | Expected Response                  |\\n        | \"Bob\"        | \"Robert\"  | \"I\\'ll call you Robert from now on\" |\\n        | \"Jennifer\"   | \"Jen\"     | \"I\\'ll call you Jen from now on\"    |\\n        | \"Michael\"    | \"Mike\"    | \"I\\'ll call you Mike from now on\"   |')], error_output=None), drizzle=DrizzleOut(reasoning=\"Looking at the TypeSpec definition, we have:\\n\\n1. A `GreetingBot` interface that manages user names and generates personalized greetings\\n2. Three main operations:\\n   - `saveUserName`: Stores a user's name\\n   - `greetUser`: Generates greetings based on name and time of day\\n   - `updateName`: Updates a user's name\\n\\nWe'll need at least one table to store user information, including their names. Since we're personalizing greetings and remembering users across sessions, we should assign each user a unique identifier.\\n\\nWe should also track conversation history to maintain context, so a table for messages or interactions would be useful.\\n\\nWe don't see explicit session management in the TypeSpec, but it's implied we need to remember users between conversations.\", drizzle_schema='import { pgTable, text, timestamp, uuid, boolean } from \"drizzle-orm/pg-core\";\\n\\n// Users table to store user information\\nexport const usersTable = pgTable(\"users\", {\\n  id: uuid(\"id\").primaryKey().defaultRandom(),\\n  name: text(\"name\"),\\n  created_at: timestamp(\"created_at\").defaultNow(),\\n  updated_at: timestamp(\"updated_at\").defaultNow()\\n});\\n\\n// Interactions table to track conversations with the bot\\nexport const interactionsTable = pgTable(\"interactions\", {\\n  id: uuid(\"id\").primaryKey().defaultRandom(),\\n  user_id: uuid(\"user_id\").references(() => usersTable.id),\\n  message_content: text(\"message_content\"),\\n  response_content: text(\"response_content\"),\\n  time_of_day: text(\"time_of_day\"),\\n  is_first_time: boolean(\"is_first_time\").default(false),\\n  name_updated: boolean(\"name_updated\").default(false),\\n  previous_name: text(\"previous_name\"),\\n  created_at: timestamp(\"created_at\").defaultNow()\\n});\\n\\n// Sessions table to manage user sessions\\nexport const sessionsTable = pgTable(\"sessions\", {\\n  id: uuid(\"id\").primaryKey().defaultRandom(),\\n  user_id: uuid(\"user_id\").references(() => usersTable.id),\\n  last_active: timestamp(\"last_active\").defaultNow(),\\n  created_at: timestamp(\"created_at\").defaultNow()\\n});', error_output=None), handlers={'greetUser': HandlerOut(name='greetUser', handler='import { db } from \"../db\";\\nimport { greetUser, type GreetingOptions } from \"../common/schema\";\\nimport { interactionsTable, usersTable } from \"../db/schema/application\";\\nimport { eq } from \"drizzle-orm\";\\n\\nexport const handle: typeof greetUser = async (options: GreetingOptions): Promise<string> => {\\n  // Build appropriate greeting based on time of day\\n  let greeting = \"Hello\";\\n  if (options.timeOfDay === \"morning\") {\\n    greeting = \"Good morning\";\\n  } else if (options.timeOfDay === \"afternoon\") {\\n    greeting = \"Good afternoon\";\\n  } else if (options.timeOfDay === \"evening\") {\\n    greeting = \"Good evening\";\\n  } else if (options.timeOfDay === \"night\") {\\n    greeting = \"Good night\";\\n  }\\n\\n  // Get the most recent user from the database to include in greeting\\n  const users = await db.select().from(usersTable).orderBy(usersTable.created_at).limit(1);\\n  const userName = users.length > 0 ? users[0].name : \"there\";\\n\\n  // Build the full greeting message\\n  let responseMessage = `${greeting}, ${userName}!`;\\n  \\n  // Add special welcome message for first-time users\\n  if (options.isFirstTime) {\\n    responseMessage += \" Welcome to our service! How can I help you today?\";\\n  } else {\\n    responseMessage += \" It\\'s nice to see you again. How can I assist you?\";\\n  }\\n\\n  // Save the interaction in the database\\n  await db.insert(interactionsTable).values({\\n    message_content: `User greeting request at ${options.timeOfDay}`,\\n    response_content: responseMessage,\\n    time_of_day: options.timeOfDay,\\n    is_first_time: options.isFirstTime,\\n    // Note: user_id would typically be set here if we had user context\\n  });\\n\\n  return responseMessage;\\n};', argument_schema=None, error_output=None), 'updateName': HandlerOut(name='updateName', handler='import { eq } from \"drizzle-orm\";\\nimport { db } from \"../db\";\\nimport { type UpdateNameOptions, updateName } from \"../common/schema\";\\nimport { usersTable, interactionsTable } from \"../db/schema/application\";\\n\\nexport const handle: typeof updateName = async (options: UpdateNameOptions): Promise<void> => {\\n    // Check if names are identical\\n    if (options.currentName === options.newName) {\\n        // No need to update if names are identical\\n        return;\\n    }\\n    \\n    // Find user by current name\\n    const existingUsers = await db\\n        .select()\\n        .from(usersTable)\\n        .where(eq(usersTable.name, options.currentName));\\n\\n    if (existingUsers.length === 0) {\\n        throw new Error(`User with name ${options.currentName} not found`);\\n    }\\n\\n    const user = existingUsers[0];\\n\\n    // Update the user\\'s name\\n    await db\\n        .update(usersTable)\\n        .set({ \\n            name: options.newName,\\n            updated_at: new Date()\\n        })\\n        .where(eq(usersTable.id, user.id));\\n\\n    // Record this name change in the interactions table\\n    await db\\n        .insert(interactionsTable)\\n        .values({\\n            user_id: user.id,\\n            message_content: `Request to change name from ${options.currentName} to ${options.newName}`,\\n            response_content: `Name updated successfully from ${options.currentName} to ${options.newName}`,\\n            time_of_day: new Date().toLocaleTimeString(),\\n            is_first_time: false,\\n            name_updated: true,\\n            previous_name: options.currentName\\n        });\\n};', argument_schema=None, error_output=None), 'saveUserName': HandlerOut(name='saveUserName', handler='import { db } from \"../db\";\\nimport { usersTable } from \"../db/schema/application\";\\nimport { type UserInfo, saveUserName } from \"../common/schema\";\\n\\nexport const handle: typeof saveUserName = async (options: UserInfo): Promise<void> => {\\n  // Save the user name to the database exactly as provided\\n  // This will save empty strings as empty strings\\n  await db.insert(usersTable)\\n    .values({\\n      name: options.name\\n    })\\n    .execute();\\n  \\n  // No need to return anything as the function returns void\\n};', argument_schema=None, error_output=None)}, handler_tests={'saveUserName': HandlerTestsOut(name='saveUserName', content='\\nimport { afterEach, beforeEach, describe } from \"bun:test\";\\nimport { resetDB, createDB } from \"../../helpers\";\\nimport { expect, it } from \"bun:test\";\\nimport { db } from \"../../db\";\\nimport { usersTable } from \"../../db/schema/application\";\\nimport { type UserInfo } from \"../../common/schema\";\\nimport { eq } from \"drizzle-orm\";\\n\\nimport { handle as saveUserName } from \"../../handlers/saveUserName.ts\";\\n\\n\\ndescribe(\"\", () => {\\n    beforeEach(async () => {\\n        await createDB();\\n    });\\n\\n    afterEach(async () => {\\n        await resetDB();\\n    });\\n    \\n    \\n    it(\"should save a new user name to the database\", async () => {\\n      const userInfo: UserInfo = { name: \"John Doe\" };\\n      \\n      await saveUserName(userInfo);\\n      \\n      const users = await db.select().from(usersTable).where(eq(usersTable.name, \"John Doe\")).execute();\\n      \\n      expect(users).toHaveLength(1);\\n      expect(users[0].name).toEqual(\"John Doe\");\\n    });\\n\\n    \\n    \\n    it(\"should handle empty name properly\", async () => {\\n      const userInfo: UserInfo = { name: \"\" };\\n      \\n      await saveUserName(userInfo);\\n      \\n      const users = await db.select().from(usersTable).where(eq(usersTable.name, \"\")).execute();\\n      \\n      expect(users).toHaveLength(1);\\n      expect(users[0].name).toEqual(\"\");\\n    });\\n\\n    \\n    \\n    it(\"should handle special characters in name\", async () => {\\n      const userInfo: UserInfo = { name: \"O\\'Neill-Smith@123\" };\\n      \\n      await saveUserName(userInfo);\\n      \\n      const users = await db.select().from(usersTable).where(eq(usersTable.name, \"O\\'Neill-Smith@123\")).execute();\\n      \\n      expect(users).toHaveLength(1);\\n      expect(users[0].name).toEqual(\"O\\'Neill-Smith@123\");\\n    });\\n\\n    \\n    \\n    it(\"should create a user record with timestamps\", async () => {\\n      const userInfo: UserInfo = { name: \"Jane Smith\" };\\n      \\n      await saveUserName(userInfo);\\n      \\n      const users = await db.select().from(usersTable).where(eq(usersTable.name, \"Jane Smith\")).execute();\\n      \\n      expect(users).toHaveLength(1);\\n      expect(users[0].name).toEqual(\"Jane Smith\");\\n      expect(users[0].created_at).toBeDefined();\\n      expect(users[0].updated_at).toBeDefined();\\n    });\\n\\n    \\n    \\n    it(\"should create multiple distinct user records\", async () => {\\n      const userInfo1: UserInfo = { name: \"Alice\" };\\n      const userInfo2: UserInfo = { name: \"Bob\" };\\n      \\n      await saveUserName(userInfo1);\\n      await saveUserName(userInfo2);\\n      \\n      const allUsers = await db.select().from(usersTable).execute();\\n      \\n      expect(allUsers).toHaveLength(2);\\n      expect(allUsers.map(user => user.name).sort()).toEqual([\"Alice\", \"Bob\"]);\\n    });\\n\\n    \\n});', error_output=None), 'greetUser': HandlerTestsOut(name='greetUser', content='\\nimport { afterEach, beforeEach, describe } from \"bun:test\";\\nimport { resetDB, createDB } from \"../../helpers\";\\nimport { expect, it } from \"bun:test\";\\nimport { db } from \"../../db\";\\nimport { interactionsTable } from \"../../db/schema/application\";\\nimport { type GreetingOptions } from \"../../common/schema\";\\nimport { eq } from \"drizzle-orm\";\\n\\nimport { handle as greetUser } from \"../../handlers/greetUser.ts\";\\n\\n\\ndescribe(\"\", () => {\\n    beforeEach(async () => {\\n        await createDB();\\n    });\\n\\n    afterEach(async () => {\\n        await resetDB();\\n    });\\n    \\n    \\n    it(\"should return morning greeting for morning time\", async () => {\\n      const options: GreetingOptions = {\\n        timeOfDay: \"morning\",\\n        isFirstTime: false\\n      };\\n      \\n      const greeting = await greetUser(options);\\n      \\n      expect(greeting).toContain(\"Good morning\");\\n    });\\n\\n    \\n    \\n    it(\"should return evening greeting for evening time\", async () => {\\n      const options: GreetingOptions = {\\n        timeOfDay: \"evening\",\\n        isFirstTime: false\\n      };\\n      \\n      const greeting = await greetUser(options);\\n      \\n      expect(greeting).toContain(\"Good evening\");\\n    });\\n\\n    \\n    \\n    it(\"should include welcome message for first time users\", async () => {\\n      const options: GreetingOptions = {\\n        timeOfDay: \"afternoon\",\\n        isFirstTime: true\\n      };\\n      \\n      const greeting = await greetUser(options);\\n      \\n      expect(greeting).toContain(\"Welcome\");\\n    });\\n\\n    \\n    \\n    it(\"should store the interaction in the database\", async () => {\\n      const options: GreetingOptions = {\\n        timeOfDay: \"night\",\\n        isFirstTime: false\\n      };\\n      \\n      const greeting = await greetUser(options);\\n      \\n      const interactions = await db\\n        .select()\\n        .from(interactionsTable)\\n        .where(eq(interactionsTable.time_of_day, \"night\"))\\n        .execute();\\n      \\n      expect(interactions).toHaveLength(1);\\n      expect(interactions[0].response_content).toEqual(greeting);\\n      expect(interactions[0].is_first_time).toEqual(false);\\n    });\\n\\n    \\n    \\n    it(\"should mark first-time interactions correctly in database\", async () => {\\n      const options: GreetingOptions = {\\n        timeOfDay: \"morning\",\\n        isFirstTime: true\\n      };\\n      \\n      await greetUser(options);\\n      \\n      const interactions = await db\\n        .select()\\n        .from(interactionsTable)\\n        .where(eq(interactionsTable.is_first_time, true))\\n        .execute();\\n      \\n      expect(interactions).toHaveLength(1);\\n      expect(interactions[0].time_of_day).toEqual(\"morning\");\\n      expect(interactions[0].is_first_time).toEqual(true);\\n    });\\n\\n    \\n    \\n    it(\"should return different greetings for different times of day\", async () => {\\n      const morningOptions: GreetingOptions = {\\n        timeOfDay: \"morning\",\\n        isFirstTime: false\\n      };\\n      \\n      const eveningOptions: GreetingOptions = {\\n        timeOfDay: \"evening\",\\n        isFirstTime: false\\n      };\\n      \\n      const morningGreeting = await greetUser(morningOptions);\\n      const eveningGreeting = await greetUser(eveningOptions);\\n      \\n      expect(morningGreeting).not.toEqual(eveningGreeting);\\n    });\\n\\n    \\n});', error_output=None), 'updateName': HandlerTestsOut(name='updateName', content='\\nimport { afterEach, beforeEach, describe } from \"bun:test\";\\nimport { resetDB, createDB } from \"../../helpers\";\\nimport { expect, it } from \"bun:test\";\\nimport { db } from \"../../db\";\\nimport { usersTable, interactionsTable } from \"../../db/schema/application\";\\nimport { type UpdateNameOptions } from \"../../common/schema\";\\nimport { eq } from \"drizzle-orm\";\\n\\nimport { handle as updateName } from \"../../handlers/updateName.ts\";\\n\\n\\ndescribe(\"\", () => {\\n    beforeEach(async () => {\\n        await createDB();\\n    });\\n\\n    afterEach(async () => {\\n        await resetDB();\\n    });\\n    \\n    \\n    it(\"should update user name successfully\", async () => {\\n      // Arrange\\n      // Insert a user with the current name\\n      const initialUser = await db.insert(usersTable).values({\\n        name: \"OldName\"\\n      }).returning();\\n      \\n      const _userId = initialUser[0].id;\\n      \\n      // Act\\n      const options: UpdateNameOptions = {\\n        currentName: \"OldName\",\\n        newName: \"NewName\"\\n      };\\n      \\n      await updateName(options);\\n      \\n      // Assert\\n      const updatedUser = await db.select().from(usersTable)\\n        .where(eq(usersTable.id, initialUser[0].id))\\n        .execute();\\n        \\n      expect(updatedUser).toHaveLength(1);\\n      expect(updatedUser[0].name).toEqual(\"NewName\");\\n    });\\n\\n    \\n    \\n    it(\"should record the name change in interactions table\", async () => {\\n      // Arrange\\n      // Insert a user with the current name\\n      await db.insert(usersTable).values({\\n        name: \"CurrentName\"\\n      }).returning();\\n      \\n      // Act\\n      const options: UpdateNameOptions = {\\n        currentName: \"CurrentName\",\\n        newName: \"UpdatedName\"\\n      };\\n      \\n      await updateName(options);\\n      \\n      // Assert\\n      const interactions = await db.select().from(interactionsTable)\\n        .where(eq(interactionsTable.name_updated, true))\\n        .execute();\\n        \\n      expect(interactions).toHaveLength(1);\\n      expect(interactions[0].previous_name).toEqual(\"CurrentName\");\\n    });\\n\\n    \\n    \\n    it(\"should throw an error if user with currentName doesn\\'t exist\", async () => {\\n      // Arrange\\n      const options: UpdateNameOptions = {\\n        currentName: \"NonExistentName\",\\n        newName: \"NewName\"\\n      };\\n      \\n      // Act & Assert\\n      await expect(updateName(options)).rejects.toThrow();\\n    });\\n\\n    \\n    \\n    it(\"should not update if currentName and newName are identical\", async () => {\\n      // Arrange\\n      // Insert a user with the current name\\n      const initialUser = await db.insert(usersTable).values({\\n        name: \"SameName\"\\n      }).returning();\\n      \\n      // Act\\n      const options: UpdateNameOptions = {\\n        currentName: \"SameName\",\\n        newName: \"SameName\"\\n      };\\n      \\n      await updateName(options);\\n      \\n      // Assert\\n      const user = await db.select().from(usersTable)\\n        .where(eq(usersTable.id, initialUser[0].id))\\n        .execute();\\n        \\n      // The name should remain the same\\n      expect(user[0].name).toEqual(\"SameName\");\\n      \\n      // No interactions should be recorded for this case\\n      const interactions = await db.select().from(interactionsTable)\\n        .where(eq(interactionsTable.name_updated, true))\\n        .execute();\\n        \\n      expect(interactions).toHaveLength(0);\\n    });\\n\\n    \\n    \\n    it(\"should update the updated_at timestamp when updating name\", async () => {\\n      // Arrange\\n      const initialUser = await db.insert(usersTable).values({\\n        name: \"InitialName\"\\n      }).returning();\\n      \\n      // Ensure updated_at is not null before using it\\n      if (!initialUser[0].updated_at) {\\n        throw new Error(\"Initial updated_at timestamp is null\");\\n      }\\n      \\n      const initialTimestamp = new Date(initialUser[0].updated_at).getTime();\\n      \\n      // Wait a bit to ensure timestamp difference\\n      await new Promise(resolve => setTimeout(resolve, 10));\\n      \\n      // Act\\n      const options: UpdateNameOptions = {\\n        currentName: \"InitialName\",\\n        newName: \"FinalName\"\\n      };\\n      \\n      await updateName(options);\\n      \\n      // Assert\\n      const updatedUser = await db.select().from(usersTable)\\n        .where(eq(usersTable.id, initialUser[0].id))\\n        .execute();\\n      \\n      // Ensure updated_at is not null before using it\\n      if (!updatedUser[0].updated_at) {\\n        throw new Error(\"Updated updated_at timestamp is null\");\\n      }\\n      \\n      const newTimestamp = new Date(updatedUser[0].updated_at).getTime();\\n      \\n      expect(newTimestamp).toBeGreaterThan(initialTimestamp);\\n    });\\n\\n    \\n});', error_output=None)}, typescript_schema=TypescriptOut(reasoning=\"The TypeSpec defines a simple greeting bot application that manages user names and provides personalized greetings. It includes:\\n\\n1. `UserInfo` model: Contains a user's name\\n2. `GreetingOptions` model: Contains time of day and whether it's the first interaction\\n3. `UpdateNameOptions` model: Contains current and new names for updating user names\\n4. `GreetingBot` interface with three functions:\\n   - `saveUserName`: Stores a user's name\\n   - `greetUser`: Generates a personalized greeting based on name and time of day\\n   - `updateName`: Updates a user's name from current to new\\n\\nI'll create Zod schemas for these models and generate the appropriate function declarations.\", typescript_schema=\"import { z } from 'zod';\\n\\nexport const userInfoSchema = z.object({\\n  name: z.string(),\\n});\\n\\nexport type UserInfo = z.infer<typeof userInfoSchema>;\\n\\nexport const greetingOptionsSchema = z.object({\\n  timeOfDay: z.string(),\\n  isFirstTime: z.boolean(),\\n});\\n\\nexport type GreetingOptions = z.infer<typeof greetingOptionsSchema>;\\n\\nexport const updateNameOptionsSchema = z.object({\\n  currentName: z.string(),\\n  newName: z.string(),\\n});\\n\\nexport type UpdateNameOptions = z.infer<typeof updateNameOptionsSchema>;\\n\\nexport declare function saveUserName(options: UserInfo): Promise<void>;\\n\\nexport declare function greetUser(options: GreetingOptions): Promise<string>;\\n\\nexport declare function updateName(options: UpdateNameOptions): Promise<void>;\", functions=[FunctionDeclaration(name='saveUserName', argument_type='UserInfo', argument_schema='userInfoSchema', return_type='Promise<void>'), FunctionDeclaration(name='greetUser', argument_type='GreetingOptions', argument_schema='greetingOptionsSchema', return_type='Promise<string>'), FunctionDeclaration(name='updateName', argument_type='UpdateNameOptions', argument_schema='updateNameOptionsSchema', return_type='Promise<void>')], error_output=None), gherkin=GherkinOut(reasoning=None, gherkin=None, error_output=None), trace_id='4d212bccf8f14d8c80944ccd31637c0c')"
      ]
     },
     "execution_count": 9,
     "metadata": {},
     "output_type": "execute_result"
    }
   ],
   "source": [
    "final_res"
   ]
  },
  {
   "cell_type": "code",
   "execution_count": null,
   "metadata": {},
   "outputs": [
    {
     "ename": "FileNotFoundError",
     "evalue": "[Errno 2] No such file or directory: '../botbuild/templates'",
     "output_type": "error",
     "traceback": [
      "\u001b[0;31m---------------------------------------------------------------------------\u001b[0m",
      "\u001b[0;31mFileNotFoundError\u001b[0m                         Traceback (most recent call last)",
      "Cell \u001b[0;32mIn[15], line 11\u001b[0m\n\u001b[1;32m      7\u001b[0m     os\u001b[38;5;241m.\u001b[39mmakedirs(\u001b[38;5;124m\"\u001b[39m\u001b[38;5;124m../botbuild\u001b[39m\u001b[38;5;124m\"\u001b[39m)\n\u001b[1;32m      9\u001b[0m interpolator \u001b[38;5;241m=\u001b[39m Interpolator(\u001b[38;5;124m\"\u001b[39m\u001b[38;5;124m../botbuild\u001b[39m\u001b[38;5;124m\"\u001b[39m)\n\u001b[0;32m---> 11\u001b[0m \u001b[43minterpolator\u001b[49m\u001b[38;5;241;43m.\u001b[39;49m\u001b[43mbake\u001b[49m\u001b[43m(\u001b[49m\u001b[43mfinal_res\u001b[49m\u001b[43m,\u001b[49m\u001b[43m \u001b[49m\u001b[38;5;124;43m\"\u001b[39;49m\u001b[38;5;124;43mgreeting_bot\u001b[39;49m\u001b[38;5;124;43m\"\u001b[39;49m\u001b[43m)\u001b[49m\n",
      "File \u001b[0;32m~/neon/bot-new-1/agent/core/interpolator.py:59\u001b[0m, in \u001b[0;36mInterpolator.bake\u001b[0;34m(self, application, output_dir, overwrite)\u001b[0m\n\u001b[1;32m     57\u001b[0m template_dir \u001b[38;5;241m=\u001b[39m os\u001b[38;5;241m.\u001b[39mpath\u001b[38;5;241m.\u001b[39mjoin(\u001b[38;5;28mself\u001b[39m\u001b[38;5;241m.\u001b[39mroot_dir, \u001b[38;5;124m\"\u001b[39m\u001b[38;5;124mtemplates\u001b[39m\u001b[38;5;124m\"\u001b[39m)\n\u001b[1;32m     58\u001b[0m \u001b[38;5;28;01mif\u001b[39;00m \u001b[38;5;129;01mnot\u001b[39;00m overwrite: \u001b[38;5;66;03m# if overwrite is False, we are creating a new application, otherwise no need to update the template\u001b[39;00m\n\u001b[0;32m---> 59\u001b[0m     \u001b[43mcopytree\u001b[49m\u001b[43m(\u001b[49m\u001b[43mtemplate_dir\u001b[49m\u001b[43m,\u001b[49m\u001b[43m \u001b[49m\u001b[43moutput_dir\u001b[49m\u001b[43m,\u001b[49m\u001b[43m \u001b[49m\u001b[43mignore\u001b[49m\u001b[38;5;241;43m=\u001b[39;49m\u001b[43mignore_patterns\u001b[49m\u001b[43m(\u001b[49m\u001b[38;5;124;43m'\u001b[39;49m\u001b[38;5;124;43m*.pyc\u001b[39;49m\u001b[38;5;124;43m'\u001b[39;49m\u001b[43m,\u001b[49m\u001b[43m \u001b[49m\u001b[38;5;124;43m'\u001b[39;49m\u001b[38;5;124;43m__pycache__\u001b[39;49m\u001b[38;5;124;43m'\u001b[39;49m\u001b[43m,\u001b[49m\u001b[43m \u001b[49m\u001b[38;5;124;43m'\u001b[39;49m\u001b[38;5;124;43mnode_modules\u001b[39;49m\u001b[38;5;124;43m'\u001b[39;49m\u001b[43m)\u001b[49m\u001b[43m,\u001b[49m\u001b[43m \u001b[49m\u001b[43mdirs_exist_ok\u001b[49m\u001b[38;5;241;43m=\u001b[39;49m\u001b[38;5;28;43;01mTrue\u001b[39;49;00m\u001b[43m)\u001b[49m\n\u001b[1;32m     61\u001b[0m \u001b[38;5;66;03m# TODO: optimize overwriting some files below of user wants to update only some handlers / capabilities / etc\u001b[39;00m\n\u001b[1;32m     62\u001b[0m \u001b[38;5;28;01mwith\u001b[39;00m \u001b[38;5;28mopen\u001b[39m(os\u001b[38;5;241m.\u001b[39mpath\u001b[38;5;241m.\u001b[39mjoin(output_dir, \u001b[38;5;124m\"\u001b[39m\u001b[38;5;124mtsp_schema\u001b[39m\u001b[38;5;124m\"\u001b[39m, \u001b[38;5;124m\"\u001b[39m\u001b[38;5;124mmain.tsp\u001b[39m\u001b[38;5;124m\"\u001b[39m), \u001b[38;5;124m\"\u001b[39m\u001b[38;5;124ma\u001b[39m\u001b[38;5;124m\"\u001b[39m) \u001b[38;5;28;01mas\u001b[39;00m f:\n",
      "File \u001b[0;32m/usr/lib/python3.12/shutil.py:598\u001b[0m, in \u001b[0;36mcopytree\u001b[0;34m(src, dst, symlinks, ignore, copy_function, ignore_dangling_symlinks, dirs_exist_ok)\u001b[0m\n\u001b[1;32m    559\u001b[0m \u001b[38;5;250m\u001b[39m\u001b[38;5;124;03m\"\"\"Recursively copy a directory tree and return the destination directory.\u001b[39;00m\n\u001b[1;32m    560\u001b[0m \n\u001b[1;32m    561\u001b[0m \u001b[38;5;124;03mIf exception(s) occur, an Error is raised with a list of reasons.\u001b[39;00m\n\u001b[0;32m   (...)\u001b[0m\n\u001b[1;32m    595\u001b[0m \u001b[38;5;124;03m`src` tree.\u001b[39;00m\n\u001b[1;32m    596\u001b[0m \u001b[38;5;124;03m\"\"\"\u001b[39;00m\n\u001b[1;32m    597\u001b[0m sys\u001b[38;5;241m.\u001b[39maudit(\u001b[38;5;124m\"\u001b[39m\u001b[38;5;124mshutil.copytree\u001b[39m\u001b[38;5;124m\"\u001b[39m, src, dst)\n\u001b[0;32m--> 598\u001b[0m \u001b[38;5;28;01mwith\u001b[39;00m \u001b[43mos\u001b[49m\u001b[38;5;241;43m.\u001b[39;49m\u001b[43mscandir\u001b[49m\u001b[43m(\u001b[49m\u001b[43msrc\u001b[49m\u001b[43m)\u001b[49m \u001b[38;5;28;01mas\u001b[39;00m itr:\n\u001b[1;32m    599\u001b[0m     entries \u001b[38;5;241m=\u001b[39m \u001b[38;5;28mlist\u001b[39m(itr)\n\u001b[1;32m    600\u001b[0m \u001b[38;5;28;01mreturn\u001b[39;00m _copytree(entries\u001b[38;5;241m=\u001b[39mentries, src\u001b[38;5;241m=\u001b[39msrc, dst\u001b[38;5;241m=\u001b[39mdst, symlinks\u001b[38;5;241m=\u001b[39msymlinks,\n\u001b[1;32m    601\u001b[0m                  ignore\u001b[38;5;241m=\u001b[39mignore, copy_function\u001b[38;5;241m=\u001b[39mcopy_function,\n\u001b[1;32m    602\u001b[0m                  ignore_dangling_symlinks\u001b[38;5;241m=\u001b[39mignore_dangling_symlinks,\n\u001b[1;32m    603\u001b[0m                  dirs_exist_ok\u001b[38;5;241m=\u001b[39mdirs_exist_ok)\n",
      "\u001b[0;31mFileNotFoundError\u001b[0m: [Errno 2] No such file or directory: '../botbuild/templates'"
     ]
    }
   ],
   "source": [
    "from core.interpolator import Interpolator\n",
    "\n",
    "import os\n",
    "\n",
    "# Create the botbuild directory if it doesn't exist\n",
    "if not os.path.exists(\"../botbuild\"):\n",
    "    os.makedirs(\"../botbuild\")\n",
    "\n",
    "interpolator = Interpolator(\".\")\n",
    "\n",
    "interpolator.bake(final_res, \"../../bot_result\")\n"
   ]
  },
  {
   "cell_type": "code",
   "execution_count": null,
   "metadata": {},
   "outputs": [],
   "source": []
  }
 ],
 "metadata": {
  "kernelspec": {
   "display_name": ".venv",
   "language": "python",
   "name": "python3"
  },
  "language_info": {
   "codemirror_mode": {
    "name": "ipython",
    "version": 3
   },
   "file_extension": ".py",
   "mimetype": "text/x-python",
   "name": "python",
   "nbconvert_exporter": "python",
   "pygments_lexer": "ipython3",
   "version": "3.12.3"
  }
 },
 "nbformat": 4,
 "nbformat_minor": 2
}
