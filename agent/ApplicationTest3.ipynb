{
 "cells": [
  {
   "cell_type": "code",
   "execution_count": 2,
   "metadata": {},
   "outputs": [],
   "source": [
    "from langfuse import Langfuse\n",
    "from anthropic import AnthropicBedrock\n",
    "from compiler.core import Compiler\n",
    "from application3 import Application3"
   ]
  },
  {
   "cell_type": "code",
   "execution_count": 3,
   "metadata": {},
   "outputs": [],
   "source": [
    "langfuse_client = Langfuse()\n",
    "compiler = Compiler(\"botbuild/tsp_compiler\", \"botbuild/app_schema\")\n",
    "m_claude = AnthropicBedrock(aws_profile=\"dev\", aws_region=\"us-west-2\")"
   ]
  },
  {
   "cell_type": "code",
   "execution_count": 4,
   "metadata": {},
   "outputs": [],
   "source": [
    "builder = Application3(m_claude, compiler)"
   ]
  },
  {
   "cell_type": "code",
   "execution_count": 5,
   "metadata": {},
   "outputs": [
    {
     "name": "stdout",
     "output_type": "stream",
     "text": [
      "Processing transition: [] FsmState.TYPESPEC\n",
      "Processing transition: [<FsmState.TYPESPEC: 'typespec'>] FsmState.WAIT\n",
      "{'user_requests': ['bot that greets me by name'], 'typespec_schema': <fsm_core.typespec.Success object at 0xffff9b566630>}\n"
     ]
    }
   ],
   "source": [
    "prepare_res = builder.prepare_bot([\"bot that greets me by name\"], bot_id=\"1337_420\", capabilities=[])"
   ]
  },
  {
   "cell_type": "code",
   "execution_count": 7,
   "metadata": {},
   "outputs": [
    {
     "data": {
      "text/plain": [
       "{'capabilities': [], 'typespec': <fsm_core.typespec.Success at 0xffff9b566630>}"
      ]
     },
     "execution_count": 7,
     "metadata": {},
     "output_type": "execute_result"
    }
   ],
   "source": [
    "prepare_res"
   ]
  },
  {
   "cell_type": "code",
   "execution_count": 9,
   "metadata": {},
   "outputs": [
    {
     "data": {
      "text/plain": [
       "'model UserNameInfo {\\n    name: string;\\n}\\n\\nmodel GreetingOptions {\\n    style?: string;\\n    timeOfDay?: string;\\n}\\n\\nmodel UpdateNameOptions {\\n    currentName: string;\\n    newName: string;\\n}\\n\\ninterface GreetingBot {\\n    @scenario(\\n    \"\"\"\\n    Scenario: Saving a new user name\\n    When user says \"My name is John\"\\n    Then system should extract the name \"John\"\\n    And store it for future greetings\\n    Examples:\\n        | Input                       | Extracted Name |\\n        | \"I am Sarah\"                | \"Sarah\"        |\\n        | \"Please call me Mike\"       | \"Mike\"         |\\n        | \"The name\\'s Bond, James Bond\" | \"James Bond\"  |\\n    \"\"\")\\n    @llm_func(\"Save user name for personalized greetings\")\\n    saveUserName(options: UserNameInfo): void;\\n\\n    @scenario(\\n    \"\"\"\\n    Scenario: Greeting user with stored name\\n    When user requests a greeting\\n    Then system should respond with personalized greeting using stored name\\n    Examples:\\n        | Stored Name | Time       | Expected Response                |\\n        | \"John\"      | morning    | \"Good morning, John!\"           |\\n        | \"Sarah\"     | afternoon  | \"Good afternoon, Sarah!\"        |\\n        | \"Mike\"      | evening    | \"Good evening, Mike!\"           |\\n    \"\"\")\\n    @scenario(\\n    \"\"\"\\n    Scenario: Greeting with specified style\\n    When user requests greeting with specific style\\n    Then system should respond with that style greeting\\n    Examples:\\n        | Stored Name | Style      | Expected Response               |\\n        | \"John\"      | formal     | \"Greetings, Mr. John.\"         |\\n        | \"Sarah\"     | casual     | \"Hey Sarah! What\\'s up?\"        |\\n        | \"Mike\"      | funny      | \"Well hello there, Mike-ster!\" |\\n    \"\"\")\\n    @llm_func(\"Generate personalized greeting using stored name\")\\n    greetUser(options: GreetingOptions): string;\\n\\n    @scenario(\\n    \"\"\"\\n    Scenario: Updating existing user name\\n    When user says \"Change my name from John to Johnny\"\\n    Then system should update the stored name from \"John\" to \"Johnny\"\\n    Examples:\\n        | Input                                | Current Name | New Name     |\\n        | \"I\\'m now called Johnny instead of John\" | \"John\"      | \"Johnny\"     |\\n        | \"Please update my name to Elizabeth\"    | \"Liz\"       | \"Elizabeth\"  |\\n    \"\"\")\\n    @llm_func(\"Update user name to a new value\")\\n    updateUserName(options: UpdateNameOptions): void;\\n}'"
      ]
     },
     "execution_count": 9,
     "metadata": {},
     "output_type": "execute_result"
    }
   ],
   "source": [
    "prepare_res[\"typespec\"].typespec"
   ]
  },
  {
   "cell_type": "code",
   "execution_count": 13,
   "metadata": {},
   "outputs": [],
   "source": [
    "reasoning = prepare_res[\"typespec\"].reasoning\n",
    "typespec_schema = prepare_res[\"typespec\"].typespec\n",
    "fake_msg = f\"<reasoning>{reasoning}</reasoning><typespec>{typespec_schema}</typespec>\""
   ]
  },
  {
   "cell_type": "code",
   "execution_count": 14,
   "metadata": {},
   "outputs": [
    {
     "name": "stdout",
     "output_type": "stream",
     "text": [
      "Processing transition: [] FsmState.DRIZZLE\n",
      "Processing transition: [<FsmState.DRIZZLE: 'drizzle'>] FsmState.TYPESCRIPT\n",
      "Processing transition: [<FsmState.TYPESCRIPT: 'typescript'>] FsmState.HANDLER_TESTS\n",
      "Processing transition: [<FsmState.HANDLER_TESTS: 'handler_tests'>] handlers\n",
      "Processing transition: [<FsmState.HANDLERS: 'handlers'>] FsmState.COMPLETE\n"
     ]
    }
   ],
   "source": [
    "final_res = builder.update_bot(\n",
    "    typespec_schema=fake_msg,\n",
    "    bot_id=\"1337_420\",\n",
    "    capabilities=[],\n",
    ")"
   ]
  },
  {
   "cell_type": "code",
   "execution_count": 15,
   "metadata": {},
   "outputs": [
    {
     "data": {
      "text/plain": [
       "{'capabilities': [],\n",
       " 'typespec_schema': <fsm_core.typespec.Success at 0xffff9aba5160>,\n",
       " 'drizzle_schema': <fsm_core.drizzle.Success at 0xffffac1d5e80>,\n",
       " 'typescript_schema': <fsm_core.typescript.Success at 0xffffa44524e0>,\n",
       " 'handler_tests': {'updateUserName': <fsm_core.handler_tests.Success at 0xffffa4453740>,\n",
       "  'greetUser': <fsm_core.handler_tests.Success at 0xffff9ab8fdd0>,\n",
       "  'saveUserName': <fsm_core.handler_tests.Success at 0xffffa4687320>},\n",
       " 'handlers': {'updateUserName': <fsm_core.handlers.Success at 0xffffa65e0140>,\n",
       "  'saveUserName': <fsm_core.handlers.Success at 0xffff9abc8f80>,\n",
       "  'greetUser': <fsm_core.handlers.Success at 0xffffac26b3b0>}}"
      ]
     },
     "execution_count": 15,
     "metadata": {},
     "output_type": "execute_result"
    }
   ],
   "source": [
    "final_res"
   ]
  },
  {
   "cell_type": "code",
   "execution_count": null,
   "metadata": {},
   "outputs": [],
   "source": []
  }
 ],
 "metadata": {
  "kernelspec": {
   "display_name": ".venv",
   "language": "python",
   "name": "python3"
  },
  "language_info": {
   "codemirror_mode": {
    "name": "ipython",
    "version": 3
   },
   "file_extension": ".py",
   "mimetype": "text/x-python",
   "name": "python",
   "nbconvert_exporter": "python",
   "pygments_lexer": "ipython3",
   "version": "3.12.8"
  }
 },
 "nbformat": 4,
 "nbformat_minor": 2
}
