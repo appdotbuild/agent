{
 "cells": [
  {
   "cell_type": "code",
   "execution_count": 1,
   "metadata": {},
   "outputs": [],
   "source": [
    "import concurrent.futures\n",
    "import jinja2\n",
    "from anthropic import AnthropicBedrock\n",
    "from compiler.core import Compiler\n",
    "from tracing_client import TracingClient\n",
    "from policies import common, handlers, typespec, drizzle, typescript, router, app_testcases"
   ]
  },
  {
   "cell_type": "code",
   "execution_count": 2,
   "metadata": {},
   "outputs": [],
   "source": [
    "jinja_env = jinja2.Environment()\n",
    "compiler = Compiler(\"botbuild/tsp_compiler\", \"botbuild/app_schema\")\n",
    "client = TracingClient(AnthropicBedrock(aws_profile=\"dev\", aws_region=\"us-west-2\"))"
   ]
  },
  {
   "cell_type": "code",
   "execution_count": 3,
   "metadata": {},
   "outputs": [
    {
     "name": "stderr",
     "output_type": "stream",
     "text": [
      "Langfuse client is disabled since no public_key was provided as a parameter or environment variable 'LANGFUSE_PUBLIC_KEY'. See our docs: https://langfuse.com/docs/sdk/python/low-level-sdk#initialize-client\n"
     ]
    },
    {
     "name": "stdout",
     "output_type": "stream",
     "text": [
      "Typespec solution is successful.\n"
     ]
    }
   ],
   "source": [
    "application_description = \"Bot that greets user by name and returns personalized greeting.\"\n",
    "\n",
    "content = jinja_env.from_string(typespec.PROMPT).render(application_description=application_description)\n",
    "message = {\"role\": \"user\", \"content\": content}\n",
    "with typespec.TypespecTaskNode.platform(client, compiler, jinja_env):\n",
    "    tsp_data = typespec.TypespecTaskNode.run([message])\n",
    "    tsp_root = typespec.TypespecTaskNode(tsp_data)\n",
    "    tsp_solution = common.bfs(tsp_root)\n",
    "\n",
    "match tsp_solution.is_successful:\n",
    "    case True:\n",
    "        print(\"Typespec solution is successful.\")\n",
    "    case False:\n",
    "        raise Exception(\"Typespec solution is not successful.\")"
   ]
  },
  {
   "cell_type": "code",
   "execution_count": 4,
   "metadata": {},
   "outputs": [
    {
     "name": "stdout",
     "output_type": "stream",
     "text": [
      "model GreetingRequest {\n",
      "    name: string;\n",
      "    greeting: string;\n",
      "}\n",
      "\n",
      "interface GreetingBot {\n",
      "    @llm_func(3)\n",
      "    greet(options: GreetingRequest): string;\n",
      "}\n"
     ]
    }
   ],
   "source": [
    "print(tsp_solution.data.output.typespec_definitions)"
   ]
  },
  {
   "cell_type": "code",
   "execution_count": 5,
   "metadata": {},
   "outputs": [
    {
     "name": "stdout",
     "output_type": "stream",
     "text": [
      "Typescript solution is successful.\n"
     ]
    }
   ],
   "source": [
    "content = jinja_env.from_string(typescript.PROMPT).render(typespec_definitions=tsp_solution.data.output.typespec_definitions)\n",
    "message = {\"role\": \"user\", \"content\": content}\n",
    "with typescript.TypescriptTaskNode.platform(client, compiler, jinja_env):\n",
    "    ts_data = typescript.TypescriptTaskNode.run([message])\n",
    "    ts_root = typescript.TypescriptTaskNode(ts_data)\n",
    "    ts_solution = common.bfs(ts_root)\n",
    "\n",
    "match ts_solution.is_successful:\n",
    "    case True:\n",
    "        print(\"Typescript solution is successful.\")\n",
    "    case False:\n",
    "        raise Exception(\"Typescript solution is not successful.\")"
   ]
  },
  {
   "cell_type": "code",
   "execution_count": 6,
   "metadata": {},
   "outputs": [
    {
     "data": {
      "text/plain": [
       "{'reasoning': 'The application handles greeting requests with:\\n1. A GreetingRequest model containing name and greeting fields\\n2. A GreetingBot interface with a greet function that takes GreetingRequest and returns a string\\n3. The function is marked as an LLM function with temperature 3',\n",
       " 'typescript_schema': \"import { z } from 'zod';\\n\\nexport const greetingRequestSchema = z.object({\\n    name: z.string(),\\n    greeting: z.string(),\\n});\\n\\nexport type GreetingRequest = z.infer<typeof greetingRequestSchema>;\\n\\nexport declare function greet(options: GreetingRequest): Promise<string>;\",\n",
       " 'functions': [FunctionDeclaration(name='greet', argument_type='GreetingRequest', argument_schema='greetingRequestSchema', return_type='Promise<string>')],\n",
       " 'type_to_zod': {'GreetingRequest': 'greetingRequestSchema'},\n",
       " 'feedback': {'exit_code': 0, 'stdout': None, 'stderr': None}}"
      ]
     },
     "execution_count": 6,
     "metadata": {},
     "output_type": "execute_result"
    }
   ],
   "source": [
    "ts_solution.data.output.__dict__"
   ]
  },
  {
   "cell_type": "code",
   "execution_count": 7,
   "metadata": {},
   "outputs": [
    {
     "name": "stdout",
     "output_type": "stream",
     "text": [
      "import { z } from 'zod';\n",
      "\n",
      "export const greetingRequestSchema = z.object({\n",
      "    name: z.string(),\n",
      "    greeting: z.string(),\n",
      "});\n",
      "\n",
      "export type GreetingRequest = z.infer<typeof greetingRequestSchema>;\n",
      "\n",
      "export declare function greet(options: GreetingRequest): Promise<string>;\n"
     ]
    }
   ],
   "source": [
    "print(ts_solution.data.output.typescript_schema)"
   ]
  },
  {
   "cell_type": "code",
   "execution_count": 8,
   "metadata": {},
   "outputs": [
    {
     "name": "stdout",
     "output_type": "stream",
     "text": [
      "Drizzle solution is successful.\n"
     ]
    }
   ],
   "source": [
    "content = jinja_env.from_string(drizzle.PROMPT).render(typespec_definitions=tsp_solution.data.output.typespec_definitions)\n",
    "message = {\"role\": \"user\", \"content\": content}\n",
    "with drizzle.DrizzleTaskNode.platform(client, compiler, jinja_env):\n",
    "    dzl_data = drizzle.DrizzleTaskNode.run([message])\n",
    "    dzl_root = drizzle.DrizzleTaskNode(dzl_data)\n",
    "    dzl_solution = common.bfs(dzl_root)\n",
    "\n",
    "match dzl_solution.is_successful:\n",
    "    case True:\n",
    "        print(\"Drizzle solution is successful.\")\n",
    "    case False:\n",
    "        raise Exception(\"Drizzle solution is not successful.\")"
   ]
  },
  {
   "cell_type": "code",
   "execution_count": 9,
   "metadata": {},
   "outputs": [
    {
     "name": "stdout",
     "output_type": "stream",
     "text": [
      "import { serial, text, pgTable, timestamp } from \"drizzle-orm/pg-core\";\n",
      "\n",
      "export const greetingRequestsTable = pgTable(\"greeting_requests\", {\n",
      "  id: serial(\"id\").primaryKey(),\n",
      "  name: text(\"name\").notNull(),\n",
      "  greeting: text(\"greeting\").notNull(),\n",
      "  created_at: timestamp(\"created_at\").defaultNow().notNull()\n",
      "});\n",
      "\n",
      "export const greetingResponsesTable = pgTable(\"greeting_responses\", {\n",
      "  id: serial(\"id\").primaryKey(),\n",
      "  request_id: serial(\"request_id\")\n",
      "    .references(() => greetingRequestsTable.id)\n",
      "    .notNull(),\n",
      "  response_text: text(\"response_text\").notNull(),\n",
      "  created_at: timestamp(\"created_at\").defaultNow().notNull()\n",
      "});\n"
     ]
    }
   ],
   "source": [
    "print(dzl_solution.data.output.drizzle_schema)"
   ]
  },
  {
   "cell_type": "code",
   "execution_count": null,
   "metadata": {},
   "outputs": [],
   "source": [
    "def search_handler(\n",
    "    function_name: str,\n",
    "    argument_type: str,\n",
    "    argument_schema: str,\n",
    "    typespec_definitions: str,\n",
    "    typescript_schema: str,\n",
    "    drizzle_schema: str,\n",
    ") -> handlers.HandlerTaskNode:\n",
    "    prompt_params = {\n",
    "        \"function_name\": function_name,\n",
    "        \"argument_type\": argument_type,\n",
    "        \"argument_schema\": argument_schema,\n",
    "        \"typespec_schema\": typespec_definitions,\n",
    "        \"typescript_schema\": typescript_schema,\n",
    "        \"drizzle_schema\": drizzle_schema,\n",
    "    }\n",
    "    content = jinja_env.from_string(handlers.PROMPT).render(**prompt_params)\n",
    "    message = {\"role\": \"user\", \"content\": content}\n",
    "    output = handlers.HandlerTaskNode.run([message], **prompt_params)\n",
    "    root_node = handlers.HandlerTaskNode(output)\n",
    "    return root_node # No BFS for now\n",
    "    #solution = common.bfs(root_node)\n",
    "    #return solution"
   ]
  },
  {
   "cell_type": "code",
   "execution_count": 11,
   "metadata": {},
   "outputs": [],
   "source": [
    "handler_target = ts_solution.data.output.functions[0]"
   ]
  },
  {
   "cell_type": "code",
   "execution_count": 12,
   "metadata": {},
   "outputs": [],
   "source": [
    "with handlers.HandlerTaskNode.platform(client, compiler, jinja_env):\n",
    "    handler_solution = search_handler(\n",
    "        function_name=handler_target.name,\n",
    "        argument_type=handler_target.argument_type,\n",
    "        argument_schema=handler_target.argument_schema,\n",
    "        typespec_definitions=tsp_solution.data.output.typespec_definitions,\n",
    "        typescript_schema=ts_solution.data.output.typescript_schema,\n",
    "        drizzle_schema=dzl_solution.data.output.drizzle_schema,\n",
    "    )"
   ]
  },
  {
   "cell_type": "code",
   "execution_count": 13,
   "metadata": {},
   "outputs": [
    {
     "data": {
      "text/plain": [
       "{'handler': 'import { db } from \"../db\";\\nimport type { GreetingRequest } from \"../common/schema\";\\nimport { greetingRequestsTable, greetingResponsesTable } from \"../db/schema/application\";\\n\\nexport const handle = async (options: GreetingRequest): Promise<string> => {\\n    // Insert the greeting request\\n    const [insertedRequest] = await db\\n        .insert(greetingRequestsTable)\\n        .values({\\n            name: options.name,\\n            greeting: options.greeting,\\n        })\\n        .returning();\\n\\n    // Construct the response text\\n    const responseText = `${options.greeting}, ${options.name}!`;\\n\\n    // Store the response\\n    await db\\n        .insert(greetingResponsesTable)\\n        .values({\\n            request_id: insertedRequest.id,\\n            response_text: responseText,\\n        });\\n\\n    return responseText;\\n};',\n",
       " 'feedback': {'exit_code': 0, 'stdout': None, 'stderr': None}}"
      ]
     },
     "execution_count": 13,
     "metadata": {},
     "output_type": "execute_result"
    }
   ],
   "source": [
    "handler_solution.data.output.__dict__"
   ]
  },
  {
   "cell_type": "code",
   "execution_count": 14,
   "metadata": {},
   "outputs": [
    {
     "name": "stdout",
     "output_type": "stream",
     "text": [
      "None\n"
     ]
    }
   ],
   "source": [
    "print(handler_solution.data.output.feedback[\"stdout\"])"
   ]
  },
  {
   "cell_type": "code",
   "execution_count": 15,
   "metadata": {},
   "outputs": [
    {
     "name": "stdout",
     "output_type": "stream",
     "text": [
      "import { db } from \"../db\";\n",
      "import type { GreetingRequest } from \"../common/schema\";\n",
      "import { greetingRequestsTable, greetingResponsesTable } from \"../db/schema/application\";\n",
      "\n",
      "export const handle = async (options: GreetingRequest): Promise<string> => {\n",
      "    // Insert the greeting request\n",
      "    const [insertedRequest] = await db\n",
      "        .insert(greetingRequestsTable)\n",
      "        .values({\n",
      "            name: options.name,\n",
      "            greeting: options.greeting,\n",
      "        })\n",
      "        .returning();\n",
      "\n",
      "    // Construct the response text\n",
      "    const responseText = `${options.greeting}, ${options.name}!`;\n",
      "\n",
      "    // Store the response\n",
      "    await db\n",
      "        .insert(greetingResponsesTable)\n",
      "        .values({\n",
      "            request_id: insertedRequest.id,\n",
      "            response_text: responseText,\n",
      "        });\n",
      "\n",
      "    return responseText;\n",
      "};\n"
     ]
    }
   ],
   "source": [
    "print(handler_solution.data.output.handler)"
   ]
  },
  {
   "cell_type": "code",
   "execution_count": null,
   "metadata": {},
   "outputs": [],
   "source": []
  }
 ],
 "metadata": {
  "kernelspec": {
   "display_name": ".venv",
   "language": "python",
   "name": "python3"
  },
  "language_info": {
   "codemirror_mode": {
    "name": "ipython",
    "version": 3
   },
   "file_extension": ".py",
   "mimetype": "text/x-python",
   "name": "python",
   "nbconvert_exporter": "python",
   "pygments_lexer": "ipython3",
   "version": "3.12.8"
  }
 },
 "nbformat": 4,
 "nbformat_minor": 2
}
