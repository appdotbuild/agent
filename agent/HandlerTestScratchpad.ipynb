{
 "cells": [
  {
   "cell_type": "code",
   "execution_count": 1,
   "metadata": {},
   "outputs": [],
   "source": [
    "%load_ext autoreload\n",
    "%autoreload 2"
   ]
  },
  {
   "cell_type": "code",
   "execution_count": 1,
   "metadata": {},
   "outputs": [],
   "source": [
    "import concurrent.futures\n",
    "import jinja2\n",
    "from anthropic import AnthropicBedrock\n",
    "from compiler.core import Compiler\n",
    "from tracing_client import TracingClient\n",
    "from policies import common, handlers, handler_tests, typespec, drizzle, typescript, app_testcases"
   ]
  },
  {
   "cell_type": "code",
   "execution_count": 2,
   "metadata": {},
   "outputs": [],
   "source": [
    "jinja_env = jinja2.Environment()\n",
    "compiler = Compiler(\"botbuild/tsp_compiler\", \"botbuild/app_schema\")\n",
    "client = TracingClient(AnthropicBedrock(aws_profile=\"dev\", aws_region=\"us-west-2\"))"
   ]
  },
  {
   "cell_type": "code",
   "execution_count": 3,
   "metadata": {},
   "outputs": [
    {
     "name": "stderr",
     "output_type": "stream",
     "text": [
      "Langfuse client is disabled since no public_key was provided as a parameter or environment variable 'LANGFUSE_PUBLIC_KEY'. See our docs: https://langfuse.com/docs/sdk/python/low-level-sdk#initialize-client\n"
     ]
    },
    {
     "name": "stdout",
     "output_type": "stream",
     "text": [
      "Typespec solution is successful.\n"
     ]
    }
   ],
   "source": [
    "application_description = \"Bot that greets user by name and returns personalized greeting.\"\n",
    "\n",
    "content = jinja_env.from_string(typespec.PROMPT).render(application_description=application_description)\n",
    "message = {\"role\": \"user\", \"content\": content}\n",
    "with typespec.TypespecTaskNode.platform(client, compiler, jinja_env):\n",
    "    tsp_data = typespec.TypespecTaskNode.run([message])\n",
    "    tsp_root = typespec.TypespecTaskNode(tsp_data)\n",
    "    tsp_solution = tsp_root\n",
    "    tsp_solution = common.bfs(tsp_root)\n",
    "\n",
    "match tsp_solution.is_successful:\n",
    "    case True:\n",
    "        print(\"Typespec solution is successful.\")\n",
    "    case False:\n",
    "        raise Exception(\"Typespec solution is not successful.\")"
   ]
  },
  {
   "cell_type": "code",
   "execution_count": 4,
   "metadata": {},
   "outputs": [
    {
     "name": "stdout",
     "output_type": "stream",
     "text": [
      "model GreetingOptions {\n",
      "    userName: string;\n",
      "    language: string;\n",
      "    timeOfDay: plainTime;\n",
      "    formal: boolean;\n",
      "}\n",
      "\n",
      "model GreetingResponse {\n",
      "    message: string;\n",
      "    timestamp: utcDateTime;\n",
      "}\n",
      "\n",
      "interface GreetingBot {\n",
      "    @llm_func(\"Generate personalized greeting for the user\")\n",
      "    greet(options: GreetingOptions): GreetingResponse;\n",
      "}\n"
     ]
    }
   ],
   "source": [
    "print(tsp_solution.data.output.typespec_definitions)"
   ]
  },
  {
   "cell_type": "code",
   "execution_count": 5,
   "metadata": {},
   "outputs": [
    {
     "name": "stdout",
     "output_type": "stream",
     "text": [
      "Typescript solution is successful.\n"
     ]
    }
   ],
   "source": [
    "content = jinja_env.from_string(typescript.PROMPT).render(typespec_definitions=tsp_solution.data.output.typespec_definitions)\n",
    "message = {\"role\": \"user\", \"content\": content}\n",
    "with typescript.TypescriptTaskNode.platform(client, compiler, jinja_env):\n",
    "    ts_data = typescript.TypescriptTaskNode.run([message])\n",
    "    ts_root = typescript.TypescriptTaskNode(ts_data)\n",
    "    ts_solution = common.bfs(ts_root)\n",
    "\n",
    "match ts_solution.is_successful:\n",
    "    case True:\n",
    "        print(\"Typescript solution is successful.\")\n",
    "    case False:\n",
    "        raise Exception(\"Typescript solution is not successful.\")"
   ]
  },
  {
   "cell_type": "code",
   "execution_count": 6,
   "metadata": {},
   "outputs": [
    {
     "data": {
      "text/plain": [
       "{'reasoning': \"The application is a greeting bot that generates personalized greetings based on various parameters:\\n- User's name\\n- Preferred language\\n- Time of day\\n- Formality level\\nThe response includes the greeting message and a timestamp of when it was generated.\\nThe time-related fields use specific time formats: plainTime for time of day and utcDateTime for timestamp.\",\n",
       " 'typescript_schema': \"import { z } from 'zod';\\n\\nexport const greetingOptionsSchema = z.object({\\n    userName: z.string(),\\n    language: z.string(),\\n    timeOfDay: z.string().transform((str) => z.coerce.date().parse(str)),\\n    formal: z.boolean()\\n});\\n\\nexport type GreetingOptions = z.infer<typeof greetingOptionsSchema>;\\n\\nexport const greetingResponseSchema = z.object({\\n    message: z.string(),\\n    timestamp: z.string().transform((str) => z.coerce.date().parse(str))\\n});\\n\\nexport type GreetingResponse = z.infer<typeof greetingResponseSchema>;\\n\\nexport declare function greet(options: GreetingOptions): Promise<GreetingResponse>;\",\n",
       " 'functions': [FunctionDeclaration(name='greet', argument_type='GreetingOptions', argument_schema='greetingOptionsSchema', return_type='Promise<GreetingResponse>')],\n",
       " 'type_to_zod': {'GreetingOptions': 'greetingOptionsSchema',\n",
       "  'GreetingResponse': 'greetingResponseSchema'},\n",
       " 'feedback': {'exit_code': 0, 'stdout': None, 'stderr': None}}"
      ]
     },
     "execution_count": 6,
     "metadata": {},
     "output_type": "execute_result"
    }
   ],
   "source": [
    "ts_solution.data.output.__dict__"
   ]
  },
  {
   "cell_type": "code",
   "execution_count": 7,
   "metadata": {},
   "outputs": [
    {
     "name": "stdout",
     "output_type": "stream",
     "text": [
      "import { z } from 'zod';\n",
      "\n",
      "export const greetingOptionsSchema = z.object({\n",
      "    userName: z.string(),\n",
      "    language: z.string(),\n",
      "    timeOfDay: z.string().transform((str) => z.coerce.date().parse(str)),\n",
      "    formal: z.boolean()\n",
      "});\n",
      "\n",
      "export type GreetingOptions = z.infer<typeof greetingOptionsSchema>;\n",
      "\n",
      "export const greetingResponseSchema = z.object({\n",
      "    message: z.string(),\n",
      "    timestamp: z.string().transform((str) => z.coerce.date().parse(str))\n",
      "});\n",
      "\n",
      "export type GreetingResponse = z.infer<typeof greetingResponseSchema>;\n",
      "\n",
      "export declare function greet(options: GreetingOptions): Promise<GreetingResponse>;\n"
     ]
    }
   ],
   "source": [
    "print(ts_solution.data.output.typescript_schema)"
   ]
  },
  {
   "cell_type": "code",
   "execution_count": 8,
   "metadata": {},
   "outputs": [
    {
     "name": "stdout",
     "output_type": "stream",
     "text": [
      "Drizzle solution is successful.\n"
     ]
    }
   ],
   "source": [
    "content = jinja_env.from_string(drizzle.PROMPT).render(typespec_definitions=tsp_solution.data.output.typespec_definitions)\n",
    "message = {\"role\": \"user\", \"content\": content}\n",
    "with drizzle.DrizzleTaskNode.platform(client, compiler, jinja_env):\n",
    "    dzl_data = drizzle.DrizzleTaskNode.run([message])\n",
    "    dzl_root = drizzle.DrizzleTaskNode(dzl_data)\n",
    "    dzl_solution = common.bfs(dzl_root)\n",
    "\n",
    "match dzl_solution.is_successful:\n",
    "    case True:\n",
    "        print(\"Drizzle solution is successful.\")\n",
    "    case False:\n",
    "        raise Exception(\"Drizzle solution is not successful.\")"
   ]
  },
  {
   "cell_type": "code",
   "execution_count": 9,
   "metadata": {},
   "outputs": [
    {
     "name": "stdout",
     "output_type": "stream",
     "text": [
      "import { integer, pgTable, text, timestamp } from \"drizzle-orm/pg-core\";\n",
      "\n",
      "// Store greeting requests\n",
      "export const greetingRequestsTable = pgTable(\"greeting_requests\", {\n",
      "  id: integer().primaryKey().generatedAlwaysAsIdentity(),\n",
      "  name: text().notNull(),\n",
      "  language: text().notNull(),\n",
      "  created_at: timestamp().defaultNow().notNull()\n",
      "});\n",
      "\n",
      "// Store greeting responses\n",
      "export const greetingResponsesTable = pgTable(\"greeting_responses\", {\n",
      "  id: integer().primaryKey().generatedAlwaysAsIdentity(),\n",
      "  request_id: integer().references(() => greetingRequestsTable.id),\n",
      "  response_text: text().notNull(),\n",
      "  created_at: timestamp().defaultNow().notNull()\n",
      "});\n"
     ]
    }
   ],
   "source": [
    "print(dzl_solution.data.output.drizzle_schema)"
   ]
  },
  {
   "cell_type": "code",
   "execution_count": 10,
   "metadata": {},
   "outputs": [],
   "source": [
    "handler_target = ts_solution.data.output.functions[0]"
   ]
  },
  {
   "cell_type": "code",
   "execution_count": 11,
   "metadata": {},
   "outputs": [],
   "source": [
    "def search_test(\n",
    "    function_name: str,\n",
    "    typescript_schema: str,\n",
    "    drizzle_schema: str,\n",
    ") -> handler_tests.HandlerTestTaskNode:\n",
    "    prompt_params = {\n",
    "        \"function_name\": function_name,\n",
    "        \"typescript_schema\": typescript_schema,\n",
    "        \"drizzle_schema\": drizzle_schema,\n",
    "    }\n",
    "    content = jinja_env.from_string(handler_tests.PROMPT).render(**prompt_params)\n",
    "    message = {\"role\": \"user\", \"content\": content}\n",
    "    test_data = handler_tests.HandlerTestTaskNode.run([message], **prompt_params)\n",
    "    test_root = handler_tests.HandlerTestTaskNode(test_data)\n",
    "    test_solution = common.bfs(test_root, **prompt_params)\n",
    "    return test_solution"
   ]
  },
  {
   "cell_type": "code",
   "execution_count": 12,
   "metadata": {},
   "outputs": [],
   "source": [
    "with handler_tests.HandlerTestTaskNode.platform(client, compiler, jinja_env):\n",
    "    ht_solution = search_test(\n",
    "        handler_target.name,\n",
    "        ts_solution.data.output.typescript_schema,\n",
    "        dzl_solution.data.output.drizzle_schema,\n",
    "    )"
   ]
  },
  {
   "cell_type": "code",
   "execution_count": 13,
   "metadata": {},
   "outputs": [
    {
     "data": {
      "text/plain": [
       "{'imports': 'import { expect, it } from \"bun:test\";\\nimport { db } from \"../../db\";\\nimport { greetingRequestsTable, greetingResponsesTable } from \"../../db/schema/application\";\\nimport { type GreetingRequest } from \"../../common/schema\";\\nimport { eq } from \"drizzle-orm\";',\n",
       " 'tests': ['\\nit(\"should return a greeting message\", async () => {\\n  const input: GreetingRequest = { name: \"Alice\", language: \"en\" };\\n  const result = await greeting(input);\\n  expect(typeof result).toBe(\"string\");\\n  expect(result.length).toBeGreaterThan(0);\\n});\\n',\n",
       "  '\\nit(\"should store the greeting request in database\", async () => {\\n  const input: GreetingRequest = { name: \"Bob\", language: \"es\" };\\n  await greeting(input);\\n  \\n  const requests = await db.select().from(greetingRequestsTable).where(\\n    eq(greetingRequestsTable.name, \"Bob\")\\n  ).execute();\\n  \\n  expect(requests).toHaveLength(1);\\n  expect(requests[0].name).toBe(\"Bob\");\\n  expect(requests[0].language).toBe(\"es\");\\n});\\n',\n",
       "  '\\nit(\"should store both request and response\", async () => {\\n  const input: GreetingRequest = { name: \"Carol\", language: \"fr\" };\\n  const response = await greeting(input);\\n  \\n  const requests = await db.select().from(greetingRequestsTable).where(\\n    eq(greetingRequestsTable.name, \"Carol\")\\n  ).execute();\\n  \\n  expect(requests).toHaveLength(1);\\n  const requestId = requests[0].id;\\n  \\n  const responses = await db.select().from(greetingResponsesTable).where(\\n    eq(greetingResponsesTable.request_id, requestId)\\n  ).execute();\\n  \\n  expect(responses).toHaveLength(1);\\n  expect(responses[0].response_text).toBe(response);\\n});\\n'],\n",
       " 'feedback': {'exit_code': 0, 'stdout': None, 'stderr': None}}"
      ]
     },
     "execution_count": 13,
     "metadata": {},
     "output_type": "execute_result"
    }
   ],
   "source": [
    "ht_solution.data.output.__dict__"
   ]
  },
  {
   "cell_type": "code",
   "execution_count": 14,
   "metadata": {},
   "outputs": [
    {
     "name": "stdout",
     "output_type": "stream",
     "text": [
      "\n",
      "it(\"should return a greeting message\", async () => {\n",
      "  const input: GreetingRequest = { name: \"Alice\", language: \"en\" };\n",
      "  const result = await greeting(input);\n",
      "  expect(typeof result).toBe(\"string\");\n",
      "  expect(result.length).toBeGreaterThan(0);\n",
      "});\n",
      "\n",
      "\n",
      "it(\"should store the greeting request in database\", async () => {\n",
      "  const input: GreetingRequest = { name: \"Bob\", language: \"es\" };\n",
      "  await greeting(input);\n",
      "  \n",
      "  const requests = await db.select().from(greetingRequestsTable).where(\n",
      "    eq(greetingRequestsTable.name, \"Bob\")\n",
      "  ).execute();\n",
      "  \n",
      "  expect(requests).toHaveLength(1);\n",
      "  expect(requests[0].name).toBe(\"Bob\");\n",
      "  expect(requests[0].language).toBe(\"es\");\n",
      "});\n",
      "\n",
      "\n",
      "it(\"should store both request and response\", async () => {\n",
      "  const input: GreetingRequest = { name: \"Carol\", language: \"fr\" };\n",
      "  const response = await greeting(input);\n",
      "  \n",
      "  const requests = await db.select().from(greetingRequestsTable).where(\n",
      "    eq(greetingRequestsTable.name, \"Carol\")\n",
      "  ).execute();\n",
      "  \n",
      "  expect(requests).toHaveLength(1);\n",
      "  const requestId = requests[0].id;\n",
      "  \n",
      "  const responses = await db.select().from(greetingResponsesTable).where(\n",
      "    eq(greetingResponsesTable.request_id, requestId)\n",
      "  ).execute();\n",
      "  \n",
      "  expect(responses).toHaveLength(1);\n",
      "  expect(responses[0].response_text).toBe(response);\n",
      "});\n",
      "\n"
     ]
    }
   ],
   "source": [
    "for test in ht_solution.data.output.tests:\n",
    "    print(test)"
   ]
  },
  {
   "cell_type": "code",
   "execution_count": null,
   "metadata": {},
   "outputs": [],
   "source": []
  },
  {
   "cell_type": "code",
   "execution_count": 15,
   "metadata": {},
   "outputs": [],
   "source": [
    "test_suite = jinja_env.from_string(handler_tests.HANDLER_TEST_TPL).render(\n",
    "    handler_name=handler_target.name,\n",
    "    handler_function_import=f'import {{ handle as {handler_target.name} }} from \"../../handlers/{handler_target.name}.ts\";',\n",
    "    imports=ht_solution.data.output.imports,\n",
    "    tests=ht_solution.data.output.tests,\n",
    ")"
   ]
  },
  {
   "cell_type": "code",
   "execution_count": 19,
   "metadata": {},
   "outputs": [],
   "source": [
    "def search_handler(\n",
    "    function_name: str,\n",
    "    argument_type: str,\n",
    "    argument_schema: str,\n",
    "    typespec_definitions: str,\n",
    "    typescript_schema: str,\n",
    "    drizzle_schema: str,\n",
    "    test_suite: str,\n",
    ") -> handlers.HandlerTaskNode:\n",
    "    prompt_params = {\n",
    "        \"function_name\": function_name,\n",
    "        \"argument_type\": argument_type,\n",
    "        \"argument_schema\": argument_schema,\n",
    "        \"typespec_schema\": typespec_definitions,\n",
    "        \"typescript_schema\": typescript_schema,\n",
    "        \"drizzle_schema\": drizzle_schema,\n",
    "        \"test_suite\": test_suite,\n",
    "    }\n",
    "    content = jinja_env.from_string(handlers.PROMPT).render(**prompt_params)\n",
    "    message = {\"role\": \"user\", \"content\": content}\n",
    "    output = handlers.HandlerTaskNode.run([message], **prompt_params)\n",
    "    root_node = handlers.HandlerTaskNode(output)\n",
    "    #return root_node\n",
    "    solution = common.bfs(root_node, **prompt_params)\n",
    "    return solution"
   ]
  },
  {
   "cell_type": "code",
   "execution_count": 22,
   "metadata": {},
   "outputs": [],
   "source": [
    "with handlers.HandlerTaskNode.platform(client, compiler, jinja_env):\n",
    "    handler_solution = search_handler(\n",
    "        function_name=handler_target.name,\n",
    "        argument_type=handler_target.argument_type,\n",
    "        argument_schema=handler_target.argument_schema,\n",
    "        typespec_definitions=tsp_solution.data.output.typespec_definitions,\n",
    "        typescript_schema=ts_solution.data.output.typescript_schema,\n",
    "        drizzle_schema=dzl_solution.data.output.drizzle_schema,\n",
    "        test_suite=test_suite,\n",
    "    )"
   ]
  },
  {
   "cell_type": "code",
   "execution_count": 23,
   "metadata": {},
   "outputs": [
    {
     "data": {
      "text/plain": [
       "{'name': 'greetingHandler',\n",
       " 'handler': 'import { db } from \"../db\";\\nimport { type GreetingRequest, greeting } from \"../common/schema\";\\nimport { greetingRequestsTable, greetingResponsesTable } from \"../db/schema/application\";\\n\\nconst getGreetingByLanguage = (name: string, language: string): string => {\\n    switch (language.toLowerCase()) {\\n        case \"es\":\\n            return `¡Hola, ${name}!`;\\n        case \"fr\":\\n            return `Bonjour, ${name}!`;\\n        default:\\n            return `Hello, ${name}!`;\\n    }\\n};\\n\\nexport const handle: typeof greeting = async (options: GreetingRequest): Promise<string> => {\\n    // Generate greeting message\\n    const greetingMessage = getGreetingByLanguage(options.name, options.language);\\n    \\n    // Store request and get the request id\\n    const [request] = await db.insert(greetingRequestsTable)\\n        .values({\\n            name: options.name,\\n            language: options.language,\\n        })\\n        .returning();\\n\\n    // Store response\\n    await db.insert(greetingResponsesTable)\\n        .values({\\n            request_id: request.id,\\n            response_text: greetingMessage,\\n        })\\n        .execute();\\n\\n    return greetingMessage;\\n};',\n",
       " 'feedback': {'exit_code': 0, 'stdout': None, 'stderr': None},\n",
       " 'test_feedback': {'exit_code': 0,\n",
       "  'stdout': 'bun test v1.2.2 (c1708ea6)\\n',\n",
       "  'stderr': '\\nsrc/tests/handlers/greeting.test.ts:\\n(pass) greeting > should return a greeting message [3.00ms]\\n(pass) greeting > should store the greeting request in database [2.00ms]\\n(pass) greeting > should store both request and response [2.00ms]\\n\\n 3 pass\\n 0 fail\\n 8 expect() calls\\nRan 3 tests across 1 files. [243.00ms]\\n'}}"
      ]
     },
     "execution_count": 23,
     "metadata": {},
     "output_type": "execute_result"
    }
   ],
   "source": [
    "handler_solution.data.output.__dict__"
   ]
  },
  {
   "cell_type": "code",
   "execution_count": 24,
   "metadata": {},
   "outputs": [
    {
     "name": "stdout",
     "output_type": "stream",
     "text": [
      "\n",
      "src/tests/handlers/greeting.test.ts:\n",
      "(pass) greeting > should return a greeting message [3.00ms]\n",
      "(pass) greeting > should store the greeting request in database [2.00ms]\n",
      "(pass) greeting > should store both request and response [2.00ms]\n",
      "\n",
      " 3 pass\n",
      " 0 fail\n",
      " 8 expect() calls\n",
      "Ran 3 tests across 1 files. [243.00ms]\n",
      "\n"
     ]
    }
   ],
   "source": [
    "print(handler_solution.data.output.test_feedback[\"stderr\"])"
   ]
  },
  {
   "cell_type": "code",
   "execution_count": 25,
   "metadata": {},
   "outputs": [],
   "source": [
    "import re"
   ]
  },
  {
   "cell_type": "code",
   "execution_count": 26,
   "metadata": {},
   "outputs": [],
   "source": [
    "fail_pass_pat = re.compile(r\"(\\d+) pass\\s+(\\d+) fail\", re.MULTILINE)"
   ]
  },
  {
   "cell_type": "code",
   "execution_count": 27,
   "metadata": {},
   "outputs": [],
   "source": [
    "test_case = \"\"\"\n",
    "src/tests/handlers/greeting.test.ts:\n",
    "(pass) greeting > should return a greeting message [3.00ms]\n",
    "(pass) greeting > should store the greeting request in database [2.00ms]\n",
    "(pass) greeting > should store both request and response [2.00ms]\n",
    "\n",
    " 3 pass\n",
    " 0 fail\n",
    " 8 expect() calls\n",
    "Ran 3 tests across 1 files. [243.00ms]\n",
    "\"\"\""
   ]
  },
  {
   "cell_type": "code",
   "execution_count": 28,
   "metadata": {},
   "outputs": [],
   "source": [
    "matches = fail_pass_pat.search(test_case)"
   ]
  },
  {
   "cell_type": "code",
   "execution_count": 30,
   "metadata": {},
   "outputs": [
    {
     "data": {
      "text/plain": [
       "('3', '0')"
      ]
     },
     "execution_count": 30,
     "metadata": {},
     "output_type": "execute_result"
    }
   ],
   "source": [
    "matches.groups()"
   ]
  },
  {
   "cell_type": "code",
   "execution_count": 24,
   "metadata": {},
   "outputs": [
    {
     "data": {
      "text/plain": [
       "True"
      ]
     },
     "execution_count": 24,
     "metadata": {},
     "output_type": "execute_result"
    }
   ],
   "source": [
    "handler_solution.is_successful"
   ]
  },
  {
   "cell_type": "code",
   "execution_count": 15,
   "metadata": {},
   "outputs": [
    {
     "data": {
      "text/plain": [
       "{'name': 'greetHandler',\n",
       " 'handler': 'import { db } from \"../db\";\\nimport { greet, type GreetingRequest, type GreetingResponse } from \"../common/schema\";\\nimport { greetingRequestsTable, greetingResponsesTable } from \"../db/schema/application\";\\n\\nexport const handle: typeof greet = async (options: GreetingRequest): Promise<GreetingResponse> => {\\n    // Insert the greeting request into the database\\n    const [requestResult] = await db\\n        .insert(greetingRequestsTable)\\n        .values({\\n            name: options.name,\\n        })\\n        .returning();\\n\\n    // Create greeting message\\n    const message = `Hello, ${options.name}!`;\\n\\n    // Store the response\\n    await db\\n        .insert(greetingResponsesTable)\\n        .values({\\n            request_id: requestResult.id,\\n            message: message,\\n        });\\n\\n    // Return the greeting response\\n    return {\\n        message: message\\n    };\\n};',\n",
       " 'feedback': {'exit_code': 0, 'stdout': None, 'stderr': None},\n",
       " 'test_feedback': {'exit_code': 0,\n",
       "  'stdout': 'bun test v1.2.2 (c1708ea6)\\n',\n",
       "  'stderr': '\\nsrc/tests/handlers/dummy_handler.test.ts:\\n(pass) usersToList\\n\\n 1 pass\\n 0 fail\\n 1 expect() calls\\nRan 1 tests across 1 files. [65.00ms]\\n'}}"
      ]
     },
     "execution_count": 15,
     "metadata": {},
     "output_type": "execute_result"
    }
   ],
   "source": [
    "handler_solution.data.output.__dict__"
   ]
  },
  {
   "cell_type": "code",
   "execution_count": 18,
   "metadata": {},
   "outputs": [
    {
     "data": {
      "text/plain": [
       "ValueError('too many values to unpack (expected 2)')"
      ]
     },
     "execution_count": 18,
     "metadata": {},
     "output_type": "execute_result"
    }
   ],
   "source": [
    "handler_solution.data.output"
   ]
  },
  {
   "cell_type": "code",
   "execution_count": null,
   "metadata": {},
   "outputs": [
    {
     "name": "stdout",
     "output_type": "stream",
     "text": [
      "import { afterEach, beforeEach, describe } from \"bun:test\";\n",
      "import { resetDB, createDB } from \"../../helpers\";\n",
      "import { handle as greet } from \"../../handlers/greet.ts\";\n",
      "import { expect, it } from \"bun:test\";\n",
      "import { db } from \"../../db\";\n",
      "import { greetingHistoryTable } from \"../../db/schema/application\";\n",
      "import { type GreetingRequest } from \"../../common/schema\";\n",
      "\n",
      "describe(\"greet\", () => {\n",
      "    beforeEach(async () => {\n",
      "        await createDB();\n",
      "    });\n",
      "\n",
      "    afterEach(async () => {\n",
      "        await resetDB();\n",
      "    });\n",
      "    \n",
      "    \n",
      "    it(\"should return a greeting with just the name\", async () => {\n",
      "      const input: GreetingRequest = { name: \"Alice\" };\n",
      "      const greeting = await greet(input);\n",
      "      expect(greeting).toEqual(\"Hello, Alice!\");\n",
      "    });\n",
      "\n",
      "    \n",
      "    \n",
      "    it(\"should store the greeting in history\", async () => {\n",
      "      const input: GreetingRequest = { name: \"Bob\" };\n",
      "      await greet(input);\n",
      "      \n",
      "      const history = await db.select().from(greetingHistoryTable).execute();\n",
      "      expect(history).toHaveLength(1);\n",
      "      expect(history[0].name).toEqual(\"Bob\");\n",
      "      expect(history[0].greeting).toBeDefined();\n",
      "    });\n",
      "\n",
      "    \n",
      "    \n",
      "    it(\"should handle special characters in name\", async () => {\n",
      "      const input: GreetingRequest = { name: \"O'Connor-Smith\" };\n",
      "      const greeting = await greet(input);\n",
      "      expect(greeting).toEqual(\"Hello, O'Connor-Smith!\");\n",
      "    });\n",
      "\n",
      "    \n",
      "    \n",
      "    it(\"should store multiple greetings in history\", async () => {\n",
      "      const names = [\"Alice\", \"Bob\", \"Charlie\"];\n",
      "      \n",
      "      for (const name of names) {\n",
      "        await greet({ name });\n",
      "      }\n",
      "      \n",
      "      const history = await db.select().from(greetingHistoryTable).execute();\n",
      "      expect(history).toHaveLength(3);\n",
      "      expect(history.map(h => h.name)).toEqual(names);\n",
      "    });\n",
      "\n",
      "    \n",
      "});\n"
     ]
    }
   ],
   "source": [
    "print(test_suite)"
   ]
  },
  {
   "cell_type": "code",
   "execution_count": 14,
   "metadata": {},
   "outputs": [
    {
     "name": "stdout",
     "output_type": "stream",
     "text": [
      "None\n"
     ]
    }
   ],
   "source": [
    "print(handler_solution.data.output.feedback[\"stdout\"])"
   ]
  },
  {
   "cell_type": "code",
   "execution_count": 15,
   "metadata": {},
   "outputs": [
    {
     "name": "stdout",
     "output_type": "stream",
     "text": [
      "import { db } from \"../db\";\n",
      "import { greet, type GreetingRequest, type GreetingResponse } from \"../common/schema\";\n",
      "import { greetingRequestsTable, greetingResponsesTable } from \"../db/schema/application\";\n",
      "\n",
      "export const handle: typeof greet = async (options: GreetingRequest): Promise<GreetingResponse> => {\n",
      "    // Insert the greeting request\n",
      "    const [requestRecord] = await db.insert(greetingRequestsTable)\n",
      "        .values({\n",
      "            name: options.name\n",
      "        })\n",
      "        .returning();\n",
      "\n",
      "    // Generate greeting message\n",
      "    const message = `Hello, ${options.name}!`;\n",
      "\n",
      "    // Store the response\n",
      "    await db.insert(greetingResponsesTable)\n",
      "        .values({\n",
      "            request_id: requestRecord.id,\n",
      "            message: message\n",
      "        });\n",
      "\n",
      "    return {\n",
      "        message: message\n",
      "    };\n",
      "};\n"
     ]
    }
   ],
   "source": [
    "print(handler_solution.data.output.handler)"
   ]
  },
  {
   "cell_type": "code",
   "execution_count": null,
   "metadata": {},
   "outputs": [],
   "source": []
  },
  {
   "cell_type": "code",
   "execution_count": null,
   "metadata": {},
   "outputs": [],
   "source": [
    "queue = [ts_root]\n",
    "while queue:\n",
    "    node = queue.pop(0)\n",
    "    if isinstance(node.data.output, Exception):\n",
    "        print(node.data.output)\n",
    "    elif node.data.output.feedback['exit_code'] != 0:\n",
    "        print(node.data.output.feedback[\"stdout\"])\n",
    "    queue.extend(node.children)"
   ]
  },
  {
   "cell_type": "code",
   "execution_count": null,
   "metadata": {},
   "outputs": [],
   "source": [
    "with open(\"templates/interpolation/handler_test.tpl\", \"r\") as f:\n",
    "    handler_test_tpl = jinja_env.from_string(f.read())\n",
    "\n",
    "tests = [\n",
    "    \"\"\"\n",
    "it(\"should return a greeting\", async () => {\n",
    "    const input: GreetingRequest = { name: \"Alice\", greeting: \"Hello\" };\n",
    "    const greeting = await greet(input);\n",
    "    expect(greeting).toEqual(\"Hello, Alice!\");\n",
    "});\n",
    "\"\"\".strip(),\n",
    "    \"\"\"\n",
    "it(\"should store the greeting request\", async () => {\n",
    "    const input: GreetingRequest = { name: \"Alice\", greeting: \"Hello\" };\n",
    "    await greet(input);\n",
    "    const requests = await db.select().from(greetingRequestsTable).execute();\n",
    "    expect(requests).toHaveLength(1);\n",
    "    expect(requests[0].name).toEqual(\"Alice\");\n",
    "    expect(requests[0].greeting).toEqual(\"Hello\");\n",
    "});\n",
    "\"\"\".strip(),\n",
    "]\n",
    "\n",
    "imports = \"\"\"\n",
    "import { expect, it } from \"bun:test\";\n",
    "import { db } from \"../../db\";\n",
    "import { greetingRequestsTable } from \"../../db/schema/application\";\n",
    "import { type GreetingRequest } from \"../../common/schema\";\n",
    "\"\"\".strip()\n",
    "\n",
    "params = {\n",
    "    \"handler_name\": \"greet\",\n",
    "    \"handler_function_import\": 'import { greet } from \"../../common/schema\"',\n",
    "    \"imports\": imports,\n",
    "    \"tests\": tests,\n",
    "}\n",
    "\n",
    "print(handler_test_tpl.render(params))"
   ]
  }
 ],
 "metadata": {
  "kernelspec": {
   "display_name": ".venv",
   "language": "python",
   "name": "python3"
  },
  "language_info": {
   "codemirror_mode": {
    "name": "ipython",
    "version": 3
   },
   "file_extension": ".py",
   "mimetype": "text/x-python",
   "name": "python",
   "nbconvert_exporter": "python",
   "pygments_lexer": "ipython3",
   "version": "3.12.8"
  }
 },
 "nbformat": 4,
 "nbformat_minor": 2
}
