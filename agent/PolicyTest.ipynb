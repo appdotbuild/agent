{
 "cells": [
  {
   "cell_type": "code",
   "execution_count": 1,
   "metadata": {},
   "outputs": [],
   "source": [
    "import jinja2\n",
    "from  anthropic import AnthropicBedrock\n",
    "from compiler.core import Compiler\n",
    "from tracing_client import TracingClient\n",
    "from policies import common, handlers, typespec, drizzle, typescript, router"
   ]
  },
  {
   "cell_type": "code",
   "execution_count": 2,
   "metadata": {},
   "outputs": [],
   "source": [
    "jinja_env = jinja2.Environment()\n",
    "compiler = Compiler(\"botbuild/tsp_compiler\", \"botbuild/app_schema\")\n",
    "client = TracingClient(AnthropicBedrock(aws_profile=\"dev\", aws_region=\"us-west-2\"))"
   ]
  },
  {
   "cell_type": "code",
   "execution_count": 3,
   "metadata": {},
   "outputs": [],
   "source": [
    "application_description = \"Bot that writes poems about cars.\""
   ]
  },
  {
   "cell_type": "code",
   "execution_count": 4,
   "metadata": {},
   "outputs": [],
   "source": [
    "import os\n",
    "\n",
    "DATASET_DIR = \"evals/dataset.min/\"\n",
    "files = os.listdir(DATASET_DIR)\n",
    "#typespec_definitions = \"car_poem_typespec_schema.ts\"\n",
    "typescript_file = \"car_poem_typescript_schema.ts\"\n",
    "drizzle_file = \"car_poem_drizzle_schema.ts\"\n",
    "typespec_definitions = \"\"\n",
    "#with open(os.path.join(DATASET_DIR, typespec_definitions), \"r\", encoding=\"utf-8\") as f:\n",
    "#    typespec_definitions = f.read()\n",
    "with open(os.path.join(DATASET_DIR, typescript_file), \"r\", encoding=\"utf-8\") as f:\n",
    "    typescript_definitions = f.read()\n",
    "with open(os.path.join(DATASET_DIR, drizzle_file), \"r\", encoding=\"utf-8\") as f:\n",
    "    drizzle_schema = f.read()\n",
    "\n",
    "content = jinja_env.from_string(handlers.PROMPT).render(application_description=application_description,\n",
    "                                                        function_name=\"generateCarPoem\",\n",
    "                                                        typespec_schema=typespec_definitions,\n",
    "                                                        typescript_schema=typescript_definitions,\n",
    "                                                        drizzle_schema=drizzle_schema)\n",
    "message = {\"role\": \"user\", \"content\": content}"
   ]
  },
  {
   "cell_type": "code",
   "execution_count": 5,
   "metadata": {},
   "outputs": [
    {
     "data": {
      "text/plain": [
       "{'role': 'user',\n",
       " 'content': 'Based on TypeScript application definition and drizzle schema, generate a handler for getCarPoem function.\\nHandler always accepts single argument. It should be declared at the beginning as interface Options;\\nHandler should satisfy following interface:\\n\\n<handler>\\ninterface Message {\\n    role: \\'user\\' | \\'assistant\\';\\n    content: string;\\n};\\n\\ninterface Handler<Options, Output> {\\n    preProcessor: (input: Message[]) => Options | Promise<Options>;\\n    handle: (options: Options) => Output | Promise<Output>;\\n    postProcessor: (output: Output, input: Message[]) => Message[] | Promise<Message[]>;\\n}\\n\\nclass GenericHandler<Options, Output> implements Handler<Options, Output> {\\n    constructor(\\n        public handle: (options: Options) => Output | Promise<Output>,\\n        public preProcessor: (input: Message[]) => Options | Promise<Options>,\\n        public postProcessor: (output: Output, input: Message[]) => Message[] | Promise<Message[]>\\n    ) {}\\n\\n    async execute(input: Message[]): Promise<Message[] | Output> {\\n        const options = await this.preProcessor(input);\\n        const result = await this.handle(options);\\n        return this.postProcessor ? await this.postProcessor(result, input) : result;\\n    }\\n}\\n</handler>\\n\\nExample handler implementation:\\n\\n<handler>\\nimport { db } from \"../db\";\\nimport { customTable } from \"../db/schema/application\"; // all drizzle tables are defined in this file\\n\\ninterface Options {\\n    content: string;\\n};\\n\\nexport const handle = (options: Options): string => {\\n    await db.insert(customTable).values({ content: options.content }).execute();\\n    return input;\\n};\\n\\n</handler>\\n\\nApplication Definitions:\\n\\n<typespec>\\n\\n</typespec>\\n\\n<typescript>\\n// {{typescript_schema_definitions}}\\nexport interface PoemStyle {\\n    name: string;\\n    versesCount: number;\\n    linesPerVerse: number;\\n}\\n\\nexport interface CarPoem {\\n    title: string;\\n    content: string;\\n    style: PoemStyle;\\n    topic: string;\\n    createdAt: string;  // ISO format UTC datetime\\n}\\n\\nexport interface CarPoemBot {\\n    generateCarPoem(options: { style: string, topic: string }): Promise<CarPoem>;\\n    listAvailableStyles(): Promise<PoemStyle[]>;\\n}\\n</typescript>\\n\\n<drizzle>\\n//{{drizzle_definitions}}\\nimport { integer, pgTable, text, timestamp, varchar } from \"drizzle-orm/pg-core\";\\n\\nexport const poemStylesTable = pgTable(\"poem_styles\", {\\n  id: integer(\"id\").primaryKey().generatedAlwaysAsIdentity(),\\n  name: varchar(\"name\", { length: 100 }).notNull().unique(),\\n  verses_count: integer(\"verses_count\").notNull(),\\n  lines_per_verse: integer(\"lines_per_verse\").notNull()\\n});\\n\\nexport const carPoemsTable = pgTable(\"car_poems\", {\\n  id: integer(\"id\").primaryKey().generatedAlwaysAsIdentity(),\\n  title: varchar(\"title\", { length: 200 }).notNull(),\\n  content: text(\"content\").notNull(),\\n  style_id: integer(\"style_id\")\\n    .references(() => poemStylesTable.id)\\n    .notNull(),\\n  topic: varchar(\"topic\", { length: 100 }).notNull(),\\n  created_at: timestamp(\"created_at\").notNull().defaultNow()\\n});\\n</drizzle>\\n\\nHandler to implement: getCarPoem\\n\\nReturn output within <handler> tag.\\n\\nGenerate only:\\n1. the handler export function with Options, Output interfaces,\\n2. required table imports from drizzle schema (STRICTLY FOLLOW EXACT NAMES OF TABLES TO DRIZZLE SCHEMA): \\'import { customTable } from \"../db/schema/application\"; // all drizzle tables are defined in this file\\',\\n3. statement if required: \\'import { db } from \"../db\";\\',\\n4. relevant imports from Drizzle ORM if required: \\'import { eq } from \"drizzle-orm\";\\',\\n5. statement: \\'import { GenericHandler, type Message } from \"../common/handler\";\\',\\n6. imports from typespec schema if required (STRICTLY FOLLOW EXACT NAMES OF TYPES TO TYPESCRIPT SCHEMA): \\'import { CarPoemBot } from \"../common/schema\";\\',\\n\\nOmit in generated code:\\n1. pre- and post-processors,\\n2. imports from any other other files.\\n\\nHandler function code should contain just explicit logic such as database operations, performing calculations etc.'}"
      ]
     },
     "execution_count": 5,
     "metadata": {},
     "output_type": "execute_result"
    }
   ],
   "source": [
    "message"
   ]
  },
  {
   "cell_type": "code",
   "execution_count": 6,
   "metadata": {},
   "outputs": [
    {
     "name": "stderr",
     "output_type": "stream",
     "text": [
      "Langfuse client is disabled since no public_key was provided as a parameter or environment variable 'LANGFUSE_PUBLIC_KEY'. See our docs: https://langfuse.com/docs/sdk/python/low-level-sdk#initialize-client\n"
     ]
    }
   ],
   "source": [
    "with handlers.HandlerTaskNode.platform(client, compiler, jinja_env):\n",
    "    output = handlers.HandlerTaskNode.run([message], function_name=\"generateCarPoem\",\n",
    "                                          typespec_schema=typespec_definitions,\n",
    "                                          typescript_schema=typescript_definitions,\n",
    "                                          drizzle_schema=drizzle_schema)"
   ]
  },
  {
   "cell_type": "code",
   "execution_count": null,
   "metadata": {},
   "outputs": [],
   "source": []
  },
  {
   "cell_type": "code",
   "execution_count": 7,
   "metadata": {},
   "outputs": [
    {
     "data": {
      "text/plain": [
       "HandlerOutput(handler='import { db } from \"../db\";\\nimport { carPoemsTable, poemStylesTable } from \"../db/schema/application\";\\nimport { eq } from \"drizzle-orm\";\\nimport { GenericHandler, type Message } from \"../common/handler\";\\nimport { CarPoem, CarPoemBot } from \"../common/schema\";\\n\\ninterface Options {\\n    id: number;\\n}\\n\\nasync function handle(options: Options): Promise<CarPoem> {\\n    const poem = await db.select({\\n        title: carPoemsTable.title,\\n        content: carPoemsTable.content,\\n        topic: carPoemsTable.topic,\\n        created_at: carPoemsTable.created_at,\\n        style_name: poemStylesTable.name,\\n        verses_count: poemStylesTable.verses_count,\\n        lines_per_verse: poemStylesTable.lines_per_verse\\n    })\\n    .from(carPoemsTable)\\n    .innerJoin(poemStylesTable, eq(carPoemsTable.style_id, poemStylesTable.id))\\n    .where(eq(carPoemsTable.id, options.id))\\n    .execute();\\n\\n    if (!poem.length) {\\n        throw new Error(\\'Poem not found\\');\\n    }\\n\\n    return {\\n        title: poem[0].title,\\n        content: poem[0].content,\\n        topic: poem[0].topic,\\n        createdAt: poem[0].created_at.toISOString(),\\n        style: {\\n            name: poem[0].style_name,\\n            versesCount: poem[0].verses_count,\\n            linesPerVerse: poem[0].lines_per_verse\\n        }\\n    };\\n}', feedback={'exit_code': 2, 'stdout': \"src/handlers/getCarPoem.ts(27,30): error TS1005: ',' expected.\\nsrc/handlers/getCarPoem.ts(27,34): error TS1005: ',' expected.\\n\", 'stderr': None})"
      ]
     },
     "execution_count": 7,
     "metadata": {},
     "output_type": "execute_result"
    }
   ],
   "source": [
    "output.output\n"
   ]
  },
  {
   "cell_type": "code",
   "execution_count": 8,
   "metadata": {},
   "outputs": [],
   "source": [
    "root = handlers.HandlerTaskNode(output)"
   ]
  },
  {
   "cell_type": "code",
   "execution_count": 9,
   "metadata": {},
   "outputs": [],
   "source": [
    "with handlers.HandlerTaskNode.platform(client, compiler, jinja_env):\n",
    "    solution = common.bfs(root)"
   ]
  },
  {
   "cell_type": "code",
   "execution_count": 10,
   "metadata": {},
   "outputs": [
    {
     "data": {
      "text/plain": [
       "(0, 0)"
      ]
     },
     "execution_count": 10,
     "metadata": {},
     "output_type": "execute_result"
    }
   ],
   "source": [
    "solution.score, solution.depth"
   ]
  },
  {
   "cell_type": "code",
   "execution_count": 11,
   "metadata": {},
   "outputs": [],
   "source": [
    "if solution.parent:\n",
    "    for node in solution.parent.children:\n",
    "      print(node.is_successful, node.data.output)"
   ]
  },
  {
   "cell_type": "code",
   "execution_count": 12,
   "metadata": {},
   "outputs": [],
   "source": [
    "with handlers.HandlerTaskNode.platform(client, compiler, jinja_env):\n",
    "    args = root.run_args"
   ]
  },
  {
   "cell_type": "code",
   "execution_count": 13,
   "metadata": {},
   "outputs": [
    {
     "data": {
      "text/plain": [
       "[{'role': 'assistant',\n",
       "  'content': 'Based on the provided schemas and definitions, I\\'ll generate a handler for getCarPoem function. The handler will need to interact with poem-related tables and return a CarPoem object.\\n\\n<handler>\\nimport { db } from \"../db\";\\nimport { carPoemsTable, poemStylesTable } from \"../db/schema/application\";\\nimport { eq } from \"drizzle-orm\";\\nimport { GenericHandler, type Message } from \"../common/handler\";\\nimport { CarPoem, CarPoemBot } from \"../common/schema\";\\n\\ninterface Options {\\n    id: number;\\n}\\n\\nasync function handle(options: Options): Promise<CarPoem> {\\n    const poem = await db.select({\\n        title: carPoemsTable.title,\\n        content: carPoemsTable.content,\\n        topic: carPoemsTable.topic,\\n        created_at: carPoemsTable.created_at,\\n        style_name: poemStylesTable.name,\\n        verses_count: poemStylesTable.verses_count,\\n        lines_per_verse: poemStylesTable.lines_per_verse\\n    })\\n    .from(carPoemsTable)\\n    .innerJoin(poemStylesTable, eq(carPoemsTable.style_id, poemStylesTable.id))\\n    .where(eq(carPoemsTable.id, options.id))\\n    .execute();\\n\\n    if (!poem.length) {\\n        throw new Error(\\'Poem not found\\');\\n    }\\n\\n    return {\\n        title: poem[0].title,\\n        content: poem[0].content,\\n        topic: poem[0].topic,\\n        createdAt: poem[0].created_at.toISOString(),\\n        style: {\\n            name: poem[0].style_name,\\n            versesCount: poem[0].verses_count,\\n            linesPerVerse: poem[0].lines_per_verse\\n        }\\n    };\\n}\\n</handler>'},\n",
       " {'role': 'user',\n",
       "  'content': \"\\nMake sure to address following TypeScript compilation errors:\\n<errors>\\nsrc/handlers/getCarPoem.ts(27,30): error TS1005: ',' expected.\\nsrc/handlers/getCarPoem.ts(27,34): error TS1005: ',' expected.\\n\\n</errors>\\n\\nVerify absence of reserved keywords in property names, type names, and function names.\\nReturn fixed complete TypeScript definition encompassed with <typescript> tag.\"}]"
      ]
     },
     "execution_count": 13,
     "metadata": {},
     "output_type": "execute_result"
    }
   ],
   "source": [
    "args"
   ]
  },
  {
   "cell_type": "markdown",
   "metadata": {},
   "source": [
    "# End to end test"
   ]
  },
  {
   "cell_type": "code",
   "execution_count": 4,
   "metadata": {},
   "outputs": [
    {
     "name": "stderr",
     "output_type": "stream",
     "text": [
      "Langfuse client is disabled since no public_key was provided as a parameter or environment variable 'LANGFUSE_PUBLIC_KEY'. See our docs: https://langfuse.com/docs/sdk/python/low-level-sdk#initialize-client\n"
     ]
    },
    {
     "name": "stdout",
     "output_type": "stream",
     "text": [
      "Typespec solution is successful.\n"
     ]
    }
   ],
   "source": [
    "application_description = \"Bot that always responds with a greeting.\"\n",
    "\n",
    "content = jinja_env.from_string(typespec.PROMPT).render(application_description=application_description)\n",
    "message = {\"role\": \"user\", \"content\": content}\n",
    "with typespec.TypespecTaskNode.platform(client, compiler, jinja_env):\n",
    "    tsp_data = typespec.TypespecTaskNode.run([message])\n",
    "    tsp_root = typespec.TypespecTaskNode(tsp_data)\n",
    "    tsp_solution = common.bfs(tsp_root)\n",
    "\n",
    "match tsp_solution.is_successful:\n",
    "    case True:\n",
    "        print(\"Typespec solution is successful.\")\n",
    "    case False:\n",
    "        raise Exception(\"Typespec solution is not successful.\")"
   ]
  },
  {
   "cell_type": "code",
   "execution_count": 5,
   "metadata": {},
   "outputs": [
    {
     "name": "stdout",
     "output_type": "stream",
     "text": [
      "Router solution is successful.\n"
     ]
    }
   ],
   "source": [
    "content = jinja_env.from_string(router.PROMPT).render(typespec_schema=tsp_solution.data.output.typespec_definitions)\n",
    "message = {\"role\": \"user\", \"content\": content}\n",
    "with router.RouterTaskNode.platform(client, jinja_env):\n",
    "    router_data = router.RouterTaskNode.run([message], typespec_schema=tsp_solution.data.output.typespec_definitions)\n",
    "    router_root = router.RouterTaskNode(router_data)\n",
    "    router_solution = common.bfs(router_root)\n",
    "\n",
    "match router_solution.is_successful:\n",
    "    case True:\n",
    "        print(\"Router solution is successful.\")\n",
    "    case False:\n",
    "        raise Exception(\"Router solution is not successful.\")"
   ]
  },
  {
   "cell_type": "code",
   "execution_count": 7,
   "metadata": {},
   "outputs": [
    {
     "name": "stdout",
     "output_type": "stream",
     "text": [
      "Typescript solution is successful.\n"
     ]
    }
   ],
   "source": [
    "content = jinja_env.from_string(typescript.PROMPT).render(typespec_definitions=tsp_solution.data.output.typespec_definitions)\n",
    "message = {\"role\": \"user\", \"content\": content}\n",
    "with typescript.TypescriptTaskNode.platform(client, compiler, jinja_env):\n",
    "    ts_data = typescript.TypescriptTaskNode.run([message])\n",
    "    ts_root = typescript.TypescriptTaskNode(ts_data)\n",
    "    ts_solution = common.bfs(ts_root)\n",
    "\n",
    "match ts_solution.is_successful:\n",
    "    case True:\n",
    "        print(\"Typescript solution is successful.\")\n",
    "    case False:\n",
    "        raise Exception(\"Typescript solution is not successful.\")"
   ]
  },
  {
   "cell_type": "code",
   "execution_count": 8,
   "metadata": {},
   "outputs": [
    {
     "name": "stdout",
     "output_type": "stream",
     "text": [
      "Drizzle solution is successful.\n"
     ]
    }
   ],
   "source": [
    "content = jinja_env.from_string(drizzle.PROMPT).render(typespec_definitions=tsp_solution.data.output.typespec_definitions)\n",
    "message = {\"role\": \"user\", \"content\": content}\n",
    "with drizzle.DrizzleTaskNode.platform(client, compiler, jinja_env):\n",
    "    dzl_data = drizzle.DrizzleTaskNode.run([message])\n",
    "    dzl_root = drizzle.DrizzleTaskNode(dzl_data)\n",
    "    dzl_solution = common.bfs(dzl_root)\n",
    "\n",
    "match dzl_solution.is_successful:\n",
    "    case True:\n",
    "        print(\"Drizzle solution is successful.\")\n",
    "    case False:\n",
    "        raise Exception(\"Drizzle solution is not successful.\")"
   ]
  },
  {
   "cell_type": "code",
   "execution_count": null,
   "metadata": {},
   "outputs": [],
   "source": []
  }
 ],
 "metadata": {
  "kernelspec": {
   "display_name": ".venv",
   "language": "python",
   "name": "python3"
  },
  "language_info": {
   "codemirror_mode": {
    "name": "ipython",
    "version": 3
   },
   "file_extension": ".py",
   "mimetype": "text/x-python",
   "name": "python",
   "nbconvert_exporter": "python",
   "pygments_lexer": "ipython3",
   "version": "3.12.8"
  }
 },
 "nbformat": 4,
 "nbformat_minor": 2
}
