{
 "cells": [
  {
   "cell_type": "code",
   "execution_count": 1,
   "metadata": {},
   "outputs": [],
   "source": [
    "import jinja2\n",
    "from  anthropic import AnthropicBedrock\n",
    "from compiler.core import Compiler\n",
    "from tracing_client import TracingClient\n",
    "from policies import common, typespec"
   ]
  },
  {
   "cell_type": "code",
   "execution_count": 2,
   "metadata": {},
   "outputs": [],
   "source": [
    "jinja_env = jinja2.Environment()\n",
    "compiler = Compiler(\"botbuild/tsp_compiler\", \"botbuild/app_schema\")\n",
    "client = TracingClient(AnthropicBedrock(aws_profile=\"dev\", aws_region=\"us-west-2\"))"
   ]
  },
  {
   "cell_type": "code",
   "execution_count": 3,
   "metadata": {},
   "outputs": [],
   "source": [
    "application_description = \"Bot that always responds with a greeting.\"\n",
    "application_description = \"Bot that writes poems about cars.\""
   ]
  },
  {
   "cell_type": "code",
   "execution_count": 4,
   "metadata": {},
   "outputs": [],
   "source": [
    "content = jinja_env.from_string(typespec.PROMPT).render(application_description=application_description)\n",
    "message = {\"role\": \"user\", \"content\": content}"
   ]
  },
  {
   "cell_type": "code",
   "execution_count": 5,
   "metadata": {},
   "outputs": [
    {
     "name": "stderr",
     "output_type": "stream",
     "text": [
      "Langfuse client is disabled since no public_key was provided as a parameter or environment variable 'LANGFUSE_PUBLIC_KEY'. See our docs: https://langfuse.com/docs/sdk/python/low-level-sdk#initialize-client\n"
     ]
    }
   ],
   "source": [
    "with typespec.TypespecTaskNode.platform(client, compiler, jinja_env):\n",
    "    output = typespec.TypespecTaskNode.run([message])"
   ]
  },
  {
   "cell_type": "code",
   "execution_count": 6,
   "metadata": {},
   "outputs": [
    {
     "data": {
      "text/plain": [
       "{'exit_code': 1,\n",
       " 'stdout': \"TypeSpec compiler v0.64.0\\n\\nDiagnostics were reported during compilation:\\n\\nschema.tsp:9:18 - error token-expected: '}' expected.\\n>  9 |     make: string;\\n     |                  ^\\n> 10 |     model: string;\\n     | ^\\nschema.tsp:10:10 - error token-expected: Identifier expected.\\n> 10 |     model: string;\\n     |          ^\\n\\nFound 2 errors.\\n\\n\",\n",
       " 'stderr': None}"
      ]
     },
     "execution_count": 6,
     "metadata": {},
     "output_type": "execute_result"
    }
   ],
   "source": [
    "output.output.feedback"
   ]
  },
  {
   "cell_type": "code",
   "execution_count": 7,
   "metadata": {},
   "outputs": [],
   "source": [
    "root = typespec.TypespecTaskNode(output)"
   ]
  },
  {
   "cell_type": "code",
   "execution_count": 8,
   "metadata": {},
   "outputs": [],
   "source": [
    "with typespec.TypespecTaskNode.platform(client, compiler, jinja_env):\n",
    "    solution = common.bfs(root)"
   ]
  },
  {
   "cell_type": "code",
   "execution_count": 9,
   "metadata": {},
   "outputs": [
    {
     "data": {
      "text/plain": [
       "(1, 1)"
      ]
     },
     "execution_count": 9,
     "metadata": {},
     "output_type": "execute_result"
    }
   ],
   "source": [
    "solution.score, solution.depth"
   ]
  },
  {
   "cell_type": "code",
   "execution_count": 10,
   "metadata": {},
   "outputs": [
    {
     "name": "stdout",
     "output_type": "stream",
     "text": [
      "False TypespecOutput(reasoning=\"The original TypeSpec had correct structure but was missing semicolons after property definitions. In TypeSpec, property definitions within models must end with semicolons.\\n\\nI'll review the code for:\\n1. Adding missing semicolons\\n2. Checking for reserved keywords (none found in this case)\\n3. Maintaining proper structure and indentation\\n\\nAll model names (PoemStyle, CarDetails, Poem) and property names (name, structure, make, model, etc.) are valid and not reserved keywords.\", typespec_definitions='model PoemStyle {\\n    name: string;  // e.g., \"sonnet\", \"haiku\", \"limerick\", \"free verse\"\\n    structure: string;  // brief description of the form\\n}\\n\\nmodel CarDetails {\\n    make: string;\\n    model: string;\\n    characteristics: string[];  // e.g., [\"fast\", \"luxurious\", \"electric\"]\\n}\\n\\nmodel Poem {\\n    car: CarDetails;\\n    style: PoemStyle;\\n    content: string;\\n    created: utcDateTime;\\n}\\n\\ninterface CarPoetBot {\\n    @llm_func(2)\\n    createPoem(car: CarDetails, style: PoemStyle): Poem;\\n\\n    @llm_func(1)\\n    saveFavorite(poem: Poem): void;\\n\\n    @llm_func(1)\\n    listFavorites(from: utcDateTime, to: utcDateTime): Poem[];\\n}', llm_functions=['createPoem', 'saveFavorite', 'listFavorites'], feedback={'exit_code': 1, 'stdout': \"TypeSpec compiler v0.64.0\\n\\nDiagnostics were reported during compilation:\\n\\nschema.tsp:9:18 - error token-expected: '}' expected.\\n>  9 |     make: string;\\n     |                  ^\\n> 10 |     model: string;\\n     | ^\\nschema.tsp:10:10 - error token-expected: Identifier expected.\\n> 10 |     model: string;\\n     |          ^\\n\\nFound 2 errors.\\n\\n\", 'stderr': None})\n",
      "True TypespecOutput(reasoning=\"Looking at the errors, it seems the TypeSpec compiler is having issues with the syntax. The main problems are:\\n1. Missing semicolons after property definitions\\n2. Possibly conflicting with reserved keyword 'model'\\n\\nTo fix this:\\n1. Add semicolons after each property definition\\n2. Rename 'model' to 'carModel' to avoid potential keyword conflicts\\n3. Maintain consistent semicolon usage throughout all model definitions\\n\\nThe structure remains the same but with proper TypeSpec syntax.\", typespec_definitions='model PoemStyle {\\n  name: string;  // e.g., \"sonnet\", \"haiku\", \"limerick\", \"free verse\"\\n  structure: string;  // brief description of the form\\n}\\n\\nmodel CarDetails {\\n  make: string;\\n  carModel: string;  // renamed from \\'model\\' to avoid keyword conflict\\n  characteristics: string[];  // e.g., [\"fast\", \"luxurious\", \"electric\"]\\n}\\n\\nmodel Poem {\\n  car: CarDetails;\\n  style: PoemStyle;\\n  content: string;\\n  created: utcDateTime;\\n}\\n\\ninterface CarPoetBot {\\n  @llm_func(2)\\n  createPoem(car: CarDetails, style: PoemStyle): Poem;\\n\\n  @llm_func(1)\\n  saveFavorite(poem: Poem): void;\\n\\n  @llm_func(1)\\n  listFavorites(from: utcDateTime, to: utcDateTime): Poem[];\\n}', llm_functions=['createPoem', 'saveFavorite', 'listFavorites'], feedback={'exit_code': 0, 'stdout': 'TypeSpec compiler v0.64.0\\n\\nCompilation completed successfully.\\n\\n', 'stderr': None})\n",
      "True TypespecOutput(reasoning=\"The errors appear to be syntax-related. In TypeSpec:\\n1. Each model property definition must end with a semicolon (;)\\n2. Need to verify that none of our names conflict with reserved keywords\\n3. 'model' might be a reserved word in TypeSpec, so we should rename that property\\n\\nLooking at the code:\\n- Will rename 'model' to 'modelName' to avoid potential keyword conflicts\\n- Add missing semicolons after property definitions\\n- Keep the rest of the structure as is since it follows TypeSpec conventions\", typespec_definitions='model PoemStyle {\\n    name: string;  // e.g., \"sonnet\", \"haiku\", \"limerick\", \"free verse\"\\n    structure: string;  // brief description of the form\\n}\\n\\nmodel CarDetails {\\n    make: string;\\n    modelName: string;\\n    characteristics: string[];  // e.g., [\"fast\", \"luxurious\", \"electric\"]\\n}\\n\\nmodel Poem {\\n    car: CarDetails;\\n    style: PoemStyle;\\n    content: string;\\n    created: utcDateTime;\\n}\\n\\ninterface CarPoetBot {\\n    @llm_func(2)\\n    createPoem(car: CarDetails, style: PoemStyle): Poem;\\n\\n    @llm_func(1)\\n    saveFavorite(poem: Poem): void;\\n\\n    @llm_func(1)\\n    listFavorites(from: utcDateTime, to: utcDateTime): Poem[];\\n}', llm_functions=['createPoem', 'saveFavorite', 'listFavorites'], feedback={'exit_code': 0, 'stdout': 'TypeSpec compiler v0.64.0\\n\\nCompilation completed successfully.\\n\\n', 'stderr': None})\n"
     ]
    }
   ],
   "source": [
    "for node in solution.parent.children:\n",
    "    print(node.is_successful, node.data.output)"
   ]
  },
  {
   "cell_type": "code",
   "execution_count": 11,
   "metadata": {},
   "outputs": [],
   "source": [
    "with typespec.TypespecTaskNode.platform(client, compiler, jinja_env):\n",
    "    args = root.run_args"
   ]
  },
  {
   "cell_type": "code",
   "execution_count": 12,
   "metadata": {},
   "outputs": [
    {
     "data": {
      "text/plain": [
       "[{'role': 'assistant',\n",
       "  'content': '<reasoning>\\nFor a bot that writes poems about cars, I expect users to send messages like \"Write a poem about Tesla\" or \"Make a limerick about Ferrari\".\\nThe LLM needs to understand:\\n1. The car make/model to write about\\n2. The style of poem requested (if specified)\\n3. Optional characteristics to emphasize (speed, luxury, etc.)\\n\\nThe main function would be createPoem which takes these parameters.\\nWe also might want to save favorite poems and list them, so we need a Poem model with metadata.\\n</reasoning>\\n\\n<typespec>\\nmodel PoemStyle {\\n    name: string;  // e.g., \"sonnet\", \"haiku\", \"limerick\", \"free verse\"\\n    structure: string;  // brief description of the form\\n}\\n\\nmodel CarDetails {\\n    make: string;\\n    model: string;\\n    characteristics: string[];  // e.g., [\"fast\", \"luxurious\", \"electric\"]\\n}\\n\\nmodel Poem {\\n    car: CarDetails;\\n    style: PoemStyle;\\n    content: string;\\n    created: utcDateTime;\\n}\\n\\ninterface CarPoetBot {\\n    @llm_func(2)\\n    createPoem(car: CarDetails, style: PoemStyle): Poem;\\n\\n    @llm_func(1)\\n    saveFavorite(poem: Poem): void;\\n\\n    @llm_func(1)\\n    listFavorites(from: utcDateTime, to: utcDateTime): Poem[];\\n}\\n</typespec>'},\n",
       " {'role': 'user',\n",
       "  'content': \"\\nMake sure to address following TypeSpec compilation errors:\\n<errors>\\nTypeSpec compiler v0.64.0\\n\\nDiagnostics were reported during compilation:\\n\\nschema.tsp:9:18 - error token-expected: '}' expected.\\n>  9 |     make: string;\\n     |                  ^\\n> 10 |     model: string;\\n     | ^\\nschema.tsp:10:10 - error token-expected: Identifier expected.\\n> 10 |     model: string;\\n     |          ^\\n\\nFound 2 errors.\\n\\n\\n</errors>\\n\\nVerify absence of reserved keywords in property names, type names, and function names.\\nReturn <reasoning> and fixed complete TypeSpec definition encompassed with <typespec> tag.\"}]"
      ]
     },
     "execution_count": 12,
     "metadata": {},
     "output_type": "execute_result"
    }
   ],
   "source": [
    "args"
   ]
  },
  {
   "cell_type": "code",
   "execution_count": null,
   "metadata": {},
   "outputs": [],
   "source": []
  }
 ],
 "metadata": {
  "kernelspec": {
   "display_name": ".venv",
   "language": "python",
   "name": "python3"
  },
  "language_info": {
   "codemirror_mode": {
    "name": "ipython",
    "version": 3
   },
   "file_extension": ".py",
   "mimetype": "text/x-python",
   "name": "python",
   "nbconvert_exporter": "python",
   "pygments_lexer": "ipython3",
   "version": "3.12.8"
  }
 },
 "nbformat": 4,
 "nbformat_minor": 2
}
