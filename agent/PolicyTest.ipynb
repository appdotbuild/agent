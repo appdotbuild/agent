{
 "cells": [
  {
   "cell_type": "code",
   "execution_count": 1,
   "metadata": {},
   "outputs": [],
   "source": [
    "import concurrent.futures\n",
    "import jinja2\n",
    "from  anthropic import AnthropicBedrock\n",
    "from compiler.core import Compiler\n",
    "from tracing_client import TracingClient\n",
    "from policies import common, handlers, typespec, drizzle, typescript, router, app_testcases"
   ]
  },
  {
   "cell_type": "code",
   "execution_count": 2,
   "metadata": {},
   "outputs": [],
   "source": [
    "jinja_env = jinja2.Environment()\n",
    "compiler = Compiler(\"botbuild/tsp_compiler\", \"botbuild/app_schema\")\n",
    "client = TracingClient(AnthropicBedrock(aws_profile=\"dev\", aws_region=\"us-west-2\"))"
   ]
  },
  {
   "cell_type": "code",
   "execution_count": 3,
   "metadata": {},
   "outputs": [],
   "source": [
    "application_description = \"Bot that writes poems about cars.\""
   ]
  },
  {
   "cell_type": "code",
   "execution_count": 4,
   "metadata": {},
   "outputs": [],
   "source": [
    "import os\n",
    "\n",
    "DATASET_DIR = \"evals/dataset.min/\"\n",
    "files = os.listdir(DATASET_DIR)\n",
    "#typespec_definitions = \"car_poem_typespec_schema.ts\"\n",
    "typescript_file = \"car_app.ts\"\n",
    "drizzle_file = \"car_db.ts\"\n",
    "typespec_file = \"car_app.tsp\"\n",
    "#with open(os.path.join(DATASET_DIR, typespec_definitions), \"r\", encoding=\"utf-8\") as f:\n",
    "#    typespec_definitions = f.read()\n",
    "with open(os.path.join(DATASET_DIR, typescript_file), \"r\", encoding=\"utf-8\") as f:\n",
    "    typescript_definitions = f.read()\n",
    "with open(os.path.join(DATASET_DIR, drizzle_file), \"r\", encoding=\"utf-8\") as f:\n",
    "    drizzle_schema = f.read()\n",
    "with open(os.path.join(DATASET_DIR, typespec_file), \"r\", encoding=\"utf-8\") as f:\n",
    "    typespec_definitions = f.read()\n",
    "\n",
    "content = jinja_env.from_string(handlers.PROMPT).render(application_description=application_description,\n",
    "                                                        function_name=\"generateCarPoem\",\n",
    "                                                        handler_interfaces=\"interface Options { user_id: string; message: string; greeting: Greeting; } interface Output { greetingMessage: string; }\",\n",
    "                                                        typespec_schema=typespec_definitions,\n",
    "                                                        typescript_schema=typescript_definitions,\n",
    "                                                        drizzle_schema=drizzle_schema)\n",
    "message = {\"role\": \"user\", \"content\": content}"
   ]
  },
  {
   "cell_type": "code",
   "execution_count": 5,
   "metadata": {},
   "outputs": [
    {
     "name": "stdout",
     "output_type": "stream",
     "text": [
      "model CarDetails {\n",
      "    make: string,\n",
      "    modelName: string,\n",
      "    year: integer,\n",
      "    type: string\n",
      "  }\n",
      "  \n",
      "  model PoemStyle {\n",
      "    styleType: string,\n",
      "    length: integer,\n",
      "    mood: string\n",
      "  }\n",
      "  \n",
      "  model Poem {\n",
      "    id: string,\n",
      "    content: string,\n",
      "    car: CarDetails,\n",
      "    style: PoemStyle,\n",
      "    createdAt: utcDateTime\n",
      "  }\n",
      "  \n",
      "  interface CarPoetBot {\n",
      "    @llm_func(2)\n",
      "    generatePoem(car: CarDetails, style: PoemStyle): Poem;\n",
      "    \n",
      "    @llm_func(1)\n",
      "    savePoem(poem: Poem): void;\n",
      "    \n",
      "    @llm_func(1)\n",
      "    getFavoritePoems(fromDate: utcDateTime, toDate: utcDateTime): Poem[];\n",
      "  }\n"
     ]
    }
   ],
   "source": [
    "message\n",
    "\n",
    "print(typespec_definitions)"
   ]
  },
  {
   "cell_type": "code",
   "execution_count": 6,
   "metadata": {},
   "outputs": [
    {
     "name": "stdout",
     "output_type": "stream",
     "text": [
      "{'role': 'user', 'content': 'Based on TypeSpec models and interfaces, generate Gherkin test cases for the application.\\nEnsure that the output follows the Gherkin syntax.\\nProvide reasoning within <reasoning> tag.\\nEncompass output with <gherkin> tag.\\n\\nMake sure to follow gherkin-lint rules:\\n{\\n  \"no-files-without-scenarios\": \"on\",\\n  \"no-unnamed-features\": \"on\",\\n  \"no-unnamed-scenarios\": \"on\",\\n  \"no-dupe-scenario-names\": \"on\",\\n  \"no-dupe-feature-names\": \"on\",\\n  \"no-empty-file\": \"on\",\\n  \"no-trailing-spaces\": \"on\",\\n  \"new-line-at-eof\": [\"on\", \"yes\"],\\n  \"no-multiple-empty-lines\": \"on\",\\n  \"no-empty-background\": \"on\",\\n  \"indentation\": [\\n    \"on\", \\n    {\\n      \"Feature\": 0,\\n      \"Background\": 2,\\n      \"Scenario\": 2,\\n      \"Step\": 4,\\n      \"Examples\": 4,\\n      \"example\": 6\\n    }\\n  ]\\n}\\n\\nExample output:\\n\\n<reasoning>\\n    The application operates on users and messages and processes them with LLM.\\n    The users are identified by their ids.\\n    The messages have roles and content.\\n</reasoning>\\n\\n<gherkin>\\nFeature: Car Poetry Bot\\n  As a user of the Car Poetry Bot\\n  I want to generate and manage car-themed poems\\n  So that I can create artistic content about vehicles\\n\\n  Background:\\n    Given the CarPoetBot service is running\\n    And the current time is \"2024-03-20T10:00:00Z\"\\n\\n  Scenario: Generate a poem about a sports car\\n    Given I have the following car details:\\n      | make     | modelName | year | type      |\\n      | Ferrari  | F8        | 2023 | sports    |\\n    And I want a poem with style:\\n      | styleType | length | mood    |\\n      | haiku     | 3      | excited |\\n    When I call generatePoem with the car and style\\n    Then I should receive a Poem with:\\n      | field     | value                    |\\n      | id        | {any string}             |\\n      | content   | {non-empty string}       |\\n      | car       | {matching car details}   |\\n      | style     | {matching style details} |\\n      | createdAt | {valid UTC timestamp}    |\\n\\n  Scenario: Save a generated poem\\n    Given I have a poem:\\n      | id        | content           | car                              | style                                | createdAt            |\\n      | poem-123  | Sample poem text  | {\"make\":\"BMW\",\"modelName\":\"M3\"}  | {\"styleType\":\"free\",\"mood\":\"sporty\"} | 2024-03-20T10:00:00Z |\\n    When I call savePoem with the poem\\n    Then the operation should complete successfully\\n\\n  Scenario: Get favorite poems within date range\\n    Given there are saved poems in the system\\n    When I call getFavoritePoems with:\\n      | fromDate               | toDate                 |\\n      | 2024-03-19T00:00:00Z  | 2024-03-20T23:59:59Z  |\\n    Then I should receive an array of Poem objects\\n    And each poem should have all required fields\\n    And each poem\\'s createdAt should be within the specified date range\\n</gherkin>\\n\\nApplication TypeSpec:\\n\\nmodel CarDetails {\\n    make: string,\\n    modelName: string,\\n    year: integer,\\n    type: string\\n  }\\n  \\n  model PoemStyle {\\n    styleType: string,\\n    length: integer,\\n    mood: string\\n  }\\n  \\n  model Poem {\\n    id: string,\\n    content: string,\\n    car: CarDetails,\\n    style: PoemStyle,\\n    createdAt: utcDateTime\\n  }\\n  \\n  interface CarPoetBot {\\n    @llm_func(2)\\n    generatePoem(car: CarDetails, style: PoemStyle): Poem;\\n    \\n    @llm_func(1)\\n    savePoem(poem: Poem): void;\\n    \\n    @llm_func(1)\\n    getFavoritePoems(fromDate: utcDateTime, toDate: utcDateTime): Poem[];\\n  }'}\n"
     ]
    }
   ],
   "source": [
    "\n",
    "content = jinja_env.from_string(app_testcases.PROMPT).render(typespec_schema=typespec_definitions)\n",
    "message = {\"role\": \"user\", \"content\": content}\n",
    "print(message)"
   ]
  },
  {
   "cell_type": "code",
   "execution_count": 18,
   "metadata": {},
   "outputs": [],
   "source": [
    "from policies.app_testcases import GherkinTaskNode\n",
    "\n",
    "with GherkinTaskNode.platform(client, compiler, jinja_env):\n",
    "    gherkin_step = GherkinTaskNode.run([message], typespec_schema=typespec_definitions)"
   ]
  },
  {
   "cell_type": "code",
   "execution_count": 19,
   "metadata": {},
   "outputs": [
    {
     "data": {
      "text/plain": [
       "GherkinData(messages=[{'role': 'assistant', 'content': '<reasoning>\\nBased on the TypeSpec models and interface:\\n1. We have three main models: CarDetails, PoemStyle, and Poem\\n2. The CarPoetBot interface provides three operations: generatePoem, savePoem, and getFavoritePoems\\n3. The operations involve LLM processing as indicated by @llm_func decorators\\n4. We need to test both happy path and error scenarios\\n5. DateTime handling needs specific attention for getFavoritePoems\\n6. Data validation should be included in the test cases\\n</reasoning>\\n\\n<gherkin>\\nFeature: Car Poetry Generation and Management\\n  As a user of the Car Poetry Bot\\n  I want to generate and manage car-themed poems\\n  So that I can create and store artistic content about vehicles\\n\\n  Background:\\n    Given the CarPoetBot service is operational\\n    And the system time is \"2024-03-20T12:00:00Z\"\\n\\n  Scenario: Generate a poem with valid car details and style\\n    Given I have the following car information:\\n      | make    | modelName | year | type     |\\n      | Toyota  | Supra     | 2024 | sports   |\\n    And I specify the poem style as:\\n      | styleType | length | mood     |\\n      | sonnet    | 14     | nostalgic|\\n    When I request to generate a poem\\n    Then I should receive a valid poem with:\\n      | field     | value                     |\\n      | id        | {non-empty string}        |\\n      | content   | {non-empty string}        |\\n      | car       | {matching car details}    |\\n      | style     | {matching style details}  |\\n      | createdAt | {valid UTC timestamp}     |\\n\\n  Scenario: Save a generated poem successfully\\n    Given I have a generated poem with details:\\n      | id      | content              | car                                    | style                                    | createdAt            |\\n      | poem-1  | Test poem content    | {\"make\":\"Ford\",\"modelName\":\"Mustang\"} | {\"styleType\":\"free\",\"mood\":\"energetic\"} | 2024-03-20T12:00:00Z |\\n    When I attempt to save the poem\\n    Then the save operation should complete successfully\\n    And the poem should be retrievable from the system\\n\\n  Scenario: Retrieve favorite poems for a date range\\n    Given I have multiple poems saved in the system\\n    When I request favorite poems between:\\n      | fromDate              | toDate                |\\n      | 2024-03-19T00:00:00Z | 2024-03-20T23:59:59Z |\\n    Then I should receive an array of poems\\n    And each poem should have a createdAt date within the specified range\\n    And each poem should contain valid car and style information\\n\\n  Scenario: Generate poem with invalid car details\\n    Given I have the following invalid car information:\\n      | make    | modelName | year    | type     |\\n      |         | Phantom   | -1      | luxury   |\\n    When I request to generate a poem\\n    Then I should receive an error response\\n    And the error should indicate invalid car details\\n\\n  Scenario: Retrieve poems with invalid date range\\n    Given I have poems in the system\\n    When I request favorite poems between:\\n      | fromDate              | toDate                |\\n      | 2024-03-20T12:00:00Z | 2024-03-19T12:00:00Z |\\n    Then I should receive an error response\\n    And the error should indicate invalid date range\\n</gherkin>'}], output=GherkinOutput(reasoning='Based on the TypeSpec models and interface:\\n1. We have three main models: CarDetails, PoemStyle, and Poem\\n2. The CarPoetBot interface provides three operations: generatePoem, savePoem, and getFavoritePoems\\n3. The operations involve LLM processing as indicated by @llm_func decorators\\n4. We need to test both happy path and error scenarios\\n5. DateTime handling needs specific attention for getFavoritePoems\\n6. Data validation should be included in the test cases', gherkin='Feature: Car Poetry Generation and Management\\n  As a user of the Car Poetry Bot\\n  I want to generate and manage car-themed poems\\n  So that I can create and store artistic content about vehicles\\n\\n  Background:\\n    Given the CarPoetBot service is operational\\n    And the system time is \"2024-03-20T12:00:00Z\"\\n\\n  Scenario: Generate a poem with valid car details and style\\n    Given I have the following car information:\\n      | make    | modelName | year | type     |\\n      | Toyota  | Supra     | 2024 | sports   |\\n    And I specify the poem style as:\\n      | styleType | length | mood     |\\n      | sonnet    | 14     | nostalgic|\\n    When I request to generate a poem\\n    Then I should receive a valid poem with:\\n      | field     | value                     |\\n      | id        | {non-empty string}        |\\n      | content   | {non-empty string}        |\\n      | car       | {matching car details}    |\\n      | style     | {matching style details}  |\\n      | createdAt | {valid UTC timestamp}     |\\n\\n  Scenario: Save a generated poem successfully\\n    Given I have a generated poem with details:\\n      | id      | content              | car                                    | style                                    | createdAt            |\\n      | poem-1  | Test poem content    | {\"make\":\"Ford\",\"modelName\":\"Mustang\"} | {\"styleType\":\"free\",\"mood\":\"energetic\"} | 2024-03-20T12:00:00Z |\\n    When I attempt to save the poem\\n    Then the save operation should complete successfully\\n    And the poem should be retrievable from the system\\n\\n  Scenario: Retrieve favorite poems for a date range\\n    Given I have multiple poems saved in the system\\n    When I request favorite poems between:\\n      | fromDate              | toDate                |\\n      | 2024-03-19T00:00:00Z | 2024-03-20T23:59:59Z |\\n    Then I should receive an array of poems\\n    And each poem should have a createdAt date within the specified range\\n    And each poem should contain valid car and style information\\n\\n  Scenario: Generate poem with invalid car details\\n    Given I have the following invalid car information:\\n      | make    | modelName | year    | type     |\\n      |         | Phantom   | -1      | luxury   |\\n    When I request to generate a poem\\n    Then I should receive an error response\\n    And the error should indicate invalid car details\\n\\n  Scenario: Retrieve poems with invalid date range\\n    Given I have poems in the system\\n    When I request favorite poems between:\\n      | fromDate              | toDate                |\\n      | 2024-03-20T12:00:00Z | 2024-03-19T12:00:00Z |\\n    Then I should receive an error response\\n    And the error should indicate invalid date range', feedback={'exit_code': 0, 'stdout': None, 'stderr': None}))"
      ]
     },
     "execution_count": 19,
     "metadata": {},
     "output_type": "execute_result"
    }
   ],
   "source": [
    "gherkin_step"
   ]
  },
  {
   "cell_type": "code",
   "execution_count": 15,
   "metadata": {},
   "outputs": [],
   "source": [
    "with handlers.HandlerTaskNode.platform(client, compiler, jinja_env):\n",
    "    output = handlers.HandlerTaskNode.run([message], function_name=\"generateCarPoem\",\n",
    "                                          typespec_schema=typespec_definitions,\n",
    "                                          typescript_schema=typescript_definitions,\n",
    "                                          drizzle_schema=drizzle_schema)"
   ]
  },
  {
   "cell_type": "code",
   "execution_count": null,
   "metadata": {},
   "outputs": [],
   "source": []
  },
  {
   "cell_type": "code",
   "execution_count": 17,
   "metadata": {},
   "outputs": [
    {
     "data": {
      "text/plain": [
       "HandlerData(messages=[{'role': 'assistant', 'content': '<reasoning>\\nBased on the TypeSpec models and interface:\\n1. There are three main entities: CarDetails, PoemStyle, and Poem\\n2. The CarPoetBot interface provides three operations: generatePoem, savePoem, and getFavoritePoems\\n3. The operations involve datetime handling, data validation, and LLM processing\\n4. Test cases should cover all operations and validate the structure of input/output data\\n5. Edge cases should be considered for date ranges and data validation\\n</reasoning>\\n\\n<gherkin>\\nFeature: Car Poetry Generation and Management\\n  As a user of the car poetry system\\n  I want to generate, save, and retrieve car-themed poems\\n  So that I can manage my collection of automotive poetry\\n\\n  Background:\\n    Given the CarPoetBot service is operational\\n    And the system time is set to \"2024-03-20T12:00:00Z\"\\n\\n  Scenario: Generate a poem for a luxury car\\n    Given I have the following car information:\\n      | make      | modelName | year | type    |\\n      | Mercedes  | S-Class   | 2024 | luxury  |\\n    And I specify the poem style as:\\n      | styleType | length | mood     |\\n      | sonnet    | 14     | elegant  |\\n    When I request to generate a poem\\n    Then I should receive a valid poem with:\\n      | field     | requirement                |\\n      | id        | non-empty string           |\\n      | content   | non-empty string           |\\n      | car       | matching input car details |\\n      | style     | matching input style       |\\n      | createdAt | valid UTC timestamp        |\\n\\n  Scenario: Save a generated poem to favorites\\n    Given I have a generated poem:\\n      | id      | content          | car                                           | style                                    | createdAt            |\\n      | poem-1  | Test poem text   | {\"make\":\"Audi\",\"modelName\":\"R8\",\"year\":2024} | {\"styleType\":\"free\",\"length\":4}         | 2024-03-20T12:00:00Z |\\n    When I save the poem\\n    Then the save operation should succeed\\n    And the poem should be retrievable later\\n\\n  Scenario: Retrieve favorite poems for a date range\\n    Given I have multiple saved poems:\\n      | id      | createdAt            |\\n      | poem-1  | 2024-03-19T10:00:00Z |\\n      | poem-2  | 2024-03-20T15:00:00Z |\\n      | poem-3  | 2024-03-21T09:00:00Z |\\n    When I request favorite poems between \"2024-03-19T00:00:00Z\" and \"2024-03-20T23:59:59Z\"\\n    Then I should receive 2 poems\\n    And each returned poem should have:\\n      | field     | requirement         |\\n      | id        | non-empty string    |\\n      | content   | non-empty string    |\\n      | car       | valid car details   |\\n      | style     | valid style details |\\n      | createdAt | within date range   |\\n\\n  Scenario: Generate poem with invalid car details\\n    Given I have incomplete car information:\\n      | make      | modelName | year |\\n      | Toyota    |           | 2024 |\\n    And I specify a valid poem style\\n    When I request to generate a poem\\n    Then the operation should fail with a validation error\\n\\n  Scenario: Retrieve poems with invalid date range\\n    Given the system has saved poems\\n    When I request favorite poems between \"2024-03-20T12:00:00Z\" and \"2024-03-19T12:00:00Z\"\\n    Then the operation should fail with an invalid date range error\\n</gherkin>'}], output=ValueError('Failed to parse output'))"
      ]
     },
     "execution_count": 17,
     "metadata": {},
     "output_type": "execute_result"
    }
   ],
   "source": [
    "output\n"
   ]
  },
  {
   "cell_type": "code",
   "execution_count": 39,
   "metadata": {},
   "outputs": [],
   "source": [
    "root = handlers.HandlerTaskNode(output)"
   ]
  },
  {
   "cell_type": "code",
   "execution_count": 40,
   "metadata": {},
   "outputs": [],
   "source": [
    "with handlers.HandlerTaskNode.platform(client, compiler, jinja_env):\n",
    "    solution = common.bfs(root)"
   ]
  },
  {
   "cell_type": "code",
   "execution_count": 41,
   "metadata": {},
   "outputs": [
    {
     "data": {
      "text/plain": [
       "(0, 0)"
      ]
     },
     "execution_count": 41,
     "metadata": {},
     "output_type": "execute_result"
    }
   ],
   "source": [
    "solution.score, solution.depth"
   ]
  },
  {
   "cell_type": "code",
   "execution_count": 42,
   "metadata": {},
   "outputs": [],
   "source": [
    "if solution.parent:\n",
    "    for node in solution.parent.children:\n",
    "      print(node.is_successful, node.data.output)"
   ]
  },
  {
   "cell_type": "code",
   "execution_count": 43,
   "metadata": {},
   "outputs": [],
   "source": [
    "with handlers.HandlerTaskNode.platform(client, compiler, jinja_env):\n",
    "    args = root.run_args"
   ]
  },
  {
   "cell_type": "code",
   "execution_count": 44,
   "metadata": {},
   "outputs": [
    {
     "data": {
      "text/plain": [
       "[{'role': 'assistant',\n",
       "  'content': \"I apologize, but I don't see the TypeSpec models and interfaces in your message. Without the actual TypeSpec definition, I can't generate specific Gherkin test cases. However, I can provide a template explanation of how I would approach this:\\n\\n<reasoning>\\nWhen generating Gherkin test cases from TypeSpec models, I would:\\n1. Identify the main models/interfaces and their properties\\n2. Create scenarios for each major operation defined in the interfaces\\n3. Include validation for required properties and constraints\\n4. Test both success and error cases\\n5. Use Background section for common setup steps\\n6. Structure data tables to match the TypeSpec model properties\\n</reasoning>\\n\\n<gherkin>\\nFeature: API Operations\\n  As an API consumer\\n  I want to perform operations defined in the interfaces\\n  So that I can interact with the system properly\\n\\n  Background:\\n    Given the API service is running\\n    And I have valid authentication\\n\\n  # Generic template scenario - replace with actual model properties\\n  Scenario: Create new resource\\n    Given I have the following resource data:\\n      | property1 | property2 | property3 |\\n      | value1    | value2    | value3    |\\n    When I call the create operation\\n    Then I should receive a successful response\\n    And the response should contain the created resource\\n    And all required fields should be present\\n\\n  # Error scenario template\\n  Scenario: Handle invalid input\\n    Given I have invalid resource data:\\n      | property1 | property2    |\\n      | invalid   | null         |\\n    When I call the create operation\\n    Then I should receive an error response\\n    And the error message should indicate the validation issues\\n</gherkin>\\n\\nPlease provide the TypeSpec models and interfaces, and I'll generate specific, relevant test cases based on your actual application structure.\"},\n",
       " {'role': 'user',\n",
       "  'content': '\\nMake sure to address following TypeScript compilation errors:\\n<errors>\\nFailed to parse output\\n</errors>\\n\\nVerify absence of reserved keywords in property names, type names, and function names.\\nReturn fixed complete TypeScript definition encompassed with <handler> tag.'}]"
      ]
     },
     "execution_count": 44,
     "metadata": {},
     "output_type": "execute_result"
    }
   ],
   "source": [
    "args"
   ]
  },
  {
   "cell_type": "markdown",
   "metadata": {},
   "source": [
    "# End to end test"
   ]
  },
  {
   "cell_type": "code",
   "execution_count": 45,
   "metadata": {},
   "outputs": [
    {
     "name": "stdout",
     "output_type": "stream",
     "text": [
      "Typespec solution is successful.\n"
     ]
    }
   ],
   "source": [
    "application_description = \"Bot that writes poems about cars.\"\n",
    "\n",
    "content = jinja_env.from_string(typespec.PROMPT).render(application_description=application_description)\n",
    "message = {\"role\": \"user\", \"content\": content}\n",
    "with typespec.TypespecTaskNode.platform(client, compiler, jinja_env):\n",
    "    tsp_data = typespec.TypespecTaskNode.run([message])\n",
    "    tsp_root = typespec.TypespecTaskNode(tsp_data)\n",
    "    tsp_solution = common.bfs(tsp_root)\n",
    "\n",
    "match tsp_solution.is_successful:\n",
    "    case True:\n",
    "        print(\"Typespec solution is successful.\")\n",
    "    case False:\n",
    "        raise Exception(\"Typespec solution is not successful.\")"
   ]
  },
  {
   "cell_type": "code",
   "execution_count": 46,
   "metadata": {},
   "outputs": [
    {
     "name": "stdout",
     "output_type": "stream",
     "text": [
      "Router solution is successful.\n"
     ]
    }
   ],
   "source": [
    "content = jinja_env.from_string(router.PROMPT).render(typespec_definitions=tsp_solution.data.output.typespec_definitions)\n",
    "message = {\"role\": \"user\", \"content\": content}\n",
    "with router.RouterTaskNode.platform(client, jinja_env):\n",
    "    router_data = router.RouterTaskNode.run([message], typespec_definitions=tsp_solution.data.output.typespec_definitions)\n",
    "    router_root = router.RouterTaskNode(router_data)\n",
    "    router_solution = common.bfs(router_root)\n",
    "\n",
    "match router_solution.is_successful:\n",
    "    case True:\n",
    "        print(\"Router solution is successful.\")\n",
    "    case False:\n",
    "        raise Exception(\"Router solution is not successful.\")"
   ]
  },
  {
   "cell_type": "code",
   "execution_count": 47,
   "metadata": {},
   "outputs": [
    {
     "name": "stdout",
     "output_type": "stream",
     "text": [
      "Typescript solution is successful.\n"
     ]
    }
   ],
   "source": [
    "content = jinja_env.from_string(typescript.PROMPT).render(typespec_definitions=tsp_solution.data.output.typespec_definitions)\n",
    "message = {\"role\": \"user\", \"content\": content}\n",
    "with typescript.TypescriptTaskNode.platform(client, compiler, jinja_env):\n",
    "    ts_data = typescript.TypescriptTaskNode.run([message])\n",
    "    ts_root = typescript.TypescriptTaskNode(ts_data)\n",
    "    ts_solution = common.bfs(ts_root)\n",
    "\n",
    "match ts_solution.is_successful:\n",
    "    case True:\n",
    "        print(\"Typescript solution is successful.\")\n",
    "    case False:\n",
    "        raise Exception(\"Typescript solution is not successful.\")"
   ]
  },
  {
   "cell_type": "code",
   "execution_count": 48,
   "metadata": {},
   "outputs": [
    {
     "name": "stdout",
     "output_type": "stream",
     "text": [
      "Drizzle solution is successful.\n"
     ]
    }
   ],
   "source": [
    "content = jinja_env.from_string(drizzle.PROMPT).render(typespec_definitions=tsp_solution.data.output.typespec_definitions)\n",
    "message = {\"role\": \"user\", \"content\": content}\n",
    "with drizzle.DrizzleTaskNode.platform(client, compiler, jinja_env):\n",
    "    dzl_data = drizzle.DrizzleTaskNode.run([message])\n",
    "    dzl_root = drizzle.DrizzleTaskNode(dzl_data)\n",
    "    dzl_solution = common.bfs(dzl_root)\n",
    "\n",
    "match dzl_solution.is_successful:\n",
    "    case True:\n",
    "        print(\"Drizzle solution is successful.\")\n",
    "    case False:\n",
    "        raise Exception(\"Drizzle solution is not successful.\")"
   ]
  },
  {
   "cell_type": "code",
   "execution_count": 49,
   "metadata": {},
   "outputs": [
    {
     "data": {
      "text/plain": [
       "{'exit_code': 0,\n",
       " 'stdout': \"Reading config file '/app/drizzle.config.ts'\\nUsing 'pg' driver for database querying\\n[⣷] Pulling schema from database...\\n\\x1b[2K\\x1b[1G[✓] Pulling schema from database...\\n[✓] Changes applied\\n\",\n",
       " 'stderr': None}"
      ]
     },
     "execution_count": 49,
     "metadata": {},
     "output_type": "execute_result"
    }
   ],
   "source": [
    "dzl_solution.data.output.feedback"
   ]
  },
  {
   "cell_type": "code",
   "execution_count": 50,
   "metadata": {},
   "outputs": [
    {
     "name": "stdout",
     "output_type": "stream",
     "text": [
      "import { integer, pgTable, text, timestamp, uuid } from \"drizzle-orm/pg-core\";\n",
      "\n",
      "// Car details table\n",
      "export const carDetailsTable = pgTable(\"car_details\", {\n",
      "  id: uuid(\"id\").defaultRandom().primaryKey(),\n",
      "  carMake: text(\"car_make\").notNull(),\n",
      "  carModel: text(\"car_model\").notNull(),\n",
      "  yearMade: integer(\"year_made\"),\n",
      "});\n",
      "\n",
      "// Poem style table\n",
      "export const poemStyleTable = pgTable(\"poem_styles\", {\n",
      "  id: uuid(\"id\").defaultRandom().primaryKey(),\n",
      "  poemType: text(\"poem_type\").notNull(),\n",
      "  poemTone: text(\"poem_tone\").notNull(),\n",
      "});\n",
      "\n",
      "// Poems table\n",
      "export const poemsTable = pgTable(\"poems\", {\n",
      "  id: uuid(\"id\").defaultRandom().primaryKey(),\n",
      "  content: text(\"content\").notNull(),\n",
      "  createdAt: timestamp(\"created_at\").notNull().defaultNow(),\n",
      "  // Foreign keys\n",
      "  carDetailsId: uuid(\"car_details_id\")\n",
      "    .references(() => carDetailsTable.id)\n",
      "    .notNull(),\n",
      "  styleId: uuid(\"style_id\")\n",
      "    .references(() => poemStyleTable.id)\n",
      "    .notNull(),\n",
      "});\n"
     ]
    }
   ],
   "source": [
    "print(dzl_solution.data.output.drizzle_schema)"
   ]
  },
  {
   "cell_type": "code",
   "execution_count": 51,
   "metadata": {},
   "outputs": [],
   "source": [
    "def seach_handler(\n",
    "    function_name: str,\n",
    "    typespec_definitions: str,\n",
    "    typescript_schema: str,\n",
    "    drizzle_schema: str,\n",
    ") -> handlers.HandlerTaskNode:\n",
    "    prompt_params = {\n",
    "        \"application_description\": application_description,\n",
    "        \"function_name\": function_name,\n",
    "        \"typespec_schema\": typespec_definitions,\n",
    "        \"typescript_schema\": typescript_schema,\n",
    "        \"drizzle_schema\": drizzle_schema,\n",
    "    }\n",
    "    content = jinja_env.from_string(handlers.PROMPT).render(**prompt_params)\n",
    "    message = {\"role\": \"user\", \"content\": content}\n",
    "    output = handlers.HandlerTaskNode.run([message], **prompt_params)\n",
    "    root_node = handlers.HandlerTaskNode(output)\n",
    "    solution = common.bfs(root_node)\n",
    "    return solution"
   ]
  },
  {
   "cell_type": "code",
   "execution_count": 52,
   "metadata": {},
   "outputs": [],
   "source": [
    "MAX_WORKERS = 5\n",
    "results: dict[str, handlers.HandlerOutput] = {}\n",
    "with handlers.HandlerTaskNode.platform(client, compiler, jinja_env):\n",
    "    with concurrent.futures.ThreadPoolExecutor(MAX_WORKERS) as executor:\n",
    "        future_to_handler = {}\n",
    "        for function_name in tsp_solution.data.output.llm_functions:\n",
    "            future_to_handler[executor.submit(\n",
    "                seach_handler,\n",
    "                function_name,\n",
    "                tsp_solution.data.output.typespec_definitions,\n",
    "                ts_solution.data.output.typescript_schema,\n",
    "                dzl_solution.data.output.drizzle_schema,\n",
    "            )] = function_name\n",
    "        for future in concurrent.futures.as_completed(future_to_handler):\n",
    "            function_name, result = future_to_handler[future], future.result()\n",
    "            results[function_name] = result"
   ]
  },
  {
   "cell_type": "code",
   "execution_count": 53,
   "metadata": {},
   "outputs": [
    {
     "name": "stdout",
     "output_type": "stream",
     "text": [
      "Handler getPreviousPoems\n",
      "None\n",
      "0\n",
      "Handler generatePoem\n",
      "None\n",
      "0\n"
     ]
    }
   ],
   "source": [
    "for key, val in results.items():\n",
    "    print(\"Handler\", key)\n",
    "    print(val.data.output.feedback[\"stdout\"])\n",
    "    print(val.depth)"
   ]
  },
  {
   "cell_type": "code",
   "execution_count": 54,
   "metadata": {},
   "outputs": [
    {
     "name": "stdout",
     "output_type": "stream",
     "text": [
      "export interface CarDetails {\n",
      "    carMake: string;\n",
      "    carModel: string;\n",
      "    yearMade: number | null;\n",
      "}\n",
      "\n",
      "export interface PoemStyle {\n",
      "    poemType: string;\n",
      "    poemTone: string;\n",
      "}\n",
      "\n",
      "export interface Poem {\n",
      "    carInfo: CarDetails;\n",
      "    content: string;\n",
      "    style: PoemStyle;\n",
      "    createdAt: Date;\n",
      "}\n",
      "\n",
      "export interface CarPoetBot {\n",
      "    generatePoem(carDetails: CarDetails, poemStyle: PoemStyle): Promise<Poem>;\n",
      "    getPreviousPoems(carInfo: CarDetails): Promise<Poem[]>;\n",
      "}\n"
     ]
    }
   ],
   "source": [
    "print(ts_data.output.typescript_schema)"
   ]
  },
  {
   "cell_type": "code",
   "execution_count": 55,
   "metadata": {},
   "outputs": [
    {
     "ename": "KeyError",
     "evalue": "'generateCarPoem'",
     "output_type": "error",
     "traceback": [
      "\u001b[0;31m---------------------------------------------------------------------------\u001b[0m",
      "\u001b[0;31mKeyError\u001b[0m                                  Traceback (most recent call last)",
      "Cell \u001b[0;32mIn[55], line 1\u001b[0m\n\u001b[0;32m----> 1\u001b[0m \u001b[38;5;28mprint\u001b[39m(\u001b[43mresults\u001b[49m\u001b[43m[\u001b[49m\u001b[38;5;124;43m\"\u001b[39;49m\u001b[38;5;124;43mgenerateCarPoem\u001b[39;49m\u001b[38;5;124;43m\"\u001b[39;49m\u001b[43m]\u001b[49m\u001b[38;5;241m.\u001b[39mdata\u001b[38;5;241m.\u001b[39moutput\u001b[38;5;241m.\u001b[39mhandler)\n",
      "\u001b[0;31mKeyError\u001b[0m: 'generateCarPoem'"
     ]
    }
   ],
   "source": [
    "print(results[\"generateCarPoem\"].data.output.handler)"
   ]
  },
  {
   "cell_type": "code",
   "execution_count": null,
   "metadata": {},
   "outputs": [
    {
     "ename": "KeyError",
     "evalue": "'greet'",
     "output_type": "error",
     "traceback": [
      "\u001b[0;31m---------------------------------------------------------------------------\u001b[0m",
      "\u001b[0;31mKeyError\u001b[0m                                  Traceback (most recent call last)",
      "Cell \u001b[0;32mIn[27], line 1\u001b[0m\n\u001b[0;32m----> 1\u001b[0m \u001b[43mresults\u001b[49m\u001b[43m[\u001b[49m\u001b[38;5;124;43m\"\u001b[39;49m\u001b[38;5;124;43mgreet\u001b[39;49m\u001b[38;5;124;43m\"\u001b[39;49m\u001b[43m]\u001b[49m\u001b[38;5;241m.\u001b[39moutput\u001b[38;5;241m.\u001b[39mfeedback\n",
      "\u001b[0;31mKeyError\u001b[0m: 'greet'"
     ]
    }
   ],
   "source": [
    "results[\"greet\"].output.feedback"
   ]
  },
  {
   "cell_type": "code",
   "execution_count": 28,
   "metadata": {},
   "outputs": [],
   "source": [
    "content = jinja_env.from_string(handlers.PROMPT).render(\n",
    "    typespec_schema=tsp_solution.data.output.typespec_definitions,\n",
    "    typescript_schema=ts_solution.data.output.typescript_schema,\n",
    "    drizzle_schema=dzl_solution.data.output.drizzle_schema\n",
    ")\n",
    "message = {\"role\": \"user\", \"content\": content}\n",
    "with handlers.HandlerTaskNode.platform(client, compiler, jinja_env):\n",
    "    output = handlers.HandlerTaskNode.run([message],\n",
    "                                          function_name=\"generateGreeting\",\n",
    "                                          typespec_schema=tsp_solution.data.output.typespec_definitions,\n",
    "                                          typescript_schema=ts_solution.data.output.typescript_schema,\n",
    "                                          drizzle_schema=dzl_solution.data.output.drizzle_schema)"
   ]
  },
  {
   "cell_type": "code",
   "execution_count": 29,
   "metadata": {},
   "outputs": [
    {
     "name": "stdout",
     "output_type": "stream",
     "text": [
      "{'exit_code': 0, 'stdout': None, 'stderr': None}\n"
     ]
    }
   ],
   "source": [
    "print(output.output.feedback)"
   ]
  },
  {
   "cell_type": "code",
   "execution_count": 30,
   "metadata": {},
   "outputs": [
    {
     "name": "stdout",
     "output_type": "stream",
     "text": [
      "import { db } from \"../db\";\n",
      "import type { GreetingParams } from \"../common/schema\";\n",
      "import { greetingParamsTable, generatedGreetingsTable } from \"../db/schema/application\";\n",
      "\n",
      "interface Options {\n",
      "    params: GreetingParams;\n",
      "}\n",
      "\n",
      "interface Output {\n",
      "    greetingId: string;\n",
      "    greeting: string;\n",
      "}\n",
      "\n",
      "export const handle = async (options: Options): Promise<Output> => {\n",
      "    const [paramsResult] = await db.insert(greetingParamsTable)\n",
      "        .values({\n",
      "            name: options.params.name,\n",
      "            time_of_day: options.params.timeOfDay\n",
      "        })\n",
      "        .returning({ id: greetingParamsTable.id });\n",
      "\n",
      "    const greeting = `Hello${options.params.name ? \" \" + options.params.name : \"\"}${options.params.timeOfDay ? \", good \" + options.params.timeOfDay : \"\"}!`;\n",
      "\n",
      "    const [greetingResult] = await db.insert(generatedGreetingsTable)\n",
      "        .values({\n",
      "            params_id: paramsResult.id,\n",
      "            greeting_text: greeting\n",
      "        })\n",
      "        .returning({ id: generatedGreetingsTable.id });\n",
      "\n",
      "    return {\n",
      "        greetingId: greetingResult.id,\n",
      "        greeting\n",
      "    };\n",
      "};\n"
     ]
    }
   ],
   "source": [
    "print(output.output.handler)"
   ]
  },
  {
   "cell_type": "code",
   "execution_count": null,
   "metadata": {},
   "outputs": [],
   "source": []
  }
 ],
 "metadata": {
  "kernelspec": {
   "display_name": ".venv",
   "language": "python",
   "name": "python3"
  },
  "language_info": {
   "codemirror_mode": {
    "name": "ipython",
    "version": 3
   },
   "file_extension": ".py",
   "mimetype": "text/x-python",
   "name": "python",
   "nbconvert_exporter": "python",
   "pygments_lexer": "ipython3",
   "version": "3.12.3"
  }
 },
 "nbformat": 4,
 "nbformat_minor": 2
}
