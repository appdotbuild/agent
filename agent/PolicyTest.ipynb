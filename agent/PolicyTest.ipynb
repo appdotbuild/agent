{
 "cells": [
  {
   "cell_type": "code",
   "execution_count": 1,
   "metadata": {},
   "outputs": [],
   "source": [
    "import jinja2\n",
    "from  anthropic import AnthropicBedrock\n",
    "from compiler.core import Compiler\n",
    "from tracing_client import TracingClient\n",
    "from policies import common, handlers"
   ]
  },
  {
   "cell_type": "code",
   "execution_count": 2,
   "metadata": {},
   "outputs": [],
   "source": [
    "jinja_env = jinja2.Environment()\n",
    "compiler = Compiler(\"botbuild/app_schema\", \"botbuild/app_schema\")\n",
    "client = TracingClient(AnthropicBedrock(aws_profile=\"dev\", aws_region=\"us-west-2\"))"
   ]
  },
  {
   "cell_type": "code",
   "execution_count": 3,
   "metadata": {},
   "outputs": [],
   "source": [
    "application_description = \"Bot that always responds with a greeting.\"\n",
    "application_description = \"Bot that writes poems about cars.\""
   ]
  },
  {
   "cell_type": "code",
   "execution_count": 4,
   "metadata": {},
   "outputs": [],
   "source": [
    "import os\n",
    "\n",
    "DATASET_DIR = \"evals/dataset.min/\"\n",
    "files = os.listdir(DATASET_DIR)\n",
    "drizzle_file = \"car_poem_drizzle_schema.ts\"\n",
    "typescript_file = \"car_poem_typescript_schema.ts\"\n",
    "with open(os.path.join(DATASET_DIR, drizzle_file), \"r\", encoding=\"utf-8\") as f:\n",
    "    drizzle_schema = f.read()\n",
    "with open(os.path.join(DATASET_DIR, typescript_file), \"r\", encoding=\"utf-8\") as f:\n",
    "    typespec_definitions = f.read()\n",
    "\n",
    "content = jinja_env.from_string(handlers.PROMPT).render(application_description=application_description,#\n",
    "                                                        function_name=\"getCarPoem\", \n",
    "                                                        drizzle_schema=drizzle_file, \n",
    "                                                        typespec_definitions=typespec_definitions)\n",
    "message = {\"role\": \"user\", \"content\": content}"
   ]
  },
  {
   "cell_type": "code",
   "execution_count": 5,
   "metadata": {},
   "outputs": [
    {
     "name": "stderr",
     "output_type": "stream",
     "text": [
      "Langfuse client is disabled since no public_key was provided as a parameter or environment variable 'LANGFUSE_PUBLIC_KEY'. See our docs: https://langfuse.com/docs/sdk/python/low-level-sdk#initialize-client\n"
     ]
    }
   ],
   "source": [
    "with handlers.HandlerTaskNode.platform(client, compiler, jinja_env):\n",
    "    output = handlers.HandlerTaskNode.run([message], function_name=\"getCarPoem\")"
   ]
  },
  {
   "cell_type": "code",
   "execution_count": null,
   "metadata": {},
   "outputs": [],
   "source": []
  },
  {
   "cell_type": "code",
   "execution_count": 6,
   "metadata": {},
   "outputs": [
    {
     "data": {
      "text/plain": [
       "HandlerOutput(handler='import { db } from \"../db\";\\nimport { carPoemTable } from \"../db/schema/car_poem_drizzle_schema\";\\n\\ninterface Options {\\n    carId: number;\\n}\\n\\nconst handle = async (options: Options): Promise<string> => {\\n    const result = await db\\n        .select()\\n        .from(carPoemTable)\\n        .where(eq(carPoemTable.carId, options.carId))\\n        .limit(1);\\n\\n    if (result.length === 0) {\\n        throw new Error(`No poem found for car ID: ${options.carId}`);\\n    }\\n\\n    return result[0].poemText;\\n};', feedback={'exit_code': 2, 'stdout': \"src/handlers/dec46e48-39d4-4881-b48c-e04074da73c3.ts(2,30): error TS2307: Cannot find module '../db/schema/car_poem_drizzle_schema' or its corresponding type declarations.\\nsrc/handlers/dec46e48-39d4-4881-b48c-e04074da73c3.ts(8,7): error TS6133: 'handle' is declared but its value is never read.\\nsrc/handlers/dec46e48-39d4-4881-b48c-e04074da73c3.ts(12,16): error TS2304: Cannot find name 'eq'.\\nsrc/handlers/dec46e48-39d4-4881-b48c-e04074da73c3.ts(19,22): error TS4111: Property 'poemText' comes from an index signature, so it must be accessed with ['poemText'].\\n\", 'stderr': None})"
      ]
     },
     "execution_count": 6,
     "metadata": {},
     "output_type": "execute_result"
    }
   ],
   "source": [
    "output.output.handler\n"
   ]
  },
  {
   "cell_type": "code",
   "execution_count": 7,
   "metadata": {},
   "outputs": [],
   "source": [
    "root = handlers.HandlerTaskNode(output)"
   ]
  },
  {
   "cell_type": "code",
   "execution_count": 8,
   "metadata": {},
   "outputs": [],
   "source": [
    "with handlers.HandlerTaskNode.platform(client, compiler, jinja_env):\n",
    "    solution = common.bfs(root)"
   ]
  },
  {
   "cell_type": "code",
   "execution_count": 9,
   "metadata": {},
   "outputs": [
    {
     "data": {
      "text/plain": [
       "(0, 0)"
      ]
     },
     "execution_count": 9,
     "metadata": {},
     "output_type": "execute_result"
    }
   ],
   "source": [
    "solution.score, solution.depth"
   ]
  },
  {
   "cell_type": "code",
   "execution_count": 10,
   "metadata": {},
   "outputs": [],
   "source": [
    "if solution.parent:\n",
    "    for node in solution.parent.children:\n",
    "      print(node.is_successful, node.data.output)"
   ]
  },
  {
   "cell_type": "code",
   "execution_count": 11,
   "metadata": {},
   "outputs": [],
   "source": [
    "with handlers.HandlerTaskNode.platform(client, compiler, jinja_env):\n",
    "    args = root.run_args"
   ]
  },
  {
   "cell_type": "code",
   "execution_count": 12,
   "metadata": {},
   "outputs": [
    {
     "data": {
      "text/plain": [
       "[{'role': 'assistant',\n",
       "  'content': 'Based on the provided context, I\\'ll generate a handler for the `getCarPoem` function that focuses on database operations. Since there\\'s no TypeSpec definition provided, I\\'ll assume this handler needs to generate or retrieve car-related poems from a database.\\n\\n<handler>\\nimport { db } from \"../db\";\\nimport { carPoems } from \\'../db/schema/car_poem_drizzle_schema\\';\\nimport { eq } from \\'drizzle-orm\\';\\n\\ninterface Options {\\n    carBrand?: string;\\n    carModel?: string;\\n}\\n\\nconst handle = async (options: Options): Promise<string> => {\\n    // Try to find an existing poem first\\n    const existingPoem = await db\\n        .select()\\n        .from(carPoems)\\n        .where(\\n            options.carModel \\n                ? eq(carPoems.carModel, options.carModel)\\n                : eq(carPoems.carBrand, options.carBrand!)\\n        )\\n        .limit(1);\\n\\n    // Return existing poem if found\\n    if (existingPoem.length > 0) {\\n        return existingPoem[0].poemContent;\\n    }\\n\\n    // If no poem exists, create new entry with empty content\\n    // (actual poem content would be generated by LLM in pre/post processors)\\n    const newPoem = await db\\n        .insert(carPoems)\\n        .values({\\n            carBrand: options.carBrand,\\n            carModel: options.carModel,\\n            poemContent: \\'\\',\\n            createdAt: new Date()\\n        })\\n        .returning();\\n\\n    return newPoem[0].poemContent;\\n};\\n</handler>\\n\\nNote: This handler focuses on the database operations for storing and retrieving car poems. The actual poem generation would typically happen in the pre/post processors using an LLM. The handler maintains the poems\\' persistence layer, looking up existing poems for specific car brands/models and creating new entries when needed.'},\n",
       " {'role': 'user',\n",
       "  'content': '\\nMake sure to address following TypeScript compilation errors:\\n<errors>\\nsrc/handlers/7b0ac257-2e3c-4c14-a3b1-544788748137.ts(2,26): error TS1109: Expression expected.\\nsrc/handlers/7b0ac257-2e3c-4c14-a3b1-544788748137.ts(2,27): error TS1003: Identifier expected.\\nsrc/handlers/7b0ac257-2e3c-4c14-a3b1-544788748137.ts(2,28): error TS1003: Identifier expected.\\nsrc/handlers/7b0ac257-2e3c-4c14-a3b1-544788748137.ts(34,26): error TS1109: Expression expected.\\n\\n</errors>\\n\\nVerify absence of reserved keywords in property names, type names, and function names.\\nReturn fixed complete TypeScript definition encompassed with <typescript> tag.'}]"
      ]
     },
     "execution_count": 12,
     "metadata": {},
     "output_type": "execute_result"
    }
   ],
   "source": [
    "args"
   ]
  },
  {
   "cell_type": "code",
   "execution_count": null,
   "metadata": {},
   "outputs": [],
   "source": []
  }
 ],
 "metadata": {
  "kernelspec": {
   "display_name": ".venv",
   "language": "python",
   "name": "python3"
  },
  "language_info": {
   "codemirror_mode": {
    "name": "ipython",
    "version": 3
   },
   "file_extension": ".py",
   "mimetype": "text/x-python",
   "name": "python",
   "nbconvert_exporter": "python",
   "pygments_lexer": "ipython3",
   "version": "3.12.3"
  }
 },
 "nbformat": 4,
 "nbformat_minor": 2
}
