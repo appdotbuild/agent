{
 "cells": [
  {
   "cell_type": "code",
   "execution_count": 1,
   "metadata": {},
   "outputs": [],
   "source": [
    "import jinja2\n",
    "from  anthropic import AnthropicBedrock\n",
    "from compiler.core import Compiler\n",
    "from tracing_client import TracingClient\n",
    "from policies import common, handlers"
   ]
  },
  {
   "cell_type": "code",
   "execution_count": 2,
   "metadata": {},
   "outputs": [],
   "source": [
    "jinja_env = jinja2.Environment()\n",
    "compiler = Compiler(\"botbuild/app_schema\", \"botbuild/app_schema\")\n",
    "client = TracingClient(AnthropicBedrock(aws_profile=\"dev\", aws_region=\"us-west-2\"))"
   ]
  },
  {
   "cell_type": "code",
   "execution_count": 3,
   "metadata": {},
   "outputs": [],
   "source": [
    "application_description = \"Bot that always responds with a greeting.\"\n",
    "application_description = \"Bot that writes poems about cars.\""
   ]
  },
  {
   "cell_type": "code",
   "execution_count": 4,
   "metadata": {},
   "outputs": [],
   "source": [
    "import os\n",
    "\n",
    "DATASET_DIR = \"evals/dataset.min/\"\n",
    "files = os.listdir(DATASET_DIR)\n",
    "drizzle_file = \"car_poem_drizzle_schema.ts\"\n",
    "typescript_file = \"car_poem_typescript_schema.ts\"\n",
    "with open(os.path.join(DATASET_DIR, drizzle_file), \"r\", encoding=\"utf-8\") as f:\n",
    "    drizzle_schema = f.read()\n",
    "with open(os.path.join(DATASET_DIR, typescript_file), \"r\", encoding=\"utf-8\") as f:\n",
    "    typespec_definitions = f.read()\n",
    "\n",
    "content = jinja_env.from_string(handlers.PROMPT).render(application_description=application_description, function_name=\"getCarPoem\", drizzle_schema=drizzle_file, typespec_definitions=typespec_definitions)\n",
    "message = {\"role\": \"user\", \"content\": content}"
   ]
  },
  {
   "cell_type": "code",
   "execution_count": 5,
   "metadata": {},
   "outputs": [
    {
     "name": "stderr",
     "output_type": "stream",
     "text": [
      "Langfuse client is disabled since no public_key was provided as a parameter or environment variable 'LANGFUSE_PUBLIC_KEY'. See our docs: https://langfuse.com/docs/sdk/python/low-level-sdk#initialize-client\n"
     ]
    }
   ],
   "source": [
    "with handlers.HandlerTaskNode.platform(client, compiler, jinja_env):\n",
    "    output = handlers.HandlerTaskNode.run([message])"
   ]
  },
  {
   "cell_type": "code",
   "execution_count": 6,
   "metadata": {},
   "outputs": [
    {
     "data": {
      "text/plain": [
       "AttributeError(\"'str' object has no attribute 'items'\")"
      ]
     },
     "execution_count": 6,
     "metadata": {},
     "output_type": "execute_result"
    }
   ],
   "source": [
    "output.output"
   ]
  },
  {
   "cell_type": "code",
   "execution_count": 7,
   "metadata": {},
   "outputs": [],
   "source": [
    "root = handlers.HandlerTaskNode(output)"
   ]
  },
  {
   "cell_type": "code",
   "execution_count": null,
   "metadata": {},
   "outputs": [],
   "source": [
    "with handlers.HandlerTaskNode.platform(client, compiler, jinja_env):\n",
    "    output = root.run()\n"
   ]
  },
  {
   "cell_type": "code",
   "execution_count": 8,
   "metadata": {},
   "outputs": [],
   "source": [
    "with handlers.HandlerTaskNode.platform(client, compiler, jinja_env):\n",
    "    solution = common.bfs(root)"
   ]
  },
  {
   "cell_type": "code",
   "execution_count": 9,
   "metadata": {},
   "outputs": [
    {
     "data": {
      "text/plain": [
       "(0, 0)"
      ]
     },
     "execution_count": 9,
     "metadata": {},
     "output_type": "execute_result"
    }
   ],
   "source": [
    "solution.score, solution.depth"
   ]
  },
  {
   "cell_type": "code",
   "execution_count": 10,
   "metadata": {},
   "outputs": [
    {
     "ename": "AttributeError",
     "evalue": "'NoneType' object has no attribute 'children'",
     "output_type": "error",
     "traceback": [
      "\u001b[0;31m---------------------------------------------------------------------------\u001b[0m",
      "\u001b[0;31mAttributeError\u001b[0m                            Traceback (most recent call last)",
      "Cell \u001b[0;32mIn[10], line 1\u001b[0m\n\u001b[0;32m----> 1\u001b[0m \u001b[38;5;28;01mfor\u001b[39;00m node \u001b[38;5;129;01min\u001b[39;00m \u001b[43msolution\u001b[49m\u001b[38;5;241;43m.\u001b[39;49m\u001b[43mparent\u001b[49m\u001b[38;5;241;43m.\u001b[39;49m\u001b[43mchildren\u001b[49m:\n\u001b[1;32m      2\u001b[0m     \u001b[38;5;28mprint\u001b[39m(node\u001b[38;5;241m.\u001b[39mis_successful, node\u001b[38;5;241m.\u001b[39mdata\u001b[38;5;241m.\u001b[39moutput)\n",
      "\u001b[0;31mAttributeError\u001b[0m: 'NoneType' object has no attribute 'children'"
     ]
    }
   ],
   "source": [
    "for node in solution.parent.children:\n",
    "    print(node.is_successful, node.data.output)"
   ]
  },
  {
   "cell_type": "code",
   "execution_count": 11,
   "metadata": {},
   "outputs": [],
   "source": [
    "with handlers.HandlerTaskNode.platform(client, compiler, jinja_env):\n",
    "    args = root.run_args"
   ]
  },
  {
   "cell_type": "code",
   "execution_count": 12,
   "metadata": {},
   "outputs": [
    {
     "data": {
      "text/plain": [
       "[{'role': 'assistant',\n",
       "  'content': '<reasoning>\\nFor a bot that writes poems about cars, I expect users to send messages like \"Write a poem about Tesla Model S\" or \"Create a haiku about vintage Mustang\".\\nThe LLM needs to extract:\\n1. Car details (make, model, year if specified)\\n2. Poetry style (if specified, otherwise default)\\n3. Tone/mood (if specified)\\n\\nThe main function would be createPoem which takes these parameters.\\nAdditional function getPoemHistory to retrieve previous poems about specific cars.\\n\\nThe Car model should contain basic car details, and Poem model should contain both the poem text and metadata about the style and tone.\\n</reasoning>\\n\\n<typespec>\\nmodel Car {\\n    make: string;\\n    model: string;\\n    year: integer;\\n}\\n\\nmodel Poem {\\n    car: Car;\\n    text: string;\\n    style: string;\\n    tone: string;\\n    createdAt: utcDateTime;\\n}\\n\\ninterface CarPoetBot {\\n    @llm_func(2)\\n    createPoem(car: Car, style: string, tone: string): Poem;\\n\\n    @llm_func(1)\\n    getPoemHistory(car: Car, from: utcDateTime, to: utcDateTime): Poem[];\\n}\\n</typespec>'},\n",
       " {'role': 'user',\n",
       "  'content': \"\\nMake sure to address following TypeSpec compilation errors:\\n<errors>\\nTypeSpec compiler v0.64.0\\n\\nDiagnostics were reported during compilation:\\n\\nschema.tsp:4:18 - error token-expected: '}' expected.\\n> 4 |     make: string;\\n    |                  ^\\n> 5 |     model: string;\\n    | ^\\nschema.tsp:5:10 - error token-expected: Identifier expected.\\n> 5 |     model: string;\\n    |          ^\\n\\nFound 2 errors.\\n\\n\\n</errors>\\n\\nVerify absence of reserved keywords in property names, type names, and function names.\\nReturn <reasoning> and fixed complete TypeSpec definition encompassed with <typespec> tag.\"}]"
      ]
     },
     "execution_count": 12,
     "metadata": {},
     "output_type": "execute_result"
    }
   ],
   "source": [
    "args"
   ]
  },
  {
   "cell_type": "code",
   "execution_count": null,
   "metadata": {},
   "outputs": [],
   "source": []
  }
 ],
 "metadata": {
  "kernelspec": {
   "display_name": ".venv",
   "language": "python",
   "name": "python3"
  },
  "language_info": {
   "codemirror_mode": {
    "name": "ipython",
    "version": 3
   },
   "file_extension": ".py",
   "mimetype": "text/x-python",
   "name": "python",
   "nbconvert_exporter": "python",
   "pygments_lexer": "ipython3",
   "version": "3.12.3"
  }
 },
 "nbformat": 4,
 "nbformat_minor": 2
}
